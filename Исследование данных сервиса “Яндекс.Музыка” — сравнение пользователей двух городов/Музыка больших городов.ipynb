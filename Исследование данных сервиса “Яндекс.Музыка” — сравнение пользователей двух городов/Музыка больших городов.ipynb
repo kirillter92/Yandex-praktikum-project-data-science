{
 "cells": [
  {
   "cell_type": "markdown",
   "metadata": {
    "id": "E0vqbgi9ay0H"
   },
   "source": [
    "# Яндекс.Музыка"
   ]
  },
  {
   "cell_type": "markdown",
   "metadata": {
    "id": "VUC88oWjTJw2"
   },
   "source": [
    "Сравнение Москвы и Петербурга окружено мифами. Например:\n",
    " * Москва — мегаполис, подчинённый жёсткому ритму рабочей недели;\n",
    " * Петербург — культурная столица, со своими вкусами.\n",
    "\n",
    "На данных Яндекс.Музыки вы сравните поведение пользователей двух столиц.\n",
    "\n",
    "**Цель исследования** — проверьте три гипотезы:\n",
    "1. Активность пользователей зависит от дня недели. Причём в Москве и Петербурге это проявляется по-разному.\n",
    "2. В понедельник утром в Москве преобладают одни жанры, а в Петербурге — другие. Так же и вечером пятницы преобладают разные жанры — в зависимости от города. \n",
    "3. Москва и Петербург предпочитают разные жанры музыки. В Москве чаще слушают поп-музыку, в Петербурге — русский рэп.\n",
    "\n",
    "**Ход исследования**\n",
    "\n",
    "Данные о поведении пользователей вы получите из файла `yandex_music_project.csv`. О качестве данных ничего не известно. Поэтому перед проверкой гипотез понадобится обзор данных. \n",
    "\n",
    "Вы проверите данные на ошибки и оцените их влияние на исследование. Затем, на этапе предобработки вы поищете возможность исправить самые критичные ошибки данных.\n",
    " \n",
    "Таким образом, исследование пройдёт в три этапа:\n",
    " 1. Обзор данных.\n",
    " 2. Предобработка данных.\n",
    " 3. Проверка гипотез.\n",
    "\n"
   ]
  },
  {
   "cell_type": "markdown",
   "metadata": {
    "id": "Ml1hmfXC_Zcs"
   },
   "source": [
    "## Обзор данных\n",
    "\n",
    "Составьте первое представление о данных Яндекс.Музыки.\n",
    "\n",
    "\n"
   ]
  },
  {
   "cell_type": "markdown",
   "metadata": {
    "id": "57eAOGIz_Zcs"
   },
   "source": [
    "Основной инструмент аналитика — `pandas`. Импортируйте эту библиотеку."
   ]
  },
  {
   "cell_type": "code",
   "execution_count": 1,
   "metadata": {
    "id": "AXN7PHPN_Zcs"
   },
   "outputs": [],
   "source": [
    "import pandas as pd "
   ]
  },
  {
   "cell_type": "markdown",
   "metadata": {
    "id": "SG23P8tt_Zcs"
   },
   "source": [
    "Прочитайте файл `yandex_music_project.csv` из папки `/datasets` и сохраните его в переменной `df`:"
   ]
  },
  {
   "cell_type": "code",
   "execution_count": 2,
   "metadata": {
    "id": "fFVu7vqh_Zct"
   },
   "outputs": [],
   "source": [
    "df = pd.read_csv('/datasets/yandex_music_project.csv')"
   ]
  },
  {
   "cell_type": "markdown",
   "metadata": {
    "id": "rDoOMd3uTqnZ"
   },
   "source": [
    "Выведите на экран первые десять строк таблицы:"
   ]
  },
  {
   "cell_type": "code",
   "execution_count": 3,
   "metadata": {
    "id": "oWTVX3gW_Zct"
   },
   "outputs": [
    {
     "data": {
      "text/html": [
       "<div>\n",
       "<style scoped>\n",
       "    .dataframe tbody tr th:only-of-type {\n",
       "        vertical-align: middle;\n",
       "    }\n",
       "\n",
       "    .dataframe tbody tr th {\n",
       "        vertical-align: top;\n",
       "    }\n",
       "\n",
       "    .dataframe thead th {\n",
       "        text-align: right;\n",
       "    }\n",
       "</style>\n",
       "<table border=\"1\" class=\"dataframe\">\n",
       "  <thead>\n",
       "    <tr style=\"text-align: right;\">\n",
       "      <th></th>\n",
       "      <th>userID</th>\n",
       "      <th>Track</th>\n",
       "      <th>artist</th>\n",
       "      <th>genre</th>\n",
       "      <th>City</th>\n",
       "      <th>time</th>\n",
       "      <th>Day</th>\n",
       "    </tr>\n",
       "  </thead>\n",
       "  <tbody>\n",
       "    <tr>\n",
       "      <td>0</td>\n",
       "      <td>FFB692EC</td>\n",
       "      <td>Kamigata To Boots</td>\n",
       "      <td>The Mass Missile</td>\n",
       "      <td>rock</td>\n",
       "      <td>Saint-Petersburg</td>\n",
       "      <td>20:28:33</td>\n",
       "      <td>Wednesday</td>\n",
       "    </tr>\n",
       "    <tr>\n",
       "      <td>1</td>\n",
       "      <td>55204538</td>\n",
       "      <td>Delayed Because of Accident</td>\n",
       "      <td>Andreas Rönnberg</td>\n",
       "      <td>rock</td>\n",
       "      <td>Moscow</td>\n",
       "      <td>14:07:09</td>\n",
       "      <td>Friday</td>\n",
       "    </tr>\n",
       "    <tr>\n",
       "      <td>2</td>\n",
       "      <td>20EC38</td>\n",
       "      <td>Funiculì funiculà</td>\n",
       "      <td>Mario Lanza</td>\n",
       "      <td>pop</td>\n",
       "      <td>Saint-Petersburg</td>\n",
       "      <td>20:58:07</td>\n",
       "      <td>Wednesday</td>\n",
       "    </tr>\n",
       "    <tr>\n",
       "      <td>3</td>\n",
       "      <td>A3DD03C9</td>\n",
       "      <td>Dragons in the Sunset</td>\n",
       "      <td>Fire + Ice</td>\n",
       "      <td>folk</td>\n",
       "      <td>Saint-Petersburg</td>\n",
       "      <td>08:37:09</td>\n",
       "      <td>Monday</td>\n",
       "    </tr>\n",
       "    <tr>\n",
       "      <td>4</td>\n",
       "      <td>E2DC1FAE</td>\n",
       "      <td>Soul People</td>\n",
       "      <td>Space Echo</td>\n",
       "      <td>dance</td>\n",
       "      <td>Moscow</td>\n",
       "      <td>08:34:34</td>\n",
       "      <td>Monday</td>\n",
       "    </tr>\n",
       "    <tr>\n",
       "      <td>5</td>\n",
       "      <td>842029A1</td>\n",
       "      <td>Преданная</td>\n",
       "      <td>IMPERVTOR</td>\n",
       "      <td>rusrap</td>\n",
       "      <td>Saint-Petersburg</td>\n",
       "      <td>13:09:41</td>\n",
       "      <td>Friday</td>\n",
       "    </tr>\n",
       "    <tr>\n",
       "      <td>6</td>\n",
       "      <td>4CB90AA5</td>\n",
       "      <td>True</td>\n",
       "      <td>Roman Messer</td>\n",
       "      <td>dance</td>\n",
       "      <td>Moscow</td>\n",
       "      <td>13:00:07</td>\n",
       "      <td>Wednesday</td>\n",
       "    </tr>\n",
       "    <tr>\n",
       "      <td>7</td>\n",
       "      <td>F03E1C1F</td>\n",
       "      <td>Feeling This Way</td>\n",
       "      <td>Polina Griffith</td>\n",
       "      <td>dance</td>\n",
       "      <td>Moscow</td>\n",
       "      <td>20:47:49</td>\n",
       "      <td>Wednesday</td>\n",
       "    </tr>\n",
       "    <tr>\n",
       "      <td>8</td>\n",
       "      <td>8FA1D3BE</td>\n",
       "      <td>И вновь продолжается бой</td>\n",
       "      <td>NaN</td>\n",
       "      <td>ruspop</td>\n",
       "      <td>Moscow</td>\n",
       "      <td>09:17:40</td>\n",
       "      <td>Friday</td>\n",
       "    </tr>\n",
       "    <tr>\n",
       "      <td>9</td>\n",
       "      <td>E772D5C0</td>\n",
       "      <td>Pessimist</td>\n",
       "      <td>NaN</td>\n",
       "      <td>dance</td>\n",
       "      <td>Saint-Petersburg</td>\n",
       "      <td>21:20:49</td>\n",
       "      <td>Wednesday</td>\n",
       "    </tr>\n",
       "  </tbody>\n",
       "</table>\n",
       "</div>"
      ],
      "text/plain": [
       "     userID                        Track            artist   genre  \\\n",
       "0  FFB692EC            Kamigata To Boots  The Mass Missile    rock   \n",
       "1  55204538  Delayed Because of Accident  Andreas Rönnberg    rock   \n",
       "2    20EC38            Funiculì funiculà       Mario Lanza     pop   \n",
       "3  A3DD03C9        Dragons in the Sunset        Fire + Ice    folk   \n",
       "4  E2DC1FAE                  Soul People        Space Echo   dance   \n",
       "5  842029A1                    Преданная         IMPERVTOR  rusrap   \n",
       "6  4CB90AA5                         True      Roman Messer   dance   \n",
       "7  F03E1C1F             Feeling This Way   Polina Griffith   dance   \n",
       "8  8FA1D3BE     И вновь продолжается бой               NaN  ruspop   \n",
       "9  E772D5C0                    Pessimist               NaN   dance   \n",
       "\n",
       "             City        time        Day  \n",
       "0  Saint-Petersburg  20:28:33  Wednesday  \n",
       "1            Moscow  14:07:09     Friday  \n",
       "2  Saint-Petersburg  20:58:07  Wednesday  \n",
       "3  Saint-Petersburg  08:37:09     Monday  \n",
       "4            Moscow  08:34:34     Monday  \n",
       "5  Saint-Petersburg  13:09:41     Friday  \n",
       "6            Moscow  13:00:07  Wednesday  \n",
       "7            Moscow  20:47:49  Wednesday  \n",
       "8            Moscow  09:17:40     Friday  \n",
       "9  Saint-Petersburg  21:20:49  Wednesday  "
      ]
     },
     "execution_count": 3,
     "metadata": {},
     "output_type": "execute_result"
    }
   ],
   "source": [
    "df.head(10)"
   ]
  },
  {
   "cell_type": "markdown",
   "metadata": {
    "id": "EO73Kwic_Zct"
   },
   "source": [
    "Одной командой получить общую информацию о таблице:"
   ]
  },
  {
   "cell_type": "code",
   "execution_count": 4,
   "metadata": {
    "id": "DSf2kIb-_Zct"
   },
   "outputs": [
    {
     "name": "stdout",
     "output_type": "stream",
     "text": [
      "<class 'pandas.core.frame.DataFrame'>\n",
      "RangeIndex: 65079 entries, 0 to 65078\n",
      "Data columns (total 7 columns):\n",
      "  userID    65079 non-null object\n",
      "Track       63848 non-null object\n",
      "artist      57876 non-null object\n",
      "genre       63881 non-null object\n",
      "  City      65079 non-null object\n",
      "time        65079 non-null object\n",
      "Day         65079 non-null object\n",
      "dtypes: object(7)\n",
      "memory usage: 3.5+ MB\n"
     ]
    }
   ],
   "source": [
    "df.info()"
   ]
  },
  {
   "cell_type": "markdown",
   "metadata": {
    "id": "TaQ2Iwbr_Zct"
   },
   "source": [
    "Итак, в таблице семь столбцов. Тип данных во всех столбцах — `object`.\n",
    "\n",
    "Согласно документации к данным:\n",
    "* `userID` — идентификатор пользователя;\n",
    "* `Track` — название трека;  \n",
    "* `artist` — имя исполнителя;\n",
    "* `genre` — название жанра;\n",
    "* `City` — город пользователя;\n",
    "* `time` — время начала прослушивания;\n",
    "* `Day` — день недели.\n",
    "\n",
    "В названиях колонок видны три нарушения стиля:\n",
    "1. Строчные буквы сочетаются с прописными.\n",
    "2. Встречаются пробелы.\n",
    "3. Отсутствие \"змеиного_регистра\".\n",
    "\n",
    "\n",
    "\n",
    "Количество значений в столбцах различается. Значит, в данных есть пропущенные значения.\n"
   ]
  },
  {
   "cell_type": "markdown",
   "metadata": {
    "id": "MCB6-dXG_Zct"
   },
   "source": [
    "**Выводы**\n",
    "\n",
    "В каждой строке таблицы — данные о прослушанном треке. Часть колонок описывает саму композицию: название, исполнителя и жанр. Остальные данные рассказывают о пользователе: из какого он города, когда он слушал музыку. \n",
    "\n",
    "Предварительно можно утверждать, что, данных достаточно для проверки гипотез. Но встречаются пропуски в данных, а в названиях колонок — расхождения с хорошим стилем.\n",
    "\n",
    "Чтобы двигаться дальше, нужно устранить проблемы в данных."
   ]
  },
  {
   "cell_type": "markdown",
   "metadata": {
    "id": "SjYF6Ub9_Zct"
   },
   "source": [
    "## Предобработка данных\n",
    "Исправьте стиль в заголовках столбцов, исключите пропуски. Затем проверьте данные на дубликаты."
   ]
  },
  {
   "cell_type": "markdown",
   "metadata": {
    "id": "dIaKXr29_Zct"
   },
   "source": [
    "### Стиль заголовков\n",
    "Выведите на экран названия столбцов:"
   ]
  },
  {
   "cell_type": "code",
   "execution_count": 5,
   "metadata": {
    "id": "oKOTdF_Q_Zct",
    "scrolled": true
   },
   "outputs": [
    {
     "data": {
      "text/plain": [
       "Index(['  userID', 'Track', 'artist', 'genre', '  City  ', 'time', 'Day'], dtype='object')"
      ]
     },
     "execution_count": 5,
     "metadata": {},
     "output_type": "execute_result"
    }
   ],
   "source": [
    "df.columns"
   ]
  },
  {
   "cell_type": "markdown",
   "metadata": {
    "id": "zj5534cv_Zct"
   },
   "source": [
    "Приведите названия в соответствие с хорошим стилем:\n",
    "* несколько слов в названии запишите в «змеином_регистре»,\n",
    "* все символы сделайте строчными,\n",
    "* устраните пробелы.\n",
    "\n",
    "Для этого переименуйте колонки так:\n",
    "* `'  userID'` → `'user_id'`;\n",
    "* `'Track'` → `'track'`;\n",
    "* `'  City  '` → `'city'`;\n",
    "* `'Day'` → `'day'`."
   ]
  },
  {
   "cell_type": "code",
   "execution_count": 6,
   "metadata": {
    "id": "ISlFqs5y_Zct"
   },
   "outputs": [],
   "source": [
    "df = df.rename(columns={'  userID':'user_id', \n",
    "             'Track':'track', \n",
    "             '  City  ':'city',\n",
    "            'Day':'day'\n",
    "                       })"
   ]
  },
  {
   "cell_type": "markdown",
   "metadata": {
    "id": "1dqbh00J_Zct"
   },
   "source": [
    "Проверьте результат. Для этого ещё раз выведите на экран названия столбцов:"
   ]
  },
  {
   "cell_type": "code",
   "execution_count": 7,
   "metadata": {
    "id": "d4NOAmTW_Zct"
   },
   "outputs": [
    {
     "data": {
      "text/plain": [
       "Index(['user_id', 'track', 'artist', 'genre', 'city', 'time', 'day'], dtype='object')"
      ]
     },
     "execution_count": 7,
     "metadata": {},
     "output_type": "execute_result"
    }
   ],
   "source": [
    "df.columns"
   ]
  },
  {
   "cell_type": "markdown",
   "metadata": {
    "id": "5ISfbcfY_Zct"
   },
   "source": [
    "### Пропуски значений\n",
    "Сначала посчитайте, сколько в таблице пропущенных значений. Для этого достаточно двух методов `pandas`:"
   ]
  },
  {
   "cell_type": "code",
   "execution_count": 8,
   "metadata": {
    "id": "RskX29qr_Zct",
    "scrolled": true
   },
   "outputs": [
    {
     "data": {
      "text/plain": [
       "user_id       0\n",
       "track      1231\n",
       "artist     7203\n",
       "genre      1198\n",
       "city          0\n",
       "time          0\n",
       "day           0\n",
       "dtype: int64"
      ]
     },
     "execution_count": 8,
     "metadata": {},
     "output_type": "execute_result"
    }
   ],
   "source": [
    "df.isna().sum()"
   ]
  },
  {
   "cell_type": "markdown",
   "metadata": {
    "id": "qubhgnlO_Zct"
   },
   "source": [
    "Не все пропущенные значения влияют на исследование. Так в `track` и `artist` пропуски не важны для вашей работы. Достаточно заменить их явными обозначениями.\n",
    "\n",
    "Но пропуски в `genre` могут помешать сравнению музыкальных вкусов в Москве и Санкт-Петербурге. На практике было бы правильно установить причину пропусков и восстановить данные. Такой возможности нет в учебном проекте. Придётся:\n",
    "* заполнить и эти пропуски явными обозначениями,\n",
    "* оценить, насколько они повредят расчётам. "
   ]
  },
  {
   "cell_type": "markdown",
   "metadata": {
    "id": "fSv2laPA_Zct"
   },
   "source": [
    "Замените пропущенные значения в столбцах `track`, `artist` и `genre` на строку `'unknown'`. Для этого создайте список `columns_to_replace`, переберите его элементы циклом `for` и для каждого столбца выполните замену пропущенных значений:"
   ]
  },
  {
   "cell_type": "code",
   "execution_count": 9,
   "metadata": {
    "id": "KplB5qWs_Zct"
   },
   "outputs": [],
   "source": [
    "columns_to_replace = ['track', 'artist', 'genre']\n",
    "for index in columns_to_replace:\n",
    "    df[index] = df[index].fillna('unknown')\n",
    "\n",
    "# перебор названий столбцов в цикле и замена пропущенных значений на 'unknown'"
   ]
  },
  {
   "cell_type": "markdown",
   "metadata": {
    "id": "Ilsm-MZo_Zct"
   },
   "source": [
    "Убедитесь, что в таблице не осталось пропусков. Для этого ещё раз посчитайте пропущенные значения."
   ]
  },
  {
   "cell_type": "code",
   "execution_count": 10,
   "metadata": {
    "id": "Tq4nYRX4_Zct"
   },
   "outputs": [
    {
     "data": {
      "text/plain": [
       "user_id    0\n",
       "track      0\n",
       "artist     0\n",
       "genre      0\n",
       "city       0\n",
       "time       0\n",
       "day        0\n",
       "dtype: int64"
      ]
     },
     "execution_count": 10,
     "metadata": {},
     "output_type": "execute_result"
    }
   ],
   "source": [
    "df.isna().sum()\n",
    "\n",
    "# подсчёт пропусков"
   ]
  },
  {
   "cell_type": "markdown",
   "metadata": {
    "id": "BWKRtBJ3_Zct"
   },
   "source": [
    "### Дубликаты\n",
    "Посчитайте явные дубликаты в таблице одной командой:"
   ]
  },
  {
   "cell_type": "code",
   "execution_count": 11,
   "metadata": {
    "id": "36eES_S0_Zct"
   },
   "outputs": [
    {
     "data": {
      "text/plain": [
       "3826"
      ]
     },
     "execution_count": 11,
     "metadata": {},
     "output_type": "execute_result"
    }
   ],
   "source": [
    "df.duplicated().sum()\n",
    "# подсчёт явных дубликатов"
   ]
  },
  {
   "cell_type": "markdown",
   "metadata": {
    "id": "Ot25h6XR_Zct"
   },
   "source": [
    "Вызовите специальный метод `pandas`, чтобы удалить явные дубликаты:"
   ]
  },
  {
   "cell_type": "code",
   "execution_count": 12,
   "metadata": {
    "id": "exFHq6tt_Zct"
   },
   "outputs": [],
   "source": [
    "df = df.drop_duplicates().reset_index(drop = True)\n",
    "# удаление явных дубликатов (с удалением старых индексов и формированием новых)"
   ]
  },
  {
   "cell_type": "markdown",
   "metadata": {
    "id": "Im2YwBEG_Zct"
   },
   "source": [
    "Ещё раз посчитайте явные дубликаты в таблице — убедитесь, что полностью от них избавились:"
   ]
  },
  {
   "cell_type": "code",
   "execution_count": 13,
   "metadata": {
    "id": "-8PuNWQ0_Zct",
    "scrolled": true
   },
   "outputs": [
    {
     "data": {
      "text/plain": [
       "0"
      ]
     },
     "execution_count": 13,
     "metadata": {},
     "output_type": "execute_result"
    }
   ],
   "source": [
    "df.duplicated().sum()"
   ]
  },
  {
   "cell_type": "markdown",
   "metadata": {
    "id": "QlFBsxAr_Zct"
   },
   "source": [
    "Теперь избавьтесь от неявных дубликатов в колонке `genre`. Например, название одного и того же жанра может быть записано немного по-разному. Такие ошибки тоже повлияют на результат исследования."
   ]
  },
  {
   "cell_type": "markdown",
   "metadata": {
    "id": "eSjWwsOh_Zct"
   },
   "source": [
    "Выведите на экран список уникальных названий жанров, отсортированный в алфавитном порядке. Для этого:\n",
    "* извлеките нужный столбец датафрейма, \n",
    "* примените к нему метод сортировки,\n",
    "* для отсортированного столбца вызовите метод, который вернёт уникальные значения из столбца."
   ]
  },
  {
   "cell_type": "code",
   "execution_count": null,
   "metadata": {},
   "outputs": [],
   "source": []
  },
  {
   "cell_type": "markdown",
   "metadata": {
    "id": "qej-Qmuo_Zct"
   },
   "source": [
    "Просмотрите список и найдите неявные дубликаты названия `hiphop`. Это могут быть названия с ошибками или альтернативные названия того же жанра.\n",
    "\n",
    "Вы увидите следующие неявные дубликаты:\n",
    "* *hip*,\n",
    "* *hop*,\n",
    "* *hip-hop*.\n",
    "\n",
    "Чтобы очистить от них таблицу, напишите функцию `replace_wrong_genres()` с двумя параметрами: \n",
    "* `wrong_genres` — список дубликатов,\n",
    "* `correct_genre` — строка с правильным значением.\n",
    "\n",
    "Функция должна исправить колонку `genre` в таблице `df`: заменить каждое значение из списка `wrong_genres` на значение из `correct_genre`."
   ]
  },
  {
   "cell_type": "code",
   "execution_count": 14,
   "metadata": {
    "id": "ErNDkmns_Zct"
   },
   "outputs": [],
   "source": [
    "def replace_wrong_genres(wrong_genres, correct_genre):\n",
    "    for wrong_genr in wrong_genres:\n",
    "        df['genre'] = df['genre'].replace(wrong_genr, correct_genre)\n",
    "# Функция для замены неявных дубликатов"
   ]
  },
  {
   "cell_type": "markdown",
   "metadata": {
    "id": "aDoBJxbA_Zct"
   },
   "source": [
    "Вызовите `replace_wrong_genres()` и передайте ей такие аргументы, чтобы она устранила неявные дубликаты: вместо `hip`, `hop` и `hip-hop` в таблице должно быть значение `hiphop`:"
   ]
  },
  {
   "cell_type": "code",
   "execution_count": 15,
   "metadata": {
    "id": "YN5i2hpmSo09"
   },
   "outputs": [],
   "source": [
    "duplicates = ['hip','hop','hip-hop']\n",
    "right_genr = 'hiphop' \n",
    "replace_wrong_genres(duplicates,right_genr)\n",
    "# Устранение неявных дубликатов"
   ]
  },
  {
   "cell_type": "markdown",
   "metadata": {
    "id": "zQKF16_RG15m"
   },
   "source": [
    "Проверьте, что заменили неправильные названия:\n",
    "\n",
    "*   hip\n",
    "*   hop\n",
    "*   hip-hop\n",
    "\n",
    "Выведите отсортированный список уникальных значений столбца `genre`:"
   ]
  },
  {
   "cell_type": "code",
   "execution_count": 16,
   "metadata": {
    "id": "wvixALnFG15m",
    "scrolled": true
   },
   "outputs": [
    {
     "data": {
      "text/plain": [
       "array(['acid', 'acoustic', 'action', 'adult', 'africa', 'afrikaans',\n",
       "       'alternative', 'alternativepunk', 'ambient', 'americana',\n",
       "       'animated', 'anime', 'arabesk', 'arabic', 'arena',\n",
       "       'argentinetango', 'art', 'audiobook', 'author', 'avantgarde',\n",
       "       'axé', 'baile', 'balkan', 'beats', 'bigroom', 'black', 'bluegrass',\n",
       "       'blues', 'bollywood', 'bossa', 'brazilian', 'breakbeat', 'breaks',\n",
       "       'broadway', 'cantautori', 'cantopop', 'canzone', 'caribbean',\n",
       "       'caucasian', 'celtic', 'chamber', 'chanson', 'children', 'chill',\n",
       "       'chinese', 'choral', 'christian', 'christmas', 'classical',\n",
       "       'classicmetal', 'club', 'colombian', 'comedy', 'conjazz',\n",
       "       'contemporary', 'country', 'cuban', 'dance', 'dancehall',\n",
       "       'dancepop', 'dark', 'death', 'deep', 'deutschrock', 'deutschspr',\n",
       "       'dirty', 'disco', 'dnb', 'documentary', 'downbeat', 'downtempo',\n",
       "       'drum', 'dub', 'dubstep', 'eastern', 'easy', 'electronic',\n",
       "       'electropop', 'emo', 'entehno', 'epicmetal', 'estrada', 'ethnic',\n",
       "       'eurofolk', 'european', 'experimental', 'extrememetal', 'fado',\n",
       "       'fairytail', 'film', 'fitness', 'flamenco', 'folk', 'folklore',\n",
       "       'folkmetal', 'folkrock', 'folktronica', 'forró', 'frankreich',\n",
       "       'französisch', 'french', 'funk', 'future', 'gangsta', 'garage',\n",
       "       'german', 'ghazal', 'gitarre', 'glitch', 'gospel', 'gothic',\n",
       "       'grime', 'grunge', 'gypsy', 'handsup', \"hard'n'heavy\", 'hardcore',\n",
       "       'hardstyle', 'hardtechno', 'hiphop', 'historisch', 'holiday',\n",
       "       'horror', 'house', 'hymn', 'idm', 'independent', 'indian', 'indie',\n",
       "       'indipop', 'industrial', 'inspirational', 'instrumental',\n",
       "       'international', 'irish', 'jam', 'japanese', 'jazz', 'jewish',\n",
       "       'jpop', 'jungle', 'k-pop', 'karadeniz', 'karaoke', 'kayokyoku',\n",
       "       'korean', 'laiko', 'latin', 'latino', 'leftfield', 'local',\n",
       "       'lounge', 'loungeelectronic', 'lovers', 'malaysian', 'mandopop',\n",
       "       'marschmusik', 'meditative', 'mediterranean', 'melodic', 'metal',\n",
       "       'metalcore', 'mexican', 'middle', 'minimal', 'miscellaneous',\n",
       "       'modern', 'mood', 'mpb', 'muslim', 'native', 'neoklassik', 'neue',\n",
       "       'new', 'newage', 'newwave', 'nu', 'nujazz', 'numetal', 'oceania',\n",
       "       'old', 'opera', 'orchestral', 'other', 'piano', 'podcasts', 'pop',\n",
       "       'popdance', 'popelectronic', 'popeurodance', 'poprussian', 'post',\n",
       "       'posthardcore', 'postrock', 'power', 'progmetal', 'progressive',\n",
       "       'psychedelic', 'punjabi', 'punk', 'quebecois', 'ragga', 'ram',\n",
       "       'rancheras', 'rap', 'rave', 'reggae', 'reggaeton', 'regional',\n",
       "       'relax', 'religious', 'retro', 'rhythm', 'rnb', 'rnr', 'rock',\n",
       "       'rockabilly', 'rockalternative', 'rockindie', 'rockother',\n",
       "       'romance', 'roots', 'ruspop', 'rusrap', 'rusrock', 'russian',\n",
       "       'salsa', 'samba', 'scenic', 'schlager', 'self', 'sertanejo',\n",
       "       'shanson', 'shoegazing', 'showtunes', 'singer', 'ska', 'skarock',\n",
       "       'slow', 'smooth', 'soft', 'soul', 'soulful', 'sound', 'soundtrack',\n",
       "       'southern', 'specialty', 'speech', 'spiritual', 'sport',\n",
       "       'stonerrock', 'surf', 'swing', 'synthpop', 'synthrock',\n",
       "       'sängerportrait', 'tango', 'tanzorchester', 'taraftar', 'tatar',\n",
       "       'tech', 'techno', 'teen', 'thrash', 'top', 'traditional',\n",
       "       'tradjazz', 'trance', 'tribal', 'trip', 'triphop', 'tropical',\n",
       "       'türk', 'türkçe', 'ukrrock', 'unknown', 'urban', 'uzbek',\n",
       "       'variété', 'vi', 'videogame', 'vocal', 'western', 'world',\n",
       "       'worldbeat', 'ïîï', 'электроника'], dtype=object)"
      ]
     },
     "execution_count": 16,
     "metadata": {},
     "output_type": "execute_result"
    }
   ],
   "source": [
    "df['genre'].sort_values().unique()"
   ]
  },
  {
   "cell_type": "markdown",
   "metadata": {
    "id": "jz6a9-7HQUDd"
   },
   "source": [
    "**Выводы**\n",
    "\n",
    "Предобработка обнаружила три проблемы в данных:\n",
    "\n",
    "- нарушения в стиле заголовков,\n",
    "- пропущенные значения,\n",
    "- дубликаты — явные и неявные.\n",
    "\n",
    "Вы исправили заголовки, чтобы упростить работу с таблицей. Без дубликатов исследование станет более точным.\n",
    "\n",
    "Пропущенные значения вы заменили на `'unknown'`. Ещё предстоит увидеть, не повредят ли исследованию пропуски в колонке `genre`.\n",
    "\n",
    "Теперь можно перейти к проверке гипотез. "
   ]
  },
  {
   "cell_type": "markdown",
   "metadata": {
    "id": "WttZHXH0SqKk"
   },
   "source": [
    "## Проверка гипотез"
   ]
  },
  {
   "cell_type": "markdown",
   "metadata": {
    "id": "Im936VVi_Zcu"
   },
   "source": [
    "### Сравнение поведения пользователей двух столиц"
   ]
  },
  {
   "cell_type": "markdown",
   "metadata": {
    "id": "nwt_MuaL_Zcu"
   },
   "source": [
    "Первая гипотеза утверждает, что пользователи по-разному слушают музыку в Москве и Санкт-Петербурге. Проверьте это предположение по данным о трёх днях недели — понедельнике, среде и пятнице. Для этого:\n",
    "\n",
    "* Разделите пользователей Москвы и Санкт-Петербурга\n",
    "* Сравните, сколько треков послушала каждая группа пользователей в понедельник, среду и пятницу.\n"
   ]
  },
  {
   "cell_type": "markdown",
   "metadata": {
    "id": "8Dw_YMmT_Zcu"
   },
   "source": [
    "Для тренировки сначала выполните каждый из расчётов по отдельности. \n",
    "\n",
    "Оцените активность пользователей в каждом городе. Сгруппируйте данные по городу и посчитайте прослушивания в каждой группе.\n",
    "\n"
   ]
  },
  {
   "cell_type": "code",
   "execution_count": 17,
   "metadata": {
    "id": "0_Qs96oh_Zcu",
    "scrolled": true
   },
   "outputs": [
    {
     "data": {
      "text/plain": [
       "city\n",
       "Moscow              42741\n",
       "Saint-Petersburg    18512\n",
       "Name: genre, dtype: int64"
      ]
     },
     "execution_count": 17,
     "metadata": {},
     "output_type": "execute_result"
    }
   ],
   "source": [
    "df.groupby('city')['genre'].count()\n",
    "# Подсчёт прослушиваний в каждом городе"
   ]
  },
  {
   "cell_type": "markdown",
   "metadata": {
    "id": "dzli3w8o_Zcu"
   },
   "source": [
    "В Москве прослушиваний больше, чем в Петербурге. Из этого не следует, что московские пользователи чаще слушают музыку. Просто самих пользователей в Москве больше.\n",
    "\n",
    "Теперь сгруппируйте данные по дню недели и подсчитайте прослушивания в понедельник, среду и пятницу. Учтите, что в данных есть информация только о прослушиваниях только за эти дни.\n"
   ]
  },
  {
   "cell_type": "code",
   "execution_count": 18,
   "metadata": {
    "id": "uZMKjiJz_Zcu"
   },
   "outputs": [
    {
     "data": {
      "text/plain": [
       "day\n",
       "Friday       21840\n",
       "Monday       21354\n",
       "Wednesday    18059\n",
       "Name: track, dtype: int64"
      ]
     },
     "execution_count": 18,
     "metadata": {},
     "output_type": "execute_result"
    }
   ],
   "source": [
    "df.groupby('day')['track'].count()\n",
    "# Подсчёт прослушиваний в каждый из трёх дней"
   ]
  },
  {
   "cell_type": "markdown",
   "metadata": {
    "id": "cC2tNrlL_Zcu"
   },
   "source": [
    "В среднем пользователи из двух городов менее активны по средам. Но картина может измениться, если рассмотреть каждый город в отдельности."
   ]
  },
  {
   "cell_type": "markdown",
   "metadata": {
    "id": "POzs8bGa_Zcu"
   },
   "source": [
    "Вы видели, как работает группировка по городу и по дням недели. Теперь напишите функцию, которая объединит два эти расчёта.\n",
    "\n",
    "Создайте функцию `number_tracks()`, которая посчитает прослушивания для заданного дня и города. Ей понадобятся два параметра:\n",
    "* день недели,\n",
    "* название города.\n",
    "\n",
    "В функции сохраните в переменную строки исходной таблицы, у которых значение:\n",
    "  * в колонке `day` равно параметру `day`,\n",
    "  * в колонке `city` равно параметру `city`.\n",
    "\n",
    "Для этого примените последовательную фильтрацию с логической индексацией.\n",
    "\n",
    "Затем посчитайте значения в столбце `user_id` получившейся таблицы. Результат сохраните в новую переменную. Верните эту переменную из функции."
   ]
  },
  {
   "cell_type": "code",
   "execution_count": 19,
   "metadata": {
    "id": "Nz3GdQB1_Zcu"
   },
   "outputs": [],
   "source": [
    "# <создание функции number_tracks()>\n",
    "# Объявляется функция с двумя параметрами: day, city.\n",
    "# В переменной track_list сохраняются те строки таблицы df, для которых \n",
    "# значение в столбце 'day' равно параметру day и одновременно значение\n",
    "# в столбце 'city' равно параметру city (используйте последовательную фильтрацию\n",
    "# с помощью логической индексации)\n",
    "# В переменной track_list_count сохраняется число значений столбца 'user_id',\n",
    "# рассчитанное методом count() для таблицы track_list.\n",
    "# Функция возвращает число - значение track_list_count\n",
    "def number_tracks (day, city):\n",
    "    track_list = df[(df['day'] == day) & (df['city'] == city)]\n",
    "    track_list_count = track_list['user_id'].count()\n",
    "    return track_list_count\n",
    "\n",
    "\n",
    "\n",
    "# Функция для подсчёта прослушиваний для конкретного города и дня.\n",
    "# С помощью последовательной фильтрации с логической индексацией она \n",
    "# сначала получит из исходной таблицы строки с нужным днём,\n",
    "# затем из результата отфильтрует строки с нужным городом,\n",
    "# методом count() посчитает количество значений в колонке user_id. \n",
    "# Это количество функция вернёт в качестве результата"
   ]
  },
  {
   "cell_type": "markdown",
   "metadata": {
    "id": "ytf7xFrFJQ2r"
   },
   "source": [
    "Вызовите `number_tracks()` шесть раз, меняя значение параметров — так, чтобы получить данные для каждого города в каждый из трёх дней."
   ]
  },
  {
   "cell_type": "code",
   "execution_count": 20,
   "metadata": {
    "id": "rJcRATNQ_Zcu"
   },
   "outputs": [
    {
     "data": {
      "text/plain": [
       "15740"
      ]
     },
     "execution_count": 20,
     "metadata": {},
     "output_type": "execute_result"
    }
   ],
   "source": [
    "number_tracks('Monday', 'Moscow')\n",
    "# количество прослушиваний в Москве по понедельникам"
   ]
  },
  {
   "cell_type": "code",
   "execution_count": 21,
   "metadata": {
    "id": "hq_ncZ5T_Zcu"
   },
   "outputs": [
    {
     "data": {
      "text/plain": [
       "5614"
      ]
     },
     "execution_count": 21,
     "metadata": {},
     "output_type": "execute_result"
    }
   ],
   "source": [
    "number_tracks('Monday', 'Saint-Petersburg')\n",
    "# количество прослушиваний в Санкт-Петербурге по понедельникам"
   ]
  },
  {
   "cell_type": "code",
   "execution_count": 22,
   "metadata": {
    "id": "_NTy2VPU_Zcu"
   },
   "outputs": [
    {
     "data": {
      "text/plain": [
       "11056"
      ]
     },
     "execution_count": 22,
     "metadata": {},
     "output_type": "execute_result"
    }
   ],
   "source": [
    "number_tracks('Wednesday', 'Moscow')\n",
    "# количество прослушиваний в Москве по средам"
   ]
  },
  {
   "cell_type": "code",
   "execution_count": 23,
   "metadata": {
    "id": "j2y3TAwo_Zcu"
   },
   "outputs": [
    {
     "data": {
      "text/plain": [
       "7003"
      ]
     },
     "execution_count": 23,
     "metadata": {},
     "output_type": "execute_result"
    }
   ],
   "source": [
    "number_tracks('Wednesday', 'Saint-Petersburg')\n",
    "# количество прослушиваний в Санкт-Петербурге по средам"
   ]
  },
  {
   "cell_type": "code",
   "execution_count": 24,
   "metadata": {
    "id": "vYDw5u_K_Zcu"
   },
   "outputs": [
    {
     "data": {
      "text/plain": [
       "15945"
      ]
     },
     "execution_count": 24,
     "metadata": {},
     "output_type": "execute_result"
    }
   ],
   "source": [
    "number_tracks('Friday', 'Moscow')\n",
    "# количество прослушиваний в Москве по пятницам"
   ]
  },
  {
   "cell_type": "code",
   "execution_count": 25,
   "metadata": {
    "id": "8_yzFtW3_Zcu"
   },
   "outputs": [
    {
     "data": {
      "text/plain": [
       "5895"
      ]
     },
     "execution_count": 25,
     "metadata": {},
     "output_type": "execute_result"
    }
   ],
   "source": [
    "number_tracks('Friday', 'Saint-Petersburg')\n",
    "# количество прослушиваний в Санкт-Петербурге по пятницам"
   ]
  },
  {
   "cell_type": "markdown",
   "metadata": {
    "id": "7QXffbO-_Zcu"
   },
   "source": [
    "Создайте c помощью конструктора `pd.DataFrame` таблицу, где\n",
    "* названия колонок — `['city', 'monday', 'wednesday', 'friday']`;\n",
    "* данные — результаты, которые вы получили с помощью `number_tracks`."
   ]
  },
  {
   "cell_type": "code",
   "execution_count": 26,
   "metadata": {
    "id": "APAcLpOr_Zcu",
    "scrolled": true
   },
   "outputs": [
    {
     "data": {
      "text/html": [
       "<div>\n",
       "<style scoped>\n",
       "    .dataframe tbody tr th:only-of-type {\n",
       "        vertical-align: middle;\n",
       "    }\n",
       "\n",
       "    .dataframe tbody tr th {\n",
       "        vertical-align: top;\n",
       "    }\n",
       "\n",
       "    .dataframe thead th {\n",
       "        text-align: right;\n",
       "    }\n",
       "</style>\n",
       "<table border=\"1\" class=\"dataframe\">\n",
       "  <thead>\n",
       "    <tr style=\"text-align: right;\">\n",
       "      <th></th>\n",
       "      <th>city</th>\n",
       "      <th>monday</th>\n",
       "      <th>wednesday</th>\n",
       "      <th>friday</th>\n",
       "    </tr>\n",
       "  </thead>\n",
       "  <tbody>\n",
       "    <tr>\n",
       "      <td>0</td>\n",
       "      <td>Moscow</td>\n",
       "      <td>15740</td>\n",
       "      <td>11056</td>\n",
       "      <td>15945</td>\n",
       "    </tr>\n",
       "    <tr>\n",
       "      <td>1</td>\n",
       "      <td>Saint-Petersburg</td>\n",
       "      <td>5614</td>\n",
       "      <td>7003</td>\n",
       "      <td>5895</td>\n",
       "    </tr>\n",
       "  </tbody>\n",
       "</table>\n",
       "</div>"
      ],
      "text/plain": [
       "               city  monday  wednesday  friday\n",
       "0            Moscow   15740      11056   15945\n",
       "1  Saint-Petersburg    5614       7003    5895"
      ]
     },
     "execution_count": 26,
     "metadata": {},
     "output_type": "execute_result"
    }
   ],
   "source": [
    "data = [['Moscow', 15740, 11056, 15945], ['Saint-Petersburg', 5614, 7003, 5895]]\n",
    "columns = ['city', 'monday', 'wednesday', 'friday']\n",
    "pd.DataFrame(data=data, columns=columns)"
   ]
  },
  {
   "cell_type": "markdown",
   "metadata": {
    "id": "-EgPIHYu_Zcu"
   },
   "source": [
    "**Выводы**\n",
    "\n",
    "Данные показывают разницу поведения пользователей:\n",
    "\n",
    "- В Москве пик прослушиваний приходится на понедельник и пятницу, а в среду заметен спад.\n",
    "- В Петербурге, наоборот, больше слушают музыку по средам. Активность в понедельник и пятницу здесь почти в равной мере уступает среде.\n",
    "\n",
    "Значит, данные говорят в пользу первой гипотезы."
   ]
  },
  {
   "cell_type": "markdown",
   "metadata": {
    "id": "atZAxtq4_Zcu"
   },
   "source": [
    "### Музыка в начале и в конце недели"
   ]
  },
  {
   "cell_type": "markdown",
   "metadata": {
    "id": "eXrQqXFH_Zcu"
   },
   "source": [
    "Согласно второй гипотезе, утром в понедельник в Москве преобладают одни жанры, а в Петербурге — другие. Так же и вечером пятницы преобладают разные жанры — в зависимости от города."
   ]
  },
  {
   "cell_type": "markdown",
   "metadata": {
    "id": "S8UcW6Hw_Zcu"
   },
   "source": [
    "Сохраните таблицы с данными в две переменные:\n",
    "* по Москве — в `moscow_general`;\n",
    "* по Санкт-Петербургу — в `spb_general`."
   ]
  },
  {
   "cell_type": "code",
   "execution_count": 27,
   "metadata": {
    "id": "qeaFfM_P_Zcu"
   },
   "outputs": [],
   "source": [
    "# получение таблицы moscow_general из тех строк таблицы df, \n",
    "#для которых значение в столбце 'city' равно 'Moscow'\n",
    "moscow_general = df[df['city'] =='Moscow']\n",
    "\n"
   ]
  },
  {
   "cell_type": "code",
   "execution_count": 28,
   "metadata": {
    "id": "ORaVRKto_Zcu"
   },
   "outputs": [],
   "source": [
    "# получение таблицы spb_general из тех строк таблицы df,\n",
    "# для которых значение в столбце 'city' равно 'Saint-Petersburg'\n",
    "spb_general = df[df['city'] =='Saint-Petersburg']\n"
   ]
  },
  {
   "cell_type": "markdown",
   "metadata": {
    "id": "MEJV-CX2_Zcu"
   },
   "source": [
    "Создайте функцию `genre_weekday()` с четырьмя параметрами:\n",
    "* таблица (датафрейм) с данными,\n",
    "* день недели,\n",
    "* начальная временная метка в формате 'hh:mm', \n",
    "* последняя временная метка в формате 'hh:mm'.\n",
    "\n",
    "Функция должна вернуть информацию о топ-10 жанров тех треков, которые прослушивали в указанный день, в промежутке между двумя отметками времени."
   ]
  },
  {
   "cell_type": "code",
   "execution_count": 29,
   "metadata": {
    "id": "laJT9BYl_Zcu"
   },
   "outputs": [],
   "source": [
    "# Объявление функции genre_weekday() с параметрами table, day, time1, time2,\n",
    "# которая возвращает информацию о самых популярных жанрах в указанный день в\n",
    "# заданное время:\n",
    "# 1) в переменную genre_df сохраняются те строки переданного датафрейма table, для\n",
    "#    которых одновременно:\n",
    "#    - значение в столбце day равно значению аргумента day\n",
    "#    - значение в столбце time больше значения аргумента time1\n",
    "#    - значение в столбце time меньше значения аргумента time2\n",
    "#    Используйте последовательную фильтрацию с помощью логической индексации.\n",
    "# 2) сгруппировать датафрейм genre_df по столбцу genre, взять один из его\n",
    "#    столбцов и посчитать методом count() количество записей для каждого из\n",
    "#    присутствующих жанров, получившийся Series записать в переменную\n",
    "# 3) отсортировать genre_df_count по убыванию встречаемости и сохранить\n",
    "#    в переменную genre_df_sorted\n",
    "#    genre_df_count\n",
    "# 4) вернуть Series из 10 первых значений genre_df_sorted, это будут топ-10\n",
    "#    популярных жанров (в указанный день, в заданное время)\n",
    "\n",
    "def genre_weekday(table, day, time1, time2):\n",
    "    genre_df = table[(table['day'] == day) & ( table['time'] > time1) & ( table['time'] < time2)]\n",
    "    genre_df_count = genre_df.groupby('genre')['genre'].count()\n",
    "    genre_df_sorted = genre_df_count.sort_values(ascending=False)\n",
    "    return genre_df_sorted.head(10)\n",
    "\n"
   ]
  },
  {
   "cell_type": "markdown",
   "metadata": {
    "id": "la2s2_PF_Zcu"
   },
   "source": [
    "Cравните результаты функции `genre_weekday()` для Москвы и Санкт-Петербурга в понедельник утром (с 7:00 до 11:00) и в пятницу вечером (с 17:00 до 23:00):"
   ]
  },
  {
   "cell_type": "code",
   "execution_count": 30,
   "metadata": {
    "id": "yz7itPUQ_Zcu"
   },
   "outputs": [
    {
     "data": {
      "text/plain": [
       "genre\n",
       "pop            781\n",
       "dance          549\n",
       "electronic     480\n",
       "rock           474\n",
       "hiphop         286\n",
       "ruspop         186\n",
       "world          181\n",
       "rusrap         175\n",
       "alternative    164\n",
       "unknown        161\n",
       "Name: genre, dtype: int64"
      ]
     },
     "execution_count": 30,
     "metadata": {},
     "output_type": "execute_result"
    }
   ],
   "source": [
    "# вызов функции для утра понедельника в Москве (вместо df — таблица moscow_general)\n",
    "# объекты, хранящие время, являются строками и сравниваются как строки\n",
    "# пример вызова: genre_weekday(moscow_general, 'Monday', '07:00', '11:00')\n",
    "genre_weekday(moscow_general, 'Monday', '07:00', '11:00')"
   ]
  },
  {
   "cell_type": "code",
   "execution_count": 31,
   "metadata": {
    "id": "kwUcHPdy_Zcu"
   },
   "outputs": [
    {
     "data": {
      "text/plain": [
       "genre\n",
       "pop            218\n",
       "dance          182\n",
       "rock           162\n",
       "electronic     147\n",
       "hiphop          80\n",
       "ruspop          64\n",
       "alternative     58\n",
       "rusrap          55\n",
       "jazz            44\n",
       "classical       40\n",
       "Name: genre, dtype: int64"
      ]
     },
     "execution_count": 31,
     "metadata": {},
     "output_type": "execute_result"
    }
   ],
   "source": [
    "genre_weekday(spb_general, 'Monday', '07:00', '11:00')"
   ]
  },
  {
   "cell_type": "code",
   "execution_count": 32,
   "metadata": {
    "id": "EzXVRE1o_Zcu"
   },
   "outputs": [
    {
     "data": {
      "text/plain": [
       "genre\n",
       "pop            713\n",
       "rock           517\n",
       "dance          495\n",
       "electronic     482\n",
       "hiphop         273\n",
       "world          208\n",
       "ruspop         170\n",
       "alternative    163\n",
       "classical      163\n",
       "rusrap         142\n",
       "Name: genre, dtype: int64"
      ]
     },
     "execution_count": 32,
     "metadata": {},
     "output_type": "execute_result"
    }
   ],
   "source": [
    "genre_weekday(moscow_general, 'Friday', '18:00', '23:00')"
   ]
  },
  {
   "cell_type": "code",
   "execution_count": 33,
   "metadata": {
    "id": "JZaEKu5v_Zcu"
   },
   "outputs": [
    {
     "data": {
      "text/plain": [
       "genre\n",
       "pop            256\n",
       "rock           216\n",
       "electronic     216\n",
       "dance          210\n",
       "hiphop          97\n",
       "alternative     63\n",
       "jazz            61\n",
       "classical       60\n",
       "rusrap          59\n",
       "world           54\n",
       "Name: genre, dtype: int64"
      ]
     },
     "execution_count": 33,
     "metadata": {},
     "output_type": "execute_result"
    }
   ],
   "source": [
    "genre_weekday(spb_general, 'Friday', '18:00', '23:00')"
   ]
  },
  {
   "cell_type": "markdown",
   "metadata": {
    "id": "wrCe4MNX_Zcu"
   },
   "source": [
    "**Выводы**\n",
    "\n",
    "Если сравнить топ-10 жанров в понедельник утром, можно сделать такие выводы:\n",
    "\n",
    "1. В Москве и Петербурге слушают похожую музыку. Единственное отличие — в московский рейтинг вошёл жанр “world”, а в петербургский — джаз и классика.\n",
    "\n",
    "2. В Москве пропущенных значений оказалось так много, что значение `'unknown'` заняло десятое место среди самых популярных жанров. Значит, пропущенные значения занимают существенную долю в данных и угрожают достоверности исследования.\n",
    "\n",
    "Вечер пятницы не меняет эту картину. Некоторые жанры поднимаются немного выше, другие спускаются, но в целом топ-10 остаётся тем же самым.\n",
    "\n",
    "Таким образом, вторая гипотеза подтвердилась лишь частично:\n",
    "* Пользователи слушают похожую музыку в начале недели и в конце.\n",
    "* Разница между Москвой и Петербургом не слишком выражена. В Москве чаще слушают русскую популярную музыку, в Петербурге — джаз.\n",
    "\n",
    "Однако пропуски в данных ставят под сомнение этот результат. В Москве их так много, что рейтинг топ-10 мог бы выглядеть иначе, если бы не утерянные  данные о жанрах."
   ]
  },
  {
   "cell_type": "markdown",
   "metadata": {
    "id": "JolODAqr_Zcu"
   },
   "source": [
    "### Жанровые предпочтения в Москве и Петербурге\n",
    "\n",
    "Гипотеза: Петербург — столица рэпа, музыку этого жанра там слушают чаще, чем в Москве.  А Москва — город контрастов, в котором, тем не менее, преобладает поп-музыка."
   ]
  },
  {
   "cell_type": "markdown",
   "metadata": {
    "id": "DlegSvaT_Zcu"
   },
   "source": [
    "Сгруппируйте таблицу `moscow_general` по жанру и посчитайте прослушивания треков каждого жанра методом `count()`. Затем отсортируйте результат в порядке убывания и сохраните его в таблице `moscow_genres`."
   ]
  },
  {
   "cell_type": "code",
   "execution_count": 34,
   "metadata": {
    "id": "r19lIPke_Zcu"
   },
   "outputs": [],
   "source": [
    "# одной строкой: группировка таблицы moscow_general по столбцу 'genre', \n",
    "# подсчёт числа значений 'genre' в этой группировке методом count(), \n",
    "# сортировка получившегося Series в порядке убывания и сохранение в moscow_genres\n",
    "moscow_genres = moscow_general.groupby('genre')['artist'].count()\n",
    "moscow_genres= moscow_genres.sort_values(ascending = False)\n",
    "\n"
   ]
  },
  {
   "cell_type": "markdown",
   "metadata": {
    "id": "6kMuomxTiIr8"
   },
   "source": [
    "Выведите на экран первые десять строк `moscow_genres`:"
   ]
  },
  {
   "cell_type": "code",
   "execution_count": 35,
   "metadata": {
    "id": "WhCSooF8_Zcv"
   },
   "outputs": [
    {
     "data": {
      "text/plain": [
       "genre\n",
       "pop            5892\n",
       "dance          4435\n",
       "rock           3965\n",
       "electronic     3786\n",
       "hiphop         2096\n",
       "classical      1616\n",
       "world          1432\n",
       "alternative    1379\n",
       "ruspop         1372\n",
       "rusrap         1161\n",
       "Name: artist, dtype: int64"
      ]
     },
     "execution_count": 35,
     "metadata": {},
     "output_type": "execute_result"
    }
   ],
   "source": [
    "moscow_genres.head(10)\n",
    "# просмотр первых 10 строк moscow_genres"
   ]
  },
  {
   "cell_type": "markdown",
   "metadata": {
    "id": "cnPG2vnN_Zcv"
   },
   "source": [
    "Теперь повторите то же и для Петербурга.\n",
    "\n",
    "Сгруппируйте таблицу `spb_general` по жанру. Посчитайте прослушивания треков каждого жанра. Результат отсортируйте в порядке убывания и сохраните в таблице `spb_genres`:\n"
   ]
  },
  {
   "cell_type": "code",
   "execution_count": 36,
   "metadata": {
    "id": "gluLIpE7_Zcv"
   },
   "outputs": [],
   "source": [
    "# одной строкой: группировка таблицы spb_general по столбцу 'genre', \n",
    "# подсчёт числа значений 'genre' в этой группировке методом count(), \n",
    "# сортировка получившегося Series в порядке убывания и сохранение в spb_genres\n",
    "spb_genres = spb_general.groupby('genre')['artist'].count()\n",
    "spb_genres = spb_genres.sort_values(ascending = False)"
   ]
  },
  {
   "cell_type": "markdown",
   "metadata": {
    "id": "5Doha_ODgyQ8"
   },
   "source": [
    "Выведите на экран первые десять строк `spb_genres`:"
   ]
  },
  {
   "cell_type": "code",
   "execution_count": 37,
   "metadata": {
    "id": "uaGJHjVU_Zcv"
   },
   "outputs": [
    {
     "data": {
      "text/plain": [
       "genre\n",
       "pop            2431\n",
       "dance          1932\n",
       "rock           1879\n",
       "electronic     1736\n",
       "hiphop          960\n",
       "alternative     649\n",
       "classical       646\n",
       "rusrap          564\n",
       "ruspop          538\n",
       "world           515\n",
       "Name: artist, dtype: int64"
      ]
     },
     "execution_count": 37,
     "metadata": {},
     "output_type": "execute_result"
    }
   ],
   "source": [
    "# просмотр первых 10 строк spb_genres\n",
    "spb_genres.head(10)"
   ]
  },
  {
   "cell_type": "markdown",
   "metadata": {
    "id": "RY51YJYu_Zcv"
   },
   "source": [
    "**Выводы**"
   ]
  },
  {
   "cell_type": "markdown",
   "metadata": {
    "id": "nVhnJEm__Zcv"
   },
   "source": [
    "Гипотеза частично подтвердилась:\n",
    "* Поп-музыка — самый популярный жанр в Москве, как и предполагала гипотеза. Более того, в топ-10 жанров встречается близкий жанр — русская популярная музыка.\n",
    "* Вопреки ожиданиям, рэп одинаково популярен в Москве и Петербурге. \n"
   ]
  },
  {
   "cell_type": "markdown",
   "metadata": {
    "id": "ykKQ0N65_Zcv"
   },
   "source": [
    "## Итоги исследования"
   ]
  },
  {
   "cell_type": "markdown",
   "metadata": {
    "id": "tjUwbHb3_Zcv"
   },
   "source": [
    "Вы проверили три гипотезы и установили:\n",
    "\n",
    "1. День недели по-разному влияет на активность пользователей в Москве и Петербурге. \n",
    "\n",
    "Первая гипотеза полностью подтвердилась.\n",
    "\n",
    "2. Музыкальные предпочтения не сильно меняются в течение недели — будь то Москва или Петербург. Небольшие различия заметны в начале недели, по понедельникам:\n",
    "* в Москве слушают музыку жанра “world”,\n",
    "* в Петербурге — джаз и классику.\n",
    "\n",
    "Таким образом, вторая гипотеза подтвердилась лишь отчасти. Этот результат мог оказаться иным, если бы не пропуски в данных.\n",
    "\n",
    "3. Во вкусах пользователей Москвы и Петербурга больше общего чем различий. Вопреки ожиданиям, предпочтения жанров в Петербурге напоминают московские.\n",
    "\n",
    "Третья гипотеза не подтвердилась. Если различия в предпочтениях и существуют, на основной массе пользователей они незаметны.\n",
    "\n",
    "**На практике исследования содержат проверки статистических гипотез.**\n",
    "Из данных одного сервиса не всегда можно сделать вывод о всех жителях города.\n",
    "Проверки статистических гипотез покажут, насколько они достоверны, исходя из имеющихся данных. \n",
    "С методами проверок гипотез вы ещё познакомитесь в следующих темах."
   ]
  }
 ],
 "metadata": {
  "ExecuteTimeLog": [
   {
    "duration": 604,
    "start_time": "2021-11-21T08:22:10.475Z"
   },
   {
    "duration": 119,
    "start_time": "2021-11-21T08:22:12.626Z"
   },
   {
    "duration": 15,
    "start_time": "2021-11-21T08:22:14.238Z"
   },
   {
    "duration": 22,
    "start_time": "2021-11-21T08:24:00.191Z"
   },
   {
    "duration": 4,
    "start_time": "2021-11-21T08:36:54.902Z"
   },
   {
    "duration": 18,
    "start_time": "2021-11-21T08:38:53.546Z"
   },
   {
    "duration": 4,
    "start_time": "2021-11-21T08:38:55.671Z"
   },
   {
    "duration": 25,
    "start_time": "2021-11-21T08:42:54.424Z"
   },
   {
    "duration": 26,
    "start_time": "2021-11-21T08:53:43.019Z"
   },
   {
    "duration": 3,
    "start_time": "2021-11-21T08:54:08.726Z"
   },
   {
    "duration": 21,
    "start_time": "2021-11-21T08:54:32.084Z"
   },
   {
    "duration": 50,
    "start_time": "2021-11-21T08:56:07.553Z"
   },
   {
    "duration": 51,
    "start_time": "2021-11-21T08:59:03.169Z"
   },
   {
    "duration": 47,
    "start_time": "2021-11-21T08:59:40.877Z"
   },
   {
    "duration": 6,
    "start_time": "2021-11-21T09:06:20.225Z"
   },
   {
    "duration": 6,
    "start_time": "2021-11-21T09:06:35.342Z"
   },
   {
    "duration": 7,
    "start_time": "2021-11-21T09:11:45.347Z"
   },
   {
    "duration": 6,
    "start_time": "2021-11-21T09:11:59.951Z"
   },
   {
    "duration": 45,
    "start_time": "2021-11-21T09:15:31.149Z"
   },
   {
    "duration": 45,
    "start_time": "2021-11-21T09:15:33.999Z"
   },
   {
    "duration": 43,
    "start_time": "2021-11-21T09:17:06.547Z"
   },
   {
    "duration": 45,
    "start_time": "2021-11-21T09:17:22.969Z"
   },
   {
    "duration": 3,
    "start_time": "2021-11-21T09:32:25.180Z"
   },
   {
    "duration": 512,
    "start_time": "2021-11-21T09:32:27.137Z"
   },
   {
    "duration": 447,
    "start_time": "2021-11-21T09:32:33.612Z"
   },
   {
    "duration": 462,
    "start_time": "2021-11-21T09:32:34.968Z"
   },
   {
    "duration": 444,
    "start_time": "2021-11-21T09:33:11.085Z"
   },
   {
    "duration": 74,
    "start_time": "2021-11-21T09:34:29.344Z"
   },
   {
    "duration": 47,
    "start_time": "2021-11-21T09:34:34.459Z"
   },
   {
    "duration": 460,
    "start_time": "2021-11-21T09:41:00.137Z"
   },
   {
    "duration": 51,
    "start_time": "2021-11-21T09:44:58.832Z"
   },
   {
    "duration": 3,
    "start_time": "2021-11-21T09:46:10.750Z"
   },
   {
    "duration": 9,
    "start_time": "2021-11-21T09:46:55.357Z"
   },
   {
    "duration": 46,
    "start_time": "2021-11-21T09:46:57.547Z"
   },
   {
    "duration": 120,
    "start_time": "2021-11-21T11:09:12.964Z"
   },
   {
    "duration": 36,
    "start_time": "2021-11-21T11:09:20.040Z"
   },
   {
    "duration": 35,
    "start_time": "2021-11-21T11:10:22.013Z"
   },
   {
    "duration": 39,
    "start_time": "2021-11-21T11:10:45.418Z"
   },
   {
    "duration": 73,
    "start_time": "2021-11-21T11:12:37.505Z"
   },
   {
    "duration": 22,
    "start_time": "2021-11-21T11:12:48.084Z"
   },
   {
    "duration": 33,
    "start_time": "2021-11-21T11:14:39.788Z"
   },
   {
    "duration": 214,
    "start_time": "2021-11-21T11:18:47.605Z"
   },
   {
    "duration": 224,
    "start_time": "2021-11-21T11:19:00.801Z"
   },
   {
    "duration": 34,
    "start_time": "2021-11-21T11:19:41.180Z"
   },
   {
    "duration": 223,
    "start_time": "2021-11-21T11:19:43.645Z"
   },
   {
    "duration": 221,
    "start_time": "2021-11-21T11:22:32.014Z"
   },
   {
    "duration": 3,
    "start_time": "2021-11-21T11:22:58.762Z"
   },
   {
    "duration": 2,
    "start_time": "2021-11-21T11:23:00.504Z"
   },
   {
    "duration": 4,
    "start_time": "2021-11-21T11:23:15.843Z"
   },
   {
    "duration": 2,
    "start_time": "2021-11-21T11:27:31.024Z"
   },
   {
    "duration": 225,
    "start_time": "2021-11-21T11:28:09.033Z"
   },
   {
    "duration": 861,
    "start_time": "2021-11-21T11:28:12.220Z"
   },
   {
    "duration": 217,
    "start_time": "2021-11-21T11:31:26.799Z"
   },
   {
    "duration": 30,
    "start_time": "2021-11-21T11:32:51.980Z"
   },
   {
    "duration": 10,
    "start_time": "2021-11-21T11:37:55.123Z"
   },
   {
    "duration": 29,
    "start_time": "2021-11-21T11:38:30.060Z"
   },
   {
    "duration": 3,
    "start_time": "2021-11-21T12:30:44.748Z"
   },
   {
    "duration": 235,
    "start_time": "2021-11-21T12:32:06.171Z"
   },
   {
    "duration": 252,
    "start_time": "2021-11-21T12:32:25.901Z"
   },
   {
    "duration": 231,
    "start_time": "2021-11-21T12:33:34.820Z"
   },
   {
    "duration": 299,
    "start_time": "2021-11-21T12:35:34.305Z"
   },
   {
    "duration": 3,
    "start_time": "2021-11-21T12:41:09.078Z"
   },
   {
    "duration": 297,
    "start_time": "2021-11-21T12:41:48.789Z"
   },
   {
    "duration": 3,
    "start_time": "2021-11-21T12:52:19.639Z"
   },
   {
    "duration": 14,
    "start_time": "2021-11-21T12:52:21.755Z"
   },
   {
    "duration": 14,
    "start_time": "2021-11-21T12:52:58.184Z"
   },
   {
    "duration": 14,
    "start_time": "2021-11-21T12:56:10.995Z"
   },
   {
    "duration": 14,
    "start_time": "2021-11-21T12:56:12.023Z"
   },
   {
    "duration": 16,
    "start_time": "2021-11-21T12:56:13.224Z"
   },
   {
    "duration": 15,
    "start_time": "2021-11-21T12:56:14.066Z"
   },
   {
    "duration": 299,
    "start_time": "2021-11-21T13:02:26.071Z"
   },
   {
    "duration": -734,
    "start_time": "2021-11-21T13:02:51.497Z"
   },
   {
    "duration": 6980,
    "start_time": "2021-11-21T13:02:51.845Z"
   },
   {
    "duration": 4,
    "start_time": "2021-11-21T13:08:48.548Z"
   },
   {
    "duration": 3,
    "start_time": "2021-11-21T13:08:49.808Z"
   },
   {
    "duration": 4,
    "start_time": "2021-11-21T13:08:51.065Z"
   },
   {
    "duration": 8,
    "start_time": "2021-11-21T13:08:57.071Z"
   },
   {
    "duration": 5,
    "start_time": "2021-11-21T13:12:00.895Z"
   },
   {
    "duration": 8,
    "start_time": "2021-11-21T13:12:08.439Z"
   },
   {
    "duration": 4,
    "start_time": "2021-11-21T13:13:31.775Z"
   },
   {
    "duration": 8,
    "start_time": "2021-11-21T13:13:32.798Z"
   },
   {
    "duration": 235,
    "start_time": "2021-11-21T13:13:56.083Z"
   },
   {
    "duration": 251,
    "start_time": "2021-11-21T13:13:57.952Z"
   },
   {
    "duration": 290,
    "start_time": "2021-11-21T13:14:15.897Z"
   },
   {
    "duration": 536,
    "start_time": "2021-11-21T13:14:31.252Z"
   },
   {
    "duration": 123,
    "start_time": "2021-11-21T13:14:32.508Z"
   },
   {
    "duration": 16,
    "start_time": "2021-11-21T13:14:33.430Z"
   },
   {
    "duration": 21,
    "start_time": "2021-11-21T13:14:35.227Z"
   },
   {
    "duration": 4,
    "start_time": "2021-11-21T13:14:38.435Z"
   },
   {
    "duration": 18,
    "start_time": "2021-11-21T13:14:39.705Z"
   },
   {
    "duration": 3,
    "start_time": "2021-11-21T13:14:40.846Z"
   },
   {
    "duration": 21,
    "start_time": "2021-11-21T13:14:42.808Z"
   },
   {
    "duration": 29,
    "start_time": "2021-11-21T13:14:46.518Z"
   },
   {
    "duration": 23,
    "start_time": "2021-11-21T13:14:48.895Z"
   },
   {
    "duration": 56,
    "start_time": "2021-11-21T13:14:50.669Z"
   },
   {
    "duration": 67,
    "start_time": "2021-11-21T13:14:51.872Z"
   },
   {
    "duration": 55,
    "start_time": "2021-11-21T13:14:53.169Z"
   },
   {
    "duration": 47,
    "start_time": "2021-11-21T13:14:54.700Z"
   },
   {
    "duration": 3,
    "start_time": "2021-11-21T13:14:58.108Z"
   },
   {
    "duration": 10,
    "start_time": "2021-11-21T13:14:59.232Z"
   },
   {
    "duration": 54,
    "start_time": "2021-11-21T13:15:01.456Z"
   },
   {
    "duration": 30,
    "start_time": "2021-11-21T13:15:05.518Z"
   },
   {
    "duration": 34,
    "start_time": "2021-11-21T13:15:07.191Z"
   },
   {
    "duration": 3,
    "start_time": "2021-11-21T13:15:10.976Z"
   },
   {
    "duration": 20,
    "start_time": "2021-11-21T13:15:12.691Z"
   },
   {
    "duration": 21,
    "start_time": "2021-11-21T13:15:14.992Z"
   },
   {
    "duration": 14,
    "start_time": "2021-11-21T13:15:15.705Z"
   },
   {
    "duration": 13,
    "start_time": "2021-11-21T13:15:16.835Z"
   },
   {
    "duration": 21,
    "start_time": "2021-11-21T13:15:18.289Z"
   },
   {
    "duration": 14,
    "start_time": "2021-11-21T13:15:19.121Z"
   },
   {
    "duration": 13,
    "start_time": "2021-11-21T13:15:20.565Z"
   },
   {
    "duration": 9,
    "start_time": "2021-11-21T13:15:23.558Z"
   },
   {
    "duration": 9,
    "start_time": "2021-11-21T13:15:25.345Z"
   },
   {
    "duration": 4,
    "start_time": "2021-11-21T15:23:10.178Z"
   },
   {
    "duration": 263,
    "start_time": "2021-11-21T15:23:57.481Z"
   },
   {
    "duration": 4,
    "start_time": "2021-11-21T15:24:18.784Z"
   },
   {
    "duration": 4,
    "start_time": "2021-11-21T15:24:37.819Z"
   },
   {
    "duration": 696,
    "start_time": "2021-11-21T15:24:52.783Z"
   },
   {
    "duration": 134,
    "start_time": "2021-11-21T15:24:54.093Z"
   },
   {
    "duration": 16,
    "start_time": "2021-11-21T15:24:54.939Z"
   },
   {
    "duration": 23,
    "start_time": "2021-11-21T15:24:56.341Z"
   },
   {
    "duration": 4,
    "start_time": "2021-11-21T15:24:59.049Z"
   },
   {
    "duration": 16,
    "start_time": "2021-11-21T15:25:00.350Z"
   },
   {
    "duration": 4,
    "start_time": "2021-11-21T15:25:01.807Z"
   },
   {
    "duration": 20,
    "start_time": "2021-11-21T15:25:02.644Z"
   },
   {
    "duration": 27,
    "start_time": "2021-11-21T15:25:04.338Z"
   },
   {
    "duration": 20,
    "start_time": "2021-11-21T15:25:05.049Z"
   },
   {
    "duration": 51,
    "start_time": "2021-11-21T15:25:07.095Z"
   },
   {
    "duration": 58,
    "start_time": "2021-11-21T15:25:07.917Z"
   },
   {
    "duration": 49,
    "start_time": "2021-11-21T15:25:08.848Z"
   },
   {
    "duration": 48,
    "start_time": "2021-11-21T15:25:10.181Z"
   },
   {
    "duration": 3,
    "start_time": "2021-11-21T15:25:12.858Z"
   },
   {
    "duration": 11,
    "start_time": "2021-11-21T15:25:13.701Z"
   },
   {
    "duration": 47,
    "start_time": "2021-11-21T15:25:15.337Z"
   },
   {
    "duration": 29,
    "start_time": "2021-11-21T15:25:18.449Z"
   },
   {
    "duration": 28,
    "start_time": "2021-11-21T15:25:19.850Z"
   },
   {
    "duration": 4,
    "start_time": "2021-11-21T15:25:21.757Z"
   },
   {
    "duration": 15,
    "start_time": "2021-11-21T15:25:23.338Z"
   },
   {
    "duration": 13,
    "start_time": "2021-11-21T15:25:24.116Z"
   },
   {
    "duration": 15,
    "start_time": "2021-11-21T15:25:25.305Z"
   },
   {
    "duration": 16,
    "start_time": "2021-11-21T15:25:26.987Z"
   },
   {
    "duration": 13,
    "start_time": "2021-11-21T15:25:27.447Z"
   },
   {
    "duration": 15,
    "start_time": "2021-11-21T15:25:29.851Z"
   },
   {
    "duration": 15,
    "start_time": "2021-11-21T15:25:31.535Z"
   },
   {
    "duration": 8,
    "start_time": "2021-11-21T15:25:33.078Z"
   },
   {
    "duration": 10,
    "start_time": "2021-11-21T15:25:35.945Z"
   },
   {
    "duration": 9,
    "start_time": "2021-11-21T15:25:36.681Z"
   },
   {
    "duration": 6,
    "start_time": "2021-11-21T15:25:37.986Z"
   },
   {
    "duration": 19,
    "start_time": "2021-11-21T15:25:39.969Z"
   },
   {
    "duration": 21,
    "start_time": "2021-11-21T15:39:14.287Z"
   },
   {
    "duration": 22,
    "start_time": "2021-11-21T15:40:48.097Z"
   },
   {
    "duration": 17,
    "start_time": "2021-11-21T15:41:57.132Z"
   },
   {
    "duration": 20,
    "start_time": "2021-11-21T15:42:02.951Z"
   },
   {
    "duration": 19,
    "start_time": "2021-11-21T15:46:29.989Z"
   },
   {
    "duration": 3,
    "start_time": "2021-11-21T15:47:55.104Z"
   },
   {
    "duration": 20,
    "start_time": "2021-11-21T15:47:57.181Z"
   },
   {
    "duration": 20,
    "start_time": "2021-11-21T15:48:42.184Z"
   },
   {
    "duration": 20,
    "start_time": "2021-11-21T15:48:50.702Z"
   },
   {
    "duration": 20,
    "start_time": "2021-11-21T15:48:52.439Z"
   },
   {
    "duration": 542,
    "start_time": "2021-11-21T15:49:20.548Z"
   },
   {
    "duration": 122,
    "start_time": "2021-11-21T15:49:21.981Z"
   },
   {
    "duration": 15,
    "start_time": "2021-11-21T15:49:22.749Z"
   },
   {
    "duration": 23,
    "start_time": "2021-11-21T15:49:24.180Z"
   },
   {
    "duration": 4,
    "start_time": "2021-11-21T15:49:27.416Z"
   },
   {
    "duration": 17,
    "start_time": "2021-11-21T15:49:29.199Z"
   },
   {
    "duration": 4,
    "start_time": "2021-11-21T15:49:30.820Z"
   },
   {
    "duration": 22,
    "start_time": "2021-11-21T15:49:32.216Z"
   },
   {
    "duration": 28,
    "start_time": "2021-11-21T15:49:34.276Z"
   },
   {
    "duration": 21,
    "start_time": "2021-11-21T15:49:35.799Z"
   },
   {
    "duration": 54,
    "start_time": "2021-11-21T15:49:37.326Z"
   },
   {
    "duration": 60,
    "start_time": "2021-11-21T15:49:38.600Z"
   },
   {
    "duration": 49,
    "start_time": "2021-11-21T15:49:39.372Z"
   },
   {
    "duration": 43,
    "start_time": "2021-11-21T15:49:40.721Z"
   },
   {
    "duration": 3,
    "start_time": "2021-11-21T15:49:43.859Z"
   },
   {
    "duration": 9,
    "start_time": "2021-11-21T15:49:45.262Z"
   },
   {
    "duration": 47,
    "start_time": "2021-11-21T15:49:46.682Z"
   },
   {
    "duration": 30,
    "start_time": "2021-11-21T15:49:50.045Z"
   },
   {
    "duration": 28,
    "start_time": "2021-11-21T15:49:53.090Z"
   },
   {
    "duration": 4,
    "start_time": "2021-11-21T15:49:55.184Z"
   },
   {
    "duration": 15,
    "start_time": "2021-11-21T15:49:56.904Z"
   },
   {
    "duration": 14,
    "start_time": "2021-11-21T15:49:57.797Z"
   },
   {
    "duration": 13,
    "start_time": "2021-11-21T15:49:59.060Z"
   },
   {
    "duration": 13,
    "start_time": "2021-11-21T15:49:59.850Z"
   },
   {
    "duration": 15,
    "start_time": "2021-11-21T15:50:01.346Z"
   },
   {
    "duration": 14,
    "start_time": "2021-11-21T15:50:02.299Z"
   },
   {
    "duration": 8,
    "start_time": "2021-11-21T15:50:04.063Z"
   },
   {
    "duration": 10,
    "start_time": "2021-11-21T15:50:09.786Z"
   },
   {
    "duration": 8,
    "start_time": "2021-11-21T15:50:11.377Z"
   },
   {
    "duration": 3,
    "start_time": "2021-11-21T15:50:13.514Z"
   },
   {
    "duration": 21,
    "start_time": "2021-11-21T15:50:15.359Z"
   },
   {
    "duration": 19,
    "start_time": "2021-11-21T15:50:17.616Z"
   },
   {
    "duration": 19,
    "start_time": "2021-11-21T15:51:28.517Z"
   },
   {
    "duration": 26,
    "start_time": "2021-11-21T15:51:55.451Z"
   },
   {
    "duration": 11,
    "start_time": "2021-11-21T15:53:30.670Z"
   },
   {
    "duration": 10,
    "start_time": "2021-11-21T15:53:31.652Z"
   },
   {
    "duration": 4,
    "start_time": "2021-11-21T15:53:33.442Z"
   },
   {
    "duration": 17,
    "start_time": "2021-11-21T15:53:35.264Z"
   },
   {
    "duration": 11,
    "start_time": "2021-11-21T15:53:37.141Z"
   },
   {
    "duration": 16,
    "start_time": "2021-11-21T15:53:38.735Z"
   },
   {
    "duration": 11,
    "start_time": "2021-11-21T15:53:40.074Z"
   },
   {
    "duration": 7,
    "start_time": "2021-11-21T16:28:41.064Z"
   },
   {
    "duration": 7,
    "start_time": "2021-11-21T16:28:43.784Z"
   },
   {
    "duration": 304,
    "start_time": "2021-11-21T16:30:28.803Z"
   },
   {
    "duration": 26,
    "start_time": "2021-11-21T16:32:25.787Z"
   },
   {
    "duration": 76,
    "start_time": "2021-11-21T16:37:39.768Z"
   },
   {
    "duration": 76,
    "start_time": "2021-11-21T16:37:48.526Z"
   },
   {
    "duration": 6,
    "start_time": "2021-11-21T16:37:57.299Z"
   },
   {
    "duration": 6,
    "start_time": "2021-11-21T16:37:58.944Z"
   },
   {
    "duration": 8,
    "start_time": "2021-11-21T16:38:11.324Z"
   },
   {
    "duration": 8,
    "start_time": "2021-11-21T16:38:50.366Z"
   },
   {
    "duration": 5,
    "start_time": "2021-11-21T16:39:24.933Z"
   },
   {
    "duration": 9,
    "start_time": "2021-11-21T16:39:39.160Z"
   },
   {
    "duration": 5,
    "start_time": "2021-11-21T16:39:40.982Z"
   },
   {
    "duration": 7,
    "start_time": "2021-11-21T16:39:53.591Z"
   },
   {
    "duration": 4,
    "start_time": "2021-11-21T16:39:58.745Z"
   },
   {
    "duration": 5,
    "start_time": "2021-11-21T16:41:22.137Z"
   },
   {
    "duration": 5,
    "start_time": "2021-11-21T16:41:39.259Z"
   },
   {
    "duration": 753,
    "start_time": "2021-11-22T08:15:57.431Z"
   },
   {
    "duration": 178,
    "start_time": "2021-11-22T08:15:58.187Z"
   },
   {
    "duration": 24,
    "start_time": "2021-11-22T08:15:58.371Z"
   },
   {
    "duration": 40,
    "start_time": "2021-11-22T08:15:58.397Z"
   },
   {
    "duration": 5,
    "start_time": "2021-11-22T08:15:58.460Z"
   },
   {
    "duration": 27,
    "start_time": "2021-11-22T08:15:58.467Z"
   },
   {
    "duration": 6,
    "start_time": "2021-11-22T08:15:58.498Z"
   },
   {
    "duration": 62,
    "start_time": "2021-11-22T08:15:58.507Z"
   },
   {
    "duration": 42,
    "start_time": "2021-11-22T08:15:58.572Z"
   },
   {
    "duration": 48,
    "start_time": "2021-11-22T08:15:58.616Z"
   },
   {
    "duration": 97,
    "start_time": "2021-11-22T08:15:58.666Z"
   },
   {
    "duration": 100,
    "start_time": "2021-11-22T08:15:58.766Z"
   },
   {
    "duration": 92,
    "start_time": "2021-11-22T08:15:58.868Z"
   },
   {
    "duration": 79,
    "start_time": "2021-11-22T08:15:58.963Z"
   },
   {
    "duration": 16,
    "start_time": "2021-11-22T08:15:59.045Z"
   },
   {
    "duration": 23,
    "start_time": "2021-11-22T08:15:59.064Z"
   },
   {
    "duration": 96,
    "start_time": "2021-11-22T08:15:59.089Z"
   },
   {
    "duration": 11,
    "start_time": "2021-11-22T08:15:59.187Z"
   },
   {
    "duration": 11,
    "start_time": "2021-11-22T08:15:59.200Z"
   },
   {
    "duration": 4,
    "start_time": "2021-11-22T08:15:59.213Z"
   },
   {
    "duration": 56,
    "start_time": "2021-11-22T08:15:59.220Z"
   },
   {
    "duration": 18,
    "start_time": "2021-11-22T08:15:59.281Z"
   },
   {
    "duration": 19,
    "start_time": "2021-11-22T08:15:59.302Z"
   },
   {
    "duration": 43,
    "start_time": "2021-11-22T08:15:59.324Z"
   },
   {
    "duration": 21,
    "start_time": "2021-11-22T08:15:59.369Z"
   },
   {
    "duration": 19,
    "start_time": "2021-11-22T08:15:59.392Z"
   },
   {
    "duration": 45,
    "start_time": "2021-11-22T08:15:59.414Z"
   },
   {
    "duration": 14,
    "start_time": "2021-11-22T08:15:59.462Z"
   },
   {
    "duration": 12,
    "start_time": "2021-11-22T08:15:59.479Z"
   },
   {
    "duration": 11,
    "start_time": "2021-11-22T08:15:59.494Z"
   },
   {
    "duration": 52,
    "start_time": "2021-11-22T08:15:59.507Z"
   },
   {
    "duration": 18,
    "start_time": "2021-11-22T08:15:59.562Z"
   },
   {
    "duration": 24,
    "start_time": "2021-11-22T08:15:59.582Z"
   },
   {
    "duration": 17,
    "start_time": "2021-11-22T08:15:59.608Z"
   },
   {
    "duration": 9,
    "start_time": "2021-11-22T08:15:59.660Z"
   },
   {
    "duration": 6,
    "start_time": "2021-11-22T08:15:59.671Z"
   },
   {
    "duration": 9,
    "start_time": "2021-11-22T08:15:59.679Z"
   },
   {
    "duration": 7,
    "start_time": "2021-11-22T08:15:59.690Z"
   },
   {
    "duration": 65,
    "start_time": "2021-11-22T08:18:56.599Z"
   },
   {
    "duration": 64,
    "start_time": "2021-11-22T08:19:08.298Z"
   },
   {
    "duration": 19,
    "start_time": "2021-11-22T08:22:02.917Z"
   },
   {
    "duration": 58,
    "start_time": "2021-11-22T08:28:14.468Z"
   },
   {
    "duration": 544,
    "start_time": "2021-11-22T14:03:17.152Z"
   },
   {
    "duration": 117,
    "start_time": "2021-11-22T14:03:18.642Z"
   },
   {
    "duration": 15,
    "start_time": "2021-11-22T14:03:20.018Z"
   },
   {
    "duration": 23,
    "start_time": "2021-11-22T14:03:22.270Z"
   },
   {
    "duration": 3,
    "start_time": "2021-11-22T14:03:26.341Z"
   },
   {
    "duration": 18,
    "start_time": "2021-11-22T14:03:28.364Z"
   },
   {
    "duration": 4,
    "start_time": "2021-11-22T14:03:30.709Z"
   },
   {
    "duration": 22,
    "start_time": "2021-11-22T14:03:32.068Z"
   },
   {
    "duration": 15,
    "start_time": "2021-11-22T14:13:24.485Z"
   },
   {
    "duration": 21,
    "start_time": "2021-11-22T14:13:26.875Z"
   },
   {
    "duration": 55,
    "start_time": "2021-11-22T14:13:29.349Z"
   },
   {
    "duration": 65,
    "start_time": "2021-11-22T14:13:31.117Z"
   },
   {
    "duration": 51,
    "start_time": "2021-11-22T14:13:32.830Z"
   },
   {
    "duration": 53,
    "start_time": "2021-11-22T14:14:15.622Z"
   },
   {
    "duration": 47,
    "start_time": "2021-11-22T14:14:16.506Z"
   },
   {
    "duration": 37,
    "start_time": "2021-11-22T14:15:56.033Z"
   },
   {
    "duration": 4,
    "start_time": "2021-11-22T14:36:21.881Z"
   },
   {
    "duration": 173,
    "start_time": "2021-11-22T14:39:19.955Z"
   },
   {
    "duration": 598,
    "start_time": "2021-11-22T14:39:53.380Z"
   },
   {
    "duration": 617,
    "start_time": "2021-11-22T14:40:07.816Z"
   },
   {
    "duration": 175,
    "start_time": "2021-11-22T14:40:09.557Z"
   },
   {
    "duration": 23,
    "start_time": "2021-11-22T14:40:11.001Z"
   },
   {
    "duration": 23,
    "start_time": "2021-11-22T14:40:12.649Z"
   },
   {
    "duration": 4,
    "start_time": "2021-11-22T14:40:16.407Z"
   },
   {
    "duration": 17,
    "start_time": "2021-11-22T14:40:18.430Z"
   },
   {
    "duration": 4,
    "start_time": "2021-11-22T14:40:19.870Z"
   },
   {
    "duration": 21,
    "start_time": "2021-11-22T14:40:21.383Z"
   },
   {
    "duration": 16,
    "start_time": "2021-11-22T14:40:23.660Z"
   },
   {
    "duration": 16,
    "start_time": "2021-11-22T14:40:25.691Z"
   },
   {
    "duration": 21,
    "start_time": "2021-11-22T14:40:36.743Z"
   },
   {
    "duration": 50,
    "start_time": "2021-11-22T14:40:38.789Z"
   },
   {
    "duration": 52,
    "start_time": "2021-11-22T14:40:39.896Z"
   },
   {
    "duration": 52,
    "start_time": "2021-11-22T14:40:41.253Z"
   },
   {
    "duration": 3,
    "start_time": "2021-11-22T14:40:52.606Z"
   },
   {
    "duration": 10,
    "start_time": "2021-11-22T14:40:54.434Z"
   },
   {
    "duration": 331,
    "start_time": "2021-11-22T14:42:26.762Z"
   },
   {
    "duration": 11,
    "start_time": "2021-11-22T14:42:30.544Z"
   },
   {
    "duration": 729,
    "start_time": "2021-11-22T14:42:53.411Z"
   },
   {
    "duration": 165,
    "start_time": "2021-11-22T14:42:54.415Z"
   },
   {
    "duration": 15,
    "start_time": "2021-11-22T14:42:55.649Z"
   },
   {
    "duration": 22,
    "start_time": "2021-11-22T14:42:56.848Z"
   },
   {
    "duration": 4,
    "start_time": "2021-11-22T14:42:59.670Z"
   },
   {
    "duration": 19,
    "start_time": "2021-11-22T14:43:01.117Z"
   },
   {
    "duration": 4,
    "start_time": "2021-11-22T14:43:02.723Z"
   },
   {
    "duration": 36,
    "start_time": "2021-11-22T14:43:03.628Z"
   },
   {
    "duration": 25,
    "start_time": "2021-11-22T14:43:05.690Z"
   },
   {
    "duration": 37,
    "start_time": "2021-11-22T14:43:07.018Z"
   },
   {
    "duration": 84,
    "start_time": "2021-11-22T14:43:08.906Z"
   },
   {
    "duration": 61,
    "start_time": "2021-11-22T14:43:10.124Z"
   },
   {
    "duration": 46,
    "start_time": "2021-11-22T14:43:12.113Z"
   },
   {
    "duration": 3,
    "start_time": "2021-11-22T14:43:17.195Z"
   },
   {
    "duration": 13,
    "start_time": "2021-11-22T14:43:18.141Z"
   },
   {
    "duration": 77,
    "start_time": "2021-11-22T14:43:20.002Z"
   },
   {
    "duration": 1456,
    "start_time": "2021-11-22T14:43:24.242Z"
   },
   {
    "duration": 11,
    "start_time": "2021-11-22T14:43:31.058Z"
   },
   {
    "duration": 90,
    "start_time": "2021-11-22T14:46:03.316Z"
   },
   {
    "duration": 375,
    "start_time": "2021-11-23T13:11:11.358Z"
   },
   {
    "duration": 1082,
    "start_time": "2021-11-23T13:11:31.265Z"
   },
   {
    "duration": 267,
    "start_time": "2021-11-23T13:11:32.734Z"
   },
   {
    "duration": 38,
    "start_time": "2021-11-23T13:11:34.153Z"
   },
   {
    "duration": 52,
    "start_time": "2021-11-23T13:11:37.669Z"
   },
   {
    "duration": 6,
    "start_time": "2021-11-23T13:11:41.137Z"
   },
   {
    "duration": 33,
    "start_time": "2021-11-23T13:11:42.564Z"
   },
   {
    "duration": 35,
    "start_time": "2021-11-23T13:11:43.423Z"
   },
   {
    "duration": 7,
    "start_time": "2021-11-23T13:11:44.984Z"
   },
   {
    "duration": 48,
    "start_time": "2021-11-23T13:11:46.016Z"
   },
   {
    "duration": 24,
    "start_time": "2021-11-23T13:11:47.894Z"
   },
   {
    "duration": 32,
    "start_time": "2021-11-23T13:11:51.300Z"
   },
   {
    "duration": 98,
    "start_time": "2021-11-23T13:11:53.342Z"
   },
   {
    "duration": 135,
    "start_time": "2021-11-23T13:11:54.327Z"
   },
   {
    "duration": 151,
    "start_time": "2021-11-23T13:11:55.717Z"
   },
   {
    "duration": 5,
    "start_time": "2021-11-23T13:12:44.537Z"
   },
   {
    "duration": 14,
    "start_time": "2021-11-23T13:12:45.427Z"
   },
   {
    "duration": 66,
    "start_time": "2021-11-23T13:14:20.875Z"
   },
   {
    "duration": 99,
    "start_time": "2021-11-23T13:15:43.219Z"
   },
   {
    "duration": 14,
    "start_time": "2021-11-23T13:16:08.596Z"
   },
   {
    "duration": 16,
    "start_time": "2021-11-23T13:16:10.996Z"
   },
   {
    "duration": 110,
    "start_time": "2021-11-23T13:16:20.300Z"
   },
   {
    "duration": 113,
    "start_time": "2021-11-23T13:17:31.737Z"
   },
   {
    "duration": 99,
    "start_time": "2021-11-23T13:18:41.742Z"
   },
   {
    "duration": 5,
    "start_time": "2021-11-23T13:19:05.870Z"
   },
   {
    "duration": 20,
    "start_time": "2021-11-23T13:19:33.491Z"
   },
   {
    "duration": 19,
    "start_time": "2021-11-23T13:19:34.584Z"
   },
   {
    "duration": 21,
    "start_time": "2021-11-23T13:19:35.347Z"
   },
   {
    "duration": 17,
    "start_time": "2021-11-23T13:19:36.693Z"
   },
   {
    "duration": 27,
    "start_time": "2021-11-23T13:19:37.294Z"
   },
   {
    "duration": 29,
    "start_time": "2021-11-23T13:19:38.609Z"
   },
   {
    "duration": 12,
    "start_time": "2021-11-23T13:19:41.894Z"
   },
   {
    "duration": 15,
    "start_time": "2021-11-23T13:19:44.809Z"
   },
   {
    "duration": 13,
    "start_time": "2021-11-23T13:19:45.534Z"
   },
   {
    "duration": 11,
    "start_time": "2021-11-23T13:19:47.086Z"
   },
   {
    "duration": 6,
    "start_time": "2021-11-23T13:22:04.968Z"
   },
   {
    "duration": 98,
    "start_time": "2021-11-23T13:22:36.547Z"
   },
   {
    "duration": 807,
    "start_time": "2021-11-23T13:23:00.368Z"
   },
   {
    "duration": 6,
    "start_time": "2021-11-23T13:24:12.241Z"
   },
   {
    "duration": 26,
    "start_time": "2021-11-23T13:24:50.689Z"
   },
   {
    "duration": 17,
    "start_time": "2021-11-23T13:24:52.495Z"
   },
   {
    "duration": 26,
    "start_time": "2021-11-23T13:24:53.793Z"
   },
   {
    "duration": 19,
    "start_time": "2021-11-23T13:24:55.737Z"
   },
   {
    "duration": 318,
    "start_time": "2021-11-23T13:24:59.537Z"
   },
   {
    "duration": 12,
    "start_time": "2021-11-23T13:25:09.893Z"
   },
   {
    "duration": 11,
    "start_time": "2021-11-23T13:25:13.321Z"
   },
   {
    "duration": 13,
    "start_time": "2021-11-23T13:25:42.346Z"
   },
   {
    "duration": 13,
    "start_time": "2021-11-23T13:29:53.340Z"
   },
   {
    "duration": 7,
    "start_time": "2021-11-23T13:29:54.968Z"
   },
   {
    "duration": 547,
    "start_time": "2021-11-23T13:29:56.409Z"
   },
   {
    "duration": 9,
    "start_time": "2021-11-23T13:30:05.821Z"
   },
   {
    "duration": 10,
    "start_time": "2021-11-23T13:30:08.088Z"
   },
   {
    "duration": 9,
    "start_time": "2021-11-23T13:30:30.055Z"
   },
   {
    "duration": 7,
    "start_time": "2021-11-23T13:30:31.328Z"
   },
   {
    "duration": 555,
    "start_time": "2021-11-24T08:43:42.635Z"
   },
   {
    "duration": 139,
    "start_time": "2021-11-24T08:43:43.192Z"
   },
   {
    "duration": 17,
    "start_time": "2021-11-24T08:43:43.333Z"
   },
   {
    "duration": 24,
    "start_time": "2021-11-24T08:43:43.352Z"
   },
   {
    "duration": 3,
    "start_time": "2021-11-24T08:43:43.378Z"
   },
   {
    "duration": 40,
    "start_time": "2021-11-24T08:43:43.382Z"
   },
   {
    "duration": 12,
    "start_time": "2021-11-24T08:43:43.424Z"
   },
   {
    "duration": 27,
    "start_time": "2021-11-24T08:43:43.438Z"
   },
   {
    "duration": 18,
    "start_time": "2021-11-24T08:43:43.469Z"
   },
   {
    "duration": 38,
    "start_time": "2021-11-24T08:43:43.489Z"
   },
   {
    "duration": 58,
    "start_time": "2021-11-24T08:43:43.529Z"
   },
   {
    "duration": 70,
    "start_time": "2021-11-24T08:43:43.606Z"
   },
   {
    "duration": 71,
    "start_time": "2021-11-24T08:43:43.678Z"
   },
   {
    "duration": 3,
    "start_time": "2021-11-24T08:43:43.751Z"
   },
   {
    "duration": 13,
    "start_time": "2021-11-24T08:43:43.757Z"
   },
   {
    "duration": 57,
    "start_time": "2021-11-24T08:43:43.772Z"
   },
   {
    "duration": 12,
    "start_time": "2021-11-24T08:43:43.831Z"
   },
   {
    "duration": 13,
    "start_time": "2021-11-24T08:43:43.844Z"
   },
   {
    "duration": 5,
    "start_time": "2021-11-24T08:43:43.858Z"
   },
   {
    "duration": 44,
    "start_time": "2021-11-24T08:43:43.865Z"
   },
   {
    "duration": 13,
    "start_time": "2021-11-24T08:43:43.911Z"
   },
   {
    "duration": 14,
    "start_time": "2021-11-24T08:43:43.925Z"
   },
   {
    "duration": 13,
    "start_time": "2021-11-24T08:43:43.940Z"
   },
   {
    "duration": 18,
    "start_time": "2021-11-24T08:43:43.954Z"
   },
   {
    "duration": 40,
    "start_time": "2021-11-24T08:43:43.974Z"
   },
   {
    "duration": 10,
    "start_time": "2021-11-24T08:43:44.016Z"
   },
   {
    "duration": 13,
    "start_time": "2021-11-24T08:43:44.029Z"
   },
   {
    "duration": 9,
    "start_time": "2021-11-24T08:43:44.044Z"
   },
   {
    "duration": 9,
    "start_time": "2021-11-24T08:43:44.055Z"
   },
   {
    "duration": 24,
    "start_time": "2021-11-24T08:43:44.066Z"
   },
   {
    "duration": 25,
    "start_time": "2021-11-24T08:43:44.092Z"
   },
   {
    "duration": 16,
    "start_time": "2021-11-24T08:43:44.119Z"
   },
   {
    "duration": 11,
    "start_time": "2021-11-24T08:43:44.137Z"
   },
   {
    "duration": 9,
    "start_time": "2021-11-24T08:43:44.150Z"
   },
   {
    "duration": 4,
    "start_time": "2021-11-24T08:43:44.161Z"
   },
   {
    "duration": 43,
    "start_time": "2021-11-24T08:43:44.167Z"
   },
   {
    "duration": 4,
    "start_time": "2021-11-24T08:43:44.212Z"
   }
  ],
  "colab": {
   "collapsed_sections": [
    "E0vqbgi9ay0H",
    "VUC88oWjTJw2"
   ],
   "name": "yandex_music_project_2021.2.ipynb",
   "provenance": []
  },
  "kernelspec": {
   "display_name": "Python 3 (ipykernel)",
   "language": "python",
   "name": "python3"
  },
  "language_info": {
   "codemirror_mode": {
    "name": "ipython",
    "version": 3
   },
   "file_extension": ".py",
   "mimetype": "text/x-python",
   "name": "python",
   "nbconvert_exporter": "python",
   "pygments_lexer": "ipython3",
   "version": "3.9.5"
  },
  "toc": {
   "base_numbering": 1,
   "nav_menu": {},
   "number_sections": true,
   "sideBar": true,
   "skip_h1_title": true,
   "title_cell": "Table of Contents",
   "title_sidebar": "Contents",
   "toc_cell": false,
   "toc_position": {
    "height": "calc(100% - 180px)",
    "left": "10px",
    "top": "150px",
    "width": "200.312px"
   },
   "toc_section_display": true,
   "toc_window_display": false
  }
 },
 "nbformat": 4,
 "nbformat_minor": 1
}

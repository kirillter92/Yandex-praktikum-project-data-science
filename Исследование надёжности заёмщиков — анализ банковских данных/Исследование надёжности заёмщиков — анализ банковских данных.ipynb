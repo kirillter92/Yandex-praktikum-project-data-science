{
 "cells": [
  {
   "cell_type": "markdown",
   "metadata": {},
   "source": [
    "# Исследование надёжности заёмщиков\n",
    "\n",
    "Заказчик — кредитный отдел банка. Нужно разобраться, влияет ли семейное положение и количество детей клиента на факт погашения кредита в срок. Входные данные от банка — статистика о платёжеспособности клиентов.\n",
    "\n",
    "Результаты исследования будут учтены при построении модели **кредитного скоринга** — специальной системы, которая оценивает способность потенциального заёмщика вернуть кредит банку."
   ]
  },
  {
   "cell_type": "markdown",
   "metadata": {},
   "source": [
    "## Шаг 1. Откройте файл с данными и изучите общую информацию"
   ]
  },
  {
   "cell_type": "code",
   "execution_count": 1,
   "metadata": {},
   "outputs": [],
   "source": [
    "import pandas as pd "
   ]
  },
  {
   "cell_type": "code",
   "execution_count": 2,
   "metadata": {},
   "outputs": [],
   "source": [
    "df = pd.read_csv('/datasets/data.csv')"
   ]
  },
  {
   "cell_type": "code",
   "execution_count": 3,
   "metadata": {},
   "outputs": [
    {
     "data": {
      "text/html": [
       "<div>\n",
       "<style scoped>\n",
       "    .dataframe tbody tr th:only-of-type {\n",
       "        vertical-align: middle;\n",
       "    }\n",
       "\n",
       "    .dataframe tbody tr th {\n",
       "        vertical-align: top;\n",
       "    }\n",
       "\n",
       "    .dataframe thead th {\n",
       "        text-align: right;\n",
       "    }\n",
       "</style>\n",
       "<table border=\"1\" class=\"dataframe\">\n",
       "  <thead>\n",
       "    <tr style=\"text-align: right;\">\n",
       "      <th></th>\n",
       "      <th>children</th>\n",
       "      <th>days_employed</th>\n",
       "      <th>dob_years</th>\n",
       "      <th>education</th>\n",
       "      <th>education_id</th>\n",
       "      <th>family_status</th>\n",
       "      <th>family_status_id</th>\n",
       "      <th>gender</th>\n",
       "      <th>income_type</th>\n",
       "      <th>debt</th>\n",
       "      <th>total_income</th>\n",
       "      <th>purpose</th>\n",
       "    </tr>\n",
       "  </thead>\n",
       "  <tbody>\n",
       "    <tr>\n",
       "      <td>0</td>\n",
       "      <td>1</td>\n",
       "      <td>-8437.673028</td>\n",
       "      <td>42</td>\n",
       "      <td>высшее</td>\n",
       "      <td>0</td>\n",
       "      <td>женат / замужем</td>\n",
       "      <td>0</td>\n",
       "      <td>F</td>\n",
       "      <td>сотрудник</td>\n",
       "      <td>0</td>\n",
       "      <td>253875.639453</td>\n",
       "      <td>покупка жилья</td>\n",
       "    </tr>\n",
       "    <tr>\n",
       "      <td>1</td>\n",
       "      <td>1</td>\n",
       "      <td>-4024.803754</td>\n",
       "      <td>36</td>\n",
       "      <td>среднее</td>\n",
       "      <td>1</td>\n",
       "      <td>женат / замужем</td>\n",
       "      <td>0</td>\n",
       "      <td>F</td>\n",
       "      <td>сотрудник</td>\n",
       "      <td>0</td>\n",
       "      <td>112080.014102</td>\n",
       "      <td>приобретение автомобиля</td>\n",
       "    </tr>\n",
       "    <tr>\n",
       "      <td>2</td>\n",
       "      <td>0</td>\n",
       "      <td>-5623.422610</td>\n",
       "      <td>33</td>\n",
       "      <td>Среднее</td>\n",
       "      <td>1</td>\n",
       "      <td>женат / замужем</td>\n",
       "      <td>0</td>\n",
       "      <td>M</td>\n",
       "      <td>сотрудник</td>\n",
       "      <td>0</td>\n",
       "      <td>145885.952297</td>\n",
       "      <td>покупка жилья</td>\n",
       "    </tr>\n",
       "    <tr>\n",
       "      <td>3</td>\n",
       "      <td>3</td>\n",
       "      <td>-4124.747207</td>\n",
       "      <td>32</td>\n",
       "      <td>среднее</td>\n",
       "      <td>1</td>\n",
       "      <td>женат / замужем</td>\n",
       "      <td>0</td>\n",
       "      <td>M</td>\n",
       "      <td>сотрудник</td>\n",
       "      <td>0</td>\n",
       "      <td>267628.550329</td>\n",
       "      <td>дополнительное образование</td>\n",
       "    </tr>\n",
       "    <tr>\n",
       "      <td>4</td>\n",
       "      <td>0</td>\n",
       "      <td>340266.072047</td>\n",
       "      <td>53</td>\n",
       "      <td>среднее</td>\n",
       "      <td>1</td>\n",
       "      <td>гражданский брак</td>\n",
       "      <td>1</td>\n",
       "      <td>F</td>\n",
       "      <td>пенсионер</td>\n",
       "      <td>0</td>\n",
       "      <td>158616.077870</td>\n",
       "      <td>сыграть свадьбу</td>\n",
       "    </tr>\n",
       "    <tr>\n",
       "      <td>5</td>\n",
       "      <td>0</td>\n",
       "      <td>-926.185831</td>\n",
       "      <td>27</td>\n",
       "      <td>высшее</td>\n",
       "      <td>0</td>\n",
       "      <td>гражданский брак</td>\n",
       "      <td>1</td>\n",
       "      <td>M</td>\n",
       "      <td>компаньон</td>\n",
       "      <td>0</td>\n",
       "      <td>255763.565419</td>\n",
       "      <td>покупка жилья</td>\n",
       "    </tr>\n",
       "    <tr>\n",
       "      <td>6</td>\n",
       "      <td>0</td>\n",
       "      <td>-2879.202052</td>\n",
       "      <td>43</td>\n",
       "      <td>высшее</td>\n",
       "      <td>0</td>\n",
       "      <td>женат / замужем</td>\n",
       "      <td>0</td>\n",
       "      <td>F</td>\n",
       "      <td>компаньон</td>\n",
       "      <td>0</td>\n",
       "      <td>240525.971920</td>\n",
       "      <td>операции с жильем</td>\n",
       "    </tr>\n",
       "    <tr>\n",
       "      <td>7</td>\n",
       "      <td>0</td>\n",
       "      <td>-152.779569</td>\n",
       "      <td>50</td>\n",
       "      <td>СРЕДНЕЕ</td>\n",
       "      <td>1</td>\n",
       "      <td>женат / замужем</td>\n",
       "      <td>0</td>\n",
       "      <td>M</td>\n",
       "      <td>сотрудник</td>\n",
       "      <td>0</td>\n",
       "      <td>135823.934197</td>\n",
       "      <td>образование</td>\n",
       "    </tr>\n",
       "    <tr>\n",
       "      <td>8</td>\n",
       "      <td>2</td>\n",
       "      <td>-6929.865299</td>\n",
       "      <td>35</td>\n",
       "      <td>ВЫСШЕЕ</td>\n",
       "      <td>0</td>\n",
       "      <td>гражданский брак</td>\n",
       "      <td>1</td>\n",
       "      <td>F</td>\n",
       "      <td>сотрудник</td>\n",
       "      <td>0</td>\n",
       "      <td>95856.832424</td>\n",
       "      <td>на проведение свадьбы</td>\n",
       "    </tr>\n",
       "    <tr>\n",
       "      <td>9</td>\n",
       "      <td>0</td>\n",
       "      <td>-2188.756445</td>\n",
       "      <td>41</td>\n",
       "      <td>среднее</td>\n",
       "      <td>1</td>\n",
       "      <td>женат / замужем</td>\n",
       "      <td>0</td>\n",
       "      <td>M</td>\n",
       "      <td>сотрудник</td>\n",
       "      <td>0</td>\n",
       "      <td>144425.938277</td>\n",
       "      <td>покупка жилья для семьи</td>\n",
       "    </tr>\n",
       "  </tbody>\n",
       "</table>\n",
       "</div>"
      ],
      "text/plain": [
       "   children  days_employed  dob_years education  education_id  \\\n",
       "0         1   -8437.673028         42    высшее             0   \n",
       "1         1   -4024.803754         36   среднее             1   \n",
       "2         0   -5623.422610         33   Среднее             1   \n",
       "3         3   -4124.747207         32   среднее             1   \n",
       "4         0  340266.072047         53   среднее             1   \n",
       "5         0    -926.185831         27    высшее             0   \n",
       "6         0   -2879.202052         43    высшее             0   \n",
       "7         0    -152.779569         50   СРЕДНЕЕ             1   \n",
       "8         2   -6929.865299         35    ВЫСШЕЕ             0   \n",
       "9         0   -2188.756445         41   среднее             1   \n",
       "\n",
       "      family_status  family_status_id gender income_type  debt   total_income  \\\n",
       "0   женат / замужем                 0      F   сотрудник     0  253875.639453   \n",
       "1   женат / замужем                 0      F   сотрудник     0  112080.014102   \n",
       "2   женат / замужем                 0      M   сотрудник     0  145885.952297   \n",
       "3   женат / замужем                 0      M   сотрудник     0  267628.550329   \n",
       "4  гражданский брак                 1      F   пенсионер     0  158616.077870   \n",
       "5  гражданский брак                 1      M   компаньон     0  255763.565419   \n",
       "6   женат / замужем                 0      F   компаньон     0  240525.971920   \n",
       "7   женат / замужем                 0      M   сотрудник     0  135823.934197   \n",
       "8  гражданский брак                 1      F   сотрудник     0   95856.832424   \n",
       "9   женат / замужем                 0      M   сотрудник     0  144425.938277   \n",
       "\n",
       "                      purpose  \n",
       "0               покупка жилья  \n",
       "1     приобретение автомобиля  \n",
       "2               покупка жилья  \n",
       "3  дополнительное образование  \n",
       "4             сыграть свадьбу  \n",
       "5               покупка жилья  \n",
       "6           операции с жильем  \n",
       "7                 образование  \n",
       "8       на проведение свадьбы  \n",
       "9     покупка жилья для семьи  "
      ]
     },
     "execution_count": 3,
     "metadata": {},
     "output_type": "execute_result"
    }
   ],
   "source": [
    "df.head(10)"
   ]
  },
  {
   "cell_type": "code",
   "execution_count": 4,
   "metadata": {},
   "outputs": [
    {
     "name": "stdout",
     "output_type": "stream",
     "text": [
      "<class 'pandas.core.frame.DataFrame'>\n",
      "RangeIndex: 21525 entries, 0 to 21524\n",
      "Data columns (total 12 columns):\n",
      "children            21525 non-null int64\n",
      "days_employed       19351 non-null float64\n",
      "dob_years           21525 non-null int64\n",
      "education           21525 non-null object\n",
      "education_id        21525 non-null int64\n",
      "family_status       21525 non-null object\n",
      "family_status_id    21525 non-null int64\n",
      "gender              21525 non-null object\n",
      "income_type         21525 non-null object\n",
      "debt                21525 non-null int64\n",
      "total_income        19351 non-null float64\n",
      "purpose             21525 non-null object\n",
      "dtypes: float64(2), int64(5), object(5)\n",
      "memory usage: 2.0+ MB\n"
     ]
    }
   ],
   "source": [
    "df.info()"
   ]
  },
  {
   "cell_type": "markdown",
   "metadata": {},
   "source": [
    "**Вывод**"
   ]
  },
  {
   "cell_type": "markdown",
   "metadata": {},
   "source": [
    "В таблице 12 столбцов:\n",
    "* children — количество детей в семье\n",
    "* days_employed — общий трудовой стаж в днях\n",
    "* dob_years — возраст клиента в годах\n",
    "* education — уровень образования клиента\n",
    "* education_id — идентификатор уровня образования\n",
    "* family_status — семейное положение\n",
    "* family_status_id — идентификатор семейного положения\n",
    "* gender — пол клиента\n",
    "* income_type — тип занятости\n",
    "* debt — имел ли задолженность по возврату кредитов\n",
    "* total_income — ежемесячный доход\n",
    "* purpose — цель получения кредита\n",
    "\n",
    "Наименование столбцов соответствует стилю. Столбцы имеют различный тип данных.\n",
    "\n",
    "Количество значений в столбцах различается. Значит, в данных есть пропущенные значения.\n",
    "\n",
    "В столбце **education** данные с разными регистрами.\n",
    "\n",
    "Предпологаяю, что столбец **days_employed** выражен в формате Unix time. Этот столбец не нужен для вычисления влияет ли семейное положение и количество детей клиента на факт погашения кредита в срок. Поэтому им можно принибречь.\n",
    "\n",
    "\n"
   ]
  },
  {
   "cell_type": "markdown",
   "metadata": {},
   "source": [
    "## Шаг 2. Предобработка данных"
   ]
  },
  {
   "cell_type": "markdown",
   "metadata": {},
   "source": [
    "### Обработка пропусков"
   ]
  },
  {
   "cell_type": "code",
   "execution_count": 5,
   "metadata": {},
   "outputs": [],
   "source": [
    "# Код ревьюера\n",
    "\n",
    "df_copy = df.copy()"
   ]
  },
  {
   "cell_type": "code",
   "execution_count": 6,
   "metadata": {
    "scrolled": true
   },
   "outputs": [
    {
     "data": {
      "text/plain": [
       "children               0\n",
       "days_employed       2174\n",
       "dob_years              0\n",
       "education              0\n",
       "education_id           0\n",
       "family_status          0\n",
       "family_status_id       0\n",
       "gender                 0\n",
       "income_type            0\n",
       "debt                   0\n",
       "total_income        2174\n",
       "purpose                0\n",
       "dtype: int64"
      ]
     },
     "execution_count": 6,
     "metadata": {},
     "output_type": "execute_result"
    }
   ],
   "source": [
    "df.isna().sum()"
   ]
  },
  {
   "cell_type": "code",
   "execution_count": 7,
   "metadata": {},
   "outputs": [],
   "source": [
    "income_median = df['total_income']. median()\n",
    "df['total_income'] = df['total_income'].fillna(value = income_median)"
   ]
  },
  {
   "cell_type": "code",
   "execution_count": 49,
   "metadata": {},
   "outputs": [
    {
     "data": {
      "text/plain": [
       "сотрудник          0.508280\n",
       "компаньон          0.233671\n",
       "пенсионер          0.189972\n",
       "госслужащий        0.067617\n",
       "предприниматель    0.000460\n",
       "Name: income_type, dtype: float64"
      ]
     },
     "metadata": {},
     "output_type": "display_data"
    },
    {
     "data": {
      "text/plain": [
       "сотрудник          0.517493\n",
       "компаньон          0.236525\n",
       "пенсионер          0.177924\n",
       "госслужащий        0.067800\n",
       "безработный        0.000103\n",
       "в декрете          0.000052\n",
       "предприниматель    0.000052\n",
       "студент            0.000052\n",
       "Name: income_type, dtype: float64"
      ]
     },
     "metadata": {},
     "output_type": "display_data"
    }
   ],
   "source": [
    "# Код ревьюера\n",
    "\n",
    "display(df_copy[df_copy['total_income'].isna()]['income_type'].value_counts(normalize=True))\n",
    "display(df_copy[df_copy['total_income'].notna()]['income_type'].value_counts(normalize=True))"
   ]
  },
  {
   "cell_type": "code",
   "execution_count": 9,
   "metadata": {},
   "outputs": [],
   "source": [
    "days_employed_median = df['days_employed']. median()\n",
    "df['days_employed'] = df['days_employed'].fillna(value = days_employed_median)"
   ]
  },
  {
   "cell_type": "code",
   "execution_count": 10,
   "metadata": {},
   "outputs": [
    {
     "data": {
      "text/plain": [
       "children            0\n",
       "days_employed       0\n",
       "dob_years           0\n",
       "education           0\n",
       "education_id        0\n",
       "family_status       0\n",
       "family_status_id    0\n",
       "gender              0\n",
       "income_type         0\n",
       "debt                0\n",
       "total_income        0\n",
       "purpose             0\n",
       "dtype: int64"
      ]
     },
     "execution_count": 10,
     "metadata": {},
     "output_type": "execute_result"
    }
   ],
   "source": [
    "df.isna().sum()"
   ]
  },
  {
   "cell_type": "code",
   "execution_count": 11,
   "metadata": {},
   "outputs": [
    {
     "data": {
      "text/plain": [
       "array([0, 1])"
      ]
     },
     "execution_count": 11,
     "metadata": {},
     "output_type": "execute_result"
    }
   ],
   "source": [
    "df ['debt'].unique()"
   ]
  },
  {
   "cell_type": "code",
   "execution_count": 12,
   "metadata": {},
   "outputs": [
    {
     "data": {
      "text/plain": [
       "array([ 1,  0,  3,  2, -1,  4, 20,  5])"
      ]
     },
     "execution_count": 12,
     "metadata": {},
     "output_type": "execute_result"
    }
   ],
   "source": [
    "df ['children'].unique()"
   ]
  },
  {
   "cell_type": "code",
   "execution_count": 13,
   "metadata": {},
   "outputs": [
    {
     "data": {
      "text/plain": [
       " 0     14149\n",
       " 1      4818\n",
       " 2      2055\n",
       " 3       330\n",
       " 20       76\n",
       "-1        47\n",
       " 4        41\n",
       " 5         9\n",
       "Name: children, dtype: int64"
      ]
     },
     "execution_count": 13,
     "metadata": {},
     "output_type": "execute_result"
    }
   ],
   "source": [
    "df ['children'].value_counts()"
   ]
  },
  {
   "cell_type": "code",
   "execution_count": 14,
   "metadata": {},
   "outputs": [
    {
     "data": {
      "text/plain": [
       "array(['женат / замужем', 'гражданский брак', 'вдовец / вдова',\n",
       "       'в разводе', 'Не женат / не замужем'], dtype=object)"
      ]
     },
     "execution_count": 14,
     "metadata": {},
     "output_type": "execute_result"
    }
   ],
   "source": [
    "df ['family_status'].unique()"
   ]
  },
  {
   "cell_type": "code",
   "execution_count": 15,
   "metadata": {},
   "outputs": [
    {
     "data": {
      "text/plain": [
       "array(['покупка жилья', 'приобретение автомобиля',\n",
       "       'дополнительное образование', 'сыграть свадьбу',\n",
       "       'операции с жильем', 'образование', 'на проведение свадьбы',\n",
       "       'покупка жилья для семьи', 'покупка недвижимости',\n",
       "       'покупка коммерческой недвижимости', 'покупка жилой недвижимости',\n",
       "       'строительство собственной недвижимости', 'недвижимость',\n",
       "       'строительство недвижимости', 'на покупку подержанного автомобиля',\n",
       "       'на покупку своего автомобиля',\n",
       "       'операции с коммерческой недвижимостью',\n",
       "       'строительство жилой недвижимости', 'жилье',\n",
       "       'операции со своей недвижимостью', 'автомобили',\n",
       "       'заняться образованием', 'сделка с подержанным автомобилем',\n",
       "       'получение образования', 'автомобиль', 'свадьба',\n",
       "       'получение дополнительного образования', 'покупка своего жилья',\n",
       "       'операции с недвижимостью', 'получение высшего образования',\n",
       "       'свой автомобиль', 'сделка с автомобилем',\n",
       "       'профильное образование', 'высшее образование',\n",
       "       'покупка жилья для сдачи', 'на покупку автомобиля', 'ремонт жилью',\n",
       "       'заняться высшим образованием'], dtype=object)"
      ]
     },
     "execution_count": 15,
     "metadata": {},
     "output_type": "execute_result"
    }
   ],
   "source": [
    "df ['purpose'].unique()"
   ]
  },
  {
   "cell_type": "markdown",
   "metadata": {},
   "source": [
    "**Вывод**"
   ]
  },
  {
   "cell_type": "markdown",
   "metadata": {},
   "source": [
    "Как было сказано ранне столбцом 'days_employed' можно принебречь. Я заполнил пропуски в этом столбце медианным значением.\n",
    "Данные в столбце total_income нужны для того, чтобы определить есть ли зависимость между уровнем дохода и возвратом кредита в срок. Доля пропущенных значение в этом столбце составляет 10%. Есть несколько вариантов как можно обработать эти пропуски\n",
    "1) заменить медианным значением\n",
    "2) заменить средним арифметическим занчение\n",
    "3) удалить строки где есть пропущенные значения в этом столбце.\n",
    "\n",
    "Я выбрал первый вариант.\n",
    "\n",
    "В столбце **'children'** есть значения -1 или 20. Это могут быть ошибочные значения связанные с ошибочным заполнение данных клиентом. Значения - -1 и 20 состаявлют 0,5 % от всех данных. Поэтому считаю, что эти данные не повлияют на определение зависимости между наличием детей и возвратом кредита в срок."
   ]
  },
  {
   "cell_type": "markdown",
   "metadata": {},
   "source": [
    "### Замена типа данных"
   ]
  },
  {
   "cell_type": "code",
   "execution_count": 16,
   "metadata": {},
   "outputs": [],
   "source": [
    "df ['total_income'] = df ['total_income'].astype('int')"
   ]
  },
  {
   "cell_type": "code",
   "execution_count": 17,
   "metadata": {},
   "outputs": [
    {
     "data": {
      "text/html": [
       "<div>\n",
       "<style scoped>\n",
       "    .dataframe tbody tr th:only-of-type {\n",
       "        vertical-align: middle;\n",
       "    }\n",
       "\n",
       "    .dataframe tbody tr th {\n",
       "        vertical-align: top;\n",
       "    }\n",
       "\n",
       "    .dataframe thead th {\n",
       "        text-align: right;\n",
       "    }\n",
       "</style>\n",
       "<table border=\"1\" class=\"dataframe\">\n",
       "  <thead>\n",
       "    <tr style=\"text-align: right;\">\n",
       "      <th></th>\n",
       "      <th>children</th>\n",
       "      <th>days_employed</th>\n",
       "      <th>dob_years</th>\n",
       "      <th>education</th>\n",
       "      <th>education_id</th>\n",
       "      <th>family_status</th>\n",
       "      <th>family_status_id</th>\n",
       "      <th>gender</th>\n",
       "      <th>income_type</th>\n",
       "      <th>debt</th>\n",
       "      <th>total_income</th>\n",
       "      <th>purpose</th>\n",
       "    </tr>\n",
       "  </thead>\n",
       "  <tbody>\n",
       "    <tr>\n",
       "      <td>0</td>\n",
       "      <td>1</td>\n",
       "      <td>-8437.673028</td>\n",
       "      <td>42</td>\n",
       "      <td>высшее</td>\n",
       "      <td>0</td>\n",
       "      <td>женат / замужем</td>\n",
       "      <td>0</td>\n",
       "      <td>F</td>\n",
       "      <td>сотрудник</td>\n",
       "      <td>0</td>\n",
       "      <td>253875</td>\n",
       "      <td>покупка жилья</td>\n",
       "    </tr>\n",
       "    <tr>\n",
       "      <td>1</td>\n",
       "      <td>1</td>\n",
       "      <td>-4024.803754</td>\n",
       "      <td>36</td>\n",
       "      <td>среднее</td>\n",
       "      <td>1</td>\n",
       "      <td>женат / замужем</td>\n",
       "      <td>0</td>\n",
       "      <td>F</td>\n",
       "      <td>сотрудник</td>\n",
       "      <td>0</td>\n",
       "      <td>112080</td>\n",
       "      <td>приобретение автомобиля</td>\n",
       "    </tr>\n",
       "    <tr>\n",
       "      <td>2</td>\n",
       "      <td>0</td>\n",
       "      <td>-5623.422610</td>\n",
       "      <td>33</td>\n",
       "      <td>Среднее</td>\n",
       "      <td>1</td>\n",
       "      <td>женат / замужем</td>\n",
       "      <td>0</td>\n",
       "      <td>M</td>\n",
       "      <td>сотрудник</td>\n",
       "      <td>0</td>\n",
       "      <td>145885</td>\n",
       "      <td>покупка жилья</td>\n",
       "    </tr>\n",
       "    <tr>\n",
       "      <td>3</td>\n",
       "      <td>3</td>\n",
       "      <td>-4124.747207</td>\n",
       "      <td>32</td>\n",
       "      <td>среднее</td>\n",
       "      <td>1</td>\n",
       "      <td>женат / замужем</td>\n",
       "      <td>0</td>\n",
       "      <td>M</td>\n",
       "      <td>сотрудник</td>\n",
       "      <td>0</td>\n",
       "      <td>267628</td>\n",
       "      <td>дополнительное образование</td>\n",
       "    </tr>\n",
       "    <tr>\n",
       "      <td>4</td>\n",
       "      <td>0</td>\n",
       "      <td>340266.072047</td>\n",
       "      <td>53</td>\n",
       "      <td>среднее</td>\n",
       "      <td>1</td>\n",
       "      <td>гражданский брак</td>\n",
       "      <td>1</td>\n",
       "      <td>F</td>\n",
       "      <td>пенсионер</td>\n",
       "      <td>0</td>\n",
       "      <td>158616</td>\n",
       "      <td>сыграть свадьбу</td>\n",
       "    </tr>\n",
       "    <tr>\n",
       "      <td>5</td>\n",
       "      <td>0</td>\n",
       "      <td>-926.185831</td>\n",
       "      <td>27</td>\n",
       "      <td>высшее</td>\n",
       "      <td>0</td>\n",
       "      <td>гражданский брак</td>\n",
       "      <td>1</td>\n",
       "      <td>M</td>\n",
       "      <td>компаньон</td>\n",
       "      <td>0</td>\n",
       "      <td>255763</td>\n",
       "      <td>покупка жилья</td>\n",
       "    </tr>\n",
       "    <tr>\n",
       "      <td>6</td>\n",
       "      <td>0</td>\n",
       "      <td>-2879.202052</td>\n",
       "      <td>43</td>\n",
       "      <td>высшее</td>\n",
       "      <td>0</td>\n",
       "      <td>женат / замужем</td>\n",
       "      <td>0</td>\n",
       "      <td>F</td>\n",
       "      <td>компаньон</td>\n",
       "      <td>0</td>\n",
       "      <td>240525</td>\n",
       "      <td>операции с жильем</td>\n",
       "    </tr>\n",
       "    <tr>\n",
       "      <td>7</td>\n",
       "      <td>0</td>\n",
       "      <td>-152.779569</td>\n",
       "      <td>50</td>\n",
       "      <td>СРЕДНЕЕ</td>\n",
       "      <td>1</td>\n",
       "      <td>женат / замужем</td>\n",
       "      <td>0</td>\n",
       "      <td>M</td>\n",
       "      <td>сотрудник</td>\n",
       "      <td>0</td>\n",
       "      <td>135823</td>\n",
       "      <td>образование</td>\n",
       "    </tr>\n",
       "    <tr>\n",
       "      <td>8</td>\n",
       "      <td>2</td>\n",
       "      <td>-6929.865299</td>\n",
       "      <td>35</td>\n",
       "      <td>ВЫСШЕЕ</td>\n",
       "      <td>0</td>\n",
       "      <td>гражданский брак</td>\n",
       "      <td>1</td>\n",
       "      <td>F</td>\n",
       "      <td>сотрудник</td>\n",
       "      <td>0</td>\n",
       "      <td>95856</td>\n",
       "      <td>на проведение свадьбы</td>\n",
       "    </tr>\n",
       "    <tr>\n",
       "      <td>9</td>\n",
       "      <td>0</td>\n",
       "      <td>-2188.756445</td>\n",
       "      <td>41</td>\n",
       "      <td>среднее</td>\n",
       "      <td>1</td>\n",
       "      <td>женат / замужем</td>\n",
       "      <td>0</td>\n",
       "      <td>M</td>\n",
       "      <td>сотрудник</td>\n",
       "      <td>0</td>\n",
       "      <td>144425</td>\n",
       "      <td>покупка жилья для семьи</td>\n",
       "    </tr>\n",
       "  </tbody>\n",
       "</table>\n",
       "</div>"
      ],
      "text/plain": [
       "   children  days_employed  dob_years education  education_id  \\\n",
       "0         1   -8437.673028         42    высшее             0   \n",
       "1         1   -4024.803754         36   среднее             1   \n",
       "2         0   -5623.422610         33   Среднее             1   \n",
       "3         3   -4124.747207         32   среднее             1   \n",
       "4         0  340266.072047         53   среднее             1   \n",
       "5         0    -926.185831         27    высшее             0   \n",
       "6         0   -2879.202052         43    высшее             0   \n",
       "7         0    -152.779569         50   СРЕДНЕЕ             1   \n",
       "8         2   -6929.865299         35    ВЫСШЕЕ             0   \n",
       "9         0   -2188.756445         41   среднее             1   \n",
       "\n",
       "      family_status  family_status_id gender income_type  debt  total_income  \\\n",
       "0   женат / замужем                 0      F   сотрудник     0        253875   \n",
       "1   женат / замужем                 0      F   сотрудник     0        112080   \n",
       "2   женат / замужем                 0      M   сотрудник     0        145885   \n",
       "3   женат / замужем                 0      M   сотрудник     0        267628   \n",
       "4  гражданский брак                 1      F   пенсионер     0        158616   \n",
       "5  гражданский брак                 1      M   компаньон     0        255763   \n",
       "6   женат / замужем                 0      F   компаньон     0        240525   \n",
       "7   женат / замужем                 0      M   сотрудник     0        135823   \n",
       "8  гражданский брак                 1      F   сотрудник     0         95856   \n",
       "9   женат / замужем                 0      M   сотрудник     0        144425   \n",
       "\n",
       "                      purpose  \n",
       "0               покупка жилья  \n",
       "1     приобретение автомобиля  \n",
       "2               покупка жилья  \n",
       "3  дополнительное образование  \n",
       "4             сыграть свадьбу  \n",
       "5               покупка жилья  \n",
       "6           операции с жильем  \n",
       "7                 образование  \n",
       "8       на проведение свадьбы  \n",
       "9     покупка жилья для семьи  "
      ]
     },
     "execution_count": 17,
     "metadata": {},
     "output_type": "execute_result"
    }
   ],
   "source": [
    "df.head(10)"
   ]
  },
  {
   "cell_type": "markdown",
   "metadata": {},
   "source": [
    "**Вывод**"
   ]
  },
  {
   "cell_type": "markdown",
   "metadata": {},
   "source": [
    "Для удобства расчетов, тип данных столбца **total_income** был заменен на **int**. Был использован метод astype()."
   ]
  },
  {
   "cell_type": "markdown",
   "metadata": {},
   "source": [
    "### Обработка дубликатов"
   ]
  },
  {
   "cell_type": "code",
   "execution_count": 18,
   "metadata": {},
   "outputs": [],
   "source": [
    "df['education']= df['education'].str.lower()"
   ]
  },
  {
   "cell_type": "code",
   "execution_count": 19,
   "metadata": {},
   "outputs": [
    {
     "data": {
      "text/html": [
       "<div>\n",
       "<style scoped>\n",
       "    .dataframe tbody tr th:only-of-type {\n",
       "        vertical-align: middle;\n",
       "    }\n",
       "\n",
       "    .dataframe tbody tr th {\n",
       "        vertical-align: top;\n",
       "    }\n",
       "\n",
       "    .dataframe thead th {\n",
       "        text-align: right;\n",
       "    }\n",
       "</style>\n",
       "<table border=\"1\" class=\"dataframe\">\n",
       "  <thead>\n",
       "    <tr style=\"text-align: right;\">\n",
       "      <th></th>\n",
       "      <th>children</th>\n",
       "      <th>days_employed</th>\n",
       "      <th>dob_years</th>\n",
       "      <th>education</th>\n",
       "      <th>education_id</th>\n",
       "      <th>family_status</th>\n",
       "      <th>family_status_id</th>\n",
       "      <th>gender</th>\n",
       "      <th>income_type</th>\n",
       "      <th>debt</th>\n",
       "      <th>total_income</th>\n",
       "      <th>purpose</th>\n",
       "    </tr>\n",
       "  </thead>\n",
       "  <tbody>\n",
       "    <tr>\n",
       "      <td>0</td>\n",
       "      <td>1</td>\n",
       "      <td>-8437.673028</td>\n",
       "      <td>42</td>\n",
       "      <td>высшее</td>\n",
       "      <td>0</td>\n",
       "      <td>женат / замужем</td>\n",
       "      <td>0</td>\n",
       "      <td>F</td>\n",
       "      <td>сотрудник</td>\n",
       "      <td>0</td>\n",
       "      <td>253875</td>\n",
       "      <td>покупка жилья</td>\n",
       "    </tr>\n",
       "    <tr>\n",
       "      <td>1</td>\n",
       "      <td>1</td>\n",
       "      <td>-4024.803754</td>\n",
       "      <td>36</td>\n",
       "      <td>среднее</td>\n",
       "      <td>1</td>\n",
       "      <td>женат / замужем</td>\n",
       "      <td>0</td>\n",
       "      <td>F</td>\n",
       "      <td>сотрудник</td>\n",
       "      <td>0</td>\n",
       "      <td>112080</td>\n",
       "      <td>приобретение автомобиля</td>\n",
       "    </tr>\n",
       "    <tr>\n",
       "      <td>2</td>\n",
       "      <td>0</td>\n",
       "      <td>-5623.422610</td>\n",
       "      <td>33</td>\n",
       "      <td>среднее</td>\n",
       "      <td>1</td>\n",
       "      <td>женат / замужем</td>\n",
       "      <td>0</td>\n",
       "      <td>M</td>\n",
       "      <td>сотрудник</td>\n",
       "      <td>0</td>\n",
       "      <td>145885</td>\n",
       "      <td>покупка жилья</td>\n",
       "    </tr>\n",
       "    <tr>\n",
       "      <td>3</td>\n",
       "      <td>3</td>\n",
       "      <td>-4124.747207</td>\n",
       "      <td>32</td>\n",
       "      <td>среднее</td>\n",
       "      <td>1</td>\n",
       "      <td>женат / замужем</td>\n",
       "      <td>0</td>\n",
       "      <td>M</td>\n",
       "      <td>сотрудник</td>\n",
       "      <td>0</td>\n",
       "      <td>267628</td>\n",
       "      <td>дополнительное образование</td>\n",
       "    </tr>\n",
       "    <tr>\n",
       "      <td>4</td>\n",
       "      <td>0</td>\n",
       "      <td>340266.072047</td>\n",
       "      <td>53</td>\n",
       "      <td>среднее</td>\n",
       "      <td>1</td>\n",
       "      <td>гражданский брак</td>\n",
       "      <td>1</td>\n",
       "      <td>F</td>\n",
       "      <td>пенсионер</td>\n",
       "      <td>0</td>\n",
       "      <td>158616</td>\n",
       "      <td>сыграть свадьбу</td>\n",
       "    </tr>\n",
       "    <tr>\n",
       "      <td>5</td>\n",
       "      <td>0</td>\n",
       "      <td>-926.185831</td>\n",
       "      <td>27</td>\n",
       "      <td>высшее</td>\n",
       "      <td>0</td>\n",
       "      <td>гражданский брак</td>\n",
       "      <td>1</td>\n",
       "      <td>M</td>\n",
       "      <td>компаньон</td>\n",
       "      <td>0</td>\n",
       "      <td>255763</td>\n",
       "      <td>покупка жилья</td>\n",
       "    </tr>\n",
       "    <tr>\n",
       "      <td>6</td>\n",
       "      <td>0</td>\n",
       "      <td>-2879.202052</td>\n",
       "      <td>43</td>\n",
       "      <td>высшее</td>\n",
       "      <td>0</td>\n",
       "      <td>женат / замужем</td>\n",
       "      <td>0</td>\n",
       "      <td>F</td>\n",
       "      <td>компаньон</td>\n",
       "      <td>0</td>\n",
       "      <td>240525</td>\n",
       "      <td>операции с жильем</td>\n",
       "    </tr>\n",
       "    <tr>\n",
       "      <td>7</td>\n",
       "      <td>0</td>\n",
       "      <td>-152.779569</td>\n",
       "      <td>50</td>\n",
       "      <td>среднее</td>\n",
       "      <td>1</td>\n",
       "      <td>женат / замужем</td>\n",
       "      <td>0</td>\n",
       "      <td>M</td>\n",
       "      <td>сотрудник</td>\n",
       "      <td>0</td>\n",
       "      <td>135823</td>\n",
       "      <td>образование</td>\n",
       "    </tr>\n",
       "    <tr>\n",
       "      <td>8</td>\n",
       "      <td>2</td>\n",
       "      <td>-6929.865299</td>\n",
       "      <td>35</td>\n",
       "      <td>высшее</td>\n",
       "      <td>0</td>\n",
       "      <td>гражданский брак</td>\n",
       "      <td>1</td>\n",
       "      <td>F</td>\n",
       "      <td>сотрудник</td>\n",
       "      <td>0</td>\n",
       "      <td>95856</td>\n",
       "      <td>на проведение свадьбы</td>\n",
       "    </tr>\n",
       "    <tr>\n",
       "      <td>9</td>\n",
       "      <td>0</td>\n",
       "      <td>-2188.756445</td>\n",
       "      <td>41</td>\n",
       "      <td>среднее</td>\n",
       "      <td>1</td>\n",
       "      <td>женат / замужем</td>\n",
       "      <td>0</td>\n",
       "      <td>M</td>\n",
       "      <td>сотрудник</td>\n",
       "      <td>0</td>\n",
       "      <td>144425</td>\n",
       "      <td>покупка жилья для семьи</td>\n",
       "    </tr>\n",
       "  </tbody>\n",
       "</table>\n",
       "</div>"
      ],
      "text/plain": [
       "   children  days_employed  dob_years education  education_id  \\\n",
       "0         1   -8437.673028         42    высшее             0   \n",
       "1         1   -4024.803754         36   среднее             1   \n",
       "2         0   -5623.422610         33   среднее             1   \n",
       "3         3   -4124.747207         32   среднее             1   \n",
       "4         0  340266.072047         53   среднее             1   \n",
       "5         0    -926.185831         27    высшее             0   \n",
       "6         0   -2879.202052         43    высшее             0   \n",
       "7         0    -152.779569         50   среднее             1   \n",
       "8         2   -6929.865299         35    высшее             0   \n",
       "9         0   -2188.756445         41   среднее             1   \n",
       "\n",
       "      family_status  family_status_id gender income_type  debt  total_income  \\\n",
       "0   женат / замужем                 0      F   сотрудник     0        253875   \n",
       "1   женат / замужем                 0      F   сотрудник     0        112080   \n",
       "2   женат / замужем                 0      M   сотрудник     0        145885   \n",
       "3   женат / замужем                 0      M   сотрудник     0        267628   \n",
       "4  гражданский брак                 1      F   пенсионер     0        158616   \n",
       "5  гражданский брак                 1      M   компаньон     0        255763   \n",
       "6   женат / замужем                 0      F   компаньон     0        240525   \n",
       "7   женат / замужем                 0      M   сотрудник     0        135823   \n",
       "8  гражданский брак                 1      F   сотрудник     0         95856   \n",
       "9   женат / замужем                 0      M   сотрудник     0        144425   \n",
       "\n",
       "                      purpose  \n",
       "0               покупка жилья  \n",
       "1     приобретение автомобиля  \n",
       "2               покупка жилья  \n",
       "3  дополнительное образование  \n",
       "4             сыграть свадьбу  \n",
       "5               покупка жилья  \n",
       "6           операции с жильем  \n",
       "7                 образование  \n",
       "8       на проведение свадьбы  \n",
       "9     покупка жилья для семьи  "
      ]
     },
     "execution_count": 19,
     "metadata": {},
     "output_type": "execute_result"
    }
   ],
   "source": [
    "df.head(10)"
   ]
  },
  {
   "cell_type": "code",
   "execution_count": 20,
   "metadata": {},
   "outputs": [
    {
     "data": {
      "text/plain": [
       "свадьба                                   797\n",
       "на проведение свадьбы                     777\n",
       "сыграть свадьбу                           774\n",
       "операции с недвижимостью                  676\n",
       "покупка коммерческой недвижимости         664\n",
       "операции с жильем                         653\n",
       "покупка жилья для сдачи                   653\n",
       "операции с коммерческой недвижимостью     651\n",
       "покупка жилья                             647\n",
       "жилье                                     647\n",
       "покупка жилья для семьи                   641\n",
       "строительство собственной недвижимости    635\n",
       "недвижимость                              634\n",
       "операции со своей недвижимостью           630\n",
       "строительство жилой недвижимости          626\n",
       "покупка недвижимости                      624\n",
       "покупка своего жилья                      620\n",
       "строительство недвижимости                620\n",
       "ремонт жилью                              612\n",
       "покупка жилой недвижимости                607\n",
       "на покупку своего автомобиля              505\n",
       "заняться высшим образованием              496\n",
       "автомобиль                                495\n",
       "сделка с подержанным автомобилем          489\n",
       "свой автомобиль                           480\n",
       "на покупку подержанного автомобиля        479\n",
       "автомобили                                478\n",
       "на покупку автомобиля                     472\n",
       "приобретение автомобиля                   462\n",
       "дополнительное образование                462\n",
       "сделка с автомобилем                      455\n",
       "высшее образование                        453\n",
       "образование                               447\n",
       "получение дополнительного образования     447\n",
       "получение образования                     443\n",
       "профильное образование                    436\n",
       "получение высшего образования             426\n",
       "заняться образованием                     412\n",
       "Name: purpose, dtype: int64"
      ]
     },
     "execution_count": 20,
     "metadata": {},
     "output_type": "execute_result"
    }
   ],
   "source": [
    "df ['purpose'].value_counts()"
   ]
  },
  {
   "cell_type": "code",
   "execution_count": 21,
   "metadata": {
    "scrolled": true
   },
   "outputs": [
    {
     "data": {
      "text/plain": [
       "среднее                15233\n",
       "высшее                  5260\n",
       "неоконченное высшее      744\n",
       "начальное                282\n",
       "ученая степень             6\n",
       "Name: education, dtype: int64"
      ]
     },
     "execution_count": 21,
     "metadata": {},
     "output_type": "execute_result"
    }
   ],
   "source": [
    "df ['education'].value_counts()"
   ]
  },
  {
   "cell_type": "code",
   "execution_count": 22,
   "metadata": {},
   "outputs": [
    {
     "data": {
      "text/plain": [
       "женат / замужем          12380\n",
       "гражданский брак          4177\n",
       "Не женат / не замужем     2813\n",
       "в разводе                 1195\n",
       "вдовец / вдова             960\n",
       "Name: family_status, dtype: int64"
      ]
     },
     "execution_count": 22,
     "metadata": {},
     "output_type": "execute_result"
    }
   ],
   "source": [
    "df ['family_status'].value_counts()"
   ]
  },
  {
   "cell_type": "markdown",
   "metadata": {},
   "source": [
    "**Вывод**"
   ]
  },
  {
   "cell_type": "markdown",
   "metadata": {},
   "source": [
    "В даннном пункте, в столбце **education** были обработаны дубликаты, которые были в разных регистрах. Причина появление данных в разных регистрах - заполнение клиентов данных разным шрифтом.\n",
    "Данные в столбце были приведены к ниженму регистру с помощью команды str.lower(). \n",
    "Для поиска дубликатов используется метод value_counts(), который анализирует столбец, выбирает каждое уникальное значение и подсчитывает частоту его встречаемости в списке. Применяют метод к объекту Series. Результат его работы – список пар «значение-частота», отсортированные по убыванию. Все дубликаты, которые встречаются чаще других, оказываются в начале списка.\n",
    "\n",
    "В столбце **purpose** нужно с помощью лемматизации объеденить  цели в одну. Например, \"свадьба\" и \"проведение свадьбы\" в цель - \"свадьба\""
   ]
  },
  {
   "cell_type": "markdown",
   "metadata": {},
   "source": [
    "### Лемматизация"
   ]
  },
  {
   "cell_type": "code",
   "execution_count": 23,
   "metadata": {
    "scrolled": true
   },
   "outputs": [
    {
     "data": {
      "text/html": [
       "<div>\n",
       "<style scoped>\n",
       "    .dataframe tbody tr th:only-of-type {\n",
       "        vertical-align: middle;\n",
       "    }\n",
       "\n",
       "    .dataframe tbody tr th {\n",
       "        vertical-align: top;\n",
       "    }\n",
       "\n",
       "    .dataframe thead th {\n",
       "        text-align: right;\n",
       "    }\n",
       "</style>\n",
       "<table border=\"1\" class=\"dataframe\">\n",
       "  <thead>\n",
       "    <tr style=\"text-align: right;\">\n",
       "      <th></th>\n",
       "      <th>children</th>\n",
       "      <th>days_employed</th>\n",
       "      <th>dob_years</th>\n",
       "      <th>education</th>\n",
       "      <th>education_id</th>\n",
       "      <th>family_status</th>\n",
       "      <th>family_status_id</th>\n",
       "      <th>gender</th>\n",
       "      <th>income_type</th>\n",
       "      <th>debt</th>\n",
       "      <th>total_income</th>\n",
       "      <th>purpose</th>\n",
       "      <th>purpose_lem</th>\n",
       "    </tr>\n",
       "  </thead>\n",
       "  <tbody>\n",
       "    <tr>\n",
       "      <td>0</td>\n",
       "      <td>1</td>\n",
       "      <td>-8437.673028</td>\n",
       "      <td>42</td>\n",
       "      <td>высшее</td>\n",
       "      <td>0</td>\n",
       "      <td>женат / замужем</td>\n",
       "      <td>0</td>\n",
       "      <td>F</td>\n",
       "      <td>сотрудник</td>\n",
       "      <td>0</td>\n",
       "      <td>253875</td>\n",
       "      <td>покупка жилья</td>\n",
       "      <td>жилье</td>\n",
       "    </tr>\n",
       "    <tr>\n",
       "      <td>1</td>\n",
       "      <td>1</td>\n",
       "      <td>-4024.803754</td>\n",
       "      <td>36</td>\n",
       "      <td>среднее</td>\n",
       "      <td>1</td>\n",
       "      <td>женат / замужем</td>\n",
       "      <td>0</td>\n",
       "      <td>F</td>\n",
       "      <td>сотрудник</td>\n",
       "      <td>0</td>\n",
       "      <td>112080</td>\n",
       "      <td>приобретение автомобиля</td>\n",
       "      <td>автомобиль</td>\n",
       "    </tr>\n",
       "    <tr>\n",
       "      <td>2</td>\n",
       "      <td>0</td>\n",
       "      <td>-5623.422610</td>\n",
       "      <td>33</td>\n",
       "      <td>среднее</td>\n",
       "      <td>1</td>\n",
       "      <td>женат / замужем</td>\n",
       "      <td>0</td>\n",
       "      <td>M</td>\n",
       "      <td>сотрудник</td>\n",
       "      <td>0</td>\n",
       "      <td>145885</td>\n",
       "      <td>покупка жилья</td>\n",
       "      <td>жилье</td>\n",
       "    </tr>\n",
       "    <tr>\n",
       "      <td>3</td>\n",
       "      <td>3</td>\n",
       "      <td>-4124.747207</td>\n",
       "      <td>32</td>\n",
       "      <td>среднее</td>\n",
       "      <td>1</td>\n",
       "      <td>женат / замужем</td>\n",
       "      <td>0</td>\n",
       "      <td>M</td>\n",
       "      <td>сотрудник</td>\n",
       "      <td>0</td>\n",
       "      <td>267628</td>\n",
       "      <td>дополнительное образование</td>\n",
       "      <td>образование</td>\n",
       "    </tr>\n",
       "    <tr>\n",
       "      <td>4</td>\n",
       "      <td>0</td>\n",
       "      <td>340266.072047</td>\n",
       "      <td>53</td>\n",
       "      <td>среднее</td>\n",
       "      <td>1</td>\n",
       "      <td>гражданский брак</td>\n",
       "      <td>1</td>\n",
       "      <td>F</td>\n",
       "      <td>пенсионер</td>\n",
       "      <td>0</td>\n",
       "      <td>158616</td>\n",
       "      <td>сыграть свадьбу</td>\n",
       "      <td>свадьба</td>\n",
       "    </tr>\n",
       "  </tbody>\n",
       "</table>\n",
       "</div>"
      ],
      "text/plain": [
       "   children  days_employed  dob_years education  education_id  \\\n",
       "0         1   -8437.673028         42    высшее             0   \n",
       "1         1   -4024.803754         36   среднее             1   \n",
       "2         0   -5623.422610         33   среднее             1   \n",
       "3         3   -4124.747207         32   среднее             1   \n",
       "4         0  340266.072047         53   среднее             1   \n",
       "\n",
       "      family_status  family_status_id gender income_type  debt  total_income  \\\n",
       "0   женат / замужем                 0      F   сотрудник     0        253875   \n",
       "1   женат / замужем                 0      F   сотрудник     0        112080   \n",
       "2   женат / замужем                 0      M   сотрудник     0        145885   \n",
       "3   женат / замужем                 0      M   сотрудник     0        267628   \n",
       "4  гражданский брак                 1      F   пенсионер     0        158616   \n",
       "\n",
       "                      purpose  purpose_lem  \n",
       "0               покупка жилья        жилье  \n",
       "1     приобретение автомобиля   автомобиль  \n",
       "2               покупка жилья        жилье  \n",
       "3  дополнительное образование  образование  \n",
       "4             сыграть свадьбу      свадьба  "
      ]
     },
     "execution_count": 23,
     "metadata": {},
     "output_type": "execute_result"
    }
   ],
   "source": [
    "from pymystem3 import Mystem\n",
    "from collections import Counter\n",
    "m = Mystem()\n",
    "def lemma(purpose):\n",
    "    lemma_cell = ' ' .join(m.lemmatize(purpose))\n",
    "    purpose_lem_arr = [\"жилье\", \"свадьба\", 'автомобиль',\"образование\",\"недвижимость\",\"строительство\"]\n",
    "    for purpose in purpose_lem_arr:\n",
    "        if purpose in lemma_cell:\n",
    "            return purpose\n",
    " \n",
    "df['purpose_lem'] = df['purpose'].apply(lemma)\n",
    "df.head()\n"
   ]
  },
  {
   "cell_type": "code",
   "execution_count": 24,
   "metadata": {},
   "outputs": [
    {
     "data": {
      "text/plain": [
       "недвижимость    6367\n",
       "жилье           4473\n",
       "автомобиль      4315\n",
       "образование     4022\n",
       "свадьба         2348\n",
       "Name: purpose_lem, dtype: int64"
      ]
     },
     "execution_count": 24,
     "metadata": {},
     "output_type": "execute_result"
    }
   ],
   "source": [
    "df ['purpose_lem'].value_counts()"
   ]
  },
  {
   "cell_type": "code",
   "execution_count": 25,
   "metadata": {},
   "outputs": [
    {
     "data": {
      "text/plain": [
       "недвижимость    6367\n",
       "жилье           4473\n",
       "автомобиль      4315\n",
       "образование     4022\n",
       "свадьба         2348\n",
       "Name: purpose_lem, dtype: int64"
      ]
     },
     "execution_count": 25,
     "metadata": {},
     "output_type": "execute_result"
    }
   ],
   "source": [
    "df['purpose_lem'].value_counts(dropna=False)"
   ]
  },
  {
   "cell_type": "markdown",
   "metadata": {},
   "source": [
    "**Вывод**"
   ]
  },
  {
   "cell_type": "markdown",
   "metadata": {},
   "source": [
    "В данном пункте был лемматизирован столбец **purpose**  и добавлен новый столбец **purpose_lem** с такими леммами как \"жилье\", \"свадьба\", 'автомобиль',\"образование\",\"недвижимость\",\"строительство\"."
   ]
  },
  {
   "cell_type": "markdown",
   "metadata": {},
   "source": [
    "### Категоризация данных"
   ]
  },
  {
   "cell_type": "code",
   "execution_count": 26,
   "metadata": {},
   "outputs": [],
   "source": [
    "def category(row):\n",
    "    if 'недвижимос' in row:\n",
    "        return 'недвижимость'\n",
    "    if 'жиль' in row:\n",
    "         return 'недвижимость'\n",
    "    if 'свадьб' in row:\n",
    "        return 'свадьба'\n",
    "    if 'автомоб' in row:\n",
    "        return 'автомобиль'\n",
    "    if 'образован' in row:\n",
    "        return 'образование'\n",
    "\n",
    "df ['purpose'] = df['purpose'].apply(category)\n"
   ]
  },
  {
   "cell_type": "code",
   "execution_count": 27,
   "metadata": {},
   "outputs": [
    {
     "data": {
      "text/plain": [
       "недвижимость    10840\n",
       "автомобиль       4315\n",
       "образование      4022\n",
       "свадьба          2348\n",
       "Name: purpose, dtype: int64"
      ]
     },
     "execution_count": 27,
     "metadata": {},
     "output_type": "execute_result"
    }
   ],
   "source": [
    "df ['purpose'].value_counts()"
   ]
  },
  {
   "cell_type": "markdown",
   "metadata": {},
   "source": [
    "**Или категоризацию можно применить к столбцу с леммами**"
   ]
  },
  {
   "cell_type": "code",
   "execution_count": 28,
   "metadata": {},
   "outputs": [],
   "source": [
    "def category(row):\n",
    "    if 'жиль' in row:\n",
    "         return 'недвижимость'\n",
    "    if 'недвижимос' in row:\n",
    "        return 'недвижимость'\n",
    "    if 'свадьб' in row:\n",
    "        return 'свадьба'\n",
    "    if 'автомоб' in row:\n",
    "        return 'автомобиль'\n",
    "    if 'образован' in row:\n",
    "        return 'образование'\n",
    "df ['purpose_lem'] = df['purpose_lem'].apply(category)\n"
   ]
  },
  {
   "cell_type": "code",
   "execution_count": 29,
   "metadata": {},
   "outputs": [
    {
     "data": {
      "text/plain": [
       "недвижимость    10840\n",
       "автомобиль       4315\n",
       "образование      4022\n",
       "свадьба          2348\n",
       "Name: purpose_lem, dtype: int64"
      ]
     },
     "execution_count": 29,
     "metadata": {},
     "output_type": "execute_result"
    }
   ],
   "source": [
    "df['purpose_lem'].value_counts()"
   ]
  },
  {
   "cell_type": "code",
   "execution_count": 30,
   "metadata": {},
   "outputs": [
    {
     "data": {
      "text/plain": [
       "children            0\n",
       "days_employed       0\n",
       "dob_years           0\n",
       "education           0\n",
       "education_id        0\n",
       "family_status       0\n",
       "family_status_id    0\n",
       "gender              0\n",
       "income_type         0\n",
       "debt                0\n",
       "total_income        0\n",
       "purpose             0\n",
       "purpose_lem         0\n",
       "dtype: int64"
      ]
     },
     "execution_count": 30,
     "metadata": {},
     "output_type": "execute_result"
    }
   ],
   "source": [
    "df.isna().sum()"
   ]
  },
  {
   "cell_type": "code",
   "execution_count": 31,
   "metadata": {},
   "outputs": [
    {
     "data": {
      "text/plain": [
       "(170468.0, 2265604.0]      7175\n",
       "(123082.667, 170468.0]     7175\n",
       "(20666.999, 123082.667]    7175\n",
       "Name: total_income, dtype: int64"
      ]
     },
     "execution_count": 31,
     "metadata": {},
     "output_type": "execute_result"
    }
   ],
   "source": [
    "pd.qcut(df['total_income'], q=3).value_counts()"
   ]
  },
  {
   "cell_type": "code",
   "execution_count": 32,
   "metadata": {},
   "outputs": [],
   "source": [
    "def category(income):\n",
    "    if 20666 < income < 123083:\n",
    "        return 'низкий доход'\n",
    "    if 123083 <= income < 170468:\n",
    "        return 'средний доход'\n",
    "    if income >= 170468:\n",
    "        return 'высокий доход'\n",
    "\n",
    "df['total_income'] = df['total_income'].apply(category)"
   ]
  },
  {
   "cell_type": "code",
   "execution_count": 33,
   "metadata": {},
   "outputs": [
    {
     "data": {
      "text/plain": [
       "низкий доход     7175\n",
       "средний доход    7175\n",
       "высокий доход    7175\n",
       "Name: total_income, dtype: int64"
      ]
     },
     "execution_count": 33,
     "metadata": {},
     "output_type": "execute_result"
    }
   ],
   "source": [
    "df['total_income'].value_counts()"
   ]
  },
  {
   "cell_type": "code",
   "execution_count": 34,
   "metadata": {},
   "outputs": [
    {
     "data": {
      "text/plain": [
       "детей нет    14149\n",
       "есть дети     7329\n",
       "NaN             47\n",
       "Name: children, dtype: int64"
      ]
     },
     "execution_count": 34,
     "metadata": {},
     "output_type": "execute_result"
    }
   ],
   "source": [
    "def category(child):\n",
    "    if -1 < child <= 0:\n",
    "        return 'детей нет'\n",
    "    if child > 0:\n",
    "        return 'есть дети'\n",
    "\n",
    "df['children'] = df['children'].apply(category)\n",
    "df['children'].value_counts(dropna=False)"
   ]
  },
  {
   "cell_type": "code",
   "execution_count": 35,
   "metadata": {},
   "outputs": [
    {
     "data": {
      "text/plain": [
       "долга нет    19784\n",
       "долг есть     1741\n",
       "Name: debt, dtype: int64"
      ]
     },
     "execution_count": 35,
     "metadata": {},
     "output_type": "execute_result"
    }
   ],
   "source": [
    "def category(debt):\n",
    "    if  debt == 0:\n",
    "        return 'долга нет'\n",
    "    if debt == 1:\n",
    "        return 'долг есть'\n",
    "\n",
    "df['debt'] = df['debt'].apply(category)\n",
    "df['debt'].value_counts(dropna=False)"
   ]
  },
  {
   "cell_type": "markdown",
   "metadata": {},
   "source": [
    "**Вывод**"
   ]
  },
  {
   "cell_type": "markdown",
   "metadata": {},
   "source": [
    "В пункте были категоризованы столбцы:\n",
    "- purpose - столбец был категоризован на 3 группы : \"низкий\", \"средний\", и \"высокий доход\".\n",
    "- family_status_id - столбец был категоризован на 2 группы: \"в браке\" и \"не в браке\"\n",
    "- debt - столбец был категоризован на 2 группы: \"долг есть\" и \"нет долга\"\n",
    "- children - столбец был категоризован на 2 групп: \"есть дети\" и \"детей нет\""
   ]
  },
  {
   "cell_type": "markdown",
   "metadata": {},
   "source": [
    "## Шаг 3. Ответьте на вопросы"
   ]
  },
  {
   "cell_type": "markdown",
   "metadata": {},
   "source": [
    "- Есть ли зависимость между наличием детей и возвратом кредита в срок?"
   ]
  },
  {
   "cell_type": "code",
   "execution_count": 36,
   "metadata": {},
   "outputs": [
    {
     "data": {
      "text/html": [
       "<div>\n",
       "<style scoped>\n",
       "    .dataframe tbody tr th:only-of-type {\n",
       "        vertical-align: middle;\n",
       "    }\n",
       "\n",
       "    .dataframe tbody tr th {\n",
       "        vertical-align: top;\n",
       "    }\n",
       "\n",
       "    .dataframe thead tr th {\n",
       "        text-align: left;\n",
       "    }\n",
       "\n",
       "    .dataframe thead tr:last-of-type th {\n",
       "        text-align: right;\n",
       "    }\n",
       "</style>\n",
       "<table border=\"1\" class=\"dataframe\">\n",
       "  <thead>\n",
       "    <tr>\n",
       "      <th></th>\n",
       "      <th colspan=\"2\" halign=\"left\">purpose</th>\n",
       "    </tr>\n",
       "    <tr>\n",
       "      <th>debt</th>\n",
       "      <th>долг есть</th>\n",
       "      <th>долга нет</th>\n",
       "    </tr>\n",
       "    <tr>\n",
       "      <th>children</th>\n",
       "      <th></th>\n",
       "      <th></th>\n",
       "    </tr>\n",
       "  </thead>\n",
       "  <tbody>\n",
       "    <tr>\n",
       "      <td>детей нет</td>\n",
       "      <td>1063</td>\n",
       "      <td>13086</td>\n",
       "    </tr>\n",
       "    <tr>\n",
       "      <td>есть дети</td>\n",
       "      <td>677</td>\n",
       "      <td>6652</td>\n",
       "    </tr>\n",
       "  </tbody>\n",
       "</table>\n",
       "</div>"
      ],
      "text/plain": [
       "            purpose          \n",
       "debt      долг есть долга нет\n",
       "children                     \n",
       "детей нет      1063     13086\n",
       "есть дети       677      6652"
      ]
     },
     "execution_count": 36,
     "metadata": {},
     "output_type": "execute_result"
    }
   ],
   "source": [
    "children_pivot  = df.pivot_table(index = ['children'], columns = ['debt'],\n",
    "                                values = ['purpose'], aggfunc = 'count')\n",
    "children_pivot"
   ]
  },
  {
   "cell_type": "code",
   "execution_count": 37,
   "metadata": {},
   "outputs": [
    {
     "data": {
      "text/html": [
       "<div>\n",
       "<style scoped>\n",
       "    .dataframe tbody tr th:only-of-type {\n",
       "        vertical-align: middle;\n",
       "    }\n",
       "\n",
       "    .dataframe tbody tr th {\n",
       "        vertical-align: top;\n",
       "    }\n",
       "\n",
       "    .dataframe thead tr th {\n",
       "        text-align: left;\n",
       "    }\n",
       "\n",
       "    .dataframe thead tr:last-of-type th {\n",
       "        text-align: right;\n",
       "    }\n",
       "</style>\n",
       "<table border=\"1\" class=\"dataframe\">\n",
       "  <thead>\n",
       "    <tr>\n",
       "      <th></th>\n",
       "      <th colspan=\"2\" halign=\"left\">purpose</th>\n",
       "      <th>ratio</th>\n",
       "    </tr>\n",
       "    <tr>\n",
       "      <th>debt</th>\n",
       "      <th>долг есть</th>\n",
       "      <th>долга нет</th>\n",
       "      <th></th>\n",
       "    </tr>\n",
       "    <tr>\n",
       "      <th>children</th>\n",
       "      <th></th>\n",
       "      <th></th>\n",
       "      <th></th>\n",
       "    </tr>\n",
       "  </thead>\n",
       "  <tbody>\n",
       "    <tr>\n",
       "      <td>детей нет</td>\n",
       "      <td>1063</td>\n",
       "      <td>13086</td>\n",
       "      <td>0.075129</td>\n",
       "    </tr>\n",
       "    <tr>\n",
       "      <td>есть дети</td>\n",
       "      <td>677</td>\n",
       "      <td>6652</td>\n",
       "      <td>0.092373</td>\n",
       "    </tr>\n",
       "  </tbody>\n",
       "</table>\n",
       "</div>"
      ],
      "text/plain": [
       "            purpose               ratio\n",
       "debt      долг есть долга нет          \n",
       "children                               \n",
       "детей нет      1063     13086  0.075129\n",
       "есть дети       677      6652  0.092373"
      ]
     },
     "execution_count": 37,
     "metadata": {},
     "output_type": "execute_result"
    }
   ],
   "source": [
    "children_pivot ['ratio'] = children_pivot['purpose']['долг есть'] / (children_pivot['purpose']['долг есть'] + children_pivot['purpose']['долга нет'])\n",
    "children_pivot"
   ]
  },
  {
   "cell_type": "markdown",
   "metadata": {},
   "source": [
    "**Вывод**\n",
    "\n",
    "Доля клиентов  с детьми и у которых был долг составила 9.2%. А у клиентов у кого не было детей составила 7.5%.\n",
    "Это говорит о том, что есть небольшая зависимость между наличием детей и возвратом кредита в срок.\n",
    "\n",
    "**p.s**\n",
    "Как перевести столбец ratio в вид %?"
   ]
  },
  {
   "cell_type": "code",
   "execution_count": 38,
   "metadata": {},
   "outputs": [
    {
     "data": {
      "text/html": [
       "<div>\n",
       "<style scoped>\n",
       "    .dataframe tbody tr th:only-of-type {\n",
       "        vertical-align: middle;\n",
       "    }\n",
       "\n",
       "    .dataframe tbody tr th {\n",
       "        vertical-align: top;\n",
       "    }\n",
       "\n",
       "    .dataframe thead tr th {\n",
       "        text-align: left;\n",
       "    }\n",
       "\n",
       "    .dataframe thead tr:last-of-type th {\n",
       "        text-align: right;\n",
       "    }\n",
       "</style>\n",
       "<table border=\"1\" class=\"dataframe\">\n",
       "  <thead>\n",
       "    <tr>\n",
       "      <th></th>\n",
       "      <th colspan=\"2\" halign=\"left\">purpose</th>\n",
       "      <th>ratio</th>\n",
       "    </tr>\n",
       "    <tr>\n",
       "      <th>debt</th>\n",
       "      <th>долг есть</th>\n",
       "      <th>долга нет</th>\n",
       "      <th></th>\n",
       "    </tr>\n",
       "    <tr>\n",
       "      <th>children</th>\n",
       "      <th></th>\n",
       "      <th></th>\n",
       "      <th></th>\n",
       "    </tr>\n",
       "  </thead>\n",
       "  <tbody>\n",
       "    <tr>\n",
       "      <td>детей нет</td>\n",
       "      <td>1063</td>\n",
       "      <td>13086</td>\n",
       "      <td>7.51%</td>\n",
       "    </tr>\n",
       "    <tr>\n",
       "      <td>есть дети</td>\n",
       "      <td>677</td>\n",
       "      <td>6652</td>\n",
       "      <td>9.24%</td>\n",
       "    </tr>\n",
       "  </tbody>\n",
       "</table>\n",
       "</div>"
      ],
      "text/plain": [
       "            purpose           ratio\n",
       "debt      долг есть долга нет      \n",
       "children                           \n",
       "детей нет      1063     13086 7.51%\n",
       "есть дети       677      6652 9.24%"
      ]
     },
     "metadata": {},
     "output_type": "display_data"
    }
   ],
   "source": [
    "# Код ревьюера\n",
    "with pd.option_context('display.float_format', '{:.2%}'.format):\n",
    "    display(children_pivot)"
   ]
  },
  {
   "cell_type": "code",
   "execution_count": 39,
   "metadata": {},
   "outputs": [
    {
     "data": {
      "text/html": [
       "<div>\n",
       "<style scoped>\n",
       "    .dataframe tbody tr th:only-of-type {\n",
       "        vertical-align: middle;\n",
       "    }\n",
       "\n",
       "    .dataframe tbody tr th {\n",
       "        vertical-align: top;\n",
       "    }\n",
       "\n",
       "    .dataframe thead th {\n",
       "        text-align: right;\n",
       "    }\n",
       "</style>\n",
       "<table border=\"1\" class=\"dataframe\">\n",
       "  <thead>\n",
       "    <tr style=\"text-align: right;\">\n",
       "      <th></th>\n",
       "      <th>число_клиентов</th>\n",
       "      <th>должников</th>\n",
       "      <th>доля_должников</th>\n",
       "    </tr>\n",
       "    <tr>\n",
       "      <th>children</th>\n",
       "      <th></th>\n",
       "      <th></th>\n",
       "      <th></th>\n",
       "    </tr>\n",
       "  </thead>\n",
       "  <tbody>\n",
       "    <tr>\n",
       "      <td>детей нет</td>\n",
       "      <td>14149</td>\n",
       "      <td>1063</td>\n",
       "      <td>0.075129</td>\n",
       "    </tr>\n",
       "    <tr>\n",
       "      <td>есть дети</td>\n",
       "      <td>7329</td>\n",
       "      <td>677</td>\n",
       "      <td>0.092373</td>\n",
       "    </tr>\n",
       "  </tbody>\n",
       "</table>\n",
       "</div>"
      ],
      "text/plain": [
       "           число_клиентов  должников  доля_должников\n",
       "children                                            \n",
       "детей нет           14149       1063        0.075129\n",
       "есть дети            7329        677        0.092373"
      ]
     },
     "execution_count": 39,
     "metadata": {},
     "output_type": "execute_result"
    }
   ],
   "source": [
    "df.groupby('children').apply(lambda group : pd.Series(\n",
    "                dict(число_клиентов=group['debt'].count(), \n",
    "                     должников=group[group['debt'] == 'долг есть']['debt'].count(), \n",
    "                     доля_должников=(group['debt']=='долг есть').mean()))).astype({'число_клиентов':int,'должников':int})"
   ]
  },
  {
   "cell_type": "markdown",
   "metadata": {},
   "source": [
    "- Есть ли зависимость между семейным положением и возвратом кредита в срок?\n"
   ]
  },
  {
   "cell_type": "code",
   "execution_count": 40,
   "metadata": {},
   "outputs": [
    {
     "data": {
      "text/html": [
       "<div>\n",
       "<style scoped>\n",
       "    .dataframe tbody tr th:only-of-type {\n",
       "        vertical-align: middle;\n",
       "    }\n",
       "\n",
       "    .dataframe tbody tr th {\n",
       "        vertical-align: top;\n",
       "    }\n",
       "\n",
       "    .dataframe thead tr th {\n",
       "        text-align: left;\n",
       "    }\n",
       "\n",
       "    .dataframe thead tr:last-of-type th {\n",
       "        text-align: right;\n",
       "    }\n",
       "</style>\n",
       "<table border=\"1\" class=\"dataframe\">\n",
       "  <thead>\n",
       "    <tr>\n",
       "      <th></th>\n",
       "      <th colspan=\"2\" halign=\"left\">purpose</th>\n",
       "    </tr>\n",
       "    <tr>\n",
       "      <th>debt</th>\n",
       "      <th>долг есть</th>\n",
       "      <th>долга нет</th>\n",
       "    </tr>\n",
       "    <tr>\n",
       "      <th>family_status</th>\n",
       "      <th></th>\n",
       "      <th></th>\n",
       "    </tr>\n",
       "  </thead>\n",
       "  <tbody>\n",
       "    <tr>\n",
       "      <td>Не женат / не замужем</td>\n",
       "      <td>274</td>\n",
       "      <td>2539</td>\n",
       "    </tr>\n",
       "    <tr>\n",
       "      <td>в разводе</td>\n",
       "      <td>85</td>\n",
       "      <td>1110</td>\n",
       "    </tr>\n",
       "    <tr>\n",
       "      <td>вдовец / вдова</td>\n",
       "      <td>63</td>\n",
       "      <td>897</td>\n",
       "    </tr>\n",
       "    <tr>\n",
       "      <td>гражданский брак</td>\n",
       "      <td>388</td>\n",
       "      <td>3789</td>\n",
       "    </tr>\n",
       "    <tr>\n",
       "      <td>женат / замужем</td>\n",
       "      <td>931</td>\n",
       "      <td>11449</td>\n",
       "    </tr>\n",
       "  </tbody>\n",
       "</table>\n",
       "</div>"
      ],
      "text/plain": [
       "                        purpose          \n",
       "debt                  долг есть долга нет\n",
       "family_status                            \n",
       "Не женат / не замужем       274      2539\n",
       "в разводе                    85      1110\n",
       "вдовец / вдова               63       897\n",
       "гражданский брак            388      3789\n",
       "женат / замужем             931     11449"
      ]
     },
     "execution_count": 40,
     "metadata": {},
     "output_type": "execute_result"
    }
   ],
   "source": [
    "family_pivot = df.pivot_table(index = ['family_status'], columns = ['debt'],\n",
    "values = ['purpose'], aggfunc = 'count')\n",
    "family_pivot"
   ]
  },
  {
   "cell_type": "code",
   "execution_count": 41,
   "metadata": {},
   "outputs": [
    {
     "data": {
      "text/html": [
       "<div>\n",
       "<style scoped>\n",
       "    .dataframe tbody tr th:only-of-type {\n",
       "        vertical-align: middle;\n",
       "    }\n",
       "\n",
       "    .dataframe tbody tr th {\n",
       "        vertical-align: top;\n",
       "    }\n",
       "\n",
       "    .dataframe thead tr th {\n",
       "        text-align: left;\n",
       "    }\n",
       "\n",
       "    .dataframe thead tr:last-of-type th {\n",
       "        text-align: right;\n",
       "    }\n",
       "</style>\n",
       "<table border=\"1\" class=\"dataframe\">\n",
       "  <thead>\n",
       "    <tr>\n",
       "      <th></th>\n",
       "      <th colspan=\"2\" halign=\"left\">purpose</th>\n",
       "      <th>ratio</th>\n",
       "    </tr>\n",
       "    <tr>\n",
       "      <th>debt</th>\n",
       "      <th>долг есть</th>\n",
       "      <th>долга нет</th>\n",
       "      <th></th>\n",
       "    </tr>\n",
       "    <tr>\n",
       "      <th>family_status</th>\n",
       "      <th></th>\n",
       "      <th></th>\n",
       "      <th></th>\n",
       "    </tr>\n",
       "  </thead>\n",
       "  <tbody>\n",
       "    <tr>\n",
       "      <td>Не женат / не замужем</td>\n",
       "      <td>274</td>\n",
       "      <td>2539</td>\n",
       "      <td>0.097405</td>\n",
       "    </tr>\n",
       "    <tr>\n",
       "      <td>гражданский брак</td>\n",
       "      <td>388</td>\n",
       "      <td>3789</td>\n",
       "      <td>0.092890</td>\n",
       "    </tr>\n",
       "    <tr>\n",
       "      <td>женат / замужем</td>\n",
       "      <td>931</td>\n",
       "      <td>11449</td>\n",
       "      <td>0.075202</td>\n",
       "    </tr>\n",
       "    <tr>\n",
       "      <td>в разводе</td>\n",
       "      <td>85</td>\n",
       "      <td>1110</td>\n",
       "      <td>0.071130</td>\n",
       "    </tr>\n",
       "    <tr>\n",
       "      <td>вдовец / вдова</td>\n",
       "      <td>63</td>\n",
       "      <td>897</td>\n",
       "      <td>0.065625</td>\n",
       "    </tr>\n",
       "  </tbody>\n",
       "</table>\n",
       "</div>"
      ],
      "text/plain": [
       "                        purpose               ratio\n",
       "debt                  долг есть долга нет          \n",
       "family_status                                      \n",
       "Не женат / не замужем       274      2539  0.097405\n",
       "гражданский брак            388      3789  0.092890\n",
       "женат / замужем             931     11449  0.075202\n",
       "в разводе                    85      1110  0.071130\n",
       "вдовец / вдова               63       897  0.065625"
      ]
     },
     "execution_count": 41,
     "metadata": {},
     "output_type": "execute_result"
    }
   ],
   "source": [
    "family_pivot ['ratio'] = family_pivot['purpose']['долг есть'] / (family_pivot['purpose']['долг есть'] + family_pivot['purpose']['долга нет'])\n",
    "family_pivot.sort_values(by = 'ratio',ascending = False)"
   ]
  },
  {
   "cell_type": "code",
   "execution_count": 51,
   "metadata": {},
   "outputs": [
    {
     "data": {
      "text/html": [
       "<div>\n",
       "<style scoped>\n",
       "    .dataframe tbody tr th:only-of-type {\n",
       "        vertical-align: middle;\n",
       "    }\n",
       "\n",
       "    .dataframe tbody tr th {\n",
       "        vertical-align: top;\n",
       "    }\n",
       "\n",
       "    .dataframe thead tr th {\n",
       "        text-align: left;\n",
       "    }\n",
       "\n",
       "    .dataframe thead tr:last-of-type th {\n",
       "        text-align: right;\n",
       "    }\n",
       "</style>\n",
       "<table border=\"1\" class=\"dataframe\">\n",
       "  <thead>\n",
       "    <tr>\n",
       "      <th></th>\n",
       "      <th colspan=\"2\" halign=\"left\">purpose</th>\n",
       "      <th>ratio</th>\n",
       "    </tr>\n",
       "    <tr>\n",
       "      <th>debt</th>\n",
       "      <th>долг есть</th>\n",
       "      <th>долга нет</th>\n",
       "      <th></th>\n",
       "    </tr>\n",
       "    <tr>\n",
       "      <th>family_status</th>\n",
       "      <th></th>\n",
       "      <th></th>\n",
       "      <th></th>\n",
       "    </tr>\n",
       "  </thead>\n",
       "  <tbody>\n",
       "    <tr>\n",
       "      <td>вдовец / вдова</td>\n",
       "      <td>63</td>\n",
       "      <td>897</td>\n",
       "      <td>6.56%</td>\n",
       "    </tr>\n",
       "    <tr>\n",
       "      <td>в разводе</td>\n",
       "      <td>85</td>\n",
       "      <td>1110</td>\n",
       "      <td>7.11%</td>\n",
       "    </tr>\n",
       "    <tr>\n",
       "      <td>женат / замужем</td>\n",
       "      <td>931</td>\n",
       "      <td>11449</td>\n",
       "      <td>7.52%</td>\n",
       "    </tr>\n",
       "    <tr>\n",
       "      <td>гражданский брак</td>\n",
       "      <td>388</td>\n",
       "      <td>3789</td>\n",
       "      <td>9.29%</td>\n",
       "    </tr>\n",
       "    <tr>\n",
       "      <td>Не женат / не замужем</td>\n",
       "      <td>274</td>\n",
       "      <td>2539</td>\n",
       "      <td>9.74%</td>\n",
       "    </tr>\n",
       "  </tbody>\n",
       "</table>\n",
       "</div>"
      ],
      "text/plain": [
       "                        purpose           ratio\n",
       "debt                  долг есть долга нет      \n",
       "family_status                                  \n",
       "вдовец / вдова               63       897 6.56%\n",
       "в разводе                    85      1110 7.11%\n",
       "женат / замужем             931     11449 7.52%\n",
       "гражданский брак            388      3789 9.29%\n",
       "Не женат / не замужем       274      2539 9.74%"
      ]
     },
     "metadata": {},
     "output_type": "display_data"
    }
   ],
   "source": [
    "with pd.option_context('display.float_format', '{:.2%}'.format):\n",
    "    display(family_pivot.sort_values(by='ratio'))"
   ]
  },
  {
   "cell_type": "markdown",
   "metadata": {},
   "source": [
    "**Вывод**"
   ]
  },
  {
   "cell_type": "markdown",
   "metadata": {},
   "source": [
    "Зависимость есть. Люди, которые не были в браке или люди, у которых брак не зарегистирован имеет большую склонность иметь задолженность по кредиту."
   ]
  },
  {
   "cell_type": "markdown",
   "metadata": {},
   "source": [
    "- Есть ли зависимость между уровнем дохода и возвратом кредита в срок?"
   ]
  },
  {
   "cell_type": "code",
   "execution_count": 43,
   "metadata": {},
   "outputs": [
    {
     "data": {
      "text/html": [
       "<div>\n",
       "<style scoped>\n",
       "    .dataframe tbody tr th:only-of-type {\n",
       "        vertical-align: middle;\n",
       "    }\n",
       "\n",
       "    .dataframe tbody tr th {\n",
       "        vertical-align: top;\n",
       "    }\n",
       "\n",
       "    .dataframe thead tr th {\n",
       "        text-align: left;\n",
       "    }\n",
       "\n",
       "    .dataframe thead tr:last-of-type th {\n",
       "        text-align: right;\n",
       "    }\n",
       "</style>\n",
       "<table border=\"1\" class=\"dataframe\">\n",
       "  <thead>\n",
       "    <tr>\n",
       "      <th></th>\n",
       "      <th colspan=\"2\" halign=\"left\">family_status_id</th>\n",
       "    </tr>\n",
       "    <tr>\n",
       "      <th>debt</th>\n",
       "      <th>долг есть</th>\n",
       "      <th>долга нет</th>\n",
       "    </tr>\n",
       "    <tr>\n",
       "      <th>total_income</th>\n",
       "      <th></th>\n",
       "      <th></th>\n",
       "    </tr>\n",
       "  </thead>\n",
       "  <tbody>\n",
       "    <tr>\n",
       "      <td>высокий доход</td>\n",
       "      <td>543</td>\n",
       "      <td>6632</td>\n",
       "    </tr>\n",
       "    <tr>\n",
       "      <td>низкий доход</td>\n",
       "      <td>583</td>\n",
       "      <td>6592</td>\n",
       "    </tr>\n",
       "    <tr>\n",
       "      <td>средний доход</td>\n",
       "      <td>615</td>\n",
       "      <td>6560</td>\n",
       "    </tr>\n",
       "  </tbody>\n",
       "</table>\n",
       "</div>"
      ],
      "text/plain": [
       "              family_status_id          \n",
       "debt                 долг есть долга нет\n",
       "total_income                            \n",
       "высокий доход              543      6632\n",
       "низкий доход               583      6592\n",
       "средний доход              615      6560"
      ]
     },
     "execution_count": 43,
     "metadata": {},
     "output_type": "execute_result"
    }
   ],
   "source": [
    "income_pivot = df.pivot_table(index = ['total_income'], columns = ['debt'],\n",
    "values = ['family_status_id'], aggfunc = 'count')\n",
    "income_pivot"
   ]
  },
  {
   "cell_type": "code",
   "execution_count": 44,
   "metadata": {},
   "outputs": [
    {
     "data": {
      "text/html": [
       "<div>\n",
       "<style scoped>\n",
       "    .dataframe tbody tr th:only-of-type {\n",
       "        vertical-align: middle;\n",
       "    }\n",
       "\n",
       "    .dataframe tbody tr th {\n",
       "        vertical-align: top;\n",
       "    }\n",
       "\n",
       "    .dataframe thead tr th {\n",
       "        text-align: left;\n",
       "    }\n",
       "\n",
       "    .dataframe thead tr:last-of-type th {\n",
       "        text-align: right;\n",
       "    }\n",
       "</style>\n",
       "<table border=\"1\" class=\"dataframe\">\n",
       "  <thead>\n",
       "    <tr>\n",
       "      <th></th>\n",
       "      <th colspan=\"2\" halign=\"left\">family_status_id</th>\n",
       "      <th>ratio</th>\n",
       "    </tr>\n",
       "    <tr>\n",
       "      <th>debt</th>\n",
       "      <th>долг есть</th>\n",
       "      <th>долга нет</th>\n",
       "      <th></th>\n",
       "    </tr>\n",
       "    <tr>\n",
       "      <th>total_income</th>\n",
       "      <th></th>\n",
       "      <th></th>\n",
       "      <th></th>\n",
       "    </tr>\n",
       "  </thead>\n",
       "  <tbody>\n",
       "    <tr>\n",
       "      <td>высокий доход</td>\n",
       "      <td>543</td>\n",
       "      <td>6632</td>\n",
       "      <td>7.57%</td>\n",
       "    </tr>\n",
       "    <tr>\n",
       "      <td>низкий доход</td>\n",
       "      <td>583</td>\n",
       "      <td>6592</td>\n",
       "      <td>8.13%</td>\n",
       "    </tr>\n",
       "    <tr>\n",
       "      <td>средний доход</td>\n",
       "      <td>615</td>\n",
       "      <td>6560</td>\n",
       "      <td>8.57%</td>\n",
       "    </tr>\n",
       "  </tbody>\n",
       "</table>\n",
       "</div>"
      ],
      "text/plain": [
       "              family_status_id           ratio\n",
       "debt                 долг есть долга нет      \n",
       "total_income                                  \n",
       "высокий доход              543      6632 7.57%\n",
       "низкий доход               583      6592 8.13%\n",
       "средний доход              615      6560 8.57%"
      ]
     },
     "metadata": {},
     "output_type": "display_data"
    }
   ],
   "source": [
    "income_pivot ['ratio'] = income_pivot['family_status_id']['долг есть'] / (income_pivot['family_status_id']['долг есть'] + income_pivot['family_status_id']['долга нет'])\n",
    "with pd.option_context('display.float_format', '{:.2%}'.format):\n",
    "    display(income_pivot)"
   ]
  },
  {
   "cell_type": "code",
   "execution_count": 45,
   "metadata": {},
   "outputs": [
    {
     "data": {
      "text/html": [
       "<div>\n",
       "<style scoped>\n",
       "    .dataframe tbody tr th:only-of-type {\n",
       "        vertical-align: middle;\n",
       "    }\n",
       "\n",
       "    .dataframe tbody tr th {\n",
       "        vertical-align: top;\n",
       "    }\n",
       "\n",
       "    .dataframe thead tr th {\n",
       "        text-align: left;\n",
       "    }\n",
       "\n",
       "    .dataframe thead tr:last-of-type th {\n",
       "        text-align: right;\n",
       "    }\n",
       "</style>\n",
       "<table border=\"1\" class=\"dataframe\">\n",
       "  <thead>\n",
       "    <tr>\n",
       "      <th></th>\n",
       "      <th colspan=\"2\" halign=\"left\">family_status_id</th>\n",
       "      <th>ratio</th>\n",
       "    </tr>\n",
       "    <tr>\n",
       "      <th>debt</th>\n",
       "      <th>долг есть</th>\n",
       "      <th>долга нет</th>\n",
       "      <th></th>\n",
       "    </tr>\n",
       "    <tr>\n",
       "      <th>total_income</th>\n",
       "      <th></th>\n",
       "      <th></th>\n",
       "      <th></th>\n",
       "    </tr>\n",
       "  </thead>\n",
       "  <tbody>\n",
       "    <tr>\n",
       "      <td>высокий доход</td>\n",
       "      <td>543</td>\n",
       "      <td>6632</td>\n",
       "      <td>0.075679</td>\n",
       "    </tr>\n",
       "    <tr>\n",
       "      <td>низкий доход</td>\n",
       "      <td>583</td>\n",
       "      <td>6592</td>\n",
       "      <td>0.081254</td>\n",
       "    </tr>\n",
       "    <tr>\n",
       "      <td>средний доход</td>\n",
       "      <td>615</td>\n",
       "      <td>6560</td>\n",
       "      <td>0.085714</td>\n",
       "    </tr>\n",
       "  </tbody>\n",
       "</table>\n",
       "</div>"
      ],
      "text/plain": [
       "              family_status_id               ratio\n",
       "debt                 долг есть долга нет          \n",
       "total_income                                      \n",
       "высокий доход              543      6632  0.075679\n",
       "низкий доход               583      6592  0.081254\n",
       "средний доход              615      6560  0.085714"
      ]
     },
     "execution_count": 45,
     "metadata": {},
     "output_type": "execute_result"
    }
   ],
   "source": [
    "income_pivot.sort_values(by = 'ratio',ascending = False)\n",
    "income_pivot"
   ]
  },
  {
   "cell_type": "markdown",
   "metadata": {},
   "source": [
    "**Вывод**"
   ]
  },
  {
   "cell_type": "markdown",
   "metadata": {},
   "source": [
    "Зависимость есть. Самая низкая доля клиентов с высоким доходом, у которых есть долг.\n",
    "Но доля клиентов со средним доходм и низким дохом, у которыл был долг - примерно одинакова."
   ]
  },
  {
   "cell_type": "markdown",
   "metadata": {},
   "source": [
    "- Как разные цели кредита влияют на его возврат в срок?"
   ]
  },
  {
   "cell_type": "code",
   "execution_count": 46,
   "metadata": {},
   "outputs": [
    {
     "data": {
      "text/html": [
       "<div>\n",
       "<style scoped>\n",
       "    .dataframe tbody tr th:only-of-type {\n",
       "        vertical-align: middle;\n",
       "    }\n",
       "\n",
       "    .dataframe tbody tr th {\n",
       "        vertical-align: top;\n",
       "    }\n",
       "\n",
       "    .dataframe thead tr th {\n",
       "        text-align: left;\n",
       "    }\n",
       "\n",
       "    .dataframe thead tr:last-of-type th {\n",
       "        text-align: right;\n",
       "    }\n",
       "</style>\n",
       "<table border=\"1\" class=\"dataframe\">\n",
       "  <thead>\n",
       "    <tr>\n",
       "      <th></th>\n",
       "      <th colspan=\"2\" halign=\"left\">family_status_id</th>\n",
       "      <th>ratio</th>\n",
       "    </tr>\n",
       "    <tr>\n",
       "      <th>debt</th>\n",
       "      <th>долг есть</th>\n",
       "      <th>долга нет</th>\n",
       "      <th></th>\n",
       "    </tr>\n",
       "    <tr>\n",
       "      <th>purpose</th>\n",
       "      <th></th>\n",
       "      <th></th>\n",
       "      <th></th>\n",
       "    </tr>\n",
       "  </thead>\n",
       "  <tbody>\n",
       "    <tr>\n",
       "      <td>автомобиль</td>\n",
       "      <td>403</td>\n",
       "      <td>3912</td>\n",
       "      <td>9.34%</td>\n",
       "    </tr>\n",
       "    <tr>\n",
       "      <td>недвижимость</td>\n",
       "      <td>782</td>\n",
       "      <td>10058</td>\n",
       "      <td>7.21%</td>\n",
       "    </tr>\n",
       "    <tr>\n",
       "      <td>образование</td>\n",
       "      <td>370</td>\n",
       "      <td>3652</td>\n",
       "      <td>9.20%</td>\n",
       "    </tr>\n",
       "    <tr>\n",
       "      <td>свадьба</td>\n",
       "      <td>186</td>\n",
       "      <td>2162</td>\n",
       "      <td>7.92%</td>\n",
       "    </tr>\n",
       "  </tbody>\n",
       "</table>\n",
       "</div>"
      ],
      "text/plain": [
       "             family_status_id           ratio\n",
       "debt                долг есть долга нет      \n",
       "purpose                                      \n",
       "автомобиль                403      3912 9.34%\n",
       "недвижимость              782     10058 7.21%\n",
       "образование               370      3652 9.20%\n",
       "свадьба                   186      2162 7.92%"
      ]
     },
     "metadata": {},
     "output_type": "display_data"
    }
   ],
   "source": [
    "purpose_pivot = df.pivot_table(index = ['purpose'], columns = ['debt'],\n",
    "values = ['family_status_id'], aggfunc = 'count')\n",
    "purpose_pivot ['ratio'] = purpose_pivot['family_status_id']['долг есть'] / (purpose_pivot['family_status_id']['долг есть'] + purpose_pivot['family_status_id']['долга нет'])\n",
    "with pd.option_context('display.float_format', '{:.2%}'.format):\n",
    "    display(purpose_pivot)\n"
   ]
  },
  {
   "cell_type": "code",
   "execution_count": 47,
   "metadata": {},
   "outputs": [
    {
     "data": {
      "text/html": [
       "<div>\n",
       "<style scoped>\n",
       "    .dataframe tbody tr th:only-of-type {\n",
       "        vertical-align: middle;\n",
       "    }\n",
       "\n",
       "    .dataframe tbody tr th {\n",
       "        vertical-align: top;\n",
       "    }\n",
       "\n",
       "    .dataframe thead tr th {\n",
       "        text-align: left;\n",
       "    }\n",
       "\n",
       "    .dataframe thead tr:last-of-type th {\n",
       "        text-align: right;\n",
       "    }\n",
       "</style>\n",
       "<table border=\"1\" class=\"dataframe\">\n",
       "  <thead>\n",
       "    <tr>\n",
       "      <th></th>\n",
       "      <th colspan=\"2\" halign=\"left\">family_status_id</th>\n",
       "      <th>ratio</th>\n",
       "    </tr>\n",
       "    <tr>\n",
       "      <th>debt</th>\n",
       "      <th>долг есть</th>\n",
       "      <th>долга нет</th>\n",
       "      <th></th>\n",
       "    </tr>\n",
       "    <tr>\n",
       "      <th>purpose</th>\n",
       "      <th></th>\n",
       "      <th></th>\n",
       "      <th></th>\n",
       "    </tr>\n",
       "  </thead>\n",
       "  <tbody>\n",
       "    <tr>\n",
       "      <td>автомобиль</td>\n",
       "      <td>403</td>\n",
       "      <td>3912</td>\n",
       "      <td>0.093395</td>\n",
       "    </tr>\n",
       "    <tr>\n",
       "      <td>образование</td>\n",
       "      <td>370</td>\n",
       "      <td>3652</td>\n",
       "      <td>0.091994</td>\n",
       "    </tr>\n",
       "    <tr>\n",
       "      <td>свадьба</td>\n",
       "      <td>186</td>\n",
       "      <td>2162</td>\n",
       "      <td>0.079216</td>\n",
       "    </tr>\n",
       "    <tr>\n",
       "      <td>недвижимость</td>\n",
       "      <td>782</td>\n",
       "      <td>10058</td>\n",
       "      <td>0.072140</td>\n",
       "    </tr>\n",
       "  </tbody>\n",
       "</table>\n",
       "</div>"
      ],
      "text/plain": [
       "             family_status_id               ratio\n",
       "debt                долг есть долга нет          \n",
       "purpose                                          \n",
       "автомобиль                403      3912  0.093395\n",
       "образование               370      3652  0.091994\n",
       "свадьба                   186      2162  0.079216\n",
       "недвижимость              782     10058  0.072140"
      ]
     },
     "execution_count": 47,
     "metadata": {},
     "output_type": "execute_result"
    }
   ],
   "source": [
    "purpose_pivot.sort_values(by = 'ratio',ascending = False)"
   ]
  },
  {
   "cell_type": "markdown",
   "metadata": {},
   "source": [
    "**Вывод**"
   ]
  },
  {
   "cell_type": "markdown",
   "metadata": {},
   "source": [
    "Самая большая доля клиентов, у которых был долг брали кредит на образование. Клиенты, которые брали кредит на недвижимость, меньше по сравнению с остальными целями имели долг."
   ]
  },
  {
   "cell_type": "markdown",
   "metadata": {},
   "source": [
    "## Шаг 4. Общий вывод"
   ]
  },
  {
   "cell_type": "markdown",
   "metadata": {},
   "source": [
    "Была проведена работа по предобработке данных в результате, которой было выяснено, что наличие детей, цели кредиты, уровень дохода могут влиять на возврат кредита. Но опираться только на эти данные для оценки способности потенциального заёмщика вернуть кредит банку не стоит. Так как доля клиентов в зависимости от наличия детей, целей кредита и уровеня дохода , которые не возвращают кредит, меньше 10%."
   ]
  },
  {
   "cell_type": "code",
   "execution_count": null,
   "metadata": {},
   "outputs": [],
   "source": []
  }
 ],
 "metadata": {
  "ExecuteTimeLog": [
   {
    "duration": 835,
    "start_time": "2021-11-29T11:48:01.324Z"
   },
   {
    "duration": 63,
    "start_time": "2021-11-29T11:49:47.366Z"
   },
   {
    "duration": 28,
    "start_time": "2021-11-29T11:50:04.138Z"
   },
   {
    "duration": 16,
    "start_time": "2021-11-29T11:50:50.677Z"
   },
   {
    "duration": 23,
    "start_time": "2021-11-29T12:11:17.381Z"
   },
   {
    "duration": 19,
    "start_time": "2021-11-29T12:11:36.794Z"
   },
   {
    "duration": 6,
    "start_time": "2021-11-29T12:24:16.811Z"
   },
   {
    "duration": 14,
    "start_time": "2021-11-29T12:29:24.704Z"
   },
   {
    "duration": 7,
    "start_time": "2021-11-29T12:50:14.151Z"
   },
   {
    "duration": 14,
    "start_time": "2021-11-29T12:50:23.044Z"
   },
   {
    "duration": 8,
    "start_time": "2021-11-29T13:10:33.267Z"
   },
   {
    "duration": 21,
    "start_time": "2021-11-29T13:10:43.097Z"
   },
   {
    "duration": 4,
    "start_time": "2021-11-29T13:12:56.781Z"
   },
   {
    "duration": 61,
    "start_time": "2021-11-29T13:12:57.509Z"
   },
   {
    "duration": 20,
    "start_time": "2021-11-29T13:12:58.179Z"
   },
   {
    "duration": 17,
    "start_time": "2021-11-29T13:13:00.690Z"
   },
   {
    "duration": 7,
    "start_time": "2021-11-29T13:58:11.073Z"
   },
   {
    "duration": 7,
    "start_time": "2021-11-29T13:59:08.991Z"
   },
   {
    "duration": 7,
    "start_time": "2021-11-29T14:00:57.288Z"
   },
   {
    "duration": 8,
    "start_time": "2021-11-29T14:02:12.061Z"
   },
   {
    "duration": 122,
    "start_time": "2021-11-29T14:11:17.723Z"
   },
   {
    "duration": 487,
    "start_time": "2021-11-29T14:11:44.375Z"
   },
   {
    "duration": 385,
    "start_time": "2021-11-29T14:12:01.929Z"
   },
   {
    "duration": 466,
    "start_time": "2021-11-29T14:16:43.664Z"
   },
   {
    "duration": 385,
    "start_time": "2021-11-29T14:16:50.008Z"
   },
   {
    "duration": 4,
    "start_time": "2021-11-29T14:16:55.218Z"
   },
   {
    "duration": 784,
    "start_time": "2021-11-29T14:17:17.998Z"
   },
   {
    "duration": 83,
    "start_time": "2021-11-29T14:17:19.294Z"
   },
   {
    "duration": 30,
    "start_time": "2021-11-29T14:17:20.151Z"
   },
   {
    "duration": 15,
    "start_time": "2021-11-29T14:17:22.170Z"
   },
   {
    "duration": 19,
    "start_time": "2021-11-29T14:17:24.901Z"
   },
   {
    "duration": 5,
    "start_time": "2021-11-29T14:17:26.418Z"
   },
   {
    "duration": 6,
    "start_time": "2021-11-29T14:17:28.568Z"
   },
   {
    "duration": 6,
    "start_time": "2021-11-29T14:17:30.157Z"
   },
   {
    "duration": 9,
    "start_time": "2021-11-29T14:17:31.172Z"
   },
   {
    "duration": 9,
    "start_time": "2021-11-29T14:17:32.337Z"
   },
   {
    "duration": 5,
    "start_time": "2021-11-29T14:17:35.353Z"
   },
   {
    "duration": 20,
    "start_time": "2021-11-29T14:17:55.058Z"
   },
   {
    "duration": 21,
    "start_time": "2021-11-29T14:20:21.053Z"
   },
   {
    "duration": 762,
    "start_time": "2021-11-29T14:24:46.363Z"
   },
   {
    "duration": 66,
    "start_time": "2021-11-29T14:24:47.128Z"
   },
   {
    "duration": 31,
    "start_time": "2021-11-29T14:24:48.068Z"
   },
   {
    "duration": 16,
    "start_time": "2021-11-29T14:24:50.593Z"
   },
   {
    "duration": 12,
    "start_time": "2021-11-29T14:24:54.903Z"
   },
   {
    "duration": 6,
    "start_time": "2021-11-29T14:25:01.049Z"
   },
   {
    "duration": 8,
    "start_time": "2021-11-29T14:26:17.052Z"
   },
   {
    "duration": 648,
    "start_time": "2021-11-29T14:26:18.208Z"
   },
   {
    "duration": 8,
    "start_time": "2021-11-29T14:26:24.488Z"
   },
   {
    "duration": 19,
    "start_time": "2021-11-29T14:26:31.758Z"
   },
   {
    "duration": 6,
    "start_time": "2021-11-29T14:29:09.159Z"
   },
   {
    "duration": 412,
    "start_time": "2021-11-29T14:29:19.197Z"
   },
   {
    "duration": 397,
    "start_time": "2021-11-29T14:29:30.337Z"
   },
   {
    "duration": 6,
    "start_time": "2021-11-29T14:37:30.497Z"
   },
   {
    "duration": 732,
    "start_time": "2021-11-29T14:39:49.499Z"
   },
   {
    "duration": 63,
    "start_time": "2021-11-29T14:39:50.234Z"
   },
   {
    "duration": 30,
    "start_time": "2021-11-29T14:39:51.230Z"
   },
   {
    "duration": 15,
    "start_time": "2021-11-29T14:39:53.135Z"
   },
   {
    "duration": 13,
    "start_time": "2021-11-29T14:39:55.829Z"
   },
   {
    "duration": 8,
    "start_time": "2021-11-29T14:39:59.848Z"
   },
   {
    "duration": 5,
    "start_time": "2021-11-29T14:40:00.707Z"
   },
   {
    "duration": 13,
    "start_time": "2021-11-29T14:40:01.858Z"
   },
   {
    "duration": 6,
    "start_time": "2021-11-29T14:40:04.988Z"
   },
   {
    "duration": 6,
    "start_time": "2021-11-29T14:40:06.633Z"
   },
   {
    "duration": 8,
    "start_time": "2021-11-29T14:40:25.703Z"
   },
   {
    "duration": 8,
    "start_time": "2021-11-29T14:40:39.333Z"
   },
   {
    "duration": 8,
    "start_time": "2021-11-29T14:40:40.355Z"
   },
   {
    "duration": 834,
    "start_time": "2021-12-03T07:57:55.456Z"
   },
   {
    "duration": 68,
    "start_time": "2021-12-03T07:57:56.293Z"
   },
   {
    "duration": 28,
    "start_time": "2021-12-03T07:57:57.177Z"
   },
   {
    "duration": 16,
    "start_time": "2021-12-03T07:57:59.173Z"
   },
   {
    "duration": 12,
    "start_time": "2021-12-03T07:58:02.798Z"
   },
   {
    "duration": 7,
    "start_time": "2021-12-03T07:58:04.692Z"
   },
   {
    "duration": 6,
    "start_time": "2021-12-03T07:58:06.322Z"
   },
   {
    "duration": 12,
    "start_time": "2021-12-03T07:58:07.222Z"
   },
   {
    "duration": 6,
    "start_time": "2021-12-03T07:58:08.813Z"
   },
   {
    "duration": 7,
    "start_time": "2021-12-03T07:58:11.017Z"
   },
   {
    "duration": 10,
    "start_time": "2021-12-03T07:58:12.990Z"
   },
   {
    "duration": 8,
    "start_time": "2021-12-03T07:58:14.409Z"
   },
   {
    "duration": 6,
    "start_time": "2021-12-03T07:58:57.650Z"
   },
   {
    "duration": 20,
    "start_time": "2021-12-03T07:58:58.426Z"
   },
   {
    "duration": 369,
    "start_time": "2021-12-03T08:09:14.189Z"
   },
   {
    "duration": 94,
    "start_time": "2021-12-03T08:09:40.994Z"
   },
   {
    "duration": 276,
    "start_time": "2021-12-03T08:09:57.411Z"
   },
   {
    "duration": 277,
    "start_time": "2021-12-03T08:10:58.248Z"
   },
   {
    "duration": 8,
    "start_time": "2021-12-03T08:28:31.873Z"
   },
   {
    "duration": 11,
    "start_time": "2021-12-03T08:29:06.070Z"
   },
   {
    "duration": 10,
    "start_time": "2021-12-03T08:30:27.858Z"
   },
   {
    "duration": 855,
    "start_time": "2021-12-03T08:30:44.375Z"
   },
   {
    "duration": 75,
    "start_time": "2021-12-03T08:30:45.239Z"
   },
   {
    "duration": 32,
    "start_time": "2021-12-03T08:30:45.874Z"
   },
   {
    "duration": 18,
    "start_time": "2021-12-03T08:30:47.888Z"
   },
   {
    "duration": 14,
    "start_time": "2021-12-03T08:30:50.416Z"
   },
   {
    "duration": 7,
    "start_time": "2021-12-03T08:30:51.688Z"
   },
   {
    "duration": 6,
    "start_time": "2021-12-03T08:30:52.440Z"
   },
   {
    "duration": 14,
    "start_time": "2021-12-03T08:30:53.117Z"
   },
   {
    "duration": 8,
    "start_time": "2021-12-03T08:30:54.364Z"
   },
   {
    "duration": 7,
    "start_time": "2021-12-03T08:30:55.838Z"
   },
   {
    "duration": 10,
    "start_time": "2021-12-03T08:30:56.752Z"
   },
   {
    "duration": 8,
    "start_time": "2021-12-03T08:30:58.235Z"
   },
   {
    "duration": 9,
    "start_time": "2021-12-03T08:30:59.755Z"
   },
   {
    "duration": 7,
    "start_time": "2021-12-03T08:31:01.981Z"
   },
   {
    "duration": 19,
    "start_time": "2021-12-03T08:31:02.671Z"
   },
   {
    "duration": 19,
    "start_time": "2021-12-03T08:31:05.719Z"
   },
   {
    "duration": 11,
    "start_time": "2021-12-03T08:31:08.899Z"
   },
   {
    "duration": 10,
    "start_time": "2021-12-03T08:31:11.480Z"
   },
   {
    "duration": 19,
    "start_time": "2021-12-03T08:31:48.164Z"
   },
   {
    "duration": 14,
    "start_time": "2021-12-03T08:32:04.318Z"
   },
   {
    "duration": 19,
    "start_time": "2021-12-03T08:32:06.027Z"
   },
   {
    "duration": 10,
    "start_time": "2021-12-03T08:32:08.671Z"
   },
   {
    "duration": 12,
    "start_time": "2021-12-03T08:32:10.546Z"
   },
   {
    "duration": 10,
    "start_time": "2021-12-03T08:34:00.457Z"
   },
   {
    "duration": 578,
    "start_time": "2021-12-05T07:59:20.405Z"
   },
   {
    "duration": 873,
    "start_time": "2021-12-05T07:59:36.678Z"
   },
   {
    "duration": 70,
    "start_time": "2021-12-05T07:59:37.553Z"
   },
   {
    "duration": 32,
    "start_time": "2021-12-05T07:59:38.093Z"
   },
   {
    "duration": 15,
    "start_time": "2021-12-05T07:59:39.982Z"
   },
   {
    "duration": 15,
    "start_time": "2021-12-05T07:59:42.468Z"
   },
   {
    "duration": 7,
    "start_time": "2021-12-05T07:59:43.755Z"
   },
   {
    "duration": 7,
    "start_time": "2021-12-05T07:59:44.491Z"
   },
   {
    "duration": 14,
    "start_time": "2021-12-05T07:59:45.786Z"
   },
   {
    "duration": 7,
    "start_time": "2021-12-05T07:59:47.574Z"
   },
   {
    "duration": 6,
    "start_time": "2021-12-05T07:59:48.245Z"
   },
   {
    "duration": 8,
    "start_time": "2021-12-05T07:59:49.087Z"
   },
   {
    "duration": 8,
    "start_time": "2021-12-05T07:59:50.661Z"
   },
   {
    "duration": 7,
    "start_time": "2021-12-05T07:59:51.483Z"
   },
   {
    "duration": 5,
    "start_time": "2021-12-05T07:59:54.117Z"
   },
   {
    "duration": 21,
    "start_time": "2021-12-05T07:59:54.932Z"
   },
   {
    "duration": 15,
    "start_time": "2021-12-05T08:00:00.535Z"
   },
   {
    "duration": 21,
    "start_time": "2021-12-05T08:00:01.366Z"
   },
   {
    "duration": 11,
    "start_time": "2021-12-05T08:00:05.823Z"
   },
   {
    "duration": 11,
    "start_time": "2021-12-05T08:00:08.087Z"
   },
   {
    "duration": 10,
    "start_time": "2021-12-05T08:00:09.137Z"
   },
   {
    "duration": 487,
    "start_time": "2021-12-05T08:00:10.776Z"
   },
   {
    "duration": 908,
    "start_time": "2021-12-05T08:02:24.152Z"
   },
   {
    "duration": 936,
    "start_time": "2021-12-05T08:02:50.667Z"
   },
   {
    "duration": 427,
    "start_time": "2021-12-05T08:09:00.837Z"
   },
   {
    "duration": 4754,
    "start_time": "2021-12-05T08:09:31.785Z"
   },
   {
    "duration": 5598,
    "start_time": "2021-12-05T08:10:06.717Z"
   },
   {
    "duration": 5253,
    "start_time": "2021-12-05T08:15:40.109Z"
   },
   {
    "duration": 2052,
    "start_time": "2021-12-05T08:27:31.049Z"
   },
   {
    "duration": 4981,
    "start_time": "2021-12-05T08:28:04.249Z"
   },
   {
    "duration": 5275,
    "start_time": "2021-12-05T08:29:47.537Z"
   },
   {
    "duration": 5244,
    "start_time": "2021-12-05T08:31:03.167Z"
   },
   {
    "duration": 4871,
    "start_time": "2021-12-05T08:32:32.443Z"
   },
   {
    "duration": 597,
    "start_time": "2021-12-05T08:35:30.525Z"
   },
   {
    "duration": 4698,
    "start_time": "2021-12-05T08:37:01.193Z"
   },
   {
    "duration": 5243,
    "start_time": "2021-12-05T08:39:08.105Z"
   },
   {
    "duration": 11,
    "start_time": "2021-12-05T08:48:31.268Z"
   },
   {
    "duration": 19,
    "start_time": "2021-12-05T08:57:22.659Z"
   },
   {
    "duration": 17,
    "start_time": "2021-12-05T09:03:15.099Z"
   },
   {
    "duration": 19,
    "start_time": "2021-12-05T09:04:23.027Z"
   },
   {
    "duration": 666,
    "start_time": "2021-12-05T09:04:30.441Z"
   },
   {
    "duration": 1715,
    "start_time": "2021-12-05T09:04:32.499Z"
   },
   {
    "duration": 123,
    "start_time": "2021-12-05T09:05:51.739Z"
   },
   {
    "duration": 1740,
    "start_time": "2021-12-05T09:06:19.371Z"
   },
   {
    "duration": 1847,
    "start_time": "2021-12-05T09:08:23.855Z"
   },
   {
    "duration": 2305,
    "start_time": "2021-12-05T09:13:35.264Z"
   },
   {
    "duration": 1690,
    "start_time": "2021-12-05T09:14:31.986Z"
   },
   {
    "duration": 1819,
    "start_time": "2021-12-05T09:14:47.834Z"
   },
   {
    "duration": 1885,
    "start_time": "2021-12-05T09:15:53.505Z"
   },
   {
    "duration": 748,
    "start_time": "2021-12-05T09:16:04.517Z"
   },
   {
    "duration": 79,
    "start_time": "2021-12-05T09:16:05.687Z"
   },
   {
    "duration": 30,
    "start_time": "2021-12-05T09:16:06.417Z"
   },
   {
    "duration": 15,
    "start_time": "2021-12-05T09:16:08.278Z"
   },
   {
    "duration": 13,
    "start_time": "2021-12-05T09:16:10.802Z"
   },
   {
    "duration": 7,
    "start_time": "2021-12-05T09:16:12.688Z"
   },
   {
    "duration": 6,
    "start_time": "2021-12-05T09:16:13.570Z"
   },
   {
    "duration": 16,
    "start_time": "2021-12-05T09:16:15.032Z"
   },
   {
    "duration": 6,
    "start_time": "2021-12-05T09:16:16.722Z"
   },
   {
    "duration": 6,
    "start_time": "2021-12-05T09:16:18.091Z"
   },
   {
    "duration": 9,
    "start_time": "2021-12-05T09:16:19.268Z"
   },
   {
    "duration": 8,
    "start_time": "2021-12-05T09:16:21.114Z"
   },
   {
    "duration": 7,
    "start_time": "2021-12-05T09:16:22.419Z"
   },
   {
    "duration": 6,
    "start_time": "2021-12-05T09:16:24.573Z"
   },
   {
    "duration": 20,
    "start_time": "2021-12-05T09:16:25.790Z"
   },
   {
    "duration": 16,
    "start_time": "2021-12-05T09:16:27.628Z"
   },
   {
    "duration": 20,
    "start_time": "2021-12-05T09:16:28.318Z"
   },
   {
    "duration": 11,
    "start_time": "2021-12-05T09:16:30.469Z"
   },
   {
    "duration": 12,
    "start_time": "2021-12-05T09:16:32.601Z"
   },
   {
    "duration": 10,
    "start_time": "2021-12-05T09:16:33.514Z"
   },
   {
    "duration": 5061,
    "start_time": "2021-12-05T09:16:35.415Z"
   },
   {
    "duration": 11,
    "start_time": "2021-12-05T09:16:43.342Z"
   },
   {
    "duration": 16,
    "start_time": "2021-12-05T09:16:45.737Z"
   },
   {
    "duration": 1808,
    "start_time": "2021-12-05T09:17:17.727Z"
   },
   {
    "duration": 1799,
    "start_time": "2021-12-05T09:17:35.468Z"
   },
   {
    "duration": 731,
    "start_time": "2021-12-05T09:17:55.299Z"
   },
   {
    "duration": 65,
    "start_time": "2021-12-05T09:17:56.179Z"
   },
   {
    "duration": 29,
    "start_time": "2021-12-05T09:17:56.858Z"
   },
   {
    "duration": 15,
    "start_time": "2021-12-05T09:17:58.638Z"
   },
   {
    "duration": 14,
    "start_time": "2021-12-05T09:18:00.857Z"
   },
   {
    "duration": 6,
    "start_time": "2021-12-05T09:18:02.056Z"
   },
   {
    "duration": 7,
    "start_time": "2021-12-05T09:18:02.701Z"
   },
   {
    "duration": 13,
    "start_time": "2021-12-05T09:18:04.143Z"
   },
   {
    "duration": 6,
    "start_time": "2021-12-05T09:18:05.397Z"
   },
   {
    "duration": 7,
    "start_time": "2021-12-05T09:18:06.372Z"
   },
   {
    "duration": 8,
    "start_time": "2021-12-05T09:18:07.667Z"
   },
   {
    "duration": 7,
    "start_time": "2021-12-05T09:18:09.040Z"
   },
   {
    "duration": 7,
    "start_time": "2021-12-05T09:18:09.923Z"
   },
   {
    "duration": 5,
    "start_time": "2021-12-05T09:18:11.831Z"
   },
   {
    "duration": 22,
    "start_time": "2021-12-05T09:18:12.418Z"
   },
   {
    "duration": 19,
    "start_time": "2021-12-05T09:18:14.610Z"
   },
   {
    "duration": 19,
    "start_time": "2021-12-05T09:18:15.191Z"
   },
   {
    "duration": 11,
    "start_time": "2021-12-05T09:18:16.578Z"
   },
   {
    "duration": 12,
    "start_time": "2021-12-05T09:18:18.972Z"
   },
   {
    "duration": 10,
    "start_time": "2021-12-05T09:18:20.142Z"
   },
   {
    "duration": 4813,
    "start_time": "2021-12-05T09:18:21.986Z"
   },
   {
    "duration": 11,
    "start_time": "2021-12-05T09:18:30.931Z"
   },
   {
    "duration": 17,
    "start_time": "2021-12-05T09:18:33.699Z"
   },
   {
    "duration": 10,
    "start_time": "2021-12-05T09:18:45.299Z"
   },
   {
    "duration": 3734,
    "start_time": "2021-12-05T09:20:02.537Z"
   },
   {
    "duration": 9,
    "start_time": "2021-12-05T09:20:08.433Z"
   },
   {
    "duration": 788,
    "start_time": "2021-12-05T09:20:25.846Z"
   },
   {
    "duration": 63,
    "start_time": "2021-12-05T09:20:27.094Z"
   },
   {
    "duration": 30,
    "start_time": "2021-12-05T09:20:27.818Z"
   },
   {
    "duration": 16,
    "start_time": "2021-12-05T09:20:29.599Z"
   },
   {
    "duration": 13,
    "start_time": "2021-12-05T09:20:32.128Z"
   },
   {
    "duration": 6,
    "start_time": "2021-12-05T09:20:33.489Z"
   },
   {
    "duration": 7,
    "start_time": "2021-12-05T09:20:34.348Z"
   },
   {
    "duration": 13,
    "start_time": "2021-12-05T09:20:35.651Z"
   },
   {
    "duration": 6,
    "start_time": "2021-12-05T09:20:37.029Z"
   },
   {
    "duration": 6,
    "start_time": "2021-12-05T09:20:38.277Z"
   },
   {
    "duration": 7,
    "start_time": "2021-12-05T09:20:39.307Z"
   },
   {
    "duration": 7,
    "start_time": "2021-12-05T09:20:40.649Z"
   },
   {
    "duration": 8,
    "start_time": "2021-12-05T09:20:42.113Z"
   },
   {
    "duration": 6,
    "start_time": "2021-12-05T09:20:44.333Z"
   },
   {
    "duration": 20,
    "start_time": "2021-12-05T09:20:45.869Z"
   },
   {
    "duration": 16,
    "start_time": "2021-12-05T09:20:48.745Z"
   },
   {
    "duration": 21,
    "start_time": "2021-12-05T09:20:49.498Z"
   },
   {
    "duration": 11,
    "start_time": "2021-12-05T09:20:51.497Z"
   },
   {
    "duration": 12,
    "start_time": "2021-12-05T09:20:53.193Z"
   },
   {
    "duration": 10,
    "start_time": "2021-12-05T09:20:54.170Z"
   },
   {
    "duration": 4866,
    "start_time": "2021-12-05T09:20:55.951Z"
   },
   {
    "duration": 11,
    "start_time": "2021-12-05T09:21:04.033Z"
   },
   {
    "duration": 14,
    "start_time": "2021-12-05T09:21:14.730Z"
   },
   {
    "duration": 9,
    "start_time": "2021-12-05T09:21:24.765Z"
   },
   {
    "duration": 16,
    "start_time": "2021-12-05T09:26:01.881Z"
   },
   {
    "duration": 1791,
    "start_time": "2021-12-05T09:26:34.020Z"
   },
   {
    "duration": 2475,
    "start_time": "2021-12-05T09:27:09.985Z"
   },
   {
    "duration": 11,
    "start_time": "2021-12-05T09:27:21.934Z"
   },
   {
    "duration": 10,
    "start_time": "2021-12-05T09:27:28.340Z"
   },
   {
    "duration": 9,
    "start_time": "2021-12-05T09:27:33.743Z"
   },
   {
    "duration": 787,
    "start_time": "2021-12-05T09:27:50.645Z"
   },
   {
    "duration": 67,
    "start_time": "2021-12-05T09:27:52.033Z"
   },
   {
    "duration": 27,
    "start_time": "2021-12-05T09:27:52.859Z"
   },
   {
    "duration": 15,
    "start_time": "2021-12-05T09:27:54.824Z"
   },
   {
    "duration": 14,
    "start_time": "2021-12-05T09:27:57.636Z"
   },
   {
    "duration": 6,
    "start_time": "2021-12-05T09:27:59.152Z"
   },
   {
    "duration": 6,
    "start_time": "2021-12-05T09:28:00.776Z"
   },
   {
    "duration": 13,
    "start_time": "2021-12-05T09:28:01.444Z"
   },
   {
    "duration": 7,
    "start_time": "2021-12-05T09:28:02.923Z"
   },
   {
    "duration": 5,
    "start_time": "2021-12-05T09:28:03.878Z"
   },
   {
    "duration": 8,
    "start_time": "2021-12-05T09:28:05.161Z"
   },
   {
    "duration": 7,
    "start_time": "2021-12-05T09:28:06.634Z"
   },
   {
    "duration": 7,
    "start_time": "2021-12-05T09:28:07.618Z"
   },
   {
    "duration": 6,
    "start_time": "2021-12-05T09:28:09.880Z"
   },
   {
    "duration": 18,
    "start_time": "2021-12-05T09:28:11.167Z"
   },
   {
    "duration": 16,
    "start_time": "2021-12-05T09:28:13.375Z"
   },
   {
    "duration": 23,
    "start_time": "2021-12-05T09:28:13.965Z"
   },
   {
    "duration": 10,
    "start_time": "2021-12-05T09:28:15.619Z"
   },
   {
    "duration": 11,
    "start_time": "2021-12-05T09:28:17.506Z"
   },
   {
    "duration": 11,
    "start_time": "2021-12-05T09:28:18.877Z"
   },
   {
    "duration": 4668,
    "start_time": "2021-12-05T09:28:21.049Z"
   },
   {
    "duration": 10,
    "start_time": "2021-12-05T09:28:28.480Z"
   },
   {
    "duration": 14,
    "start_time": "2021-12-05T09:28:33.162Z"
   },
   {
    "duration": 10,
    "start_time": "2021-12-05T09:28:36.067Z"
   },
   {
    "duration": 11,
    "start_time": "2021-12-05T09:28:45.555Z"
   },
   {
    "duration": 9,
    "start_time": "2021-12-05T09:28:47.467Z"
   },
   {
    "duration": 1801,
    "start_time": "2021-12-05T09:30:03.459Z"
   },
   {
    "duration": 10,
    "start_time": "2021-12-05T09:30:07.323Z"
   },
   {
    "duration": 716,
    "start_time": "2021-12-05T09:30:52.004Z"
   },
   {
    "duration": 67,
    "start_time": "2021-12-05T09:30:53.297Z"
   },
   {
    "duration": 28,
    "start_time": "2021-12-05T09:30:54.144Z"
   },
   {
    "duration": 16,
    "start_time": "2021-12-05T09:30:55.847Z"
   },
   {
    "duration": 14,
    "start_time": "2021-12-05T09:30:58.636Z"
   },
   {
    "duration": 7,
    "start_time": "2021-12-05T09:30:59.800Z"
   },
   {
    "duration": 6,
    "start_time": "2021-12-05T09:31:01.048Z"
   },
   {
    "duration": 13,
    "start_time": "2021-12-05T09:31:01.666Z"
   },
   {
    "duration": 6,
    "start_time": "2021-12-05T09:31:03.217Z"
   },
   {
    "duration": 7,
    "start_time": "2021-12-05T09:31:04.109Z"
   },
   {
    "duration": 7,
    "start_time": "2021-12-05T09:31:05.044Z"
   },
   {
    "duration": 6,
    "start_time": "2021-12-05T09:31:06.451Z"
   },
   {
    "duration": 9,
    "start_time": "2021-12-05T09:31:07.434Z"
   },
   {
    "duration": 5,
    "start_time": "2021-12-05T09:31:09.704Z"
   },
   {
    "duration": 19,
    "start_time": "2021-12-05T09:31:10.407Z"
   },
   {
    "duration": 15,
    "start_time": "2021-12-05T09:31:12.610Z"
   },
   {
    "duration": 20,
    "start_time": "2021-12-05T09:31:13.322Z"
   },
   {
    "duration": 10,
    "start_time": "2021-12-05T09:31:14.888Z"
   },
   {
    "duration": 11,
    "start_time": "2021-12-05T09:31:16.638Z"
   },
   {
    "duration": 9,
    "start_time": "2021-12-05T09:31:18.024Z"
   },
   {
    "duration": 4760,
    "start_time": "2021-12-05T09:31:19.933Z"
   },
   {
    "duration": 12,
    "start_time": "2021-12-05T09:31:26.898Z"
   },
   {
    "duration": 14,
    "start_time": "2021-12-05T09:31:28.243Z"
   },
   {
    "duration": 10,
    "start_time": "2021-12-05T09:31:30.342Z"
   },
   {
    "duration": 14,
    "start_time": "2021-12-05T09:31:32.899Z"
   },
   {
    "duration": 10,
    "start_time": "2021-12-05T09:31:37.160Z"
   },
   {
    "duration": 4719,
    "start_time": "2021-12-05T09:32:28.669Z"
   },
   {
    "duration": 10,
    "start_time": "2021-12-05T09:32:35.402Z"
   },
   {
    "duration": 796,
    "start_time": "2021-12-05T09:32:49.223Z"
   },
   {
    "duration": 78,
    "start_time": "2021-12-05T09:32:50.025Z"
   },
   {
    "duration": 29,
    "start_time": "2021-12-05T09:32:50.687Z"
   },
   {
    "duration": 15,
    "start_time": "2021-12-05T09:32:52.629Z"
   },
   {
    "duration": 13,
    "start_time": "2021-12-05T09:32:54.916Z"
   },
   {
    "duration": 7,
    "start_time": "2021-12-05T09:32:56.121Z"
   },
   {
    "duration": 6,
    "start_time": "2021-12-05T09:32:57.402Z"
   },
   {
    "duration": 13,
    "start_time": "2021-12-05T09:32:57.976Z"
   },
   {
    "duration": 7,
    "start_time": "2021-12-05T09:32:59.348Z"
   },
   {
    "duration": 6,
    "start_time": "2021-12-05T09:33:00.346Z"
   },
   {
    "duration": 9,
    "start_time": "2021-12-05T09:33:01.097Z"
   },
   {
    "duration": 8,
    "start_time": "2021-12-05T09:33:02.469Z"
   },
   {
    "duration": 9,
    "start_time": "2021-12-05T09:33:03.252Z"
   },
   {
    "duration": 5,
    "start_time": "2021-12-05T09:33:05.521Z"
   },
   {
    "duration": 20,
    "start_time": "2021-12-05T09:33:06.072Z"
   },
   {
    "duration": 17,
    "start_time": "2021-12-05T09:33:08.473Z"
   },
   {
    "duration": 22,
    "start_time": "2021-12-05T09:33:09.811Z"
   },
   {
    "duration": 10,
    "start_time": "2021-12-05T09:33:11.604Z"
   },
   {
    "duration": 11,
    "start_time": "2021-12-05T09:33:13.517Z"
   },
   {
    "duration": 9,
    "start_time": "2021-12-05T09:33:14.919Z"
   },
   {
    "duration": 5103,
    "start_time": "2021-12-05T09:33:16.571Z"
   },
   {
    "duration": 10,
    "start_time": "2021-12-05T09:33:23.980Z"
   },
   {
    "duration": 14,
    "start_time": "2021-12-05T09:33:25.598Z"
   },
   {
    "duration": 10,
    "start_time": "2021-12-05T09:33:26.877Z"
   },
   {
    "duration": 14,
    "start_time": "2021-12-05T09:33:30.453Z"
   },
   {
    "duration": 14,
    "start_time": "2021-12-05T09:33:30.470Z"
   },
   {
    "duration": 22,
    "start_time": "2021-12-05T09:55:45.064Z"
   },
   {
    "duration": 20,
    "start_time": "2021-12-05T10:02:10.098Z"
   },
   {
    "duration": 19,
    "start_time": "2021-12-05T10:06:55.445Z"
   },
   {
    "duration": 10323,
    "start_time": "2021-12-05T10:14:21.399Z"
   },
   {
    "duration": 12112,
    "start_time": "2021-12-05T10:15:19.244Z"
   },
   {
    "duration": 810,
    "start_time": "2021-12-05T10:15:45.231Z"
   },
   {
    "duration": 65,
    "start_time": "2021-12-05T10:15:46.778Z"
   },
   {
    "duration": 30,
    "start_time": "2021-12-05T10:15:47.409Z"
   },
   {
    "duration": 14,
    "start_time": "2021-12-05T10:15:49.268Z"
   },
   {
    "duration": 13,
    "start_time": "2021-12-05T10:15:51.385Z"
   },
   {
    "duration": 6,
    "start_time": "2021-12-05T10:15:52.606Z"
   },
   {
    "duration": 6,
    "start_time": "2021-12-05T10:15:53.760Z"
   },
   {
    "duration": 13,
    "start_time": "2021-12-05T10:15:54.544Z"
   },
   {
    "duration": 6,
    "start_time": "2021-12-05T10:15:55.915Z"
   },
   {
    "duration": 6,
    "start_time": "2021-12-05T10:15:56.831Z"
   },
   {
    "duration": 8,
    "start_time": "2021-12-05T10:15:58.341Z"
   },
   {
    "duration": 7,
    "start_time": "2021-12-05T10:15:59.751Z"
   },
   {
    "duration": 7,
    "start_time": "2021-12-05T10:16:00.441Z"
   },
   {
    "duration": 6,
    "start_time": "2021-12-05T10:16:02.587Z"
   },
   {
    "duration": 19,
    "start_time": "2021-12-05T10:16:03.161Z"
   },
   {
    "duration": 16,
    "start_time": "2021-12-05T10:16:05.564Z"
   },
   {
    "duration": 19,
    "start_time": "2021-12-05T10:16:06.563Z"
   },
   {
    "duration": 10,
    "start_time": "2021-12-05T10:16:08.131Z"
   },
   {
    "duration": 13,
    "start_time": "2021-12-05T10:16:10.167Z"
   },
   {
    "duration": 10,
    "start_time": "2021-12-05T10:16:10.845Z"
   },
   {
    "duration": 4941,
    "start_time": "2021-12-05T10:16:12.484Z"
   },
   {
    "duration": 11,
    "start_time": "2021-12-05T10:16:17.429Z"
   },
   {
    "duration": 14,
    "start_time": "2021-12-05T10:16:19.179Z"
   },
   {
    "duration": 11,
    "start_time": "2021-12-05T10:16:20.481Z"
   },
   {
    "duration": 12,
    "start_time": "2021-12-05T10:16:21.597Z"
   },
   {
    "duration": 10,
    "start_time": "2021-12-05T10:16:22.844Z"
   },
   {
    "duration": 21,
    "start_time": "2021-12-05T10:16:23.797Z"
   },
   {
    "duration": 9275,
    "start_time": "2021-12-05T10:16:25.124Z"
   },
   {
    "duration": 704,
    "start_time": "2021-12-05T10:16:33.698Z"
   },
   {
    "duration": 9481,
    "start_time": "2021-12-05T10:16:37.371Z"
   },
   {
    "duration": 22,
    "start_time": "2021-12-05T10:18:46.210Z"
   },
   {
    "duration": 14,
    "start_time": "2021-12-05T10:18:47.865Z"
   },
   {
    "duration": 20,
    "start_time": "2021-12-05T10:19:05.616Z"
   },
   {
    "duration": 14,
    "start_time": "2021-12-05T10:19:06.593Z"
   },
   {
    "duration": 3643,
    "start_time": "2021-12-05T10:25:54.666Z"
   },
   {
    "duration": 9,
    "start_time": "2021-12-05T10:26:00.551Z"
   },
   {
    "duration": 15,
    "start_time": "2021-12-05T10:26:19.726Z"
   },
   {
    "duration": 10,
    "start_time": "2021-12-05T10:26:23.207Z"
   },
   {
    "duration": 20,
    "start_time": "2021-12-05T10:30:26.836Z"
   },
   {
    "duration": 130,
    "start_time": "2021-12-05T11:33:30.891Z"
   },
   {
    "duration": 1697,
    "start_time": "2021-12-05T11:33:36.676Z"
   },
   {
    "duration": 17,
    "start_time": "2021-12-05T11:33:55.794Z"
   },
   {
    "duration": 388,
    "start_time": "2021-12-05T11:41:54.489Z"
   },
   {
    "duration": 376,
    "start_time": "2021-12-05T11:42:53.867Z"
   },
   {
    "duration": 778,
    "start_time": "2021-12-05T13:14:34.151Z"
   },
   {
    "duration": 66,
    "start_time": "2021-12-05T13:14:36.073Z"
   },
   {
    "duration": 30,
    "start_time": "2021-12-05T13:14:36.733Z"
   },
   {
    "duration": 17,
    "start_time": "2021-12-05T13:14:38.627Z"
   },
   {
    "duration": 12,
    "start_time": "2021-12-05T13:14:41.097Z"
   },
   {
    "duration": 6,
    "start_time": "2021-12-05T13:14:42.201Z"
   },
   {
    "duration": 6,
    "start_time": "2021-12-05T13:14:42.907Z"
   },
   {
    "duration": 12,
    "start_time": "2021-12-05T13:14:44.213Z"
   },
   {
    "duration": 6,
    "start_time": "2021-12-05T13:14:45.455Z"
   },
   {
    "duration": 7,
    "start_time": "2021-12-05T13:14:46.427Z"
   },
   {
    "duration": 9,
    "start_time": "2021-12-05T13:14:47.979Z"
   },
   {
    "duration": 8,
    "start_time": "2021-12-05T13:14:50.360Z"
   },
   {
    "duration": 8,
    "start_time": "2021-12-05T13:14:51.142Z"
   },
   {
    "duration": 5,
    "start_time": "2021-12-05T13:14:53.905Z"
   },
   {
    "duration": 20,
    "start_time": "2021-12-05T13:14:54.511Z"
   },
   {
    "duration": 17,
    "start_time": "2021-12-05T13:14:56.997Z"
   },
   {
    "duration": 20,
    "start_time": "2021-12-05T13:14:57.630Z"
   },
   {
    "duration": 11,
    "start_time": "2021-12-05T13:14:59.310Z"
   },
   {
    "duration": 12,
    "start_time": "2021-12-05T13:15:00.996Z"
   },
   {
    "duration": 12,
    "start_time": "2021-12-05T13:15:02.426Z"
   },
   {
    "duration": 6027,
    "start_time": "2021-12-05T13:15:05.063Z"
   },
   {
    "duration": 11,
    "start_time": "2021-12-05T13:15:13.519Z"
   },
   {
    "duration": 14,
    "start_time": "2021-12-05T13:15:15.679Z"
   },
   {
    "duration": 10,
    "start_time": "2021-12-05T13:15:18.537Z"
   },
   {
    "duration": 13,
    "start_time": "2021-12-05T13:15:20.377Z"
   },
   {
    "duration": 9,
    "start_time": "2021-12-05T13:15:22.143Z"
   },
   {
    "duration": 28,
    "start_time": "2021-12-05T13:15:24.006Z"
   },
   {
    "duration": 18,
    "start_time": "2021-12-05T13:15:25.466Z"
   },
   {
    "duration": 10,
    "start_time": "2021-12-05T13:15:27.424Z"
   },
   {
    "duration": 18,
    "start_time": "2021-12-05T13:15:30.093Z"
   },
   {
    "duration": 26,
    "start_time": "2021-12-05T13:15:31.306Z"
   },
   {
    "duration": 494,
    "start_time": "2021-12-05T13:15:33.629Z"
   },
   {
    "duration": 47,
    "start_time": "2021-12-05T13:16:07.908Z"
   },
   {
    "duration": 276,
    "start_time": "2021-12-05T13:21:44.332Z"
   },
   {
    "duration": 31,
    "start_time": "2021-12-05T13:21:50.002Z"
   },
   {
    "duration": 9261,
    "start_time": "2021-12-05T13:24:55.921Z"
   },
   {
    "duration": 10217,
    "start_time": "2021-12-05T13:26:30.816Z"
   },
   {
    "duration": 7609,
    "start_time": "2021-12-05T14:20:15.357Z"
   },
   {
    "duration": 7835,
    "start_time": "2021-12-05T14:25:14.142Z"
   },
   {
    "duration": 758,
    "start_time": "2021-12-05T14:25:36.952Z"
   },
   {
    "duration": 90,
    "start_time": "2021-12-05T14:25:38.298Z"
   },
   {
    "duration": 45,
    "start_time": "2021-12-05T14:25:39.241Z"
   },
   {
    "duration": 22,
    "start_time": "2021-12-05T14:25:41.194Z"
   },
   {
    "duration": 13,
    "start_time": "2021-12-05T14:25:43.584Z"
   },
   {
    "duration": 6,
    "start_time": "2021-12-05T14:25:44.819Z"
   },
   {
    "duration": 6,
    "start_time": "2021-12-05T14:25:45.402Z"
   },
   {
    "duration": 13,
    "start_time": "2021-12-05T14:25:46.040Z"
   },
   {
    "duration": 6,
    "start_time": "2021-12-05T14:25:47.237Z"
   },
   {
    "duration": 6,
    "start_time": "2021-12-05T14:25:48.613Z"
   },
   {
    "duration": 9,
    "start_time": "2021-12-05T14:25:49.450Z"
   },
   {
    "duration": 7,
    "start_time": "2021-12-05T14:25:50.961Z"
   },
   {
    "duration": 8,
    "start_time": "2021-12-05T14:25:51.823Z"
   },
   {
    "duration": 5,
    "start_time": "2021-12-05T14:25:54.067Z"
   },
   {
    "duration": 18,
    "start_time": "2021-12-05T14:25:54.901Z"
   },
   {
    "duration": 17,
    "start_time": "2021-12-05T14:25:57.155Z"
   },
   {
    "duration": 19,
    "start_time": "2021-12-05T14:25:58.085Z"
   },
   {
    "duration": 11,
    "start_time": "2021-12-05T14:25:59.667Z"
   },
   {
    "duration": 11,
    "start_time": "2021-12-05T14:26:01.655Z"
   },
   {
    "duration": 10,
    "start_time": "2021-12-05T14:26:02.903Z"
   },
   {
    "duration": 4895,
    "start_time": "2021-12-05T14:26:04.627Z"
   },
   {
    "duration": 14,
    "start_time": "2021-12-05T14:26:12.280Z"
   },
   {
    "duration": 15,
    "start_time": "2021-12-05T14:26:15.838Z"
   },
   {
    "duration": 10,
    "start_time": "2021-12-05T14:26:16.912Z"
   },
   {
    "duration": 16,
    "start_time": "2021-12-05T14:26:18.004Z"
   },
   {
    "duration": 10,
    "start_time": "2021-12-05T14:26:19.167Z"
   },
   {
    "duration": 20,
    "start_time": "2021-12-05T14:26:20.237Z"
   },
   {
    "duration": 14,
    "start_time": "2021-12-05T14:26:21.130Z"
   },
   {
    "duration": 10,
    "start_time": "2021-12-05T14:26:22.332Z"
   },
   {
    "duration": 26,
    "start_time": "2021-12-05T14:26:23.308Z"
   },
   {
    "duration": 25,
    "start_time": "2021-12-05T14:26:24.647Z"
   },
   {
    "duration": 58,
    "start_time": "2021-12-05T14:26:27.012Z"
   },
   {
    "duration": 7133,
    "start_time": "2021-12-05T14:26:29.502Z"
   },
   {
    "duration": 4763,
    "start_time": "2021-12-05T14:27:36.917Z"
   },
   {
    "duration": 21,
    "start_time": "2021-12-05T14:29:28.167Z"
   },
   {
    "duration": 24,
    "start_time": "2021-12-05T14:31:23.139Z"
   },
   {
    "duration": 22,
    "start_time": "2021-12-05T14:31:50.750Z"
   },
   {
    "duration": 21,
    "start_time": "2021-12-05T14:44:32.967Z"
   },
   {
    "duration": 309,
    "start_time": "2021-12-05T14:44:56.343Z"
   },
   {
    "duration": 1606,
    "start_time": "2021-12-05T14:45:18.050Z"
   },
   {
    "duration": 282,
    "start_time": "2021-12-05T14:45:26.079Z"
   },
   {
    "duration": 12,
    "start_time": "2021-12-05T14:45:52.751Z"
   },
   {
    "duration": 30,
    "start_time": "2021-12-05T14:46:13.587Z"
   },
   {
    "duration": 9,
    "start_time": "2021-12-05T14:46:21.496Z"
   },
   {
    "duration": 304,
    "start_time": "2021-12-05T14:46:34.670Z"
   },
   {
    "duration": 299,
    "start_time": "2021-12-05T14:46:41.851Z"
   },
   {
    "duration": 280,
    "start_time": "2021-12-05T14:46:50.545Z"
   },
   {
    "duration": 110,
    "start_time": "2021-12-05T16:07:17.469Z"
   },
   {
    "duration": 28,
    "start_time": "2021-12-05T16:07:34.739Z"
   },
   {
    "duration": 56,
    "start_time": "2021-12-05T16:10:16.023Z"
   },
   {
    "duration": 278,
    "start_time": "2021-12-05T16:10:37.538Z"
   },
   {
    "duration": 29,
    "start_time": "2021-12-05T16:10:49.296Z"
   },
   {
    "duration": 19,
    "start_time": "2021-12-05T16:11:44.883Z"
   },
   {
    "duration": 314,
    "start_time": "2021-12-05T16:13:49.116Z"
   },
   {
    "duration": 301,
    "start_time": "2021-12-05T16:17:07.156Z"
   },
   {
    "duration": 317,
    "start_time": "2021-12-05T16:18:02.134Z"
   },
   {
    "duration": 734,
    "start_time": "2021-12-05T16:18:15.797Z"
   },
   {
    "duration": 65,
    "start_time": "2021-12-05T16:18:17.015Z"
   },
   {
    "duration": 44,
    "start_time": "2021-12-05T16:18:17.635Z"
   },
   {
    "duration": 22,
    "start_time": "2021-12-05T16:18:19.268Z"
   },
   {
    "duration": 15,
    "start_time": "2021-12-05T16:18:21.679Z"
   },
   {
    "duration": 6,
    "start_time": "2021-12-05T16:18:22.843Z"
   },
   {
    "duration": 8,
    "start_time": "2021-12-05T16:18:23.805Z"
   },
   {
    "duration": 18,
    "start_time": "2021-12-05T16:18:24.930Z"
   },
   {
    "duration": 7,
    "start_time": "2021-12-05T16:18:26.403Z"
   },
   {
    "duration": 6,
    "start_time": "2021-12-05T16:18:27.584Z"
   },
   {
    "duration": 8,
    "start_time": "2021-12-05T16:18:28.443Z"
   },
   {
    "duration": 7,
    "start_time": "2021-12-05T16:18:29.859Z"
   },
   {
    "duration": 10,
    "start_time": "2021-12-05T16:18:30.631Z"
   },
   {
    "duration": 5,
    "start_time": "2021-12-05T16:18:32.773Z"
   },
   {
    "duration": 22,
    "start_time": "2021-12-05T16:18:33.402Z"
   },
   {
    "duration": 18,
    "start_time": "2021-12-05T16:18:36.272Z"
   },
   {
    "duration": 30,
    "start_time": "2021-12-05T16:18:36.784Z"
   },
   {
    "duration": 14,
    "start_time": "2021-12-05T16:18:38.211Z"
   },
   {
    "duration": 12,
    "start_time": "2021-12-05T16:18:40.362Z"
   },
   {
    "duration": 10,
    "start_time": "2021-12-05T16:18:41.376Z"
   },
   {
    "duration": 5604,
    "start_time": "2021-12-05T16:18:43.502Z"
   },
   {
    "duration": 14,
    "start_time": "2021-12-05T16:18:51.702Z"
   },
   {
    "duration": 14,
    "start_time": "2021-12-05T16:18:53.184Z"
   },
   {
    "duration": 10,
    "start_time": "2021-12-05T16:18:54.323Z"
   },
   {
    "duration": 13,
    "start_time": "2021-12-05T16:18:55.503Z"
   },
   {
    "duration": 12,
    "start_time": "2021-12-05T16:18:56.768Z"
   },
   {
    "duration": 27,
    "start_time": "2021-12-05T16:18:58.057Z"
   },
   {
    "duration": 16,
    "start_time": "2021-12-05T16:18:59.299Z"
   },
   {
    "duration": 13,
    "start_time": "2021-12-05T16:19:00.694Z"
   },
   {
    "duration": 29,
    "start_time": "2021-12-05T16:19:02.383Z"
   },
   {
    "duration": 19,
    "start_time": "2021-12-05T16:19:03.658Z"
   },
   {
    "duration": 25,
    "start_time": "2021-12-05T16:19:07.695Z"
   },
   {
    "duration": 43,
    "start_time": "2021-12-05T16:19:10.222Z"
   },
   {
    "duration": 24,
    "start_time": "2021-12-05T16:19:15.783Z"
   },
   {
    "duration": 30,
    "start_time": "2021-12-05T16:19:21.748Z"
   },
   {
    "duration": 29,
    "start_time": "2021-12-05T16:19:30.819Z"
   },
   {
    "duration": 956,
    "start_time": "2021-12-05T16:19:36.571Z"
   },
   {
    "duration": 443,
    "start_time": "2021-12-05T16:23:44.195Z"
   },
   {
    "duration": 315,
    "start_time": "2021-12-05T16:30:21.245Z"
   },
   {
    "duration": 812,
    "start_time": "2021-12-05T16:30:43.443Z"
   },
   {
    "duration": 80,
    "start_time": "2021-12-05T16:30:44.257Z"
   },
   {
    "duration": 30,
    "start_time": "2021-12-05T16:30:45.051Z"
   },
   {
    "duration": 23,
    "start_time": "2021-12-05T16:30:46.910Z"
   },
   {
    "duration": 12,
    "start_time": "2021-12-05T16:30:49.090Z"
   },
   {
    "duration": 6,
    "start_time": "2021-12-05T16:30:50.355Z"
   },
   {
    "duration": 6,
    "start_time": "2021-12-05T16:30:50.957Z"
   },
   {
    "duration": 19,
    "start_time": "2021-12-05T16:30:52.378Z"
   },
   {
    "duration": 7,
    "start_time": "2021-12-05T16:30:53.541Z"
   },
   {
    "duration": 7,
    "start_time": "2021-12-05T16:30:54.186Z"
   },
   {
    "duration": 10,
    "start_time": "2021-12-05T16:30:55.401Z"
   },
   {
    "duration": 8,
    "start_time": "2021-12-05T16:30:56.309Z"
   },
   {
    "duration": 7,
    "start_time": "2021-12-05T16:30:57.574Z"
   },
   {
    "duration": 7,
    "start_time": "2021-12-05T16:30:59.668Z"
   },
   {
    "duration": 20,
    "start_time": "2021-12-05T16:31:00.258Z"
   },
   {
    "duration": 30,
    "start_time": "2021-12-05T16:31:02.764Z"
   },
   {
    "duration": 25,
    "start_time": "2021-12-05T16:31:03.494Z"
   },
   {
    "duration": 12,
    "start_time": "2021-12-05T16:31:05.113Z"
   },
   {
    "duration": 12,
    "start_time": "2021-12-05T16:31:07.159Z"
   },
   {
    "duration": 13,
    "start_time": "2021-12-05T16:31:07.980Z"
   },
   {
    "duration": 5423,
    "start_time": "2021-12-05T16:31:11.005Z"
   },
   {
    "duration": 15,
    "start_time": "2021-12-05T16:31:18.905Z"
   },
   {
    "duration": 15,
    "start_time": "2021-12-05T16:31:20.362Z"
   },
   {
    "duration": 11,
    "start_time": "2021-12-05T16:31:21.585Z"
   },
   {
    "duration": 21,
    "start_time": "2021-12-05T16:31:23.035Z"
   },
   {
    "duration": 10,
    "start_time": "2021-12-05T16:31:24.349Z"
   },
   {
    "duration": 32,
    "start_time": "2021-12-05T16:31:25.472Z"
   },
   {
    "duration": 22,
    "start_time": "2021-12-05T16:31:26.613Z"
   },
   {
    "duration": 10,
    "start_time": "2021-12-05T16:31:34.253Z"
   },
   {
    "duration": 18,
    "start_time": "2021-12-05T16:31:36.467Z"
   },
   {
    "duration": 23,
    "start_time": "2021-12-05T16:31:39.605Z"
   },
   {
    "duration": 18,
    "start_time": "2021-12-05T16:31:41.137Z"
   },
   {
    "duration": 41,
    "start_time": "2021-12-05T16:31:44.086Z"
   },
   {
    "duration": 25,
    "start_time": "2021-12-05T16:31:45.382Z"
   },
   {
    "duration": 42,
    "start_time": "2021-12-05T16:31:48.578Z"
   },
   {
    "duration": 25,
    "start_time": "2021-12-05T16:31:49.911Z"
   },
   {
    "duration": 439,
    "start_time": "2021-12-05T16:31:52.534Z"
   },
   {
    "duration": 30,
    "start_time": "2021-12-05T16:32:25.241Z"
   },
   {
    "duration": 13687,
    "start_time": "2021-12-05T16:33:13.221Z"
   },
   {
    "duration": 24,
    "start_time": "2021-12-05T16:33:47.165Z"
   },
   {
    "duration": 15,
    "start_time": "2021-12-05T17:26:10.145Z"
   },
   {
    "duration": 32,
    "start_time": "2021-12-05T17:37:59.169Z"
   },
   {
    "duration": 40,
    "start_time": "2021-12-05T17:39:12.710Z"
   },
   {
    "duration": 30,
    "start_time": "2021-12-05T17:39:38.995Z"
   },
   {
    "duration": 16,
    "start_time": "2021-12-05T17:39:41.763Z"
   },
   {
    "duration": 56,
    "start_time": "2021-12-06T13:33:39.463Z"
   },
   {
    "duration": 213,
    "start_time": "2021-12-06T13:38:39.946Z"
   },
   {
    "duration": 615,
    "start_time": "2021-12-06T13:38:43.019Z"
   },
   {
    "duration": 52,
    "start_time": "2021-12-06T13:38:43.635Z"
   },
   {
    "duration": 20,
    "start_time": "2021-12-06T13:38:43.689Z"
   },
   {
    "duration": 11,
    "start_time": "2021-12-06T13:38:43.711Z"
   },
   {
    "duration": 9,
    "start_time": "2021-12-06T13:38:43.723Z"
   },
   {
    "duration": 5,
    "start_time": "2021-12-06T13:38:43.734Z"
   },
   {
    "duration": 5,
    "start_time": "2021-12-06T13:38:43.740Z"
   },
   {
    "duration": 10,
    "start_time": "2021-12-06T13:38:43.747Z"
   },
   {
    "duration": 33,
    "start_time": "2021-12-06T13:38:43.759Z"
   },
   {
    "duration": 5,
    "start_time": "2021-12-06T13:38:43.794Z"
   },
   {
    "duration": 7,
    "start_time": "2021-12-06T13:38:43.800Z"
   },
   {
    "duration": 5,
    "start_time": "2021-12-06T13:38:43.809Z"
   },
   {
    "duration": 6,
    "start_time": "2021-12-06T13:38:43.815Z"
   },
   {
    "duration": 4,
    "start_time": "2021-12-06T13:38:43.822Z"
   },
   {
    "duration": 13,
    "start_time": "2021-12-06T13:38:43.828Z"
   },
   {
    "duration": 54,
    "start_time": "2021-12-06T13:38:43.843Z"
   },
   {
    "duration": 14,
    "start_time": "2021-12-06T13:38:43.899Z"
   },
   {
    "duration": 9,
    "start_time": "2021-12-06T13:38:43.915Z"
   },
   {
    "duration": 10,
    "start_time": "2021-12-06T13:38:43.926Z"
   },
   {
    "duration": 10,
    "start_time": "2021-12-06T13:38:43.938Z"
   },
   {
    "duration": 3353,
    "start_time": "2021-12-06T13:38:43.949Z"
   },
   {
    "duration": 7,
    "start_time": "2021-12-06T13:38:47.304Z"
   },
   {
    "duration": 9,
    "start_time": "2021-12-06T13:38:47.315Z"
   },
   {
    "duration": 14,
    "start_time": "2021-12-06T13:38:47.326Z"
   },
   {
    "duration": 10,
    "start_time": "2021-12-06T13:38:47.341Z"
   },
   {
    "duration": 8,
    "start_time": "2021-12-06T13:38:47.353Z"
   },
   {
    "duration": 37,
    "start_time": "2021-12-06T13:38:47.363Z"
   },
   {
    "duration": 9,
    "start_time": "2021-12-06T13:38:47.402Z"
   },
   {
    "duration": 17,
    "start_time": "2021-12-06T13:38:47.412Z"
   },
   {
    "duration": 14,
    "start_time": "2021-12-06T13:38:47.431Z"
   },
   {
    "duration": 11,
    "start_time": "2021-12-06T13:38:47.446Z"
   },
   {
    "duration": 11,
    "start_time": "2021-12-06T13:38:47.458Z"
   },
   {
    "duration": 29,
    "start_time": "2021-12-06T13:38:47.491Z"
   },
   {
    "duration": 12,
    "start_time": "2021-12-06T13:38:47.521Z"
   },
   {
    "duration": 6,
    "start_time": "2021-12-06T13:38:47.535Z"
   },
   {
    "duration": 21,
    "start_time": "2021-12-06T13:38:47.542Z"
   },
   {
    "duration": 36,
    "start_time": "2021-12-06T13:38:47.565Z"
   },
   {
    "duration": 18,
    "start_time": "2021-12-06T13:38:47.603Z"
   },
   {
    "duration": 10,
    "start_time": "2021-12-06T13:38:47.623Z"
   },
   {
    "duration": 17,
    "start_time": "2021-12-06T13:38:47.634Z"
   },
   {
    "duration": 43,
    "start_time": "2021-12-06T13:38:47.653Z"
   },
   {
    "duration": 10,
    "start_time": "2021-12-06T13:38:47.697Z"
   },
   {
    "duration": 63,
    "start_time": "2021-12-06T13:40:23.431Z"
   },
   {
    "duration": 534,
    "start_time": "2021-12-06T13:42:53.338Z"
   },
   {
    "duration": 27,
    "start_time": "2021-12-06T13:43:10.886Z"
   },
   {
    "duration": 23,
    "start_time": "2021-12-06T13:43:46.449Z"
   },
   {
    "duration": 32,
    "start_time": "2021-12-06T13:44:13.443Z"
   },
   {
    "duration": 796,
    "start_time": "2021-12-11T07:28:25.188Z"
   },
   {
    "duration": 63,
    "start_time": "2021-12-11T07:28:26.549Z"
   },
   {
    "duration": 31,
    "start_time": "2021-12-11T07:28:27.304Z"
   },
   {
    "duration": 16,
    "start_time": "2021-12-11T07:28:29.243Z"
   },
   {
    "duration": 14,
    "start_time": "2021-12-11T07:28:32.465Z"
   },
   {
    "duration": 7,
    "start_time": "2021-12-11T07:28:33.614Z"
   },
   {
    "duration": 6,
    "start_time": "2021-12-11T07:29:32.515Z"
   },
   {
    "duration": 15,
    "start_time": "2021-12-11T07:29:33.879Z"
   },
   {
    "duration": 6,
    "start_time": "2021-12-11T07:29:35.767Z"
   },
   {
    "duration": 6,
    "start_time": "2021-12-11T07:29:36.682Z"
   },
   {
    "duration": 10,
    "start_time": "2021-12-11T07:29:37.552Z"
   },
   {
    "duration": 8,
    "start_time": "2021-12-11T07:29:39.024Z"
   },
   {
    "duration": 9,
    "start_time": "2021-12-11T07:29:39.847Z"
   },
   {
    "duration": 5,
    "start_time": "2021-12-11T07:29:42.355Z"
   },
   {
    "duration": 20,
    "start_time": "2021-12-11T07:29:43.168Z"
   },
   {
    "duration": 23,
    "start_time": "2021-12-11T07:29:45.827Z"
   },
   {
    "duration": 19,
    "start_time": "2021-12-11T07:29:46.488Z"
   },
   {
    "duration": 11,
    "start_time": "2021-12-11T07:29:48.334Z"
   },
   {
    "duration": 12,
    "start_time": "2021-12-11T07:29:50.341Z"
   },
   {
    "duration": 14,
    "start_time": "2021-12-11T07:29:52.012Z"
   },
   {
    "duration": 6086,
    "start_time": "2021-12-11T07:30:02.903Z"
   },
   {
    "duration": 10,
    "start_time": "2021-12-11T07:30:15.910Z"
   },
   {
    "duration": 15,
    "start_time": "2021-12-11T07:30:17.144Z"
   },
   {
    "duration": 14,
    "start_time": "2021-12-11T07:33:54.516Z"
   },
   {
    "duration": 10,
    "start_time": "2021-12-11T07:33:56.130Z"
   },
   {
    "duration": 13,
    "start_time": "2021-12-11T07:33:57.752Z"
   },
   {
    "duration": 10,
    "start_time": "2021-12-11T07:33:59.801Z"
   },
   {
    "duration": 19,
    "start_time": "2021-12-11T07:35:20.723Z"
   },
   {
    "duration": 20,
    "start_time": "2021-12-11T07:35:42.335Z"
   },
   {
    "duration": 14,
    "start_time": "2021-12-11T07:36:40.000Z"
   },
   {
    "duration": 10,
    "start_time": "2021-12-11T07:36:41.782Z"
   },
   {
    "duration": 149,
    "start_time": "2021-12-11T07:37:47.239Z"
   },
   {
    "duration": 149,
    "start_time": "2021-12-11T07:38:14.364Z"
   },
   {
    "duration": 1945,
    "start_time": "2021-12-11T07:38:41.879Z"
   },
   {
    "duration": 774,
    "start_time": "2021-12-11T07:38:57.615Z"
   },
   {
    "duration": 67,
    "start_time": "2021-12-11T07:38:58.392Z"
   },
   {
    "duration": 31,
    "start_time": "2021-12-11T07:38:58.936Z"
   },
   {
    "duration": 17,
    "start_time": "2021-12-11T07:39:01.314Z"
   },
   {
    "duration": 12,
    "start_time": "2021-12-11T07:39:04.148Z"
   },
   {
    "duration": 6,
    "start_time": "2021-12-11T07:39:05.450Z"
   },
   {
    "duration": 7,
    "start_time": "2021-12-11T07:39:07.345Z"
   },
   {
    "duration": 18,
    "start_time": "2021-12-11T07:39:07.997Z"
   },
   {
    "duration": 7,
    "start_time": "2021-12-11T07:39:09.695Z"
   },
   {
    "duration": 6,
    "start_time": "2021-12-11T07:39:10.360Z"
   },
   {
    "duration": 7,
    "start_time": "2021-12-11T07:39:11.360Z"
   },
   {
    "duration": 7,
    "start_time": "2021-12-11T07:39:13.167Z"
   },
   {
    "duration": 8,
    "start_time": "2021-12-11T07:39:14.076Z"
   },
   {
    "duration": 5,
    "start_time": "2021-12-11T07:39:16.342Z"
   },
   {
    "duration": 21,
    "start_time": "2021-12-11T07:39:17.731Z"
   },
   {
    "duration": 16,
    "start_time": "2021-12-11T07:39:19.748Z"
   },
   {
    "duration": 20,
    "start_time": "2021-12-11T07:39:21.348Z"
   },
   {
    "duration": 11,
    "start_time": "2021-12-11T07:39:23.202Z"
   },
   {
    "duration": 12,
    "start_time": "2021-12-11T07:39:25.738Z"
   },
   {
    "duration": 9,
    "start_time": "2021-12-11T07:39:26.682Z"
   },
   {
    "duration": 5519,
    "start_time": "2021-12-11T07:39:29.384Z"
   },
   {
    "duration": 10,
    "start_time": "2021-12-11T07:39:38.212Z"
   },
   {
    "duration": 9,
    "start_time": "2021-12-11T07:39:39.469Z"
   },
   {
    "duration": 14,
    "start_time": "2021-12-11T07:39:41.266Z"
   },
   {
    "duration": 10,
    "start_time": "2021-12-11T07:39:43.478Z"
   },
   {
    "duration": 14,
    "start_time": "2021-12-11T07:39:45.405Z"
   },
   {
    "duration": 10,
    "start_time": "2021-12-11T07:39:47.114Z"
   },
   {
    "duration": 18,
    "start_time": "2021-12-11T07:39:48.548Z"
   },
   {
    "duration": 20,
    "start_time": "2021-12-11T07:39:50.592Z"
   },
   {
    "duration": 16,
    "start_time": "2021-12-11T07:39:55.956Z"
   },
   {
    "duration": 11,
    "start_time": "2021-12-11T07:39:58.552Z"
   },
   {
    "duration": 18,
    "start_time": "2021-12-11T07:40:00.656Z"
   },
   {
    "duration": 19,
    "start_time": "2021-12-11T07:40:03.268Z"
   },
   {
    "duration": 2269,
    "start_time": "2021-12-11T07:42:01.270Z"
   },
   {
    "duration": 795,
    "start_time": "2021-12-11T07:42:20.336Z"
   },
   {
    "duration": 66,
    "start_time": "2021-12-11T07:42:21.134Z"
   },
   {
    "duration": 29,
    "start_time": "2021-12-11T07:42:22.087Z"
   },
   {
    "duration": 21,
    "start_time": "2021-12-11T07:42:23.763Z"
   },
   {
    "duration": 13,
    "start_time": "2021-12-11T07:42:27.000Z"
   },
   {
    "duration": 7,
    "start_time": "2021-12-11T07:42:28.460Z"
   },
   {
    "duration": 6,
    "start_time": "2021-12-11T07:42:30.717Z"
   },
   {
    "duration": 12,
    "start_time": "2021-12-11T07:42:31.508Z"
   },
   {
    "duration": 6,
    "start_time": "2021-12-11T07:42:32.809Z"
   },
   {
    "duration": 6,
    "start_time": "2021-12-11T07:42:34.074Z"
   },
   {
    "duration": 10,
    "start_time": "2021-12-11T07:42:35.036Z"
   },
   {
    "duration": 9,
    "start_time": "2021-12-11T07:42:36.758Z"
   },
   {
    "duration": 9,
    "start_time": "2021-12-11T07:42:37.566Z"
   },
   {
    "duration": 5,
    "start_time": "2021-12-11T07:42:40.429Z"
   },
   {
    "duration": 19,
    "start_time": "2021-12-11T07:42:41.111Z"
   },
   {
    "duration": 16,
    "start_time": "2021-12-11T07:42:43.282Z"
   },
   {
    "duration": 19,
    "start_time": "2021-12-11T07:42:43.969Z"
   },
   {
    "duration": 11,
    "start_time": "2021-12-11T07:42:45.895Z"
   },
   {
    "duration": 12,
    "start_time": "2021-12-11T07:42:47.796Z"
   },
   {
    "duration": 10,
    "start_time": "2021-12-11T07:42:49.208Z"
   },
   {
    "duration": 4900,
    "start_time": "2021-12-11T07:42:51.482Z"
   },
   {
    "duration": 11,
    "start_time": "2021-12-11T07:42:59.243Z"
   },
   {
    "duration": 10,
    "start_time": "2021-12-11T07:43:00.485Z"
   },
   {
    "duration": 14,
    "start_time": "2021-12-11T07:43:02.790Z"
   },
   {
    "duration": 10,
    "start_time": "2021-12-11T07:43:13.461Z"
   },
   {
    "duration": 14,
    "start_time": "2021-12-11T07:43:21.431Z"
   },
   {
    "duration": 10,
    "start_time": "2021-12-11T07:43:22.405Z"
   },
   {
    "duration": 18,
    "start_time": "2021-12-11T07:43:23.536Z"
   },
   {
    "duration": 21,
    "start_time": "2021-12-11T07:43:25.609Z"
   },
   {
    "duration": 22,
    "start_time": "2021-12-11T07:43:29.999Z"
   },
   {
    "duration": 13,
    "start_time": "2021-12-11T07:43:32.040Z"
   },
   {
    "duration": 20,
    "start_time": "2021-12-11T07:43:35.706Z"
   },
   {
    "duration": 1882,
    "start_time": "2021-12-11T07:44:02.425Z"
   },
   {
    "duration": 889,
    "start_time": "2021-12-11T07:44:36.525Z"
   },
   {
    "duration": 66,
    "start_time": "2021-12-11T07:44:37.416Z"
   },
   {
    "duration": 31,
    "start_time": "2021-12-11T07:44:37.819Z"
   },
   {
    "duration": 15,
    "start_time": "2021-12-11T07:44:39.495Z"
   },
   {
    "duration": 12,
    "start_time": "2021-12-11T07:44:42.162Z"
   },
   {
    "duration": 6,
    "start_time": "2021-12-11T07:44:43.480Z"
   },
   {
    "duration": 6,
    "start_time": "2021-12-11T07:44:45.448Z"
   },
   {
    "duration": 13,
    "start_time": "2021-12-11T07:44:46.125Z"
   },
   {
    "duration": 7,
    "start_time": "2021-12-11T07:44:47.661Z"
   },
   {
    "duration": 7,
    "start_time": "2021-12-11T07:44:48.350Z"
   },
   {
    "duration": 8,
    "start_time": "2021-12-11T07:44:49.094Z"
   },
   {
    "duration": 8,
    "start_time": "2021-12-11T07:44:50.342Z"
   },
   {
    "duration": 9,
    "start_time": "2021-12-11T07:44:51.677Z"
   },
   {
    "duration": 6,
    "start_time": "2021-12-11T07:44:53.798Z"
   },
   {
    "duration": 19,
    "start_time": "2021-12-11T07:44:54.469Z"
   },
   {
    "duration": 17,
    "start_time": "2021-12-11T07:44:56.711Z"
   },
   {
    "duration": 19,
    "start_time": "2021-12-11T07:44:57.447Z"
   },
   {
    "duration": 11,
    "start_time": "2021-12-11T07:44:59.780Z"
   },
   {
    "duration": 11,
    "start_time": "2021-12-11T07:45:02.185Z"
   },
   {
    "duration": 10,
    "start_time": "2021-12-11T07:45:03.154Z"
   },
   {
    "duration": 5177,
    "start_time": "2021-12-11T07:45:05.814Z"
   },
   {
    "duration": 15,
    "start_time": "2021-12-11T07:45:13.292Z"
   },
   {
    "duration": 10,
    "start_time": "2021-12-11T07:45:14.487Z"
   },
   {
    "duration": 14,
    "start_time": "2021-12-11T07:45:16.471Z"
   },
   {
    "duration": 10,
    "start_time": "2021-12-11T07:45:17.853Z"
   },
   {
    "duration": 13,
    "start_time": "2021-12-11T07:45:18.811Z"
   },
   {
    "duration": 11,
    "start_time": "2021-12-11T07:45:20.171Z"
   },
   {
    "duration": 18,
    "start_time": "2021-12-11T07:45:21.699Z"
   },
   {
    "duration": 22,
    "start_time": "2021-12-11T07:45:24.291Z"
   },
   {
    "duration": 16,
    "start_time": "2021-12-11T07:45:27.355Z"
   },
   {
    "duration": 1994,
    "start_time": "2021-12-11T07:45:51.094Z"
   },
   {
    "duration": 714,
    "start_time": "2021-12-11T07:46:26.605Z"
   },
   {
    "duration": 63,
    "start_time": "2021-12-11T07:46:28.774Z"
   },
   {
    "duration": 29,
    "start_time": "2021-12-11T07:46:29.414Z"
   },
   {
    "duration": 14,
    "start_time": "2021-12-11T07:46:31.380Z"
   },
   {
    "duration": 17,
    "start_time": "2021-12-11T07:46:33.887Z"
   },
   {
    "duration": 7,
    "start_time": "2021-12-11T07:46:35.069Z"
   },
   {
    "duration": 6,
    "start_time": "2021-12-11T07:47:24.543Z"
   },
   {
    "duration": 15,
    "start_time": "2021-12-11T07:47:26.094Z"
   },
   {
    "duration": 7,
    "start_time": "2021-12-11T07:47:27.574Z"
   },
   {
    "duration": 6,
    "start_time": "2021-12-11T07:47:28.544Z"
   },
   {
    "duration": 9,
    "start_time": "2021-12-11T07:47:29.212Z"
   },
   {
    "duration": 8,
    "start_time": "2021-12-11T07:47:30.584Z"
   },
   {
    "duration": 8,
    "start_time": "2021-12-11T07:47:31.449Z"
   },
   {
    "duration": 5,
    "start_time": "2021-12-11T07:47:34.580Z"
   },
   {
    "duration": 19,
    "start_time": "2021-12-11T07:47:35.324Z"
   },
   {
    "duration": 16,
    "start_time": "2021-12-11T07:47:37.410Z"
   },
   {
    "duration": 19,
    "start_time": "2021-12-11T07:47:38.952Z"
   },
   {
    "duration": 10,
    "start_time": "2021-12-11T07:47:40.943Z"
   },
   {
    "duration": 11,
    "start_time": "2021-12-11T07:47:42.692Z"
   },
   {
    "duration": 11,
    "start_time": "2021-12-11T07:47:44.441Z"
   },
   {
    "duration": 4729,
    "start_time": "2021-12-11T07:47:46.972Z"
   },
   {
    "duration": 10,
    "start_time": "2021-12-11T07:47:54.927Z"
   },
   {
    "duration": 13,
    "start_time": "2021-12-11T07:47:56.188Z"
   },
   {
    "duration": 15,
    "start_time": "2021-12-11T07:47:59.485Z"
   },
   {
    "duration": 10,
    "start_time": "2021-12-11T07:48:00.781Z"
   },
   {
    "duration": 13,
    "start_time": "2021-12-11T07:48:02.495Z"
   },
   {
    "duration": 9,
    "start_time": "2021-12-11T07:48:04.360Z"
   },
   {
    "duration": 18,
    "start_time": "2021-12-11T07:48:05.209Z"
   },
   {
    "duration": 21,
    "start_time": "2021-12-11T07:48:10.179Z"
   },
   {
    "duration": 14,
    "start_time": "2021-12-11T07:48:16.409Z"
   },
   {
    "duration": 10,
    "start_time": "2021-12-11T07:48:27.622Z"
   },
   {
    "duration": 19,
    "start_time": "2021-12-11T07:48:31.913Z"
   },
   {
    "duration": 18,
    "start_time": "2021-12-11T07:50:35.358Z"
   },
   {
    "duration": 474,
    "start_time": "2021-12-11T07:51:03.916Z"
   },
   {
    "duration": 19,
    "start_time": "2021-12-11T07:51:14.171Z"
   },
   {
    "duration": 6,
    "start_time": "2021-12-11T07:54:32.343Z"
   },
   {
    "duration": 18,
    "start_time": "2021-12-11T07:56:23.908Z"
   },
   {
    "duration": 839,
    "start_time": "2021-12-11T07:56:52.209Z"
   },
   {
    "duration": 64,
    "start_time": "2021-12-11T07:56:53.051Z"
   },
   {
    "duration": 31,
    "start_time": "2021-12-11T07:56:53.592Z"
   },
   {
    "duration": 16,
    "start_time": "2021-12-11T07:56:55.457Z"
   },
   {
    "duration": 14,
    "start_time": "2021-12-11T07:56:58.016Z"
   },
   {
    "duration": 6,
    "start_time": "2021-12-11T07:56:59.178Z"
   },
   {
    "duration": 6,
    "start_time": "2021-12-11T07:57:00.349Z"
   },
   {
    "duration": 13,
    "start_time": "2021-12-11T07:57:01.048Z"
   },
   {
    "duration": 7,
    "start_time": "2021-12-11T07:57:02.480Z"
   },
   {
    "duration": 6,
    "start_time": "2021-12-11T07:57:03.181Z"
   },
   {
    "duration": 8,
    "start_time": "2021-12-11T07:57:03.962Z"
   },
   {
    "duration": 7,
    "start_time": "2021-12-11T07:57:05.156Z"
   },
   {
    "duration": 8,
    "start_time": "2021-12-11T07:57:06.358Z"
   },
   {
    "duration": 5,
    "start_time": "2021-12-11T07:57:09.313Z"
   },
   {
    "duration": 19,
    "start_time": "2021-12-11T07:57:09.946Z"
   },
   {
    "duration": 16,
    "start_time": "2021-12-11T07:57:11.987Z"
   },
   {
    "duration": 19,
    "start_time": "2021-12-11T07:57:13.441Z"
   },
   {
    "duration": 11,
    "start_time": "2021-12-11T07:57:15.162Z"
   },
   {
    "duration": 11,
    "start_time": "2021-12-11T07:57:17.098Z"
   },
   {
    "duration": 10,
    "start_time": "2021-12-11T07:57:17.945Z"
   },
   {
    "duration": 4939,
    "start_time": "2021-12-11T07:57:19.980Z"
   },
   {
    "duration": 10,
    "start_time": "2021-12-11T07:57:27.358Z"
   },
   {
    "duration": 10,
    "start_time": "2021-12-11T07:57:29.003Z"
   },
   {
    "duration": 14,
    "start_time": "2021-12-11T07:57:30.530Z"
   },
   {
    "duration": 10,
    "start_time": "2021-12-11T07:57:32.018Z"
   },
   {
    "duration": 13,
    "start_time": "2021-12-11T07:57:34.173Z"
   },
   {
    "duration": 9,
    "start_time": "2021-12-11T07:57:35.533Z"
   },
   {
    "duration": 19,
    "start_time": "2021-12-11T07:57:37.339Z"
   },
   {
    "duration": 21,
    "start_time": "2021-12-11T07:57:39.260Z"
   },
   {
    "duration": 14,
    "start_time": "2021-12-11T07:57:41.518Z"
   },
   {
    "duration": 10,
    "start_time": "2021-12-11T07:57:45.289Z"
   },
   {
    "duration": 19,
    "start_time": "2021-12-11T07:57:48.793Z"
   },
   {
    "duration": 17,
    "start_time": "2021-12-11T07:57:50.830Z"
   },
   {
    "duration": 39,
    "start_time": "2021-12-11T08:01:01.616Z"
   },
   {
    "duration": 24,
    "start_time": "2021-12-11T08:01:57.632Z"
   },
   {
    "duration": 22,
    "start_time": "2021-12-11T08:02:50.487Z"
   },
   {
    "duration": 11,
    "start_time": "2021-12-11T08:02:54.817Z"
   },
   {
    "duration": 34,
    "start_time": "2021-12-11T08:03:17.205Z"
   },
   {
    "duration": 30,
    "start_time": "2021-12-11T08:03:30.118Z"
   },
   {
    "duration": 32,
    "start_time": "2021-12-11T08:05:58.139Z"
   },
   {
    "duration": 17,
    "start_time": "2021-12-11T08:06:12.630Z"
   },
   {
    "duration": 22,
    "start_time": "2021-12-11T08:06:57.574Z"
   },
   {
    "duration": 24,
    "start_time": "2021-12-11T08:08:21.425Z"
   },
   {
    "duration": 23,
    "start_time": "2021-12-11T08:08:50.095Z"
   },
   {
    "duration": 11,
    "start_time": "2021-12-11T08:09:00.678Z"
   },
   {
    "duration": 11,
    "start_time": "2021-12-11T08:09:46.684Z"
   },
   {
    "duration": 30,
    "start_time": "2021-12-11T08:14:07.242Z"
   },
   {
    "duration": 17,
    "start_time": "2021-12-11T08:14:18.494Z"
   },
   {
    "duration": 20,
    "start_time": "2021-12-11T08:14:25.038Z"
   },
   {
    "duration": 16,
    "start_time": "2021-12-11T08:14:31.211Z"
   },
   {
    "duration": 26,
    "start_time": "2021-12-11T08:14:52.255Z"
   },
   {
    "duration": 33,
    "start_time": "2021-12-11T08:15:26.309Z"
   },
   {
    "duration": 14,
    "start_time": "2021-12-11T08:15:31.359Z"
   },
   {
    "duration": 609,
    "start_time": "2021-12-11T16:03:33.304Z"
   },
   {
    "duration": 50,
    "start_time": "2021-12-11T16:03:33.915Z"
   },
   {
    "duration": 21,
    "start_time": "2021-12-11T16:03:33.967Z"
   },
   {
    "duration": 32,
    "start_time": "2021-12-11T16:03:33.990Z"
   },
   {
    "duration": 9,
    "start_time": "2021-12-11T16:03:34.024Z"
   },
   {
    "duration": 17,
    "start_time": "2021-12-11T16:03:34.035Z"
   },
   {
    "duration": 7,
    "start_time": "2021-12-11T16:03:34.054Z"
   },
   {
    "duration": 25,
    "start_time": "2021-12-11T16:03:34.062Z"
   },
   {
    "duration": 22,
    "start_time": "2021-12-11T16:03:34.090Z"
   },
   {
    "duration": 30,
    "start_time": "2021-12-11T16:03:34.114Z"
   },
   {
    "duration": 18,
    "start_time": "2021-12-11T16:03:34.146Z"
   },
   {
    "duration": 19,
    "start_time": "2021-12-11T16:03:34.166Z"
   },
   {
    "duration": 30,
    "start_time": "2021-12-11T16:03:34.187Z"
   },
   {
    "duration": 27,
    "start_time": "2021-12-11T16:03:34.219Z"
   },
   {
    "duration": 13,
    "start_time": "2021-12-11T16:03:34.248Z"
   },
   {
    "duration": 8,
    "start_time": "2021-12-11T16:03:34.263Z"
   },
   {
    "duration": 21,
    "start_time": "2021-12-11T16:03:34.273Z"
   },
   {
    "duration": 19,
    "start_time": "2021-12-11T16:03:34.296Z"
   },
   {
    "duration": 38,
    "start_time": "2021-12-11T16:03:34.317Z"
   },
   {
    "duration": 19,
    "start_time": "2021-12-11T16:03:34.357Z"
   },
   {
    "duration": 18,
    "start_time": "2021-12-11T16:03:34.378Z"
   },
   {
    "duration": 11,
    "start_time": "2021-12-11T16:03:34.398Z"
   },
   {
    "duration": 3994,
    "start_time": "2021-12-11T16:03:34.411Z"
   },
   {
    "duration": 7,
    "start_time": "2021-12-11T16:03:38.407Z"
   },
   {
    "duration": 13,
    "start_time": "2021-12-11T16:03:38.416Z"
   },
   {
    "duration": 22,
    "start_time": "2021-12-11T16:03:38.430Z"
   },
   {
    "duration": 11,
    "start_time": "2021-12-11T16:03:38.456Z"
   },
   {
    "duration": 17,
    "start_time": "2021-12-11T16:03:38.469Z"
   },
   {
    "duration": 26,
    "start_time": "2021-12-11T16:03:38.488Z"
   },
   {
    "duration": 26,
    "start_time": "2021-12-11T16:03:38.516Z"
   },
   {
    "duration": 16,
    "start_time": "2021-12-11T16:03:38.543Z"
   },
   {
    "duration": 13,
    "start_time": "2021-12-11T16:03:38.560Z"
   },
   {
    "duration": 23,
    "start_time": "2021-12-11T16:03:38.575Z"
   },
   {
    "duration": 30,
    "start_time": "2021-12-11T16:03:38.599Z"
   },
   {
    "duration": 22,
    "start_time": "2021-12-11T16:03:38.630Z"
   },
   {
    "duration": 30,
    "start_time": "2021-12-11T16:03:38.654Z"
   },
   {
    "duration": 16,
    "start_time": "2021-12-11T16:03:38.686Z"
   },
   {
    "duration": 11,
    "start_time": "2021-12-11T16:03:38.704Z"
   },
   {
    "duration": 53,
    "start_time": "2021-12-11T16:03:38.717Z"
   },
   {
    "duration": 32,
    "start_time": "2021-12-11T16:03:38.772Z"
   },
   {
    "duration": 18,
    "start_time": "2021-12-11T16:03:38.806Z"
   },
   {
    "duration": 10,
    "start_time": "2021-12-11T16:03:38.845Z"
   },
   {
    "duration": 34,
    "start_time": "2021-12-11T16:03:38.857Z"
   },
   {
    "duration": 16,
    "start_time": "2021-12-11T16:03:38.893Z"
   },
   {
    "duration": 34,
    "start_time": "2021-12-11T16:03:38.911Z"
   },
   {
    "duration": 34,
    "start_time": "2021-12-11T16:03:38.947Z"
   },
   {
    "duration": 15,
    "start_time": "2021-12-11T16:03:38.984Z"
   },
   {
    "duration": 94,
    "start_time": "2021-12-11T16:03:56.277Z"
   },
   {
    "duration": 18,
    "start_time": "2021-12-11T16:03:58.766Z"
   },
   {
    "duration": 325,
    "start_time": "2021-12-11T16:11:19.194Z"
   },
   {
    "duration": 10,
    "start_time": "2021-12-11T16:11:24.632Z"
   }
  ],
  "kernelspec": {
   "display_name": "Python 3 (ipykernel)",
   "language": "python",
   "name": "python3"
  },
  "language_info": {
   "codemirror_mode": {
    "name": "ipython",
    "version": 3
   },
   "file_extension": ".py",
   "mimetype": "text/x-python",
   "name": "python",
   "nbconvert_exporter": "python",
   "pygments_lexer": "ipython3",
   "version": "3.9.5"
  },
  "toc": {
   "base_numbering": 1,
   "nav_menu": {},
   "number_sections": true,
   "sideBar": true,
   "skip_h1_title": true,
   "title_cell": "Table of Contents",
   "title_sidebar": "Contents",
   "toc_cell": false,
   "toc_position": {},
   "toc_section_display": true,
   "toc_window_display": false
  }
 },
 "nbformat": 4,
 "nbformat_minor": 2
}

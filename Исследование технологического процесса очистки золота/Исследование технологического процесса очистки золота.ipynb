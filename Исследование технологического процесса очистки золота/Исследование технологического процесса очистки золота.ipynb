{
 "cells": [
  {
   "cell_type": "markdown",
   "metadata": {},
   "source": [
    "# Описание проекта\n",
    "\n",
    "Подготовьте прототип модели машинного обучения для «Цифры». Компания разрабатывает решения для эффективной работы промышленных предприятий.\n",
    "<br><br>\n",
    "Модель должна предсказать коэффициент восстановления золота из золотосодержащей руды. В вашем распоряжении данные с параметрами добычи и очистки.\n",
    "<br><br>\n",
    "Модель поможет оптимизировать производство, чтобы не запускать предприятие с убыточными характеристиками.\n",
    "<br><br>\n",
    "Вам нужно:\n",
    "- Подготовить данные;\n",
    "- Провести исследовательский анализ данных;\n",
    "- Построить и обучить модель.\n",
    "- Чтобы выполнить проект, обращайтесь к библиотекам pandas, matplotlib и sklearn. Вам поможет их документация.<br>"
   ]
  },
  {
   "cell_type": "markdown",
   "metadata": {},
   "source": [
    "## Описание данных\n",
    "##### Технологический процесс\n",
    "- Rougher feed — исходное сырье\n",
    "- Rougher additions (или reagent additions) — флотационные реагенты: Xanthate, Sulphate, Depressant\n",
    "- Xanthate **— ксантогенат (промотер, или активатор флотации);\n",
    "- Sulphate — сульфат (на данном производстве сульфид натрия);\n",
    "- Depressant — депрессант (силикат натрия).\n",
    "- Rougher process (англ. «грубый процесс») — флотация\n",
    "- Rougher tails — отвальные хвосты\n",
    "- Float banks — флотационная установка\n",
    "- Cleaner process — очистка\n",
    "- Rougher Au — черновой концентрат золота\n",
    "- Final Au — финальный концентрат золота\n",
    "- Параметры этапов\n",
    "- air amount — объём воздуха\n",
    "- fluid levels — уровень жидкости\n",
    "- feed size — размер гранул сырья\n",
    "- feed rate — скорость подачи\n",
    "\n",
    "### Наименование признаков\n",
    "Наименование признаков должно быть такое:<br>\n",
    "<b>[этап].[тип_параметра].[название_параметра]</b><br>\n",
    "Пример: rougher.input.feed_ag\n",
    "\n",
    "###### Возможные значения для блока [этап]:\n",
    "- rougher — флотация\n",
    "- primary_cleaner — первичная очистка\n",
    "- secondary_cleaner — вторичная очистка\n",
    "- final — финальные характеристики\n",
    "\n",
    "##### Возможные значения для блока [тип_параметра]:\n",
    "\n",
    "- input — параметры сырья\n",
    "- output — параметры продукта\n",
    "- state — параметры, характеризующие текущее состояние этапа\n",
    "- calculation — расчётные характеристики"
   ]
  },
  {
   "cell_type": "markdown",
   "metadata": {},
   "source": [
    "# Содержание проекта:"
   ]
  },
  {
   "cell_type": "markdown",
   "metadata": {},
   "source": [
    "<ul>\n",
    "    <li><a href=\"#1.-%D0%9F%D0%BE%D0%B4%D0%B3%D0%BE%D1%82%D0%BE%D0%B2%D0%BA%D0%B0-%D0%B4%D0%B0%D0%BD%D0%BD%D1%8B%D1%85\">1. Подготовка данных</a></li>\n",
    "    <ol>\n",
    "        <li><a href=\"#1.1.-%D0%9E%D1%82%D0%BA%D1%80%D0%BE%D0%B5%D0%BC-%D1%84%D0%B0%D0%B9%D0%BB%D1%8B-%D0%B8-%D0%B8%D0%B7%D1%83%D1%87%D0%B8%D0%BC-%D0%B8%D1%85\">Откроем файлы и изучим их</a></li>\n",
    "        <li><a href=\"#1.2.-%D0%9F%D1%80%D0%BE%D0%B2%D0%B5%D1%80%D0%B8%D0%BC,-%D1%87%D1%82%D0%BE-%D1%8D%D1%84%D1%84%D0%B5%D0%BA%D1%82%D0%B8%D0%B2%D0%BD%D0%BE%D1%81%D1%82%D1%8C-%D0%BE%D0%B1%D0%BE%D0%B3%D0%B0%D1%89%D0%B5%D0%BD%D0%B8%D1%8F-%D1%80%D0%B0%D1%81%D1%81%D1%87%D0%B8%D1%82%D0%B0%D0%BD%D0%B0-%D0%BF%D1%80%D0%B0%D0%B2%D0%B8%D0%BB%D1%8C%D0%BD%D0%BE.-%D0%92%D1%8B%D1%87%D0%B8%D1%81%D0%BB%D0%B8%D0%BC-%D0%B5%D0%B5-%D0%BD%D0%B0-%D0%BE%D0%B1%D1%83%D1%87%D0%B0%D1%8E%D1%89%D0%B5%D0%B9-%D0%B2%D1%8B%D0%B1%D0%BE%D1%80%D0%BA%D0%B5-%D0%B4%D0%BB%D1%8F-%D0%BF%D1%80%D0%B8%D0%B7%D0%BD%D0%B0%D0%BA%D0%B0-%22rougher.output.recovery%22.-%D0%9D%D0%B0%D0%B9%D0%B4%D0%B5%D0%BC-MAE-%D0%BC%D0%B5%D0%B6%D0%B4%D1%83-%D0%BD%D0%B0%D1%88%D0%B8%D0%BC%D0%B8-%D1%80%D0%B0%D1%81%D1%87%D0%B5%D1%82%D0%B0%D0%BC%D0%B8-%D0%B8-%D0%B7%D0%BD%D0%B0%D1%87%D0%B5%D0%BD%D0%B8%D1%8F%D0%BC%D0%B8-%D0%BF%D1%80%D0%B8%D0%B7%D0%BD%D0%B0%D0%BA%D0%B0.-%D0%9E%D0%BF%D0%B8%D1%88%D0%B5%D0%BC-%D0%B2%D1%8B%D0%B2%D0%BE%D0%B4%D1%8B.\">Найдем MAE между нашими расчетами и значениями признака</a></li>\n",
    "        <li><a href=\"#1.3.-%D0%9F%D1%80%D0%BE%D0%B0%D0%BD%D0%B0%D0%BB%D0%B8%D0%B7%D0%B8%D1%80%D1%83%D0%B5%D0%BC-%D0%BF%D1%80%D0%B8%D0%B7%D0%BD%D0%B0%D0%BA%D0%B8,-%D0%BD%D0%B5%D0%B4%D0%BE%D1%81%D1%82%D1%83%D0%BF%D0%BD%D1%8B%D0%B5-%D0%B2-%D1%82%D0%B5%D1%81%D1%82%D0%BE%D0%B2%D0%BE%D0%B9-%D0%B2%D1%8B%D0%B1%D0%BE%D1%80%D0%BA%D0%B5.-%D0%A7%D1%82%D0%BE-%D1%8D%D1%82%D0%BE-%D0%B7%D0%B0-%D0%BF%D0%B0%D1%80%D0%B0%D0%BC%D0%B5%D1%82%D1%80%D1%8B-%D0%B8-%D0%BA-%D0%BA%D0%B0%D0%BA%D0%BE%D0%BC%D1%83-%D1%82%D0%B8%D0%BF%D1%83-%D0%BE%D1%82%D0%BD%D0%BE%D1%81%D1%8F%D1%82%D1%81%D1%8F?\">Проанализируем признаки, недоступные в тестовой выборке.</a></li>\n",
    "        <li><a href=\"#1.4.-%D0%9F%D1%80%D0%BE%D0%B2%D0%B5%D0%B4%D0%B5%D0%BC-%D0%BF%D1%80%D0%B5%D0%B4%D0%BE%D0%B1%D1%80%D0%B0%D0%B1%D0%BE%D1%82%D0%BA%D1%83-%D0%B4%D0%B0%D0%BD%D0%BD%D1%8B%D1%85.\">Проведем предобработку данных</a></li>\n",
    "        <li><a href=\"#1.5.-%D0%92%D1%8B%D0%B2%D0%BE%D0%B4\">Вывод</a></li>\n",
    "    </ol><br>\n",
    "    <li><a href=\"#2.-%D0%90%D0%BD%D0%B0%D0%BB%D0%B8%D0%B7-%D0%94%D0%B0%D0%BD%D0%BD%D1%8B%D1%85\">Анализ данных</a></li>\n",
    "    <ol>\n",
    "        <li><a href=\"#2.1.-%D0%9F%D0%BE%D1%81%D0%BC%D0%BE%D1%82%D1%80%D0%B8%D0%BC,-%D0%BA%D0%B0%D0%BA-%D0%BC%D0%B5%D0%BD%D1%8F%D0%B5%D1%82%D1%81%D1%8F-%D0%BA%D0%BE%D0%BD%D1%86%D0%B5%D0%BD%D1%82%D1%80%D0%B0%D1%86%D0%B8%D1%8F-%D0%BC%D0%B5%D1%82%D0%B0%D0%BB%D0%BB%D0%BE%D0%B2-(Au,-Ag,-Pb)-%D0%BD%D0%B0-%D1%80%D0%B0%D0%B7%D0%BB%D0%B8%D1%87%D0%BD%D1%8B%D1%85-%D1%8D%D1%82%D0%B0%D0%BF%D0%B0%D1%85-%D0%BE%D1%87%D0%B8%D1%81%D1%82%D0%BA%D0%B8.\">Посмотрим, как меняется концентрация металлов на различных этапах очистки</a></li>\n",
    "        <li><a href=\"#2.2.-%D0%A1%D1%80%D0%B0%D0%B2%D0%BD%D0%B8%D0%BC-%D1%80%D0%B0%D1%81%D0%BF%D1%80%D0%B5%D0%B4%D0%B5%D0%BB%D0%B5%D0%BD%D0%B8%D1%8F-%D1%80%D0%B0%D0%B7%D0%BC%D0%B5%D1%80%D0%BE%D0%B2-%D0%B3%D1%80%D0%B0%D0%BD%D1%83%D0%BB-%D1%81%D1%8B%D1%80%D1%8C%D1%8F-%D0%BD%D0%B0-%D0%BE%D0%B1%D1%83%D1%87%D0%B0%D1%8E%D1%89%D0%B5%D0%B9-%D0%B8-%D1%82%D0%B5%D1%81%D1%82%D0%BE%D0%B2%D0%BE%D0%B9-%D0%B2%D1%8B%D0%B1%D0%BE%D1%80%D0%BA%D0%B0%D1%85.-%D0%95%D1%81%D0%BB%D0%B8-%D1%80%D0%B0%D1%81%D0%BF%D1%80%D0%B5%D0%B4%D0%B5%D0%BB%D0%B5%D0%BD%D0%B8%D1%8F-%D1%81%D0%B8%D0%BB%D1%8C%D0%BD%D0%BE-%D0%BE%D1%82%D0%BB%D0%B8%D1%87%D0%B0%D1%8E%D1%82%D1%81%D1%8F-%D0%B4%D1%80%D1%83%D0%B3-%D0%BE%D1%82-%D0%B4%D1%80%D1%83%D0%B3%D0%B0,-%D0%BE%D1%86%D0%B5%D0%BD%D0%BA%D0%B0-%D0%BC%D0%BE%D0%B4%D0%B5%D0%BB%D0%B8-%D0%B1%D1%83%D0%B4%D0%B5%D1%82-%D0%BD%D0%B5%D0%BF%D1%80%D0%B0%D0%B2%D0%B8%D0%BB%D1%8C%D0%BD%D0%BE%D0%B9.\">Сравним распределения размеров гранул сырья</a></li>\n",
    "        <li><a href=\"#2.3.-%D0%98%D1%81%D1%81%D0%BB%D0%B5%D0%B4%D1%83%D0%B5%D0%BC-%D1%81%D1%83%D0%BC%D0%BC%D0%B0%D1%80%D0%BD%D1%83%D1%8E-%D0%BA%D0%BE%D0%BD%D1%86%D0%B5%D0%BD%D1%82%D1%80%D0%B0%D1%86%D0%B8%D1%8E-%D0%B2%D1%81%D0%B5%D1%85-%D0%B2%D0%B5%D1%89%D0%B5%D1%81%D1%82%D0%B2-%D0%BD%D0%B0-%D1%80%D0%B0%D0%B7%D0%BD%D1%8B%D1%85-%D1%81%D1%82%D0%B0%D0%B4%D0%B8%D1%8F%D1%85:-%D0%B2-%D1%81%D1%8B%D1%80%D1%8C%D0%B5,-%D0%B2-%D1%87%D0%B5%D1%80%D0%BD%D0%BE%D0%B2%D0%BE%D0%BC-%D0%B8-%D1%84%D0%B8%D0%BD%D0%B0%D0%BB%D1%8C%D0%BD%D0%BE%D0%BC-%D0%BA%D0%BE%D0%BD%D1%86%D0%B5%D0%BD%D1%82%D1%80%D0%B0%D1%82%D0%B0%D1%85.-%D0%98%D0%BC%D0%B5%D1%8E%D1%82%D1%81%D1%8F-%D0%BB%D0%B8-%D0%B0%D0%BD%D0%BE%D0%BC%D0%B0%D0%BB%D1%8C%D0%BD%D1%8B%D0%B5-%D0%B7%D0%BD%D0%B0%D1%87%D0%B5%D0%BD%D0%B8%D1%8F-%D0%B2-%D1%81%D1%83%D0%BC%D0%BC%D0%B0%D1%80%D0%BD%D0%BE%D0%BC-%D1%80%D0%B0%D1%81%D0%BF%D1%80%D0%B5%D0%B4%D0%B5%D0%BB%D0%B5%D0%BD%D0%B8%D0%B8-?-%D0%95%D1%81%D0%BB%D0%B8-%D0%BE%D0%BD%D0%B8-%D0%B5%D1%81%D1%82%D1%8C-%D0%BD%D1%83%D0%B6%D0%BD%D0%BE-%D0%BB%D0%B8-%D0%B8%D1%85-%D1%83%D0%B4%D0%B0%D0%BB%D1%8F%D1%82%D1%8C-%D0%B8%D0%B7-%D0%BE%D0%B1%D0%B5%D0%B8%D1%85-%D0%B2%D1%8B%D0%B1%D0%BE%D1%80%D0%BE%D0%BA.-%D0%9E%D0%BF%D0%B8%D1%88%D0%B5%D0%BC-%D0%B2%D1%8B%D0%B2%D0%BE%D0%B4%D1%8B-%D0%B8-%D1%83%D0%B4%D0%B0%D0%BB%D0%B8%D0%BC-%D0%B0%D0%BD%D0%BE%D0%BC%D0%B0%D0%BB%D0%B8%D0%B8\">Исследуем суммарную концентрацию всех веществ на разных стадиях</a></li>\n",
    "    </ol><br>\n",
    "    <li><a href=\"#3.-%D0%9C%D0%BE%D0%B4%D0%B5%D0%BB%D1%8C\">Модель</a></li>\n",
    "    <ol>\n",
    "        <li><a href=\"#3.1.-%D0%9D%D0%B0%D0%BF%D0%B8%D1%88%D0%B5%D0%BC-%D1%84%D1%83%D0%BD%D0%BA%D1%86%D0%B8%D1%8E-%D0%B4%D0%BB%D1%8F-%D0%B2%D1%8B%D1%87%D0%B8%D1%81%D0%BB%D0%B5%D0%BD%D0%B8%D1%8F-%D0%B8%D1%82%D0%BE%D0%B3%D0%BE%D0%B2%D0%BE%D0%B9-sMAPE.\">Напишем функцию для вычисления итоговой sMAPE</a></li>\n",
    "        <li><a href=\"#3.2.-%D0%9E%D0%B1%D1%83%D1%87%D0%B8%D0%BC-%D1%80%D0%B0%D0%B7%D0%BD%D1%8B%D0%B5-%D0%BC%D0%BE%D0%B4%D0%B5%D0%BB%D0%B8-%D0%B8-%D0%BE%D1%86%D0%B5%D0%BD%D0%B8%D0%BC-%D0%B8%D1%85-%D0%BA%D0%B0%D1%87%D0%B5%D1%81%D1%82%D0%B2%D0%BE-%D0%BA%D1%80%D0%BE%D1%81%D1%81-%D0%B2%D0%B0%D0%BB%D0%B8%D0%B4%D0%B0%D1%86%D0%B8%D0%B5%D0%B9.-%D0%92%D1%8B%D0%B1%D0%B5%D1%80%D0%B5%D0%BC-%D0%BB%D1%83%D1%87%D1%88%D1%83%D1%8E-%D0%BC%D0%BE%D0%B4%D0%B5%D0%BB%D1%8C-%D0%B8-%D0%BF%D1%80%D0%BE%D0%B2%D0%B5%D1%80%D0%B8%D0%BC-%D0%B5%D0%B5-%D0%BD%D0%B0-%D1%82%D0%B5%D1%81%D1%82%D0%BE%D0%B2%D0%BE%D0%B9-%D0%B2%D1%8B%D0%B1%D0%BE%D1%80%D0%BA%D0%B5.-%D0%9E%D0%BF%D0%B8%D1%88%D0%B5%D0%BC-%D0%B2%D1%8B%D0%B2%D0%BE%D0%B4%D1%8B.\">Обучим разные модели и оценим их качество кросс-валидацией</a></li></ol><br>\n",
    "    <li><a href=\"#%D0%9E%D0%B1%D1%89%D0%B8%D0%B9-%D0%92%D1%8B%D0%B2%D0%BE%D0%B4:\">Общий вывод</a></li>\n",
    "</ul>"
   ]
  },
  {
   "cell_type": "markdown",
   "metadata": {},
   "source": [
    "## 1. Подготовка данных"
   ]
  },
  {
   "cell_type": "code",
   "execution_count": 1,
   "metadata": {},
   "outputs": [],
   "source": [
    "# Подключим все необходимые библиотеки \n",
    "import os\n",
    "import urllib.request\n",
    "import pandas as pd\n",
    "import matplotlib.pyplot as plt\n",
    "import seaborn as sns\n",
    "import numpy as np\n",
    "import itertools \n",
    "import math\n",
    "from pathlib import Path\n",
    "from sklearn.ensemble import RandomForestRegressor\n",
    "from sklearn.linear_model import LinearRegression\n",
    "from sklearn import linear_model\n",
    "from sklearn.svm import SVR\n",
    "from sklearn.preprocessing import StandardScaler, MinMaxScaler\n",
    "from sklearn.utils import shuffle\n",
    "from sklearn.model_selection import TimeSeriesSplit, cross_val_score, StratifiedKFold, GridSearchCV, cross_validate, KFold\n",
    "from sklearn.metrics import roc_auc_score, roc_curve, precision_recall_curve, mean_absolute_error, make_scorer, make_scorer\n",
    "from sklearn.pipeline import Pipeline\n",
    "from sklearn.impute import SimpleImputer"
   ]
  },
  {
   "cell_type": "code",
   "execution_count": 2,
   "metadata": {},
   "outputs": [],
   "source": [
    "class DataScience:\n",
    "\n",
    "    def path_to_files(self, path, link):\n",
    "        Path('datasets').mkdir(parents=True, exist_ok=True)\n",
    "        def get_file(file_name, url):\n",
    "            if not os.path.exists(file_name):\n",
    "                print(file_name, 'файл не найден, будет загружен из сети')\n",
    "                _ = urllib.request.urlretrieve(url, file_name)\n",
    "        urls = {\n",
    "            'dataset': (path, link)\n",
    "        }\n",
    "        [get_file(*urls[k]) for k in urls]\n",
    "        data = pd.read_csv(urls['dataset'][0])\n",
    "        return data\n",
    "\n",
    "    \n",
    "    def clean_dataset(self, df):\n",
    "        assert isinstance(df, pd.DataFrame)\n",
    "        df.dropna(inplace=True)\n",
    "        #indices_to_keep = ~df.isin([np.nan, np.inf, -np.inf]).any(1)\n",
    "        #return df[indices_to_keep]#.astype(np.float64)\n",
    "    \n",
    "    def missing_zero_values_table(self,df):\n",
    "        zero_val = (df == 0.00).astype(int).sum(axis=0)\n",
    "        mis_val = df.isnull().sum()\n",
    "        mis_val_percent = 100 * df.isnull().sum() / len(df)\n",
    "        mz_table = pd.concat([zero_val, mis_val, mis_val_percent], axis=1)\n",
    "        mz_table = mz_table.rename(\n",
    "        columns = {0 : 'Zero Values', 1 : 'Missing Values', 2 : '% of Total Values'})\n",
    "        mz_table['Total Zero Missing Values'] = mz_table['Zero Values'] + mz_table['Missing Values']\n",
    "        mz_table['% Total Zero Missing Values'] = 100 * mz_table['Total Zero Missing Values'] / len(df)\n",
    "        mz_table['Data Type'] = df.dtypes\n",
    "        mz_table = mz_table[\n",
    "            mz_table.iloc[:,1] != 0].sort_values(\n",
    "        '% of Total Values', ascending=False).round(1)\n",
    "        print (\"Your selected dataframe has \" + str(df.shape[1]) + \" columns and \" + str(df.shape[0]) + \" Rows.\\n\"      \n",
    "            \"There are \" + str(mz_table.shape[0]) +\n",
    "              \" columns that have missing values.\")\n",
    "        \n",
    "        return mz_table\n",
    "    \n",
    "    def differences_in_columns(self, df1, df2):\n",
    "        df1_cols = df1.columns\n",
    "        df2_cols = df2.columns\n",
    "        diff = df1_cols.difference(df2_cols)  #Признаки имеющиеся только в тестовой выборке\n",
    "        counter = 0\n",
    "        print('======= Отличающиеся столбцы ======')\n",
    "        for i in diff:\n",
    "            counter += 1\n",
    "            print(\"{}. {}\".format(counter,i))\n",
    "        print('\\n')\n",
    "        print('Количество столбцов в df1:', len(df1_cols))\n",
    "        print('Количество столбцов в df2:', len(df2_cols))\n",
    "        print('\\nОбщее количество отличающихся столбцов: ', counter)\n",
    "        \n",
    "    def common_in_columns(self, df1, df2):\n",
    "        df1_cols = df1.columns\n",
    "        df2_cols = df2.columns\n",
    "        common_cols = df1_cols.intersection(df2_cols)   #Признаки имеющиемся в двух выборках\n",
    "        counter = 0\n",
    "        for i in common_cols:\n",
    "            counter += 1\n",
    "            print(\"{}. {}\".format(counter,i))\n",
    "        print('\\n')\n",
    "        print('Количество столбцов в df1:', len(df1_cols))\n",
    "        print('Количество столбцов в df2:', len(df2_cols))\n",
    "        print('Общее количество похожих столбцов: ', counter)"
   ]
  },
  {
   "cell_type": "markdown",
   "metadata": {},
   "source": [
    "###  1.1. Откроем файлы и изучим их"
   ]
  },
  {
   "cell_type": "code",
   "execution_count": 3,
   "metadata": {},
   "outputs": [],
   "source": [
    "ds = DataScience()"
   ]
  },
  {
   "cell_type": "code",
   "execution_count": 4,
   "metadata": {},
   "outputs": [],
   "source": [
    "#Загрузим данные\n",
    "train = ds.path_to_files('gold_recovery_train.csv', 'https://code.s3.yandex.net/datasets/gold_recovery_train.csv')\n",
    "test =  ds.path_to_files('gold_recovery_test.csv', 'https://code.s3.yandex.net/datasets/gold_recovery_test.csv')\n",
    "full =  ds.path_to_files('gold_recovery_full.csv', 'https://code.s3.yandex.net/datasets/gold_recovery_full.csv')"
   ]
  },
  {
   "cell_type": "code",
   "execution_count": 5,
   "metadata": {},
   "outputs": [
    {
     "name": "stdout",
     "output_type": "stream",
     "text": [
      "Размер обучающей выборки: (16860, 87) \n",
      "Размер тестовой выборки: (5856, 53) \n",
      "Размер общей выборки: (22716, 87) \n"
     ]
    }
   ],
   "source": [
    "#Посмотрим размеры выборок\n",
    "print('Размер обучающей выборки: {} '.format(train.shape))\n",
    "print('Размер тестовой выборки: {} '.format(test.shape))\n",
    "print('Размер общей выборки: {} '.format(full.shape))"
   ]
  },
  {
   "cell_type": "markdown",
   "metadata": {},
   "source": [
    "- В тестовой выборке не все столбцы...Нужно будет посмотреть, что это за столбцы  и почему их нет"
   ]
  },
  {
   "cell_type": "code",
   "execution_count": 6,
   "metadata": {},
   "outputs": [
    {
     "data": {
      "text/html": [
       "<div>\n",
       "<style scoped>\n",
       "    .dataframe tbody tr th:only-of-type {\n",
       "        vertical-align: middle;\n",
       "    }\n",
       "\n",
       "    .dataframe tbody tr th {\n",
       "        vertical-align: top;\n",
       "    }\n",
       "\n",
       "    .dataframe thead th {\n",
       "        text-align: right;\n",
       "    }\n",
       "</style>\n",
       "<table border=\"1\" class=\"dataframe\">\n",
       "  <thead>\n",
       "    <tr style=\"text-align: right;\">\n",
       "      <th></th>\n",
       "      <th>date</th>\n",
       "      <th>final.output.concentrate_ag</th>\n",
       "      <th>final.output.concentrate_pb</th>\n",
       "      <th>final.output.concentrate_sol</th>\n",
       "      <th>final.output.concentrate_au</th>\n",
       "      <th>final.output.recovery</th>\n",
       "      <th>final.output.tail_ag</th>\n",
       "      <th>final.output.tail_pb</th>\n",
       "      <th>final.output.tail_sol</th>\n",
       "      <th>final.output.tail_au</th>\n",
       "      <th>...</th>\n",
       "      <th>secondary_cleaner.state.floatbank4_a_air</th>\n",
       "      <th>secondary_cleaner.state.floatbank4_a_level</th>\n",
       "      <th>secondary_cleaner.state.floatbank4_b_air</th>\n",
       "      <th>secondary_cleaner.state.floatbank4_b_level</th>\n",
       "      <th>secondary_cleaner.state.floatbank5_a_air</th>\n",
       "      <th>secondary_cleaner.state.floatbank5_a_level</th>\n",
       "      <th>secondary_cleaner.state.floatbank5_b_air</th>\n",
       "      <th>secondary_cleaner.state.floatbank5_b_level</th>\n",
       "      <th>secondary_cleaner.state.floatbank6_a_air</th>\n",
       "      <th>secondary_cleaner.state.floatbank6_a_level</th>\n",
       "    </tr>\n",
       "  </thead>\n",
       "  <tbody>\n",
       "    <tr>\n",
       "      <td>0</td>\n",
       "      <td>2016-01-15 00:00:00</td>\n",
       "      <td>6.055403</td>\n",
       "      <td>9.889648</td>\n",
       "      <td>5.507324</td>\n",
       "      <td>42.192020</td>\n",
       "      <td>70.541216</td>\n",
       "      <td>10.411962</td>\n",
       "      <td>0.895447</td>\n",
       "      <td>16.904297</td>\n",
       "      <td>2.143149</td>\n",
       "      <td>...</td>\n",
       "      <td>14.016835</td>\n",
       "      <td>-502.488007</td>\n",
       "      <td>12.099931</td>\n",
       "      <td>-504.715942</td>\n",
       "      <td>9.925633</td>\n",
       "      <td>-498.310211</td>\n",
       "      <td>8.079666</td>\n",
       "      <td>-500.470978</td>\n",
       "      <td>14.151341</td>\n",
       "      <td>-605.841980</td>\n",
       "    </tr>\n",
       "    <tr>\n",
       "      <td>1</td>\n",
       "      <td>2016-01-15 01:00:00</td>\n",
       "      <td>6.029369</td>\n",
       "      <td>9.968944</td>\n",
       "      <td>5.257781</td>\n",
       "      <td>42.701629</td>\n",
       "      <td>69.266198</td>\n",
       "      <td>10.462676</td>\n",
       "      <td>0.927452</td>\n",
       "      <td>16.634514</td>\n",
       "      <td>2.224930</td>\n",
       "      <td>...</td>\n",
       "      <td>13.992281</td>\n",
       "      <td>-505.503262</td>\n",
       "      <td>11.950531</td>\n",
       "      <td>-501.331529</td>\n",
       "      <td>10.039245</td>\n",
       "      <td>-500.169983</td>\n",
       "      <td>7.984757</td>\n",
       "      <td>-500.582168</td>\n",
       "      <td>13.998353</td>\n",
       "      <td>-599.787184</td>\n",
       "    </tr>\n",
       "    <tr>\n",
       "      <td>2</td>\n",
       "      <td>2016-01-15 02:00:00</td>\n",
       "      <td>6.055926</td>\n",
       "      <td>10.213995</td>\n",
       "      <td>5.383759</td>\n",
       "      <td>42.657501</td>\n",
       "      <td>68.116445</td>\n",
       "      <td>10.507046</td>\n",
       "      <td>0.953716</td>\n",
       "      <td>16.208849</td>\n",
       "      <td>2.257889</td>\n",
       "      <td>...</td>\n",
       "      <td>14.015015</td>\n",
       "      <td>-502.520901</td>\n",
       "      <td>11.912783</td>\n",
       "      <td>-501.133383</td>\n",
       "      <td>10.070913</td>\n",
       "      <td>-500.129135</td>\n",
       "      <td>8.013877</td>\n",
       "      <td>-500.517572</td>\n",
       "      <td>14.028663</td>\n",
       "      <td>-601.427363</td>\n",
       "    </tr>\n",
       "    <tr>\n",
       "      <td>3</td>\n",
       "      <td>2016-01-15 03:00:00</td>\n",
       "      <td>6.047977</td>\n",
       "      <td>9.977019</td>\n",
       "      <td>4.858634</td>\n",
       "      <td>42.689819</td>\n",
       "      <td>68.347543</td>\n",
       "      <td>10.422762</td>\n",
       "      <td>0.883763</td>\n",
       "      <td>16.532835</td>\n",
       "      <td>2.146849</td>\n",
       "      <td>...</td>\n",
       "      <td>14.036510</td>\n",
       "      <td>-500.857308</td>\n",
       "      <td>11.999550</td>\n",
       "      <td>-501.193686</td>\n",
       "      <td>9.970366</td>\n",
       "      <td>-499.201640</td>\n",
       "      <td>7.977324</td>\n",
       "      <td>-500.255908</td>\n",
       "      <td>14.005551</td>\n",
       "      <td>-599.996129</td>\n",
       "    </tr>\n",
       "    <tr>\n",
       "      <td>4</td>\n",
       "      <td>2016-01-15 04:00:00</td>\n",
       "      <td>6.148599</td>\n",
       "      <td>10.142511</td>\n",
       "      <td>4.939416</td>\n",
       "      <td>42.774141</td>\n",
       "      <td>66.927016</td>\n",
       "      <td>10.360302</td>\n",
       "      <td>0.792826</td>\n",
       "      <td>16.525686</td>\n",
       "      <td>2.055292</td>\n",
       "      <td>...</td>\n",
       "      <td>14.027298</td>\n",
       "      <td>-499.838632</td>\n",
       "      <td>11.953070</td>\n",
       "      <td>-501.053894</td>\n",
       "      <td>9.925709</td>\n",
       "      <td>-501.686727</td>\n",
       "      <td>7.894242</td>\n",
       "      <td>-500.356035</td>\n",
       "      <td>13.996647</td>\n",
       "      <td>-601.496691</td>\n",
       "    </tr>\n",
       "  </tbody>\n",
       "</table>\n",
       "<p>5 rows × 87 columns</p>\n",
       "</div>"
      ],
      "text/plain": [
       "                  date  final.output.concentrate_ag  \\\n",
       "0  2016-01-15 00:00:00                     6.055403   \n",
       "1  2016-01-15 01:00:00                     6.029369   \n",
       "2  2016-01-15 02:00:00                     6.055926   \n",
       "3  2016-01-15 03:00:00                     6.047977   \n",
       "4  2016-01-15 04:00:00                     6.148599   \n",
       "\n",
       "   final.output.concentrate_pb  final.output.concentrate_sol  \\\n",
       "0                     9.889648                      5.507324   \n",
       "1                     9.968944                      5.257781   \n",
       "2                    10.213995                      5.383759   \n",
       "3                     9.977019                      4.858634   \n",
       "4                    10.142511                      4.939416   \n",
       "\n",
       "   final.output.concentrate_au  final.output.recovery  final.output.tail_ag  \\\n",
       "0                    42.192020              70.541216             10.411962   \n",
       "1                    42.701629              69.266198             10.462676   \n",
       "2                    42.657501              68.116445             10.507046   \n",
       "3                    42.689819              68.347543             10.422762   \n",
       "4                    42.774141              66.927016             10.360302   \n",
       "\n",
       "   final.output.tail_pb  final.output.tail_sol  final.output.tail_au  ...  \\\n",
       "0              0.895447              16.904297              2.143149  ...   \n",
       "1              0.927452              16.634514              2.224930  ...   \n",
       "2              0.953716              16.208849              2.257889  ...   \n",
       "3              0.883763              16.532835              2.146849  ...   \n",
       "4              0.792826              16.525686              2.055292  ...   \n",
       "\n",
       "   secondary_cleaner.state.floatbank4_a_air  \\\n",
       "0                                 14.016835   \n",
       "1                                 13.992281   \n",
       "2                                 14.015015   \n",
       "3                                 14.036510   \n",
       "4                                 14.027298   \n",
       "\n",
       "   secondary_cleaner.state.floatbank4_a_level  \\\n",
       "0                                 -502.488007   \n",
       "1                                 -505.503262   \n",
       "2                                 -502.520901   \n",
       "3                                 -500.857308   \n",
       "4                                 -499.838632   \n",
       "\n",
       "   secondary_cleaner.state.floatbank4_b_air  \\\n",
       "0                                 12.099931   \n",
       "1                                 11.950531   \n",
       "2                                 11.912783   \n",
       "3                                 11.999550   \n",
       "4                                 11.953070   \n",
       "\n",
       "   secondary_cleaner.state.floatbank4_b_level  \\\n",
       "0                                 -504.715942   \n",
       "1                                 -501.331529   \n",
       "2                                 -501.133383   \n",
       "3                                 -501.193686   \n",
       "4                                 -501.053894   \n",
       "\n",
       "   secondary_cleaner.state.floatbank5_a_air  \\\n",
       "0                                  9.925633   \n",
       "1                                 10.039245   \n",
       "2                                 10.070913   \n",
       "3                                  9.970366   \n",
       "4                                  9.925709   \n",
       "\n",
       "   secondary_cleaner.state.floatbank5_a_level  \\\n",
       "0                                 -498.310211   \n",
       "1                                 -500.169983   \n",
       "2                                 -500.129135   \n",
       "3                                 -499.201640   \n",
       "4                                 -501.686727   \n",
       "\n",
       "   secondary_cleaner.state.floatbank5_b_air  \\\n",
       "0                                  8.079666   \n",
       "1                                  7.984757   \n",
       "2                                  8.013877   \n",
       "3                                  7.977324   \n",
       "4                                  7.894242   \n",
       "\n",
       "   secondary_cleaner.state.floatbank5_b_level  \\\n",
       "0                                 -500.470978   \n",
       "1                                 -500.582168   \n",
       "2                                 -500.517572   \n",
       "3                                 -500.255908   \n",
       "4                                 -500.356035   \n",
       "\n",
       "   secondary_cleaner.state.floatbank6_a_air  \\\n",
       "0                                 14.151341   \n",
       "1                                 13.998353   \n",
       "2                                 14.028663   \n",
       "3                                 14.005551   \n",
       "4                                 13.996647   \n",
       "\n",
       "   secondary_cleaner.state.floatbank6_a_level  \n",
       "0                                 -605.841980  \n",
       "1                                 -599.787184  \n",
       "2                                 -601.427363  \n",
       "3                                 -599.996129  \n",
       "4                                 -601.496691  \n",
       "\n",
       "[5 rows x 87 columns]"
      ]
     },
     "metadata": {},
     "output_type": "display_data"
    },
    {
     "data": {
      "text/html": [
       "<div>\n",
       "<style scoped>\n",
       "    .dataframe tbody tr th:only-of-type {\n",
       "        vertical-align: middle;\n",
       "    }\n",
       "\n",
       "    .dataframe tbody tr th {\n",
       "        vertical-align: top;\n",
       "    }\n",
       "\n",
       "    .dataframe thead th {\n",
       "        text-align: right;\n",
       "    }\n",
       "</style>\n",
       "<table border=\"1\" class=\"dataframe\">\n",
       "  <thead>\n",
       "    <tr style=\"text-align: right;\">\n",
       "      <th></th>\n",
       "      <th>date</th>\n",
       "      <th>primary_cleaner.input.sulfate</th>\n",
       "      <th>primary_cleaner.input.depressant</th>\n",
       "      <th>primary_cleaner.input.feed_size</th>\n",
       "      <th>primary_cleaner.input.xanthate</th>\n",
       "      <th>primary_cleaner.state.floatbank8_a_air</th>\n",
       "      <th>primary_cleaner.state.floatbank8_a_level</th>\n",
       "      <th>primary_cleaner.state.floatbank8_b_air</th>\n",
       "      <th>primary_cleaner.state.floatbank8_b_level</th>\n",
       "      <th>primary_cleaner.state.floatbank8_c_air</th>\n",
       "      <th>...</th>\n",
       "      <th>secondary_cleaner.state.floatbank4_a_air</th>\n",
       "      <th>secondary_cleaner.state.floatbank4_a_level</th>\n",
       "      <th>secondary_cleaner.state.floatbank4_b_air</th>\n",
       "      <th>secondary_cleaner.state.floatbank4_b_level</th>\n",
       "      <th>secondary_cleaner.state.floatbank5_a_air</th>\n",
       "      <th>secondary_cleaner.state.floatbank5_a_level</th>\n",
       "      <th>secondary_cleaner.state.floatbank5_b_air</th>\n",
       "      <th>secondary_cleaner.state.floatbank5_b_level</th>\n",
       "      <th>secondary_cleaner.state.floatbank6_a_air</th>\n",
       "      <th>secondary_cleaner.state.floatbank6_a_level</th>\n",
       "    </tr>\n",
       "  </thead>\n",
       "  <tbody>\n",
       "    <tr>\n",
       "      <td>0</td>\n",
       "      <td>2016-09-01 00:59:59</td>\n",
       "      <td>210.800909</td>\n",
       "      <td>14.993118</td>\n",
       "      <td>8.080000</td>\n",
       "      <td>1.005021</td>\n",
       "      <td>1398.981301</td>\n",
       "      <td>-500.225577</td>\n",
       "      <td>1399.144926</td>\n",
       "      <td>-499.919735</td>\n",
       "      <td>1400.102998</td>\n",
       "      <td>...</td>\n",
       "      <td>12.023554</td>\n",
       "      <td>-497.795834</td>\n",
       "      <td>8.016656</td>\n",
       "      <td>-501.289139</td>\n",
       "      <td>7.946562</td>\n",
       "      <td>-432.317850</td>\n",
       "      <td>4.872511</td>\n",
       "      <td>-500.037437</td>\n",
       "      <td>26.705889</td>\n",
       "      <td>-499.709414</td>\n",
       "    </tr>\n",
       "    <tr>\n",
       "      <td>1</td>\n",
       "      <td>2016-09-01 01:59:59</td>\n",
       "      <td>215.392455</td>\n",
       "      <td>14.987471</td>\n",
       "      <td>8.080000</td>\n",
       "      <td>0.990469</td>\n",
       "      <td>1398.777912</td>\n",
       "      <td>-500.057435</td>\n",
       "      <td>1398.055362</td>\n",
       "      <td>-499.778182</td>\n",
       "      <td>1396.151033</td>\n",
       "      <td>...</td>\n",
       "      <td>12.058140</td>\n",
       "      <td>-498.695773</td>\n",
       "      <td>8.130979</td>\n",
       "      <td>-499.634209</td>\n",
       "      <td>7.958270</td>\n",
       "      <td>-525.839648</td>\n",
       "      <td>4.878850</td>\n",
       "      <td>-500.162375</td>\n",
       "      <td>25.019940</td>\n",
       "      <td>-499.819438</td>\n",
       "    </tr>\n",
       "    <tr>\n",
       "      <td>2</td>\n",
       "      <td>2016-09-01 02:59:59</td>\n",
       "      <td>215.259946</td>\n",
       "      <td>12.884934</td>\n",
       "      <td>7.786667</td>\n",
       "      <td>0.996043</td>\n",
       "      <td>1398.493666</td>\n",
       "      <td>-500.868360</td>\n",
       "      <td>1398.860436</td>\n",
       "      <td>-499.764529</td>\n",
       "      <td>1398.075709</td>\n",
       "      <td>...</td>\n",
       "      <td>11.962366</td>\n",
       "      <td>-498.767484</td>\n",
       "      <td>8.096893</td>\n",
       "      <td>-500.827423</td>\n",
       "      <td>8.071056</td>\n",
       "      <td>-500.801673</td>\n",
       "      <td>4.905125</td>\n",
       "      <td>-499.828510</td>\n",
       "      <td>24.994862</td>\n",
       "      <td>-500.622559</td>\n",
       "    </tr>\n",
       "    <tr>\n",
       "      <td>3</td>\n",
       "      <td>2016-09-01 03:59:59</td>\n",
       "      <td>215.336236</td>\n",
       "      <td>12.006805</td>\n",
       "      <td>7.640000</td>\n",
       "      <td>0.863514</td>\n",
       "      <td>1399.618111</td>\n",
       "      <td>-498.863574</td>\n",
       "      <td>1397.440120</td>\n",
       "      <td>-499.211024</td>\n",
       "      <td>1400.129303</td>\n",
       "      <td>...</td>\n",
       "      <td>12.033091</td>\n",
       "      <td>-498.350935</td>\n",
       "      <td>8.074946</td>\n",
       "      <td>-499.474407</td>\n",
       "      <td>7.897085</td>\n",
       "      <td>-500.868509</td>\n",
       "      <td>4.931400</td>\n",
       "      <td>-499.963623</td>\n",
       "      <td>24.948919</td>\n",
       "      <td>-498.709987</td>\n",
       "    </tr>\n",
       "    <tr>\n",
       "      <td>4</td>\n",
       "      <td>2016-09-01 04:59:59</td>\n",
       "      <td>199.099327</td>\n",
       "      <td>10.682530</td>\n",
       "      <td>7.530000</td>\n",
       "      <td>0.805575</td>\n",
       "      <td>1401.268123</td>\n",
       "      <td>-500.808305</td>\n",
       "      <td>1398.128818</td>\n",
       "      <td>-499.504543</td>\n",
       "      <td>1402.172226</td>\n",
       "      <td>...</td>\n",
       "      <td>12.025367</td>\n",
       "      <td>-500.786497</td>\n",
       "      <td>8.054678</td>\n",
       "      <td>-500.397500</td>\n",
       "      <td>8.107890</td>\n",
       "      <td>-509.526725</td>\n",
       "      <td>4.957674</td>\n",
       "      <td>-500.360026</td>\n",
       "      <td>25.003331</td>\n",
       "      <td>-500.856333</td>\n",
       "    </tr>\n",
       "  </tbody>\n",
       "</table>\n",
       "<p>5 rows × 53 columns</p>\n",
       "</div>"
      ],
      "text/plain": [
       "                  date  primary_cleaner.input.sulfate  \\\n",
       "0  2016-09-01 00:59:59                     210.800909   \n",
       "1  2016-09-01 01:59:59                     215.392455   \n",
       "2  2016-09-01 02:59:59                     215.259946   \n",
       "3  2016-09-01 03:59:59                     215.336236   \n",
       "4  2016-09-01 04:59:59                     199.099327   \n",
       "\n",
       "   primary_cleaner.input.depressant  primary_cleaner.input.feed_size  \\\n",
       "0                         14.993118                         8.080000   \n",
       "1                         14.987471                         8.080000   \n",
       "2                         12.884934                         7.786667   \n",
       "3                         12.006805                         7.640000   \n",
       "4                         10.682530                         7.530000   \n",
       "\n",
       "   primary_cleaner.input.xanthate  primary_cleaner.state.floatbank8_a_air  \\\n",
       "0                        1.005021                             1398.981301   \n",
       "1                        0.990469                             1398.777912   \n",
       "2                        0.996043                             1398.493666   \n",
       "3                        0.863514                             1399.618111   \n",
       "4                        0.805575                             1401.268123   \n",
       "\n",
       "   primary_cleaner.state.floatbank8_a_level  \\\n",
       "0                               -500.225577   \n",
       "1                               -500.057435   \n",
       "2                               -500.868360   \n",
       "3                               -498.863574   \n",
       "4                               -500.808305   \n",
       "\n",
       "   primary_cleaner.state.floatbank8_b_air  \\\n",
       "0                             1399.144926   \n",
       "1                             1398.055362   \n",
       "2                             1398.860436   \n",
       "3                             1397.440120   \n",
       "4                             1398.128818   \n",
       "\n",
       "   primary_cleaner.state.floatbank8_b_level  \\\n",
       "0                               -499.919735   \n",
       "1                               -499.778182   \n",
       "2                               -499.764529   \n",
       "3                               -499.211024   \n",
       "4                               -499.504543   \n",
       "\n",
       "   primary_cleaner.state.floatbank8_c_air  ...  \\\n",
       "0                             1400.102998  ...   \n",
       "1                             1396.151033  ...   \n",
       "2                             1398.075709  ...   \n",
       "3                             1400.129303  ...   \n",
       "4                             1402.172226  ...   \n",
       "\n",
       "   secondary_cleaner.state.floatbank4_a_air  \\\n",
       "0                                 12.023554   \n",
       "1                                 12.058140   \n",
       "2                                 11.962366   \n",
       "3                                 12.033091   \n",
       "4                                 12.025367   \n",
       "\n",
       "   secondary_cleaner.state.floatbank4_a_level  \\\n",
       "0                                 -497.795834   \n",
       "1                                 -498.695773   \n",
       "2                                 -498.767484   \n",
       "3                                 -498.350935   \n",
       "4                                 -500.786497   \n",
       "\n",
       "   secondary_cleaner.state.floatbank4_b_air  \\\n",
       "0                                  8.016656   \n",
       "1                                  8.130979   \n",
       "2                                  8.096893   \n",
       "3                                  8.074946   \n",
       "4                                  8.054678   \n",
       "\n",
       "   secondary_cleaner.state.floatbank4_b_level  \\\n",
       "0                                 -501.289139   \n",
       "1                                 -499.634209   \n",
       "2                                 -500.827423   \n",
       "3                                 -499.474407   \n",
       "4                                 -500.397500   \n",
       "\n",
       "   secondary_cleaner.state.floatbank5_a_air  \\\n",
       "0                                  7.946562   \n",
       "1                                  7.958270   \n",
       "2                                  8.071056   \n",
       "3                                  7.897085   \n",
       "4                                  8.107890   \n",
       "\n",
       "   secondary_cleaner.state.floatbank5_a_level  \\\n",
       "0                                 -432.317850   \n",
       "1                                 -525.839648   \n",
       "2                                 -500.801673   \n",
       "3                                 -500.868509   \n",
       "4                                 -509.526725   \n",
       "\n",
       "   secondary_cleaner.state.floatbank5_b_air  \\\n",
       "0                                  4.872511   \n",
       "1                                  4.878850   \n",
       "2                                  4.905125   \n",
       "3                                  4.931400   \n",
       "4                                  4.957674   \n",
       "\n",
       "   secondary_cleaner.state.floatbank5_b_level  \\\n",
       "0                                 -500.037437   \n",
       "1                                 -500.162375   \n",
       "2                                 -499.828510   \n",
       "3                                 -499.963623   \n",
       "4                                 -500.360026   \n",
       "\n",
       "   secondary_cleaner.state.floatbank6_a_air  \\\n",
       "0                                 26.705889   \n",
       "1                                 25.019940   \n",
       "2                                 24.994862   \n",
       "3                                 24.948919   \n",
       "4                                 25.003331   \n",
       "\n",
       "   secondary_cleaner.state.floatbank6_a_level  \n",
       "0                                 -499.709414  \n",
       "1                                 -499.819438  \n",
       "2                                 -500.622559  \n",
       "3                                 -498.709987  \n",
       "4                                 -500.856333  \n",
       "\n",
       "[5 rows x 53 columns]"
      ]
     },
     "metadata": {},
     "output_type": "display_data"
    },
    {
     "data": {
      "text/html": [
       "<div>\n",
       "<style scoped>\n",
       "    .dataframe tbody tr th:only-of-type {\n",
       "        vertical-align: middle;\n",
       "    }\n",
       "\n",
       "    .dataframe tbody tr th {\n",
       "        vertical-align: top;\n",
       "    }\n",
       "\n",
       "    .dataframe thead th {\n",
       "        text-align: right;\n",
       "    }\n",
       "</style>\n",
       "<table border=\"1\" class=\"dataframe\">\n",
       "  <thead>\n",
       "    <tr style=\"text-align: right;\">\n",
       "      <th></th>\n",
       "      <th>date</th>\n",
       "      <th>final.output.concentrate_ag</th>\n",
       "      <th>final.output.concentrate_pb</th>\n",
       "      <th>final.output.concentrate_sol</th>\n",
       "      <th>final.output.concentrate_au</th>\n",
       "      <th>final.output.recovery</th>\n",
       "      <th>final.output.tail_ag</th>\n",
       "      <th>final.output.tail_pb</th>\n",
       "      <th>final.output.tail_sol</th>\n",
       "      <th>final.output.tail_au</th>\n",
       "      <th>...</th>\n",
       "      <th>secondary_cleaner.state.floatbank4_a_air</th>\n",
       "      <th>secondary_cleaner.state.floatbank4_a_level</th>\n",
       "      <th>secondary_cleaner.state.floatbank4_b_air</th>\n",
       "      <th>secondary_cleaner.state.floatbank4_b_level</th>\n",
       "      <th>secondary_cleaner.state.floatbank5_a_air</th>\n",
       "      <th>secondary_cleaner.state.floatbank5_a_level</th>\n",
       "      <th>secondary_cleaner.state.floatbank5_b_air</th>\n",
       "      <th>secondary_cleaner.state.floatbank5_b_level</th>\n",
       "      <th>secondary_cleaner.state.floatbank6_a_air</th>\n",
       "      <th>secondary_cleaner.state.floatbank6_a_level</th>\n",
       "    </tr>\n",
       "  </thead>\n",
       "  <tbody>\n",
       "    <tr>\n",
       "      <td>0</td>\n",
       "      <td>2016-01-15 00:00:00</td>\n",
       "      <td>6.055403</td>\n",
       "      <td>9.889648</td>\n",
       "      <td>5.507324</td>\n",
       "      <td>42.192020</td>\n",
       "      <td>70.541216</td>\n",
       "      <td>10.411962</td>\n",
       "      <td>0.895447</td>\n",
       "      <td>16.904297</td>\n",
       "      <td>2.143149</td>\n",
       "      <td>...</td>\n",
       "      <td>14.016835</td>\n",
       "      <td>-502.488007</td>\n",
       "      <td>12.099931</td>\n",
       "      <td>-504.715942</td>\n",
       "      <td>9.925633</td>\n",
       "      <td>-498.310211</td>\n",
       "      <td>8.079666</td>\n",
       "      <td>-500.470978</td>\n",
       "      <td>14.151341</td>\n",
       "      <td>-605.841980</td>\n",
       "    </tr>\n",
       "    <tr>\n",
       "      <td>1</td>\n",
       "      <td>2016-01-15 01:00:00</td>\n",
       "      <td>6.029369</td>\n",
       "      <td>9.968944</td>\n",
       "      <td>5.257781</td>\n",
       "      <td>42.701629</td>\n",
       "      <td>69.266198</td>\n",
       "      <td>10.462676</td>\n",
       "      <td>0.927452</td>\n",
       "      <td>16.634514</td>\n",
       "      <td>2.224930</td>\n",
       "      <td>...</td>\n",
       "      <td>13.992281</td>\n",
       "      <td>-505.503262</td>\n",
       "      <td>11.950531</td>\n",
       "      <td>-501.331529</td>\n",
       "      <td>10.039245</td>\n",
       "      <td>-500.169983</td>\n",
       "      <td>7.984757</td>\n",
       "      <td>-500.582168</td>\n",
       "      <td>13.998353</td>\n",
       "      <td>-599.787184</td>\n",
       "    </tr>\n",
       "    <tr>\n",
       "      <td>2</td>\n",
       "      <td>2016-01-15 02:00:00</td>\n",
       "      <td>6.055926</td>\n",
       "      <td>10.213995</td>\n",
       "      <td>5.383759</td>\n",
       "      <td>42.657501</td>\n",
       "      <td>68.116445</td>\n",
       "      <td>10.507046</td>\n",
       "      <td>0.953716</td>\n",
       "      <td>16.208849</td>\n",
       "      <td>2.257889</td>\n",
       "      <td>...</td>\n",
       "      <td>14.015015</td>\n",
       "      <td>-502.520901</td>\n",
       "      <td>11.912783</td>\n",
       "      <td>-501.133383</td>\n",
       "      <td>10.070913</td>\n",
       "      <td>-500.129135</td>\n",
       "      <td>8.013877</td>\n",
       "      <td>-500.517572</td>\n",
       "      <td>14.028663</td>\n",
       "      <td>-601.427363</td>\n",
       "    </tr>\n",
       "    <tr>\n",
       "      <td>3</td>\n",
       "      <td>2016-01-15 03:00:00</td>\n",
       "      <td>6.047977</td>\n",
       "      <td>9.977019</td>\n",
       "      <td>4.858634</td>\n",
       "      <td>42.689819</td>\n",
       "      <td>68.347543</td>\n",
       "      <td>10.422762</td>\n",
       "      <td>0.883763</td>\n",
       "      <td>16.532835</td>\n",
       "      <td>2.146849</td>\n",
       "      <td>...</td>\n",
       "      <td>14.036510</td>\n",
       "      <td>-500.857308</td>\n",
       "      <td>11.999550</td>\n",
       "      <td>-501.193686</td>\n",
       "      <td>9.970366</td>\n",
       "      <td>-499.201640</td>\n",
       "      <td>7.977324</td>\n",
       "      <td>-500.255908</td>\n",
       "      <td>14.005551</td>\n",
       "      <td>-599.996129</td>\n",
       "    </tr>\n",
       "    <tr>\n",
       "      <td>4</td>\n",
       "      <td>2016-01-15 04:00:00</td>\n",
       "      <td>6.148599</td>\n",
       "      <td>10.142511</td>\n",
       "      <td>4.939416</td>\n",
       "      <td>42.774141</td>\n",
       "      <td>66.927016</td>\n",
       "      <td>10.360302</td>\n",
       "      <td>0.792826</td>\n",
       "      <td>16.525686</td>\n",
       "      <td>2.055292</td>\n",
       "      <td>...</td>\n",
       "      <td>14.027298</td>\n",
       "      <td>-499.838632</td>\n",
       "      <td>11.953070</td>\n",
       "      <td>-501.053894</td>\n",
       "      <td>9.925709</td>\n",
       "      <td>-501.686727</td>\n",
       "      <td>7.894242</td>\n",
       "      <td>-500.356035</td>\n",
       "      <td>13.996647</td>\n",
       "      <td>-601.496691</td>\n",
       "    </tr>\n",
       "  </tbody>\n",
       "</table>\n",
       "<p>5 rows × 87 columns</p>\n",
       "</div>"
      ],
      "text/plain": [
       "                  date  final.output.concentrate_ag  \\\n",
       "0  2016-01-15 00:00:00                     6.055403   \n",
       "1  2016-01-15 01:00:00                     6.029369   \n",
       "2  2016-01-15 02:00:00                     6.055926   \n",
       "3  2016-01-15 03:00:00                     6.047977   \n",
       "4  2016-01-15 04:00:00                     6.148599   \n",
       "\n",
       "   final.output.concentrate_pb  final.output.concentrate_sol  \\\n",
       "0                     9.889648                      5.507324   \n",
       "1                     9.968944                      5.257781   \n",
       "2                    10.213995                      5.383759   \n",
       "3                     9.977019                      4.858634   \n",
       "4                    10.142511                      4.939416   \n",
       "\n",
       "   final.output.concentrate_au  final.output.recovery  final.output.tail_ag  \\\n",
       "0                    42.192020              70.541216             10.411962   \n",
       "1                    42.701629              69.266198             10.462676   \n",
       "2                    42.657501              68.116445             10.507046   \n",
       "3                    42.689819              68.347543             10.422762   \n",
       "4                    42.774141              66.927016             10.360302   \n",
       "\n",
       "   final.output.tail_pb  final.output.tail_sol  final.output.tail_au  ...  \\\n",
       "0              0.895447              16.904297              2.143149  ...   \n",
       "1              0.927452              16.634514              2.224930  ...   \n",
       "2              0.953716              16.208849              2.257889  ...   \n",
       "3              0.883763              16.532835              2.146849  ...   \n",
       "4              0.792826              16.525686              2.055292  ...   \n",
       "\n",
       "   secondary_cleaner.state.floatbank4_a_air  \\\n",
       "0                                 14.016835   \n",
       "1                                 13.992281   \n",
       "2                                 14.015015   \n",
       "3                                 14.036510   \n",
       "4                                 14.027298   \n",
       "\n",
       "   secondary_cleaner.state.floatbank4_a_level  \\\n",
       "0                                 -502.488007   \n",
       "1                                 -505.503262   \n",
       "2                                 -502.520901   \n",
       "3                                 -500.857308   \n",
       "4                                 -499.838632   \n",
       "\n",
       "   secondary_cleaner.state.floatbank4_b_air  \\\n",
       "0                                 12.099931   \n",
       "1                                 11.950531   \n",
       "2                                 11.912783   \n",
       "3                                 11.999550   \n",
       "4                                 11.953070   \n",
       "\n",
       "   secondary_cleaner.state.floatbank4_b_level  \\\n",
       "0                                 -504.715942   \n",
       "1                                 -501.331529   \n",
       "2                                 -501.133383   \n",
       "3                                 -501.193686   \n",
       "4                                 -501.053894   \n",
       "\n",
       "   secondary_cleaner.state.floatbank5_a_air  \\\n",
       "0                                  9.925633   \n",
       "1                                 10.039245   \n",
       "2                                 10.070913   \n",
       "3                                  9.970366   \n",
       "4                                  9.925709   \n",
       "\n",
       "   secondary_cleaner.state.floatbank5_a_level  \\\n",
       "0                                 -498.310211   \n",
       "1                                 -500.169983   \n",
       "2                                 -500.129135   \n",
       "3                                 -499.201640   \n",
       "4                                 -501.686727   \n",
       "\n",
       "   secondary_cleaner.state.floatbank5_b_air  \\\n",
       "0                                  8.079666   \n",
       "1                                  7.984757   \n",
       "2                                  8.013877   \n",
       "3                                  7.977324   \n",
       "4                                  7.894242   \n",
       "\n",
       "   secondary_cleaner.state.floatbank5_b_level  \\\n",
       "0                                 -500.470978   \n",
       "1                                 -500.582168   \n",
       "2                                 -500.517572   \n",
       "3                                 -500.255908   \n",
       "4                                 -500.356035   \n",
       "\n",
       "   secondary_cleaner.state.floatbank6_a_air  \\\n",
       "0                                 14.151341   \n",
       "1                                 13.998353   \n",
       "2                                 14.028663   \n",
       "3                                 14.005551   \n",
       "4                                 13.996647   \n",
       "\n",
       "   secondary_cleaner.state.floatbank6_a_level  \n",
       "0                                 -605.841980  \n",
       "1                                 -599.787184  \n",
       "2                                 -601.427363  \n",
       "3                                 -599.996129  \n",
       "4                                 -601.496691  \n",
       "\n",
       "[5 rows x 87 columns]"
      ]
     },
     "metadata": {},
     "output_type": "display_data"
    }
   ],
   "source": [
    "display(train.head())\n",
    "display(test.head())\n",
    "display(full.head())"
   ]
  },
  {
   "cell_type": "code",
   "execution_count": 7,
   "metadata": {},
   "outputs": [
    {
     "name": "stdout",
     "output_type": "stream",
     "text": [
      "<class 'pandas.core.frame.DataFrame'>\n",
      "RangeIndex: 16860 entries, 0 to 16859\n",
      "Data columns (total 87 columns):\n",
      "date                                                  16860 non-null object\n",
      "final.output.concentrate_ag                           16788 non-null float64\n",
      "final.output.concentrate_pb                           16788 non-null float64\n",
      "final.output.concentrate_sol                          16490 non-null float64\n",
      "final.output.concentrate_au                           16789 non-null float64\n",
      "final.output.recovery                                 15339 non-null float64\n",
      "final.output.tail_ag                                  16794 non-null float64\n",
      "final.output.tail_pb                                  16677 non-null float64\n",
      "final.output.tail_sol                                 16715 non-null float64\n",
      "final.output.tail_au                                  16794 non-null float64\n",
      "primary_cleaner.input.sulfate                         15553 non-null float64\n",
      "primary_cleaner.input.depressant                      15598 non-null float64\n",
      "primary_cleaner.input.feed_size                       16860 non-null float64\n",
      "primary_cleaner.input.xanthate                        15875 non-null float64\n",
      "primary_cleaner.output.concentrate_ag                 16778 non-null float64\n",
      "primary_cleaner.output.concentrate_pb                 16502 non-null float64\n",
      "primary_cleaner.output.concentrate_sol                16224 non-null float64\n",
      "primary_cleaner.output.concentrate_au                 16778 non-null float64\n",
      "primary_cleaner.output.tail_ag                        16777 non-null float64\n",
      "primary_cleaner.output.tail_pb                        16761 non-null float64\n",
      "primary_cleaner.output.tail_sol                       16579 non-null float64\n",
      "primary_cleaner.output.tail_au                        16777 non-null float64\n",
      "primary_cleaner.state.floatbank8_a_air                16820 non-null float64\n",
      "primary_cleaner.state.floatbank8_a_level              16827 non-null float64\n",
      "primary_cleaner.state.floatbank8_b_air                16820 non-null float64\n",
      "primary_cleaner.state.floatbank8_b_level              16833 non-null float64\n",
      "primary_cleaner.state.floatbank8_c_air                16822 non-null float64\n",
      "primary_cleaner.state.floatbank8_c_level              16833 non-null float64\n",
      "primary_cleaner.state.floatbank8_d_air                16821 non-null float64\n",
      "primary_cleaner.state.floatbank8_d_level              16833 non-null float64\n",
      "rougher.calculation.sulfate_to_au_concentrate         16833 non-null float64\n",
      "rougher.calculation.floatbank10_sulfate_to_au_feed    16833 non-null float64\n",
      "rougher.calculation.floatbank11_sulfate_to_au_feed    16833 non-null float64\n",
      "rougher.calculation.au_pb_ratio                       15618 non-null float64\n",
      "rougher.input.feed_ag                                 16778 non-null float64\n",
      "rougher.input.feed_pb                                 16632 non-null float64\n",
      "rougher.input.feed_rate                               16347 non-null float64\n",
      "rougher.input.feed_size                               16443 non-null float64\n",
      "rougher.input.feed_sol                                16568 non-null float64\n",
      "rougher.input.feed_au                                 16777 non-null float64\n",
      "rougher.input.floatbank10_sulfate                     15816 non-null float64\n",
      "rougher.input.floatbank10_xanthate                    16514 non-null float64\n",
      "rougher.input.floatbank11_sulfate                     16237 non-null float64\n",
      "rougher.input.floatbank11_xanthate                    14956 non-null float64\n",
      "rougher.output.concentrate_ag                         16778 non-null float64\n",
      "rougher.output.concentrate_pb                         16778 non-null float64\n",
      "rougher.output.concentrate_sol                        16698 non-null float64\n",
      "rougher.output.concentrate_au                         16778 non-null float64\n",
      "rougher.output.recovery                               14287 non-null float64\n",
      "rougher.output.tail_ag                                14610 non-null float64\n",
      "rougher.output.tail_pb                                16778 non-null float64\n",
      "rougher.output.tail_sol                               14611 non-null float64\n",
      "rougher.output.tail_au                                14611 non-null float64\n",
      "rougher.state.floatbank10_a_air                       16807 non-null float64\n",
      "rougher.state.floatbank10_a_level                     16807 non-null float64\n",
      "rougher.state.floatbank10_b_air                       16807 non-null float64\n",
      "rougher.state.floatbank10_b_level                     16807 non-null float64\n",
      "rougher.state.floatbank10_c_air                       16807 non-null float64\n",
      "rougher.state.floatbank10_c_level                     16814 non-null float64\n",
      "rougher.state.floatbank10_d_air                       16802 non-null float64\n",
      "rougher.state.floatbank10_d_level                     16809 non-null float64\n",
      "rougher.state.floatbank10_e_air                       16257 non-null float64\n",
      "rougher.state.floatbank10_e_level                     16809 non-null float64\n",
      "rougher.state.floatbank10_f_air                       16802 non-null float64\n",
      "rougher.state.floatbank10_f_level                     16802 non-null float64\n",
      "secondary_cleaner.output.tail_ag                      16776 non-null float64\n",
      "secondary_cleaner.output.tail_pb                      16764 non-null float64\n",
      "secondary_cleaner.output.tail_sol                     14874 non-null float64\n",
      "secondary_cleaner.output.tail_au                      16778 non-null float64\n",
      "secondary_cleaner.state.floatbank2_a_air              16497 non-null float64\n",
      "secondary_cleaner.state.floatbank2_a_level            16751 non-null float64\n",
      "secondary_cleaner.state.floatbank2_b_air              16705 non-null float64\n",
      "secondary_cleaner.state.floatbank2_b_level            16748 non-null float64\n",
      "secondary_cleaner.state.floatbank3_a_air              16763 non-null float64\n",
      "secondary_cleaner.state.floatbank3_a_level            16747 non-null float64\n",
      "secondary_cleaner.state.floatbank3_b_air              16752 non-null float64\n",
      "secondary_cleaner.state.floatbank3_b_level            16750 non-null float64\n",
      "secondary_cleaner.state.floatbank4_a_air              16731 non-null float64\n",
      "secondary_cleaner.state.floatbank4_a_level            16747 non-null float64\n",
      "secondary_cleaner.state.floatbank4_b_air              16768 non-null float64\n",
      "secondary_cleaner.state.floatbank4_b_level            16767 non-null float64\n",
      "secondary_cleaner.state.floatbank5_a_air              16775 non-null float64\n",
      "secondary_cleaner.state.floatbank5_a_level            16775 non-null float64\n",
      "secondary_cleaner.state.floatbank5_b_air              16775 non-null float64\n",
      "secondary_cleaner.state.floatbank5_b_level            16776 non-null float64\n",
      "secondary_cleaner.state.floatbank6_a_air              16757 non-null float64\n",
      "secondary_cleaner.state.floatbank6_a_level            16775 non-null float64\n",
      "dtypes: float64(86), object(1)\n",
      "memory usage: 11.2+ MB\n"
     ]
    },
    {
     "data": {
      "text/plain": [
       "None"
      ]
     },
     "metadata": {},
     "output_type": "display_data"
    },
    {
     "name": "stdout",
     "output_type": "stream",
     "text": [
      "<class 'pandas.core.frame.DataFrame'>\n",
      "RangeIndex: 5856 entries, 0 to 5855\n",
      "Data columns (total 53 columns):\n",
      "date                                          5856 non-null object\n",
      "primary_cleaner.input.sulfate                 5554 non-null float64\n",
      "primary_cleaner.input.depressant              5572 non-null float64\n",
      "primary_cleaner.input.feed_size               5856 non-null float64\n",
      "primary_cleaner.input.xanthate                5690 non-null float64\n",
      "primary_cleaner.state.floatbank8_a_air        5840 non-null float64\n",
      "primary_cleaner.state.floatbank8_a_level      5840 non-null float64\n",
      "primary_cleaner.state.floatbank8_b_air        5840 non-null float64\n",
      "primary_cleaner.state.floatbank8_b_level      5840 non-null float64\n",
      "primary_cleaner.state.floatbank8_c_air        5840 non-null float64\n",
      "primary_cleaner.state.floatbank8_c_level      5840 non-null float64\n",
      "primary_cleaner.state.floatbank8_d_air        5840 non-null float64\n",
      "primary_cleaner.state.floatbank8_d_level      5840 non-null float64\n",
      "rougher.input.feed_ag                         5840 non-null float64\n",
      "rougher.input.feed_pb                         5840 non-null float64\n",
      "rougher.input.feed_rate                       5816 non-null float64\n",
      "rougher.input.feed_size                       5834 non-null float64\n",
      "rougher.input.feed_sol                        5789 non-null float64\n",
      "rougher.input.feed_au                         5840 non-null float64\n",
      "rougher.input.floatbank10_sulfate             5599 non-null float64\n",
      "rougher.input.floatbank10_xanthate            5733 non-null float64\n",
      "rougher.input.floatbank11_sulfate             5801 non-null float64\n",
      "rougher.input.floatbank11_xanthate            5503 non-null float64\n",
      "rougher.state.floatbank10_a_air               5839 non-null float64\n",
      "rougher.state.floatbank10_a_level             5840 non-null float64\n",
      "rougher.state.floatbank10_b_air               5839 non-null float64\n",
      "rougher.state.floatbank10_b_level             5840 non-null float64\n",
      "rougher.state.floatbank10_c_air               5839 non-null float64\n",
      "rougher.state.floatbank10_c_level             5840 non-null float64\n",
      "rougher.state.floatbank10_d_air               5839 non-null float64\n",
      "rougher.state.floatbank10_d_level             5840 non-null float64\n",
      "rougher.state.floatbank10_e_air               5839 non-null float64\n",
      "rougher.state.floatbank10_e_level             5840 non-null float64\n",
      "rougher.state.floatbank10_f_air               5839 non-null float64\n",
      "rougher.state.floatbank10_f_level             5840 non-null float64\n",
      "secondary_cleaner.state.floatbank2_a_air      5836 non-null float64\n",
      "secondary_cleaner.state.floatbank2_a_level    5840 non-null float64\n",
      "secondary_cleaner.state.floatbank2_b_air      5833 non-null float64\n",
      "secondary_cleaner.state.floatbank2_b_level    5840 non-null float64\n",
      "secondary_cleaner.state.floatbank3_a_air      5822 non-null float64\n",
      "secondary_cleaner.state.floatbank3_a_level    5840 non-null float64\n",
      "secondary_cleaner.state.floatbank3_b_air      5840 non-null float64\n",
      "secondary_cleaner.state.floatbank3_b_level    5840 non-null float64\n",
      "secondary_cleaner.state.floatbank4_a_air      5840 non-null float64\n",
      "secondary_cleaner.state.floatbank4_a_level    5840 non-null float64\n",
      "secondary_cleaner.state.floatbank4_b_air      5840 non-null float64\n",
      "secondary_cleaner.state.floatbank4_b_level    5840 non-null float64\n",
      "secondary_cleaner.state.floatbank5_a_air      5840 non-null float64\n",
      "secondary_cleaner.state.floatbank5_a_level    5840 non-null float64\n",
      "secondary_cleaner.state.floatbank5_b_air      5840 non-null float64\n",
      "secondary_cleaner.state.floatbank5_b_level    5840 non-null float64\n",
      "secondary_cleaner.state.floatbank6_a_air      5840 non-null float64\n",
      "secondary_cleaner.state.floatbank6_a_level    5840 non-null float64\n",
      "dtypes: float64(52), object(1)\n",
      "memory usage: 2.4+ MB\n"
     ]
    },
    {
     "data": {
      "text/plain": [
       "None"
      ]
     },
     "metadata": {},
     "output_type": "display_data"
    },
    {
     "name": "stdout",
     "output_type": "stream",
     "text": [
      "<class 'pandas.core.frame.DataFrame'>\n",
      "RangeIndex: 22716 entries, 0 to 22715\n",
      "Data columns (total 87 columns):\n",
      "date                                                  22716 non-null object\n",
      "final.output.concentrate_ag                           22627 non-null float64\n",
      "final.output.concentrate_pb                           22629 non-null float64\n",
      "final.output.concentrate_sol                          22331 non-null float64\n",
      "final.output.concentrate_au                           22630 non-null float64\n",
      "final.output.recovery                                 20753 non-null float64\n",
      "final.output.tail_ag                                  22633 non-null float64\n",
      "final.output.tail_pb                                  22516 non-null float64\n",
      "final.output.tail_sol                                 22445 non-null float64\n",
      "final.output.tail_au                                  22635 non-null float64\n",
      "primary_cleaner.input.sulfate                         21107 non-null float64\n",
      "primary_cleaner.input.depressant                      21170 non-null float64\n",
      "primary_cleaner.input.feed_size                       22716 non-null float64\n",
      "primary_cleaner.input.xanthate                        21565 non-null float64\n",
      "primary_cleaner.output.concentrate_ag                 22618 non-null float64\n",
      "primary_cleaner.output.concentrate_pb                 22268 non-null float64\n",
      "primary_cleaner.output.concentrate_sol                21918 non-null float64\n",
      "primary_cleaner.output.concentrate_au                 22618 non-null float64\n",
      "primary_cleaner.output.tail_ag                        22614 non-null float64\n",
      "primary_cleaner.output.tail_pb                        22594 non-null float64\n",
      "primary_cleaner.output.tail_sol                       22365 non-null float64\n",
      "primary_cleaner.output.tail_au                        22617 non-null float64\n",
      "primary_cleaner.state.floatbank8_a_air                22660 non-null float64\n",
      "primary_cleaner.state.floatbank8_a_level              22667 non-null float64\n",
      "primary_cleaner.state.floatbank8_b_air                22660 non-null float64\n",
      "primary_cleaner.state.floatbank8_b_level              22673 non-null float64\n",
      "primary_cleaner.state.floatbank8_c_air                22662 non-null float64\n",
      "primary_cleaner.state.floatbank8_c_level              22673 non-null float64\n",
      "primary_cleaner.state.floatbank8_d_air                22661 non-null float64\n",
      "primary_cleaner.state.floatbank8_d_level              22673 non-null float64\n",
      "rougher.calculation.sulfate_to_au_concentrate         22672 non-null float64\n",
      "rougher.calculation.floatbank10_sulfate_to_au_feed    22672 non-null float64\n",
      "rougher.calculation.floatbank11_sulfate_to_au_feed    22672 non-null float64\n",
      "rougher.calculation.au_pb_ratio                       21089 non-null float64\n",
      "rougher.input.feed_ag                                 22618 non-null float64\n",
      "rougher.input.feed_pb                                 22472 non-null float64\n",
      "rougher.input.feed_rate                               22163 non-null float64\n",
      "rougher.input.feed_size                               22277 non-null float64\n",
      "rougher.input.feed_sol                                22357 non-null float64\n",
      "rougher.input.feed_au                                 22617 non-null float64\n",
      "rougher.input.floatbank10_sulfate                     21415 non-null float64\n",
      "rougher.input.floatbank10_xanthate                    22247 non-null float64\n",
      "rougher.input.floatbank11_sulfate                     22038 non-null float64\n",
      "rougher.input.floatbank11_xanthate                    20459 non-null float64\n",
      "rougher.output.concentrate_ag                         22618 non-null float64\n",
      "rougher.output.concentrate_pb                         22618 non-null float64\n",
      "rougher.output.concentrate_sol                        22526 non-null float64\n",
      "rougher.output.concentrate_au                         22618 non-null float64\n",
      "rougher.output.recovery                               19597 non-null float64\n",
      "rougher.output.tail_ag                                19979 non-null float64\n",
      "rougher.output.tail_pb                                22618 non-null float64\n",
      "rougher.output.tail_sol                               19980 non-null float64\n",
      "rougher.output.tail_au                                19980 non-null float64\n",
      "rougher.state.floatbank10_a_air                       22646 non-null float64\n",
      "rougher.state.floatbank10_a_level                     22647 non-null float64\n",
      "rougher.state.floatbank10_b_air                       22646 non-null float64\n",
      "rougher.state.floatbank10_b_level                     22647 non-null float64\n",
      "rougher.state.floatbank10_c_air                       22646 non-null float64\n",
      "rougher.state.floatbank10_c_level                     22654 non-null float64\n",
      "rougher.state.floatbank10_d_air                       22641 non-null float64\n",
      "rougher.state.floatbank10_d_level                     22649 non-null float64\n",
      "rougher.state.floatbank10_e_air                       22096 non-null float64\n",
      "rougher.state.floatbank10_e_level                     22649 non-null float64\n",
      "rougher.state.floatbank10_f_air                       22641 non-null float64\n",
      "rougher.state.floatbank10_f_level                     22642 non-null float64\n",
      "secondary_cleaner.output.tail_ag                      22616 non-null float64\n",
      "secondary_cleaner.output.tail_pb                      22600 non-null float64\n",
      "secondary_cleaner.output.tail_sol                     20501 non-null float64\n",
      "secondary_cleaner.output.tail_au                      22618 non-null float64\n",
      "secondary_cleaner.state.floatbank2_a_air              22333 non-null float64\n",
      "secondary_cleaner.state.floatbank2_a_level            22591 non-null float64\n",
      "secondary_cleaner.state.floatbank2_b_air              22538 non-null float64\n",
      "secondary_cleaner.state.floatbank2_b_level            22588 non-null float64\n",
      "secondary_cleaner.state.floatbank3_a_air              22585 non-null float64\n",
      "secondary_cleaner.state.floatbank3_a_level            22587 non-null float64\n",
      "secondary_cleaner.state.floatbank3_b_air              22592 non-null float64\n",
      "secondary_cleaner.state.floatbank3_b_level            22590 non-null float64\n",
      "secondary_cleaner.state.floatbank4_a_air              22571 non-null float64\n",
      "secondary_cleaner.state.floatbank4_a_level            22587 non-null float64\n",
      "secondary_cleaner.state.floatbank4_b_air              22608 non-null float64\n",
      "secondary_cleaner.state.floatbank4_b_level            22607 non-null float64\n",
      "secondary_cleaner.state.floatbank5_a_air              22615 non-null float64\n",
      "secondary_cleaner.state.floatbank5_a_level            22615 non-null float64\n",
      "secondary_cleaner.state.floatbank5_b_air              22615 non-null float64\n",
      "secondary_cleaner.state.floatbank5_b_level            22616 non-null float64\n",
      "secondary_cleaner.state.floatbank6_a_air              22597 non-null float64\n",
      "secondary_cleaner.state.floatbank6_a_level            22615 non-null float64\n",
      "dtypes: float64(86), object(1)\n",
      "memory usage: 15.1+ MB\n"
     ]
    },
    {
     "data": {
      "text/plain": [
       "None"
      ]
     },
     "metadata": {},
     "output_type": "display_data"
    }
   ],
   "source": [
    "#Изучим наши выборки\n",
    "display(train.info())\n",
    "display(test.info())\n",
    "display(full.info())"
   ]
  },
  {
   "cell_type": "code",
   "execution_count": 8,
   "metadata": {},
   "outputs": [
    {
     "name": "stdout",
     "output_type": "stream",
     "text": [
      "===========Обучающая выборка============\n"
     ]
    },
    {
     "data": {
      "text/html": [
       "<div>\n",
       "<style scoped>\n",
       "    .dataframe tbody tr th:only-of-type {\n",
       "        vertical-align: middle;\n",
       "    }\n",
       "\n",
       "    .dataframe tbody tr th {\n",
       "        vertical-align: top;\n",
       "    }\n",
       "\n",
       "    .dataframe thead th {\n",
       "        text-align: right;\n",
       "    }\n",
       "</style>\n",
       "<table border=\"1\" class=\"dataframe\">\n",
       "  <thead>\n",
       "    <tr style=\"text-align: right;\">\n",
       "      <th></th>\n",
       "      <th>final.output.concentrate_ag</th>\n",
       "      <th>final.output.concentrate_pb</th>\n",
       "      <th>final.output.concentrate_sol</th>\n",
       "      <th>final.output.concentrate_au</th>\n",
       "      <th>final.output.recovery</th>\n",
       "      <th>final.output.tail_ag</th>\n",
       "      <th>final.output.tail_pb</th>\n",
       "      <th>final.output.tail_sol</th>\n",
       "      <th>final.output.tail_au</th>\n",
       "      <th>primary_cleaner.input.sulfate</th>\n",
       "      <th>...</th>\n",
       "      <th>secondary_cleaner.state.floatbank4_a_air</th>\n",
       "      <th>secondary_cleaner.state.floatbank4_a_level</th>\n",
       "      <th>secondary_cleaner.state.floatbank4_b_air</th>\n",
       "      <th>secondary_cleaner.state.floatbank4_b_level</th>\n",
       "      <th>secondary_cleaner.state.floatbank5_a_air</th>\n",
       "      <th>secondary_cleaner.state.floatbank5_a_level</th>\n",
       "      <th>secondary_cleaner.state.floatbank5_b_air</th>\n",
       "      <th>secondary_cleaner.state.floatbank5_b_level</th>\n",
       "      <th>secondary_cleaner.state.floatbank6_a_air</th>\n",
       "      <th>secondary_cleaner.state.floatbank6_a_level</th>\n",
       "    </tr>\n",
       "  </thead>\n",
       "  <tbody>\n",
       "    <tr>\n",
       "      <td>count</td>\n",
       "      <td>16788.000000</td>\n",
       "      <td>16788.000000</td>\n",
       "      <td>16490.000000</td>\n",
       "      <td>16789.000000</td>\n",
       "      <td>15339.000000</td>\n",
       "      <td>16794.000000</td>\n",
       "      <td>16677.000000</td>\n",
       "      <td>16715.000000</td>\n",
       "      <td>16794.000000</td>\n",
       "      <td>15553.000000</td>\n",
       "      <td>...</td>\n",
       "      <td>16731.000000</td>\n",
       "      <td>16747.000000</td>\n",
       "      <td>16768.000000</td>\n",
       "      <td>16767.000000</td>\n",
       "      <td>16775.000000</td>\n",
       "      <td>16775.000000</td>\n",
       "      <td>16775.000000</td>\n",
       "      <td>16776.000000</td>\n",
       "      <td>16757.000000</td>\n",
       "      <td>16775.000000</td>\n",
       "    </tr>\n",
       "    <tr>\n",
       "      <td>mean</td>\n",
       "      <td>4.716907</td>\n",
       "      <td>9.113559</td>\n",
       "      <td>8.301123</td>\n",
       "      <td>39.467217</td>\n",
       "      <td>67.213166</td>\n",
       "      <td>8.757048</td>\n",
       "      <td>2.360327</td>\n",
       "      <td>9.303932</td>\n",
       "      <td>2.687512</td>\n",
       "      <td>129.479789</td>\n",
       "      <td>...</td>\n",
       "      <td>19.101874</td>\n",
       "      <td>-494.164481</td>\n",
       "      <td>14.778164</td>\n",
       "      <td>-476.600082</td>\n",
       "      <td>15.779488</td>\n",
       "      <td>-500.230146</td>\n",
       "      <td>12.377241</td>\n",
       "      <td>-498.956257</td>\n",
       "      <td>18.429208</td>\n",
       "      <td>-521.801826</td>\n",
       "    </tr>\n",
       "    <tr>\n",
       "      <td>std</td>\n",
       "      <td>2.096718</td>\n",
       "      <td>3.389495</td>\n",
       "      <td>3.825760</td>\n",
       "      <td>13.917227</td>\n",
       "      <td>11.960446</td>\n",
       "      <td>3.634103</td>\n",
       "      <td>1.215576</td>\n",
       "      <td>4.263208</td>\n",
       "      <td>1.272757</td>\n",
       "      <td>45.386931</td>\n",
       "      <td>...</td>\n",
       "      <td>6.883163</td>\n",
       "      <td>84.803334</td>\n",
       "      <td>5.999149</td>\n",
       "      <td>89.381172</td>\n",
       "      <td>6.834703</td>\n",
       "      <td>76.983542</td>\n",
       "      <td>6.219989</td>\n",
       "      <td>82.146207</td>\n",
       "      <td>6.958294</td>\n",
       "      <td>77.170888</td>\n",
       "    </tr>\n",
       "    <tr>\n",
       "      <td>min</td>\n",
       "      <td>0.000000</td>\n",
       "      <td>0.000000</td>\n",
       "      <td>0.000000</td>\n",
       "      <td>0.000000</td>\n",
       "      <td>0.000000</td>\n",
       "      <td>0.000000</td>\n",
       "      <td>0.000000</td>\n",
       "      <td>0.000000</td>\n",
       "      <td>0.000000</td>\n",
       "      <td>0.000003</td>\n",
       "      <td>...</td>\n",
       "      <td>0.000000</td>\n",
       "      <td>-799.920713</td>\n",
       "      <td>0.000000</td>\n",
       "      <td>-800.021781</td>\n",
       "      <td>-0.423260</td>\n",
       "      <td>-799.741097</td>\n",
       "      <td>0.427084</td>\n",
       "      <td>-800.258209</td>\n",
       "      <td>0.024270</td>\n",
       "      <td>-810.473526</td>\n",
       "    </tr>\n",
       "    <tr>\n",
       "      <td>25%</td>\n",
       "      <td>3.971262</td>\n",
       "      <td>8.825748</td>\n",
       "      <td>6.939185</td>\n",
       "      <td>42.055722</td>\n",
       "      <td>62.625685</td>\n",
       "      <td>7.610544</td>\n",
       "      <td>1.641604</td>\n",
       "      <td>7.870275</td>\n",
       "      <td>2.172953</td>\n",
       "      <td>103.064021</td>\n",
       "      <td>...</td>\n",
       "      <td>14.508299</td>\n",
       "      <td>-500.837689</td>\n",
       "      <td>10.741388</td>\n",
       "      <td>-500.269182</td>\n",
       "      <td>10.977713</td>\n",
       "      <td>-500.530594</td>\n",
       "      <td>8.925586</td>\n",
       "      <td>-500.147603</td>\n",
       "      <td>13.977626</td>\n",
       "      <td>-501.080595</td>\n",
       "    </tr>\n",
       "    <tr>\n",
       "      <td>50%</td>\n",
       "      <td>4.869346</td>\n",
       "      <td>10.065316</td>\n",
       "      <td>8.557228</td>\n",
       "      <td>44.498874</td>\n",
       "      <td>67.644601</td>\n",
       "      <td>9.220393</td>\n",
       "      <td>2.453690</td>\n",
       "      <td>10.021968</td>\n",
       "      <td>2.781132</td>\n",
       "      <td>131.783108</td>\n",
       "      <td>...</td>\n",
       "      <td>19.986958</td>\n",
       "      <td>-499.778379</td>\n",
       "      <td>14.943933</td>\n",
       "      <td>-499.593286</td>\n",
       "      <td>15.998340</td>\n",
       "      <td>-499.784231</td>\n",
       "      <td>11.092839</td>\n",
       "      <td>-499.933330</td>\n",
       "      <td>18.034960</td>\n",
       "      <td>-500.109898</td>\n",
       "    </tr>\n",
       "    <tr>\n",
       "      <td>75%</td>\n",
       "      <td>5.821176</td>\n",
       "      <td>11.054809</td>\n",
       "      <td>10.289741</td>\n",
       "      <td>45.976222</td>\n",
       "      <td>72.824595</td>\n",
       "      <td>10.971110</td>\n",
       "      <td>3.192404</td>\n",
       "      <td>11.648573</td>\n",
       "      <td>3.416936</td>\n",
       "      <td>159.539839</td>\n",
       "      <td>...</td>\n",
       "      <td>24.983961</td>\n",
       "      <td>-494.648754</td>\n",
       "      <td>20.023751</td>\n",
       "      <td>-400.137948</td>\n",
       "      <td>20.000701</td>\n",
       "      <td>-496.531781</td>\n",
       "      <td>15.979467</td>\n",
       "      <td>-498.418000</td>\n",
       "      <td>24.984992</td>\n",
       "      <td>-499.565540</td>\n",
       "    </tr>\n",
       "    <tr>\n",
       "      <td>max</td>\n",
       "      <td>16.001945</td>\n",
       "      <td>17.031899</td>\n",
       "      <td>18.124851</td>\n",
       "      <td>53.611374</td>\n",
       "      <td>100.000000</td>\n",
       "      <td>19.552149</td>\n",
       "      <td>6.086532</td>\n",
       "      <td>22.317730</td>\n",
       "      <td>9.789625</td>\n",
       "      <td>251.999948</td>\n",
       "      <td>...</td>\n",
       "      <td>60.000000</td>\n",
       "      <td>-127.692333</td>\n",
       "      <td>28.003828</td>\n",
       "      <td>-71.472472</td>\n",
       "      <td>63.116298</td>\n",
       "      <td>-275.073125</td>\n",
       "      <td>39.846228</td>\n",
       "      <td>-120.190931</td>\n",
       "      <td>54.876806</td>\n",
       "      <td>-39.784927</td>\n",
       "    </tr>\n",
       "  </tbody>\n",
       "</table>\n",
       "<p>8 rows × 86 columns</p>\n",
       "</div>"
      ],
      "text/plain": [
       "       final.output.concentrate_ag  final.output.concentrate_pb  \\\n",
       "count                 16788.000000                 16788.000000   \n",
       "mean                      4.716907                     9.113559   \n",
       "std                       2.096718                     3.389495   \n",
       "min                       0.000000                     0.000000   \n",
       "25%                       3.971262                     8.825748   \n",
       "50%                       4.869346                    10.065316   \n",
       "75%                       5.821176                    11.054809   \n",
       "max                      16.001945                    17.031899   \n",
       "\n",
       "       final.output.concentrate_sol  final.output.concentrate_au  \\\n",
       "count                  16490.000000                 16789.000000   \n",
       "mean                       8.301123                    39.467217   \n",
       "std                        3.825760                    13.917227   \n",
       "min                        0.000000                     0.000000   \n",
       "25%                        6.939185                    42.055722   \n",
       "50%                        8.557228                    44.498874   \n",
       "75%                       10.289741                    45.976222   \n",
       "max                       18.124851                    53.611374   \n",
       "\n",
       "       final.output.recovery  final.output.tail_ag  final.output.tail_pb  \\\n",
       "count           15339.000000          16794.000000          16677.000000   \n",
       "mean               67.213166              8.757048              2.360327   \n",
       "std                11.960446              3.634103              1.215576   \n",
       "min                 0.000000              0.000000              0.000000   \n",
       "25%                62.625685              7.610544              1.641604   \n",
       "50%                67.644601              9.220393              2.453690   \n",
       "75%                72.824595             10.971110              3.192404   \n",
       "max               100.000000             19.552149              6.086532   \n",
       "\n",
       "       final.output.tail_sol  final.output.tail_au  \\\n",
       "count           16715.000000          16794.000000   \n",
       "mean                9.303932              2.687512   \n",
       "std                 4.263208              1.272757   \n",
       "min                 0.000000              0.000000   \n",
       "25%                 7.870275              2.172953   \n",
       "50%                10.021968              2.781132   \n",
       "75%                11.648573              3.416936   \n",
       "max                22.317730              9.789625   \n",
       "\n",
       "       primary_cleaner.input.sulfate  ...  \\\n",
       "count                   15553.000000  ...   \n",
       "mean                      129.479789  ...   \n",
       "std                        45.386931  ...   \n",
       "min                         0.000003  ...   \n",
       "25%                       103.064021  ...   \n",
       "50%                       131.783108  ...   \n",
       "75%                       159.539839  ...   \n",
       "max                       251.999948  ...   \n",
       "\n",
       "       secondary_cleaner.state.floatbank4_a_air  \\\n",
       "count                              16731.000000   \n",
       "mean                                  19.101874   \n",
       "std                                    6.883163   \n",
       "min                                    0.000000   \n",
       "25%                                   14.508299   \n",
       "50%                                   19.986958   \n",
       "75%                                   24.983961   \n",
       "max                                   60.000000   \n",
       "\n",
       "       secondary_cleaner.state.floatbank4_a_level  \\\n",
       "count                                16747.000000   \n",
       "mean                                  -494.164481   \n",
       "std                                     84.803334   \n",
       "min                                   -799.920713   \n",
       "25%                                   -500.837689   \n",
       "50%                                   -499.778379   \n",
       "75%                                   -494.648754   \n",
       "max                                   -127.692333   \n",
       "\n",
       "       secondary_cleaner.state.floatbank4_b_air  \\\n",
       "count                              16768.000000   \n",
       "mean                                  14.778164   \n",
       "std                                    5.999149   \n",
       "min                                    0.000000   \n",
       "25%                                   10.741388   \n",
       "50%                                   14.943933   \n",
       "75%                                   20.023751   \n",
       "max                                   28.003828   \n",
       "\n",
       "       secondary_cleaner.state.floatbank4_b_level  \\\n",
       "count                                16767.000000   \n",
       "mean                                  -476.600082   \n",
       "std                                     89.381172   \n",
       "min                                   -800.021781   \n",
       "25%                                   -500.269182   \n",
       "50%                                   -499.593286   \n",
       "75%                                   -400.137948   \n",
       "max                                    -71.472472   \n",
       "\n",
       "       secondary_cleaner.state.floatbank5_a_air  \\\n",
       "count                              16775.000000   \n",
       "mean                                  15.779488   \n",
       "std                                    6.834703   \n",
       "min                                   -0.423260   \n",
       "25%                                   10.977713   \n",
       "50%                                   15.998340   \n",
       "75%                                   20.000701   \n",
       "max                                   63.116298   \n",
       "\n",
       "       secondary_cleaner.state.floatbank5_a_level  \\\n",
       "count                                16775.000000   \n",
       "mean                                  -500.230146   \n",
       "std                                     76.983542   \n",
       "min                                   -799.741097   \n",
       "25%                                   -500.530594   \n",
       "50%                                   -499.784231   \n",
       "75%                                   -496.531781   \n",
       "max                                   -275.073125   \n",
       "\n",
       "       secondary_cleaner.state.floatbank5_b_air  \\\n",
       "count                              16775.000000   \n",
       "mean                                  12.377241   \n",
       "std                                    6.219989   \n",
       "min                                    0.427084   \n",
       "25%                                    8.925586   \n",
       "50%                                   11.092839   \n",
       "75%                                   15.979467   \n",
       "max                                   39.846228   \n",
       "\n",
       "       secondary_cleaner.state.floatbank5_b_level  \\\n",
       "count                                16776.000000   \n",
       "mean                                  -498.956257   \n",
       "std                                     82.146207   \n",
       "min                                   -800.258209   \n",
       "25%                                   -500.147603   \n",
       "50%                                   -499.933330   \n",
       "75%                                   -498.418000   \n",
       "max                                   -120.190931   \n",
       "\n",
       "       secondary_cleaner.state.floatbank6_a_air  \\\n",
       "count                              16757.000000   \n",
       "mean                                  18.429208   \n",
       "std                                    6.958294   \n",
       "min                                    0.024270   \n",
       "25%                                   13.977626   \n",
       "50%                                   18.034960   \n",
       "75%                                   24.984992   \n",
       "max                                   54.876806   \n",
       "\n",
       "       secondary_cleaner.state.floatbank6_a_level  \n",
       "count                                16775.000000  \n",
       "mean                                  -521.801826  \n",
       "std                                     77.170888  \n",
       "min                                   -810.473526  \n",
       "25%                                   -501.080595  \n",
       "50%                                   -500.109898  \n",
       "75%                                   -499.565540  \n",
       "max                                    -39.784927  \n",
       "\n",
       "[8 rows x 86 columns]"
      ]
     },
     "metadata": {},
     "output_type": "display_data"
    },
    {
     "name": "stdout",
     "output_type": "stream",
     "text": [
      "===========Тестовая выборка============\n"
     ]
    },
    {
     "data": {
      "text/html": [
       "<div>\n",
       "<style scoped>\n",
       "    .dataframe tbody tr th:only-of-type {\n",
       "        vertical-align: middle;\n",
       "    }\n",
       "\n",
       "    .dataframe tbody tr th {\n",
       "        vertical-align: top;\n",
       "    }\n",
       "\n",
       "    .dataframe thead th {\n",
       "        text-align: right;\n",
       "    }\n",
       "</style>\n",
       "<table border=\"1\" class=\"dataframe\">\n",
       "  <thead>\n",
       "    <tr style=\"text-align: right;\">\n",
       "      <th></th>\n",
       "      <th>primary_cleaner.input.sulfate</th>\n",
       "      <th>primary_cleaner.input.depressant</th>\n",
       "      <th>primary_cleaner.input.feed_size</th>\n",
       "      <th>primary_cleaner.input.xanthate</th>\n",
       "      <th>primary_cleaner.state.floatbank8_a_air</th>\n",
       "      <th>primary_cleaner.state.floatbank8_a_level</th>\n",
       "      <th>primary_cleaner.state.floatbank8_b_air</th>\n",
       "      <th>primary_cleaner.state.floatbank8_b_level</th>\n",
       "      <th>primary_cleaner.state.floatbank8_c_air</th>\n",
       "      <th>primary_cleaner.state.floatbank8_c_level</th>\n",
       "      <th>...</th>\n",
       "      <th>secondary_cleaner.state.floatbank4_a_air</th>\n",
       "      <th>secondary_cleaner.state.floatbank4_a_level</th>\n",
       "      <th>secondary_cleaner.state.floatbank4_b_air</th>\n",
       "      <th>secondary_cleaner.state.floatbank4_b_level</th>\n",
       "      <th>secondary_cleaner.state.floatbank5_a_air</th>\n",
       "      <th>secondary_cleaner.state.floatbank5_a_level</th>\n",
       "      <th>secondary_cleaner.state.floatbank5_b_air</th>\n",
       "      <th>secondary_cleaner.state.floatbank5_b_level</th>\n",
       "      <th>secondary_cleaner.state.floatbank6_a_air</th>\n",
       "      <th>secondary_cleaner.state.floatbank6_a_level</th>\n",
       "    </tr>\n",
       "  </thead>\n",
       "  <tbody>\n",
       "    <tr>\n",
       "      <td>count</td>\n",
       "      <td>5554.000000</td>\n",
       "      <td>5572.000000</td>\n",
       "      <td>5856.000000</td>\n",
       "      <td>5690.000000</td>\n",
       "      <td>5840.000000</td>\n",
       "      <td>5840.000000</td>\n",
       "      <td>5840.000000</td>\n",
       "      <td>5840.000000</td>\n",
       "      <td>5840.000000</td>\n",
       "      <td>5840.000000</td>\n",
       "      <td>...</td>\n",
       "      <td>5840.000000</td>\n",
       "      <td>5840.000000</td>\n",
       "      <td>5840.000000</td>\n",
       "      <td>5840.000000</td>\n",
       "      <td>5840.000000</td>\n",
       "      <td>5840.000000</td>\n",
       "      <td>5840.000000</td>\n",
       "      <td>5840.000000</td>\n",
       "      <td>5840.000000</td>\n",
       "      <td>5840.000000</td>\n",
       "    </tr>\n",
       "    <tr>\n",
       "      <td>mean</td>\n",
       "      <td>170.515243</td>\n",
       "      <td>8.482873</td>\n",
       "      <td>7.264651</td>\n",
       "      <td>1.321420</td>\n",
       "      <td>1481.990241</td>\n",
       "      <td>-509.057796</td>\n",
       "      <td>1486.908670</td>\n",
       "      <td>-511.743956</td>\n",
       "      <td>1468.495216</td>\n",
       "      <td>-509.741212</td>\n",
       "      <td>...</td>\n",
       "      <td>15.636031</td>\n",
       "      <td>-516.266074</td>\n",
       "      <td>13.145702</td>\n",
       "      <td>-476.338907</td>\n",
       "      <td>12.308967</td>\n",
       "      <td>-512.208126</td>\n",
       "      <td>9.470986</td>\n",
       "      <td>-505.017827</td>\n",
       "      <td>16.678722</td>\n",
       "      <td>-512.351694</td>\n",
       "    </tr>\n",
       "    <tr>\n",
       "      <td>std</td>\n",
       "      <td>49.608602</td>\n",
       "      <td>3.353105</td>\n",
       "      <td>0.611526</td>\n",
       "      <td>0.693246</td>\n",
       "      <td>310.453166</td>\n",
       "      <td>61.339256</td>\n",
       "      <td>313.224286</td>\n",
       "      <td>67.139074</td>\n",
       "      <td>309.980748</td>\n",
       "      <td>62.671873</td>\n",
       "      <td>...</td>\n",
       "      <td>4.660835</td>\n",
       "      <td>62.756748</td>\n",
       "      <td>4.304086</td>\n",
       "      <td>105.549424</td>\n",
       "      <td>3.762827</td>\n",
       "      <td>58.864651</td>\n",
       "      <td>3.312471</td>\n",
       "      <td>68.785898</td>\n",
       "      <td>5.404514</td>\n",
       "      <td>69.919839</td>\n",
       "    </tr>\n",
       "    <tr>\n",
       "      <td>min</td>\n",
       "      <td>0.000103</td>\n",
       "      <td>0.000031</td>\n",
       "      <td>5.650000</td>\n",
       "      <td>0.000003</td>\n",
       "      <td>0.000000</td>\n",
       "      <td>-799.773788</td>\n",
       "      <td>0.000000</td>\n",
       "      <td>-800.029078</td>\n",
       "      <td>0.000000</td>\n",
       "      <td>-799.995127</td>\n",
       "      <td>...</td>\n",
       "      <td>0.000000</td>\n",
       "      <td>-799.798523</td>\n",
       "      <td>0.000000</td>\n",
       "      <td>-800.836914</td>\n",
       "      <td>-0.223393</td>\n",
       "      <td>-799.661076</td>\n",
       "      <td>0.528083</td>\n",
       "      <td>-800.220337</td>\n",
       "      <td>-0.079426</td>\n",
       "      <td>-809.859706</td>\n",
       "    </tr>\n",
       "    <tr>\n",
       "      <td>25%</td>\n",
       "      <td>143.340022</td>\n",
       "      <td>6.411500</td>\n",
       "      <td>6.885625</td>\n",
       "      <td>0.888769</td>\n",
       "      <td>1497.190681</td>\n",
       "      <td>-500.455211</td>\n",
       "      <td>1497.150234</td>\n",
       "      <td>-500.936639</td>\n",
       "      <td>1437.050321</td>\n",
       "      <td>-501.300441</td>\n",
       "      <td>...</td>\n",
       "      <td>12.057838</td>\n",
       "      <td>-501.054741</td>\n",
       "      <td>11.880119</td>\n",
       "      <td>-500.419113</td>\n",
       "      <td>10.123459</td>\n",
       "      <td>-500.879383</td>\n",
       "      <td>7.991208</td>\n",
       "      <td>-500.223089</td>\n",
       "      <td>13.012422</td>\n",
       "      <td>-500.833821</td>\n",
       "    </tr>\n",
       "    <tr>\n",
       "      <td>50%</td>\n",
       "      <td>176.103893</td>\n",
       "      <td>8.023252</td>\n",
       "      <td>7.259333</td>\n",
       "      <td>1.183362</td>\n",
       "      <td>1554.659783</td>\n",
       "      <td>-499.997402</td>\n",
       "      <td>1553.268084</td>\n",
       "      <td>-500.066588</td>\n",
       "      <td>1546.160672</td>\n",
       "      <td>-500.079537</td>\n",
       "      <td>...</td>\n",
       "      <td>17.001867</td>\n",
       "      <td>-500.160145</td>\n",
       "      <td>14.952102</td>\n",
       "      <td>-499.644328</td>\n",
       "      <td>12.062877</td>\n",
       "      <td>-500.047621</td>\n",
       "      <td>9.980774</td>\n",
       "      <td>-500.001338</td>\n",
       "      <td>16.007242</td>\n",
       "      <td>-500.041085</td>\n",
       "    </tr>\n",
       "    <tr>\n",
       "      <td>75%</td>\n",
       "      <td>207.240761</td>\n",
       "      <td>10.017725</td>\n",
       "      <td>7.650000</td>\n",
       "      <td>1.763797</td>\n",
       "      <td>1601.681656</td>\n",
       "      <td>-499.575313</td>\n",
       "      <td>1601.784707</td>\n",
       "      <td>-499.323361</td>\n",
       "      <td>1600.785573</td>\n",
       "      <td>-499.009545</td>\n",
       "      <td>...</td>\n",
       "      <td>18.030985</td>\n",
       "      <td>-499.441529</td>\n",
       "      <td>15.940011</td>\n",
       "      <td>-401.523664</td>\n",
       "      <td>15.017881</td>\n",
       "      <td>-499.297033</td>\n",
       "      <td>11.992176</td>\n",
       "      <td>-499.722835</td>\n",
       "      <td>21.009076</td>\n",
       "      <td>-499.395621</td>\n",
       "    </tr>\n",
       "    <tr>\n",
       "      <td>max</td>\n",
       "      <td>274.409626</td>\n",
       "      <td>40.024582</td>\n",
       "      <td>15.500000</td>\n",
       "      <td>5.433169</td>\n",
       "      <td>2212.432090</td>\n",
       "      <td>-57.195404</td>\n",
       "      <td>1975.147923</td>\n",
       "      <td>-142.527229</td>\n",
       "      <td>1715.053773</td>\n",
       "      <td>-150.937035</td>\n",
       "      <td>...</td>\n",
       "      <td>30.051797</td>\n",
       "      <td>-401.565212</td>\n",
       "      <td>31.269706</td>\n",
       "      <td>-6.506986</td>\n",
       "      <td>25.258848</td>\n",
       "      <td>-244.483566</td>\n",
       "      <td>14.090194</td>\n",
       "      <td>-126.463446</td>\n",
       "      <td>26.705889</td>\n",
       "      <td>-29.093593</td>\n",
       "    </tr>\n",
       "  </tbody>\n",
       "</table>\n",
       "<p>8 rows × 52 columns</p>\n",
       "</div>"
      ],
      "text/plain": [
       "       primary_cleaner.input.sulfate  primary_cleaner.input.depressant  \\\n",
       "count                    5554.000000                       5572.000000   \n",
       "mean                      170.515243                          8.482873   \n",
       "std                        49.608602                          3.353105   \n",
       "min                         0.000103                          0.000031   \n",
       "25%                       143.340022                          6.411500   \n",
       "50%                       176.103893                          8.023252   \n",
       "75%                       207.240761                         10.017725   \n",
       "max                       274.409626                         40.024582   \n",
       "\n",
       "       primary_cleaner.input.feed_size  primary_cleaner.input.xanthate  \\\n",
       "count                      5856.000000                     5690.000000   \n",
       "mean                          7.264651                        1.321420   \n",
       "std                           0.611526                        0.693246   \n",
       "min                           5.650000                        0.000003   \n",
       "25%                           6.885625                        0.888769   \n",
       "50%                           7.259333                        1.183362   \n",
       "75%                           7.650000                        1.763797   \n",
       "max                          15.500000                        5.433169   \n",
       "\n",
       "       primary_cleaner.state.floatbank8_a_air  \\\n",
       "count                             5840.000000   \n",
       "mean                              1481.990241   \n",
       "std                                310.453166   \n",
       "min                                  0.000000   \n",
       "25%                               1497.190681   \n",
       "50%                               1554.659783   \n",
       "75%                               1601.681656   \n",
       "max                               2212.432090   \n",
       "\n",
       "       primary_cleaner.state.floatbank8_a_level  \\\n",
       "count                               5840.000000   \n",
       "mean                                -509.057796   \n",
       "std                                   61.339256   \n",
       "min                                 -799.773788   \n",
       "25%                                 -500.455211   \n",
       "50%                                 -499.997402   \n",
       "75%                                 -499.575313   \n",
       "max                                  -57.195404   \n",
       "\n",
       "       primary_cleaner.state.floatbank8_b_air  \\\n",
       "count                             5840.000000   \n",
       "mean                              1486.908670   \n",
       "std                                313.224286   \n",
       "min                                  0.000000   \n",
       "25%                               1497.150234   \n",
       "50%                               1553.268084   \n",
       "75%                               1601.784707   \n",
       "max                               1975.147923   \n",
       "\n",
       "       primary_cleaner.state.floatbank8_b_level  \\\n",
       "count                               5840.000000   \n",
       "mean                                -511.743956   \n",
       "std                                   67.139074   \n",
       "min                                 -800.029078   \n",
       "25%                                 -500.936639   \n",
       "50%                                 -500.066588   \n",
       "75%                                 -499.323361   \n",
       "max                                 -142.527229   \n",
       "\n",
       "       primary_cleaner.state.floatbank8_c_air  \\\n",
       "count                             5840.000000   \n",
       "mean                              1468.495216   \n",
       "std                                309.980748   \n",
       "min                                  0.000000   \n",
       "25%                               1437.050321   \n",
       "50%                               1546.160672   \n",
       "75%                               1600.785573   \n",
       "max                               1715.053773   \n",
       "\n",
       "       primary_cleaner.state.floatbank8_c_level  ...  \\\n",
       "count                               5840.000000  ...   \n",
       "mean                                -509.741212  ...   \n",
       "std                                   62.671873  ...   \n",
       "min                                 -799.995127  ...   \n",
       "25%                                 -501.300441  ...   \n",
       "50%                                 -500.079537  ...   \n",
       "75%                                 -499.009545  ...   \n",
       "max                                 -150.937035  ...   \n",
       "\n",
       "       secondary_cleaner.state.floatbank4_a_air  \\\n",
       "count                               5840.000000   \n",
       "mean                                  15.636031   \n",
       "std                                    4.660835   \n",
       "min                                    0.000000   \n",
       "25%                                   12.057838   \n",
       "50%                                   17.001867   \n",
       "75%                                   18.030985   \n",
       "max                                   30.051797   \n",
       "\n",
       "       secondary_cleaner.state.floatbank4_a_level  \\\n",
       "count                                 5840.000000   \n",
       "mean                                  -516.266074   \n",
       "std                                     62.756748   \n",
       "min                                   -799.798523   \n",
       "25%                                   -501.054741   \n",
       "50%                                   -500.160145   \n",
       "75%                                   -499.441529   \n",
       "max                                   -401.565212   \n",
       "\n",
       "       secondary_cleaner.state.floatbank4_b_air  \\\n",
       "count                               5840.000000   \n",
       "mean                                  13.145702   \n",
       "std                                    4.304086   \n",
       "min                                    0.000000   \n",
       "25%                                   11.880119   \n",
       "50%                                   14.952102   \n",
       "75%                                   15.940011   \n",
       "max                                   31.269706   \n",
       "\n",
       "       secondary_cleaner.state.floatbank4_b_level  \\\n",
       "count                                 5840.000000   \n",
       "mean                                  -476.338907   \n",
       "std                                    105.549424   \n",
       "min                                   -800.836914   \n",
       "25%                                   -500.419113   \n",
       "50%                                   -499.644328   \n",
       "75%                                   -401.523664   \n",
       "max                                     -6.506986   \n",
       "\n",
       "       secondary_cleaner.state.floatbank5_a_air  \\\n",
       "count                               5840.000000   \n",
       "mean                                  12.308967   \n",
       "std                                    3.762827   \n",
       "min                                   -0.223393   \n",
       "25%                                   10.123459   \n",
       "50%                                   12.062877   \n",
       "75%                                   15.017881   \n",
       "max                                   25.258848   \n",
       "\n",
       "       secondary_cleaner.state.floatbank5_a_level  \\\n",
       "count                                 5840.000000   \n",
       "mean                                  -512.208126   \n",
       "std                                     58.864651   \n",
       "min                                   -799.661076   \n",
       "25%                                   -500.879383   \n",
       "50%                                   -500.047621   \n",
       "75%                                   -499.297033   \n",
       "max                                   -244.483566   \n",
       "\n",
       "       secondary_cleaner.state.floatbank5_b_air  \\\n",
       "count                               5840.000000   \n",
       "mean                                   9.470986   \n",
       "std                                    3.312471   \n",
       "min                                    0.528083   \n",
       "25%                                    7.991208   \n",
       "50%                                    9.980774   \n",
       "75%                                   11.992176   \n",
       "max                                   14.090194   \n",
       "\n",
       "       secondary_cleaner.state.floatbank5_b_level  \\\n",
       "count                                 5840.000000   \n",
       "mean                                  -505.017827   \n",
       "std                                     68.785898   \n",
       "min                                   -800.220337   \n",
       "25%                                   -500.223089   \n",
       "50%                                   -500.001338   \n",
       "75%                                   -499.722835   \n",
       "max                                   -126.463446   \n",
       "\n",
       "       secondary_cleaner.state.floatbank6_a_air  \\\n",
       "count                               5840.000000   \n",
       "mean                                  16.678722   \n",
       "std                                    5.404514   \n",
       "min                                   -0.079426   \n",
       "25%                                   13.012422   \n",
       "50%                                   16.007242   \n",
       "75%                                   21.009076   \n",
       "max                                   26.705889   \n",
       "\n",
       "       secondary_cleaner.state.floatbank6_a_level  \n",
       "count                                 5840.000000  \n",
       "mean                                  -512.351694  \n",
       "std                                     69.919839  \n",
       "min                                   -809.859706  \n",
       "25%                                   -500.833821  \n",
       "50%                                   -500.041085  \n",
       "75%                                   -499.395621  \n",
       "max                                    -29.093593  \n",
       "\n",
       "[8 rows x 52 columns]"
      ]
     },
     "metadata": {},
     "output_type": "display_data"
    },
    {
     "name": "stdout",
     "output_type": "stream",
     "text": [
      "============Full=========================\n"
     ]
    },
    {
     "data": {
      "text/html": [
       "<div>\n",
       "<style scoped>\n",
       "    .dataframe tbody tr th:only-of-type {\n",
       "        vertical-align: middle;\n",
       "    }\n",
       "\n",
       "    .dataframe tbody tr th {\n",
       "        vertical-align: top;\n",
       "    }\n",
       "\n",
       "    .dataframe thead th {\n",
       "        text-align: right;\n",
       "    }\n",
       "</style>\n",
       "<table border=\"1\" class=\"dataframe\">\n",
       "  <thead>\n",
       "    <tr style=\"text-align: right;\">\n",
       "      <th></th>\n",
       "      <th>final.output.concentrate_ag</th>\n",
       "      <th>final.output.concentrate_pb</th>\n",
       "      <th>final.output.concentrate_sol</th>\n",
       "      <th>final.output.concentrate_au</th>\n",
       "      <th>final.output.recovery</th>\n",
       "      <th>final.output.tail_ag</th>\n",
       "      <th>final.output.tail_pb</th>\n",
       "      <th>final.output.tail_sol</th>\n",
       "      <th>final.output.tail_au</th>\n",
       "      <th>primary_cleaner.input.sulfate</th>\n",
       "      <th>...</th>\n",
       "      <th>secondary_cleaner.state.floatbank4_a_air</th>\n",
       "      <th>secondary_cleaner.state.floatbank4_a_level</th>\n",
       "      <th>secondary_cleaner.state.floatbank4_b_air</th>\n",
       "      <th>secondary_cleaner.state.floatbank4_b_level</th>\n",
       "      <th>secondary_cleaner.state.floatbank5_a_air</th>\n",
       "      <th>secondary_cleaner.state.floatbank5_a_level</th>\n",
       "      <th>secondary_cleaner.state.floatbank5_b_air</th>\n",
       "      <th>secondary_cleaner.state.floatbank5_b_level</th>\n",
       "      <th>secondary_cleaner.state.floatbank6_a_air</th>\n",
       "      <th>secondary_cleaner.state.floatbank6_a_level</th>\n",
       "    </tr>\n",
       "  </thead>\n",
       "  <tbody>\n",
       "    <tr>\n",
       "      <td>count</td>\n",
       "      <td>22627.000000</td>\n",
       "      <td>22629.000000</td>\n",
       "      <td>22331.000000</td>\n",
       "      <td>22630.000000</td>\n",
       "      <td>20753.000000</td>\n",
       "      <td>22633.000000</td>\n",
       "      <td>22516.000000</td>\n",
       "      <td>22445.000000</td>\n",
       "      <td>22635.000000</td>\n",
       "      <td>21107.000000</td>\n",
       "      <td>...</td>\n",
       "      <td>22571.000000</td>\n",
       "      <td>22587.000000</td>\n",
       "      <td>22608.000000</td>\n",
       "      <td>22607.000000</td>\n",
       "      <td>22615.000000</td>\n",
       "      <td>22615.000000</td>\n",
       "      <td>22615.000000</td>\n",
       "      <td>22616.000000</td>\n",
       "      <td>22597.000000</td>\n",
       "      <td>22615.000000</td>\n",
       "    </tr>\n",
       "    <tr>\n",
       "      <td>mean</td>\n",
       "      <td>4.781559</td>\n",
       "      <td>9.095308</td>\n",
       "      <td>8.640317</td>\n",
       "      <td>40.001172</td>\n",
       "      <td>67.447488</td>\n",
       "      <td>8.923690</td>\n",
       "      <td>2.488252</td>\n",
       "      <td>9.523632</td>\n",
       "      <td>2.827459</td>\n",
       "      <td>140.277672</td>\n",
       "      <td>...</td>\n",
       "      <td>18.205125</td>\n",
       "      <td>-499.878977</td>\n",
       "      <td>14.356474</td>\n",
       "      <td>-476.532613</td>\n",
       "      <td>14.883276</td>\n",
       "      <td>-503.323288</td>\n",
       "      <td>11.626743</td>\n",
       "      <td>-500.521502</td>\n",
       "      <td>17.976810</td>\n",
       "      <td>-519.361465</td>\n",
       "    </tr>\n",
       "    <tr>\n",
       "      <td>std</td>\n",
       "      <td>2.030128</td>\n",
       "      <td>3.230797</td>\n",
       "      <td>3.785035</td>\n",
       "      <td>13.398062</td>\n",
       "      <td>11.616034</td>\n",
       "      <td>3.517917</td>\n",
       "      <td>1.189407</td>\n",
       "      <td>4.079739</td>\n",
       "      <td>1.262834</td>\n",
       "      <td>49.919004</td>\n",
       "      <td>...</td>\n",
       "      <td>6.560700</td>\n",
       "      <td>80.273964</td>\n",
       "      <td>5.655791</td>\n",
       "      <td>93.822791</td>\n",
       "      <td>6.372811</td>\n",
       "      <td>72.925589</td>\n",
       "      <td>5.757449</td>\n",
       "      <td>78.956292</td>\n",
       "      <td>6.636203</td>\n",
       "      <td>75.477151</td>\n",
       "    </tr>\n",
       "    <tr>\n",
       "      <td>min</td>\n",
       "      <td>0.000000</td>\n",
       "      <td>0.000000</td>\n",
       "      <td>0.000000</td>\n",
       "      <td>0.000000</td>\n",
       "      <td>0.000000</td>\n",
       "      <td>0.000000</td>\n",
       "      <td>0.000000</td>\n",
       "      <td>0.000000</td>\n",
       "      <td>0.000000</td>\n",
       "      <td>0.000003</td>\n",
       "      <td>...</td>\n",
       "      <td>0.000000</td>\n",
       "      <td>-799.920713</td>\n",
       "      <td>0.000000</td>\n",
       "      <td>-800.836914</td>\n",
       "      <td>-0.423260</td>\n",
       "      <td>-799.741097</td>\n",
       "      <td>0.427084</td>\n",
       "      <td>-800.258209</td>\n",
       "      <td>-0.079426</td>\n",
       "      <td>-810.473526</td>\n",
       "    </tr>\n",
       "    <tr>\n",
       "      <td>25%</td>\n",
       "      <td>4.018525</td>\n",
       "      <td>8.750171</td>\n",
       "      <td>7.116799</td>\n",
       "      <td>42.383721</td>\n",
       "      <td>63.282393</td>\n",
       "      <td>7.684016</td>\n",
       "      <td>1.805376</td>\n",
       "      <td>8.143576</td>\n",
       "      <td>2.303108</td>\n",
       "      <td>110.177081</td>\n",
       "      <td>...</td>\n",
       "      <td>14.095940</td>\n",
       "      <td>-500.896232</td>\n",
       "      <td>10.882675</td>\n",
       "      <td>-500.309169</td>\n",
       "      <td>10.941299</td>\n",
       "      <td>-500.628697</td>\n",
       "      <td>8.037533</td>\n",
       "      <td>-500.167897</td>\n",
       "      <td>13.968418</td>\n",
       "      <td>-500.981671</td>\n",
       "    </tr>\n",
       "    <tr>\n",
       "      <td>50%</td>\n",
       "      <td>4.953729</td>\n",
       "      <td>9.914519</td>\n",
       "      <td>8.908792</td>\n",
       "      <td>44.653436</td>\n",
       "      <td>68.322258</td>\n",
       "      <td>9.484369</td>\n",
       "      <td>2.653001</td>\n",
       "      <td>10.212998</td>\n",
       "      <td>2.913794</td>\n",
       "      <td>141.330501</td>\n",
       "      <td>...</td>\n",
       "      <td>18.007326</td>\n",
       "      <td>-499.917108</td>\n",
       "      <td>14.947646</td>\n",
       "      <td>-499.612292</td>\n",
       "      <td>14.859117</td>\n",
       "      <td>-499.865158</td>\n",
       "      <td>10.989756</td>\n",
       "      <td>-499.951980</td>\n",
       "      <td>18.004215</td>\n",
       "      <td>-500.095463</td>\n",
       "    </tr>\n",
       "    <tr>\n",
       "      <td>75%</td>\n",
       "      <td>5.862593</td>\n",
       "      <td>10.929839</td>\n",
       "      <td>10.705824</td>\n",
       "      <td>46.111999</td>\n",
       "      <td>72.950836</td>\n",
       "      <td>11.084557</td>\n",
       "      <td>3.287790</td>\n",
       "      <td>11.860824</td>\n",
       "      <td>3.555077</td>\n",
       "      <td>174.049914</td>\n",
       "      <td>...</td>\n",
       "      <td>22.998194</td>\n",
       "      <td>-498.361545</td>\n",
       "      <td>17.977502</td>\n",
       "      <td>-400.224147</td>\n",
       "      <td>18.014914</td>\n",
       "      <td>-498.489381</td>\n",
       "      <td>14.001193</td>\n",
       "      <td>-499.492354</td>\n",
       "      <td>23.009704</td>\n",
       "      <td>-499.526388</td>\n",
       "    </tr>\n",
       "    <tr>\n",
       "      <td>max</td>\n",
       "      <td>16.001945</td>\n",
       "      <td>17.031899</td>\n",
       "      <td>19.615720</td>\n",
       "      <td>53.611374</td>\n",
       "      <td>100.000000</td>\n",
       "      <td>19.552149</td>\n",
       "      <td>6.086532</td>\n",
       "      <td>22.861749</td>\n",
       "      <td>9.789625</td>\n",
       "      <td>274.409626</td>\n",
       "      <td>...</td>\n",
       "      <td>60.000000</td>\n",
       "      <td>-127.692333</td>\n",
       "      <td>31.269706</td>\n",
       "      <td>-6.506986</td>\n",
       "      <td>63.116298</td>\n",
       "      <td>-244.483566</td>\n",
       "      <td>39.846228</td>\n",
       "      <td>-120.190931</td>\n",
       "      <td>54.876806</td>\n",
       "      <td>-29.093593</td>\n",
       "    </tr>\n",
       "  </tbody>\n",
       "</table>\n",
       "<p>8 rows × 86 columns</p>\n",
       "</div>"
      ],
      "text/plain": [
       "       final.output.concentrate_ag  final.output.concentrate_pb  \\\n",
       "count                 22627.000000                 22629.000000   \n",
       "mean                      4.781559                     9.095308   \n",
       "std                       2.030128                     3.230797   \n",
       "min                       0.000000                     0.000000   \n",
       "25%                       4.018525                     8.750171   \n",
       "50%                       4.953729                     9.914519   \n",
       "75%                       5.862593                    10.929839   \n",
       "max                      16.001945                    17.031899   \n",
       "\n",
       "       final.output.concentrate_sol  final.output.concentrate_au  \\\n",
       "count                  22331.000000                 22630.000000   \n",
       "mean                       8.640317                    40.001172   \n",
       "std                        3.785035                    13.398062   \n",
       "min                        0.000000                     0.000000   \n",
       "25%                        7.116799                    42.383721   \n",
       "50%                        8.908792                    44.653436   \n",
       "75%                       10.705824                    46.111999   \n",
       "max                       19.615720                    53.611374   \n",
       "\n",
       "       final.output.recovery  final.output.tail_ag  final.output.tail_pb  \\\n",
       "count           20753.000000          22633.000000          22516.000000   \n",
       "mean               67.447488              8.923690              2.488252   \n",
       "std                11.616034              3.517917              1.189407   \n",
       "min                 0.000000              0.000000              0.000000   \n",
       "25%                63.282393              7.684016              1.805376   \n",
       "50%                68.322258              9.484369              2.653001   \n",
       "75%                72.950836             11.084557              3.287790   \n",
       "max               100.000000             19.552149              6.086532   \n",
       "\n",
       "       final.output.tail_sol  final.output.tail_au  \\\n",
       "count           22445.000000          22635.000000   \n",
       "mean                9.523632              2.827459   \n",
       "std                 4.079739              1.262834   \n",
       "min                 0.000000              0.000000   \n",
       "25%                 8.143576              2.303108   \n",
       "50%                10.212998              2.913794   \n",
       "75%                11.860824              3.555077   \n",
       "max                22.861749              9.789625   \n",
       "\n",
       "       primary_cleaner.input.sulfate  ...  \\\n",
       "count                   21107.000000  ...   \n",
       "mean                      140.277672  ...   \n",
       "std                        49.919004  ...   \n",
       "min                         0.000003  ...   \n",
       "25%                       110.177081  ...   \n",
       "50%                       141.330501  ...   \n",
       "75%                       174.049914  ...   \n",
       "max                       274.409626  ...   \n",
       "\n",
       "       secondary_cleaner.state.floatbank4_a_air  \\\n",
       "count                              22571.000000   \n",
       "mean                                  18.205125   \n",
       "std                                    6.560700   \n",
       "min                                    0.000000   \n",
       "25%                                   14.095940   \n",
       "50%                                   18.007326   \n",
       "75%                                   22.998194   \n",
       "max                                   60.000000   \n",
       "\n",
       "       secondary_cleaner.state.floatbank4_a_level  \\\n",
       "count                                22587.000000   \n",
       "mean                                  -499.878977   \n",
       "std                                     80.273964   \n",
       "min                                   -799.920713   \n",
       "25%                                   -500.896232   \n",
       "50%                                   -499.917108   \n",
       "75%                                   -498.361545   \n",
       "max                                   -127.692333   \n",
       "\n",
       "       secondary_cleaner.state.floatbank4_b_air  \\\n",
       "count                              22608.000000   \n",
       "mean                                  14.356474   \n",
       "std                                    5.655791   \n",
       "min                                    0.000000   \n",
       "25%                                   10.882675   \n",
       "50%                                   14.947646   \n",
       "75%                                   17.977502   \n",
       "max                                   31.269706   \n",
       "\n",
       "       secondary_cleaner.state.floatbank4_b_level  \\\n",
       "count                                22607.000000   \n",
       "mean                                  -476.532613   \n",
       "std                                     93.822791   \n",
       "min                                   -800.836914   \n",
       "25%                                   -500.309169   \n",
       "50%                                   -499.612292   \n",
       "75%                                   -400.224147   \n",
       "max                                     -6.506986   \n",
       "\n",
       "       secondary_cleaner.state.floatbank5_a_air  \\\n",
       "count                              22615.000000   \n",
       "mean                                  14.883276   \n",
       "std                                    6.372811   \n",
       "min                                   -0.423260   \n",
       "25%                                   10.941299   \n",
       "50%                                   14.859117   \n",
       "75%                                   18.014914   \n",
       "max                                   63.116298   \n",
       "\n",
       "       secondary_cleaner.state.floatbank5_a_level  \\\n",
       "count                                22615.000000   \n",
       "mean                                  -503.323288   \n",
       "std                                     72.925589   \n",
       "min                                   -799.741097   \n",
       "25%                                   -500.628697   \n",
       "50%                                   -499.865158   \n",
       "75%                                   -498.489381   \n",
       "max                                   -244.483566   \n",
       "\n",
       "       secondary_cleaner.state.floatbank5_b_air  \\\n",
       "count                              22615.000000   \n",
       "mean                                  11.626743   \n",
       "std                                    5.757449   \n",
       "min                                    0.427084   \n",
       "25%                                    8.037533   \n",
       "50%                                   10.989756   \n",
       "75%                                   14.001193   \n",
       "max                                   39.846228   \n",
       "\n",
       "       secondary_cleaner.state.floatbank5_b_level  \\\n",
       "count                                22616.000000   \n",
       "mean                                  -500.521502   \n",
       "std                                     78.956292   \n",
       "min                                   -800.258209   \n",
       "25%                                   -500.167897   \n",
       "50%                                   -499.951980   \n",
       "75%                                   -499.492354   \n",
       "max                                   -120.190931   \n",
       "\n",
       "       secondary_cleaner.state.floatbank6_a_air  \\\n",
       "count                              22597.000000   \n",
       "mean                                  17.976810   \n",
       "std                                    6.636203   \n",
       "min                                   -0.079426   \n",
       "25%                                   13.968418   \n",
       "50%                                   18.004215   \n",
       "75%                                   23.009704   \n",
       "max                                   54.876806   \n",
       "\n",
       "       secondary_cleaner.state.floatbank6_a_level  \n",
       "count                                22615.000000  \n",
       "mean                                  -519.361465  \n",
       "std                                     75.477151  \n",
       "min                                   -810.473526  \n",
       "25%                                   -500.981671  \n",
       "50%                                   -500.095463  \n",
       "75%                                   -499.526388  \n",
       "max                                    -29.093593  \n",
       "\n",
       "[8 rows x 86 columns]"
      ]
     },
     "metadata": {},
     "output_type": "display_data"
    }
   ],
   "source": [
    "#Изучим наши выборки методом describe\n",
    "print('===========Обучающая выборка============')\n",
    "display(train.describe())\n",
    "print('===========Тестовая выборка============')\n",
    "display(test.describe())\n",
    "print('============Full=========================')\n",
    "display(full.describe())"
   ]
  },
  {
   "cell_type": "code",
   "execution_count": 9,
   "metadata": {},
   "outputs": [
    {
     "name": "stdout",
     "output_type": "stream",
     "text": [
      "===========Тестовая выборка============\n"
     ]
    },
    {
     "data": {
      "text/plain": [
       "date                                          5856\n",
       "primary_cleaner.input.sulfate                 5554\n",
       "primary_cleaner.input.depressant              5572\n",
       "primary_cleaner.input.feed_size               1565\n",
       "primary_cleaner.input.xanthate                5690\n",
       "primary_cleaner.state.floatbank8_a_air        5674\n",
       "primary_cleaner.state.floatbank8_a_level      5839\n",
       "primary_cleaner.state.floatbank8_b_air        5689\n",
       "primary_cleaner.state.floatbank8_b_level      5840\n",
       "primary_cleaner.state.floatbank8_c_air        5720\n",
       "primary_cleaner.state.floatbank8_c_level      5840\n",
       "primary_cleaner.state.floatbank8_d_air        5727\n",
       "primary_cleaner.state.floatbank8_d_level      5840\n",
       "rougher.input.feed_ag                         5465\n",
       "rougher.input.feed_pb                         5464\n",
       "rougher.input.feed_rate                       5816\n",
       "rougher.input.feed_size                       5834\n",
       "rougher.input.feed_sol                        5412\n",
       "rougher.input.feed_au                         5465\n",
       "rougher.input.floatbank10_sulfate             5599\n",
       "rougher.input.floatbank10_xanthate            5733\n",
       "rougher.input.floatbank11_sulfate             5801\n",
       "rougher.input.floatbank11_xanthate            5503\n",
       "rougher.state.floatbank10_a_air               5839\n",
       "rougher.state.floatbank10_a_level             5840\n",
       "rougher.state.floatbank10_b_air               5839\n",
       "rougher.state.floatbank10_b_level             5839\n",
       "rougher.state.floatbank10_c_air               5839\n",
       "rougher.state.floatbank10_c_level             5837\n",
       "rougher.state.floatbank10_d_air               5839\n",
       "rougher.state.floatbank10_d_level             5840\n",
       "rougher.state.floatbank10_e_air               5839\n",
       "rougher.state.floatbank10_e_level             5840\n",
       "rougher.state.floatbank10_f_air               5839\n",
       "rougher.state.floatbank10_f_level             5833\n",
       "secondary_cleaner.state.floatbank2_a_air      5832\n",
       "secondary_cleaner.state.floatbank2_a_level    5840\n",
       "secondary_cleaner.state.floatbank2_b_air      5655\n",
       "secondary_cleaner.state.floatbank2_b_level    5838\n",
       "secondary_cleaner.state.floatbank3_a_air      5569\n",
       "secondary_cleaner.state.floatbank3_a_level    5840\n",
       "secondary_cleaner.state.floatbank3_b_air      5524\n",
       "secondary_cleaner.state.floatbank3_b_level    5840\n",
       "secondary_cleaner.state.floatbank4_a_air      5638\n",
       "secondary_cleaner.state.floatbank4_a_level    5835\n",
       "secondary_cleaner.state.floatbank4_b_air      5627\n",
       "secondary_cleaner.state.floatbank4_b_level    5840\n",
       "secondary_cleaner.state.floatbank5_a_air      5840\n",
       "secondary_cleaner.state.floatbank5_a_level    5838\n",
       "secondary_cleaner.state.floatbank5_b_air      5834\n",
       "secondary_cleaner.state.floatbank5_b_level    5840\n",
       "secondary_cleaner.state.floatbank6_a_air      5839\n",
       "secondary_cleaner.state.floatbank6_a_level    5840\n",
       "dtype: int64"
      ]
     },
     "metadata": {},
     "output_type": "display_data"
    },
    {
     "name": "stdout",
     "output_type": "stream",
     "text": [
      "===========Обучающая выборка============\n"
     ]
    },
    {
     "data": {
      "text/plain": [
       "date                                          16860\n",
       "final.output.concentrate_ag                   15080\n",
       "final.output.concentrate_pb                   15060\n",
       "final.output.concentrate_sol                  14778\n",
       "final.output.concentrate_au                   15081\n",
       "                                              ...  \n",
       "secondary_cleaner.state.floatbank5_a_level    16766\n",
       "secondary_cleaner.state.floatbank5_b_air      16764\n",
       "secondary_cleaner.state.floatbank5_b_level    16760\n",
       "secondary_cleaner.state.floatbank6_a_air      16748\n",
       "secondary_cleaner.state.floatbank6_a_level    16758\n",
       "Length: 87, dtype: int64"
      ]
     },
     "metadata": {},
     "output_type": "display_data"
    },
    {
     "name": "stdout",
     "output_type": "stream",
     "text": [
      "============Full=========================\n"
     ]
    },
    {
     "data": {
      "text/plain": [
       "date                                          22716\n",
       "final.output.concentrate_ag                   20480\n",
       "final.output.concentrate_pb                   20444\n",
       "final.output.concentrate_sol                  20177\n",
       "final.output.concentrate_au                   20483\n",
       "                                              ...  \n",
       "secondary_cleaner.state.floatbank5_a_level    22604\n",
       "secondary_cleaner.state.floatbank5_b_air      22598\n",
       "secondary_cleaner.state.floatbank5_b_level    22600\n",
       "secondary_cleaner.state.floatbank6_a_air      22587\n",
       "secondary_cleaner.state.floatbank6_a_level    22598\n",
       "Length: 87, dtype: int64"
      ]
     },
     "metadata": {},
     "output_type": "display_data"
    }
   ],
   "source": [
    "#Уникальные значения таблиц\n",
    "print('===========Тестовая выборка============')\n",
    "display(test.nunique())\n",
    "print('===========Обучающая выборка============')\n",
    "display(train.nunique())\n",
    "print('============Full=========================')\n",
    "display(full.nunique())"
   ]
  },
  {
   "cell_type": "code",
   "execution_count": 10,
   "metadata": {},
   "outputs": [
    {
     "name": "stdout",
     "output_type": "stream",
     "text": [
      "Тестовая выборка, количество дубликатов:  0\n",
      "Обучающая выборка, количество дубликатов:  0\n",
      "Full Dataset, количество дубликатов:  0\n"
     ]
    }
   ],
   "source": [
    "#Проверим на наличие дубликатов\n",
    "print('Тестовая выборка, количество дубликатов: ',test.duplicated().sum())\n",
    "print('Обучающая выборка, количество дубликатов: ',train.duplicated().sum())\n",
    "print('Full Dataset, количество дубликатов: ',full.duplicated().sum())"
   ]
  },
  {
   "cell_type": "markdown",
   "metadata": {},
   "source": [
    "### 1.2. Проверим, что эффективность обогащения рассчитана правильно. Вычислим ее на обучающей выборке для признака \"rougher.output.recovery\". Найдем MAE между нашими расчетами и значениями признака. Опишем выводы."
   ]
  },
  {
   "cell_type": "code",
   "execution_count": 11,
   "metadata": {},
   "outputs": [],
   "source": [
    "def recovery(c,f,t):\n",
    "\n",
    "#Расчитаем эффективность с помощью формулы recovery данной в инструкции.\n",
    "\n",
    "    prerecovery = (c*(f-t)) / (f*(c-t))\n",
    "    recovery = prerecovery * 100\n",
    "\n",
    "# Заполним слишком маленькие и слишком большие значения с помощью np.nan\n",
    "    recovery[recovery<0] = np.nan\n",
    "    recovery[recovery>100] = np.nan\n",
    "    \n",
    "    return recovery"
   ]
  },
  {
   "cell_type": "code",
   "execution_count": 12,
   "metadata": {},
   "outputs": [],
   "source": [
    "c = train['rougher.output.concentrate_au']\n",
    "f = train['rougher.input.feed_au']\n",
    "t = train['rougher.output.tail_au']\n",
    "\n",
    "recovery_list = recovery(c,f,t)"
   ]
  },
  {
   "cell_type": "code",
   "execution_count": 13,
   "metadata": {},
   "outputs": [
    {
     "name": "stdout",
     "output_type": "stream",
     "text": [
      "Средняя абсолютная ошибка: 8.00350954615662e-15\n"
     ]
    }
   ],
   "source": [
    "#Посчитаем MAE, но прежде заполним NAN значения на 0\n",
    "mae = mean_absolute_error(train['rougher.output.recovery'].fillna(0),recovery_list.fillna(0))\n",
    "print('Средняя абсолютная ошибка:', mae)"
   ]
  },
  {
   "cell_type": "code",
   "execution_count": 14,
   "metadata": {},
   "outputs": [
    {
     "name": "stdout",
     "output_type": "stream",
     "text": [
      "Пустых значений в recovery: 2573\n",
      "Пустых значений в train[recovery]: 2573\n"
     ]
    }
   ],
   "source": [
    "#Посчитаем количество пустых значений в наших расчетах и признаках\n",
    "print('Пустых значений в recovery:', recovery_list.isna().sum())\n",
    "print('Пустых значений в train[recovery]:' ,train['rougher.output.recovery'].isna().sum())"
   ]
  },
  {
   "cell_type": "markdown",
   "metadata": {},
   "source": [
    "- Пустых значений выявили 2573\n",
    "- Для подсчета средней абсолютной ошибки пустые значений заменили на 0\n",
    "- Исходя из полученных результатов мы видим, что средняя абсолютная ошибка получилась 8. Можно считать, что наши расчеты достаточно верны."
   ]
  },
  {
   "cell_type": "code",
   "execution_count": 15,
   "metadata": {},
   "outputs": [
    {
     "name": "stdout",
     "output_type": "stream",
     "text": [
      "Your selected dataframe has 87 columns and 16860 Rows.\n",
      "There are 85 columns that have missing values.\n"
     ]
    },
    {
     "data": {
      "text/html": [
       "<div>\n",
       "<style scoped>\n",
       "    .dataframe tbody tr th:only-of-type {\n",
       "        vertical-align: middle;\n",
       "    }\n",
       "\n",
       "    .dataframe tbody tr th {\n",
       "        vertical-align: top;\n",
       "    }\n",
       "\n",
       "    .dataframe thead th {\n",
       "        text-align: right;\n",
       "    }\n",
       "</style>\n",
       "<table border=\"1\" class=\"dataframe\">\n",
       "  <thead>\n",
       "    <tr style=\"text-align: right;\">\n",
       "      <th></th>\n",
       "      <th>Zero Values</th>\n",
       "      <th>Missing Values</th>\n",
       "      <th>% of Total Values</th>\n",
       "      <th>Total Zero Missing Values</th>\n",
       "      <th>% Total Zero Missing Values</th>\n",
       "      <th>Data Type</th>\n",
       "    </tr>\n",
       "  </thead>\n",
       "  <tbody>\n",
       "    <tr>\n",
       "      <td>rougher.output.recovery</td>\n",
       "      <td>320</td>\n",
       "      <td>2573</td>\n",
       "      <td>15.3</td>\n",
       "      <td>2893</td>\n",
       "      <td>17.2</td>\n",
       "      <td>float64</td>\n",
       "    </tr>\n",
       "    <tr>\n",
       "      <td>rougher.output.tail_ag</td>\n",
       "      <td>0</td>\n",
       "      <td>2250</td>\n",
       "      <td>13.3</td>\n",
       "      <td>2250</td>\n",
       "      <td>13.3</td>\n",
       "      <td>float64</td>\n",
       "    </tr>\n",
       "    <tr>\n",
       "      <td>rougher.output.tail_au</td>\n",
       "      <td>0</td>\n",
       "      <td>2249</td>\n",
       "      <td>13.3</td>\n",
       "      <td>2249</td>\n",
       "      <td>13.3</td>\n",
       "      <td>float64</td>\n",
       "    </tr>\n",
       "    <tr>\n",
       "      <td>rougher.output.tail_sol</td>\n",
       "      <td>0</td>\n",
       "      <td>2249</td>\n",
       "      <td>13.3</td>\n",
       "      <td>2249</td>\n",
       "      <td>13.3</td>\n",
       "      <td>float64</td>\n",
       "    </tr>\n",
       "    <tr>\n",
       "      <td>secondary_cleaner.output.tail_sol</td>\n",
       "      <td>2298</td>\n",
       "      <td>1986</td>\n",
       "      <td>11.8</td>\n",
       "      <td>4284</td>\n",
       "      <td>25.4</td>\n",
       "      <td>float64</td>\n",
       "    </tr>\n",
       "    <tr>\n",
       "      <td>...</td>\n",
       "      <td>...</td>\n",
       "      <td>...</td>\n",
       "      <td>...</td>\n",
       "      <td>...</td>\n",
       "      <td>...</td>\n",
       "      <td>...</td>\n",
       "    </tr>\n",
       "    <tr>\n",
       "      <td>primary_cleaner.state.floatbank8_b_level</td>\n",
       "      <td>0</td>\n",
       "      <td>27</td>\n",
       "      <td>0.2</td>\n",
       "      <td>27</td>\n",
       "      <td>0.2</td>\n",
       "      <td>float64</td>\n",
       "    </tr>\n",
       "    <tr>\n",
       "      <td>primary_cleaner.state.floatbank8_c_level</td>\n",
       "      <td>0</td>\n",
       "      <td>27</td>\n",
       "      <td>0.2</td>\n",
       "      <td>27</td>\n",
       "      <td>0.2</td>\n",
       "      <td>float64</td>\n",
       "    </tr>\n",
       "    <tr>\n",
       "      <td>primary_cleaner.state.floatbank8_d_level</td>\n",
       "      <td>0</td>\n",
       "      <td>27</td>\n",
       "      <td>0.2</td>\n",
       "      <td>27</td>\n",
       "      <td>0.2</td>\n",
       "      <td>float64</td>\n",
       "    </tr>\n",
       "    <tr>\n",
       "      <td>rougher.calculation.sulfate_to_au_concentrate</td>\n",
       "      <td>0</td>\n",
       "      <td>27</td>\n",
       "      <td>0.2</td>\n",
       "      <td>27</td>\n",
       "      <td>0.2</td>\n",
       "      <td>float64</td>\n",
       "    </tr>\n",
       "    <tr>\n",
       "      <td>rougher.calculation.floatbank11_sulfate_to_au_feed</td>\n",
       "      <td>0</td>\n",
       "      <td>27</td>\n",
       "      <td>0.2</td>\n",
       "      <td>27</td>\n",
       "      <td>0.2</td>\n",
       "      <td>float64</td>\n",
       "    </tr>\n",
       "  </tbody>\n",
       "</table>\n",
       "<p>85 rows × 6 columns</p>\n",
       "</div>"
      ],
      "text/plain": [
       "                                                    Zero Values  \\\n",
       "rougher.output.recovery                                     320   \n",
       "rougher.output.tail_ag                                        0   \n",
       "rougher.output.tail_au                                        0   \n",
       "rougher.output.tail_sol                                       0   \n",
       "secondary_cleaner.output.tail_sol                          2298   \n",
       "...                                                         ...   \n",
       "primary_cleaner.state.floatbank8_b_level                      0   \n",
       "primary_cleaner.state.floatbank8_c_level                      0   \n",
       "primary_cleaner.state.floatbank8_d_level                      0   \n",
       "rougher.calculation.sulfate_to_au_concentrate                 0   \n",
       "rougher.calculation.floatbank11_sulfate_to_au_feed            0   \n",
       "\n",
       "                                                    Missing Values  \\\n",
       "rougher.output.recovery                                       2573   \n",
       "rougher.output.tail_ag                                        2250   \n",
       "rougher.output.tail_au                                        2249   \n",
       "rougher.output.tail_sol                                       2249   \n",
       "secondary_cleaner.output.tail_sol                             1986   \n",
       "...                                                            ...   \n",
       "primary_cleaner.state.floatbank8_b_level                        27   \n",
       "primary_cleaner.state.floatbank8_c_level                        27   \n",
       "primary_cleaner.state.floatbank8_d_level                        27   \n",
       "rougher.calculation.sulfate_to_au_concentrate                   27   \n",
       "rougher.calculation.floatbank11_sulfate_to_au_feed              27   \n",
       "\n",
       "                                                    % of Total Values  \\\n",
       "rougher.output.recovery                                          15.3   \n",
       "rougher.output.tail_ag                                           13.3   \n",
       "rougher.output.tail_au                                           13.3   \n",
       "rougher.output.tail_sol                                          13.3   \n",
       "secondary_cleaner.output.tail_sol                                11.8   \n",
       "...                                                               ...   \n",
       "primary_cleaner.state.floatbank8_b_level                          0.2   \n",
       "primary_cleaner.state.floatbank8_c_level                          0.2   \n",
       "primary_cleaner.state.floatbank8_d_level                          0.2   \n",
       "rougher.calculation.sulfate_to_au_concentrate                     0.2   \n",
       "rougher.calculation.floatbank11_sulfate_to_au_feed                0.2   \n",
       "\n",
       "                                                    Total Zero Missing Values  \\\n",
       "rougher.output.recovery                                                  2893   \n",
       "rougher.output.tail_ag                                                   2250   \n",
       "rougher.output.tail_au                                                   2249   \n",
       "rougher.output.tail_sol                                                  2249   \n",
       "secondary_cleaner.output.tail_sol                                        4284   \n",
       "...                                                                       ...   \n",
       "primary_cleaner.state.floatbank8_b_level                                   27   \n",
       "primary_cleaner.state.floatbank8_c_level                                   27   \n",
       "primary_cleaner.state.floatbank8_d_level                                   27   \n",
       "rougher.calculation.sulfate_to_au_concentrate                              27   \n",
       "rougher.calculation.floatbank11_sulfate_to_au_feed                         27   \n",
       "\n",
       "                                                    % Total Zero Missing Values  \\\n",
       "rougher.output.recovery                                                    17.2   \n",
       "rougher.output.tail_ag                                                     13.3   \n",
       "rougher.output.tail_au                                                     13.3   \n",
       "rougher.output.tail_sol                                                    13.3   \n",
       "secondary_cleaner.output.tail_sol                                          25.4   \n",
       "...                                                                         ...   \n",
       "primary_cleaner.state.floatbank8_b_level                                    0.2   \n",
       "primary_cleaner.state.floatbank8_c_level                                    0.2   \n",
       "primary_cleaner.state.floatbank8_d_level                                    0.2   \n",
       "rougher.calculation.sulfate_to_au_concentrate                               0.2   \n",
       "rougher.calculation.floatbank11_sulfate_to_au_feed                          0.2   \n",
       "\n",
       "                                                   Data Type  \n",
       "rougher.output.recovery                              float64  \n",
       "rougher.output.tail_ag                               float64  \n",
       "rougher.output.tail_au                               float64  \n",
       "rougher.output.tail_sol                              float64  \n",
       "secondary_cleaner.output.tail_sol                    float64  \n",
       "...                                                      ...  \n",
       "primary_cleaner.state.floatbank8_b_level             float64  \n",
       "primary_cleaner.state.floatbank8_c_level             float64  \n",
       "primary_cleaner.state.floatbank8_d_level             float64  \n",
       "rougher.calculation.sulfate_to_au_concentrate        float64  \n",
       "rougher.calculation.floatbank11_sulfate_to_au_feed   float64  \n",
       "\n",
       "[85 rows x 6 columns]"
      ]
     },
     "execution_count": 15,
     "metadata": {},
     "output_type": "execute_result"
    }
   ],
   "source": [
    "#Изучим пустые значения в таблице train\n",
    "ds.missing_zero_values_table(train)"
   ]
  },
  {
   "cell_type": "code",
   "execution_count": 16,
   "metadata": {},
   "outputs": [
    {
     "name": "stdout",
     "output_type": "stream",
     "text": [
      "Your selected dataframe has 53 columns and 5856 Rows.\n",
      "There are 51 columns that have missing values.\n"
     ]
    },
    {
     "data": {
      "text/html": [
       "<div>\n",
       "<style scoped>\n",
       "    .dataframe tbody tr th:only-of-type {\n",
       "        vertical-align: middle;\n",
       "    }\n",
       "\n",
       "    .dataframe tbody tr th {\n",
       "        vertical-align: top;\n",
       "    }\n",
       "\n",
       "    .dataframe thead th {\n",
       "        text-align: right;\n",
       "    }\n",
       "</style>\n",
       "<table border=\"1\" class=\"dataframe\">\n",
       "  <thead>\n",
       "    <tr style=\"text-align: right;\">\n",
       "      <th></th>\n",
       "      <th>Zero Values</th>\n",
       "      <th>Missing Values</th>\n",
       "      <th>% of Total Values</th>\n",
       "      <th>Total Zero Missing Values</th>\n",
       "      <th>% Total Zero Missing Values</th>\n",
       "      <th>Data Type</th>\n",
       "    </tr>\n",
       "  </thead>\n",
       "  <tbody>\n",
       "    <tr>\n",
       "      <td>rougher.input.floatbank11_xanthate</td>\n",
       "      <td>0</td>\n",
       "      <td>353</td>\n",
       "      <td>6.0</td>\n",
       "      <td>353</td>\n",
       "      <td>6.0</td>\n",
       "      <td>float64</td>\n",
       "    </tr>\n",
       "    <tr>\n",
       "      <td>primary_cleaner.input.sulfate</td>\n",
       "      <td>0</td>\n",
       "      <td>302</td>\n",
       "      <td>5.2</td>\n",
       "      <td>302</td>\n",
       "      <td>5.2</td>\n",
       "      <td>float64</td>\n",
       "    </tr>\n",
       "    <tr>\n",
       "      <td>primary_cleaner.input.depressant</td>\n",
       "      <td>0</td>\n",
       "      <td>284</td>\n",
       "      <td>4.8</td>\n",
       "      <td>284</td>\n",
       "      <td>4.8</td>\n",
       "      <td>float64</td>\n",
       "    </tr>\n",
       "    <tr>\n",
       "      <td>rougher.input.floatbank10_sulfate</td>\n",
       "      <td>0</td>\n",
       "      <td>257</td>\n",
       "      <td>4.4</td>\n",
       "      <td>257</td>\n",
       "      <td>4.4</td>\n",
       "      <td>float64</td>\n",
       "    </tr>\n",
       "    <tr>\n",
       "      <td>primary_cleaner.input.xanthate</td>\n",
       "      <td>0</td>\n",
       "      <td>166</td>\n",
       "      <td>2.8</td>\n",
       "      <td>166</td>\n",
       "      <td>2.8</td>\n",
       "      <td>float64</td>\n",
       "    </tr>\n",
       "    <tr>\n",
       "      <td>rougher.input.floatbank10_xanthate</td>\n",
       "      <td>0</td>\n",
       "      <td>123</td>\n",
       "      <td>2.1</td>\n",
       "      <td>123</td>\n",
       "      <td>2.1</td>\n",
       "      <td>float64</td>\n",
       "    </tr>\n",
       "    <tr>\n",
       "      <td>rougher.input.feed_sol</td>\n",
       "      <td>369</td>\n",
       "      <td>67</td>\n",
       "      <td>1.1</td>\n",
       "      <td>436</td>\n",
       "      <td>7.4</td>\n",
       "      <td>float64</td>\n",
       "    </tr>\n",
       "    <tr>\n",
       "      <td>rougher.input.floatbank11_sulfate</td>\n",
       "      <td>0</td>\n",
       "      <td>55</td>\n",
       "      <td>0.9</td>\n",
       "      <td>55</td>\n",
       "      <td>0.9</td>\n",
       "      <td>float64</td>\n",
       "    </tr>\n",
       "    <tr>\n",
       "      <td>rougher.input.feed_rate</td>\n",
       "      <td>0</td>\n",
       "      <td>40</td>\n",
       "      <td>0.7</td>\n",
       "      <td>40</td>\n",
       "      <td>0.7</td>\n",
       "      <td>float64</td>\n",
       "    </tr>\n",
       "    <tr>\n",
       "      <td>secondary_cleaner.state.floatbank3_a_air</td>\n",
       "      <td>140</td>\n",
       "      <td>34</td>\n",
       "      <td>0.6</td>\n",
       "      <td>174</td>\n",
       "      <td>3.0</td>\n",
       "      <td>float64</td>\n",
       "    </tr>\n",
       "    <tr>\n",
       "      <td>secondary_cleaner.state.floatbank2_b_air</td>\n",
       "      <td>138</td>\n",
       "      <td>23</td>\n",
       "      <td>0.4</td>\n",
       "      <td>161</td>\n",
       "      <td>2.7</td>\n",
       "      <td>float64</td>\n",
       "    </tr>\n",
       "    <tr>\n",
       "      <td>rougher.input.feed_size</td>\n",
       "      <td>0</td>\n",
       "      <td>22</td>\n",
       "      <td>0.4</td>\n",
       "      <td>22</td>\n",
       "      <td>0.4</td>\n",
       "      <td>float64</td>\n",
       "    </tr>\n",
       "    <tr>\n",
       "      <td>secondary_cleaner.state.floatbank2_a_air</td>\n",
       "      <td>5</td>\n",
       "      <td>20</td>\n",
       "      <td>0.3</td>\n",
       "      <td>25</td>\n",
       "      <td>0.4</td>\n",
       "      <td>float64</td>\n",
       "    </tr>\n",
       "    <tr>\n",
       "      <td>rougher.state.floatbank10_f_air</td>\n",
       "      <td>0</td>\n",
       "      <td>17</td>\n",
       "      <td>0.3</td>\n",
       "      <td>17</td>\n",
       "      <td>0.3</td>\n",
       "      <td>float64</td>\n",
       "    </tr>\n",
       "    <tr>\n",
       "      <td>rougher.state.floatbank10_e_air</td>\n",
       "      <td>0</td>\n",
       "      <td>17</td>\n",
       "      <td>0.3</td>\n",
       "      <td>17</td>\n",
       "      <td>0.3</td>\n",
       "      <td>float64</td>\n",
       "    </tr>\n",
       "    <tr>\n",
       "      <td>rougher.state.floatbank10_d_air</td>\n",
       "      <td>0</td>\n",
       "      <td>17</td>\n",
       "      <td>0.3</td>\n",
       "      <td>17</td>\n",
       "      <td>0.3</td>\n",
       "      <td>float64</td>\n",
       "    </tr>\n",
       "    <tr>\n",
       "      <td>rougher.state.floatbank10_b_air</td>\n",
       "      <td>0</td>\n",
       "      <td>17</td>\n",
       "      <td>0.3</td>\n",
       "      <td>17</td>\n",
       "      <td>0.3</td>\n",
       "      <td>float64</td>\n",
       "    </tr>\n",
       "    <tr>\n",
       "      <td>rougher.state.floatbank10_a_air</td>\n",
       "      <td>0</td>\n",
       "      <td>17</td>\n",
       "      <td>0.3</td>\n",
       "      <td>17</td>\n",
       "      <td>0.3</td>\n",
       "      <td>float64</td>\n",
       "    </tr>\n",
       "    <tr>\n",
       "      <td>rougher.state.floatbank10_c_air</td>\n",
       "      <td>0</td>\n",
       "      <td>17</td>\n",
       "      <td>0.3</td>\n",
       "      <td>17</td>\n",
       "      <td>0.3</td>\n",
       "      <td>float64</td>\n",
       "    </tr>\n",
       "    <tr>\n",
       "      <td>rougher.input.feed_au</td>\n",
       "      <td>369</td>\n",
       "      <td>16</td>\n",
       "      <td>0.3</td>\n",
       "      <td>385</td>\n",
       "      <td>6.6</td>\n",
       "      <td>float64</td>\n",
       "    </tr>\n",
       "    <tr>\n",
       "      <td>rougher.input.feed_pb</td>\n",
       "      <td>369</td>\n",
       "      <td>16</td>\n",
       "      <td>0.3</td>\n",
       "      <td>385</td>\n",
       "      <td>6.6</td>\n",
       "      <td>float64</td>\n",
       "    </tr>\n",
       "    <tr>\n",
       "      <td>secondary_cleaner.state.floatbank6_a_air</td>\n",
       "      <td>0</td>\n",
       "      <td>16</td>\n",
       "      <td>0.3</td>\n",
       "      <td>16</td>\n",
       "      <td>0.3</td>\n",
       "      <td>float64</td>\n",
       "    </tr>\n",
       "    <tr>\n",
       "      <td>secondary_cleaner.state.floatbank5_b_level</td>\n",
       "      <td>0</td>\n",
       "      <td>16</td>\n",
       "      <td>0.3</td>\n",
       "      <td>16</td>\n",
       "      <td>0.3</td>\n",
       "      <td>float64</td>\n",
       "    </tr>\n",
       "    <tr>\n",
       "      <td>secondary_cleaner.state.floatbank5_b_air</td>\n",
       "      <td>0</td>\n",
       "      <td>16</td>\n",
       "      <td>0.3</td>\n",
       "      <td>16</td>\n",
       "      <td>0.3</td>\n",
       "      <td>float64</td>\n",
       "    </tr>\n",
       "    <tr>\n",
       "      <td>secondary_cleaner.state.floatbank5_a_level</td>\n",
       "      <td>0</td>\n",
       "      <td>16</td>\n",
       "      <td>0.3</td>\n",
       "      <td>16</td>\n",
       "      <td>0.3</td>\n",
       "      <td>float64</td>\n",
       "    </tr>\n",
       "    <tr>\n",
       "      <td>secondary_cleaner.state.floatbank5_a_air</td>\n",
       "      <td>0</td>\n",
       "      <td>16</td>\n",
       "      <td>0.3</td>\n",
       "      <td>16</td>\n",
       "      <td>0.3</td>\n",
       "      <td>float64</td>\n",
       "    </tr>\n",
       "    <tr>\n",
       "      <td>secondary_cleaner.state.floatbank4_b_level</td>\n",
       "      <td>0</td>\n",
       "      <td>16</td>\n",
       "      <td>0.3</td>\n",
       "      <td>16</td>\n",
       "      <td>0.3</td>\n",
       "      <td>float64</td>\n",
       "    </tr>\n",
       "    <tr>\n",
       "      <td>secondary_cleaner.state.floatbank4_b_air</td>\n",
       "      <td>138</td>\n",
       "      <td>16</td>\n",
       "      <td>0.3</td>\n",
       "      <td>154</td>\n",
       "      <td>2.6</td>\n",
       "      <td>float64</td>\n",
       "    </tr>\n",
       "    <tr>\n",
       "      <td>secondary_cleaner.state.floatbank4_a_level</td>\n",
       "      <td>0</td>\n",
       "      <td>16</td>\n",
       "      <td>0.3</td>\n",
       "      <td>16</td>\n",
       "      <td>0.3</td>\n",
       "      <td>float64</td>\n",
       "    </tr>\n",
       "    <tr>\n",
       "      <td>secondary_cleaner.state.floatbank4_a_air</td>\n",
       "      <td>138</td>\n",
       "      <td>16</td>\n",
       "      <td>0.3</td>\n",
       "      <td>154</td>\n",
       "      <td>2.6</td>\n",
       "      <td>float64</td>\n",
       "    </tr>\n",
       "    <tr>\n",
       "      <td>secondary_cleaner.state.floatbank3_b_level</td>\n",
       "      <td>0</td>\n",
       "      <td>16</td>\n",
       "      <td>0.3</td>\n",
       "      <td>16</td>\n",
       "      <td>0.3</td>\n",
       "      <td>float64</td>\n",
       "    </tr>\n",
       "    <tr>\n",
       "      <td>secondary_cleaner.state.floatbank3_b_air</td>\n",
       "      <td>138</td>\n",
       "      <td>16</td>\n",
       "      <td>0.3</td>\n",
       "      <td>154</td>\n",
       "      <td>2.6</td>\n",
       "      <td>float64</td>\n",
       "    </tr>\n",
       "    <tr>\n",
       "      <td>secondary_cleaner.state.floatbank3_a_level</td>\n",
       "      <td>0</td>\n",
       "      <td>16</td>\n",
       "      <td>0.3</td>\n",
       "      <td>16</td>\n",
       "      <td>0.3</td>\n",
       "      <td>float64</td>\n",
       "    </tr>\n",
       "    <tr>\n",
       "      <td>primary_cleaner.state.floatbank8_a_air</td>\n",
       "      <td>93</td>\n",
       "      <td>16</td>\n",
       "      <td>0.3</td>\n",
       "      <td>109</td>\n",
       "      <td>1.9</td>\n",
       "      <td>float64</td>\n",
       "    </tr>\n",
       "    <tr>\n",
       "      <td>secondary_cleaner.state.floatbank2_b_level</td>\n",
       "      <td>0</td>\n",
       "      <td>16</td>\n",
       "      <td>0.3</td>\n",
       "      <td>16</td>\n",
       "      <td>0.3</td>\n",
       "      <td>float64</td>\n",
       "    </tr>\n",
       "    <tr>\n",
       "      <td>primary_cleaner.state.floatbank8_a_level</td>\n",
       "      <td>0</td>\n",
       "      <td>16</td>\n",
       "      <td>0.3</td>\n",
       "      <td>16</td>\n",
       "      <td>0.3</td>\n",
       "      <td>float64</td>\n",
       "    </tr>\n",
       "    <tr>\n",
       "      <td>secondary_cleaner.state.floatbank2_a_level</td>\n",
       "      <td>0</td>\n",
       "      <td>16</td>\n",
       "      <td>0.3</td>\n",
       "      <td>16</td>\n",
       "      <td>0.3</td>\n",
       "      <td>float64</td>\n",
       "    </tr>\n",
       "    <tr>\n",
       "      <td>primary_cleaner.state.floatbank8_b_air</td>\n",
       "      <td>88</td>\n",
       "      <td>16</td>\n",
       "      <td>0.3</td>\n",
       "      <td>104</td>\n",
       "      <td>1.8</td>\n",
       "      <td>float64</td>\n",
       "    </tr>\n",
       "    <tr>\n",
       "      <td>rougher.state.floatbank10_f_level</td>\n",
       "      <td>0</td>\n",
       "      <td>16</td>\n",
       "      <td>0.3</td>\n",
       "      <td>16</td>\n",
       "      <td>0.3</td>\n",
       "      <td>float64</td>\n",
       "    </tr>\n",
       "    <tr>\n",
       "      <td>primary_cleaner.state.floatbank8_b_level</td>\n",
       "      <td>0</td>\n",
       "      <td>16</td>\n",
       "      <td>0.3</td>\n",
       "      <td>16</td>\n",
       "      <td>0.3</td>\n",
       "      <td>float64</td>\n",
       "    </tr>\n",
       "    <tr>\n",
       "      <td>rougher.state.floatbank10_e_level</td>\n",
       "      <td>0</td>\n",
       "      <td>16</td>\n",
       "      <td>0.3</td>\n",
       "      <td>16</td>\n",
       "      <td>0.3</td>\n",
       "      <td>float64</td>\n",
       "    </tr>\n",
       "    <tr>\n",
       "      <td>primary_cleaner.state.floatbank8_c_air</td>\n",
       "      <td>48</td>\n",
       "      <td>16</td>\n",
       "      <td>0.3</td>\n",
       "      <td>64</td>\n",
       "      <td>1.1</td>\n",
       "      <td>float64</td>\n",
       "    </tr>\n",
       "    <tr>\n",
       "      <td>rougher.state.floatbank10_d_level</td>\n",
       "      <td>0</td>\n",
       "      <td>16</td>\n",
       "      <td>0.3</td>\n",
       "      <td>16</td>\n",
       "      <td>0.3</td>\n",
       "      <td>float64</td>\n",
       "    </tr>\n",
       "    <tr>\n",
       "      <td>primary_cleaner.state.floatbank8_c_level</td>\n",
       "      <td>0</td>\n",
       "      <td>16</td>\n",
       "      <td>0.3</td>\n",
       "      <td>16</td>\n",
       "      <td>0.3</td>\n",
       "      <td>float64</td>\n",
       "    </tr>\n",
       "    <tr>\n",
       "      <td>rougher.state.floatbank10_c_level</td>\n",
       "      <td>0</td>\n",
       "      <td>16</td>\n",
       "      <td>0.3</td>\n",
       "      <td>16</td>\n",
       "      <td>0.3</td>\n",
       "      <td>float64</td>\n",
       "    </tr>\n",
       "    <tr>\n",
       "      <td>primary_cleaner.state.floatbank8_d_air</td>\n",
       "      <td>48</td>\n",
       "      <td>16</td>\n",
       "      <td>0.3</td>\n",
       "      <td>64</td>\n",
       "      <td>1.1</td>\n",
       "      <td>float64</td>\n",
       "    </tr>\n",
       "    <tr>\n",
       "      <td>rougher.state.floatbank10_b_level</td>\n",
       "      <td>0</td>\n",
       "      <td>16</td>\n",
       "      <td>0.3</td>\n",
       "      <td>16</td>\n",
       "      <td>0.3</td>\n",
       "      <td>float64</td>\n",
       "    </tr>\n",
       "    <tr>\n",
       "      <td>primary_cleaner.state.floatbank8_d_level</td>\n",
       "      <td>0</td>\n",
       "      <td>16</td>\n",
       "      <td>0.3</td>\n",
       "      <td>16</td>\n",
       "      <td>0.3</td>\n",
       "      <td>float64</td>\n",
       "    </tr>\n",
       "    <tr>\n",
       "      <td>rougher.state.floatbank10_a_level</td>\n",
       "      <td>0</td>\n",
       "      <td>16</td>\n",
       "      <td>0.3</td>\n",
       "      <td>16</td>\n",
       "      <td>0.3</td>\n",
       "      <td>float64</td>\n",
       "    </tr>\n",
       "    <tr>\n",
       "      <td>rougher.input.feed_ag</td>\n",
       "      <td>369</td>\n",
       "      <td>16</td>\n",
       "      <td>0.3</td>\n",
       "      <td>385</td>\n",
       "      <td>6.6</td>\n",
       "      <td>float64</td>\n",
       "    </tr>\n",
       "    <tr>\n",
       "      <td>secondary_cleaner.state.floatbank6_a_level</td>\n",
       "      <td>0</td>\n",
       "      <td>16</td>\n",
       "      <td>0.3</td>\n",
       "      <td>16</td>\n",
       "      <td>0.3</td>\n",
       "      <td>float64</td>\n",
       "    </tr>\n",
       "  </tbody>\n",
       "</table>\n",
       "</div>"
      ],
      "text/plain": [
       "                                            Zero Values  Missing Values  \\\n",
       "rougher.input.floatbank11_xanthate                    0             353   \n",
       "primary_cleaner.input.sulfate                         0             302   \n",
       "primary_cleaner.input.depressant                      0             284   \n",
       "rougher.input.floatbank10_sulfate                     0             257   \n",
       "primary_cleaner.input.xanthate                        0             166   \n",
       "rougher.input.floatbank10_xanthate                    0             123   \n",
       "rougher.input.feed_sol                              369              67   \n",
       "rougher.input.floatbank11_sulfate                     0              55   \n",
       "rougher.input.feed_rate                               0              40   \n",
       "secondary_cleaner.state.floatbank3_a_air            140              34   \n",
       "secondary_cleaner.state.floatbank2_b_air            138              23   \n",
       "rougher.input.feed_size                               0              22   \n",
       "secondary_cleaner.state.floatbank2_a_air              5              20   \n",
       "rougher.state.floatbank10_f_air                       0              17   \n",
       "rougher.state.floatbank10_e_air                       0              17   \n",
       "rougher.state.floatbank10_d_air                       0              17   \n",
       "rougher.state.floatbank10_b_air                       0              17   \n",
       "rougher.state.floatbank10_a_air                       0              17   \n",
       "rougher.state.floatbank10_c_air                       0              17   \n",
       "rougher.input.feed_au                               369              16   \n",
       "rougher.input.feed_pb                               369              16   \n",
       "secondary_cleaner.state.floatbank6_a_air              0              16   \n",
       "secondary_cleaner.state.floatbank5_b_level            0              16   \n",
       "secondary_cleaner.state.floatbank5_b_air              0              16   \n",
       "secondary_cleaner.state.floatbank5_a_level            0              16   \n",
       "secondary_cleaner.state.floatbank5_a_air              0              16   \n",
       "secondary_cleaner.state.floatbank4_b_level            0              16   \n",
       "secondary_cleaner.state.floatbank4_b_air            138              16   \n",
       "secondary_cleaner.state.floatbank4_a_level            0              16   \n",
       "secondary_cleaner.state.floatbank4_a_air            138              16   \n",
       "secondary_cleaner.state.floatbank3_b_level            0              16   \n",
       "secondary_cleaner.state.floatbank3_b_air            138              16   \n",
       "secondary_cleaner.state.floatbank3_a_level            0              16   \n",
       "primary_cleaner.state.floatbank8_a_air               93              16   \n",
       "secondary_cleaner.state.floatbank2_b_level            0              16   \n",
       "primary_cleaner.state.floatbank8_a_level              0              16   \n",
       "secondary_cleaner.state.floatbank2_a_level            0              16   \n",
       "primary_cleaner.state.floatbank8_b_air               88              16   \n",
       "rougher.state.floatbank10_f_level                     0              16   \n",
       "primary_cleaner.state.floatbank8_b_level              0              16   \n",
       "rougher.state.floatbank10_e_level                     0              16   \n",
       "primary_cleaner.state.floatbank8_c_air               48              16   \n",
       "rougher.state.floatbank10_d_level                     0              16   \n",
       "primary_cleaner.state.floatbank8_c_level              0              16   \n",
       "rougher.state.floatbank10_c_level                     0              16   \n",
       "primary_cleaner.state.floatbank8_d_air               48              16   \n",
       "rougher.state.floatbank10_b_level                     0              16   \n",
       "primary_cleaner.state.floatbank8_d_level              0              16   \n",
       "rougher.state.floatbank10_a_level                     0              16   \n",
       "rougher.input.feed_ag                               369              16   \n",
       "secondary_cleaner.state.floatbank6_a_level            0              16   \n",
       "\n",
       "                                            % of Total Values  \\\n",
       "rougher.input.floatbank11_xanthate                        6.0   \n",
       "primary_cleaner.input.sulfate                             5.2   \n",
       "primary_cleaner.input.depressant                          4.8   \n",
       "rougher.input.floatbank10_sulfate                         4.4   \n",
       "primary_cleaner.input.xanthate                            2.8   \n",
       "rougher.input.floatbank10_xanthate                        2.1   \n",
       "rougher.input.feed_sol                                    1.1   \n",
       "rougher.input.floatbank11_sulfate                         0.9   \n",
       "rougher.input.feed_rate                                   0.7   \n",
       "secondary_cleaner.state.floatbank3_a_air                  0.6   \n",
       "secondary_cleaner.state.floatbank2_b_air                  0.4   \n",
       "rougher.input.feed_size                                   0.4   \n",
       "secondary_cleaner.state.floatbank2_a_air                  0.3   \n",
       "rougher.state.floatbank10_f_air                           0.3   \n",
       "rougher.state.floatbank10_e_air                           0.3   \n",
       "rougher.state.floatbank10_d_air                           0.3   \n",
       "rougher.state.floatbank10_b_air                           0.3   \n",
       "rougher.state.floatbank10_a_air                           0.3   \n",
       "rougher.state.floatbank10_c_air                           0.3   \n",
       "rougher.input.feed_au                                     0.3   \n",
       "rougher.input.feed_pb                                     0.3   \n",
       "secondary_cleaner.state.floatbank6_a_air                  0.3   \n",
       "secondary_cleaner.state.floatbank5_b_level                0.3   \n",
       "secondary_cleaner.state.floatbank5_b_air                  0.3   \n",
       "secondary_cleaner.state.floatbank5_a_level                0.3   \n",
       "secondary_cleaner.state.floatbank5_a_air                  0.3   \n",
       "secondary_cleaner.state.floatbank4_b_level                0.3   \n",
       "secondary_cleaner.state.floatbank4_b_air                  0.3   \n",
       "secondary_cleaner.state.floatbank4_a_level                0.3   \n",
       "secondary_cleaner.state.floatbank4_a_air                  0.3   \n",
       "secondary_cleaner.state.floatbank3_b_level                0.3   \n",
       "secondary_cleaner.state.floatbank3_b_air                  0.3   \n",
       "secondary_cleaner.state.floatbank3_a_level                0.3   \n",
       "primary_cleaner.state.floatbank8_a_air                    0.3   \n",
       "secondary_cleaner.state.floatbank2_b_level                0.3   \n",
       "primary_cleaner.state.floatbank8_a_level                  0.3   \n",
       "secondary_cleaner.state.floatbank2_a_level                0.3   \n",
       "primary_cleaner.state.floatbank8_b_air                    0.3   \n",
       "rougher.state.floatbank10_f_level                         0.3   \n",
       "primary_cleaner.state.floatbank8_b_level                  0.3   \n",
       "rougher.state.floatbank10_e_level                         0.3   \n",
       "primary_cleaner.state.floatbank8_c_air                    0.3   \n",
       "rougher.state.floatbank10_d_level                         0.3   \n",
       "primary_cleaner.state.floatbank8_c_level                  0.3   \n",
       "rougher.state.floatbank10_c_level                         0.3   \n",
       "primary_cleaner.state.floatbank8_d_air                    0.3   \n",
       "rougher.state.floatbank10_b_level                         0.3   \n",
       "primary_cleaner.state.floatbank8_d_level                  0.3   \n",
       "rougher.state.floatbank10_a_level                         0.3   \n",
       "rougher.input.feed_ag                                     0.3   \n",
       "secondary_cleaner.state.floatbank6_a_level                0.3   \n",
       "\n",
       "                                            Total Zero Missing Values  \\\n",
       "rougher.input.floatbank11_xanthate                                353   \n",
       "primary_cleaner.input.sulfate                                     302   \n",
       "primary_cleaner.input.depressant                                  284   \n",
       "rougher.input.floatbank10_sulfate                                 257   \n",
       "primary_cleaner.input.xanthate                                    166   \n",
       "rougher.input.floatbank10_xanthate                                123   \n",
       "rougher.input.feed_sol                                            436   \n",
       "rougher.input.floatbank11_sulfate                                  55   \n",
       "rougher.input.feed_rate                                            40   \n",
       "secondary_cleaner.state.floatbank3_a_air                          174   \n",
       "secondary_cleaner.state.floatbank2_b_air                          161   \n",
       "rougher.input.feed_size                                            22   \n",
       "secondary_cleaner.state.floatbank2_a_air                           25   \n",
       "rougher.state.floatbank10_f_air                                    17   \n",
       "rougher.state.floatbank10_e_air                                    17   \n",
       "rougher.state.floatbank10_d_air                                    17   \n",
       "rougher.state.floatbank10_b_air                                    17   \n",
       "rougher.state.floatbank10_a_air                                    17   \n",
       "rougher.state.floatbank10_c_air                                    17   \n",
       "rougher.input.feed_au                                             385   \n",
       "rougher.input.feed_pb                                             385   \n",
       "secondary_cleaner.state.floatbank6_a_air                           16   \n",
       "secondary_cleaner.state.floatbank5_b_level                         16   \n",
       "secondary_cleaner.state.floatbank5_b_air                           16   \n",
       "secondary_cleaner.state.floatbank5_a_level                         16   \n",
       "secondary_cleaner.state.floatbank5_a_air                           16   \n",
       "secondary_cleaner.state.floatbank4_b_level                         16   \n",
       "secondary_cleaner.state.floatbank4_b_air                          154   \n",
       "secondary_cleaner.state.floatbank4_a_level                         16   \n",
       "secondary_cleaner.state.floatbank4_a_air                          154   \n",
       "secondary_cleaner.state.floatbank3_b_level                         16   \n",
       "secondary_cleaner.state.floatbank3_b_air                          154   \n",
       "secondary_cleaner.state.floatbank3_a_level                         16   \n",
       "primary_cleaner.state.floatbank8_a_air                            109   \n",
       "secondary_cleaner.state.floatbank2_b_level                         16   \n",
       "primary_cleaner.state.floatbank8_a_level                           16   \n",
       "secondary_cleaner.state.floatbank2_a_level                         16   \n",
       "primary_cleaner.state.floatbank8_b_air                            104   \n",
       "rougher.state.floatbank10_f_level                                  16   \n",
       "primary_cleaner.state.floatbank8_b_level                           16   \n",
       "rougher.state.floatbank10_e_level                                  16   \n",
       "primary_cleaner.state.floatbank8_c_air                             64   \n",
       "rougher.state.floatbank10_d_level                                  16   \n",
       "primary_cleaner.state.floatbank8_c_level                           16   \n",
       "rougher.state.floatbank10_c_level                                  16   \n",
       "primary_cleaner.state.floatbank8_d_air                             64   \n",
       "rougher.state.floatbank10_b_level                                  16   \n",
       "primary_cleaner.state.floatbank8_d_level                           16   \n",
       "rougher.state.floatbank10_a_level                                  16   \n",
       "rougher.input.feed_ag                                             385   \n",
       "secondary_cleaner.state.floatbank6_a_level                         16   \n",
       "\n",
       "                                            % Total Zero Missing Values  \\\n",
       "rougher.input.floatbank11_xanthate                                  6.0   \n",
       "primary_cleaner.input.sulfate                                       5.2   \n",
       "primary_cleaner.input.depressant                                    4.8   \n",
       "rougher.input.floatbank10_sulfate                                   4.4   \n",
       "primary_cleaner.input.xanthate                                      2.8   \n",
       "rougher.input.floatbank10_xanthate                                  2.1   \n",
       "rougher.input.feed_sol                                              7.4   \n",
       "rougher.input.floatbank11_sulfate                                   0.9   \n",
       "rougher.input.feed_rate                                             0.7   \n",
       "secondary_cleaner.state.floatbank3_a_air                            3.0   \n",
       "secondary_cleaner.state.floatbank2_b_air                            2.7   \n",
       "rougher.input.feed_size                                             0.4   \n",
       "secondary_cleaner.state.floatbank2_a_air                            0.4   \n",
       "rougher.state.floatbank10_f_air                                     0.3   \n",
       "rougher.state.floatbank10_e_air                                     0.3   \n",
       "rougher.state.floatbank10_d_air                                     0.3   \n",
       "rougher.state.floatbank10_b_air                                     0.3   \n",
       "rougher.state.floatbank10_a_air                                     0.3   \n",
       "rougher.state.floatbank10_c_air                                     0.3   \n",
       "rougher.input.feed_au                                               6.6   \n",
       "rougher.input.feed_pb                                               6.6   \n",
       "secondary_cleaner.state.floatbank6_a_air                            0.3   \n",
       "secondary_cleaner.state.floatbank5_b_level                          0.3   \n",
       "secondary_cleaner.state.floatbank5_b_air                            0.3   \n",
       "secondary_cleaner.state.floatbank5_a_level                          0.3   \n",
       "secondary_cleaner.state.floatbank5_a_air                            0.3   \n",
       "secondary_cleaner.state.floatbank4_b_level                          0.3   \n",
       "secondary_cleaner.state.floatbank4_b_air                            2.6   \n",
       "secondary_cleaner.state.floatbank4_a_level                          0.3   \n",
       "secondary_cleaner.state.floatbank4_a_air                            2.6   \n",
       "secondary_cleaner.state.floatbank3_b_level                          0.3   \n",
       "secondary_cleaner.state.floatbank3_b_air                            2.6   \n",
       "secondary_cleaner.state.floatbank3_a_level                          0.3   \n",
       "primary_cleaner.state.floatbank8_a_air                              1.9   \n",
       "secondary_cleaner.state.floatbank2_b_level                          0.3   \n",
       "primary_cleaner.state.floatbank8_a_level                            0.3   \n",
       "secondary_cleaner.state.floatbank2_a_level                          0.3   \n",
       "primary_cleaner.state.floatbank8_b_air                              1.8   \n",
       "rougher.state.floatbank10_f_level                                   0.3   \n",
       "primary_cleaner.state.floatbank8_b_level                            0.3   \n",
       "rougher.state.floatbank10_e_level                                   0.3   \n",
       "primary_cleaner.state.floatbank8_c_air                              1.1   \n",
       "rougher.state.floatbank10_d_level                                   0.3   \n",
       "primary_cleaner.state.floatbank8_c_level                            0.3   \n",
       "rougher.state.floatbank10_c_level                                   0.3   \n",
       "primary_cleaner.state.floatbank8_d_air                              1.1   \n",
       "rougher.state.floatbank10_b_level                                   0.3   \n",
       "primary_cleaner.state.floatbank8_d_level                            0.3   \n",
       "rougher.state.floatbank10_a_level                                   0.3   \n",
       "rougher.input.feed_ag                                               6.6   \n",
       "secondary_cleaner.state.floatbank6_a_level                          0.3   \n",
       "\n",
       "                                           Data Type  \n",
       "rougher.input.floatbank11_xanthate           float64  \n",
       "primary_cleaner.input.sulfate                float64  \n",
       "primary_cleaner.input.depressant             float64  \n",
       "rougher.input.floatbank10_sulfate            float64  \n",
       "primary_cleaner.input.xanthate               float64  \n",
       "rougher.input.floatbank10_xanthate           float64  \n",
       "rougher.input.feed_sol                       float64  \n",
       "rougher.input.floatbank11_sulfate            float64  \n",
       "rougher.input.feed_rate                      float64  \n",
       "secondary_cleaner.state.floatbank3_a_air     float64  \n",
       "secondary_cleaner.state.floatbank2_b_air     float64  \n",
       "rougher.input.feed_size                      float64  \n",
       "secondary_cleaner.state.floatbank2_a_air     float64  \n",
       "rougher.state.floatbank10_f_air              float64  \n",
       "rougher.state.floatbank10_e_air              float64  \n",
       "rougher.state.floatbank10_d_air              float64  \n",
       "rougher.state.floatbank10_b_air              float64  \n",
       "rougher.state.floatbank10_a_air              float64  \n",
       "rougher.state.floatbank10_c_air              float64  \n",
       "rougher.input.feed_au                        float64  \n",
       "rougher.input.feed_pb                        float64  \n",
       "secondary_cleaner.state.floatbank6_a_air     float64  \n",
       "secondary_cleaner.state.floatbank5_b_level   float64  \n",
       "secondary_cleaner.state.floatbank5_b_air     float64  \n",
       "secondary_cleaner.state.floatbank5_a_level   float64  \n",
       "secondary_cleaner.state.floatbank5_a_air     float64  \n",
       "secondary_cleaner.state.floatbank4_b_level   float64  \n",
       "secondary_cleaner.state.floatbank4_b_air     float64  \n",
       "secondary_cleaner.state.floatbank4_a_level   float64  \n",
       "secondary_cleaner.state.floatbank4_a_air     float64  \n",
       "secondary_cleaner.state.floatbank3_b_level   float64  \n",
       "secondary_cleaner.state.floatbank3_b_air     float64  \n",
       "secondary_cleaner.state.floatbank3_a_level   float64  \n",
       "primary_cleaner.state.floatbank8_a_air       float64  \n",
       "secondary_cleaner.state.floatbank2_b_level   float64  \n",
       "primary_cleaner.state.floatbank8_a_level     float64  \n",
       "secondary_cleaner.state.floatbank2_a_level   float64  \n",
       "primary_cleaner.state.floatbank8_b_air       float64  \n",
       "rougher.state.floatbank10_f_level            float64  \n",
       "primary_cleaner.state.floatbank8_b_level     float64  \n",
       "rougher.state.floatbank10_e_level            float64  \n",
       "primary_cleaner.state.floatbank8_c_air       float64  \n",
       "rougher.state.floatbank10_d_level            float64  \n",
       "primary_cleaner.state.floatbank8_c_level     float64  \n",
       "rougher.state.floatbank10_c_level            float64  \n",
       "primary_cleaner.state.floatbank8_d_air       float64  \n",
       "rougher.state.floatbank10_b_level            float64  \n",
       "primary_cleaner.state.floatbank8_d_level     float64  \n",
       "rougher.state.floatbank10_a_level            float64  \n",
       "rougher.input.feed_ag                        float64  \n",
       "secondary_cleaner.state.floatbank6_a_level   float64  "
      ]
     },
     "execution_count": 16,
     "metadata": {},
     "output_type": "execute_result"
    }
   ],
   "source": [
    "#Изучим пустые значения в таблице test\n",
    "ds.missing_zero_values_table(test)"
   ]
  },
  {
   "cell_type": "markdown",
   "metadata": {},
   "source": [
    "- Невооруженным взглядом можно увидеть, что пропусков в обучающей выборке намного больше, чем тестовой. Нужно будет подумать, как и на что заполнять пустые значения, прежде чем переходить к создании нашей модели."
   ]
  },
  {
   "cell_type": "markdown",
   "metadata": {},
   "source": [
    "### 1.3. Проанализируем признаки, недоступные в тестовой выборке. Что это за параметры и к какому типу относятся? "
   ]
  },
  {
   "cell_type": "code",
   "execution_count": 17,
   "metadata": {},
   "outputs": [
    {
     "name": "stdout",
     "output_type": "stream",
     "text": [
      "======= Отличающиеся столбцы ======\n",
      "1. final.output.concentrate_ag\n",
      "2. final.output.concentrate_au\n",
      "3. final.output.concentrate_pb\n",
      "4. final.output.concentrate_sol\n",
      "5. final.output.recovery\n",
      "6. final.output.tail_ag\n",
      "7. final.output.tail_au\n",
      "8. final.output.tail_pb\n",
      "9. final.output.tail_sol\n",
      "10. primary_cleaner.output.concentrate_ag\n",
      "11. primary_cleaner.output.concentrate_au\n",
      "12. primary_cleaner.output.concentrate_pb\n",
      "13. primary_cleaner.output.concentrate_sol\n",
      "14. primary_cleaner.output.tail_ag\n",
      "15. primary_cleaner.output.tail_au\n",
      "16. primary_cleaner.output.tail_pb\n",
      "17. primary_cleaner.output.tail_sol\n",
      "18. rougher.calculation.au_pb_ratio\n",
      "19. rougher.calculation.floatbank10_sulfate_to_au_feed\n",
      "20. rougher.calculation.floatbank11_sulfate_to_au_feed\n",
      "21. rougher.calculation.sulfate_to_au_concentrate\n",
      "22. rougher.output.concentrate_ag\n",
      "23. rougher.output.concentrate_au\n",
      "24. rougher.output.concentrate_pb\n",
      "25. rougher.output.concentrate_sol\n",
      "26. rougher.output.recovery\n",
      "27. rougher.output.tail_ag\n",
      "28. rougher.output.tail_au\n",
      "29. rougher.output.tail_pb\n",
      "30. rougher.output.tail_sol\n",
      "31. secondary_cleaner.output.tail_ag\n",
      "32. secondary_cleaner.output.tail_au\n",
      "33. secondary_cleaner.output.tail_pb\n",
      "34. secondary_cleaner.output.tail_sol\n",
      "\n",
      "\n",
      "Количество столбцов в df1: 87\n",
      "Количество столбцов в df2: 53\n",
      "\n",
      "Общее количество отличающихся столбцов:  34\n"
     ]
    }
   ],
   "source": [
    "#Сравним признаки в тестовой и обучающей выборке. Найдем различающиеся прзнаки\n",
    "ds.differences_in_columns(train, test)"
   ]
  },
  {
   "cell_type": "markdown",
   "metadata": {},
   "source": [
    "- В тестовой выборке отсутствуют признаки final.output*, primary_cleaner.output*, rougher.output*, secondary_cleaner.output*. \n",
    "- Данные относятся параметрам продукта, параметрам характеризующие текущее состояние этапа и расчетные характеристики. "
   ]
  },
  {
   "cell_type": "markdown",
   "metadata": {},
   "source": [
    "### 1.4. Проведем предобработку данных."
   ]
  },
  {
   "cell_type": "code",
   "execution_count": 18,
   "metadata": {},
   "outputs": [
    {
     "name": "stdout",
     "output_type": "stream",
     "text": [
      "======= Отличающиеся столбцы ======\n",
      "\n",
      "\n",
      "Количество столбцов в df1: 53\n",
      "Количество столбцов в df2: 53\n",
      "\n",
      "Общее количество отличающихся столбцов:  0\n"
     ]
    }
   ],
   "source": [
    "# Удалим признаки в обучающей выборке, которых нет в тестовой выборке и сразу проверим. \n",
    "\n",
    "train = train[test.columns]\n",
    "ds.differences_in_columns(train, test)"
   ]
  },
  {
   "cell_type": "code",
   "execution_count": 19,
   "metadata": {},
   "outputs": [],
   "source": [
    "#Удалим пустые строки в обучающей и тестовой выборках\n",
    "ds.clean_dataset(train)\n",
    "ds.clean_dataset(test)"
   ]
  },
  {
   "cell_type": "code",
   "execution_count": 20,
   "metadata": {},
   "outputs": [
    {
     "name": "stdout",
     "output_type": "stream",
     "text": [
      "В обучающей выборке : 13522 строк 53 признаков\n",
      "В тестовой выборке: 5383 строк 53 признаков\n"
     ]
    }
   ],
   "source": [
    "print('В обучающей выборке : {} строк {} признаков'.format(train.shape[0],train.shape[1]))\n",
    "print('В тестовой выборке: {} строк {} признаков'.format(test.shape[0], test.shape[1]))"
   ]
  },
  {
   "cell_type": "code",
   "execution_count": 21,
   "metadata": {},
   "outputs": [
    {
     "data": {
      "text/plain": [
       "date                                          0\n",
       "primary_cleaner.input.sulfate                 0\n",
       "primary_cleaner.input.depressant              0\n",
       "primary_cleaner.input.feed_size               0\n",
       "primary_cleaner.input.xanthate                0\n",
       "primary_cleaner.state.floatbank8_a_air        0\n",
       "primary_cleaner.state.floatbank8_a_level      0\n",
       "primary_cleaner.state.floatbank8_b_air        0\n",
       "primary_cleaner.state.floatbank8_b_level      0\n",
       "primary_cleaner.state.floatbank8_c_air        0\n",
       "primary_cleaner.state.floatbank8_c_level      0\n",
       "primary_cleaner.state.floatbank8_d_air        0\n",
       "primary_cleaner.state.floatbank8_d_level      0\n",
       "rougher.input.feed_ag                         0\n",
       "rougher.input.feed_pb                         0\n",
       "rougher.input.feed_rate                       0\n",
       "rougher.input.feed_size                       0\n",
       "rougher.input.feed_sol                        0\n",
       "rougher.input.feed_au                         0\n",
       "rougher.input.floatbank10_sulfate             0\n",
       "rougher.input.floatbank10_xanthate            0\n",
       "rougher.input.floatbank11_sulfate             0\n",
       "rougher.input.floatbank11_xanthate            0\n",
       "rougher.state.floatbank10_a_air               0\n",
       "rougher.state.floatbank10_a_level             0\n",
       "rougher.state.floatbank10_b_air               0\n",
       "rougher.state.floatbank10_b_level             0\n",
       "rougher.state.floatbank10_c_air               0\n",
       "rougher.state.floatbank10_c_level             0\n",
       "rougher.state.floatbank10_d_air               0\n",
       "rougher.state.floatbank10_d_level             0\n",
       "rougher.state.floatbank10_e_air               0\n",
       "rougher.state.floatbank10_e_level             0\n",
       "rougher.state.floatbank10_f_air               0\n",
       "rougher.state.floatbank10_f_level             0\n",
       "secondary_cleaner.state.floatbank2_a_air      0\n",
       "secondary_cleaner.state.floatbank2_a_level    0\n",
       "secondary_cleaner.state.floatbank2_b_air      0\n",
       "secondary_cleaner.state.floatbank2_b_level    0\n",
       "secondary_cleaner.state.floatbank3_a_air      0\n",
       "secondary_cleaner.state.floatbank3_a_level    0\n",
       "secondary_cleaner.state.floatbank3_b_air      0\n",
       "secondary_cleaner.state.floatbank3_b_level    0\n",
       "secondary_cleaner.state.floatbank4_a_air      0\n",
       "secondary_cleaner.state.floatbank4_a_level    0\n",
       "secondary_cleaner.state.floatbank4_b_air      0\n",
       "secondary_cleaner.state.floatbank4_b_level    0\n",
       "secondary_cleaner.state.floatbank5_a_air      0\n",
       "secondary_cleaner.state.floatbank5_a_level    0\n",
       "secondary_cleaner.state.floatbank5_b_air      0\n",
       "secondary_cleaner.state.floatbank5_b_level    0\n",
       "secondary_cleaner.state.floatbank6_a_air      0\n",
       "secondary_cleaner.state.floatbank6_a_level    0\n",
       "dtype: int64"
      ]
     },
     "execution_count": 21,
     "metadata": {},
     "output_type": "execute_result"
    }
   ],
   "source": [
    "train.isna().sum()"
   ]
  },
  {
   "cell_type": "code",
   "execution_count": 22,
   "metadata": {},
   "outputs": [
    {
     "data": {
      "text/plain": [
       "date                                          0\n",
       "primary_cleaner.input.sulfate                 0\n",
       "primary_cleaner.input.depressant              0\n",
       "primary_cleaner.input.feed_size               0\n",
       "primary_cleaner.input.xanthate                0\n",
       "primary_cleaner.state.floatbank8_a_air        0\n",
       "primary_cleaner.state.floatbank8_a_level      0\n",
       "primary_cleaner.state.floatbank8_b_air        0\n",
       "primary_cleaner.state.floatbank8_b_level      0\n",
       "primary_cleaner.state.floatbank8_c_air        0\n",
       "primary_cleaner.state.floatbank8_c_level      0\n",
       "primary_cleaner.state.floatbank8_d_air        0\n",
       "primary_cleaner.state.floatbank8_d_level      0\n",
       "rougher.input.feed_ag                         0\n",
       "rougher.input.feed_pb                         0\n",
       "rougher.input.feed_rate                       0\n",
       "rougher.input.feed_size                       0\n",
       "rougher.input.feed_sol                        0\n",
       "rougher.input.feed_au                         0\n",
       "rougher.input.floatbank10_sulfate             0\n",
       "rougher.input.floatbank10_xanthate            0\n",
       "rougher.input.floatbank11_sulfate             0\n",
       "rougher.input.floatbank11_xanthate            0\n",
       "rougher.state.floatbank10_a_air               0\n",
       "rougher.state.floatbank10_a_level             0\n",
       "rougher.state.floatbank10_b_air               0\n",
       "rougher.state.floatbank10_b_level             0\n",
       "rougher.state.floatbank10_c_air               0\n",
       "rougher.state.floatbank10_c_level             0\n",
       "rougher.state.floatbank10_d_air               0\n",
       "rougher.state.floatbank10_d_level             0\n",
       "rougher.state.floatbank10_e_air               0\n",
       "rougher.state.floatbank10_e_level             0\n",
       "rougher.state.floatbank10_f_air               0\n",
       "rougher.state.floatbank10_f_level             0\n",
       "secondary_cleaner.state.floatbank2_a_air      0\n",
       "secondary_cleaner.state.floatbank2_a_level    0\n",
       "secondary_cleaner.state.floatbank2_b_air      0\n",
       "secondary_cleaner.state.floatbank2_b_level    0\n",
       "secondary_cleaner.state.floatbank3_a_air      0\n",
       "secondary_cleaner.state.floatbank3_a_level    0\n",
       "secondary_cleaner.state.floatbank3_b_air      0\n",
       "secondary_cleaner.state.floatbank3_b_level    0\n",
       "secondary_cleaner.state.floatbank4_a_air      0\n",
       "secondary_cleaner.state.floatbank4_a_level    0\n",
       "secondary_cleaner.state.floatbank4_b_air      0\n",
       "secondary_cleaner.state.floatbank4_b_level    0\n",
       "secondary_cleaner.state.floatbank5_a_air      0\n",
       "secondary_cleaner.state.floatbank5_a_level    0\n",
       "secondary_cleaner.state.floatbank5_b_air      0\n",
       "secondary_cleaner.state.floatbank5_b_level    0\n",
       "secondary_cleaner.state.floatbank6_a_air      0\n",
       "secondary_cleaner.state.floatbank6_a_level    0\n",
       "dtype: int64"
      ]
     },
     "execution_count": 22,
     "metadata": {},
     "output_type": "execute_result"
    }
   ],
   "source": [
    "test.isna().sum()"
   ]
  },
  {
   "cell_type": "code",
   "execution_count": 23,
   "metadata": {},
   "outputs": [
    {
     "data": {
      "text/plain": [
       "date                                            0\n",
       "final.output.concentrate_ag                    89\n",
       "final.output.concentrate_pb                    87\n",
       "final.output.concentrate_sol                  385\n",
       "final.output.concentrate_au                    86\n",
       "                                             ... \n",
       "secondary_cleaner.state.floatbank5_a_level    101\n",
       "secondary_cleaner.state.floatbank5_b_air      101\n",
       "secondary_cleaner.state.floatbank5_b_level    100\n",
       "secondary_cleaner.state.floatbank6_a_air      119\n",
       "secondary_cleaner.state.floatbank6_a_level    101\n",
       "Length: 87, dtype: int64"
      ]
     },
     "execution_count": 23,
     "metadata": {},
     "output_type": "execute_result"
    }
   ],
   "source": [
    "full.isna().sum()"
   ]
  },
  {
   "cell_type": "code",
   "execution_count": 24,
   "metadata": {},
   "outputs": [],
   "source": [
    "ds.clean_dataset(full)"
   ]
  },
  {
   "cell_type": "code",
   "execution_count": 25,
   "metadata": {},
   "outputs": [
    {
     "data": {
      "text/plain": [
       "date                                          0\n",
       "final.output.concentrate_ag                   0\n",
       "final.output.concentrate_pb                   0\n",
       "final.output.concentrate_sol                  0\n",
       "final.output.concentrate_au                   0\n",
       "                                             ..\n",
       "secondary_cleaner.state.floatbank5_a_level    0\n",
       "secondary_cleaner.state.floatbank5_b_air      0\n",
       "secondary_cleaner.state.floatbank5_b_level    0\n",
       "secondary_cleaner.state.floatbank6_a_air      0\n",
       "secondary_cleaner.state.floatbank6_a_level    0\n",
       "Length: 87, dtype: int64"
      ]
     },
     "execution_count": 25,
     "metadata": {},
     "output_type": "execute_result"
    }
   ],
   "source": [
    "full.isna().sum()"
   ]
  },
  {
   "cell_type": "markdown",
   "metadata": {},
   "source": [
    "### 1.5. Вывод"
   ]
  },
  {
   "cell_type": "markdown",
   "metadata": {},
   "source": [
    "- Удалили из обучающей выборки признаки которых нет в тестовой выборке<br>\n",
    "- Удалили пустые строки в обучающей и тестовой выборках<br>\n",
    "- В тестовой и обучающей выборках имеем одинаковое количество признаков. Размер тестовой 5383 строк, размер обучающей 1680 строк.<br>\n",
    "- Можно приступать к анализу и машинному обучению"
   ]
  },
  {
   "cell_type": "markdown",
   "metadata": {},
   "source": [
    "<a href=\"#%D0%A1%D0%BE%D0%B4%D0%B5%D1%80%D0%B6%D0%B0%D0%BD%D0%B8%D0%B5-%D0%BF%D1%80%D0%BE%D0%B5%D0%BA%D1%82%D0%B0:\"><<< Вернуться к содержанию <<< </a>"
   ]
  },
  {
   "cell_type": "markdown",
   "metadata": {},
   "source": [
    "## 2. Анализ Данных"
   ]
  },
  {
   "cell_type": "markdown",
   "metadata": {},
   "source": [
    "### 2.1. Посмотрим, как меняется концентрация металлов (Au, Ag, Pb) на различных этапах очистки."
   ]
  },
  {
   "cell_type": "code",
   "execution_count": 26,
   "metadata": {},
   "outputs": [
    {
     "data": {
      "image/png": "[encoded data removed]",
      "text/plain": [
       "<Figure size 576x360 with 1 Axes>"
      ]
     },
     "metadata": {
      "needs_background": "light"
     },
     "output_type": "display_data"
    },
    {
     "data": {
      "image/png": "[encoded data removed]",
      "text/plain": [
       "<Figure size 576x360 with 1 Axes>"
      ]
     },
     "metadata": {
      "needs_background": "light"
     },
     "output_type": "display_data"
    },
    {
     "data": {
      "image/png": "[encoded data removed]",
      "text/plain": [
       "<Figure size 576x360 with 1 Axes>"
      ]
     },
     "metadata": {
      "needs_background": "light"
     },
     "output_type": "display_data"
    }
   ],
   "source": [
    "metals = [('au', 'золота'), ('ag', 'серебра'), ('pb', 'свинца')]\n",
    "\n",
    "stages = [('rougher.output.concentrate_', 'Флотация'), \n",
    "               ('primary_cleaner.output.concentrate_', 'Первый этап очистки'), \n",
    "               ('final.output.concentrate_', 'Второй этап очистки')]\n",
    "\n",
    "\n",
    "for i in metals:\n",
    "    plt.figure(figsize=(8,5))\n",
    "    for item in stages:\n",
    "        ax = sns.distplot(full[item[0] + i[0]], label=item[1])\n",
    "        plt.legend()\n",
    "        _ = ax.set(xlabel='Распределение концeнтрации ' + i[1], \n",
    "                   title='Изменение концентрации ' + i[1] + ' на каждом этапе очистки')\n",
    "    plt.show()"
   ]
  },
  {
   "cell_type": "markdown",
   "metadata": {},
   "source": [
    "- Как видно из графиков, концентрация золота после всех этапов очистки возврастает, чего не скажешь про другие металлы.\n",
    "- На графиках видно большое количество выбросов в нулевом значении."
   ]
  },
  {
   "cell_type": "markdown",
   "metadata": {},
   "source": [
    "<div class=\"alert alert-block alert-success\">\n",
    "<b>Успех:</b> Отличная визуализация!\n",
    "</div>"
   ]
  },
  {
   "cell_type": "markdown",
   "metadata": {},
   "source": [
    "### 2.2. Сравним распределения размеров гранул сырья на обучающей и тестовой выборках. Если распределения сильно отличаются друг от друга, оценка модели будет неправильной."
   ]
  },
  {
   "cell_type": "code",
   "execution_count": 27,
   "metadata": {},
   "outputs": [
    {
     "data": {
      "text/plain": [
       "<matplotlib.legend.Legend at 0x7ff26955ee90>"
      ]
     },
     "execution_count": 27,
     "metadata": {},
     "output_type": "execute_result"
    },
    {
     "data": {
      "image/png": "[encoded data removed]",
      "text/plain": [
       "<Figure size 576x360 with 1 Axes>"
      ]
     },
     "metadata": {
      "needs_background": "light"
     },
     "output_type": "display_data"
    }
   ],
   "source": [
    "plt.figure(figsize=(8,5))\n",
    "sns.distplot(test['rougher.input.feed_size'], label='Тестовая выборка')\n",
    "sns.distplot(train['rougher.input.feed_size'], label='Обучающая выборка')\n",
    "plt.legend()"
   ]
  },
  {
   "cell_type": "markdown",
   "metadata": {},
   "source": [
    "- Исходя из графика видно, что распределяния одинаковы, значит размеры гранул на тестовой и обучающей выборке практически не отличаются "
   ]
  },
  {
   "cell_type": "markdown",
   "metadata": {},
   "source": [
    "<div class=\"alert alert-block alert-success\">\n",
    "<b>Успех:</b> Радует, что ты перешел к долям в этом случае!\n",
    "</div>"
   ]
  },
  {
   "cell_type": "markdown",
   "metadata": {},
   "source": [
    "### 2.3. Исследуем суммарную концентрацию всех веществ на разных стадиях: в сырье, в черновом и финальном концентратах. Имеются ли аномальные значения в суммарном распределении ? Если они есть нужно ли их удалять из обеих выборок. Опишем выводы и удалим аномалии"
   ]
  },
  {
   "cell_type": "code",
   "execution_count": 28,
   "metadata": {},
   "outputs": [
    {
     "data": {
      "image/png": "[encoded data removed]",
      "text/plain": [
       "<Figure size 1440x432 with 3 Axes>"
      ]
     },
     "metadata": {
      "needs_background": "light"
     },
     "output_type": "display_data"
    }
   ],
   "source": [
    "concentration_stages = [('rougher.input.feed_', 'в сырье'),\n",
    "                        ('rougher.output.concentrate_', 'в черновом концентрате'), \n",
    "                        ('final.output.concentrate_', 'в финальном концентрате')]\n",
    "\n",
    "\n",
    "fig, axs = plt.subplots(1, len(concentration_stages), figsize=(20, 6))\n",
    "fig.suptitle('Суммарная концентрация всех веществ на разных стадиях', fontsize=15)\n",
    "\n",
    "\n",
    "for stage, ax in zip(concentration_stages, axs):\n",
    "    ax.set_title(stage[1])\n",
    "    full_sum =  full[stage[0]+ 'ag'] + full[stage[0]+ 'au'] + full[stage[0]+ 'pb'] + full[stage[0]+ 'sol']\n",
    "\n",
    "    sns.distplot(full_sum, ax=ax)   \n",
    "\n",
    "plt.show()"
   ]
  },
  {
   "cell_type": "markdown",
   "metadata": {},
   "source": [
    "- Видим большой столбец в нуле, очевидно, что это аномалии, так как не может быть, чтобы концентрации всех веществ вместе в какой-то стадии были равны нулю.\n",
    "- Удалим аномалии и отрисуем графики заново"
   ]
  },
  {
   "cell_type": "code",
   "execution_count": 29,
   "metadata": {},
   "outputs": [
    {
     "data": {
      "image/png": "[encoded data removed]",
      "text/plain": [
       "<Figure size 1440x432 with 3 Axes>"
      ]
     },
     "metadata": {
      "needs_background": "light"
     },
     "output_type": "display_data"
    }
   ],
   "source": [
    "# Удалим аномалии\n",
    "\n",
    "full_sum = full.replace(0, np.nan)\n",
    "full_sum = full.dropna(how='all', axis=0)\n",
    "ds.clean_dataset(full_sum)\n",
    "\n",
    "#Посмотрим на наш график еще раз без аномалий\n",
    "fig, axs = plt.subplots(1, len(concentration_stages), figsize=(20, 6))\n",
    "fig.suptitle('Суммарная концентрация всех веществ на разных стадиях', fontsize=15)\n",
    "\n",
    "\n",
    "for stage, ax in zip(concentration_stages, axs):\n",
    "    ax.set_title(stage[1])\n",
    "    final =  full_sum[stage[0]+ 'ag'] + full_sum[stage[0]+ 'au'] + full_sum[stage[0]+ 'pb'] + full_sum[stage[0]+ 'sol']\n",
    "    sns.distplot(final.replace(0,np.nan).dropna(), ax=ax) \n",
    "    \n",
    "\n",
    "plt.show()"
   ]
  },
  {
   "cell_type": "markdown",
   "metadata": {},
   "source": [
    "- Исходя из графиков видно, что на финальной стадии суммарная концентрация веществ в разы уменьшается. "
   ]
  },
  {
   "cell_type": "markdown",
   "metadata": {},
   "source": [
    "<a href=\"#%D0%A1%D0%BE%D0%B4%D0%B5%D1%80%D0%B6%D0%B0%D0%BD%D0%B8%D0%B5-%D0%BF%D1%80%D0%BE%D0%B5%D0%BA%D1%82%D0%B0:\"><<< Вернуться к содержанию <<< </a>"
   ]
  },
  {
   "cell_type": "markdown",
   "metadata": {},
   "source": [
    "## 3. Модель"
   ]
  },
  {
   "cell_type": "markdown",
   "metadata": {},
   "source": [
    "### 3.1. Напишем функцию для вычисления итоговой sMAPE."
   ]
  },
  {
   "cell_type": "code",
   "execution_count": 30,
   "metadata": {},
   "outputs": [],
   "source": [
    "#Исходя из полученной формулы из инструкции напишем функцию метрики качества SMAPE\n",
    "\n",
    "def smape(y_target, y_pred):\n",
    "    return ((1/len(y_target)) * np.sum(2 * np.abs(y_target - y_pred) / (np.abs(y_target) + np.abs(y_pred)))) * 100\n"
   ]
  },
  {
   "cell_type": "markdown",
   "metadata": {},
   "source": [
    "### 3.2. Обучим разные модели и оценим их качество кросс-валидацией. Выберем лучшую модель и проверим ее на тестовой выборке. Опишем выводы."
   ]
  },
  {
   "cell_type": "markdown",
   "metadata": {},
   "source": [
    "План работы:\n",
    "\n",
    "- Модели которые будем использовать: Lasso, RandomForest, LinearRegression\n",
    "- Методом Gridsearch переберем параметры, чтобы найти лучшие. \n",
    "- Выберем наилучшую модель и протестим ее на тестовой выборке. \n",
    "- Метрикой Smape посмотрим на наши результаты."
   ]
  },
  {
   "cell_type": "code",
   "execution_count": 31,
   "metadata": {},
   "outputs": [
    {
     "name": "stderr",
     "output_type": "stream",
     "text": [
      "/opt/conda/lib/python3.7/site-packages/pandas/core/indexing.py:961: FutureWarning: \n",
      "Passing list-likes to .loc or [] with any missing label will raise\n",
      "KeyError in the future, you can use .reindex() as an alternative.\n",
      "\n",
      "See the documentation here:\n",
      "https://pandas.pydata.org/pandas-docs/stable/user_guide/indexing.html#deprecate-loc-reindex-listlike\n",
      "  return getattr(section, self.name)[new_key]\n"
     ]
    }
   ],
   "source": [
    "train = train.set_index('date')\n",
    "test = test.set_index('date')\n",
    "full = full.set_index('date')\n",
    "X_train_rougher = train\n",
    "X_test_rougher = test\n",
    "y_train_rougher = full.loc[X_train_rougher.index, 'rougher.output.recovery']\n",
    "y_test_rougher = full.loc[X_test_rougher.index,'final.output.recovery']\n",
    "\n",
    "X_train_final = train\n",
    "X_test_final = test\n",
    "y_train_final = full.loc[X_train_final.index, 'final.output.recovery']\n",
    "y_test_final = full.loc[X_test_final.index, 'final.output.recovery']"
   ]
  },
  {
   "cell_type": "code",
   "execution_count": 32,
   "metadata": {},
   "outputs": [
    {
     "name": "stdout",
     "output_type": "stream",
     "text": [
      "(13522, 52) (13522, 52)\n",
      "(5383, 52) (5383, 52)\n",
      "(13522,) (13522,)\n",
      "(5383,) (5383,)\n"
     ]
    }
   ],
   "source": [
    "print(X_train_rougher.shape, X_train_final.shape)\n",
    "print(X_test_rougher.shape, X_test_final.shape)\n",
    "print(y_train_rougher.shape, y_train_final.shape)\n",
    "print(y_test_rougher.shape, y_test_final.shape)"
   ]
  },
  {
   "cell_type": "code",
   "execution_count": 33,
   "metadata": {},
   "outputs": [],
   "source": [
    "# Будем использовать три модели, напишем какие параметры нужно будет подобрать для GridSearchCV\n",
    "\n",
    "from numpy.random import RandomState\n",
    "state = RandomState(12345)\n",
    "\n",
    "pipe = Pipeline([\n",
    "    ('imp', SimpleImputer(missing_values=np.nan)),\n",
    "    ('scaler', StandardScaler()),\n",
    "    ('model', RandomForestRegressor(n_estimators=100, random_state=state))\n",
    "])\n",
    "\n",
    "params = [\n",
    "    {\n",
    "        'imp__strategy': ['mean', 'median'],\n",
    "        'model': [RandomForestRegressor(n_estimators=10, random_state=state)],\n",
    "        'model__max_features': np.linspace(0.1, 1, 10)\n",
    "    }, {\n",
    "        'imp__strategy': ['mean', 'median'],\n",
    "        'model': [LinearRegression()]\n",
    "    }, {\n",
    "        'imp__strategy': ['mean', 'median'],\n",
    "        'model': [linear_model.Lasso(random_state=state)],\n",
    "        'model__alpha': np.logspace(-3, 1, 10)\n",
    "    }\n",
    "]"
   ]
  },
  {
   "cell_type": "code",
   "execution_count": 34,
   "metadata": {},
   "outputs": [],
   "source": [
    "y_train_final = y_train_final.fillna(y_train_final.mean())\n",
    "y_train_rougher = y_train_rougher.fillna(y_train_rougher.mean())"
   ]
  },
  {
   "cell_type": "code",
   "execution_count": 35,
   "metadata": {},
   "outputs": [],
   "source": [
    "#Метрику smape подготовим для scoring'a GridSearchCV\n",
    "from sklearn.metrics import make_scorer, mean_squared_error\n",
    "smape_score = make_scorer(smape, greater_is_better=False)"
   ]
  },
  {
   "cell_type": "code",
   "execution_count": 36,
   "metadata": {},
   "outputs": [],
   "source": [
    "# Проведем кросс валидацию с помощью kFold и разделим на 5 частей\n",
    "cv = KFold(n_splits=5, shuffle=False)\n",
    "grid_rougher = GridSearchCV(pipe, param_grid=params, cv=cv, n_jobs=-1, scoring=smape_score)"
   ]
  },
  {
   "cell_type": "code",
   "execution_count": 37,
   "metadata": {},
   "outputs": [
    {
     "data": {
      "text/plain": [
       "GridSearchCV(cv=KFold(n_splits=5, random_state=None, shuffle=False),\n",
       "             error_score='raise-deprecating',\n",
       "             estimator=Pipeline(memory=None,\n",
       "                                steps=[('imp',\n",
       "                                        SimpleImputer(add_indicator=False,\n",
       "                                                      copy=True,\n",
       "                                                      fill_value=None,\n",
       "                                                      missing_values=nan,\n",
       "                                                      strategy='mean',\n",
       "                                                      verbose=0)),\n",
       "                                       ('scaler',\n",
       "                                        StandardScaler(copy=True,\n",
       "                                                       with_mean=True,\n",
       "                                                       with_std=True)),\n",
       "                                       ('model',\n",
       "                                        RandomForestRegressor(boo...\n",
       "                                          random_state=RandomState(MT19937) at 0x7FF26A56CE20,\n",
       "                                          selection='cyclic', tol=0.0001,\n",
       "                                          warm_start=False)],\n",
       "                          'model__alpha': array([1.00000000e-03, 2.78255940e-03, 7.74263683e-03, 2.15443469e-02,\n",
       "       5.99484250e-02, 1.66810054e-01, 4.64158883e-01, 1.29154967e+00,\n",
       "       3.59381366e+00, 1.00000000e+01])}],\n",
       "             pre_dispatch='2*n_jobs', refit=True, return_train_score=False,\n",
       "             scoring=make_scorer(smape, greater_is_better=False), verbose=0)"
      ]
     },
     "execution_count": 37,
     "metadata": {},
     "output_type": "execute_result"
    }
   ],
   "source": [
    "grid_rougher.fit(X_train_rougher, y_train_rougher)"
   ]
  },
  {
   "cell_type": "code",
   "execution_count": 38,
   "metadata": {},
   "outputs": [
    {
     "name": "stdout",
     "output_type": "stream",
     "text": [
      "Best Params: {'imp__strategy': 'mean', 'model': Lasso(alpha=1.2915496650148828, copy_X=True, fit_intercept=True, max_iter=1000,\n",
      "      normalize=False, positive=False, precompute=False,\n",
      "      random_state=RandomState(MT19937) at 0x7FF26A56CE20, selection='cyclic',\n",
      "      tol=0.0001, warm_start=False), 'model__alpha': 1.2915496650148828}\n",
      "Best smape Score: 8.56145635687232\n"
     ]
    }
   ],
   "source": [
    "#Посмотрим наилучшие подобранные параметры\n",
    "print('Best Params:', grid_rougher.best_params_)\n",
    "print('Best smape Score:', -grid_rougher.best_score_)"
   ]
  },
  {
   "cell_type": "code",
   "execution_count": 39,
   "metadata": {},
   "outputs": [],
   "source": [
    "# Поиск лучших параметров для final \n",
    "grid_final = GridSearchCV(pipe, param_grid=params, cv=cv, n_jobs=-1,scoring=smape_score)"
   ]
  },
  {
   "cell_type": "code",
   "execution_count": 40,
   "metadata": {},
   "outputs": [
    {
     "data": {
      "text/plain": [
       "GridSearchCV(cv=KFold(n_splits=5, random_state=None, shuffle=False),\n",
       "             error_score='raise-deprecating',\n",
       "             estimator=Pipeline(memory=None,\n",
       "                                steps=[('imp',\n",
       "                                        SimpleImputer(add_indicator=False,\n",
       "                                                      copy=True,\n",
       "                                                      fill_value=None,\n",
       "                                                      missing_values=nan,\n",
       "                                                      strategy='mean',\n",
       "                                                      verbose=0)),\n",
       "                                       ('scaler',\n",
       "                                        StandardScaler(copy=True,\n",
       "                                                       with_mean=True,\n",
       "                                                       with_std=True)),\n",
       "                                       ('model',\n",
       "                                        RandomForestRegressor(boo...\n",
       "                                          random_state=RandomState(MT19937) at 0x7FF26A56CE20,\n",
       "                                          selection='cyclic', tol=0.0001,\n",
       "                                          warm_start=False)],\n",
       "                          'model__alpha': array([1.00000000e-03, 2.78255940e-03, 7.74263683e-03, 2.15443469e-02,\n",
       "       5.99484250e-02, 1.66810054e-01, 4.64158883e-01, 1.29154967e+00,\n",
       "       3.59381366e+00, 1.00000000e+01])}],\n",
       "             pre_dispatch='2*n_jobs', refit=True, return_train_score=False,\n",
       "             scoring=make_scorer(smape, greater_is_better=False), verbose=0)"
      ]
     },
     "execution_count": 40,
     "metadata": {},
     "output_type": "execute_result"
    }
   ],
   "source": [
    "grid_final.fit(X_train_final, y_train_final)"
   ]
  },
  {
   "cell_type": "code",
   "execution_count": 41,
   "metadata": {},
   "outputs": [
    {
     "name": "stdout",
     "output_type": "stream",
     "text": [
      "Best Params: {'imp__strategy': 'mean', 'model': Lasso(alpha=0.46415888336127775, copy_X=True, fit_intercept=True, max_iter=1000,\n",
      "      normalize=False, positive=False, precompute=False,\n",
      "      random_state=RandomState(MT19937) at 0x7FF26A56CE20, selection='cyclic',\n",
      "      tol=0.0001, warm_start=False), 'model__alpha': 0.46415888336127775}\n",
      "Best smape Score: 7.692730542079635\n"
     ]
    }
   ],
   "source": [
    "#Вывод лучших подобранных параметров для final\n",
    "print('Best Params:', grid_final.best_params_)\n",
    "print('Best smape Score:', -grid_final.best_score_)"
   ]
  },
  {
   "cell_type": "code",
   "execution_count": 42,
   "metadata": {},
   "outputs": [
    {
     "name": "stderr",
     "output_type": "stream",
     "text": [
      "/opt/conda/lib/python3.7/site-packages/pandas/core/indexing.py:961: FutureWarning: \n",
      "Passing list-likes to .loc or [] with any missing label will raise\n",
      "KeyError in the future, you can use .reindex() as an alternative.\n",
      "\n",
      "See the documentation here:\n",
      "https://pandas.pydata.org/pandas-docs/stable/user_guide/indexing.html#deprecate-loc-reindex-listlike\n",
      "  return getattr(section, self.name)[new_key]\n"
     ]
    },
    {
     "data": {
      "text/plain": [
       "8.06486149037603"
      ]
     },
     "execution_count": 42,
     "metadata": {},
     "output_type": "execute_result"
    }
   ],
   "source": [
    "#Модель с лучшими параметрами для Тестовой выборки Rougher\n",
    "pipe_rougher = grid_rougher.best_estimator_\n",
    "\n",
    "pipe_rougher.fit(X_train_rougher, y_train_rougher)\n",
    "y_pred = pipe_rougher.predict(X_test_rougher)\n",
    "\n",
    "smape_rougher = smape(full.loc[X_test_rougher.index, 'rougher.output.recovery'], y_pred)\n",
    "smape_rougher"
   ]
  },
  {
   "cell_type": "code",
   "execution_count": 43,
   "metadata": {},
   "outputs": [
    {
     "name": "stderr",
     "output_type": "stream",
     "text": [
      "/opt/conda/lib/python3.7/site-packages/pandas/core/indexing.py:961: FutureWarning: \n",
      "Passing list-likes to .loc or [] with any missing label will raise\n",
      "KeyError in the future, you can use .reindex() as an alternative.\n",
      "\n",
      "See the documentation here:\n",
      "https://pandas.pydata.org/pandas-docs/stable/user_guide/indexing.html#deprecate-loc-reindex-listlike\n",
      "  return getattr(section, self.name)[new_key]\n"
     ]
    },
    {
     "data": {
      "text/plain": [
       "7.233888735904391"
      ]
     },
     "execution_count": 43,
     "metadata": {},
     "output_type": "execute_result"
    }
   ],
   "source": [
    "#Модель с лучшими параметрами для Тестовой выборки Final\n",
    "pipe_final = grid_final.best_estimator_\n",
    "    \n",
    "pipe_final.fit(X_train_final, y_train_final)\n",
    "y_pred_final = pipe_final.predict(X_test_final)\n",
    "\n",
    "smape_final = smape(full.loc[X_test_rougher.index, 'final.output.recovery'],y_pred_final)\n",
    "smape_final"
   ]
  },
  {
   "cell_type": "code",
   "execution_count": 44,
   "metadata": {},
   "outputs": [
    {
     "data": {
      "text/plain": [
       "7.4416319245223015"
      ]
     },
     "execution_count": 44,
     "metadata": {},
     "output_type": "execute_result"
    }
   ],
   "source": [
    "#Итоговый Smape \n",
    "final_smape = 0.25*smape_rougher + 0.75*smape_final\n",
    "final_smape"
   ]
  },
  {
   "cell_type": "code",
   "execution_count": 45,
   "metadata": {},
   "outputs": [
    {
     "name": "stdout",
     "output_type": "stream",
     "text": [
      "10.671302031951033\n"
     ]
    }
   ],
   "source": [
    "rougher_median = pd.Series(y_train_rougher.median(), index=y_test_rougher.index)\n",
    "final_median = pd.Series(y_train_final.median(), index=y_test_final.index)\n",
    "\n",
    "total = (smape(y_test_final, rougher_median)*0.25) + (smape(y_test_rougher, final_median)* 0.75)\n",
    "print(total)"
   ]
  },
  {
   "cell_type": "markdown",
   "metadata": {},
   "source": [
    "### Общий Вывод:\n",
    "\n",
    "- с помощью GridSearchCV подобрали наилучшую модель и наилучшие параметры \n",
    "- Посчитали с помощью нашей метрики accuracy : итоговый sMAPE получился : 7.4"
   ]
  },
  {
   "cell_type": "markdown",
   "metadata": {},
   "source": [
    "<a href=\"#%D0%A1%D0%BE%D0%B4%D0%B5%D1%80%D0%B6%D0%B0%D0%BD%D0%B8%D0%B5-%D0%BF%D1%80%D0%BE%D0%B5%D0%BA%D1%82%D0%B0:\"><<< Вернуться к содержанию <<< </a>"
   ]
  }
 ],
 "metadata": {
  "ExecuteTimeLog": [
   {
    "duration": 3,
    "start_time": "2022-03-08T08:54:41.044Z"
   },
   {
    "duration": 1534,
    "start_time": "2022-03-09T12:26:04.843Z"
   },
   {
    "duration": 16,
    "start_time": "2022-03-09T12:26:08.610Z"
   },
   {
    "duration": 4,
    "start_time": "2022-03-09T12:26:17.757Z"
   },
   {
    "duration": 5327,
    "start_time": "2022-03-09T12:26:18.311Z"
   },
   {
    "duration": 6,
    "start_time": "2022-03-09T12:26:23.640Z"
   },
   {
    "duration": 113,
    "start_time": "2022-03-09T12:26:23.653Z"
   },
   {
    "duration": 108,
    "start_time": "2022-03-09T12:26:23.769Z"
   },
   {
    "duration": 1142,
    "start_time": "2022-03-09T12:26:23.879Z"
   },
   {
    "duration": 84614,
    "start_time": "2022-03-09T12:26:25.024Z"
   },
   {
    "duration": 356,
    "start_time": "2022-03-09T12:27:49.640Z"
   },
   {
    "duration": 5,
    "start_time": "2022-03-09T12:27:49.999Z"
   },
   {
    "duration": 20,
    "start_time": "2022-03-09T12:27:50.007Z"
   },
   {
    "duration": 27,
    "start_time": "2022-03-09T12:27:50.029Z"
   },
   {
    "duration": 9,
    "start_time": "2022-03-09T12:27:50.058Z"
   },
   {
    "duration": 138,
    "start_time": "2022-03-09T12:27:50.069Z"
   },
   {
    "duration": 89,
    "start_time": "2022-03-09T12:27:50.210Z"
   },
   {
    "duration": 13,
    "start_time": "2022-03-09T12:27:50.302Z"
   },
   {
    "duration": 38,
    "start_time": "2022-03-09T12:27:50.317Z"
   },
   {
    "duration": 18,
    "start_time": "2022-03-09T12:27:50.357Z"
   },
   {
    "duration": 5,
    "start_time": "2022-03-09T12:27:50.377Z"
   },
   {
    "duration": 649,
    "start_time": "2022-03-09T12:27:50.384Z"
   },
   {
    "duration": -130262,
    "start_time": "2022-03-09T12:30:01.298Z"
   },
   {
    "duration": -130266,
    "start_time": "2022-03-09T12:30:01.304Z"
   },
   {
    "duration": -130266,
    "start_time": "2022-03-09T12:30:01.306Z"
   },
   {
    "duration": 5,
    "start_time": "2022-03-09T12:28:00.278Z"
   },
   {
    "duration": 13,
    "start_time": "2022-03-09T12:33:34.957Z"
   },
   {
    "duration": 6,
    "start_time": "2022-03-09T12:33:58.813Z"
   },
   {
    "duration": 8,
    "start_time": "2022-03-09T12:34:52.704Z"
   },
   {
    "duration": 308,
    "start_time": "2022-03-09T12:43:38.374Z"
   },
   {
    "duration": 1490,
    "start_time": "2022-03-09T12:43:48.176Z"
   },
   {
    "duration": 1587,
    "start_time": "2022-03-09T12:44:03.303Z"
   },
   {
    "duration": 21,
    "start_time": "2022-03-09T12:44:04.892Z"
   },
   {
    "duration": 10,
    "start_time": "2022-03-09T12:44:04.917Z"
   },
   {
    "duration": 3623,
    "start_time": "2022-03-09T12:44:04.929Z"
   },
   {
    "duration": 5,
    "start_time": "2022-03-09T12:44:08.555Z"
   },
   {
    "duration": 110,
    "start_time": "2022-03-09T12:44:08.563Z"
   },
   {
    "duration": 88,
    "start_time": "2022-03-09T12:44:08.675Z"
   },
   {
    "duration": 986,
    "start_time": "2022-03-09T12:44:08.767Z"
   },
   {
    "duration": 80630,
    "start_time": "2022-03-09T12:44:09.756Z"
   },
   {
    "duration": 437,
    "start_time": "2022-03-09T12:45:30.388Z"
   },
   {
    "duration": 5,
    "start_time": "2022-03-09T12:45:30.827Z"
   },
   {
    "duration": 28,
    "start_time": "2022-03-09T12:45:30.834Z"
   },
   {
    "duration": 7,
    "start_time": "2022-03-09T12:45:30.864Z"
   },
   {
    "duration": 12,
    "start_time": "2022-03-09T12:45:30.873Z"
   },
   {
    "duration": 110,
    "start_time": "2022-03-09T12:45:30.888Z"
   },
   {
    "duration": 91,
    "start_time": "2022-03-09T12:45:31.001Z"
   },
   {
    "duration": 10,
    "start_time": "2022-03-09T12:45:31.095Z"
   },
   {
    "duration": 42,
    "start_time": "2022-03-09T12:45:31.111Z"
   },
   {
    "duration": 22,
    "start_time": "2022-03-09T12:45:31.156Z"
   },
   {
    "duration": 7,
    "start_time": "2022-03-09T12:45:31.181Z"
   },
   {
    "duration": 732,
    "start_time": "2022-03-09T12:45:31.192Z"
   },
   {
    "duration": -130257,
    "start_time": "2022-03-09T12:47:42.184Z"
   },
   {
    "duration": -130257,
    "start_time": "2022-03-09T12:47:42.186Z"
   },
   {
    "duration": -130264,
    "start_time": "2022-03-09T12:47:42.194Z"
   },
   {
    "duration": -130263,
    "start_time": "2022-03-09T12:47:42.195Z"
   },
   {
    "duration": -130267,
    "start_time": "2022-03-09T12:47:42.200Z"
   },
   {
    "duration": -130269,
    "start_time": "2022-03-09T12:47:42.204Z"
   },
   {
    "duration": -130254,
    "start_time": "2022-03-09T12:47:42.205Z"
   },
   {
    "duration": -130255,
    "start_time": "2022-03-09T12:47:42.207Z"
   },
   {
    "duration": -130255,
    "start_time": "2022-03-09T12:47:42.208Z"
   },
   {
    "duration": -130256,
    "start_time": "2022-03-09T12:47:42.211Z"
   },
   {
    "duration": -130260,
    "start_time": "2022-03-09T12:47:42.216Z"
   },
   {
    "duration": -130259,
    "start_time": "2022-03-09T12:47:42.217Z"
   },
   {
    "duration": -130259,
    "start_time": "2022-03-09T12:47:42.218Z"
   },
   {
    "duration": -130262,
    "start_time": "2022-03-09T12:47:42.223Z"
   },
   {
    "duration": -130262,
    "start_time": "2022-03-09T12:47:42.224Z"
   },
   {
    "duration": -130262,
    "start_time": "2022-03-09T12:47:42.225Z"
   },
   {
    "duration": -130262,
    "start_time": "2022-03-09T12:47:42.227Z"
   },
   {
    "duration": -130263,
    "start_time": "2022-03-09T12:47:42.229Z"
   },
   {
    "duration": 711,
    "start_time": "2022-03-09T12:46:01.709Z"
   },
   {
    "duration": 1092,
    "start_time": "2022-03-09T12:46:06.468Z"
   },
   {
    "duration": 1328,
    "start_time": "2022-03-09T12:46:11.315Z"
   },
   {
    "duration": 5,
    "start_time": "2022-03-09T12:46:19.466Z"
   },
   {
    "duration": 11,
    "start_time": "2022-03-09T12:46:22.226Z"
   },
   {
    "duration": 8,
    "start_time": "2022-03-09T12:46:25.524Z"
   },
   {
    "duration": 8,
    "start_time": "2022-03-09T12:46:29.291Z"
   },
   {
    "duration": 4,
    "start_time": "2022-03-09T12:46:39.308Z"
   },
   {
    "duration": 5,
    "start_time": "2022-03-09T12:46:42.474Z"
   },
   {
    "duration": 1900,
    "start_time": "2022-03-09T12:46:45.074Z"
   },
   {
    "duration": 256,
    "start_time": "2022-03-09T12:47:01.131Z"
   },
   {
    "duration": 4,
    "start_time": "2022-03-09T12:47:04.735Z"
   },
   {
    "duration": 282,
    "start_time": "2022-03-09T12:47:06.802Z"
   },
   {
    "duration": 264,
    "start_time": "2022-03-09T12:47:09.938Z"
   },
   {
    "duration": 279,
    "start_time": "2022-03-09T12:47:12.906Z"
   },
   {
    "duration": 275,
    "start_time": "2022-03-09T12:47:15.587Z"
   },
   {
    "duration": 231,
    "start_time": "2022-03-09T12:47:18.122Z"
   },
   {
    "duration": 13,
    "start_time": "2022-03-09T12:47:20.602Z"
   },
   {
    "duration": 15,
    "start_time": "2022-03-09T12:47:55.820Z"
   },
   {
    "duration": 7,
    "start_time": "2022-03-09T12:48:00.327Z"
   },
   {
    "duration": 8,
    "start_time": "2022-03-09T12:48:20.257Z"
   },
   {
    "duration": 6,
    "start_time": "2022-03-09T12:48:30.819Z"
   },
   {
    "duration": 4,
    "start_time": "2022-03-09T12:48:33.435Z"
   },
   {
    "duration": 5,
    "start_time": "2022-03-09T12:48:36.081Z"
   },
   {
    "duration": 1455,
    "start_time": "2022-03-10T06:32:47.631Z"
   },
   {
    "duration": 3,
    "start_time": "2022-03-10T06:32:52.546Z"
   },
   {
    "duration": 1511,
    "start_time": "2022-03-10T07:42:19.557Z"
   },
   {
    "duration": 18,
    "start_time": "2022-03-10T07:42:22.158Z"
   },
   {
    "duration": 3,
    "start_time": "2022-03-10T07:42:23.570Z"
   },
   {
    "duration": 7113,
    "start_time": "2022-03-10T07:42:24.158Z"
   },
   {
    "duration": 7,
    "start_time": "2022-03-10T07:42:31.275Z"
   },
   {
    "duration": 93,
    "start_time": "2022-03-10T07:42:34.179Z"
   },
   {
    "duration": 73,
    "start_time": "2022-03-10T07:42:35.386Z"
   },
   {
    "duration": 935,
    "start_time": "2022-03-10T07:42:35.985Z"
   },
   {
    "duration": 85281,
    "start_time": "2022-03-10T07:42:36.923Z"
   },
   {
    "duration": 361,
    "start_time": "2022-03-10T07:44:02.208Z"
   },
   {
    "duration": 5,
    "start_time": "2022-03-10T07:44:02.572Z"
   },
   {
    "duration": 26,
    "start_time": "2022-03-10T07:44:02.581Z"
   },
   {
    "duration": 8,
    "start_time": "2022-03-10T07:44:02.610Z"
   },
   {
    "duration": 33,
    "start_time": "2022-03-10T07:44:02.622Z"
   },
   {
    "duration": 101,
    "start_time": "2022-03-10T07:44:02.657Z"
   },
   {
    "duration": 93,
    "start_time": "2022-03-10T07:44:02.760Z"
   },
   {
    "duration": 12,
    "start_time": "2022-03-10T07:44:02.855Z"
   },
   {
    "duration": 13,
    "start_time": "2022-03-10T07:44:02.869Z"
   },
   {
    "duration": 19,
    "start_time": "2022-03-10T07:44:02.885Z"
   },
   {
    "duration": 5,
    "start_time": "2022-03-10T07:44:02.907Z"
   },
   {
    "duration": 718,
    "start_time": "2022-03-10T07:44:02.915Z"
   },
   {
    "duration": 681,
    "start_time": "2022-03-10T07:44:04.146Z"
   },
   {
    "duration": 1077,
    "start_time": "2022-03-10T07:44:20.119Z"
   },
   {
    "duration": 1278,
    "start_time": "2022-03-10T07:44:25.764Z"
   },
   {
    "duration": 4,
    "start_time": "2022-03-10T07:44:34.617Z"
   },
   {
    "duration": 30,
    "start_time": "2022-03-10T08:00:48.915Z"
   },
   {
    "duration": 37,
    "start_time": "2022-03-10T08:01:11.178Z"
   },
   {
    "duration": 1480,
    "start_time": "2022-03-10T08:11:09.736Z"
   },
   {
    "duration": 16,
    "start_time": "2022-03-10T08:11:15.771Z"
   },
   {
    "duration": 4,
    "start_time": "2022-03-10T08:11:17.878Z"
   },
   {
    "duration": 7155,
    "start_time": "2022-03-10T08:11:24.096Z"
   },
   {
    "duration": 7,
    "start_time": "2022-03-10T08:11:31.255Z"
   },
   {
    "duration": 108,
    "start_time": "2022-03-10T08:11:33.108Z"
   },
   {
    "duration": 119,
    "start_time": "2022-03-10T08:11:41.554Z"
   },
   {
    "duration": 968,
    "start_time": "2022-03-10T08:11:47.275Z"
   },
   {
    "duration": 77258,
    "start_time": "2022-03-10T08:11:53.664Z"
   },
   {
    "duration": 348,
    "start_time": "2022-03-10T08:13:10.924Z"
   },
   {
    "duration": 4,
    "start_time": "2022-03-10T08:13:11.275Z"
   },
   {
    "duration": 19,
    "start_time": "2022-03-10T08:13:11.282Z"
   },
   {
    "duration": 7,
    "start_time": "2022-03-10T08:13:11.304Z"
   },
   {
    "duration": 37,
    "start_time": "2022-03-10T08:13:11.314Z"
   },
   {
    "duration": 102,
    "start_time": "2022-03-10T08:13:11.354Z"
   },
   {
    "duration": 74,
    "start_time": "2022-03-10T08:14:03.169Z"
   },
   {
    "duration": 12,
    "start_time": "2022-03-10T08:14:13.992Z"
   },
   {
    "duration": 6880,
    "start_time": "2022-03-10T08:19:23.079Z"
   },
   {
    "duration": 6,
    "start_time": "2022-03-10T08:19:58.256Z"
   },
   {
    "duration": 769,
    "start_time": "2022-03-10T08:21:22.673Z"
   },
   {
    "duration": 512,
    "start_time": "2022-03-10T08:21:28.409Z"
   },
   {
    "duration": 1085,
    "start_time": "2022-03-10T08:21:34.119Z"
   },
   {
    "duration": 6915,
    "start_time": "2022-03-10T08:21:49.013Z"
   },
   {
    "duration": 5,
    "start_time": "2022-03-10T08:21:55.931Z"
   },
   {
    "duration": 558,
    "start_time": "2022-03-10T08:22:11.149Z"
   },
   {
    "duration": 514,
    "start_time": "2022-03-10T08:22:15.721Z"
   },
   {
    "duration": 560,
    "start_time": "2022-03-10T08:22:44.819Z"
   },
   {
    "duration": 1044,
    "start_time": "2022-03-10T08:22:48.480Z"
   },
   {
    "duration": 1489,
    "start_time": "2022-03-10T08:22:51.843Z"
   },
   {
    "duration": 5,
    "start_time": "2022-03-10T08:22:55.941Z"
   },
   {
    "duration": 38,
    "start_time": "2022-03-10T08:23:01.913Z"
   },
   {
    "duration": 47,
    "start_time": "2022-03-10T08:23:21.803Z"
   },
   {
    "duration": 278,
    "start_time": "2022-03-10T08:23:28.184Z"
   },
   {
    "duration": 2262,
    "start_time": "2022-03-10T08:27:13.637Z"
   },
   {
    "duration": 15,
    "start_time": "2022-03-10T08:27:15.901Z"
   },
   {
    "duration": 5,
    "start_time": "2022-03-10T08:27:15.923Z"
   },
   {
    "duration": 7391,
    "start_time": "2022-03-10T08:27:15.952Z"
   },
   {
    "duration": 7,
    "start_time": "2022-03-10T08:27:23.346Z"
   },
   {
    "duration": 100,
    "start_time": "2022-03-10T08:27:23.356Z"
   },
   {
    "duration": 60,
    "start_time": "2022-03-10T08:27:23.460Z"
   },
   {
    "duration": 1010,
    "start_time": "2022-03-10T08:27:23.551Z"
   },
   {
    "duration": 87209,
    "start_time": "2022-03-10T08:27:24.564Z"
   },
   {
    "duration": 362,
    "start_time": "2022-03-10T08:28:51.776Z"
   },
   {
    "duration": 11,
    "start_time": "2022-03-10T08:28:52.141Z"
   },
   {
    "duration": 18,
    "start_time": "2022-03-10T08:28:52.155Z"
   },
   {
    "duration": 8,
    "start_time": "2022-03-10T08:28:52.176Z"
   },
   {
    "duration": 8,
    "start_time": "2022-03-10T08:28:52.187Z"
   },
   {
    "duration": 135,
    "start_time": "2022-03-10T08:28:52.198Z"
   },
   {
    "duration": 80,
    "start_time": "2022-03-10T08:28:52.335Z"
   },
   {
    "duration": 7,
    "start_time": "2022-03-10T08:28:52.417Z"
   },
   {
    "duration": 19,
    "start_time": "2022-03-10T08:28:52.457Z"
   },
   {
    "duration": 83,
    "start_time": "2022-03-10T08:28:52.478Z"
   },
   {
    "duration": -141031,
    "start_time": "2022-03-10T08:31:13.595Z"
   },
   {
    "duration": -141031,
    "start_time": "2022-03-10T08:31:13.597Z"
   },
   {
    "duration": -141032,
    "start_time": "2022-03-10T08:31:13.599Z"
   },
   {
    "duration": -141032,
    "start_time": "2022-03-10T08:31:13.601Z"
   },
   {
    "duration": -141033,
    "start_time": "2022-03-10T08:31:13.603Z"
   },
   {
    "duration": -141041,
    "start_time": "2022-03-10T08:31:13.613Z"
   },
   {
    "duration": -141042,
    "start_time": "2022-03-10T08:31:13.615Z"
   },
   {
    "duration": -141044,
    "start_time": "2022-03-10T08:31:13.618Z"
   },
   {
    "duration": -141043,
    "start_time": "2022-03-10T08:31:13.619Z"
   },
   {
    "duration": -141044,
    "start_time": "2022-03-10T08:31:13.621Z"
   },
   {
    "duration": -141043,
    "start_time": "2022-03-10T08:31:13.622Z"
   },
   {
    "duration": -141044,
    "start_time": "2022-03-10T08:31:13.624Z"
   },
   {
    "duration": -141044,
    "start_time": "2022-03-10T08:31:13.626Z"
   },
   {
    "duration": -141044,
    "start_time": "2022-03-10T08:31:13.627Z"
   },
   {
    "duration": -141045,
    "start_time": "2022-03-10T08:31:13.629Z"
   },
   {
    "duration": -141044,
    "start_time": "2022-03-10T08:31:13.630Z"
   },
   {
    "duration": -141048,
    "start_time": "2022-03-10T08:31:13.635Z"
   },
   {
    "duration": -141048,
    "start_time": "2022-03-10T08:31:13.637Z"
   },
   {
    "duration": -141078,
    "start_time": "2022-03-10T08:31:13.668Z"
   },
   {
    "duration": -141082,
    "start_time": "2022-03-10T08:31:13.673Z"
   },
   {
    "duration": -141081,
    "start_time": "2022-03-10T08:31:13.674Z"
   },
   {
    "duration": -141082,
    "start_time": "2022-03-10T08:31:13.676Z"
   },
   {
    "duration": -141081,
    "start_time": "2022-03-10T08:31:13.677Z"
   },
   {
    "duration": 16,
    "start_time": "2022-03-10T08:29:53.924Z"
   },
   {
    "duration": 5,
    "start_time": "2022-03-10T08:29:55.541Z"
   },
   {
    "duration": 714,
    "start_time": "2022-03-10T08:29:59.674Z"
   },
   {
    "duration": 686,
    "start_time": "2022-03-10T08:30:03.389Z"
   },
   {
    "duration": 1064,
    "start_time": "2022-03-10T08:30:06.843Z"
   },
   {
    "duration": 1277,
    "start_time": "2022-03-10T08:30:10.095Z"
   },
   {
    "duration": 4,
    "start_time": "2022-03-10T08:30:15.432Z"
   },
   {
    "duration": 264,
    "start_time": "2022-03-10T08:30:20.890Z"
   },
   {
    "duration": 1158,
    "start_time": "2022-03-10T08:31:35.285Z"
   },
   {
    "duration": 285,
    "start_time": "2022-03-10T08:32:06.734Z"
   },
   {
    "duration": 317,
    "start_time": "2022-03-10T08:36:44.807Z"
   },
   {
    "duration": 268,
    "start_time": "2022-03-10T08:38:02.964Z"
   },
   {
    "duration": 262,
    "start_time": "2022-03-10T08:38:21.243Z"
   },
   {
    "duration": 39,
    "start_time": "2022-03-10T08:40:03.787Z"
   },
   {
    "duration": 42,
    "start_time": "2022-03-10T08:40:12.289Z"
   },
   {
    "duration": 311,
    "start_time": "2022-03-10T08:40:19.521Z"
   },
   {
    "duration": 252,
    "start_time": "2022-03-10T08:40:40.788Z"
   },
   {
    "duration": 248,
    "start_time": "2022-03-10T08:40:44.866Z"
   },
   {
    "duration": 8,
    "start_time": "2022-03-10T08:41:03.837Z"
   },
   {
    "duration": 260,
    "start_time": "2022-03-10T08:41:28.421Z"
   },
   {
    "duration": 1245,
    "start_time": "2022-03-11T06:57:16.594Z"
   },
   {
    "duration": 12,
    "start_time": "2022-03-11T06:57:20.071Z"
   },
   {
    "duration": 3,
    "start_time": "2022-03-11T06:57:23.102Z"
   },
   {
    "duration": 1854,
    "start_time": "2022-03-11T06:57:24.615Z"
   },
   {
    "duration": 4,
    "start_time": "2022-03-11T06:57:26.664Z"
   },
   {
    "duration": 58,
    "start_time": "2022-03-11T06:57:28.758Z"
   },
   {
    "duration": 44,
    "start_time": "2022-03-11T06:57:31.840Z"
   },
   {
    "duration": 48824,
    "start_time": "2022-03-11T06:57:39.998Z"
   },
   {
    "duration": 202,
    "start_time": "2022-03-11T06:58:28.824Z"
   },
   {
    "duration": 4,
    "start_time": "2022-03-11T06:58:33.495Z"
   },
   {
    "duration": 12,
    "start_time": "2022-03-11T06:58:36.185Z"
   },
   {
    "duration": 5,
    "start_time": "2022-03-11T06:58:39.350Z"
   },
   {
    "duration": 6,
    "start_time": "2022-03-11T06:58:56.032Z"
   },
   {
    "duration": 64,
    "start_time": "2022-03-11T06:58:58.887Z"
   },
   {
    "duration": 49,
    "start_time": "2022-03-11T06:59:02.607Z"
   },
   {
    "duration": 8,
    "start_time": "2022-03-11T06:59:06.336Z"
   },
   {
    "duration": 9,
    "start_time": "2022-03-11T06:59:09.303Z"
   },
   {
    "duration": 14,
    "start_time": "2022-03-11T06:59:11.119Z"
   },
   {
    "duration": 4,
    "start_time": "2022-03-11T06:59:12.775Z"
   },
   {
    "duration": 514,
    "start_time": "2022-03-11T06:59:15.536Z"
   },
   {
    "duration": 1260,
    "start_time": "2022-03-11T07:01:19.877Z"
   },
   {
    "duration": 12,
    "start_time": "2022-03-11T07:01:24.183Z"
   },
   {
    "duration": 3,
    "start_time": "2022-03-11T07:01:26.520Z"
   },
   {
    "duration": 1520,
    "start_time": "2022-03-11T07:01:29.009Z"
   },
   {
    "duration": 4,
    "start_time": "2022-03-11T07:01:31.540Z"
   },
   {
    "duration": 61,
    "start_time": "2022-03-11T07:01:37.412Z"
   },
   {
    "duration": 47,
    "start_time": "2022-03-11T07:01:41.210Z"
   },
   {
    "duration": 48195,
    "start_time": "2022-03-11T07:01:45.419Z"
   },
   {
    "duration": 276,
    "start_time": "2022-03-11T07:02:33.616Z"
   },
   {
    "duration": 8,
    "start_time": "2022-03-11T07:02:33.895Z"
   },
   {
    "duration": 24,
    "start_time": "2022-03-11T07:02:33.905Z"
   },
   {
    "duration": 5,
    "start_time": "2022-03-11T07:02:33.931Z"
   },
   {
    "duration": 8,
    "start_time": "2022-03-11T07:02:33.938Z"
   },
   {
    "duration": 84,
    "start_time": "2022-03-11T07:02:33.948Z"
   },
   {
    "duration": 65,
    "start_time": "2022-03-11T07:02:34.035Z"
   },
   {
    "duration": 9,
    "start_time": "2022-03-11T07:02:34.103Z"
   },
   {
    "duration": 8,
    "start_time": "2022-03-11T07:02:34.114Z"
   },
   {
    "duration": 17,
    "start_time": "2022-03-11T07:02:34.124Z"
   },
   {
    "duration": 5,
    "start_time": "2022-03-11T07:02:40.057Z"
   },
   {
    "duration": 1264,
    "start_time": "2022-03-11T07:03:12.459Z"
   },
   {
    "duration": 12,
    "start_time": "2022-03-11T07:03:14.949Z"
   },
   {
    "duration": 3,
    "start_time": "2022-03-11T07:03:20.068Z"
   },
   {
    "duration": 1364,
    "start_time": "2022-03-11T07:03:20.635Z"
   },
   {
    "duration": 4,
    "start_time": "2022-03-11T07:03:22.002Z"
   },
   {
    "duration": 60,
    "start_time": "2022-03-11T07:03:22.564Z"
   },
   {
    "duration": 45,
    "start_time": "2022-03-11T07:03:23.347Z"
   },
   {
    "duration": 779,
    "start_time": "2022-03-11T07:03:23.885Z"
   },
   {
    "duration": 49216,
    "start_time": "2022-03-11T07:03:24.666Z"
   },
   {
    "duration": 205,
    "start_time": "2022-03-11T07:04:13.884Z"
   },
   {
    "duration": 4,
    "start_time": "2022-03-11T07:05:19.003Z"
   },
   {
    "duration": 12,
    "start_time": "2022-03-11T07:05:25.373Z"
   },
   {
    "duration": 5,
    "start_time": "2022-03-11T07:05:28.554Z"
   },
   {
    "duration": 8,
    "start_time": "2022-03-11T07:05:38.374Z"
   },
   {
    "duration": 64,
    "start_time": "2022-03-11T07:06:21.097Z"
   },
   {
    "duration": 45,
    "start_time": "2022-03-11T07:06:44.413Z"
   },
   {
    "duration": 9,
    "start_time": "2022-03-11T07:07:26.012Z"
   },
   {
    "duration": 15,
    "start_time": "2022-03-11T07:12:27.146Z"
   },
   {
    "duration": 9,
    "start_time": "2022-03-11T07:12:32.019Z"
   },
   {
    "duration": 8,
    "start_time": "2022-03-11T07:13:31.947Z"
   },
   {
    "duration": 1267,
    "start_time": "2022-03-11T07:16:51.429Z"
   },
   {
    "duration": 13,
    "start_time": "2022-03-11T07:17:01.943Z"
   },
   {
    "duration": 3,
    "start_time": "2022-03-11T07:17:02.769Z"
   },
   {
    "duration": 1728,
    "start_time": "2022-03-11T07:17:03.426Z"
   },
   {
    "duration": 5,
    "start_time": "2022-03-11T07:17:05.156Z"
   },
   {
    "duration": 64,
    "start_time": "2022-03-11T07:17:11.459Z"
   },
   {
    "duration": 44,
    "start_time": "2022-03-11T07:17:12.610Z"
   },
   {
    "duration": 667,
    "start_time": "2022-03-11T07:17:19.378Z"
   },
   {
    "duration": 49088,
    "start_time": "2022-03-11T07:17:20.048Z"
   },
   {
    "duration": 221,
    "start_time": "2022-03-11T07:18:09.139Z"
   },
   {
    "duration": 4,
    "start_time": "2022-03-11T07:18:09.362Z"
   },
   {
    "duration": 12,
    "start_time": "2022-03-11T07:18:09.369Z"
   },
   {
    "duration": 22,
    "start_time": "2022-03-11T07:18:09.384Z"
   },
   {
    "duration": 19,
    "start_time": "2022-03-11T07:18:09.409Z"
   },
   {
    "duration": 77,
    "start_time": "2022-03-11T07:18:09.431Z"
   },
   {
    "duration": 49,
    "start_time": "2022-03-11T07:18:09.511Z"
   },
   {
    "duration": 9,
    "start_time": "2022-03-11T07:18:09.562Z"
   },
   {
    "duration": 1253,
    "start_time": "2022-03-11T07:18:45.994Z"
   },
   {
    "duration": 5,
    "start_time": "2022-03-11T07:18:54.731Z"
   },
   {
    "duration": 77,
    "start_time": "2022-03-11T07:19:45.923Z"
   },
   {
    "duration": 550,
    "start_time": "2022-03-11T07:20:03.404Z"
   },
   {
    "duration": 407,
    "start_time": "2022-03-11T07:20:51.097Z"
   },
   {
    "duration": 866,
    "start_time": "2022-03-11T07:21:01.252Z"
   },
   {
    "duration": 889,
    "start_time": "2022-03-11T07:21:05.251Z"
   },
   {
    "duration": 4,
    "start_time": "2022-03-11T07:21:15.370Z"
   },
   {
    "duration": 340,
    "start_time": "2022-03-11T07:24:47.900Z"
   },
   {
    "duration": 5,
    "start_time": "2022-03-11T07:28:21.244Z"
   },
   {
    "duration": 1380,
    "start_time": "2022-03-11T07:28:27.930Z"
   },
   {
    "duration": 13,
    "start_time": "2022-03-11T07:28:30.451Z"
   },
   {
    "duration": 4,
    "start_time": "2022-03-11T07:28:30.824Z"
   },
   {
    "duration": 1553,
    "start_time": "2022-03-11T07:28:31.041Z"
   },
   {
    "duration": 5,
    "start_time": "2022-03-11T07:28:32.596Z"
   },
   {
    "duration": 71,
    "start_time": "2022-03-11T07:28:32.604Z"
   },
   {
    "duration": 65,
    "start_time": "2022-03-11T07:28:32.677Z"
   },
   {
    "duration": 733,
    "start_time": "2022-03-11T07:28:32.744Z"
   },
   {
    "duration": 48348,
    "start_time": "2022-03-11T07:28:33.479Z"
   },
   {
    "duration": 205,
    "start_time": "2022-03-11T07:29:21.829Z"
   },
   {
    "duration": 3,
    "start_time": "2022-03-11T07:29:22.036Z"
   },
   {
    "duration": 36,
    "start_time": "2022-03-11T07:29:22.041Z"
   },
   {
    "duration": 22,
    "start_time": "2022-03-11T07:29:22.079Z"
   },
   {
    "duration": 17,
    "start_time": "2022-03-11T07:29:22.103Z"
   },
   {
    "duration": 67,
    "start_time": "2022-03-11T07:29:22.123Z"
   },
   {
    "duration": 54,
    "start_time": "2022-03-11T07:29:22.193Z"
   },
   {
    "duration": 9,
    "start_time": "2022-03-11T07:29:22.252Z"
   },
   {
    "duration": 43,
    "start_time": "2022-03-11T07:29:22.264Z"
   },
   {
    "duration": 947,
    "start_time": "2022-03-11T07:29:22.309Z"
   },
   {
    "duration": 4,
    "start_time": "2022-03-11T07:29:23.259Z"
   },
   {
    "duration": 560,
    "start_time": "2022-03-11T07:29:23.265Z"
   },
   {
    "duration": -143325,
    "start_time": "2022-03-11T07:31:47.152Z"
   },
   {
    "duration": -143345,
    "start_time": "2022-03-11T07:31:47.173Z"
   },
   {
    "duration": -143356,
    "start_time": "2022-03-11T07:31:47.185Z"
   },
   {
    "duration": -143358,
    "start_time": "2022-03-11T07:31:47.188Z"
   },
   {
    "duration": -143364,
    "start_time": "2022-03-11T07:31:47.195Z"
   },
   {
    "duration": -143369,
    "start_time": "2022-03-11T07:31:47.201Z"
   },
   {
    "duration": 400,
    "start_time": "2022-03-11T07:29:34.818Z"
   },
   {
    "duration": 758,
    "start_time": "2022-03-11T07:29:37.868Z"
   },
   {
    "duration": 882,
    "start_time": "2022-03-11T07:29:41.271Z"
   },
   {
    "duration": 3,
    "start_time": "2022-03-11T07:29:46.737Z"
   },
   {
    "duration": 29,
    "start_time": "2022-03-11T07:29:51.616Z"
   },
   {
    "duration": 28,
    "start_time": "2022-03-11T07:29:56.904Z"
   },
   {
    "duration": 8,
    "start_time": "2022-03-11T07:31:41.817Z"
   },
   {
    "duration": 5,
    "start_time": "2022-03-11T07:31:56.763Z"
   },
   {
    "duration": 7,
    "start_time": "2022-03-11T07:32:02.578Z"
   },
   {
    "duration": 5,
    "start_time": "2022-03-11T07:32:06.209Z"
   },
   {
    "duration": 4,
    "start_time": "2022-03-11T07:32:13.904Z"
   },
   {
    "duration": 4,
    "start_time": "2022-03-11T07:32:17.090Z"
   },
   {
    "duration": 311,
    "start_time": "2022-03-11T07:32:17.976Z"
   },
   {
    "duration": 230,
    "start_time": "2022-03-11T07:32:18.585Z"
   },
   {
    "duration": 232,
    "start_time": "2022-03-11T07:32:27.130Z"
   },
   {
    "duration": 3,
    "start_time": "2022-03-11T07:32:36.493Z"
   },
   {
    "duration": 249,
    "start_time": "2022-03-11T07:32:37.480Z"
   },
   {
    "duration": 213,
    "start_time": "2022-03-11T07:32:40.986Z"
   },
   {
    "duration": 238,
    "start_time": "2022-03-11T07:32:42.545Z"
   },
   {
    "duration": 239,
    "start_time": "2022-03-11T07:32:44.983Z"
   },
   {
    "duration": 233,
    "start_time": "2022-03-11T07:32:47.909Z"
   },
   {
    "duration": 10,
    "start_time": "2022-03-11T07:32:50.794Z"
   },
   {
    "duration": 1432,
    "start_time": "2022-03-14T07:02:03.478Z"
   },
   {
    "duration": 17,
    "start_time": "2022-03-14T07:02:09.013Z"
   },
   {
    "duration": 3,
    "start_time": "2022-03-14T07:02:11.604Z"
   },
   {
    "duration": 1998,
    "start_time": "2022-03-14T07:02:13.154Z"
   },
   {
    "duration": 7,
    "start_time": "2022-03-14T07:02:15.156Z"
   },
   {
    "duration": 87,
    "start_time": "2022-03-14T07:02:17.697Z"
   },
   {
    "duration": 64,
    "start_time": "2022-03-14T07:02:21.148Z"
   },
   {
    "duration": 917,
    "start_time": "2022-03-14T07:02:25.301Z"
   },
   {
    "duration": 353,
    "start_time": "2022-03-14T07:02:32.355Z"
   },
   {
    "duration": 4,
    "start_time": "2022-03-14T07:03:24.471Z"
   },
   {
    "duration": 20,
    "start_time": "2022-03-14T07:03:27.110Z"
   },
   {
    "duration": 7,
    "start_time": "2022-03-14T07:03:31.164Z"
   },
   {
    "duration": 6,
    "start_time": "2022-03-14T07:03:34.301Z"
   },
   {
    "duration": 92,
    "start_time": "2022-03-14T07:07:53.045Z"
   },
   {
    "duration": 1515,
    "start_time": "2022-03-14T07:08:14.454Z"
   },
   {
    "duration": 19,
    "start_time": "2022-03-14T07:08:15.972Z"
   },
   {
    "duration": 21,
    "start_time": "2022-03-14T07:08:15.998Z"
   },
   {
    "duration": 2006,
    "start_time": "2022-03-14T07:08:16.021Z"
   },
   {
    "duration": 6,
    "start_time": "2022-03-14T07:08:18.030Z"
   },
   {
    "duration": 120,
    "start_time": "2022-03-14T07:08:18.040Z"
   },
   {
    "duration": 74,
    "start_time": "2022-03-14T07:08:18.165Z"
   },
   {
    "duration": 1329,
    "start_time": "2022-03-14T07:08:18.242Z"
   },
   {
    "duration": 91790,
    "start_time": "2022-03-14T07:08:19.574Z"
   },
   {
    "duration": 428,
    "start_time": "2022-03-14T07:09:51.367Z"
   },
   {
    "duration": 7,
    "start_time": "2022-03-14T07:09:51.798Z"
   },
   {
    "duration": 30,
    "start_time": "2022-03-14T07:09:51.807Z"
   },
   {
    "duration": 8,
    "start_time": "2022-03-14T07:09:51.840Z"
   },
   {
    "duration": 9,
    "start_time": "2022-03-14T07:09:51.851Z"
   },
   {
    "duration": 135,
    "start_time": "2022-03-14T07:09:51.883Z"
   },
   {
    "duration": 88,
    "start_time": "2022-03-14T07:09:52.021Z"
   },
   {
    "duration": 11,
    "start_time": "2022-03-14T07:09:52.112Z"
   },
   {
    "duration": 12,
    "start_time": "2022-03-14T07:09:52.125Z"
   },
   {
    "duration": 1552,
    "start_time": "2022-03-14T07:09:52.139Z"
   },
   {
    "duration": 6,
    "start_time": "2022-03-14T07:09:53.693Z"
   },
   {
    "duration": 685,
    "start_time": "2022-03-14T07:09:53.702Z"
   },
   {
    "duration": -151815,
    "start_time": "2022-03-14T07:12:26.205Z"
   },
   {
    "duration": -151817,
    "start_time": "2022-03-14T07:12:26.209Z"
   },
   {
    "duration": -151820,
    "start_time": "2022-03-14T07:12:26.214Z"
   },
   {
    "duration": -151824,
    "start_time": "2022-03-14T07:12:26.219Z"
   },
   {
    "duration": -151825,
    "start_time": "2022-03-14T07:12:26.222Z"
   },
   {
    "duration": -151836,
    "start_time": "2022-03-14T07:12:26.234Z"
   },
   {
    "duration": -151835,
    "start_time": "2022-03-14T07:12:26.235Z"
   },
   {
    "duration": -151836,
    "start_time": "2022-03-14T07:12:26.237Z"
   },
   {
    "duration": -151835,
    "start_time": "2022-03-14T07:12:26.238Z"
   },
   {
    "duration": -151836,
    "start_time": "2022-03-14T07:12:26.240Z"
   },
   {
    "duration": -151835,
    "start_time": "2022-03-14T07:12:26.241Z"
   },
   {
    "duration": -151835,
    "start_time": "2022-03-14T07:12:26.243Z"
   },
   {
    "duration": -151835,
    "start_time": "2022-03-14T07:12:26.244Z"
   },
   {
    "duration": -151835,
    "start_time": "2022-03-14T07:12:26.246Z"
   },
   {
    "duration": -151835,
    "start_time": "2022-03-14T07:12:26.247Z"
   },
   {
    "duration": -151874,
    "start_time": "2022-03-14T07:12:26.288Z"
   },
   {
    "duration": -151877,
    "start_time": "2022-03-14T07:12:26.292Z"
   },
   {
    "duration": -151881,
    "start_time": "2022-03-14T07:12:26.297Z"
   },
   {
    "duration": -151882,
    "start_time": "2022-03-14T07:12:26.300Z"
   },
   {
    "duration": -151884,
    "start_time": "2022-03-14T07:12:26.303Z"
   },
   {
    "duration": -151886,
    "start_time": "2022-03-14T07:12:26.306Z"
   },
   {
    "duration": 618,
    "start_time": "2022-03-14T07:11:06.759Z"
   },
   {
    "duration": 1397,
    "start_time": "2022-03-14T07:11:11.080Z"
   },
   {
    "duration": 1869,
    "start_time": "2022-03-14T07:11:14.777Z"
   },
   {
    "duration": 6,
    "start_time": "2022-03-14T07:11:19.928Z"
   },
   {
    "duration": 282,
    "start_time": "2022-03-14T07:13:04.024Z"
   },
   {
    "duration": 12,
    "start_time": "2022-03-14T07:13:18.025Z"
   },
   {
    "duration": 10,
    "start_time": "2022-03-14T07:14:55.951Z"
   },
   {
    "duration": 1413,
    "start_time": "2022-03-14T07:20:23.786Z"
   },
   {
    "duration": 11,
    "start_time": "2022-03-14T07:20:29.288Z"
   },
   {
    "duration": 48,
    "start_time": "2022-03-14T07:22:07.010Z"
   },
   {
    "duration": 11,
    "start_time": "2022-03-14T07:22:11.544Z"
   },
   {
    "duration": 10,
    "start_time": "2022-03-14T07:22:48.074Z"
   },
   {
    "duration": 47,
    "start_time": "2022-03-14T07:23:10.672Z"
   },
   {
    "duration": 11,
    "start_time": "2022-03-14T07:23:17.990Z"
   },
   {
    "duration": 9,
    "start_time": "2022-03-14T07:26:40.745Z"
   },
   {
    "duration": 312,
    "start_time": "2022-03-14T07:26:43.792Z"
   },
   {
    "duration": 1592,
    "start_time": "2022-03-14T07:28:52.013Z"
   },
   {
    "duration": 17,
    "start_time": "2022-03-14T07:28:53.608Z"
   },
   {
    "duration": 18,
    "start_time": "2022-03-14T07:28:53.630Z"
   },
   {
    "duration": 2045,
    "start_time": "2022-03-14T07:28:53.650Z"
   },
   {
    "duration": 6,
    "start_time": "2022-03-14T07:28:55.699Z"
   },
   {
    "duration": 110,
    "start_time": "2022-03-14T07:28:55.708Z"
   },
   {
    "duration": 86,
    "start_time": "2022-03-14T07:28:55.821Z"
   },
   {
    "duration": 1381,
    "start_time": "2022-03-14T07:28:55.911Z"
   },
   {
    "duration": 94832,
    "start_time": "2022-03-14T07:28:57.297Z"
   },
   {
    "duration": 377,
    "start_time": "2022-03-14T07:30:32.133Z"
   },
   {
    "duration": 6,
    "start_time": "2022-03-14T07:30:32.513Z"
   },
   {
    "duration": 28,
    "start_time": "2022-03-14T07:30:32.522Z"
   },
   {
    "duration": 9,
    "start_time": "2022-03-14T07:30:32.552Z"
   },
   {
    "duration": 8,
    "start_time": "2022-03-14T07:30:32.583Z"
   },
   {
    "duration": 112,
    "start_time": "2022-03-14T07:30:32.594Z"
   },
   {
    "duration": 86,
    "start_time": "2022-03-14T07:30:32.708Z"
   },
   {
    "duration": 14,
    "start_time": "2022-03-14T07:30:32.796Z"
   },
   {
    "duration": 10,
    "start_time": "2022-03-14T07:30:32.812Z"
   },
   {
    "duration": 1527,
    "start_time": "2022-03-14T07:30:32.824Z"
   },
   {
    "duration": 5,
    "start_time": "2022-03-14T07:30:34.354Z"
   },
   {
    "duration": 696,
    "start_time": "2022-03-14T07:30:34.362Z"
   },
   {
    "duration": -151804,
    "start_time": "2022-03-14T07:33:06.866Z"
   },
   {
    "duration": -151804,
    "start_time": "2022-03-14T07:33:06.868Z"
   },
   {
    "duration": -151804,
    "start_time": "2022-03-14T07:33:06.871Z"
   },
   {
    "duration": -151807,
    "start_time": "2022-03-14T07:33:06.876Z"
   },
   {
    "duration": -151796,
    "start_time": "2022-03-14T07:33:06.879Z"
   },
   {
    "duration": -151799,
    "start_time": "2022-03-14T07:33:06.884Z"
   },
   {
    "duration": -151800,
    "start_time": "2022-03-14T07:33:06.887Z"
   },
   {
    "duration": -151802,
    "start_time": "2022-03-14T07:33:06.892Z"
   },
   {
    "duration": -151802,
    "start_time": "2022-03-14T07:33:06.894Z"
   },
   {
    "duration": -151804,
    "start_time": "2022-03-14T07:33:06.898Z"
   },
   {
    "duration": -151805,
    "start_time": "2022-03-14T07:33:06.901Z"
   },
   {
    "duration": -151807,
    "start_time": "2022-03-14T07:33:06.905Z"
   },
   {
    "duration": -151807,
    "start_time": "2022-03-14T07:33:06.907Z"
   },
   {
    "duration": -151808,
    "start_time": "2022-03-14T07:33:06.910Z"
   },
   {
    "duration": -151809,
    "start_time": "2022-03-14T07:33:06.913Z"
   },
   {
    "duration": -151855,
    "start_time": "2022-03-14T07:33:06.961Z"
   },
   {
    "duration": -151869,
    "start_time": "2022-03-14T07:33:06.978Z"
   },
   {
    "duration": -151869,
    "start_time": "2022-03-14T07:33:06.981Z"
   },
   {
    "duration": -151870,
    "start_time": "2022-03-14T07:33:06.984Z"
   },
   {
    "duration": -151870,
    "start_time": "2022-03-14T07:33:06.986Z"
   },
   {
    "duration": -151870,
    "start_time": "2022-03-14T07:33:06.988Z"
   },
   {
    "duration": -151870,
    "start_time": "2022-03-14T07:33:06.991Z"
   },
   {
    "duration": -151871,
    "start_time": "2022-03-14T07:33:06.993Z"
   },
   {
    "duration": 16,
    "start_time": "2022-03-14T07:37:45.427Z"
   },
   {
    "duration": 6,
    "start_time": "2022-03-14T07:37:55.193Z"
   },
   {
    "duration": 595,
    "start_time": "2022-03-14T07:37:59.219Z"
   },
   {
    "duration": 759,
    "start_time": "2022-03-14T07:38:02.929Z"
   },
   {
    "duration": 1376,
    "start_time": "2022-03-14T07:38:07.886Z"
   },
   {
    "duration": 1847,
    "start_time": "2022-03-14T07:38:11.763Z"
   },
   {
    "duration": 5,
    "start_time": "2022-03-14T07:38:16.752Z"
   },
   {
    "duration": 14,
    "start_time": "2022-03-14T07:38:21.831Z"
   },
   {
    "duration": 10,
    "start_time": "2022-03-14T07:38:25.646Z"
   },
   {
    "duration": 9,
    "start_time": "2022-03-14T07:38:43.872Z"
   },
   {
    "duration": 290,
    "start_time": "2022-03-14T07:38:46.480Z"
   },
   {
    "duration": 278,
    "start_time": "2022-03-14T07:39:34.969Z"
   },
   {
    "duration": 1734,
    "start_time": "2022-03-14T07:40:13.987Z"
   },
   {
    "duration": 16,
    "start_time": "2022-03-14T07:40:15.724Z"
   },
   {
    "duration": 43,
    "start_time": "2022-03-14T07:40:15.745Z"
   },
   {
    "duration": 1904,
    "start_time": "2022-03-14T07:40:15.791Z"
   },
   {
    "duration": 6,
    "start_time": "2022-03-14T07:40:17.698Z"
   },
   {
    "duration": 137,
    "start_time": "2022-03-14T07:40:17.707Z"
   },
   {
    "duration": 102,
    "start_time": "2022-03-14T07:40:17.847Z"
   },
   {
    "duration": 1410,
    "start_time": "2022-03-14T07:40:17.954Z"
   },
   {
    "duration": 85207,
    "start_time": "2022-03-14T07:40:19.368Z"
   },
   {
    "duration": 372,
    "start_time": "2022-03-14T07:41:44.577Z"
   },
   {
    "duration": 6,
    "start_time": "2022-03-14T07:41:44.951Z"
   },
   {
    "duration": 35,
    "start_time": "2022-03-14T07:41:44.959Z"
   },
   {
    "duration": 8,
    "start_time": "2022-03-14T07:41:44.996Z"
   },
   {
    "duration": 20,
    "start_time": "2022-03-14T07:41:45.007Z"
   },
   {
    "duration": 110,
    "start_time": "2022-03-14T07:41:45.030Z"
   },
   {
    "duration": 86,
    "start_time": "2022-03-14T07:41:45.143Z"
   },
   {
    "duration": 12,
    "start_time": "2022-03-14T07:41:45.232Z"
   },
   {
    "duration": 40,
    "start_time": "2022-03-14T07:41:45.246Z"
   },
   {
    "duration": 27,
    "start_time": "2022-03-14T07:41:45.288Z"
   },
   {
    "duration": 6,
    "start_time": "2022-03-14T07:41:45.317Z"
   },
   {
    "duration": 693,
    "start_time": "2022-03-14T07:41:45.325Z"
   },
   {
    "duration": -152102,
    "start_time": "2022-03-14T07:44:18.124Z"
   },
   {
    "duration": -152103,
    "start_time": "2022-03-14T07:44:18.126Z"
   },
   {
    "duration": -152104,
    "start_time": "2022-03-14T07:44:18.128Z"
   },
   {
    "duration": -152103,
    "start_time": "2022-03-14T07:44:18.129Z"
   },
   {
    "duration": -152103,
    "start_time": "2022-03-14T07:44:18.131Z"
   },
   {
    "duration": -152103,
    "start_time": "2022-03-14T07:44:18.132Z"
   },
   {
    "duration": -152103,
    "start_time": "2022-03-14T07:44:18.134Z"
   },
   {
    "duration": -152104,
    "start_time": "2022-03-14T07:44:18.136Z"
   },
   {
    "duration": -152104,
    "start_time": "2022-03-14T07:44:18.138Z"
   },
   {
    "duration": -152104,
    "start_time": "2022-03-14T07:44:18.139Z"
   },
   {
    "duration": -152104,
    "start_time": "2022-03-14T07:44:18.141Z"
   },
   {
    "duration": -152103,
    "start_time": "2022-03-14T07:44:18.142Z"
   },
   {
    "duration": -152104,
    "start_time": "2022-03-14T07:44:18.144Z"
   },
   {
    "duration": -152104,
    "start_time": "2022-03-14T07:44:18.145Z"
   },
   {
    "duration": -152104,
    "start_time": "2022-03-14T07:44:18.147Z"
   },
   {
    "duration": -152066,
    "start_time": "2022-03-14T07:44:18.148Z"
   },
   {
    "duration": -152066,
    "start_time": "2022-03-14T07:44:18.150Z"
   },
   {
    "duration": -152065,
    "start_time": "2022-03-14T07:44:18.151Z"
   },
   {
    "duration": -152066,
    "start_time": "2022-03-14T07:44:18.153Z"
   },
   {
    "duration": -152065,
    "start_time": "2022-03-14T07:44:18.154Z"
   },
   {
    "duration": -152065,
    "start_time": "2022-03-14T07:44:18.156Z"
   },
   {
    "duration": 14,
    "start_time": "2022-03-14T07:47:33.500Z"
   },
   {
    "duration": 12,
    "start_time": "2022-03-14T07:47:53.346Z"
   },
   {
    "duration": 15,
    "start_time": "2022-03-14T07:48:30.859Z"
   },
   {
    "duration": 54,
    "start_time": "2022-03-14T07:49:20.769Z"
   },
   {
    "duration": 15,
    "start_time": "2022-03-14T07:49:30.202Z"
   },
   {
    "duration": 19,
    "start_time": "2022-03-14T07:50:09.694Z"
   },
   {
    "duration": 14,
    "start_time": "2022-03-14T07:50:12.609Z"
   },
   {
    "duration": 2793,
    "start_time": "2022-03-14T07:50:25.471Z"
   },
   {
    "duration": 681,
    "start_time": "2022-03-14T07:50:31.457Z"
   },
   {
    "duration": 1280,
    "start_time": "2022-03-14T07:50:35.207Z"
   },
   {
    "duration": 1497,
    "start_time": "2022-03-14T07:50:39.603Z"
   },
   {
    "duration": 4,
    "start_time": "2022-03-14T07:50:43.340Z"
   },
   {
    "duration": 402,
    "start_time": "2022-03-14T07:50:55.746Z"
   },
   {
    "duration": 1938,
    "start_time": "2022-03-14T07:53:31.644Z"
   },
   {
    "duration": 23,
    "start_time": "2022-03-14T07:53:34.622Z"
   },
   {
    "duration": 4,
    "start_time": "2022-03-14T07:53:40.802Z"
   },
   {
    "duration": 1696,
    "start_time": "2022-03-14T07:53:42.887Z"
   },
   {
    "duration": 5,
    "start_time": "2022-03-14T07:53:45.182Z"
   },
   {
    "duration": 90,
    "start_time": "2022-03-14T07:53:48.076Z"
   },
   {
    "duration": 64,
    "start_time": "2022-03-14T07:53:48.972Z"
   },
   {
    "duration": 965,
    "start_time": "2022-03-14T07:53:49.235Z"
   },
   {
    "duration": 95998,
    "start_time": "2022-03-14T07:53:50.202Z"
   },
   {
    "duration": 423,
    "start_time": "2022-03-14T07:55:26.203Z"
   },
   {
    "duration": 6,
    "start_time": "2022-03-14T07:55:26.630Z"
   },
   {
    "duration": 19,
    "start_time": "2022-03-14T07:55:26.638Z"
   },
   {
    "duration": 6,
    "start_time": "2022-03-14T07:55:26.659Z"
   },
   {
    "duration": 7,
    "start_time": "2022-03-14T07:55:26.683Z"
   },
   {
    "duration": 112,
    "start_time": "2022-03-14T07:55:26.694Z"
   },
   {
    "duration": 88,
    "start_time": "2022-03-14T07:55:26.809Z"
   },
   {
    "duration": 28,
    "start_time": "2022-03-14T07:55:26.899Z"
   },
   {
    "duration": 11,
    "start_time": "2022-03-14T07:55:26.929Z"
   },
   {
    "duration": 16,
    "start_time": "2022-03-14T07:55:26.942Z"
   },
   {
    "duration": 25,
    "start_time": "2022-03-14T07:55:26.960Z"
   },
   {
    "duration": 13,
    "start_time": "2022-03-14T07:55:26.987Z"
   },
   {
    "duration": 8,
    "start_time": "2022-03-14T07:55:27.002Z"
   },
   {
    "duration": 21,
    "start_time": "2022-03-14T07:55:27.012Z"
   },
   {
    "duration": 55,
    "start_time": "2022-03-14T07:55:27.035Z"
   },
   {
    "duration": 13,
    "start_time": "2022-03-14T07:55:27.092Z"
   },
   {
    "duration": 2686,
    "start_time": "2022-03-14T07:55:27.107Z"
   },
   {
    "duration": 677,
    "start_time": "2022-03-14T07:55:29.795Z"
   },
   {
    "duration": 1271,
    "start_time": "2022-03-14T07:55:30.474Z"
   },
   {
    "duration": 1521,
    "start_time": "2022-03-14T07:55:31.748Z"
   },
   {
    "duration": 5,
    "start_time": "2022-03-14T07:55:33.283Z"
   },
   {
    "duration": 13,
    "start_time": "2022-03-14T07:55:33.290Z"
   },
   {
    "duration": 426,
    "start_time": "2022-03-14T07:56:27.844Z"
   },
   {
    "duration": 15,
    "start_time": "2022-03-14T07:59:27.932Z"
   },
   {
    "duration": 1717,
    "start_time": "2022-03-14T07:59:45.899Z"
   },
   {
    "duration": 18,
    "start_time": "2022-03-14T07:59:49.235Z"
   },
   {
    "duration": 4,
    "start_time": "2022-03-14T07:59:49.562Z"
   },
   {
    "duration": 1812,
    "start_time": "2022-03-14T07:59:49.706Z"
   },
   {
    "duration": 8,
    "start_time": "2022-03-14T07:59:51.522Z"
   },
   {
    "duration": 118,
    "start_time": "2022-03-14T07:59:51.533Z"
   },
   {
    "duration": 102,
    "start_time": "2022-03-14T07:59:51.655Z"
   },
   {
    "duration": 1019,
    "start_time": "2022-03-14T07:59:51.783Z"
   },
   {
    "duration": 81445,
    "start_time": "2022-03-14T07:59:52.805Z"
   },
   {
    "duration": 363,
    "start_time": "2022-03-14T08:01:14.253Z"
   },
   {
    "duration": 5,
    "start_time": "2022-03-14T08:01:14.622Z"
   },
   {
    "duration": 20,
    "start_time": "2022-03-14T08:01:14.629Z"
   },
   {
    "duration": 7,
    "start_time": "2022-03-14T08:01:14.651Z"
   },
   {
    "duration": 26,
    "start_time": "2022-03-14T08:01:14.660Z"
   },
   {
    "duration": 141,
    "start_time": "2022-03-14T08:01:14.689Z"
   },
   {
    "duration": 83,
    "start_time": "2022-03-14T08:01:14.833Z"
   },
   {
    "duration": 11,
    "start_time": "2022-03-14T08:01:14.919Z"
   },
   {
    "duration": 17,
    "start_time": "2022-03-14T08:01:14.932Z"
   },
   {
    "duration": 17,
    "start_time": "2022-03-14T08:01:14.984Z"
   },
   {
    "duration": 6,
    "start_time": "2022-03-14T08:01:15.004Z"
   },
   {
    "duration": 28,
    "start_time": "2022-03-14T08:01:15.012Z"
   },
   {
    "duration": 39,
    "start_time": "2022-03-14T08:01:15.043Z"
   },
   {
    "duration": 18,
    "start_time": "2022-03-14T08:01:15.085Z"
   },
   {
    "duration": 21,
    "start_time": "2022-03-14T08:01:15.106Z"
   },
   {
    "duration": 15,
    "start_time": "2022-03-14T08:01:15.129Z"
   },
   {
    "duration": 3971,
    "start_time": "2022-03-14T08:01:15.182Z"
   },
   {
    "duration": 939,
    "start_time": "2022-03-14T08:01:19.156Z"
   },
   {
    "duration": 1909,
    "start_time": "2022-03-14T08:01:20.098Z"
   },
   {
    "duration": 1974,
    "start_time": "2022-03-14T08:01:22.010Z"
   },
   {
    "duration": 6,
    "start_time": "2022-03-14T08:01:23.987Z"
   },
   {
    "duration": 34,
    "start_time": "2022-03-14T08:01:23.996Z"
   },
   {
    "duration": 20,
    "start_time": "2022-03-14T08:01:26.212Z"
   },
   {
    "duration": 627,
    "start_time": "2022-03-14T08:01:33.565Z"
   },
   {
    "duration": 1147,
    "start_time": "2022-03-15T07:38:23.502Z"
   },
   {
    "duration": 10,
    "start_time": "2022-03-15T07:38:26.546Z"
   },
   {
    "duration": 3,
    "start_time": "2022-03-15T07:38:28.389Z"
   },
   {
    "duration": 1499,
    "start_time": "2022-03-15T07:38:29.012Z"
   },
   {
    "duration": 5,
    "start_time": "2022-03-15T07:38:31.064Z"
   },
   {
    "duration": 54,
    "start_time": "2022-03-15T07:38:32.823Z"
   },
   {
    "duration": 38,
    "start_time": "2022-03-15T07:38:33.225Z"
   },
   {
    "duration": 606,
    "start_time": "2022-03-15T07:38:33.841Z"
   },
   {
    "duration": 43370,
    "start_time": "2022-03-15T07:38:34.449Z"
   },
   {
    "duration": 185,
    "start_time": "2022-03-15T07:39:17.821Z"
   },
   {
    "duration": 3,
    "start_time": "2022-03-15T07:39:18.008Z"
   },
   {
    "duration": 20,
    "start_time": "2022-03-15T07:39:18.012Z"
   },
   {
    "duration": 7,
    "start_time": "2022-03-15T07:39:18.034Z"
   },
   {
    "duration": 13,
    "start_time": "2022-03-15T07:39:18.044Z"
   },
   {
    "duration": 66,
    "start_time": "2022-03-15T07:39:18.059Z"
   },
   {
    "duration": 46,
    "start_time": "2022-03-15T07:39:18.126Z"
   },
   {
    "duration": 6,
    "start_time": "2022-03-15T07:39:18.175Z"
   },
   {
    "duration": 9,
    "start_time": "2022-03-15T07:39:18.183Z"
   },
   {
    "duration": 15,
    "start_time": "2022-03-15T07:39:18.194Z"
   },
   {
    "duration": 3,
    "start_time": "2022-03-15T07:39:18.233Z"
   },
   {
    "duration": 12,
    "start_time": "2022-03-15T07:39:18.238Z"
   },
   {
    "duration": 5,
    "start_time": "2022-03-15T07:39:18.252Z"
   },
   {
    "duration": 10,
    "start_time": "2022-03-15T07:39:18.259Z"
   },
   {
    "duration": 12,
    "start_time": "2022-03-15T07:39:18.270Z"
   },
   {
    "duration": 9,
    "start_time": "2022-03-15T07:39:18.283Z"
   },
   {
    "duration": 1718,
    "start_time": "2022-03-15T07:39:18.295Z"
   },
   {
    "duration": 389,
    "start_time": "2022-03-15T07:39:20.014Z"
   },
   {
    "duration": 750,
    "start_time": "2022-03-15T07:39:20.405Z"
   },
   {
    "duration": 868,
    "start_time": "2022-03-15T07:39:21.157Z"
   },
   {
    "duration": 6,
    "start_time": "2022-03-15T07:39:22.027Z"
   },
   {
    "duration": 14,
    "start_time": "2022-03-15T07:39:50.031Z"
   },
   {
    "duration": 22,
    "start_time": "2022-03-15T07:39:54.688Z"
   },
   {
    "duration": 18,
    "start_time": "2022-03-15T07:40:53.609Z"
   },
   {
    "duration": 5,
    "start_time": "2022-03-15T07:40:55.529Z"
   },
   {
    "duration": 5,
    "start_time": "2022-03-15T07:40:56.814Z"
   },
   {
    "duration": 5,
    "start_time": "2022-03-15T07:41:00.386Z"
   },
   {
    "duration": 3,
    "start_time": "2022-03-15T07:41:17.406Z"
   },
   {
    "duration": 3,
    "start_time": "2022-03-15T07:41:19.619Z"
   },
   {
    "duration": 279,
    "start_time": "2022-03-15T07:41:20.025Z"
   },
   {
    "duration": 166,
    "start_time": "2022-03-15T07:41:20.504Z"
   },
   {
    "duration": 3,
    "start_time": "2022-03-15T07:41:27.039Z"
   },
   {
    "duration": 170,
    "start_time": "2022-03-15T07:41:28.214Z"
   },
   {
    "duration": 169,
    "start_time": "2022-03-15T07:41:29.528Z"
   },
   {
    "duration": 168,
    "start_time": "2022-03-15T07:41:29.775Z"
   },
   {
    "duration": 174,
    "start_time": "2022-03-15T07:41:29.979Z"
   },
   {
    "duration": 164,
    "start_time": "2022-03-15T07:41:30.230Z"
   },
   {
    "duration": 8,
    "start_time": "2022-03-15T07:41:30.469Z"
   },
   {
    "duration": 1049,
    "start_time": "2022-03-15T07:42:24.990Z"
   },
   {
    "duration": 10,
    "start_time": "2022-03-15T07:42:26.042Z"
   },
   {
    "duration": 5,
    "start_time": "2022-03-15T07:42:26.056Z"
   },
   {
    "duration": 1275,
    "start_time": "2022-03-15T07:42:26.063Z"
   },
   {
    "duration": 4,
    "start_time": "2022-03-15T07:42:27.340Z"
   },
   {
    "duration": 53,
    "start_time": "2022-03-15T07:42:27.346Z"
   },
   {
    "duration": 60,
    "start_time": "2022-03-15T07:42:27.401Z"
   },
   {
    "duration": 594,
    "start_time": "2022-03-15T07:42:27.463Z"
   },
   {
    "duration": 41333,
    "start_time": "2022-03-15T07:42:28.059Z"
   },
   {
    "duration": 184,
    "start_time": "2022-03-15T07:43:09.393Z"
   },
   {
    "duration": 4,
    "start_time": "2022-03-15T07:43:09.578Z"
   },
   {
    "duration": 12,
    "start_time": "2022-03-15T07:43:09.583Z"
   },
   {
    "duration": 4,
    "start_time": "2022-03-15T07:43:09.597Z"
   },
   {
    "duration": 6,
    "start_time": "2022-03-15T07:43:09.602Z"
   },
   {
    "duration": 74,
    "start_time": "2022-03-15T07:43:09.609Z"
   },
   {
    "duration": 50,
    "start_time": "2022-03-15T07:43:09.684Z"
   },
   {
    "duration": 9,
    "start_time": "2022-03-15T07:43:09.735Z"
   },
   {
    "duration": 11,
    "start_time": "2022-03-15T07:43:09.745Z"
   },
   {
    "duration": 21,
    "start_time": "2022-03-15T07:43:09.757Z"
   },
   {
    "duration": 4,
    "start_time": "2022-03-15T07:43:09.780Z"
   },
   {
    "duration": 11,
    "start_time": "2022-03-15T07:43:09.786Z"
   },
   {
    "duration": 35,
    "start_time": "2022-03-15T07:43:09.799Z"
   },
   {
    "duration": 10,
    "start_time": "2022-03-15T07:43:09.835Z"
   },
   {
    "duration": 12,
    "start_time": "2022-03-15T07:43:09.847Z"
   },
   {
    "duration": 8,
    "start_time": "2022-03-15T07:43:09.861Z"
   },
   {
    "duration": 1650,
    "start_time": "2022-03-15T07:43:09.873Z"
   },
   {
    "duration": 382,
    "start_time": "2022-03-15T07:43:11.525Z"
   },
   {
    "duration": 717,
    "start_time": "2022-03-15T07:43:11.909Z"
   },
   {
    "duration": 845,
    "start_time": "2022-03-15T07:43:12.628Z"
   },
   {
    "duration": 3,
    "start_time": "2022-03-15T07:43:13.475Z"
   },
   {
    "duration": 20,
    "start_time": "2022-03-15T07:43:13.479Z"
   },
   {
    "duration": 33,
    "start_time": "2022-03-15T07:43:13.500Z"
   },
   {
    "duration": 4,
    "start_time": "2022-03-15T07:43:13.535Z"
   },
   {
    "duration": 5,
    "start_time": "2022-03-15T07:43:13.540Z"
   },
   {
    "duration": 13,
    "start_time": "2022-03-15T07:43:13.547Z"
   },
   {
    "duration": 6,
    "start_time": "2022-03-15T07:43:13.561Z"
   },
   {
    "duration": 5,
    "start_time": "2022-03-15T07:43:13.568Z"
   },
   {
    "duration": 283,
    "start_time": "2022-03-15T07:43:13.575Z"
   },
   {
    "duration": -153991,
    "start_time": "2022-03-15T07:45:47.851Z"
   },
   {
    "duration": -153991,
    "start_time": "2022-03-15T07:45:47.852Z"
   },
   {
    "duration": -153993,
    "start_time": "2022-03-15T07:45:47.854Z"
   },
   {
    "duration": -153993,
    "start_time": "2022-03-15T07:45:47.855Z"
   },
   {
    "duration": -153994,
    "start_time": "2022-03-15T07:45:47.857Z"
   },
   {
    "duration": -153994,
    "start_time": "2022-03-15T07:45:47.858Z"
   },
   {
    "duration": -153995,
    "start_time": "2022-03-15T07:45:47.860Z"
   },
   {
    "duration": -153995,
    "start_time": "2022-03-15T07:45:47.861Z"
   },
   {
    "duration": 189,
    "start_time": "2022-03-15T07:45:04.322Z"
   },
   {
    "duration": 3,
    "start_time": "2022-03-15T07:45:04.746Z"
   },
   {
    "duration": 181,
    "start_time": "2022-03-15T07:45:05.100Z"
   },
   {
    "duration": 173,
    "start_time": "2022-03-15T07:45:05.289Z"
   },
   {
    "duration": 186,
    "start_time": "2022-03-15T07:45:05.466Z"
   },
   {
    "duration": -153974,
    "start_time": "2022-03-15T07:47:39.628Z"
   },
   {
    "duration": 185,
    "start_time": "2022-03-15T07:45:05.833Z"
   },
   {
    "duration": 9,
    "start_time": "2022-03-15T07:45:06.028Z"
   },
   {
    "duration": 1060,
    "start_time": "2022-03-15T07:47:28.384Z"
   },
   {
    "duration": 10,
    "start_time": "2022-03-15T07:47:29.446Z"
   },
   {
    "duration": 6,
    "start_time": "2022-03-15T07:47:29.460Z"
   },
   {
    "duration": 2815,
    "start_time": "2022-03-15T07:47:29.468Z"
   },
   {
    "duration": 4,
    "start_time": "2022-03-15T07:47:32.285Z"
   },
   {
    "duration": 59,
    "start_time": "2022-03-15T07:47:32.290Z"
   },
   {
    "duration": 38,
    "start_time": "2022-03-15T07:47:32.352Z"
   },
   {
    "duration": 612,
    "start_time": "2022-03-15T07:47:32.392Z"
   },
   {
    "duration": 41447,
    "start_time": "2022-03-15T07:47:33.005Z"
   },
   {
    "duration": 174,
    "start_time": "2022-03-15T07:48:14.454Z"
   },
   {
    "duration": 3,
    "start_time": "2022-03-15T07:48:14.630Z"
   },
   {
    "duration": 12,
    "start_time": "2022-03-15T07:48:14.635Z"
   },
   {
    "duration": 4,
    "start_time": "2022-03-15T07:48:14.649Z"
   },
   {
    "duration": 8,
    "start_time": "2022-03-15T07:48:14.655Z"
   },
   {
    "duration": 74,
    "start_time": "2022-03-15T07:48:14.665Z"
   },
   {
    "duration": 40,
    "start_time": "2022-03-15T07:48:14.741Z"
   },
   {
    "duration": 8,
    "start_time": "2022-03-15T07:48:14.782Z"
   },
   {
    "duration": 7,
    "start_time": "2022-03-15T07:48:14.792Z"
   },
   {
    "duration": 48,
    "start_time": "2022-03-15T07:48:14.800Z"
   },
   {
    "duration": 4,
    "start_time": "2022-03-15T07:48:14.850Z"
   },
   {
    "duration": 10,
    "start_time": "2022-03-15T07:48:14.855Z"
   },
   {
    "duration": 6,
    "start_time": "2022-03-15T07:48:14.868Z"
   },
   {
    "duration": 12,
    "start_time": "2022-03-15T07:48:14.876Z"
   },
   {
    "duration": 13,
    "start_time": "2022-03-15T07:48:14.889Z"
   },
   {
    "duration": 34,
    "start_time": "2022-03-15T07:48:14.903Z"
   },
   {
    "duration": 1601,
    "start_time": "2022-03-15T07:48:14.939Z"
   },
   {
    "duration": 388,
    "start_time": "2022-03-15T07:48:16.542Z"
   },
   {
    "duration": 714,
    "start_time": "2022-03-15T07:48:16.933Z"
   },
   {
    "duration": 860,
    "start_time": "2022-03-15T07:48:17.648Z"
   },
   {
    "duration": 3,
    "start_time": "2022-03-15T07:48:18.510Z"
   },
   {
    "duration": 43,
    "start_time": "2022-03-15T07:48:18.514Z"
   },
   {
    "duration": 4,
    "start_time": "2022-03-15T07:48:18.558Z"
   },
   {
    "duration": 7,
    "start_time": "2022-03-15T07:48:18.564Z"
   },
   {
    "duration": 10,
    "start_time": "2022-03-15T07:48:18.573Z"
   },
   {
    "duration": 4,
    "start_time": "2022-03-15T07:48:18.585Z"
   },
   {
    "duration": 6,
    "start_time": "2022-03-15T07:48:18.590Z"
   },
   {
    "duration": 294,
    "start_time": "2022-03-15T07:48:18.598Z"
   },
   {
    "duration": -153991,
    "start_time": "2022-03-15T07:50:52.885Z"
   },
   {
    "duration": -153992,
    "start_time": "2022-03-15T07:50:52.887Z"
   },
   {
    "duration": -153993,
    "start_time": "2022-03-15T07:50:52.889Z"
   },
   {
    "duration": -153994,
    "start_time": "2022-03-15T07:50:52.891Z"
   },
   {
    "duration": -153995,
    "start_time": "2022-03-15T07:50:52.893Z"
   },
   {
    "duration": -153996,
    "start_time": "2022-03-15T07:50:52.894Z"
   },
   {
    "duration": -153997,
    "start_time": "2022-03-15T07:50:52.896Z"
   },
   {
    "duration": -153998,
    "start_time": "2022-03-15T07:50:52.898Z"
   },
   {
    "duration": 1093,
    "start_time": "2022-03-15T07:50:23.644Z"
   },
   {
    "duration": 10,
    "start_time": "2022-03-15T07:50:24.739Z"
   },
   {
    "duration": 11,
    "start_time": "2022-03-15T07:50:24.754Z"
   },
   {
    "duration": 6403,
    "start_time": "2022-03-15T07:50:24.767Z"
   },
   {
    "duration": 3,
    "start_time": "2022-03-15T07:50:31.172Z"
   },
   {
    "duration": 66,
    "start_time": "2022-03-15T07:50:31.177Z"
   },
   {
    "duration": 39,
    "start_time": "2022-03-15T07:50:31.245Z"
   },
   {
    "duration": 600,
    "start_time": "2022-03-15T07:50:31.286Z"
   },
   {
    "duration": 41130,
    "start_time": "2022-03-15T07:50:31.888Z"
   },
   {
    "duration": 187,
    "start_time": "2022-03-15T07:51:13.019Z"
   },
   {
    "duration": 4,
    "start_time": "2022-03-15T07:51:13.208Z"
   },
   {
    "duration": 22,
    "start_time": "2022-03-15T07:51:13.213Z"
   },
   {
    "duration": 5,
    "start_time": "2022-03-15T07:51:13.236Z"
   },
   {
    "duration": 7,
    "start_time": "2022-03-15T07:51:13.242Z"
   },
   {
    "duration": 56,
    "start_time": "2022-03-15T07:51:13.250Z"
   },
   {
    "duration": 60,
    "start_time": "2022-03-15T07:51:13.308Z"
   },
   {
    "duration": 7,
    "start_time": "2022-03-15T07:51:13.371Z"
   },
   {
    "duration": 7,
    "start_time": "2022-03-15T07:51:13.379Z"
   },
   {
    "duration": 14,
    "start_time": "2022-03-15T07:51:13.388Z"
   },
   {
    "duration": 31,
    "start_time": "2022-03-15T07:51:13.404Z"
   },
   {
    "duration": 13,
    "start_time": "2022-03-15T07:51:13.436Z"
   },
   {
    "duration": 7,
    "start_time": "2022-03-15T07:51:13.453Z"
   },
   {
    "duration": 11,
    "start_time": "2022-03-15T07:51:13.462Z"
   },
   {
    "duration": 13,
    "start_time": "2022-03-15T07:51:13.474Z"
   },
   {
    "duration": 9,
    "start_time": "2022-03-15T07:51:13.488Z"
   },
   {
    "duration": 1602,
    "start_time": "2022-03-15T07:51:13.533Z"
   },
   {
    "duration": 390,
    "start_time": "2022-03-15T07:51:15.137Z"
   },
   {
    "duration": 727,
    "start_time": "2022-03-15T07:51:15.532Z"
   },
   {
    "duration": 862,
    "start_time": "2022-03-15T07:51:16.261Z"
   },
   {
    "duration": 3,
    "start_time": "2022-03-15T07:51:17.132Z"
   },
   {
    "duration": 31,
    "start_time": "2022-03-15T07:51:17.137Z"
   },
   {
    "duration": 4,
    "start_time": "2022-03-15T07:51:17.170Z"
   },
   {
    "duration": 6,
    "start_time": "2022-03-15T07:51:17.175Z"
   },
   {
    "duration": 8,
    "start_time": "2022-03-15T07:51:17.183Z"
   },
   {
    "duration": 6,
    "start_time": "2022-03-15T07:51:17.192Z"
   },
   {
    "duration": 270,
    "start_time": "2022-03-15T07:51:17.199Z"
   },
   {
    "duration": -153985,
    "start_time": "2022-03-15T07:53:51.455Z"
   },
   {
    "duration": -153986,
    "start_time": "2022-03-15T07:53:51.457Z"
   },
   {
    "duration": -153986,
    "start_time": "2022-03-15T07:53:51.459Z"
   },
   {
    "duration": -153987,
    "start_time": "2022-03-15T07:53:51.461Z"
   },
   {
    "duration": -153988,
    "start_time": "2022-03-15T07:53:51.463Z"
   },
   {
    "duration": -153989,
    "start_time": "2022-03-15T07:53:51.464Z"
   },
   {
    "duration": -153990,
    "start_time": "2022-03-15T07:53:51.466Z"
   },
   {
    "duration": -153990,
    "start_time": "2022-03-15T07:53:51.467Z"
   },
   {
    "duration": 184,
    "start_time": "2022-03-15T07:52:21.939Z"
   },
   {
    "duration": 3,
    "start_time": "2022-03-15T07:52:22.368Z"
   },
   {
    "duration": 183,
    "start_time": "2022-03-15T07:52:22.562Z"
   },
   {
    "duration": 189,
    "start_time": "2022-03-15T07:52:22.760Z"
   },
   {
    "duration": 192,
    "start_time": "2022-03-15T07:52:22.955Z"
   },
   {
    "duration": 169,
    "start_time": "2022-03-15T07:52:23.152Z"
   },
   {
    "duration": 162,
    "start_time": "2022-03-15T07:52:23.360Z"
   },
   {
    "duration": 8,
    "start_time": "2022-03-15T07:52:23.574Z"
   },
   {
    "duration": 1236,
    "start_time": "2022-03-16T08:02:20.111Z"
   },
   {
    "duration": 11,
    "start_time": "2022-03-16T08:02:21.349Z"
   },
   {
    "duration": 7,
    "start_time": "2022-03-16T08:02:21.365Z"
   },
   {
    "duration": 3715,
    "start_time": "2022-03-16T08:02:21.374Z"
   },
   {
    "duration": 4,
    "start_time": "2022-03-16T08:02:25.091Z"
   },
   {
    "duration": 69,
    "start_time": "2022-03-16T08:02:25.097Z"
   },
   {
    "duration": 60,
    "start_time": "2022-03-16T08:02:25.169Z"
   },
   {
    "duration": 640,
    "start_time": "2022-03-16T08:02:25.231Z"
   },
   {
    "duration": 46544,
    "start_time": "2022-03-16T08:02:25.873Z"
   },
   {
    "duration": 177,
    "start_time": "2022-03-16T08:03:12.418Z"
   },
   {
    "duration": 4,
    "start_time": "2022-03-16T08:03:12.597Z"
   },
   {
    "duration": 16,
    "start_time": "2022-03-16T08:03:12.603Z"
   },
   {
    "duration": 4,
    "start_time": "2022-03-16T08:03:12.620Z"
   },
   {
    "duration": 4,
    "start_time": "2022-03-16T08:03:12.626Z"
   },
   {
    "duration": 73,
    "start_time": "2022-03-16T08:03:12.632Z"
   },
   {
    "duration": 43,
    "start_time": "2022-03-16T08:03:12.707Z"
   },
   {
    "duration": 6,
    "start_time": "2022-03-16T08:03:12.751Z"
   },
   {
    "duration": 8,
    "start_time": "2022-03-16T08:03:12.758Z"
   },
   {
    "duration": 48,
    "start_time": "2022-03-16T08:03:12.767Z"
   },
   {
    "duration": 3,
    "start_time": "2022-03-16T08:03:12.817Z"
   },
   {
    "duration": 14,
    "start_time": "2022-03-16T08:03:12.821Z"
   },
   {
    "duration": 5,
    "start_time": "2022-03-16T08:03:12.838Z"
   },
   {
    "duration": 9,
    "start_time": "2022-03-16T08:03:12.845Z"
   },
   {
    "duration": 11,
    "start_time": "2022-03-16T08:03:12.855Z"
   },
   {
    "duration": 47,
    "start_time": "2022-03-16T08:03:12.867Z"
   },
   {
    "duration": 1600,
    "start_time": "2022-03-16T08:03:12.916Z"
   },
   {
    "duration": 390,
    "start_time": "2022-03-16T08:03:14.518Z"
   },
   {
    "duration": 742,
    "start_time": "2022-03-16T08:03:14.910Z"
   },
   {
    "duration": 880,
    "start_time": "2022-03-16T08:03:15.654Z"
   },
   {
    "duration": 3,
    "start_time": "2022-03-16T08:03:16.536Z"
   },
   {
    "duration": 28,
    "start_time": "2022-03-16T08:03:16.541Z"
   },
   {
    "duration": 5,
    "start_time": "2022-03-16T08:03:16.570Z"
   },
   {
    "duration": 28,
    "start_time": "2022-03-16T08:03:16.577Z"
   },
   {
    "duration": 5,
    "start_time": "2022-03-16T08:03:16.611Z"
   },
   {
    "duration": 5,
    "start_time": "2022-03-16T08:03:16.617Z"
   },
   {
    "duration": 492,
    "start_time": "2022-03-16T08:03:16.624Z"
   },
   {
    "duration": -156310,
    "start_time": "2022-03-16T08:05:53.428Z"
   },
   {
    "duration": -156312,
    "start_time": "2022-03-16T08:05:53.430Z"
   },
   {
    "duration": -156313,
    "start_time": "2022-03-16T08:05:53.432Z"
   },
   {
    "duration": -156313,
    "start_time": "2022-03-16T08:05:53.433Z"
   },
   {
    "duration": -156314,
    "start_time": "2022-03-16T08:05:53.435Z"
   },
   {
    "duration": -156315,
    "start_time": "2022-03-16T08:05:53.437Z"
   },
   {
    "duration": -156315,
    "start_time": "2022-03-16T08:05:53.438Z"
   },
   {
    "duration": -156317,
    "start_time": "2022-03-16T08:05:53.440Z"
   },
   {
    "duration": 1130,
    "start_time": "2022-03-16T08:05:14.459Z"
   },
   {
    "duration": 10,
    "start_time": "2022-03-16T08:05:15.916Z"
   },
   {
    "duration": 3,
    "start_time": "2022-03-16T08:05:16.597Z"
   },
   {
    "duration": 2504,
    "start_time": "2022-03-16T08:05:16.817Z"
   },
   {
    "duration": 4,
    "start_time": "2022-03-16T08:05:19.323Z"
   },
   {
    "duration": 49,
    "start_time": "2022-03-16T08:05:19.329Z"
   },
   {
    "duration": 49,
    "start_time": "2022-03-16T08:05:19.379Z"
   },
   {
    "duration": 619,
    "start_time": "2022-03-16T08:05:19.430Z"
   },
   {
    "duration": 43988,
    "start_time": "2022-03-16T08:05:20.051Z"
   },
   {
    "duration": 200,
    "start_time": "2022-03-16T08:06:04.041Z"
   },
   {
    "duration": 3,
    "start_time": "2022-03-16T08:06:04.244Z"
   },
   {
    "duration": 16,
    "start_time": "2022-03-16T08:06:04.249Z"
   },
   {
    "duration": 4,
    "start_time": "2022-03-16T08:06:04.267Z"
   },
   {
    "duration": 7,
    "start_time": "2022-03-16T08:06:04.273Z"
   },
   {
    "duration": 62,
    "start_time": "2022-03-16T08:06:04.304Z"
   },
   {
    "duration": 68,
    "start_time": "2022-03-16T08:06:04.368Z"
   },
   {
    "duration": 7,
    "start_time": "2022-03-16T08:06:04.438Z"
   },
   {
    "duration": 11,
    "start_time": "2022-03-16T08:06:04.447Z"
   },
   {
    "duration": 14,
    "start_time": "2022-03-16T08:06:04.459Z"
   },
   {
    "duration": 28,
    "start_time": "2022-03-16T08:06:04.475Z"
   },
   {
    "duration": 13,
    "start_time": "2022-03-16T08:06:04.506Z"
   },
   {
    "duration": 7,
    "start_time": "2022-03-16T08:06:04.521Z"
   },
   {
    "duration": 9,
    "start_time": "2022-03-16T08:06:04.530Z"
   },
   {
    "duration": 11,
    "start_time": "2022-03-16T08:06:04.540Z"
   },
   {
    "duration": 8,
    "start_time": "2022-03-16T08:06:04.553Z"
   },
   {
    "duration": 1722,
    "start_time": "2022-03-16T08:06:04.602Z"
   },
   {
    "duration": 401,
    "start_time": "2022-03-16T08:06:06.325Z"
   },
   {
    "duration": 748,
    "start_time": "2022-03-16T08:06:06.728Z"
   },
   {
    "duration": 869,
    "start_time": "2022-03-16T08:06:07.477Z"
   },
   {
    "duration": 3,
    "start_time": "2022-03-16T08:06:08.348Z"
   },
   {
    "duration": 10,
    "start_time": "2022-03-16T08:08:22.388Z"
   },
   {
    "duration": 5,
    "start_time": "2022-03-16T08:14:24.850Z"
   },
   {
    "duration": 5,
    "start_time": "2022-03-16T08:15:58.362Z"
   },
   {
    "duration": 1228,
    "start_time": "2022-03-16T08:17:01.209Z"
   },
   {
    "duration": 10,
    "start_time": "2022-03-16T08:17:02.439Z"
   },
   {
    "duration": 6,
    "start_time": "2022-03-16T08:17:02.451Z"
   },
   {
    "duration": 2897,
    "start_time": "2022-03-16T08:17:02.458Z"
   },
   {
    "duration": 4,
    "start_time": "2022-03-16T08:17:05.357Z"
   },
   {
    "duration": 58,
    "start_time": "2022-03-16T08:17:05.363Z"
   },
   {
    "duration": 35,
    "start_time": "2022-03-16T08:17:05.423Z"
   },
   {
    "duration": 736,
    "start_time": "2022-03-16T08:17:05.460Z"
   },
   {
    "duration": 46958,
    "start_time": "2022-03-16T08:17:06.202Z"
   },
   {
    "duration": 256,
    "start_time": "2022-03-16T08:17:53.162Z"
   },
   {
    "duration": 3,
    "start_time": "2022-03-16T08:17:53.420Z"
   },
   {
    "duration": 128,
    "start_time": "2022-03-16T08:17:53.425Z"
   },
   {
    "duration": 5,
    "start_time": "2022-03-16T08:17:53.555Z"
   },
   {
    "duration": 5,
    "start_time": "2022-03-16T08:17:53.562Z"
   },
   {
    "duration": 72,
    "start_time": "2022-03-16T08:17:53.569Z"
   },
   {
    "duration": 61,
    "start_time": "2022-03-16T08:17:53.643Z"
   },
   {
    "duration": 8,
    "start_time": "2022-03-16T08:17:53.706Z"
   },
   {
    "duration": 9,
    "start_time": "2022-03-16T08:17:53.715Z"
   },
   {
    "duration": 14,
    "start_time": "2022-03-16T08:17:53.726Z"
   },
   {
    "duration": 4,
    "start_time": "2022-03-16T08:17:53.742Z"
   },
   {
    "duration": 11,
    "start_time": "2022-03-16T08:17:53.748Z"
   },
   {
    "duration": 48,
    "start_time": "2022-03-16T08:17:53.760Z"
   },
   {
    "duration": 13,
    "start_time": "2022-03-16T08:17:53.812Z"
   },
   {
    "duration": 18,
    "start_time": "2022-03-16T08:17:53.827Z"
   },
   {
    "duration": 10,
    "start_time": "2022-03-16T08:17:53.846Z"
   },
   {
    "duration": 1912,
    "start_time": "2022-03-16T08:17:53.857Z"
   },
   {
    "duration": 413,
    "start_time": "2022-03-16T08:17:55.770Z"
   },
   {
    "duration": 816,
    "start_time": "2022-03-16T08:17:56.185Z"
   },
   {
    "duration": 917,
    "start_time": "2022-03-16T08:17:57.003Z"
   },
   {
    "duration": 3,
    "start_time": "2022-03-16T08:17:57.922Z"
   },
   {
    "duration": 12,
    "start_time": "2022-03-16T08:17:57.927Z"
   },
   {
    "duration": 8,
    "start_time": "2022-03-16T08:17:57.941Z"
   },
   {
    "duration": 18,
    "start_time": "2022-03-16T08:17:57.951Z"
   },
   {
    "duration": 30,
    "start_time": "2022-03-16T08:17:57.970Z"
   },
   {
    "duration": 9,
    "start_time": "2022-03-16T08:17:58.004Z"
   },
   {
    "duration": 6,
    "start_time": "2022-03-16T08:17:58.015Z"
   },
   {
    "duration": 7,
    "start_time": "2022-03-16T08:17:58.023Z"
   },
   {
    "duration": 501,
    "start_time": "2022-03-16T08:17:58.032Z"
   },
   {
    "duration": -156282,
    "start_time": "2022-03-16T08:20:34.817Z"
   },
   {
    "duration": -156282,
    "start_time": "2022-03-16T08:20:34.819Z"
   },
   {
    "duration": -156287,
    "start_time": "2022-03-16T08:20:34.825Z"
   },
   {
    "duration": -156288,
    "start_time": "2022-03-16T08:20:34.827Z"
   },
   {
    "duration": -156289,
    "start_time": "2022-03-16T08:20:34.829Z"
   },
   {
    "duration": -156290,
    "start_time": "2022-03-16T08:20:34.831Z"
   },
   {
    "duration": -156289,
    "start_time": "2022-03-16T08:20:34.832Z"
   },
   {
    "duration": -156290,
    "start_time": "2022-03-16T08:20:34.834Z"
   },
   {
    "duration": 1259,
    "start_time": "2022-03-16T08:21:45.047Z"
   },
   {
    "duration": 10,
    "start_time": "2022-03-16T08:21:47.437Z"
   },
   {
    "duration": 6,
    "start_time": "2022-03-16T08:21:47.449Z"
   },
   {
    "duration": 2509,
    "start_time": "2022-03-16T08:21:47.580Z"
   },
   {
    "duration": 3,
    "start_time": "2022-03-16T08:21:50.091Z"
   },
   {
    "duration": 60,
    "start_time": "2022-03-16T08:21:50.097Z"
   },
   {
    "duration": 63,
    "start_time": "2022-03-16T08:21:50.159Z"
   },
   {
    "duration": 680,
    "start_time": "2022-03-16T08:21:50.223Z"
   },
   {
    "duration": 45440,
    "start_time": "2022-03-16T08:21:50.905Z"
   },
   {
    "duration": 274,
    "start_time": "2022-03-16T08:22:36.347Z"
   },
   {
    "duration": 3,
    "start_time": "2022-03-16T08:22:36.623Z"
   },
   {
    "duration": 15,
    "start_time": "2022-03-16T08:22:36.628Z"
   },
   {
    "duration": 4,
    "start_time": "2022-03-16T08:22:36.644Z"
   },
   {
    "duration": 6,
    "start_time": "2022-03-16T08:22:36.650Z"
   },
   {
    "duration": 96,
    "start_time": "2022-03-16T08:22:36.658Z"
   },
   {
    "duration": 97,
    "start_time": "2022-03-16T08:22:36.755Z"
   },
   {
    "duration": 52,
    "start_time": "2022-03-16T08:22:36.854Z"
   },
   {
    "duration": 18,
    "start_time": "2022-03-16T08:22:36.908Z"
   },
   {
    "duration": 11,
    "start_time": "2022-03-16T08:22:36.928Z"
   },
   {
    "duration": 4,
    "start_time": "2022-03-16T08:22:36.941Z"
   },
   {
    "duration": 10,
    "start_time": "2022-03-16T08:22:36.946Z"
   },
   {
    "duration": 5,
    "start_time": "2022-03-16T08:22:36.958Z"
   },
   {
    "duration": 10,
    "start_time": "2022-03-16T08:22:36.965Z"
   },
   {
    "duration": 12,
    "start_time": "2022-03-16T08:24:47.244Z"
   },
   {
    "duration": 10,
    "start_time": "2022-03-16T08:24:47.485Z"
   },
   {
    "duration": 1629,
    "start_time": "2022-03-16T08:24:53.647Z"
   },
   {
    "duration": 384,
    "start_time": "2022-03-16T08:24:57.362Z"
   },
   {
    "duration": 729,
    "start_time": "2022-03-16T08:25:02.594Z"
   },
   {
    "duration": 873,
    "start_time": "2022-03-16T08:25:06.220Z"
   },
   {
    "duration": 3,
    "start_time": "2022-03-16T08:25:09.075Z"
   },
   {
    "duration": 316,
    "start_time": "2022-03-16T08:28:01.141Z"
   },
   {
    "duration": 1253,
    "start_time": "2022-03-16T08:41:00.510Z"
   },
   {
    "duration": 11,
    "start_time": "2022-03-16T08:41:02.862Z"
   },
   {
    "duration": 3,
    "start_time": "2022-03-16T08:41:03.275Z"
   },
   {
    "duration": 2760,
    "start_time": "2022-03-16T08:41:03.458Z"
   },
   {
    "duration": 5,
    "start_time": "2022-03-16T08:41:06.221Z"
   },
   {
    "duration": 55,
    "start_time": "2022-03-16T08:41:06.228Z"
   },
   {
    "duration": 50,
    "start_time": "2022-03-16T08:41:06.284Z"
   },
   {
    "duration": 653,
    "start_time": "2022-03-16T08:41:06.335Z"
   },
   {
    "duration": 45614,
    "start_time": "2022-03-16T08:41:06.989Z"
   },
   {
    "duration": 194,
    "start_time": "2022-03-16T08:41:52.605Z"
   },
   {
    "duration": 5,
    "start_time": "2022-03-16T08:41:52.803Z"
   },
   {
    "duration": 14,
    "start_time": "2022-03-16T08:41:52.810Z"
   },
   {
    "duration": 4,
    "start_time": "2022-03-16T08:41:52.826Z"
   },
   {
    "duration": 4,
    "start_time": "2022-03-16T08:41:52.831Z"
   },
   {
    "duration": 83,
    "start_time": "2022-03-16T08:41:52.836Z"
   },
   {
    "duration": 36,
    "start_time": "2022-03-16T08:41:52.920Z"
   },
   {
    "duration": 6,
    "start_time": "2022-03-16T08:41:52.957Z"
   },
   {
    "duration": 6,
    "start_time": "2022-03-16T08:41:52.965Z"
   },
   {
    "duration": 41,
    "start_time": "2022-03-16T08:41:52.972Z"
   },
   {
    "duration": 4,
    "start_time": "2022-03-16T08:41:53.021Z"
   },
   {
    "duration": 10,
    "start_time": "2022-03-16T08:41:53.026Z"
   },
   {
    "duration": 5,
    "start_time": "2022-03-16T08:41:53.038Z"
   },
   {
    "duration": 9,
    "start_time": "2022-03-16T08:41:53.045Z"
   },
   {
    "duration": 11,
    "start_time": "2022-03-16T08:41:53.055Z"
   },
   {
    "duration": 35,
    "start_time": "2022-03-16T08:41:53.068Z"
   },
   {
    "duration": 1644,
    "start_time": "2022-03-16T08:41:53.108Z"
   },
   {
    "duration": 389,
    "start_time": "2022-03-16T08:41:54.753Z"
   },
   {
    "duration": 739,
    "start_time": "2022-03-16T08:41:55.144Z"
   },
   {
    "duration": 895,
    "start_time": "2022-03-16T08:41:55.885Z"
   },
   {
    "duration": 2,
    "start_time": "2022-03-16T08:41:56.782Z"
   },
   {
    "duration": 33,
    "start_time": "2022-03-16T08:42:00.832Z"
   },
   {
    "duration": 5,
    "start_time": "2022-03-16T08:42:06.854Z"
   },
   {
    "duration": 101,
    "start_time": "2022-03-16T08:42:10.542Z"
   },
   {
    "duration": 5,
    "start_time": "2022-03-16T08:42:17.058Z"
   },
   {
    "duration": 5,
    "start_time": "2022-03-16T08:42:23.164Z"
   },
   {
    "duration": 8,
    "start_time": "2022-03-16T08:42:28.908Z"
   },
   {
    "duration": 7,
    "start_time": "2022-03-16T08:42:35.804Z"
   },
   {
    "duration": 3,
    "start_time": "2022-03-16T08:42:39.316Z"
   },
   {
    "duration": 467,
    "start_time": "2022-03-16T08:42:43.958Z"
   },
   {
    "duration": 1339,
    "start_time": "2022-03-16T08:45:48.785Z"
   },
   {
    "duration": 9,
    "start_time": "2022-03-16T08:45:50.126Z"
   },
   {
    "duration": 7,
    "start_time": "2022-03-16T08:45:50.137Z"
   },
   {
    "duration": 3321,
    "start_time": "2022-03-16T08:45:50.145Z"
   },
   {
    "duration": 4,
    "start_time": "2022-03-16T08:45:53.468Z"
   },
   {
    "duration": 67,
    "start_time": "2022-03-16T08:45:53.474Z"
   },
   {
    "duration": 60,
    "start_time": "2022-03-16T08:45:53.543Z"
   },
   {
    "duration": 644,
    "start_time": "2022-03-16T08:45:53.607Z"
   },
   {
    "duration": 59057,
    "start_time": "2022-03-16T08:45:54.254Z"
   },
   {
    "duration": 178,
    "start_time": "2022-03-16T08:46:53.313Z"
   },
   {
    "duration": 9,
    "start_time": "2022-03-16T08:46:53.493Z"
   },
   {
    "duration": 15,
    "start_time": "2022-03-16T08:46:53.504Z"
   },
   {
    "duration": 5,
    "start_time": "2022-03-16T08:46:53.521Z"
   },
   {
    "duration": 5,
    "start_time": "2022-03-16T08:46:53.528Z"
   },
   {
    "duration": 76,
    "start_time": "2022-03-16T08:46:53.534Z"
   },
   {
    "duration": 47,
    "start_time": "2022-03-16T08:46:53.612Z"
   },
   {
    "duration": 7,
    "start_time": "2022-03-16T08:46:53.661Z"
   },
   {
    "duration": 31,
    "start_time": "2022-03-16T08:46:53.670Z"
   },
   {
    "duration": 17,
    "start_time": "2022-03-16T08:46:53.704Z"
   },
   {
    "duration": 3,
    "start_time": "2022-03-16T08:46:53.723Z"
   },
   {
    "duration": 10,
    "start_time": "2022-03-16T08:46:53.728Z"
   },
   {
    "duration": 6,
    "start_time": "2022-03-16T08:46:53.740Z"
   },
   {
    "duration": 10,
    "start_time": "2022-03-16T08:46:53.749Z"
   },
   {
    "duration": 53,
    "start_time": "2022-03-16T08:46:53.760Z"
   },
   {
    "duration": 11,
    "start_time": "2022-03-16T08:46:53.815Z"
   },
   {
    "duration": 1781,
    "start_time": "2022-03-16T08:46:53.828Z"
   },
   {
    "duration": 603,
    "start_time": "2022-03-16T08:46:55.612Z"
   },
   {
    "duration": 1117,
    "start_time": "2022-03-16T08:46:56.217Z"
   },
   {
    "duration": 1291,
    "start_time": "2022-03-16T08:46:57.336Z"
   },
   {
    "duration": 3,
    "start_time": "2022-03-16T08:46:58.629Z"
   },
   {
    "duration": 40,
    "start_time": "2022-03-16T08:46:58.634Z"
   },
   {
    "duration": 4,
    "start_time": "2022-03-16T08:46:58.675Z"
   },
   {
    "duration": 26,
    "start_time": "2022-03-16T08:46:58.680Z"
   },
   {
    "duration": 10,
    "start_time": "2022-03-16T08:46:58.708Z"
   },
   {
    "duration": 7,
    "start_time": "2022-03-16T08:46:58.720Z"
   },
   {
    "duration": 7,
    "start_time": "2022-03-16T08:46:58.729Z"
   },
   {
    "duration": 3,
    "start_time": "2022-03-16T08:46:58.738Z"
   },
   {
    "duration": 4,
    "start_time": "2022-03-16T08:46:58.742Z"
   },
   {
    "duration": 444,
    "start_time": "2022-03-16T08:46:58.748Z"
   },
   {
    "duration": -156255,
    "start_time": "2022-03-16T08:49:35.449Z"
   },
   {
    "duration": -156256,
    "start_time": "2022-03-16T08:49:35.451Z"
   },
   {
    "duration": -156264,
    "start_time": "2022-03-16T08:49:35.459Z"
   },
   {
    "duration": -156265,
    "start_time": "2022-03-16T08:49:35.461Z"
   },
   {
    "duration": -156266,
    "start_time": "2022-03-16T08:49:35.463Z"
   },
   {
    "duration": -156266,
    "start_time": "2022-03-16T08:49:35.464Z"
   },
   {
    "duration": -156267,
    "start_time": "2022-03-16T08:49:35.466Z"
   },
   {
    "duration": -156269,
    "start_time": "2022-03-16T08:49:35.468Z"
   },
   {
    "duration": 312,
    "start_time": "2022-03-16T08:47:29.384Z"
   },
   {
    "duration": 1202,
    "start_time": "2022-03-16T09:21:14.869Z"
   },
   {
    "duration": 10,
    "start_time": "2022-03-16T09:21:16.800Z"
   },
   {
    "duration": 3,
    "start_time": "2022-03-16T09:21:17.214Z"
   },
   {
    "duration": 2649,
    "start_time": "2022-03-16T09:21:17.408Z"
   },
   {
    "duration": 4,
    "start_time": "2022-03-16T09:21:20.059Z"
   },
   {
    "duration": 54,
    "start_time": "2022-03-16T09:21:20.065Z"
   },
   {
    "duration": 38,
    "start_time": "2022-03-16T09:21:20.121Z"
   },
   {
    "duration": 555,
    "start_time": "2022-03-16T09:21:20.161Z"
   },
   {
    "duration": 40909,
    "start_time": "2022-03-16T09:21:20.718Z"
   },
   {
    "duration": 178,
    "start_time": "2022-03-16T09:22:01.629Z"
   },
   {
    "duration": 3,
    "start_time": "2022-03-16T09:22:01.809Z"
   },
   {
    "duration": 15,
    "start_time": "2022-03-16T09:22:01.814Z"
   },
   {
    "duration": 4,
    "start_time": "2022-03-16T09:22:01.831Z"
   },
   {
    "duration": 8,
    "start_time": "2022-03-16T09:22:01.837Z"
   },
   {
    "duration": 69,
    "start_time": "2022-03-16T09:22:01.846Z"
   },
   {
    "duration": 37,
    "start_time": "2022-03-16T09:22:01.916Z"
   },
   {
    "duration": 6,
    "start_time": "2022-03-16T09:22:01.955Z"
   },
   {
    "duration": 7,
    "start_time": "2022-03-16T09:22:01.963Z"
   },
   {
    "duration": 37,
    "start_time": "2022-03-16T09:22:01.971Z"
   },
   {
    "duration": 3,
    "start_time": "2022-03-16T09:22:02.010Z"
   },
   {
    "duration": 14,
    "start_time": "2022-03-16T09:22:02.015Z"
   },
   {
    "duration": 6,
    "start_time": "2022-03-16T09:22:02.030Z"
   },
   {
    "duration": 11,
    "start_time": "2022-03-16T09:22:02.037Z"
   },
   {
    "duration": 14,
    "start_time": "2022-03-16T09:22:02.050Z"
   },
   {
    "duration": 43,
    "start_time": "2022-03-16T09:22:02.066Z"
   },
   {
    "duration": 1564,
    "start_time": "2022-03-16T09:22:02.113Z"
   },
   {
    "duration": 384,
    "start_time": "2022-03-16T09:22:03.679Z"
   },
   {
    "duration": 687,
    "start_time": "2022-03-16T09:22:45.479Z"
   },
   {
    "duration": 792,
    "start_time": "2022-03-16T09:22:48.599Z"
   },
   {
    "duration": 3,
    "start_time": "2022-03-16T09:22:52.759Z"
   },
   {
    "duration": 29,
    "start_time": "2022-03-16T09:23:00.952Z"
   },
   {
    "duration": 5,
    "start_time": "2022-03-16T09:23:06.440Z"
   },
   {
    "duration": 5,
    "start_time": "2022-03-16T09:23:23.624Z"
   },
   {
    "duration": 4,
    "start_time": "2022-03-16T09:23:24.688Z"
   },
   {
    "duration": 3,
    "start_time": "2022-03-16T09:23:44.119Z"
   },
   {
    "duration": 2,
    "start_time": "2022-03-16T09:23:45.480Z"
   },
   {
    "duration": 469178,
    "start_time": "2022-03-16T09:23:47.728Z"
   },
   {
    "duration": 3,
    "start_time": "2022-03-16T09:31:36.907Z"
   },
   {
    "duration": 5,
    "start_time": "2022-03-16T09:31:36.912Z"
   },
   {
    "duration": 502786,
    "start_time": "2022-03-16T09:31:36.919Z"
   },
   {
    "duration": 3,
    "start_time": "2022-03-16T09:39:59.706Z"
   },
   {
    "duration": 700,
    "start_time": "2022-03-16T09:39:59.711Z"
   },
   {
    "duration": 491,
    "start_time": "2022-03-16T09:40:00.414Z"
   },
   {
    "duration": 4,
    "start_time": "2022-03-16T09:40:00.908Z"
   },
   {
    "duration": 8,
    "start_time": "2022-03-16T09:40:00.914Z"
   }
  ],
  "kernelspec": {
   "display_name": "Python 3 (ipykernel)",
   "language": "python",
   "name": "python3"
  },
  "language_info": {
   "codemirror_mode": {
    "name": "ipython",
    "version": 3
   },
   "file_extension": ".py",
   "mimetype": "text/x-python",
   "name": "python",
   "nbconvert_exporter": "python",
   "pygments_lexer": "ipython3",
   "version": "3.9.5"
  },
  "toc": {
   "base_numbering": 1,
   "nav_menu": {},
   "number_sections": true,
   "sideBar": true,
   "skip_h1_title": true,
   "title_cell": "Table of Contents",
   "title_sidebar": "Contents",
   "toc_cell": false,
   "toc_position": {},
   "toc_section_display": true,
   "toc_window_display": false
  }
 },
 "nbformat": 4,
 "nbformat_minor": 4
}

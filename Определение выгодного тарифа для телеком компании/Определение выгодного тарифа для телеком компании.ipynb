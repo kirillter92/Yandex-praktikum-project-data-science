{
 "cells": [
  {
   "cell_type": "markdown",
   "metadata": {},
   "source": [
    "# Определение перспективного тарифа для телеком-компании"
   ]
  },
  {
   "cell_type": "markdown",
   "metadata": {},
   "source": [
    "Предстоит сделать предварительный анализ тарифов на небольшой выборке клиентов. В вашем распоряжении данные 500 пользователей «Мегалайна»: кто они, откуда, каким тарифом пользуются, сколько звонков и сообщений каждый отправил за 2018 год. Нужно проанализировать поведение клиентов и сделать вывод — какой тариф лучше.\n"
   ]
  },
  {
   "cell_type": "markdown",
   "metadata": {},
   "source": [
    "## Изучение данных из файлов и их предобработка"
   ]
  },
  {
   "cell_type": "code",
   "execution_count": 1,
   "metadata": {},
   "outputs": [],
   "source": [
    "# импортируем библиотеки\n",
    "import pandas as pd\n",
    "import numpy as np\n",
    "import seaborn as sns\n",
    "from scipy import stats as st\n",
    "import math\n",
    "import matplotlib.pyplot as plt"
   ]
  },
  {
   "cell_type": "code",
   "execution_count": 2,
   "metadata": {},
   "outputs": [],
   "source": [
    "calls = pd.read_csv('/datasets/calls.csv')\n",
    "internet = pd.read_csv('/datasets/internet.csv')\n",
    "messages = pd.read_csv('/datasets/messages.csv')\n",
    "tariffs = pd.read_csv('/datasets/tariffs.csv')\n",
    "users = pd.read_csv('/datasets/users.csv')"
   ]
  },
  {
   "cell_type": "code",
   "execution_count": 3,
   "metadata": {},
   "outputs": [
    {
     "name": "stdout",
     "output_type": "stream",
     "text": [
      "<class 'pandas.core.frame.DataFrame'>\n",
      "RangeIndex: 202607 entries, 0 to 202606\n",
      "Data columns (total 4 columns):\n",
      "id           202607 non-null object\n",
      "call_date    202607 non-null object\n",
      "duration     202607 non-null float64\n",
      "user_id      202607 non-null int64\n",
      "dtypes: float64(1), int64(1), object(2)\n",
      "memory usage: 6.2+ MB\n",
      "None\n",
      "\n",
      "<class 'pandas.core.frame.DataFrame'>\n",
      "RangeIndex: 149396 entries, 0 to 149395\n",
      "Data columns (total 5 columns):\n",
      "Unnamed: 0      149396 non-null int64\n",
      "id              149396 non-null object\n",
      "mb_used         149396 non-null float64\n",
      "session_date    149396 non-null object\n",
      "user_id         149396 non-null int64\n",
      "dtypes: float64(1), int64(2), object(2)\n",
      "memory usage: 5.7+ MB\n",
      "None\n",
      "\n",
      "<class 'pandas.core.frame.DataFrame'>\n",
      "RangeIndex: 123036 entries, 0 to 123035\n",
      "Data columns (total 3 columns):\n",
      "id              123036 non-null object\n",
      "message_date    123036 non-null object\n",
      "user_id         123036 non-null int64\n",
      "dtypes: int64(1), object(2)\n",
      "memory usage: 2.8+ MB\n",
      "None\n",
      "\n",
      "<class 'pandas.core.frame.DataFrame'>\n",
      "RangeIndex: 500 entries, 0 to 499\n",
      "Data columns (total 8 columns):\n",
      "user_id       500 non-null int64\n",
      "age           500 non-null int64\n",
      "churn_date    38 non-null object\n",
      "city          500 non-null object\n",
      "first_name    500 non-null object\n",
      "last_name     500 non-null object\n",
      "reg_date      500 non-null object\n",
      "tariff        500 non-null object\n",
      "dtypes: int64(2), object(6)\n",
      "memory usage: 31.4+ KB\n",
      "None\n",
      "\n",
      "<class 'pandas.core.frame.DataFrame'>\n",
      "RangeIndex: 2 entries, 0 to 1\n",
      "Data columns (total 8 columns):\n",
      "messages_included        2 non-null int64\n",
      "mb_per_month_included    2 non-null int64\n",
      "minutes_included         2 non-null int64\n",
      "rub_monthly_fee          2 non-null int64\n",
      "rub_per_gb               2 non-null int64\n",
      "rub_per_message          2 non-null int64\n",
      "rub_per_minute           2 non-null int64\n",
      "tariff_name              2 non-null object\n",
      "dtypes: int64(7), object(1)\n",
      "memory usage: 256.0+ bytes\n",
      "None\n",
      "\n"
     ]
    }
   ],
   "source": [
    "for data in [calls, internet, messages, users, tariffs]: print(data.info(), end='\\n\\n')"
   ]
  },
  {
   "cell_type": "markdown",
   "metadata": {},
   "source": [
    "**Вывод**\n",
    "\n",
    "Таблица users\n",
    "\n",
    "Видим пропуски только в 'churn_date', это означает, что человек еще пользуется тарифом\n",
    "reg_date необходимо изменить тип данных на дату\n",
    "\n",
    "tariff переименовать в tariff_name (по подобию в таблице tarrifs)\n",
    "\n",
    "Таблица calls\n",
    "\n",
    "call_date необходимо изменить тип данных на дату\n",
    "\n",
    "Таблица messages\n",
    "\n",
    "message_date необходимо изменить тип данных на дату\n",
    "\n",
    "Таблица internet\n",
    "\n",
    "session_date необходимо изменить тип данных на дату\n",
    "\n",
    "удалить столбец 'Unnamed: 0' который полностью дублирует индекс\n",
    "Таблица tariffs\n",
    "\n",
    "Ничего не делаем, данные в таблице корректны\n",
    "\n",
    "Таблицы будем связывать по ключам:\n",
    "\n",
    "Первые четыре по ключу 'user_id'\n",
    "\n",
    "Последнюю по ключу 'tariffs_name'"
   ]
  },
  {
   "cell_type": "code",
   "execution_count": 4,
   "metadata": {},
   "outputs": [],
   "source": [
    "# Переименование столбцов\n",
    "users.rename(columns={\"tariff\": \"tariff_name\"}, inplace = True)"
   ]
  },
  {
   "cell_type": "code",
   "execution_count": 5,
   "metadata": {},
   "outputs": [],
   "source": [
    "# Удаление столбцов\n",
    "internet.drop(['Unnamed: 0'], axis=1, inplace = True)"
   ]
  },
  {
   "cell_type": "code",
   "execution_count": 6,
   "metadata": {},
   "outputs": [],
   "source": [
    "# Обработка пропусков\n",
    "users['churn_date'].fillna(value = '2018-12-01',inplace = True)"
   ]
  },
  {
   "cell_type": "code",
   "execution_count": 7,
   "metadata": {},
   "outputs": [],
   "source": [
    "# Изменение типов данных\n",
    "users = users.assign(\n",
    "    reg_date = lambda x: pd.to_datetime(x.reg_date, format='%Y-%m-%dT%H:%M:%S'),\n",
    "    reg_month = lambda x: x.reg_date.values.astype('datetime64[M]'),\n",
    "    churn_date = lambda x: pd.to_datetime(x.churn_date, format='%Y-%m-%dT%H:%M:%S'),\n",
    "    churn_month = lambda x: x.churn_date.values.astype('datetime64[M]'),\n",
    "    escape = np.where(users.churn_date != '2018-12-01', 1, 0)\n",
    ")\n",
    "\n",
    "calls = calls.assign(\n",
    "    call_date = lambda x: pd.to_datetime(x.call_date, format='%Y-%m-%dT%H:%M:%S'),\n",
    "    month = lambda x: x.call_date.values.astype('datetime64[M]')\n",
    ")\n",
    "\n",
    "messages = messages.assign(\n",
    "    message_date = lambda x: pd.to_datetime(x.message_date, format='%Y-%m-%dT%H:%M:%S'),\n",
    "    month = lambda x: x.message_date.values.astype('datetime64[M]')\n",
    ")\n",
    "\n",
    "internet = internet.assign(\n",
    "    session_date = lambda x: pd.to_datetime(x.session_date, format='%Y-%m-%dT%H:%M:%S'),\n",
    "    month = lambda x: x.session_date.values.astype('datetime64[M]')\n",
    ")"
   ]
  },
  {
   "cell_type": "code",
   "execution_count": 8,
   "metadata": {},
   "outputs": [
    {
     "name": "stdout",
     "output_type": "stream",
     "text": [
      "Итого дубликатов: 0\n"
     ]
    }
   ],
   "source": [
    "# Изменение типов данных\n",
    "print('Итого дубликатов:',(users.duplicated().sum()) +\n",
    "      calls.duplicated().sum() + \n",
    "      messages.duplicated().sum() + \n",
    "      internet.duplicated().sum() + \n",
    "      tariffs.duplicated().sum())"
   ]
  },
  {
   "cell_type": "markdown",
   "metadata": {},
   "source": [
    "**Вывод**\n",
    "\n",
    "переименовали tariff в tariff_name для простоты объеденения таблиц в последующих действиях\n",
    "\n",
    "изменили тип данных во всех столбцах с датой\n",
    "\n",
    "добавили столбец с месяцем для всех таблиц\n",
    "\n",
    "проверили таблицы на наличие дубликатов\n",
    "\n",
    "удалили ошибочный столбец в таблице 'internet'\n",
    "\n",
    "категоризацию данных проыведем позже по городам\n",
    "\n",
    "заполнили пропуски в churn_date на последние месяцы"
   ]
  },
  {
   "cell_type": "markdown",
   "metadata": {},
   "source": [
    "## Анализ пользователей"
   ]
  },
  {
   "cell_type": "code",
   "execution_count": 9,
   "metadata": {},
   "outputs": [
    {
     "name": "stdout",
     "output_type": "stream",
     "text": [
      "Количество пропущенных звонков: 39613\n"
     ]
    }
   ],
   "source": [
    "print('Количество пропущенных звонков:',calls[calls['duration'] == 0]['id'].count())"
   ]
  },
  {
   "cell_type": "markdown",
   "metadata": {},
   "source": [
    "Так как звонков продолжительностью 0 сек слишком много, посмотрим, как не состояшиеся вызовы повлияли на результаты анализа.\n",
    "\n",
    "добавим столбец с ихрасходованными минутами (округлим продолжительность звонка вверх, до целых)\n",
    "\n",
    "добавим столбец с количеством всех вызовов (будем использовать для сравнения)\n",
    "\n",
    "Добавим столбец со значением True, если звонок состоялся (длился дольше 0.00 минуты)\n",
    "\n",
    "А также добавим столбцы со средними продолжительностями всех и только сосотоявшихся звонков (будем использовать для сравнения)\n"
   ]
  },
  {
   "cell_type": "code",
   "execution_count": 10,
   "metadata": {},
   "outputs": [],
   "source": [
    "calls = calls.assign(\n",
    "    duration_fact = lambda x: x.duration.apply(np.ceil).astype(int),\n",
    "    call_all = 1,\n",
    "    call_fact = lambda x: (x.duration != 0.00) *1,\n",
    "    call_all_avg = lambda x: x.duration_fact / x.call_all,\n",
    "    call_fact_avg = lambda x: x.duration_fact /x.call_fact   \n",
    "    )"
   ]
  },
  {
   "cell_type": "code",
   "execution_count": 11,
   "metadata": {},
   "outputs": [
    {
     "name": "stdout",
     "output_type": "stream",
     "text": [
      "Средний расход минут для всех вызовов: 7.16 мин\n",
      "Средний расход минут для состоявшихся звонков: 8.90 мин\n",
      "Средний расход минут отличается на: 24.30%\n"
     ]
    }
   ],
   "source": [
    "# Посчитаем средний расход минут для всех звонков и только для состоявшихся\n",
    "all = calls.duration_fact.sum() / calls.call_all.sum()\n",
    "fact = calls.duration_fact.sum() / calls.call_fact.sum()\n",
    "\n",
    "print('Средний расход минут для всех вызовов: {:.2f}'.format(all),'мин')\n",
    "print('Средний расход минут для состоявшихся звонков: {:.2f}'.format(fact),'мин')\n",
    "print('Средний расход минут отличается на: {:.2%}'.format(fact/all-1))"
   ]
  },
  {
   "cell_type": "code",
   "execution_count": 12,
   "metadata": {},
   "outputs": [],
   "source": [
    "# Создадим сгруппированную по месяца и абонентам таблицу\n",
    "calls_grouped = calls.pivot_table(index = ['user_id','month'], values = ['duration_fact','call_fact'],\n",
    "                  aggfunc= sum).reset_index()"
   ]
  },
  {
   "cell_type": "code",
   "execution_count": 13,
   "metadata": {},
   "outputs": [],
   "source": [
    "# Создадим сгруппированную по месяца и абонентам таблицу\n",
    "messages_grouped = messages.pivot_table(index = ['user_id','month'], values = ['id'],\n",
    "                  aggfunc= len).rename(columns={\"id\": \"messages_fact\"}).reset_index()"
   ]
  },
  {
   "cell_type": "code",
   "execution_count": 14,
   "metadata": {},
   "outputs": [
    {
     "name": "stdout",
     "output_type": "stream",
     "text": [
      "Количество пустых сессий: 19598\n"
     ]
    }
   ],
   "source": [
    "# Посмотрим на количество \"пустых\" сессий:\n",
    "print('Количество пустых сессий:',internet[internet['mb_used'] == 0]['id'].count())"
   ]
  },
  {
   "cell_type": "code",
   "execution_count": 15,
   "metadata": {},
   "outputs": [],
   "source": [
    "internet = internet.assign(\n",
    "    mb_used_fact = lambda x: x.mb_used.apply(np.ceil).astype(int),\n",
    "    session_all = 1,\n",
    "    session_fact = lambda x: (x.mb_used != 0.00) *1,\n",
    "    session_all_avg = lambda x: x.mb_used_fact / x.session_all,\n",
    "    session_fact_avg = lambda x: x.mb_used_fact /x.session_fact   \n",
    "    )"
   ]
  },
  {
   "cell_type": "code",
   "execution_count": 16,
   "metadata": {},
   "outputs": [
    {
     "name": "stdout",
     "output_type": "stream",
     "text": [
      "Средний расход МБ для всех сессий: 370.62 МБ\n",
      "Средний расход МБ для состоявшихся сессий: 426.58 МБ\n",
      "Средний расход МБ отличается на: 15.10%\n"
     ]
    }
   ],
   "source": [
    "all = internet.mb_used_fact.sum() / internet.session_all.sum()\n",
    "fact = internet.mb_used_fact.sum() / internet.session_fact.sum()\n",
    "\n",
    "print('Средний расход МБ для всех сессий: {:.2f}'.format(all),'МБ')\n",
    "print('Средний расход МБ для состоявшихся сессий: {:.2f}'.format(fact),'МБ')\n",
    "print('Средний расход МБ отличается на: {:.2%}'.format(fact/all-1))"
   ]
  },
  {
   "cell_type": "code",
   "execution_count": 17,
   "metadata": {},
   "outputs": [],
   "source": [
    "# Создадим сгруппированную по месяца и абонентам таблицу\n",
    "internet_grouped = internet.pivot_table(index = ['user_id','month'], values = ['mb_used_fact','session_fact'],\n",
    "                  aggfunc= sum).reset_index()"
   ]
  },
  {
   "cell_type": "markdown",
   "metadata": {},
   "source": [
    "**Помесячная выручка с каждого пользователя**"
   ]
  },
  {
   "cell_type": "code",
   "execution_count": 18,
   "metadata": {},
   "outputs": [],
   "source": [
    "min_month = calls['call_date'].values.astype('datetime64[M]').min()\n",
    "max_month = calls['call_date'].values.astype('datetime64[M]').max()\n",
    "pd.date_range(min_month,max_month,freq='MS')\n",
    "\n",
    "calendar = pd.DataFrame(pd.date_range(min_month,max_month,freq='MS'))\n",
    "calendar.columns = ['month']"
   ]
  },
  {
   "cell_type": "code",
   "execution_count": 19,
   "metadata": {},
   "outputs": [
    {
     "name": "stdout",
     "output_type": "stream",
     "text": [
      "<class 'pandas.core.frame.DataFrame'>\n",
      "Int64Index: 3216 entries, 0 to 3215\n",
      "Data columns (total 26 columns):\n",
      "user_id                  3216 non-null int64\n",
      "month                    3216 non-null datetime64[ns]\n",
      "tariff_name              3216 non-null object\n",
      "city                     3216 non-null object\n",
      "escape                   3216 non-null int64\n",
      "call_fact                3216 non-null float64\n",
      "duration_fact            3216 non-null float64\n",
      "messages_fact            3216 non-null float64\n",
      "mb_used_fact             3216 non-null float64\n",
      "session_fact             3216 non-null float64\n",
      "messages_included        3216 non-null int64\n",
      "mb_per_month_included    3216 non-null int64\n",
      "minutes_included         3216 non-null int64\n",
      "rub_monthly_fee          3216 non-null int64\n",
      "rub_per_gb               3216 non-null int64\n",
      "rub_per_message          3216 non-null int64\n",
      "rub_per_minute           3216 non-null int64\n",
      "region                   3216 non-null object\n",
      "minutes_extra            3216 non-null float64\n",
      "messages_extra           3216 non-null float64\n",
      "internet_extra           3216 non-null float64\n",
      "internet_extra_gb        3216 non-null float64\n",
      "minutes_rev              3216 non-null float64\n",
      "messages_rev             3216 non-null float64\n",
      "internet_rev             3216 non-null float64\n",
      "total_rev                3216 non-null float64\n",
      "dtypes: datetime64[ns](1), float64(13), int64(9), object(3)\n",
      "memory usage: 678.4+ KB\n"
     ]
    }
   ],
   "source": [
    "users['key'] = 1\n",
    "calendar['key'] = 1\n",
    "\n",
    "total_grouped = users.merge(calendar, on = 'key')\n",
    "total_grouped = total_grouped.query('reg_month <= month and churn_month >= month')\n",
    "total_grouped = total_grouped[['user_id','month','tariff_name','city','escape']]\n",
    "total_grouped = total_grouped.merge(calls_grouped,how = 'left', on =['user_id','month'])\n",
    "total_grouped = total_grouped.merge(messages_grouped,how = 'left', on =['user_id','month'])\n",
    "total_grouped = total_grouped.merge(internet_grouped,how = 'left', on =['user_id','month'])\n",
    "\n",
    "revenue = total_grouped.merge(tariffs,how = 'left', on ='tariff_name')\n",
    "revenue.fillna(value = 0, inplace = True)\n",
    "revenue = revenue.assign(\n",
    "    region = lambda x: (np.where(x.city == 'Москва', 'Москва', 'Другой')),\n",
    "    minutes_extra = lambda x: (np.where(x.duration_fact < x.minutes_included, 0, x.duration_fact - x.minutes_included)),\n",
    "    messages_extra = lambda x: (np.where(x.messages_fact < x.messages_included, 0, x.messages_fact - x.messages_included)),\n",
    "    internet_extra = lambda x: (np.where(x.mb_used_fact < x.mb_per_month_included, 0, x.mb_used_fact - x.mb_per_month_included)),\n",
    "    internet_extra_gb = lambda x: (x.internet_extra/1024).apply(np.ceil),\n",
    ")\n",
    "\n",
    "revenue = revenue.assign(\n",
    "    minutes_rev = lambda x: x.minutes_extra * x.rub_per_minute,\n",
    "    messages_rev = lambda x: x.messages_extra * x.rub_per_message,\n",
    "    internet_rev = lambda x: x.internet_extra_gb * x.rub_per_gb,\n",
    "    total_rev = lambda x: x.minutes_rev + x.messages_rev + x.internet_rev + x.rub_monthly_fee   \n",
    ")\n",
    "\n",
    "revenue.info()"
   ]
  },
  {
   "cell_type": "markdown",
   "metadata": {},
   "source": [
    "**Вывод**\n",
    "\n",
    "Для всех данных создали сгруппированные таблицы\n",
    "\n",
    "Создали таблицу с календарем (всеми возможными месяцами в рассматриваемом периоде)\n",
    "\n",
    "Объеденили все таблицы в разрезе пользователей и месяцев, проверили, что в ней 6000 строк (500 польщователей по 12 месяцев)\n",
    "\n",
    "Отфильтровали итоговую таблицу от невозможный строк (учитывая дату регистрации и дату закрытия контракта)\n",
    "\n",
    "Провели категоризацию по городам (Москва и Другое)\n",
    "\n",
    "Добавили столбцы с минутами, сообщениями и количеством скачанных мегабайт сверх тарифа\n",
    "\n",
    "рассчитали выручку по каждому абоненту по месяцев"
   ]
  },
  {
   "cell_type": "markdown",
   "metadata": {},
   "source": [
    "## Анализ данных"
   ]
  },
  {
   "cell_type": "code",
   "execution_count": 20,
   "metadata": {},
   "outputs": [],
   "source": [
    "# Отфильтруем данные от нулевых значений\n",
    "total = revenue.query('duration_fact >0 and messages_fact > 0')[['tariff_name','duration_fact','messages_fact','mb_used_fact']]"
   ]
  },
  {
   "cell_type": "code",
   "execution_count": 21,
   "metadata": {},
   "outputs": [
    {
     "data": {
      "image/png": "[encoded data removed]",
      "text/plain": [
       "<Figure size 1600x560 with 1 Axes>"
      ]
     },
     "metadata": {
      "needs_background": "light"
     },
     "output_type": "display_data"
    }
   ],
   "source": [
    "# Построим граффик распределния использованных минут по тарифам\n",
    "plt.figure(figsize=(20,7), dpi= 80)\n",
    "sns.distplot(total.loc[total['tariff_name'] == 'ultra', 'duration_fact'], color=\"deeppink\", label=\"ultra\")\n",
    "sns.distplot(total.loc[total['tariff_name'] == 'smart','duration_fact'],color=\"g\", label=\"smart\")\n",
    "plt.title('Minutes by tariffs', fontsize=22)\n",
    "plt.legend()\n",
    "plt.grid()\n",
    "plt.show()"
   ]
  },
  {
   "cell_type": "code",
   "execution_count": 22,
   "metadata": {},
   "outputs": [
    {
     "data": {
      "text/html": [
       "<div>\n",
       "<style scoped>\n",
       "    .dataframe tbody tr th:only-of-type {\n",
       "        vertical-align: middle;\n",
       "    }\n",
       "\n",
       "    .dataframe tbody tr th {\n",
       "        vertical-align: top;\n",
       "    }\n",
       "\n",
       "    .dataframe thead th {\n",
       "        text-align: right;\n",
       "    }\n",
       "</style>\n",
       "<table border=\"1\" class=\"dataframe\">\n",
       "  <thead>\n",
       "    <tr style=\"text-align: right;\">\n",
       "      <th></th>\n",
       "      <th>tariff_name</th>\n",
       "      <th>mean</th>\n",
       "      <th>var</th>\n",
       "      <th>std</th>\n",
       "      <th>95%</th>\n",
       "    </tr>\n",
       "  </thead>\n",
       "  <tbody>\n",
       "    <tr>\n",
       "      <td>0</td>\n",
       "      <td>smart</td>\n",
       "      <td>421.0</td>\n",
       "      <td>35141.0</td>\n",
       "      <td>187.0</td>\n",
       "      <td>795.0</td>\n",
       "    </tr>\n",
       "    <tr>\n",
       "      <td>1</td>\n",
       "      <td>ultra</td>\n",
       "      <td>555.0</td>\n",
       "      <td>96688.0</td>\n",
       "      <td>311.0</td>\n",
       "      <td>1177.0</td>\n",
       "    </tr>\n",
       "  </tbody>\n",
       "</table>\n",
       "</div>"
      ],
      "text/plain": [
       "  tariff_name   mean      var    std     95%\n",
       "0       smart  421.0  35141.0  187.0   795.0\n",
       "1       ultra  555.0  96688.0  311.0  1177.0"
      ]
     },
     "execution_count": 22,
     "metadata": {},
     "output_type": "execute_result"
    }
   ],
   "source": [
    "# Проанализируем среднее и стандартное отклонение\n",
    "min = total.groupby('tariff_name')['duration_fact'].agg(['mean','var','std']).round().reset_index()\n",
    "min['95%'] = min['mean']+min['std']*2\n",
    "min"
   ]
  },
  {
   "cell_type": "markdown",
   "metadata": {},
   "source": [
    "Пользователи тарифа \"Ультра\" говорят в среднем больше, но и стандартное отклонение больше, чем у пользователей тарифа \"Смарт\". очевидно, что это связано с тем, что в тарифе \"Ультра\" больше бесплатных минут в пакете 3000 минут , в то время, как в тарифе \"Смарт\" только 500 минут.\n",
    "\n",
    "Абоненты тарифа \"Смарт\" редко выходят за рамки своего бесплатного пакета. В то время как абоненты тарифа \"Ультра\" распределены шире и в целом не \"выговаривают\" свой пакет. В среднем пользователи обоих тарифов исользуют 420 и 550 минут в месяц, соответственно."
   ]
  },
  {
   "cell_type": "code",
   "execution_count": 23,
   "metadata": {},
   "outputs": [
    {
     "data": {
      "image/png": "[encoded data removed]",
      "text/plain": [
       "<Figure size 1600x560 with 1 Axes>"
      ]
     },
     "metadata": {
      "needs_background": "light"
     },
     "output_type": "display_data"
    }
   ],
   "source": [
    "plt.figure(figsize=(20,7), dpi= 80)\n",
    "sns.distplot(total.loc[total['tariff_name'] == 'ultra', 'messages_fact'], color=\"deeppink\", label=\"ultra\")\n",
    "sns.distplot(total.loc[total['tariff_name'] == 'smart','messages_fact'], color=\"g\", label=\"smart\")\n",
    "plt.title('Messages by tariffs', fontsize=22)\n",
    "plt.legend()\n",
    "plt.grid()\n",
    "plt.show()"
   ]
  },
  {
   "cell_type": "code",
   "execution_count": 24,
   "metadata": {},
   "outputs": [
    {
     "data": {
      "text/html": [
       "<div>\n",
       "<style scoped>\n",
       "    .dataframe tbody tr th:only-of-type {\n",
       "        vertical-align: middle;\n",
       "    }\n",
       "\n",
       "    .dataframe tbody tr th {\n",
       "        vertical-align: top;\n",
       "    }\n",
       "\n",
       "    .dataframe thead th {\n",
       "        text-align: right;\n",
       "    }\n",
       "</style>\n",
       "<table border=\"1\" class=\"dataframe\">\n",
       "  <thead>\n",
       "    <tr style=\"text-align: right;\">\n",
       "      <th></th>\n",
       "      <th>tariff_name</th>\n",
       "      <th>mean</th>\n",
       "      <th>var</th>\n",
       "      <th>std</th>\n",
       "      <th>95%</th>\n",
       "    </tr>\n",
       "  </thead>\n",
       "  <tbody>\n",
       "    <tr>\n",
       "      <td>0</td>\n",
       "      <td>smart</td>\n",
       "      <td>39.0</td>\n",
       "      <td>720.0</td>\n",
       "      <td>27.0</td>\n",
       "      <td>93.0</td>\n",
       "    </tr>\n",
       "    <tr>\n",
       "      <td>1</td>\n",
       "      <td>ultra</td>\n",
       "      <td>61.0</td>\n",
       "      <td>1975.0</td>\n",
       "      <td>44.0</td>\n",
       "      <td>149.0</td>\n",
       "    </tr>\n",
       "  </tbody>\n",
       "</table>\n",
       "</div>"
      ],
      "text/plain": [
       "  tariff_name  mean     var   std    95%\n",
       "0       smart  39.0   720.0  27.0   93.0\n",
       "1       ultra  61.0  1975.0  44.0  149.0"
      ]
     },
     "execution_count": 24,
     "metadata": {},
     "output_type": "execute_result"
    }
   ],
   "source": [
    "# Проанализируем среднее и стандартное отклоение\n",
    "mes = total.groupby('tariff_name')['messages_fact'].agg(['mean','var','std']).round().reset_index()\n",
    "mes['95%'] = mes['mean']+ mes['std']*2\n",
    "mes"
   ]
  },
  {
   "cell_type": "markdown",
   "metadata": {},
   "source": [
    "Пользователи тарифа \"Ультра\" отправляют смс в среднем больше, но и стандартное отклонение больше, чем у пользователей тарифа \"Смарт\". очевидно, что это связано с тем, что в тарифе \"Ультра\" больше бесплатных сообщений в пакете (1000) , в то время, как в тарифе \"Смарт\" только 50 сообщений.\n",
    "\n",
    "абоненты тарифа \"Ультра\" распределены шире и в целом не \"выговаривают\" свой пакет. В среднем пользователи обоих тарифов исользуют 39 и 61 сообщений в месяц, соотвественно."
   ]
  },
  {
   "cell_type": "code",
   "execution_count": 25,
   "metadata": {},
   "outputs": [
    {
     "data": {
      "image/png": "[encoded data removed]",
      "text/plain": [
       "<Figure size 1600x560 with 1 Axes>"
      ]
     },
     "metadata": {
      "needs_background": "light"
     },
     "output_type": "display_data"
    }
   ],
   "source": [
    "plt.figure(figsize=(20,7), dpi= 80)\n",
    "sns.distplot(total.loc[total['tariff_name'] == 'ultra', 'mb_used_fact'], color=\"deeppink\", label=\"ultra\")\n",
    "sns.distplot(total.loc[total['tariff_name'] == 'smart','mb_used_fact'],color=\"g\", label=\"smart\")\n",
    "plt.title('Internet by tariffs', fontsize=22)\n",
    "plt.legend()\n",
    "plt.grid()\n",
    "plt.show()"
   ]
  },
  {
   "cell_type": "code",
   "execution_count": 26,
   "metadata": {},
   "outputs": [
    {
     "data": {
      "text/html": [
       "<div>\n",
       "<style scoped>\n",
       "    .dataframe tbody tr th:only-of-type {\n",
       "        vertical-align: middle;\n",
       "    }\n",
       "\n",
       "    .dataframe tbody tr th {\n",
       "        vertical-align: top;\n",
       "    }\n",
       "\n",
       "    .dataframe thead th {\n",
       "        text-align: right;\n",
       "    }\n",
       "</style>\n",
       "<table border=\"1\" class=\"dataframe\">\n",
       "  <thead>\n",
       "    <tr style=\"text-align: right;\">\n",
       "      <th></th>\n",
       "      <th>tariff_name</th>\n",
       "      <th>mean</th>\n",
       "      <th>var</th>\n",
       "      <th>std</th>\n",
       "    </tr>\n",
       "  </thead>\n",
       "  <tbody>\n",
       "    <tr>\n",
       "      <td>0</td>\n",
       "      <td>smart</td>\n",
       "      <td>16259.0</td>\n",
       "      <td>33761132.0</td>\n",
       "      <td>5810.0</td>\n",
       "    </tr>\n",
       "    <tr>\n",
       "      <td>1</td>\n",
       "      <td>ultra</td>\n",
       "      <td>19344.0</td>\n",
       "      <td>96979803.0</td>\n",
       "      <td>9848.0</td>\n",
       "    </tr>\n",
       "  </tbody>\n",
       "</table>\n",
       "</div>"
      ],
      "text/plain": [
       "  tariff_name     mean         var     std\n",
       "0       smart  16259.0  33761132.0  5810.0\n",
       "1       ultra  19344.0  96979803.0  9848.0"
      ]
     },
     "execution_count": 26,
     "metadata": {},
     "output_type": "execute_result"
    }
   ],
   "source": [
    "total.groupby('tariff_name')['mb_used_fact'].agg(['mean','var','std']).round().reset_index()"
   ]
  },
  {
   "cell_type": "markdown",
   "metadata": {},
   "source": [
    "Пользователи тарифа \"Ультра\" пользуются интернетом в среднем больше, но и стандартное отклонение больше, чем у пользователей тарифа \"Смарт\". очевидно, что это связано с тем, что в тарифе \"Ультра\" больше бесплатных мегабайт в пакете (30 ГБ) , в то время, как в тарифе \"Смарт\" только 16 ГБ.\n",
    "\n",
    "абоненты тарифа \"Ультра\" распределены шире и в целом редко \"выговаривают\" свой пакет. В среднем пользователи обоих тарифов исользуют 16 и 19 ГБ в месяц, соотвественно."
   ]
  },
  {
   "cell_type": "markdown",
   "metadata": {},
   "source": [
    "**Вывод**\n",
    "\n",
    "Пользователи тарифа \"Смарт\" явно более экономные клиенты, в связи с более ограниченными рамками тарифа, используют свзяь менее активно, но и чаще переплачивают за дополнительные минуты, сообщения и интернет. Стандартное отклонение показывает, что разброс между использованием связи абонентаами тарифа \"Смарт\" значительно меньше, так как ограниченный пакет заставляет их это делать.\n",
    "\n",
    "Пользователи тарифа \"Ультра\" никогда не используют полностью минуты и сообщения, однако бывает превышение по скачанным мегабайтам. Стандартное отклонение показывает, что разброс между использованием связи абонентаами тарифа \"Ультра\" значительно выше, так как более широкие опции пакеты позволяют им это делать"
   ]
  },
  {
   "cell_type": "markdown",
   "metadata": {},
   "source": [
    "## Проверка гипотез"
   ]
  },
  {
   "cell_type": "markdown",
   "metadata": {},
   "source": [
    "### Выручка по тарифам"
   ]
  },
  {
   "cell_type": "code",
   "execution_count": 27,
   "metadata": {},
   "outputs": [
    {
     "data": {
      "text/html": [
       "<div>\n",
       "<style scoped>\n",
       "    .dataframe tbody tr th:only-of-type {\n",
       "        vertical-align: middle;\n",
       "    }\n",
       "\n",
       "    .dataframe tbody tr th {\n",
       "        vertical-align: top;\n",
       "    }\n",
       "\n",
       "    .dataframe thead th {\n",
       "        text-align: right;\n",
       "    }\n",
       "</style>\n",
       "<table border=\"1\" class=\"dataframe\">\n",
       "  <thead>\n",
       "    <tr style=\"text-align: right;\">\n",
       "      <th></th>\n",
       "      <th>tariff_name</th>\n",
       "      <th>mean</th>\n",
       "      <th>count</th>\n",
       "      <th>sum</th>\n",
       "    </tr>\n",
       "  </thead>\n",
       "  <tbody>\n",
       "    <tr>\n",
       "      <td>0</td>\n",
       "      <td>smart</td>\n",
       "      <td>1294.0</td>\n",
       "      <td>2230</td>\n",
       "      <td>2886301.0</td>\n",
       "    </tr>\n",
       "    <tr>\n",
       "      <td>1</td>\n",
       "      <td>ultra</td>\n",
       "      <td>2071.0</td>\n",
       "      <td>986</td>\n",
       "      <td>2041950.0</td>\n",
       "    </tr>\n",
       "  </tbody>\n",
       "</table>\n",
       "</div>"
      ],
      "text/plain": [
       "  tariff_name    mean  count        sum\n",
       "0       smart  1294.0   2230  2886301.0\n",
       "1       ultra  2071.0    986  2041950.0"
      ]
     },
     "execution_count": 27,
     "metadata": {},
     "output_type": "execute_result"
    }
   ],
   "source": [
    "revenue.groupby('tariff_name')['total_rev'].agg(['mean','count','sum']).round().reset_index()"
   ]
  },
  {
   "cell_type": "code",
   "execution_count": 28,
   "metadata": {},
   "outputs": [
    {
     "data": {
      "image/png": "[encoded data removed]",
      "text/plain": [
       "<Figure size 1600x560 with 1 Axes>"
      ]
     },
     "metadata": {
      "needs_background": "light"
     },
     "output_type": "display_data"
    }
   ],
   "source": [
    "plt.figure(figsize=(20,7), dpi= 80)\n",
    "sns.distplot(revenue.loc[revenue['tariff_name'] == 'ultra', 'total_rev'], color=\"deeppink\", label=\"ultra\", kde = False)\n",
    "sns.distplot(revenue.loc[revenue['tariff_name'] == 'smart','total_rev'],color=\"g\", label=\"smart\", kde = False)\n",
    "plt.title('Total revenue by tariffs', fontsize=22)\n",
    "plt.legend()\n",
    "plt.grid()\n",
    "plt.show()"
   ]
  },
  {
   "cell_type": "code",
   "execution_count": 29,
   "metadata": {},
   "outputs": [],
   "source": [
    "ultra = revenue.query('tariff_name == \"ultra\"')['total_rev']\n",
    "smart = revenue.query('tariff_name == \"smart\"')['total_rev']"
   ]
  },
  {
   "cell_type": "code",
   "execution_count": 30,
   "metadata": {},
   "outputs": [],
   "source": [
    "alpha = 0.05"
   ]
  },
  {
   "cell_type": "code",
   "execution_count": 31,
   "metadata": {},
   "outputs": [
    {
     "name": "stdout",
     "output_type": "stream",
     "text": [
      "p-значение: 1.7023268870439853e-158\n",
      "Отвергаем нулевую гипотезу\n"
     ]
    }
   ],
   "source": [
    "results = st.ttest_ind(\n",
    "    ultra, \n",
    "    smart)\n",
    "\n",
    "print('p-значение:', results.pvalue)\n",
    "\n",
    "if (results.pvalue < alpha):\n",
    "    print(\"Отвергаем нулевую гипотезу\")\n",
    "else:\n",
    "    print(\"Не получилось отвергнуть нулевую гипотезу\")"
   ]
  },
  {
   "cell_type": "markdown",
   "metadata": {},
   "source": [
    "**Вывод**\n",
    "\n",
    "P.value - очень низкий, это значит получить такую разницу между средними выручками абонентов разных тарифов случайно практически невозможно, отвергаем нулевую гипотезу и принимаем алтернативную - разница средних выручек пользователей тарифов «Ультра» и «Смарт» действительно различается"
   ]
  },
  {
   "cell_type": "markdown",
   "metadata": {},
   "source": [
    "### Выручка по регионам"
   ]
  },
  {
   "cell_type": "code",
   "execution_count": 32,
   "metadata": {},
   "outputs": [
    {
     "data": {
      "text/html": [
       "<div>\n",
       "<style scoped>\n",
       "    .dataframe tbody tr th:only-of-type {\n",
       "        vertical-align: middle;\n",
       "    }\n",
       "\n",
       "    .dataframe tbody tr th {\n",
       "        vertical-align: top;\n",
       "    }\n",
       "\n",
       "    .dataframe thead th {\n",
       "        text-align: right;\n",
       "    }\n",
       "</style>\n",
       "<table border=\"1\" class=\"dataframe\">\n",
       "  <thead>\n",
       "    <tr style=\"text-align: right;\">\n",
       "      <th></th>\n",
       "      <th>region</th>\n",
       "      <th>mean</th>\n",
       "      <th>count</th>\n",
       "      <th>sum</th>\n",
       "    </tr>\n",
       "  </thead>\n",
       "  <tbody>\n",
       "    <tr>\n",
       "      <td>0</td>\n",
       "      <td>Другой</td>\n",
       "      <td>1528.0</td>\n",
       "      <td>2605</td>\n",
       "      <td>3980709.0</td>\n",
       "    </tr>\n",
       "    <tr>\n",
       "      <td>1</td>\n",
       "      <td>Москва</td>\n",
       "      <td>1551.0</td>\n",
       "      <td>611</td>\n",
       "      <td>947542.0</td>\n",
       "    </tr>\n",
       "  </tbody>\n",
       "</table>\n",
       "</div>"
      ],
      "text/plain": [
       "   region    mean  count        sum\n",
       "0  Другой  1528.0   2605  3980709.0\n",
       "1  Москва  1551.0    611   947542.0"
      ]
     },
     "execution_count": 32,
     "metadata": {},
     "output_type": "execute_result"
    }
   ],
   "source": [
    "revenue.groupby('region')['total_rev'].agg(['mean','count','sum']).round().reset_index()"
   ]
  },
  {
   "cell_type": "code",
   "execution_count": 33,
   "metadata": {},
   "outputs": [
    {
     "data": {
      "image/png": "[encoded data removed]",
      "text/plain": [
       "<Figure size 1600x560 with 1 Axes>"
      ]
     },
     "metadata": {
      "needs_background": "light"
     },
     "output_type": "display_data"
    }
   ],
   "source": [
    "plt.figure(figsize=(20,7), dpi= 80)\n",
    "sns.distplot(revenue.loc[revenue['region'] == 'Москва', 'total_rev'], color=\"deeppink\", label=\"Москва\", kde = False)\n",
    "sns.distplot(revenue.loc[revenue['region'] == 'Другой','total_rev'],color=\"g\", label=\"Другой\", kde = False)\n",
    "plt.title('Total revenue by regions', fontsize=22)\n",
    "plt.legend()\n",
    "plt.grid()\n",
    "plt.show()"
   ]
  },
  {
   "cell_type": "code",
   "execution_count": 34,
   "metadata": {},
   "outputs": [],
   "source": [
    "moscow = revenue.query('region == \"Москва\"')['total_rev']\n",
    "other = revenue.query('region == \"Другой\"')['total_rev']"
   ]
  },
  {
   "cell_type": "code",
   "execution_count": 35,
   "metadata": {},
   "outputs": [
    {
     "name": "stdout",
     "output_type": "stream",
     "text": [
      "p-значение: 0.5277299573181309\n",
      "Не получилось отвергнуть нулевую гипотезу\n"
     ]
    }
   ],
   "source": [
    "results = st.ttest_ind(\n",
    "    moscow, \n",
    "    other)\n",
    "\n",
    "print('p-значение:', results.pvalue)\n",
    "\n",
    "if (results.pvalue < alpha):\n",
    "    print(\"Отвергаем нулевую гипотезу\")\n",
    "else:\n",
    "    print(\"Не получилось отвергнуть нулевую гипотезу\")"
   ]
  },
  {
   "cell_type": "markdown",
   "metadata": {},
   "source": [
    "**Вывод**\n",
    "\n",
    "P.value - около 53%, это значит получить такую разницу между средними выручками абонентов разных регионов случайно более нашего, ранее установленного порога, принимаем нулевую гипотезу - разница средних выручек пользователей тарифов регионов Москва и все остальные - незначительна."
   ]
  },
  {
   "cell_type": "markdown",
   "metadata": {},
   "source": [
    "## Общие расчеты"
   ]
  },
  {
   "cell_type": "code",
   "execution_count": 36,
   "metadata": {},
   "outputs": [
    {
     "data": {
      "text/html": [
       "<div>\n",
       "<style scoped>\n",
       "    .dataframe tbody tr th:only-of-type {\n",
       "        vertical-align: middle;\n",
       "    }\n",
       "\n",
       "    .dataframe tbody tr th {\n",
       "        vertical-align: top;\n",
       "    }\n",
       "\n",
       "    .dataframe thead th {\n",
       "        text-align: right;\n",
       "    }\n",
       "</style>\n",
       "<table border=\"1\" class=\"dataframe\">\n",
       "  <thead>\n",
       "    <tr style=\"text-align: right;\">\n",
       "      <th>region</th>\n",
       "      <th>tariff_name</th>\n",
       "      <th>Другой</th>\n",
       "      <th>Москва</th>\n",
       "    </tr>\n",
       "  </thead>\n",
       "  <tbody>\n",
       "    <tr>\n",
       "      <td>0</td>\n",
       "      <td>smart</td>\n",
       "      <td>87</td>\n",
       "      <td>25</td>\n",
       "    </tr>\n",
       "    <tr>\n",
       "      <td>1</td>\n",
       "      <td>ultra</td>\n",
       "      <td>61</td>\n",
       "      <td>16</td>\n",
       "    </tr>\n",
       "  </tbody>\n",
       "</table>\n",
       "</div>"
      ],
      "text/plain": [
       "region tariff_name  Другой  Москва\n",
       "0            smart      87      25\n",
       "1            ultra      61      16"
      ]
     },
     "execution_count": 36,
     "metadata": {},
     "output_type": "execute_result"
    }
   ],
   "source": [
    "revenue.pivot_table(index = 'tariff_name', columns = 'region', values = 'escape', aggfunc = 'sum').reset_index()"
   ]
  },
  {
   "cell_type": "code",
   "execution_count": 37,
   "metadata": {},
   "outputs": [
    {
     "data": {
      "text/html": [
       "<div>\n",
       "<style scoped>\n",
       "    .dataframe tbody tr th:only-of-type {\n",
       "        vertical-align: middle;\n",
       "    }\n",
       "\n",
       "    .dataframe tbody tr th {\n",
       "        vertical-align: top;\n",
       "    }\n",
       "\n",
       "    .dataframe thead th {\n",
       "        text-align: right;\n",
       "    }\n",
       "</style>\n",
       "<table border=\"1\" class=\"dataframe\">\n",
       "  <thead>\n",
       "    <tr style=\"text-align: right;\">\n",
       "      <th></th>\n",
       "      <th>tariff_name</th>\n",
       "      <th>min_return</th>\n",
       "      <th>mes_return</th>\n",
       "      <th>int_return</th>\n",
       "    </tr>\n",
       "  </thead>\n",
       "  <tbody>\n",
       "    <tr>\n",
       "      <td>0</td>\n",
       "      <td>smart</td>\n",
       "      <td>3.10</td>\n",
       "      <td>38.79</td>\n",
       "      <td>0.08</td>\n",
       "    </tr>\n",
       "    <tr>\n",
       "      <td>1</td>\n",
       "      <td>ultra</td>\n",
       "      <td>3.94</td>\n",
       "      <td>42.00</td>\n",
       "      <td>0.11</td>\n",
       "    </tr>\n",
       "  </tbody>\n",
       "</table>\n",
       "</div>"
      ],
      "text/plain": [
       "  tariff_name  min_return  mes_return  int_return\n",
       "0       smart        3.10       38.79        0.08\n",
       "1       ultra        3.94       42.00        0.11"
      ]
     },
     "execution_count": 37,
     "metadata": {},
     "output_type": "execute_result"
    }
   ],
   "source": [
    "density = revenue.groupby('tariff_name')[['duration_fact','messages_fact','mb_used_fact','total_rev']].sum().reset_index()\n",
    "density['min_return'] = density['total_rev'] / density['duration_fact']\n",
    "density['mes_return'] = density['total_rev'] / density['messages_fact']\n",
    "density['int_return'] = density['total_rev'] / density['mb_used_fact']\n",
    "density[['tariff_name','min_return','mes_return','int_return']].round(2)"
   ]
  },
  {
   "cell_type": "markdown",
   "metadata": {},
   "source": [
    "## Общий вывод"
   ]
  },
  {
   "cell_type": "markdown",
   "metadata": {},
   "source": [
    "**В среднем наши клиенты используют за месяц:**\n",
    "\n",
    "**Тариф \"Смарт\"**\n",
    "421 минуту\n",
    "34 сообщения\n",
    "более 16 Гб\n",
    "Средняя выручка 1328 руб.\n",
    "Процент пользователей - 70%\n",
    "\n",
    "**Тариф \"Ультра\"**\n",
    "\n",
    "555 минут\n",
    "52 сообщения\n",
    "более 19Гб\n",
    "Средняя выручка 2086 руб.\n",
    "Процент пользователей - 30%\n",
    "\n",
    "**Средняя выручка пользователей тарифов «Ультра» и «Смарт» различается**\n",
    "\n",
    "Применили метод для гипотезы о равенстве средних двух генеральных совокупностей, так как мы сравнивали средние двух совокупностей по разным тарифам.\n",
    "\n",
    "Нулевая гипотеза: Средняя выручка по тарифам разливается\n",
    "\n",
    "Альфа: выбираем альфу (Зададим порог допустимой ошибки в 5%) - равную 5%. Если вероятность получения разности в средней выручке больше, чем этот коэффициент, то мы бы отвергли гипотезу, что средняя выручка пользователей тарифов «Ультра» и «Смарт» различается.\n",
    "\n",
    "Полученное значение p-value говорит о том, что средняя выручка абонентов разных тарифов отличается и с вероятностью в почти 0% такое различие можно получить случайно. Это явно слишком маленькая вероятность, чтобы делать вывод о равенстве выручек по тарифам.\n",
    "\n",
    "**Средняя выручка пользователей из Москвы отличается от выручки пользователей из других регионов**\n",
    "\n",
    "Применили метод для гипотезы о равенстве средних двух генеральных совокупностей, так как мы сравнивали средние двух совокупностей по разным тарифам.\n",
    "\n",
    "Нулевая гипотеза: Средняя выручка пользователей из Москвы отличается от пользователей из других регионов.\n",
    "\n",
    "Альфа: выбираем альфу (Зададим порог допустимой ошибки в 5%) - равную 5%. Если вероятность получения разности в средней выручке больше, чем этот коэффициент, то мы бы отвергли нулевую гипотезу.\n",
    "\n",
    "Полученное значение p-value говорит о том, что хотя средняя выручка абонентов из разных городов неодинакова, с вероятностью в 38% такое или большее различие можно получить случайно. Это явно слишком большая вероятность, чтобы делать вывод о значимом различии между средней вырочкой.\n",
    "\n",
    "**Какой тариф лучше**\n",
    "Пользователи из регионов отдают предпочтение тарифу Смарт 1844 против 761 пользователей тарифа Ультра, в то время, как разница между количеством пользователей тарифов в Москве менее значительна 386 против 225 соответственно.\n",
    "\n",
    "Анализ отказов от наших услуг не показал значительной разницы между тарифами.\n",
    "\n",
    "Тариф смарт приносит нам больше денег 2,8 млн против 2 млн тарифа Ультра за 2018 год, очевидно, что это связано с количеством абонентов\n",
    "\n",
    "Рентабельность на 1 единицу любой услуги выше в тарифе Ультра\n",
    "\n",
    "**Итог:**\n",
    "-Тариф Смарт приносит нам больше денег в абсолюте, но это за счет количества абонентов, в то время, как тариф Ультра - более рентабельный.\n",
    "\n",
    "**Рекомендации по тарифам:**\n",
    "Есть смысл обратить внимание на то, что клиентов Ультры значительно меньше, чем тарифа Смарт. Абоненты тарифа явно не используют все свои бесплатные минуты и сообщения, есть смысл их уменьшить:\n",
    "\n",
    "количество бесплатных минут до 1200 (так как 95% абонентам хватает 1177 минут)\n",
    "количество бесплатных сообщений до 150 (так как 95% абонентам хватает 149 сообщений)\n",
    "За счет этого снизить цену на абонентскую плату, таким образом мы можем привлечь новых клиентов.\n"
   ]
  }
 ],
 "metadata": {
  "ExecuteTimeLog": [
   {
    "duration": 570,
    "start_time": "2022-01-09T12:06:24.332Z"
   },
   {
    "duration": 516,
    "start_time": "2022-01-09T12:06:50.462Z"
   },
   {
    "duration": 19,
    "start_time": "2022-01-09T12:08:28.095Z"
   },
   {
    "duration": 13,
    "start_time": "2022-01-09T12:08:37.058Z"
   },
   {
    "duration": 9,
    "start_time": "2022-01-09T12:08:45.872Z"
   },
   {
    "duration": 17,
    "start_time": "2022-01-09T12:08:47.480Z"
   },
   {
    "duration": 595,
    "start_time": "2022-01-09T12:30:14.734Z"
   },
   {
    "duration": 492,
    "start_time": "2022-01-09T12:30:37.403Z"
   },
   {
    "duration": 1079,
    "start_time": "2022-01-09T12:30:43.653Z"
   },
   {
    "duration": 518,
    "start_time": "2022-01-09T12:30:45.974Z"
   },
   {
    "duration": 57,
    "start_time": "2022-01-09T12:31:35.418Z"
   },
   {
    "duration": 10,
    "start_time": "2022-01-09T12:33:08.192Z"
   },
   {
    "duration": 28,
    "start_time": "2022-01-09T12:33:50.442Z"
   },
   {
    "duration": 49,
    "start_time": "2022-01-09T12:35:57.410Z"
   },
   {
    "duration": 16,
    "start_time": "2022-01-09T12:36:54.685Z"
   },
   {
    "duration": 1080,
    "start_time": "2022-01-09T12:37:15.423Z"
   },
   {
    "duration": 487,
    "start_time": "2022-01-09T12:38:28.111Z"
   },
   {
    "duration": 46,
    "start_time": "2022-01-09T12:38:42.963Z"
   },
   {
    "duration": 14,
    "start_time": "2022-01-09T12:38:45.702Z"
   },
   {
    "duration": 61,
    "start_time": "2022-01-09T12:38:47.756Z"
   },
   {
    "duration": 56,
    "start_time": "2022-01-09T12:44:41.655Z"
   },
   {
    "duration": 12,
    "start_time": "2022-01-09T12:44:43.039Z"
   },
   {
    "duration": 1175,
    "start_time": "2022-01-09T12:49:00.004Z"
   },
   {
    "duration": 388,
    "start_time": "2022-01-09T12:49:01.181Z"
   },
   {
    "duration": 59,
    "start_time": "2022-01-09T12:49:01.571Z"
   },
   {
    "duration": 13,
    "start_time": "2022-01-09T12:49:01.632Z"
   },
   {
    "duration": 62,
    "start_time": "2022-01-09T12:49:01.647Z"
   },
   {
    "duration": 69,
    "start_time": "2022-01-09T12:49:01.711Z"
   },
   {
    "duration": 12,
    "start_time": "2022-01-09T12:49:01.781Z"
   },
   {
    "duration": 6,
    "start_time": "2022-01-09T12:49:01.794Z"
   },
   {
    "duration": 4,
    "start_time": "2022-01-09T12:50:06.727Z"
   },
   {
    "duration": 13,
    "start_time": "2022-01-09T12:50:25.050Z"
   },
   {
    "duration": 10,
    "start_time": "2022-01-09T12:50:46.040Z"
   },
   {
    "duration": 1068,
    "start_time": "2022-01-09T12:52:56.506Z"
   },
   {
    "duration": 353,
    "start_time": "2022-01-09T12:52:57.576Z"
   },
   {
    "duration": 44,
    "start_time": "2022-01-09T12:52:57.930Z"
   },
   {
    "duration": 13,
    "start_time": "2022-01-09T12:52:57.976Z"
   },
   {
    "duration": 69,
    "start_time": "2022-01-09T12:52:57.990Z"
   },
   {
    "duration": 19,
    "start_time": "2022-01-09T12:52:58.061Z"
   },
   {
    "duration": 10,
    "start_time": "2022-01-09T12:52:58.082Z"
   },
   {
    "duration": 3,
    "start_time": "2022-01-09T12:52:58.095Z"
   },
   {
    "duration": 28,
    "start_time": "2022-01-09T12:52:58.100Z"
   },
   {
    "duration": 413,
    "start_time": "2022-01-09T12:53:40.338Z"
   },
   {
    "duration": 13,
    "start_time": "2022-01-09T12:53:45.115Z"
   },
   {
    "duration": 7,
    "start_time": "2022-01-09T12:54:04.180Z"
   },
   {
    "duration": 16,
    "start_time": "2022-01-09T12:55:28.009Z"
   },
   {
    "duration": 8,
    "start_time": "2022-01-09T12:55:40.932Z"
   },
   {
    "duration": 354,
    "start_time": "2022-01-09T12:57:35.608Z"
   },
   {
    "duration": 940,
    "start_time": "2022-01-09T12:58:38.043Z"
   },
   {
    "duration": 373,
    "start_time": "2022-01-09T12:58:38.985Z"
   },
   {
    "duration": 43,
    "start_time": "2022-01-09T12:58:39.362Z"
   },
   {
    "duration": 12,
    "start_time": "2022-01-09T12:58:39.407Z"
   },
   {
    "duration": 60,
    "start_time": "2022-01-09T12:58:39.420Z"
   },
   {
    "duration": 19,
    "start_time": "2022-01-09T12:58:39.481Z"
   },
   {
    "duration": 10,
    "start_time": "2022-01-09T12:58:39.502Z"
   },
   {
    "duration": 3,
    "start_time": "2022-01-09T12:58:39.513Z"
   },
   {
    "duration": 15,
    "start_time": "2022-01-09T12:58:39.518Z"
   },
   {
    "duration": 2,
    "start_time": "2022-01-09T12:58:39.534Z"
   },
   {
    "duration": 16,
    "start_time": "2022-01-09T12:58:39.538Z"
   },
   {
    "duration": 7,
    "start_time": "2022-01-09T12:58:39.555Z"
   },
   {
    "duration": 19,
    "start_time": "2022-01-09T12:58:39.563Z"
   },
   {
    "duration": 9,
    "start_time": "2022-01-09T12:58:39.583Z"
   },
   {
    "duration": 429,
    "start_time": "2022-01-09T12:58:39.593Z"
   },
   {
    "duration": 6,
    "start_time": "2022-01-09T12:58:59.407Z"
   },
   {
    "duration": 11,
    "start_time": "2022-01-09T12:59:20.452Z"
   },
   {
    "duration": 19,
    "start_time": "2022-01-09T13:09:29.003Z"
   },
   {
    "duration": 3,
    "start_time": "2022-01-09T13:09:42.601Z"
   },
   {
    "duration": 101,
    "start_time": "2022-01-09T13:10:01.336Z"
   },
   {
    "duration": 92,
    "start_time": "2022-01-09T13:10:15.671Z"
   },
   {
    "duration": 14,
    "start_time": "2022-01-09T13:10:38.646Z"
   },
   {
    "duration": 14,
    "start_time": "2022-01-09T13:10:40.943Z"
   },
   {
    "duration": 71,
    "start_time": "2022-01-09T13:11:48.428Z"
   },
   {
    "duration": 39,
    "start_time": "2022-01-09T13:12:18.169Z"
   },
   {
    "duration": 318,
    "start_time": "2022-01-09T13:13:55.239Z"
   },
   {
    "duration": 1163,
    "start_time": "2022-01-09T13:14:18.528Z"
   },
   {
    "duration": 409,
    "start_time": "2022-01-09T13:14:19.693Z"
   },
   {
    "duration": 51,
    "start_time": "2022-01-09T13:14:20.104Z"
   },
   {
    "duration": 13,
    "start_time": "2022-01-09T13:14:20.156Z"
   },
   {
    "duration": 71,
    "start_time": "2022-01-09T13:14:20.170Z"
   },
   {
    "duration": 21,
    "start_time": "2022-01-09T13:14:20.242Z"
   },
   {
    "duration": 9,
    "start_time": "2022-01-09T13:14:20.265Z"
   },
   {
    "duration": 5,
    "start_time": "2022-01-09T13:14:20.277Z"
   },
   {
    "duration": 10,
    "start_time": "2022-01-09T13:14:20.284Z"
   },
   {
    "duration": 6,
    "start_time": "2022-01-09T13:14:20.296Z"
   },
   {
    "duration": 33,
    "start_time": "2022-01-09T13:14:20.304Z"
   },
   {
    "duration": 10,
    "start_time": "2022-01-09T13:14:20.338Z"
   },
   {
    "duration": 29,
    "start_time": "2022-01-09T13:14:20.350Z"
   },
   {
    "duration": 10,
    "start_time": "2022-01-09T13:14:20.380Z"
   },
   {
    "duration": 8,
    "start_time": "2022-01-09T13:14:20.392Z"
   },
   {
    "duration": 29,
    "start_time": "2022-01-09T13:14:20.402Z"
   },
   {
    "duration": 24,
    "start_time": "2022-01-09T13:14:20.433Z"
   },
   {
    "duration": 3,
    "start_time": "2022-01-09T13:14:20.458Z"
   },
   {
    "duration": 86,
    "start_time": "2022-01-09T13:14:20.463Z"
   },
   {
    "duration": 16,
    "start_time": "2022-01-09T13:14:20.552Z"
   },
   {
    "duration": 84,
    "start_time": "2022-01-09T13:14:20.569Z"
   },
   {
    "duration": 134,
    "start_time": "2022-01-09T13:14:43.317Z"
   },
   {
    "duration": 121,
    "start_time": "2022-01-09T13:15:03.180Z"
   },
   {
    "duration": 61,
    "start_time": "2022-01-09T13:15:05.511Z"
   },
   {
    "duration": 501,
    "start_time": "2022-01-09T13:15:51.588Z"
   },
   {
    "duration": 940,
    "start_time": "2022-01-09T13:17:42.448Z"
   },
   {
    "duration": 360,
    "start_time": "2022-01-09T13:17:44.656Z"
   },
   {
    "duration": 382,
    "start_time": "2022-01-09T13:18:05.573Z"
   },
   {
    "duration": 49,
    "start_time": "2022-01-09T13:18:07.265Z"
   },
   {
    "duration": 1579,
    "start_time": "2022-01-09T13:19:12.909Z"
   },
   {
    "duration": 1059,
    "start_time": "2022-01-09T13:19:48.536Z"
   },
   {
    "duration": 379,
    "start_time": "2022-01-09T13:19:51.040Z"
   },
   {
    "duration": 50,
    "start_time": "2022-01-09T13:19:53.094Z"
   },
   {
    "duration": 2254,
    "start_time": "2022-01-09T13:20:01.239Z"
   },
   {
    "duration": 10,
    "start_time": "2022-01-09T13:20:55.786Z"
   },
   {
    "duration": 1576,
    "start_time": "2022-01-09T13:21:06.981Z"
   },
   {
    "duration": 20,
    "start_time": "2022-01-09T13:21:26.068Z"
   },
   {
    "duration": 1011,
    "start_time": "2022-01-09T13:22:09.577Z"
   },
   {
    "duration": 362,
    "start_time": "2022-01-09T13:22:10.589Z"
   },
   {
    "duration": 43,
    "start_time": "2022-01-09T13:22:10.953Z"
   },
   {
    "duration": 46,
    "start_time": "2022-01-09T13:22:10.998Z"
   },
   {
    "duration": 30,
    "start_time": "2022-01-09T13:22:11.046Z"
   },
   {
    "duration": 29,
    "start_time": "2022-01-09T13:22:41.816Z"
   },
   {
    "duration": 17,
    "start_time": "2022-01-09T13:22:44.171Z"
   },
   {
    "duration": 7,
    "start_time": "2022-01-09T13:24:13.589Z"
   },
   {
    "duration": 105,
    "start_time": "2022-01-09T13:25:12.218Z"
   },
   {
    "duration": 189,
    "start_time": "2022-01-09T13:25:25.335Z"
   },
   {
    "duration": 4,
    "start_time": "2022-01-09T13:25:37.264Z"
   },
   {
    "duration": 3,
    "start_time": "2022-01-09T13:25:39.853Z"
   },
   {
    "duration": 411,
    "start_time": "2022-01-09T13:25:54.485Z"
   },
   {
    "duration": 2,
    "start_time": "2022-01-09T13:27:02.564Z"
   },
   {
    "duration": 933,
    "start_time": "2022-01-09T13:27:06.365Z"
   },
   {
    "duration": 369,
    "start_time": "2022-01-09T13:27:07.299Z"
   },
   {
    "duration": 44,
    "start_time": "2022-01-09T13:27:07.672Z"
   },
   {
    "duration": 46,
    "start_time": "2022-01-09T13:27:07.718Z"
   },
   {
    "duration": 32,
    "start_time": "2022-01-09T13:27:07.765Z"
   },
   {
    "duration": 37,
    "start_time": "2022-01-09T13:27:07.798Z"
   },
   {
    "duration": 6,
    "start_time": "2022-01-09T13:27:07.837Z"
   },
   {
    "duration": 112,
    "start_time": "2022-01-09T13:27:07.845Z"
   },
   {
    "duration": 3,
    "start_time": "2022-01-09T13:27:07.958Z"
   },
   {
    "duration": 8670,
    "start_time": "2022-01-09T13:27:07.963Z"
   },
   {
    "duration": 1064,
    "start_time": "2022-01-09T13:28:18.723Z"
   },
   {
    "duration": 371,
    "start_time": "2022-01-09T13:28:19.789Z"
   },
   {
    "duration": 45,
    "start_time": "2022-01-09T13:28:20.162Z"
   },
   {
    "duration": 47,
    "start_time": "2022-01-09T13:28:20.208Z"
   },
   {
    "duration": 31,
    "start_time": "2022-01-09T13:28:20.257Z"
   },
   {
    "duration": 37,
    "start_time": "2022-01-09T13:28:20.290Z"
   },
   {
    "duration": 7,
    "start_time": "2022-01-09T13:28:20.328Z"
   },
   {
    "duration": 110,
    "start_time": "2022-01-09T13:28:20.337Z"
   },
   {
    "duration": 3,
    "start_time": "2022-01-09T13:28:20.448Z"
   },
   {
    "duration": 8800,
    "start_time": "2022-01-09T13:29:32.324Z"
   },
   {
    "duration": 996,
    "start_time": "2022-01-09T13:30:30.290Z"
   },
   {
    "duration": 362,
    "start_time": "2022-01-09T13:30:33.849Z"
   },
   {
    "duration": 46,
    "start_time": "2022-01-09T13:30:35.127Z"
   },
   {
    "duration": 43,
    "start_time": "2022-01-09T13:30:51.436Z"
   },
   {
    "duration": 74,
    "start_time": "2022-01-09T13:36:16.133Z"
   },
   {
    "duration": 1255,
    "start_time": "2022-01-09T13:36:23.543Z"
   },
   {
    "duration": 2399,
    "start_time": "2022-01-09T13:36:35.238Z"
   },
   {
    "duration": 374,
    "start_time": "2022-01-09T13:36:56.636Z"
   },
   {
    "duration": 1080,
    "start_time": "2022-01-09T13:37:04.534Z"
   },
   {
    "duration": 364,
    "start_time": "2022-01-09T13:37:06.309Z"
   },
   {
    "duration": 374,
    "start_time": "2022-01-09T13:37:08.979Z"
   },
   {
    "duration": 47,
    "start_time": "2022-01-09T13:37:21.902Z"
   },
   {
    "duration": 44,
    "start_time": "2022-01-09T13:37:42.090Z"
   },
   {
    "duration": 59,
    "start_time": "2022-01-09T13:39:59.628Z"
   },
   {
    "duration": 7,
    "start_time": "2022-01-09T13:40:39.244Z"
   },
   {
    "duration": 559,
    "start_time": "2022-01-09T13:41:56.187Z"
   },
   {
    "duration": 7,
    "start_time": "2022-01-09T13:42:34.539Z"
   },
   {
    "duration": 472,
    "start_time": "2022-01-09T13:44:35.196Z"
   },
   {
    "duration": 7,
    "start_time": "2022-01-09T13:44:58.330Z"
   },
   {
    "duration": 294,
    "start_time": "2022-01-09T13:45:53.681Z"
   },
   {
    "duration": 10383,
    "start_time": "2022-01-09T13:46:10.425Z"
   },
   {
    "duration": 18,
    "start_time": "2022-01-09T13:46:56.010Z"
   },
   {
    "duration": 1674,
    "start_time": "2022-01-09T13:47:34.838Z"
   },
   {
    "duration": 6,
    "start_time": "2022-01-09T13:54:57.679Z"
   },
   {
    "duration": 7,
    "start_time": "2022-01-09T13:55:01.200Z"
   },
   {
    "duration": 8261,
    "start_time": "2022-01-09T13:55:14.047Z"
   },
   {
    "duration": 8668,
    "start_time": "2022-01-09T13:55:52.304Z"
   },
   {
    "duration": 1040,
    "start_time": "2022-01-09T13:56:15.172Z"
   },
   {
    "duration": 353,
    "start_time": "2022-01-09T13:56:16.869Z"
   },
   {
    "duration": 44,
    "start_time": "2022-01-09T13:56:18.202Z"
   },
   {
    "duration": 62,
    "start_time": "2022-01-09T13:56:22.450Z"
   },
   {
    "duration": 6,
    "start_time": "2022-01-09T13:56:23.790Z"
   },
   {
    "duration": 556,
    "start_time": "2022-01-09T13:56:24.511Z"
   },
   {
    "duration": 8,
    "start_time": "2022-01-09T13:56:26.634Z"
   },
   {
    "duration": 607,
    "start_time": "2022-01-09T13:56:27.727Z"
   },
   {
    "duration": 6,
    "start_time": "2022-01-09T13:56:29.765Z"
   },
   {
    "duration": 300,
    "start_time": "2022-01-09T13:56:31.091Z"
   },
   {
    "duration": 19,
    "start_time": "2022-01-09T13:56:33.579Z"
   },
   {
    "duration": 1852,
    "start_time": "2022-01-09T13:56:34.342Z"
   },
   {
    "duration": 5,
    "start_time": "2022-01-09T13:56:37.752Z"
   },
   {
    "duration": 9161,
    "start_time": "2022-01-09T13:56:41.667Z"
   },
   {
    "duration": 8149,
    "start_time": "2022-01-09T13:59:28.110Z"
   },
   {
    "duration": 323,
    "start_time": "2022-01-09T14:00:38.134Z"
   },
   {
    "duration": 1160,
    "start_time": "2022-01-09T14:01:00.168Z"
   },
   {
    "duration": 368,
    "start_time": "2022-01-09T14:01:01.330Z"
   },
   {
    "duration": 47,
    "start_time": "2022-01-09T14:01:01.703Z"
   },
   {
    "duration": 94,
    "start_time": "2022-01-09T14:01:01.751Z"
   },
   {
    "duration": 8,
    "start_time": "2022-01-09T14:01:01.847Z"
   },
   {
    "duration": 772,
    "start_time": "2022-01-09T14:01:01.857Z"
   },
   {
    "duration": 8,
    "start_time": "2022-01-09T14:01:02.632Z"
   },
   {
    "duration": 635,
    "start_time": "2022-01-09T14:01:02.643Z"
   },
   {
    "duration": 8,
    "start_time": "2022-01-09T14:01:03.280Z"
   },
   {
    "duration": 316,
    "start_time": "2022-01-09T14:01:03.289Z"
   },
   {
    "duration": 398,
    "start_time": "2022-01-09T14:01:03.607Z"
   },
   {
    "duration": 3,
    "start_time": "2022-01-09T14:10:13.365Z"
   },
   {
    "duration": 1044,
    "start_time": "2022-01-09T14:10:29.169Z"
   },
   {
    "duration": 355,
    "start_time": "2022-01-09T14:10:55.706Z"
   },
   {
    "duration": 366,
    "start_time": "2022-01-09T14:10:59.480Z"
   },
   {
    "duration": 46,
    "start_time": "2022-01-09T14:11:21.553Z"
   },
   {
    "duration": 67,
    "start_time": "2022-01-09T14:11:24.131Z"
   },
   {
    "duration": 4,
    "start_time": "2022-01-09T14:16:13.924Z"
   },
   {
    "duration": 8,
    "start_time": "2022-01-09T14:16:20.765Z"
   },
   {
    "duration": 4,
    "start_time": "2022-01-09T14:16:29.190Z"
   },
   {
    "duration": 109,
    "start_time": "2022-01-09T14:16:40.224Z"
   },
   {
    "duration": 134,
    "start_time": "2022-01-09T14:16:53.377Z"
   },
   {
    "duration": 14,
    "start_time": "2022-01-09T14:17:02.666Z"
   },
   {
    "duration": 22,
    "start_time": "2022-01-09T14:17:10.279Z"
   },
   {
    "duration": 5,
    "start_time": "2022-01-09T14:17:17.372Z"
   },
   {
    "duration": 43,
    "start_time": "2022-01-09T14:17:23.899Z"
   },
   {
    "duration": 36,
    "start_time": "2022-01-09T14:17:31.581Z"
   },
   {
    "duration": 10,
    "start_time": "2022-01-09T14:17:37.923Z"
   },
   {
    "duration": 15,
    "start_time": "2022-01-09T14:17:47.847Z"
   },
   {
    "duration": 6,
    "start_time": "2022-01-09T14:17:54.082Z"
   },
   {
    "duration": 28,
    "start_time": "2022-01-09T14:18:00.746Z"
   },
   {
    "duration": 20,
    "start_time": "2022-01-09T14:18:07.326Z"
   },
   {
    "duration": 42,
    "start_time": "2022-01-09T14:18:14.922Z"
   },
   {
    "duration": 7,
    "start_time": "2022-01-09T14:18:24.326Z"
   },
   {
    "duration": 386,
    "start_time": "2022-01-09T14:18:31.317Z"
   },
   {
    "duration": 14,
    "start_time": "2022-01-09T14:18:41.075Z"
   },
   {
    "duration": 383,
    "start_time": "2022-01-09T14:18:51.028Z"
   },
   {
    "duration": 20,
    "start_time": "2022-01-09T14:18:57.885Z"
   },
   {
    "duration": 399,
    "start_time": "2022-01-09T14:19:04.243Z"
   },
   {
    "duration": 11,
    "start_time": "2022-01-09T14:19:13.726Z"
   },
   {
    "duration": 13,
    "start_time": "2022-01-09T14:19:24.224Z"
   },
   {
    "duration": 111,
    "start_time": "2022-01-09T14:19:30.385Z"
   },
   {
    "duration": 462,
    "start_time": "2022-01-09T14:19:36.451Z"
   },
   {
    "duration": 8,
    "start_time": "2022-01-09T14:19:43.801Z"
   },
   {
    "duration": 2,
    "start_time": "2022-01-09T14:19:50.188Z"
   },
   {
    "duration": 5,
    "start_time": "2022-01-09T14:19:56.083Z"
   },
   {
    "duration": 12,
    "start_time": "2022-01-09T14:20:01.933Z"
   },
   {
    "duration": 392,
    "start_time": "2022-01-09T14:20:08.699Z"
   },
   {
    "duration": 7,
    "start_time": "2022-01-09T14:20:16.160Z"
   },
   {
    "duration": 5,
    "start_time": "2022-01-09T14:20:22.791Z"
   },
   {
    "duration": 16,
    "start_time": "2022-01-09T14:20:29.243Z"
   },
   {
    "duration": 15,
    "start_time": "2022-01-09T14:20:35.711Z"
   },
   {
    "duration": 184,
    "start_time": "2022-01-09T14:23:15.690Z"
   },
   {
    "duration": 7,
    "start_time": "2022-01-09T14:25:40.229Z"
   },
   {
    "duration": 382,
    "start_time": "2022-01-09T14:30:06.773Z"
   },
   {
    "duration": 15,
    "start_time": "2022-01-09T14:31:49.167Z"
   },
   {
    "duration": 1046,
    "start_time": "2022-01-09T14:41:53.870Z"
   },
   {
    "duration": 361,
    "start_time": "2022-01-09T14:41:54.917Z"
   },
   {
    "duration": 44,
    "start_time": "2022-01-09T14:41:55.280Z"
   },
   {
    "duration": 3,
    "start_time": "2022-01-09T14:41:55.326Z"
   },
   {
    "duration": 12,
    "start_time": "2022-01-09T14:41:55.330Z"
   },
   {
    "duration": 7,
    "start_time": "2022-01-09T14:41:55.344Z"
   },
   {
    "duration": 126,
    "start_time": "2022-01-09T14:41:55.352Z"
   },
   {
    "duration": 149,
    "start_time": "2022-01-09T14:41:55.481Z"
   },
   {
    "duration": 13,
    "start_time": "2022-01-09T14:41:55.632Z"
   },
   {
    "duration": 20,
    "start_time": "2022-01-09T14:41:55.647Z"
   },
   {
    "duration": 6,
    "start_time": "2022-01-09T14:41:55.669Z"
   },
   {
    "duration": 54,
    "start_time": "2022-01-09T14:41:55.676Z"
   },
   {
    "duration": 34,
    "start_time": "2022-01-09T14:41:55.732Z"
   },
   {
    "duration": 9,
    "start_time": "2022-01-09T14:41:55.768Z"
   },
   {
    "duration": 12,
    "start_time": "2022-01-09T14:41:55.779Z"
   },
   {
    "duration": 5,
    "start_time": "2022-01-09T14:41:55.792Z"
   },
   {
    "duration": 47,
    "start_time": "2022-01-09T14:41:55.799Z"
   },
   {
    "duration": 19,
    "start_time": "2022-01-09T14:41:55.848Z"
   },
   {
    "duration": 59,
    "start_time": "2022-01-09T14:41:55.868Z"
   },
   {
    "duration": 6,
    "start_time": "2022-01-09T14:41:55.928Z"
   },
   {
    "duration": 399,
    "start_time": "2022-01-09T14:41:55.936Z"
   },
   {
    "duration": 14,
    "start_time": "2022-01-09T14:41:56.337Z"
   },
   {
    "duration": 387,
    "start_time": "2022-01-09T14:41:56.353Z"
   },
   {
    "duration": 13,
    "start_time": "2022-01-09T14:41:56.742Z"
   },
   {
    "duration": 413,
    "start_time": "2022-01-09T14:41:56.756Z"
   },
   {
    "duration": 12,
    "start_time": "2022-01-09T14:41:57.170Z"
   },
   {
    "duration": 10,
    "start_time": "2022-01-09T14:41:57.184Z"
   },
   {
    "duration": 488,
    "start_time": "2022-01-09T14:41:57.195Z"
   },
   {
    "duration": 8,
    "start_time": "2022-01-09T14:41:57.684Z"
   },
   {
    "duration": 4,
    "start_time": "2022-01-09T14:41:57.693Z"
   },
   {
    "duration": 6,
    "start_time": "2022-01-09T14:41:57.698Z"
   },
   {
    "duration": 28,
    "start_time": "2022-01-09T14:41:57.706Z"
   },
   {
    "duration": 400,
    "start_time": "2022-01-09T14:41:57.735Z"
   },
   {
    "duration": 7,
    "start_time": "2022-01-09T14:41:58.137Z"
   },
   {
    "duration": 7,
    "start_time": "2022-01-09T14:41:58.145Z"
   },
   {
    "duration": 16,
    "start_time": "2022-01-09T14:41:58.153Z"
   },
   {
    "duration": 14,
    "start_time": "2022-01-09T14:41:58.171Z"
   },
   {
    "duration": 1469,
    "start_time": "2022-01-10T19:07:03.228Z"
   },
   {
    "duration": 514,
    "start_time": "2022-01-10T19:07:04.699Z"
   },
   {
    "duration": 69,
    "start_time": "2022-01-10T19:07:05.216Z"
   },
   {
    "duration": 4,
    "start_time": "2022-01-10T19:07:05.288Z"
   },
   {
    "duration": 33,
    "start_time": "2022-01-10T19:07:05.295Z"
   },
   {
    "duration": 7,
    "start_time": "2022-01-10T19:07:05.330Z"
   },
   {
    "duration": 215,
    "start_time": "2022-01-10T19:07:05.340Z"
   },
   {
    "duration": 258,
    "start_time": "2022-01-10T19:07:05.559Z"
   },
   {
    "duration": 16,
    "start_time": "2022-01-10T19:07:05.820Z"
   },
   {
    "duration": 31,
    "start_time": "2022-01-10T19:07:05.838Z"
   },
   {
    "duration": 8,
    "start_time": "2022-01-10T19:07:05.872Z"
   },
   {
    "duration": 80,
    "start_time": "2022-01-10T19:07:05.883Z"
   },
   {
    "duration": 72,
    "start_time": "2022-01-10T19:07:05.966Z"
   },
   {
    "duration": 11,
    "start_time": "2022-01-10T19:07:06.041Z"
   },
   {
    "duration": 19,
    "start_time": "2022-01-10T19:07:06.054Z"
   },
   {
    "duration": 8,
    "start_time": "2022-01-10T19:07:06.075Z"
   },
   {
    "duration": 68,
    "start_time": "2022-01-10T19:07:06.085Z"
   },
   {
    "duration": 31,
    "start_time": "2022-01-10T19:07:06.155Z"
   },
   {
    "duration": 96,
    "start_time": "2022-01-10T19:07:06.189Z"
   },
   {
    "duration": 10,
    "start_time": "2022-01-10T19:07:06.288Z"
   },
   {
    "duration": 769,
    "start_time": "2022-01-10T19:07:06.318Z"
   },
   {
    "duration": 35,
    "start_time": "2022-01-10T19:07:07.090Z"
   },
   {
    "duration": 762,
    "start_time": "2022-01-10T19:07:07.130Z"
   },
   {
    "duration": 32,
    "start_time": "2022-01-10T19:07:07.894Z"
   },
   {
    "duration": 1029,
    "start_time": "2022-01-10T19:07:07.928Z"
   },
   {
    "duration": 30,
    "start_time": "2022-01-10T19:07:08.960Z"
   },
   {
    "duration": 41,
    "start_time": "2022-01-10T19:07:08.993Z"
   },
   {
    "duration": 1093,
    "start_time": "2022-01-10T19:07:09.037Z"
   },
   {
    "duration": 10,
    "start_time": "2022-01-10T19:07:10.133Z"
   },
   {
    "duration": 7,
    "start_time": "2022-01-10T19:07:10.145Z"
   },
   {
    "duration": 10,
    "start_time": "2022-01-10T19:07:10.154Z"
   },
   {
    "duration": 53,
    "start_time": "2022-01-10T19:07:10.167Z"
   },
   {
    "duration": 784,
    "start_time": "2022-01-10T19:07:10.222Z"
   },
   {
    "duration": 15,
    "start_time": "2022-01-10T19:07:11.009Z"
   },
   {
    "duration": 8,
    "start_time": "2022-01-10T19:07:11.027Z"
   },
   {
    "duration": 28,
    "start_time": "2022-01-10T19:07:11.038Z"
   },
   {
    "duration": 65,
    "start_time": "2022-01-10T19:07:11.068Z"
   },
   {
    "duration": 51,
    "start_time": "2022-01-10T19:22:36.230Z"
   },
   {
    "duration": 11,
    "start_time": "2022-01-10T19:22:57.161Z"
   },
   {
    "duration": 26,
    "start_time": "2022-01-10T19:23:14.657Z"
   },
   {
    "duration": 50,
    "start_time": "2022-01-10T19:27:08.792Z"
   },
   {
    "duration": 10,
    "start_time": "2022-01-10T19:27:12.142Z"
   }
  ],
  "kernelspec": {
   "display_name": "Python 3 (ipykernel)",
   "language": "python",
   "name": "python3"
  },
  "language_info": {
   "codemirror_mode": {
    "name": "ipython",
    "version": 3
   },
   "file_extension": ".py",
   "mimetype": "text/x-python",
   "name": "python",
   "nbconvert_exporter": "python",
   "pygments_lexer": "ipython3",
   "version": "3.9.5"
  },
  "toc": {
   "base_numbering": 1,
   "nav_menu": {},
   "number_sections": true,
   "sideBar": true,
   "skip_h1_title": true,
   "title_cell": "Table of Contents",
   "title_sidebar": "Contents",
   "toc_cell": false,
   "toc_position": {},
   "toc_section_display": true,
   "toc_window_display": false
  }
 },
 "nbformat": 4,
 "nbformat_minor": 2
}

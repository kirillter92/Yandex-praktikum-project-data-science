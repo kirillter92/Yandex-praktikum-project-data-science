{
 "cells": [
  {
   "cell_type": "markdown",
   "metadata": {},
   "source": [
    "# Выбор локации для скважины"
   ]
  },
  {
   "cell_type": "markdown",
   "metadata": {},
   "source": [
    "Допустим, вы работаете в добывающей компании «ГлавРосГосНефть». Нужно решить, где бурить новую скважину.\n",
    "\n",
    "Вам предоставлены пробы нефти в трёх регионах: в каждом 10 000 месторождений, где измерили качество нефти и объём её запасов. Постройте модель машинного обучения, которая поможет определить регион, где добыча принесёт наибольшую прибыль. Проанализируйте возможную прибыль и риски техникой *Bootstrap.*\n",
    "\n",
    "Шаги для выбора локации:\n",
    "\n",
    "- В избранном регионе ищут месторождения, для каждого определяют значения признаков;\n",
    "- Строят модель и оценивают объём запасов;\n",
    "- Выбирают месторождения с самым высокими оценками значений. Количество месторождений зависит от бюджета компании и стоимости разработки одной скважины;\n",
    "- Прибыль равна суммарной прибыли отобранных месторождений."
   ]
  },
  {
   "cell_type": "markdown",
   "metadata": {},
   "source": [
    "## Загрузка и подготовка данных"
   ]
  },
  {
   "cell_type": "code",
   "execution_count": 1,
   "metadata": {},
   "outputs": [],
   "source": [
    "#Подключим необходимые библиотеки для нашего проекта\n",
    "import os\n",
    "import urllib.request\n",
    "import pandas as pd\n",
    "pd.set_option('display.max_columns', 100)\n",
    "pd.set_option('display.max_rows', 100)\n",
    "import numpy as np\n",
    "import matplotlib.pyplot as plt\n",
    "%matplotlib inline\n",
    "import seaborn as sns\n",
    "import warnings\n",
    "warnings.filterwarnings('ignore')\n",
    "\n",
    "\n",
    "from pathlib import Path\n",
    "from sklearn.linear_model import LinearRegression\n",
    "from sklearn.model_selection import train_test_split\n",
    "from sklearn.metrics import mean_squared_error\n",
    "from scipy import stats as st\n",
    "from numpy.random import RandomState\n",
    "state = RandomState(12345)"
   ]
  },
  {
   "cell_type": "code",
   "execution_count": 2,
   "metadata": {},
   "outputs": [
    {
     "name": "stdout",
     "output_type": "stream",
     "text": [
      "geo_data_0.csv файл не найден, будет загружен из сети\n",
      "geo_data_1.csv файл не найден, будет загружен из сети\n",
      "geo_data_2.csv файл не найден, будет загружен из сети\n"
     ]
    }
   ],
   "source": [
    "#Загрузим файлы с папки /datasets/ Либо скачаем из интернета\n",
    "Path('datasets').mkdir(parents=True, exist_ok=True)\n",
    "\n",
    "\n",
    "def get_file(file_name, url):\n",
    "    #Проверим есть ли файл\n",
    "    if not os.path.exists(file_name):\n",
    "        print(file_name, 'файл не найден, будет загружен из сети')\n",
    "        _ = urllib.request.urlretrieve(url, file_name)\n",
    "\n",
    "        \n",
    "urls = {\n",
    "    'geodata0': ('geo_data_0.csv','https://code.s3.yandex.net/datasets/geo_data_0.csv'),\n",
    "    'geodata1': ('geo_data_1.csv','https://code.s3.yandex.net/datasets/geo_data_1.csv'),\n",
    "    'geodata2': ('geo_data_2.csv','https://code.s3.yandex.net/datasets/geo_data_2.csv')\n",
    "}\n",
    "\n",
    "[get_file(*urls[k]) for k in urls]\n",
    "\n",
    "#Присвоим \n",
    "data0 = pd.read_csv(urls['geodata0'][0])\n",
    "data1 = pd.read_csv(urls['geodata1'][0])\n",
    "data2 = pd.read_csv(urls['geodata2'][0])"
   ]
  },
  {
   "cell_type": "code",
   "execution_count": 3,
   "metadata": {},
   "outputs": [
    {
     "data": {
      "text/html": [
       "<div>\n",
       "<style scoped>\n",
       "    .dataframe tbody tr th:only-of-type {\n",
       "        vertical-align: middle;\n",
       "    }\n",
       "\n",
       "    .dataframe tbody tr th {\n",
       "        vertical-align: top;\n",
       "    }\n",
       "\n",
       "    .dataframe thead th {\n",
       "        text-align: right;\n",
       "    }\n",
       "</style>\n",
       "<table border=\"1\" class=\"dataframe\">\n",
       "  <thead>\n",
       "    <tr style=\"text-align: right;\">\n",
       "      <th></th>\n",
       "      <th>id</th>\n",
       "      <th>f0</th>\n",
       "      <th>f1</th>\n",
       "      <th>f2</th>\n",
       "      <th>product</th>\n",
       "    </tr>\n",
       "  </thead>\n",
       "  <tbody>\n",
       "    <tr>\n",
       "      <td>0</td>\n",
       "      <td>txEyH</td>\n",
       "      <td>0.705745</td>\n",
       "      <td>-0.497823</td>\n",
       "      <td>1.221170</td>\n",
       "      <td>105.280062</td>\n",
       "    </tr>\n",
       "    <tr>\n",
       "      <td>1</td>\n",
       "      <td>2acmU</td>\n",
       "      <td>1.334711</td>\n",
       "      <td>-0.340164</td>\n",
       "      <td>4.365080</td>\n",
       "      <td>73.037750</td>\n",
       "    </tr>\n",
       "    <tr>\n",
       "      <td>2</td>\n",
       "      <td>409Wp</td>\n",
       "      <td>1.022732</td>\n",
       "      <td>0.151990</td>\n",
       "      <td>1.419926</td>\n",
       "      <td>85.265647</td>\n",
       "    </tr>\n",
       "    <tr>\n",
       "      <td>3</td>\n",
       "      <td>iJLyR</td>\n",
       "      <td>-0.032172</td>\n",
       "      <td>0.139033</td>\n",
       "      <td>2.978566</td>\n",
       "      <td>168.620776</td>\n",
       "    </tr>\n",
       "    <tr>\n",
       "      <td>4</td>\n",
       "      <td>Xdl7t</td>\n",
       "      <td>1.988431</td>\n",
       "      <td>0.155413</td>\n",
       "      <td>4.751769</td>\n",
       "      <td>154.036647</td>\n",
       "    </tr>\n",
       "  </tbody>\n",
       "</table>\n",
       "</div>"
      ],
      "text/plain": [
       "      id        f0        f1        f2     product\n",
       "0  txEyH  0.705745 -0.497823  1.221170  105.280062\n",
       "1  2acmU  1.334711 -0.340164  4.365080   73.037750\n",
       "2  409Wp  1.022732  0.151990  1.419926   85.265647\n",
       "3  iJLyR -0.032172  0.139033  2.978566  168.620776\n",
       "4  Xdl7t  1.988431  0.155413  4.751769  154.036647"
      ]
     },
     "metadata": {},
     "output_type": "display_data"
    },
    {
     "data": {
      "text/html": [
       "<div>\n",
       "<style scoped>\n",
       "    .dataframe tbody tr th:only-of-type {\n",
       "        vertical-align: middle;\n",
       "    }\n",
       "\n",
       "    .dataframe tbody tr th {\n",
       "        vertical-align: top;\n",
       "    }\n",
       "\n",
       "    .dataframe thead th {\n",
       "        text-align: right;\n",
       "    }\n",
       "</style>\n",
       "<table border=\"1\" class=\"dataframe\">\n",
       "  <thead>\n",
       "    <tr style=\"text-align: right;\">\n",
       "      <th></th>\n",
       "      <th>id</th>\n",
       "      <th>f0</th>\n",
       "      <th>f1</th>\n",
       "      <th>f2</th>\n",
       "      <th>product</th>\n",
       "    </tr>\n",
       "  </thead>\n",
       "  <tbody>\n",
       "    <tr>\n",
       "      <td>0</td>\n",
       "      <td>kBEdx</td>\n",
       "      <td>-15.001348</td>\n",
       "      <td>-8.276000</td>\n",
       "      <td>-0.005876</td>\n",
       "      <td>3.179103</td>\n",
       "    </tr>\n",
       "    <tr>\n",
       "      <td>1</td>\n",
       "      <td>62mP7</td>\n",
       "      <td>14.272088</td>\n",
       "      <td>-3.475083</td>\n",
       "      <td>0.999183</td>\n",
       "      <td>26.953261</td>\n",
       "    </tr>\n",
       "    <tr>\n",
       "      <td>2</td>\n",
       "      <td>vyE1P</td>\n",
       "      <td>6.263187</td>\n",
       "      <td>-5.948386</td>\n",
       "      <td>5.001160</td>\n",
       "      <td>134.766305</td>\n",
       "    </tr>\n",
       "    <tr>\n",
       "      <td>3</td>\n",
       "      <td>KcrkZ</td>\n",
       "      <td>-13.081196</td>\n",
       "      <td>-11.506057</td>\n",
       "      <td>4.999415</td>\n",
       "      <td>137.945408</td>\n",
       "    </tr>\n",
       "    <tr>\n",
       "      <td>4</td>\n",
       "      <td>AHL4O</td>\n",
       "      <td>12.702195</td>\n",
       "      <td>-8.147433</td>\n",
       "      <td>5.004363</td>\n",
       "      <td>134.766305</td>\n",
       "    </tr>\n",
       "  </tbody>\n",
       "</table>\n",
       "</div>"
      ],
      "text/plain": [
       "      id         f0         f1        f2     product\n",
       "0  kBEdx -15.001348  -8.276000 -0.005876    3.179103\n",
       "1  62mP7  14.272088  -3.475083  0.999183   26.953261\n",
       "2  vyE1P   6.263187  -5.948386  5.001160  134.766305\n",
       "3  KcrkZ -13.081196 -11.506057  4.999415  137.945408\n",
       "4  AHL4O  12.702195  -8.147433  5.004363  134.766305"
      ]
     },
     "metadata": {},
     "output_type": "display_data"
    },
    {
     "data": {
      "text/html": [
       "<div>\n",
       "<style scoped>\n",
       "    .dataframe tbody tr th:only-of-type {\n",
       "        vertical-align: middle;\n",
       "    }\n",
       "\n",
       "    .dataframe tbody tr th {\n",
       "        vertical-align: top;\n",
       "    }\n",
       "\n",
       "    .dataframe thead th {\n",
       "        text-align: right;\n",
       "    }\n",
       "</style>\n",
       "<table border=\"1\" class=\"dataframe\">\n",
       "  <thead>\n",
       "    <tr style=\"text-align: right;\">\n",
       "      <th></th>\n",
       "      <th>id</th>\n",
       "      <th>f0</th>\n",
       "      <th>f1</th>\n",
       "      <th>f2</th>\n",
       "      <th>product</th>\n",
       "    </tr>\n",
       "  </thead>\n",
       "  <tbody>\n",
       "    <tr>\n",
       "      <td>0</td>\n",
       "      <td>fwXo0</td>\n",
       "      <td>-1.146987</td>\n",
       "      <td>0.963328</td>\n",
       "      <td>-0.828965</td>\n",
       "      <td>27.758673</td>\n",
       "    </tr>\n",
       "    <tr>\n",
       "      <td>1</td>\n",
       "      <td>WJtFt</td>\n",
       "      <td>0.262778</td>\n",
       "      <td>0.269839</td>\n",
       "      <td>-2.530187</td>\n",
       "      <td>56.069697</td>\n",
       "    </tr>\n",
       "    <tr>\n",
       "      <td>2</td>\n",
       "      <td>ovLUW</td>\n",
       "      <td>0.194587</td>\n",
       "      <td>0.289035</td>\n",
       "      <td>-5.586433</td>\n",
       "      <td>62.871910</td>\n",
       "    </tr>\n",
       "    <tr>\n",
       "      <td>3</td>\n",
       "      <td>q6cA6</td>\n",
       "      <td>2.236060</td>\n",
       "      <td>-0.553760</td>\n",
       "      <td>0.930038</td>\n",
       "      <td>114.572842</td>\n",
       "    </tr>\n",
       "    <tr>\n",
       "      <td>4</td>\n",
       "      <td>WPMUX</td>\n",
       "      <td>-0.515993</td>\n",
       "      <td>1.716266</td>\n",
       "      <td>5.899011</td>\n",
       "      <td>149.600746</td>\n",
       "    </tr>\n",
       "  </tbody>\n",
       "</table>\n",
       "</div>"
      ],
      "text/plain": [
       "      id        f0        f1        f2     product\n",
       "0  fwXo0 -1.146987  0.963328 -0.828965   27.758673\n",
       "1  WJtFt  0.262778  0.269839 -2.530187   56.069697\n",
       "2  ovLUW  0.194587  0.289035 -5.586433   62.871910\n",
       "3  q6cA6  2.236060 -0.553760  0.930038  114.572842\n",
       "4  WPMUX -0.515993  1.716266  5.899011  149.600746"
      ]
     },
     "metadata": {},
     "output_type": "display_data"
    }
   ],
   "source": [
    "#Выведем первые 5 строк каждого датасета\n",
    "display(data0.head())\n",
    "display(data1.head())\n",
    "display(data2.head())"
   ]
  },
  {
   "cell_type": "code",
   "execution_count": 4,
   "metadata": {},
   "outputs": [
    {
     "name": "stdout",
     "output_type": "stream",
     "text": [
      "\n",
      "\n",
      "-------------------------Первый Датасет---------------------------------\n",
      "\n",
      "\n",
      "<class 'pandas.core.frame.DataFrame'>\n",
      "RangeIndex: 100000 entries, 0 to 99999\n",
      "Data columns (total 5 columns):\n",
      "id         100000 non-null object\n",
      "f0         100000 non-null float64\n",
      "f1         100000 non-null float64\n",
      "f2         100000 non-null float64\n",
      "product    100000 non-null float64\n",
      "dtypes: float64(4), object(1)\n",
      "memory usage: 3.8+ MB\n"
     ]
    },
    {
     "data": {
      "text/plain": [
       "None"
      ]
     },
     "metadata": {},
     "output_type": "display_data"
    },
    {
     "data": {
      "text/html": [
       "<div>\n",
       "<style scoped>\n",
       "    .dataframe tbody tr th:only-of-type {\n",
       "        vertical-align: middle;\n",
       "    }\n",
       "\n",
       "    .dataframe tbody tr th {\n",
       "        vertical-align: top;\n",
       "    }\n",
       "\n",
       "    .dataframe thead th {\n",
       "        text-align: right;\n",
       "    }\n",
       "</style>\n",
       "<table border=\"1\" class=\"dataframe\">\n",
       "  <thead>\n",
       "    <tr style=\"text-align: right;\">\n",
       "      <th></th>\n",
       "      <th>f0</th>\n",
       "      <th>f1</th>\n",
       "      <th>f2</th>\n",
       "      <th>product</th>\n",
       "    </tr>\n",
       "  </thead>\n",
       "  <tbody>\n",
       "    <tr>\n",
       "      <td>count</td>\n",
       "      <td>100000.000000</td>\n",
       "      <td>100000.000000</td>\n",
       "      <td>100000.000000</td>\n",
       "      <td>100000.000000</td>\n",
       "    </tr>\n",
       "    <tr>\n",
       "      <td>mean</td>\n",
       "      <td>0.500419</td>\n",
       "      <td>0.250143</td>\n",
       "      <td>2.502647</td>\n",
       "      <td>92.500000</td>\n",
       "    </tr>\n",
       "    <tr>\n",
       "      <td>std</td>\n",
       "      <td>0.871832</td>\n",
       "      <td>0.504433</td>\n",
       "      <td>3.248248</td>\n",
       "      <td>44.288691</td>\n",
       "    </tr>\n",
       "    <tr>\n",
       "      <td>min</td>\n",
       "      <td>-1.408605</td>\n",
       "      <td>-0.848218</td>\n",
       "      <td>-12.088328</td>\n",
       "      <td>0.000000</td>\n",
       "    </tr>\n",
       "    <tr>\n",
       "      <td>25%</td>\n",
       "      <td>-0.072580</td>\n",
       "      <td>-0.200881</td>\n",
       "      <td>0.287748</td>\n",
       "      <td>56.497507</td>\n",
       "    </tr>\n",
       "    <tr>\n",
       "      <td>50%</td>\n",
       "      <td>0.502360</td>\n",
       "      <td>0.250252</td>\n",
       "      <td>2.515969</td>\n",
       "      <td>91.849972</td>\n",
       "    </tr>\n",
       "    <tr>\n",
       "      <td>75%</td>\n",
       "      <td>1.073581</td>\n",
       "      <td>0.700646</td>\n",
       "      <td>4.715088</td>\n",
       "      <td>128.564089</td>\n",
       "    </tr>\n",
       "    <tr>\n",
       "      <td>max</td>\n",
       "      <td>2.362331</td>\n",
       "      <td>1.343769</td>\n",
       "      <td>16.003790</td>\n",
       "      <td>185.364347</td>\n",
       "    </tr>\n",
       "  </tbody>\n",
       "</table>\n",
       "</div>"
      ],
      "text/plain": [
       "                  f0             f1             f2        product\n",
       "count  100000.000000  100000.000000  100000.000000  100000.000000\n",
       "mean        0.500419       0.250143       2.502647      92.500000\n",
       "std         0.871832       0.504433       3.248248      44.288691\n",
       "min        -1.408605      -0.848218     -12.088328       0.000000\n",
       "25%        -0.072580      -0.200881       0.287748      56.497507\n",
       "50%         0.502360       0.250252       2.515969      91.849972\n",
       "75%         1.073581       0.700646       4.715088     128.564089\n",
       "max         2.362331       1.343769      16.003790     185.364347"
      ]
     },
     "metadata": {},
     "output_type": "display_data"
    },
    {
     "name": "stdout",
     "output_type": "stream",
     "text": [
      "\n",
      "\n",
      "-------------------------Второй Датасет---------------------------------\n",
      "\n",
      "\n",
      "<class 'pandas.core.frame.DataFrame'>\n",
      "RangeIndex: 100000 entries, 0 to 99999\n",
      "Data columns (total 5 columns):\n",
      "id         100000 non-null object\n",
      "f0         100000 non-null float64\n",
      "f1         100000 non-null float64\n",
      "f2         100000 non-null float64\n",
      "product    100000 non-null float64\n",
      "dtypes: float64(4), object(1)\n",
      "memory usage: 3.8+ MB\n"
     ]
    },
    {
     "data": {
      "text/plain": [
       "None"
      ]
     },
     "metadata": {},
     "output_type": "display_data"
    },
    {
     "data": {
      "text/html": [
       "<div>\n",
       "<style scoped>\n",
       "    .dataframe tbody tr th:only-of-type {\n",
       "        vertical-align: middle;\n",
       "    }\n",
       "\n",
       "    .dataframe tbody tr th {\n",
       "        vertical-align: top;\n",
       "    }\n",
       "\n",
       "    .dataframe thead th {\n",
       "        text-align: right;\n",
       "    }\n",
       "</style>\n",
       "<table border=\"1\" class=\"dataframe\">\n",
       "  <thead>\n",
       "    <tr style=\"text-align: right;\">\n",
       "      <th></th>\n",
       "      <th>f0</th>\n",
       "      <th>f1</th>\n",
       "      <th>f2</th>\n",
       "      <th>product</th>\n",
       "    </tr>\n",
       "  </thead>\n",
       "  <tbody>\n",
       "    <tr>\n",
       "      <td>count</td>\n",
       "      <td>100000.000000</td>\n",
       "      <td>100000.000000</td>\n",
       "      <td>100000.000000</td>\n",
       "      <td>100000.000000</td>\n",
       "    </tr>\n",
       "    <tr>\n",
       "      <td>mean</td>\n",
       "      <td>1.141296</td>\n",
       "      <td>-4.796579</td>\n",
       "      <td>2.494541</td>\n",
       "      <td>68.825000</td>\n",
       "    </tr>\n",
       "    <tr>\n",
       "      <td>std</td>\n",
       "      <td>8.965932</td>\n",
       "      <td>5.119872</td>\n",
       "      <td>1.703572</td>\n",
       "      <td>45.944423</td>\n",
       "    </tr>\n",
       "    <tr>\n",
       "      <td>min</td>\n",
       "      <td>-31.609576</td>\n",
       "      <td>-26.358598</td>\n",
       "      <td>-0.018144</td>\n",
       "      <td>0.000000</td>\n",
       "    </tr>\n",
       "    <tr>\n",
       "      <td>25%</td>\n",
       "      <td>-6.298551</td>\n",
       "      <td>-8.267985</td>\n",
       "      <td>1.000021</td>\n",
       "      <td>26.953261</td>\n",
       "    </tr>\n",
       "    <tr>\n",
       "      <td>50%</td>\n",
       "      <td>1.153055</td>\n",
       "      <td>-4.813172</td>\n",
       "      <td>2.011479</td>\n",
       "      <td>57.085625</td>\n",
       "    </tr>\n",
       "    <tr>\n",
       "      <td>75%</td>\n",
       "      <td>8.621015</td>\n",
       "      <td>-1.332816</td>\n",
       "      <td>3.999904</td>\n",
       "      <td>107.813044</td>\n",
       "    </tr>\n",
       "    <tr>\n",
       "      <td>max</td>\n",
       "      <td>29.421755</td>\n",
       "      <td>18.734063</td>\n",
       "      <td>5.019721</td>\n",
       "      <td>137.945408</td>\n",
       "    </tr>\n",
       "  </tbody>\n",
       "</table>\n",
       "</div>"
      ],
      "text/plain": [
       "                  f0             f1             f2        product\n",
       "count  100000.000000  100000.000000  100000.000000  100000.000000\n",
       "mean        1.141296      -4.796579       2.494541      68.825000\n",
       "std         8.965932       5.119872       1.703572      45.944423\n",
       "min       -31.609576     -26.358598      -0.018144       0.000000\n",
       "25%        -6.298551      -8.267985       1.000021      26.953261\n",
       "50%         1.153055      -4.813172       2.011479      57.085625\n",
       "75%         8.621015      -1.332816       3.999904     107.813044\n",
       "max        29.421755      18.734063       5.019721     137.945408"
      ]
     },
     "metadata": {},
     "output_type": "display_data"
    },
    {
     "name": "stdout",
     "output_type": "stream",
     "text": [
      "\n",
      "\n",
      "-------------------------Третий Датасет---------------------------------\n",
      "\n",
      "\n",
      "<class 'pandas.core.frame.DataFrame'>\n",
      "RangeIndex: 100000 entries, 0 to 99999\n",
      "Data columns (total 5 columns):\n",
      "id         100000 non-null object\n",
      "f0         100000 non-null float64\n",
      "f1         100000 non-null float64\n",
      "f2         100000 non-null float64\n",
      "product    100000 non-null float64\n",
      "dtypes: float64(4), object(1)\n",
      "memory usage: 3.8+ MB\n"
     ]
    },
    {
     "data": {
      "text/plain": [
       "None"
      ]
     },
     "metadata": {},
     "output_type": "display_data"
    },
    {
     "data": {
      "text/html": [
       "<div>\n",
       "<style scoped>\n",
       "    .dataframe tbody tr th:only-of-type {\n",
       "        vertical-align: middle;\n",
       "    }\n",
       "\n",
       "    .dataframe tbody tr th {\n",
       "        vertical-align: top;\n",
       "    }\n",
       "\n",
       "    .dataframe thead th {\n",
       "        text-align: right;\n",
       "    }\n",
       "</style>\n",
       "<table border=\"1\" class=\"dataframe\">\n",
       "  <thead>\n",
       "    <tr style=\"text-align: right;\">\n",
       "      <th></th>\n",
       "      <th>f0</th>\n",
       "      <th>f1</th>\n",
       "      <th>f2</th>\n",
       "      <th>product</th>\n",
       "    </tr>\n",
       "  </thead>\n",
       "  <tbody>\n",
       "    <tr>\n",
       "      <td>count</td>\n",
       "      <td>100000.000000</td>\n",
       "      <td>100000.000000</td>\n",
       "      <td>100000.000000</td>\n",
       "      <td>100000.000000</td>\n",
       "    </tr>\n",
       "    <tr>\n",
       "      <td>mean</td>\n",
       "      <td>0.002023</td>\n",
       "      <td>-0.002081</td>\n",
       "      <td>2.495128</td>\n",
       "      <td>95.000000</td>\n",
       "    </tr>\n",
       "    <tr>\n",
       "      <td>std</td>\n",
       "      <td>1.732045</td>\n",
       "      <td>1.730417</td>\n",
       "      <td>3.473445</td>\n",
       "      <td>44.749921</td>\n",
       "    </tr>\n",
       "    <tr>\n",
       "      <td>min</td>\n",
       "      <td>-8.760004</td>\n",
       "      <td>-7.084020</td>\n",
       "      <td>-11.970335</td>\n",
       "      <td>0.000000</td>\n",
       "    </tr>\n",
       "    <tr>\n",
       "      <td>25%</td>\n",
       "      <td>-1.162288</td>\n",
       "      <td>-1.174820</td>\n",
       "      <td>0.130359</td>\n",
       "      <td>59.450441</td>\n",
       "    </tr>\n",
       "    <tr>\n",
       "      <td>50%</td>\n",
       "      <td>0.009424</td>\n",
       "      <td>-0.009482</td>\n",
       "      <td>2.484236</td>\n",
       "      <td>94.925613</td>\n",
       "    </tr>\n",
       "    <tr>\n",
       "      <td>75%</td>\n",
       "      <td>1.158535</td>\n",
       "      <td>1.163678</td>\n",
       "      <td>4.858794</td>\n",
       "      <td>130.595027</td>\n",
       "    </tr>\n",
       "    <tr>\n",
       "      <td>max</td>\n",
       "      <td>7.238262</td>\n",
       "      <td>7.844801</td>\n",
       "      <td>16.739402</td>\n",
       "      <td>190.029838</td>\n",
       "    </tr>\n",
       "  </tbody>\n",
       "</table>\n",
       "</div>"
      ],
      "text/plain": [
       "                  f0             f1             f2        product\n",
       "count  100000.000000  100000.000000  100000.000000  100000.000000\n",
       "mean        0.002023      -0.002081       2.495128      95.000000\n",
       "std         1.732045       1.730417       3.473445      44.749921\n",
       "min        -8.760004      -7.084020     -11.970335       0.000000\n",
       "25%        -1.162288      -1.174820       0.130359      59.450441\n",
       "50%         0.009424      -0.009482       2.484236      94.925613\n",
       "75%         1.158535       1.163678       4.858794     130.595027\n",
       "max         7.238262       7.844801      16.739402     190.029838"
      ]
     },
     "metadata": {},
     "output_type": "display_data"
    }
   ],
   "source": [
    "#Изучим датасеты методом info и describe\n",
    "print('\\n\\n-------------------------Первый Датасет---------------------------------\\n\\n')\n",
    "display(data0.info())\n",
    "display(data0.describe())\n",
    "print('\\n\\n-------------------------Второй Датасет---------------------------------\\n\\n')\n",
    "display(data1.info())\n",
    "display(data1.describe())\n",
    "print('\\n\\n-------------------------Третий Датасет---------------------------------\\n\\n')\n",
    "display(data2.info())\n",
    "display(data2.describe())"
   ]
  },
  {
   "cell_type": "code",
   "execution_count": 5,
   "metadata": {},
   "outputs": [
    {
     "name": "stdout",
     "output_type": "stream",
     "text": [
      "Датасет №0, количество дубликатов:  0\n",
      "Датасет №1, количество дубликатов:  0\n",
      "Датасет №2, количество дубликатов:  0\n"
     ]
    }
   ],
   "source": [
    "#Проверим на наличие дубликатов\n",
    "print('Датасет №0, количество дубликатов: ',data0.duplicated().sum())\n",
    "print('Датасет №1, количество дубликатов: ',data1.duplicated().sum())\n",
    "print('Датасет №2, количество дубликатов: ',data2.duplicated().sum())"
   ]
  },
  {
   "cell_type": "code",
   "execution_count": 6,
   "metadata": {},
   "outputs": [
    {
     "data": {
      "text/plain": [
       "id          99990\n",
       "f0         100000\n",
       "f1         100000\n",
       "f2         100000\n",
       "product    100000\n",
       "dtype: int64"
      ]
     },
     "metadata": {},
     "output_type": "display_data"
    },
    {
     "data": {
      "text/plain": [
       "id          99996\n",
       "f0         100000\n",
       "f1         100000\n",
       "f2         100000\n",
       "product        12\n",
       "dtype: int64"
      ]
     },
     "metadata": {},
     "output_type": "display_data"
    },
    {
     "data": {
      "text/plain": [
       "id          99996\n",
       "f0         100000\n",
       "f1         100000\n",
       "f2         100000\n",
       "product    100000\n",
       "dtype: int64"
      ]
     },
     "metadata": {},
     "output_type": "display_data"
    }
   ],
   "source": [
    "#Уникальные значения таблиц\n",
    "display(data0.nunique())\n",
    "display(data1.nunique())\n",
    "display(data2.nunique())"
   ]
  },
  {
   "cell_type": "code",
   "execution_count": 7,
   "metadata": {},
   "outputs": [
    {
     "data": {
      "image/png": "[encoded data removed]",
      "text/plain": [
       "<Figure size 1152x360 with 6 Axes>"
      ]
     },
     "metadata": {
      "needs_background": "light"
     },
     "output_type": "display_data"
    }
   ],
   "source": [
    "fig, ax = plt.subplots(1,3,figsize=(16,5))\n",
    "for i,j in zip([data0,data1,data2],range(3)):    \n",
    "    sns.heatmap(i.corr(),annot=True, linewidths=.1, fmt= '.1f', ax=ax[j], cmap=\"YlGnBu\")\n",
    "    ax[j].set_title(str(j))"
   ]
  },
  {
   "cell_type": "code",
   "execution_count": 8,
   "metadata": {},
   "outputs": [
    {
     "data": {
      "text/html": [
       "<div>\n",
       "<style scoped>\n",
       "    .dataframe tbody tr th:only-of-type {\n",
       "        vertical-align: middle;\n",
       "    }\n",
       "\n",
       "    .dataframe tbody tr th {\n",
       "        vertical-align: top;\n",
       "    }\n",
       "\n",
       "    .dataframe thead th {\n",
       "        text-align: right;\n",
       "    }\n",
       "</style>\n",
       "<table border=\"1\" class=\"dataframe\">\n",
       "  <thead>\n",
       "    <tr style=\"text-align: right;\">\n",
       "      <th></th>\n",
       "      <th>f0</th>\n",
       "      <th>f1</th>\n",
       "      <th>f2</th>\n",
       "      <th>product</th>\n",
       "    </tr>\n",
       "  </thead>\n",
       "  <tbody>\n",
       "    <tr>\n",
       "      <td>f0</td>\n",
       "      <td>1.000000</td>\n",
       "      <td>-0.440723</td>\n",
       "      <td>-0.003153</td>\n",
       "      <td>0.143536</td>\n",
       "    </tr>\n",
       "    <tr>\n",
       "      <td>f1</td>\n",
       "      <td>-0.440723</td>\n",
       "      <td>1.000000</td>\n",
       "      <td>0.001724</td>\n",
       "      <td>-0.192356</td>\n",
       "    </tr>\n",
       "    <tr>\n",
       "      <td>f2</td>\n",
       "      <td>-0.003153</td>\n",
       "      <td>0.001724</td>\n",
       "      <td>1.000000</td>\n",
       "      <td>0.483663</td>\n",
       "    </tr>\n",
       "    <tr>\n",
       "      <td>product</td>\n",
       "      <td>0.143536</td>\n",
       "      <td>-0.192356</td>\n",
       "      <td>0.483663</td>\n",
       "      <td>1.000000</td>\n",
       "    </tr>\n",
       "  </tbody>\n",
       "</table>\n",
       "</div>"
      ],
      "text/plain": [
       "               f0        f1        f2   product\n",
       "f0       1.000000 -0.440723 -0.003153  0.143536\n",
       "f1      -0.440723  1.000000  0.001724 -0.192356\n",
       "f2      -0.003153  0.001724  1.000000  0.483663\n",
       "product  0.143536 -0.192356  0.483663  1.000000"
      ]
     },
     "metadata": {},
     "output_type": "display_data"
    },
    {
     "data": {
      "text/html": [
       "<div>\n",
       "<style scoped>\n",
       "    .dataframe tbody tr th:only-of-type {\n",
       "        vertical-align: middle;\n",
       "    }\n",
       "\n",
       "    .dataframe tbody tr th {\n",
       "        vertical-align: top;\n",
       "    }\n",
       "\n",
       "    .dataframe thead th {\n",
       "        text-align: right;\n",
       "    }\n",
       "</style>\n",
       "<table border=\"1\" class=\"dataframe\">\n",
       "  <thead>\n",
       "    <tr style=\"text-align: right;\">\n",
       "      <th></th>\n",
       "      <th>f0</th>\n",
       "      <th>f1</th>\n",
       "      <th>f2</th>\n",
       "      <th>product</th>\n",
       "    </tr>\n",
       "  </thead>\n",
       "  <tbody>\n",
       "    <tr>\n",
       "      <td>f0</td>\n",
       "      <td>1.000000</td>\n",
       "      <td>0.182287</td>\n",
       "      <td>-0.001777</td>\n",
       "      <td>-0.030491</td>\n",
       "    </tr>\n",
       "    <tr>\n",
       "      <td>f1</td>\n",
       "      <td>0.182287</td>\n",
       "      <td>1.000000</td>\n",
       "      <td>-0.002595</td>\n",
       "      <td>-0.010155</td>\n",
       "    </tr>\n",
       "    <tr>\n",
       "      <td>f2</td>\n",
       "      <td>-0.001777</td>\n",
       "      <td>-0.002595</td>\n",
       "      <td>1.000000</td>\n",
       "      <td>0.999397</td>\n",
       "    </tr>\n",
       "    <tr>\n",
       "      <td>product</td>\n",
       "      <td>-0.030491</td>\n",
       "      <td>-0.010155</td>\n",
       "      <td>0.999397</td>\n",
       "      <td>1.000000</td>\n",
       "    </tr>\n",
       "  </tbody>\n",
       "</table>\n",
       "</div>"
      ],
      "text/plain": [
       "               f0        f1        f2   product\n",
       "f0       1.000000  0.182287 -0.001777 -0.030491\n",
       "f1       0.182287  1.000000 -0.002595 -0.010155\n",
       "f2      -0.001777 -0.002595  1.000000  0.999397\n",
       "product -0.030491 -0.010155  0.999397  1.000000"
      ]
     },
     "metadata": {},
     "output_type": "display_data"
    },
    {
     "data": {
      "text/html": [
       "<div>\n",
       "<style scoped>\n",
       "    .dataframe tbody tr th:only-of-type {\n",
       "        vertical-align: middle;\n",
       "    }\n",
       "\n",
       "    .dataframe tbody tr th {\n",
       "        vertical-align: top;\n",
       "    }\n",
       "\n",
       "    .dataframe thead th {\n",
       "        text-align: right;\n",
       "    }\n",
       "</style>\n",
       "<table border=\"1\" class=\"dataframe\">\n",
       "  <thead>\n",
       "    <tr style=\"text-align: right;\">\n",
       "      <th></th>\n",
       "      <th>f0</th>\n",
       "      <th>f1</th>\n",
       "      <th>f2</th>\n",
       "      <th>product</th>\n",
       "    </tr>\n",
       "  </thead>\n",
       "  <tbody>\n",
       "    <tr>\n",
       "      <td>f0</td>\n",
       "      <td>1.000000</td>\n",
       "      <td>0.000528</td>\n",
       "      <td>-0.000448</td>\n",
       "      <td>-0.001987</td>\n",
       "    </tr>\n",
       "    <tr>\n",
       "      <td>f1</td>\n",
       "      <td>0.000528</td>\n",
       "      <td>1.000000</td>\n",
       "      <td>0.000779</td>\n",
       "      <td>-0.001012</td>\n",
       "    </tr>\n",
       "    <tr>\n",
       "      <td>f2</td>\n",
       "      <td>-0.000448</td>\n",
       "      <td>0.000779</td>\n",
       "      <td>1.000000</td>\n",
       "      <td>0.445871</td>\n",
       "    </tr>\n",
       "    <tr>\n",
       "      <td>product</td>\n",
       "      <td>-0.001987</td>\n",
       "      <td>-0.001012</td>\n",
       "      <td>0.445871</td>\n",
       "      <td>1.000000</td>\n",
       "    </tr>\n",
       "  </tbody>\n",
       "</table>\n",
       "</div>"
      ],
      "text/plain": [
       "               f0        f1        f2   product\n",
       "f0       1.000000  0.000528 -0.000448 -0.001987\n",
       "f1       0.000528  1.000000  0.000779 -0.001012\n",
       "f2      -0.000448  0.000779  1.000000  0.445871\n",
       "product -0.001987 -0.001012  0.445871  1.000000"
      ]
     },
     "metadata": {},
     "output_type": "display_data"
    }
   ],
   "source": [
    "#оценка корреляций признаков\n",
    "display(data0.corr())\n",
    "display(data1.corr())\n",
    "display(data2.corr())"
   ]
  },
  {
   "cell_type": "markdown",
   "metadata": {},
   "source": [
    "**Вывод:**\n",
    "* Все датасеты хорошо подготовлены, все типы данных указаны правильно, дубликатов не имеется. В каждом по 100 000 наблюдений.\n",
    "* Признак F2 очень сильно коррелирует с product\n",
    "* Имеются повторяющиеся значения в столбцах ID, видимо пробы брались несколько раз в одной и той же скважине."
   ]
  },
  {
   "cell_type": "markdown",
   "metadata": {},
   "source": [
    "## Обучение и проверка модели"
   ]
  },
  {
   "cell_type": "code",
   "execution_count": 9,
   "metadata": {},
   "outputs": [],
   "source": [
    "#Создадим листы для хранения результатов прогнозирования и их метрик\n",
    "# Через цикл проверим модели на всех трех датасетах и сохраним результаты метрик и прогнозирований в наши листы\n",
    "\n",
    "rmse_list = []\n",
    "predictions_list = []\n",
    "score_list = []\n",
    "target = []\n",
    "predictions_df = pd.DataFrame()\n",
    "target_df = pd.DataFrame()\n",
    "\n",
    "for i,j in zip([data0,data1,data2],range(3)):\n",
    "    X = i.drop(['product','id'], axis=1)\n",
    "    y = i['product']\n",
    "    X_train, X_valid, y_train, y_valid = train_test_split(\n",
    "        X, y, random_state=12345, test_size=0.25) \n",
    "    \n",
    "    lr = LinearRegression(n_jobs = -1)\n",
    "    lr.fit(X_train, y_train)\n",
    "    predictions = lr.predict(X_valid)\n",
    "    rmse = np.sqrt(np.mean((y_valid-predictions)**2))\n",
    "    rmse_list.append(rmse)\n",
    "    predictions_list.append(predictions.mean())\n",
    "    score_list.append(lr.score(X_train,y_train))\n",
    "    target.append(i['product'].mean())\n",
    "    target_df[j] = y_valid\n",
    "    predictions_df[j] = predictions"
   ]
  },
  {
   "cell_type": "code",
   "execution_count": 10,
   "metadata": {},
   "outputs": [
    {
     "data": {
      "text/html": [
       "<div>\n",
       "<style scoped>\n",
       "    .dataframe tbody tr th:only-of-type {\n",
       "        vertical-align: middle;\n",
       "    }\n",
       "\n",
       "    .dataframe tbody tr th {\n",
       "        vertical-align: top;\n",
       "    }\n",
       "\n",
       "    .dataframe thead th {\n",
       "        text-align: right;\n",
       "    }\n",
       "</style>\n",
       "<table border=\"1\" class=\"dataframe\">\n",
       "  <thead>\n",
       "    <tr style=\"text-align: right;\">\n",
       "      <th></th>\n",
       "      <th>region 1</th>\n",
       "      <th>region 2</th>\n",
       "      <th>region 3</th>\n",
       "    </tr>\n",
       "  </thead>\n",
       "  <tbody>\n",
       "    <tr>\n",
       "      <td>RMSE</td>\n",
       "      <td>37.579422</td>\n",
       "      <td>0.893099</td>\n",
       "      <td>40.029709</td>\n",
       "    </tr>\n",
       "    <tr>\n",
       "      <td>SCORE</td>\n",
       "      <td>0.274239</td>\n",
       "      <td>0.999625</td>\n",
       "      <td>0.196614</td>\n",
       "    </tr>\n",
       "    <tr>\n",
       "      <td>PREDICTED MEAN</td>\n",
       "      <td>92.592568</td>\n",
       "      <td>68.728547</td>\n",
       "      <td>94.965046</td>\n",
       "    </tr>\n",
       "    <tr>\n",
       "      <td>TARGET MEAN</td>\n",
       "      <td>92.500000</td>\n",
       "      <td>68.825000</td>\n",
       "      <td>95.000000</td>\n",
       "    </tr>\n",
       "  </tbody>\n",
       "</table>\n",
       "</div>"
      ],
      "text/plain": [
       "                 region 1   region 2   region 3\n",
       "RMSE            37.579422   0.893099  40.029709\n",
       "SCORE            0.274239   0.999625   0.196614\n",
       "PREDICTED MEAN  92.592568  68.728547  94.965046\n",
       "TARGET MEAN     92.500000  68.825000  95.000000"
      ]
     },
     "execution_count": 10,
     "metadata": {},
     "output_type": "execute_result"
    }
   ],
   "source": [
    "#Создадим таблицу с имеющимися листами, чтобы сравнить результаты\n",
    "target_df = target_df.reset_index(drop=True)\n",
    "scorelist = pd.DataFrame(\n",
    "    data=[rmse_list, score_list, predictions_list, target], \n",
    "    index=['RMSE','SCORE','PREDICTED MEAN', 'TARGET MEAN'], \n",
    "    columns=['region 1','region 2','region 3'])\n",
    "scorelist"
   ]
  },
  {
   "cell_type": "markdown",
   "metadata": {},
   "source": [
    "**Вывод**\n",
    "\n",
    "Модели первого региона и третьего показывают очень плохие результаты. Не стоит использовать их для выбора скважины в регионе.\n",
    "\n",
    "Модель второго региона показыла очень хорошие результаты, но как мы и предвидели из-за того что у цели всего лишь 12 значений из 100 000 для модели было легко спрогнозировать правильные ответ. поэтому вторую модель также опасно использовать.\n",
    "\n",
    "Предсказанное среднее и target среднее почти одинаково"
   ]
  },
  {
   "cell_type": "markdown",
   "metadata": {},
   "source": [
    "## Подготовка к расчёту прибыли"
   ]
  },
  {
   "cell_type": "code",
   "execution_count": 11,
   "metadata": {},
   "outputs": [],
   "source": [
    "#По условиям задачи : \n",
    "\n",
    "budget = 10000000000   #Бюджет на разработку скважин в регионе 10 млрд. рублей\n",
    "total_reconnaissance = 500 #При разведке исследуют 500 точек\n",
    "profit_wells = 200  # 200 лучших скважин для расчета прибыли\n",
    "profit_from_one_barrel = 450   #Прибыль с одного барреля сырья 450 рублей\n",
    "profit_from_one_product = 450000   #Доход с каждой единицы продукта 450 000 рублей"
   ]
  },
  {
   "cell_type": "code",
   "execution_count": 12,
   "metadata": {},
   "outputs": [
    {
     "data": {
      "text/plain": [
       "50000000.0"
      ]
     },
     "execution_count": 12,
     "metadata": {},
     "output_type": "execute_result"
    }
   ],
   "source": [
    "#Посчитаем цену за бурение одной скважины\n",
    "well_drilling_price = budget / profit_wells\n",
    "well_drilling_price"
   ]
  },
  {
   "cell_type": "code",
   "execution_count": 13,
   "metadata": {},
   "outputs": [
    {
     "data": {
      "text/plain": [
       "111.11111111111111"
      ]
     },
     "execution_count": 13,
     "metadata": {},
     "output_type": "execute_result"
    }
   ],
   "source": [
    "#Посчитаем Достаточный объем сырья для безубыточной разработки новой скважины\n",
    "min_product_mean  = well_drilling_price/profit_from_one_product\n",
    "min_product_mean"
   ]
  },
  {
   "cell_type": "code",
   "execution_count": 14,
   "metadata": {},
   "outputs": [],
   "source": [
    "#Напишем функцию для расчета прибыли по выбранным скважинам и предсказаниям модели. \n",
    "\n",
    "def revenue(target, probabilities, count):\n",
    "    probs_sorted = probabilities.sort_values(ascending=False)\n",
    "    selected = target[probs_sorted.index][:count]\n",
    "    return (450000 * selected.sum() - (budget))"
   ]
  },
  {
   "cell_type": "code",
   "execution_count": 15,
   "metadata": {},
   "outputs": [
    {
     "name": "stdout",
     "output_type": "stream",
     "text": [
      "Прибыль первого региона : 3.32 млрд рублей\n",
      "Прибыль второго региона : 2.42 млрд рублей\n",
      "Прибыль третьего региона :2.71 млрд рублей\n"
     ]
    }
   ],
   "source": [
    "#Посчитаем прибыль на каждый регион\n",
    "print('Прибыль первого региона : {:.2f} млрд рублей'.format(revenue(target_df[0], predictions_df[0],200)/10**9))\n",
    "print('Прибыль второго региона : {:.2f} млрд рублей'.format(revenue(target_df[1], predictions_df[1],200)/10**9))\n",
    "print('Прибыль третьего региона :{:.2f} млрд рублей'.format(revenue(target_df[2], predictions_df[2],200)/10**9))"
   ]
  },
  {
   "cell_type": "markdown",
   "metadata": {},
   "source": [
    "**Вывод:**\n",
    "\n",
    "Минимальный объем сырья в каждой скважине должен составлять 111 тыс барелей. Наши средние предсказания и средние target трех регионов не проходят минимальный порог."
   ]
  },
  {
   "cell_type": "markdown",
   "metadata": {},
   "source": [
    "## Расчёт прибыли и рисков "
   ]
  },
  {
   "cell_type": "code",
   "execution_count": 16,
   "metadata": {},
   "outputs": [
    {
     "name": "stdout",
     "output_type": "stream",
     "text": [
      "Средняя прибыль: 0.4259385269105923\n",
      "2.5%-квантиль: -0.10209009483793653\n",
      "Риск: 6.0\n",
      "95% доверительный интервал:  (-102090094.83793654, 947976353.358369)\n"
     ]
    }
   ],
   "source": [
    "#Техникой bootstrap посчитаем среднюю прибыль , 95% доверительный интервал и риск убытков для первого региона\n",
    "import scipy as sp\n",
    "import scipy.stats\n",
    "\n",
    "revenues = []\n",
    "\n",
    "for i in range(1000):\n",
    "    target_subsample = target_df[0].sample(n=500, replace=True, random_state=state)\n",
    "    probs_subsample = predictions_df[0][target_subsample.index]\n",
    "    revenues.append(revenue(target_subsample, probs_subsample, 200))\n",
    "\n",
    "revenues = pd.Series(revenues)\n",
    "lower = revenues.quantile(0.025)\n",
    "mean = revenues.mean()\n",
    "risks = (revenues < 0).mean()* 100\n",
    "print(\"Средняя прибыль:\", mean/10**9)\n",
    "print(\"2.5%-квантиль:\", lower/10**9)\n",
    "print(\"Риск: {}\".format(risks))\n",
    "final_revenues = []\n",
    "confidence_interval = (revenues.quantile(0.025), revenues.quantile(0.975))\n",
    "print('95% доверительный интервал: ', confidence_interval)\n",
    "final_revenues.append(('region 1', mean/10**9, lower/10**9, confidence_interval, risks))"
   ]
  },
  {
   "cell_type": "code",
   "execution_count": 17,
   "metadata": {},
   "outputs": [
    {
     "name": "stdout",
     "output_type": "stream",
     "text": [
      "Средняя прибыль: 0.5182594936973249\n",
      "2.5%-квантиль: 0.1281232314330863\n",
      "Риск: 0.3\n",
      "Риск: 0.3 %\n",
      "95% доверительный интервал:  (128123231.43308629, 953612982.0669085)\n"
     ]
    }
   ],
   "source": [
    "#Техникой bootstrap посчитаем среднюю прибыль , 95% доверительный интервал и риск убытков для второго региона\n",
    "revenues = []\n",
    "\n",
    "for i in range(1000):\n",
    "    target_subsample = target_df[1].sample(n=500, replace=True, random_state=state)\n",
    "    probs_subsample = predictions_df[1][target_subsample.index]\n",
    "    revenues.append(revenue(target_subsample, probs_subsample, 200))\n",
    "\n",
    "revenues = pd.Series(revenues)\n",
    "lower = revenues.quantile(0.025)\n",
    "mean = revenues.mean()\n",
    "risks = (revenues < 0).mean()* 100\n",
    "print(\"Средняя прибыль:\", mean/10**9)\n",
    "print(\"2.5%-квантиль:\", lower/10**9)\n",
    "print(\"Риск: {}\".format(risks))\n",
    "confidence_interval = (revenues.quantile(0.025), revenues.quantile(0.975))\n",
    "print(\"Риск:\", (revenues < 0).mean()* 100, '%')\n",
    "print('95% доверительный интервал: ', confidence_interval)\n",
    "final_revenues.append(('region 2', mean/10**9, lower/10**9, confidence_interval, risks))"
   ]
  },
  {
   "cell_type": "code",
   "execution_count": 18,
   "metadata": {},
   "outputs": [
    {
     "name": "stdout",
     "output_type": "stream",
     "text": [
      "Средняя прибыль: 0.42019400534405005\n",
      "2.5%-квантиль: -0.11585260916001143\n",
      "95% доверительный интервал:  (-115852609.16001143, 989629939.844574)\n",
      "Риск: 6.2 %\n"
     ]
    }
   ],
   "source": [
    "#Техникой bootstrap посчитаем среднюю прибыль , 95% доверительный интервал и риск убытков для третьего региона\n",
    "revenues = []\n",
    "total_wells = 500\n",
    "profit_wells = 200\n",
    "\n",
    "for i in range(1000):\n",
    "    target_subsample = target_df[2].sample(n=total_wells,replace=True, random_state=state)\n",
    "    probs_subsample = predictions_df[2][target_subsample.index]\n",
    "    revenues.append(revenue(target_subsample, probs_subsample, profit_wells))\n",
    "\n",
    "revenues = pd.Series(revenues)\n",
    "lower = revenues.quantile(0.025)\n",
    "mean = revenues.mean()\n",
    "risks = (revenues < 0).mean()* 100\n",
    "#interval = interval = st.t.interval(0.95, len(revenues)-1, revenues.mean()/10**9, revenues.sem()/10**9)\n",
    "print(\"Средняя прибыль:\", mean/10**9)\n",
    "print(\"2.5%-квантиль:\", lower/10**9)\n",
    "confidence_interval = (revenues.quantile(0.025), revenues.quantile(0.975))\n",
    "print('95% доверительный интервал: ', confidence_interval)\n",
    "print(\"Риск:\", (revenues < 0).mean()* 100, '%')\n",
    "final_revenues.append(('region 3', mean/10**9, lower/10**9, confidence_interval, risks))"
   ]
  },
  {
   "cell_type": "code",
   "execution_count": 19,
   "metadata": {},
   "outputs": [
    {
     "data": {
      "text/html": [
       "<style  type=\"text/css\" >\n",
       "    #T_84820d96_9586_11ec_8758_02420a39a6a9row0_col1 {\n",
       "            background-color:  #d9f8d9;\n",
       "            color:  #000000;\n",
       "        }    #T_84820d96_9586_11ec_8758_02420a39a6a9row0_col2 {\n",
       "            background-color:  #d9f8d9;\n",
       "            color:  #000000;\n",
       "        }    #T_84820d96_9586_11ec_8758_02420a39a6a9row0_col4 {\n",
       "            background-color:  #078407;\n",
       "            color:  #f1f1f1;\n",
       "        }    #T_84820d96_9586_11ec_8758_02420a39a6a9row1_col1 {\n",
       "            background-color:  #008000;\n",
       "            color:  #f1f1f1;\n",
       "        }    #T_84820d96_9586_11ec_8758_02420a39a6a9row1_col2 {\n",
       "            background-color:  #008000;\n",
       "            color:  #f1f1f1;\n",
       "        }    #T_84820d96_9586_11ec_8758_02420a39a6a9row1_col4 {\n",
       "            background-color:  #e5ffe5;\n",
       "            color:  #000000;\n",
       "        }    #T_84820d96_9586_11ec_8758_02420a39a6a9row2_col1 {\n",
       "            background-color:  #e5ffe5;\n",
       "            color:  #000000;\n",
       "        }    #T_84820d96_9586_11ec_8758_02420a39a6a9row2_col2 {\n",
       "            background-color:  #e5ffe5;\n",
       "            color:  #000000;\n",
       "        }    #T_84820d96_9586_11ec_8758_02420a39a6a9row2_col4 {\n",
       "            background-color:  #008000;\n",
       "            color:  #f1f1f1;\n",
       "        }</style><table id=\"T_84820d96_9586_11ec_8758_02420a39a6a9\" ><thead>    <tr>        <th class=\"blank level0\" ></th>        <th class=\"col_heading level0 col0\" >Region</th>        <th class=\"col_heading level0 col1\" >Mean Revenue</th>        <th class=\"col_heading level0 col2\" >Quantile 2.5%</th>        <th class=\"col_heading level0 col3\" >Interval 95%</th>        <th class=\"col_heading level0 col4\" >Risks %</th>    </tr></thead><tbody>\n",
       "                <tr>\n",
       "                        <th id=\"T_84820d96_9586_11ec_8758_02420a39a6a9level0_row0\" class=\"row_heading level0 row0\" >0</th>\n",
       "                        <td id=\"T_84820d96_9586_11ec_8758_02420a39a6a9row0_col0\" class=\"data row0 col0\" >region 1</td>\n",
       "                        <td id=\"T_84820d96_9586_11ec_8758_02420a39a6a9row0_col1\" class=\"data row0 col1\" >0.425939</td>\n",
       "                        <td id=\"T_84820d96_9586_11ec_8758_02420a39a6a9row0_col2\" class=\"data row0 col2\" >-0.10209</td>\n",
       "                        <td id=\"T_84820d96_9586_11ec_8758_02420a39a6a9row0_col3\" class=\"data row0 col3\" >(-102090094.83793654, 947976353.358369)</td>\n",
       "                        <td id=\"T_84820d96_9586_11ec_8758_02420a39a6a9row0_col4\" class=\"data row0 col4\" >6</td>\n",
       "            </tr>\n",
       "            <tr>\n",
       "                        <th id=\"T_84820d96_9586_11ec_8758_02420a39a6a9level0_row1\" class=\"row_heading level0 row1\" >1</th>\n",
       "                        <td id=\"T_84820d96_9586_11ec_8758_02420a39a6a9row1_col0\" class=\"data row1 col0\" >region 2</td>\n",
       "                        <td id=\"T_84820d96_9586_11ec_8758_02420a39a6a9row1_col1\" class=\"data row1 col1\" >0.518259</td>\n",
       "                        <td id=\"T_84820d96_9586_11ec_8758_02420a39a6a9row1_col2\" class=\"data row1 col2\" >0.128123</td>\n",
       "                        <td id=\"T_84820d96_9586_11ec_8758_02420a39a6a9row1_col3\" class=\"data row1 col3\" >(128123231.43308629, 953612982.0669085)</td>\n",
       "                        <td id=\"T_84820d96_9586_11ec_8758_02420a39a6a9row1_col4\" class=\"data row1 col4\" >0.3</td>\n",
       "            </tr>\n",
       "            <tr>\n",
       "                        <th id=\"T_84820d96_9586_11ec_8758_02420a39a6a9level0_row2\" class=\"row_heading level0 row2\" >2</th>\n",
       "                        <td id=\"T_84820d96_9586_11ec_8758_02420a39a6a9row2_col0\" class=\"data row2 col0\" >region 3</td>\n",
       "                        <td id=\"T_84820d96_9586_11ec_8758_02420a39a6a9row2_col1\" class=\"data row2 col1\" >0.420194</td>\n",
       "                        <td id=\"T_84820d96_9586_11ec_8758_02420a39a6a9row2_col2\" class=\"data row2 col2\" >-0.115853</td>\n",
       "                        <td id=\"T_84820d96_9586_11ec_8758_02420a39a6a9row2_col3\" class=\"data row2 col3\" >(-115852609.16001143, 989629939.844574)</td>\n",
       "                        <td id=\"T_84820d96_9586_11ec_8758_02420a39a6a9row2_col4\" class=\"data row2 col4\" >6.2</td>\n",
       "            </tr>\n",
       "    </tbody></table>"
      ],
      "text/plain": [
       "<pandas.io.formats.style.Styler at 0x7f8eaa570bd0>"
      ]
     },
     "execution_count": 19,
     "metadata": {},
     "output_type": "execute_result"
    }
   ],
   "source": [
    "#Выведем все результаты в одной таблице для сравнения.\n",
    "report_df = pd.DataFrame(final_revenues, columns=['Region', 'Mean Revenue', 'Quantile 2.5%', 'Interval 95%', 'Risks %'])\n",
    "cm = sns.light_palette(\"green\", as_cmap=True)\n",
    "s = report_df.style.background_gradient(cmap=cm)\n",
    "s"
   ]
  },
  {
   "cell_type": "markdown",
   "metadata": {},
   "source": [
    "**Вывод**\n",
    "\n",
    "Второй регион показывает хорошие результаты. Но так как мы знаем, что второй регион слишком рискованный, слишком странные у него данные - мы не можем его выбрать.\n",
    "\n",
    "Поэтому для бурения будет лучше выбрать первый регион. Но учитывая оценки прогнозирования, я бы вообще не принимал никаких серьезных решений на основе полученных результатов.\n"
   ]
  },
  {
   "cell_type": "markdown",
   "metadata": {},
   "source": [
    "**Общий вывод**\n",
    "Мы получили три датасета - три разные региона для прогнозирования объема сырья и прибыли. Все датасеты были хорошо подготовлены, не имелось никаких дубликатов, пустых значений. Но второй датасет оказался сильно отличимым от других, у него в столбце product были лишь 12 уникальных значений. Что позволило нашей модели хорошо делать прогнозы по второму региону ,поэтому нам нельзя использовать эту модель и сам регион. Слишком рискованно.\n",
    "\n",
    "Исходя из всех результатов моделей мы получили такие результаты:\n",
    "\n",
    "Регион 1: RMSE : 37.5 ; Score 0.27\n",
    "Регион 2: RMSE : 0.89 ; Score 0.99\n",
    "Регион 3: RMSE : 40.02 ; Score 0.19\n",
    "\n",
    "Провели расчет прибыли и пришли к выводу, что минимальный объем сырья должен составлять 111 тыс барелей. Наши средние показатели трех регионов не доходят до минимального порога.\n",
    "\n",
    "Исходя из всех полученных данных: второй регион имеет наибольшие шансы на получение прибыли. Но учитывая тот факт, что все модели показали ужасные результаты, и из худшего мы выбрали наибольшее лучший, я бы не советовал использовать эти данные для принятия окончательных решений.\n"
   ]
  }
 ],
 "metadata": {
  "ExecuteTimeLog": [
   {
    "duration": 1653,
    "start_time": "2022-02-24T14:52:19.824Z"
   },
   {
    "duration": 1587,
    "start_time": "2022-02-24T14:56:36.804Z"
   },
   {
    "duration": 5095,
    "start_time": "2022-02-24T14:56:38.394Z"
   },
   {
    "duration": 83,
    "start_time": "2022-02-24T14:56:43.492Z"
   },
   {
    "duration": 361,
    "start_time": "2022-02-24T14:56:43.578Z"
   },
   {
    "duration": 191,
    "start_time": "2022-02-24T14:58:46.472Z"
   },
   {
    "duration": 1371,
    "start_time": "2022-02-24T14:58:47.409Z"
   },
   {
    "duration": 1372,
    "start_time": "2022-02-24T14:58:50.916Z"
   },
   {
    "duration": 65,
    "start_time": "2022-02-24T14:58:52.292Z"
   },
   {
    "duration": 458,
    "start_time": "2022-02-24T14:59:09.815Z"
   },
   {
    "duration": 15,
    "start_time": "2022-02-24T14:59:25.595Z"
   },
   {
    "duration": 5,
    "start_time": "2022-02-24T15:01:49.320Z"
   },
   {
    "duration": 6,
    "start_time": "2022-02-24T15:01:57.478Z"
   },
   {
    "duration": 7,
    "start_time": "2022-02-24T15:02:06.846Z"
   },
   {
    "duration": 5,
    "start_time": "2022-02-24T15:02:16.958Z"
   },
   {
    "duration": 31,
    "start_time": "2022-02-24T15:02:27.311Z"
   },
   {
    "duration": 5517,
    "start_time": "2022-02-24T15:03:29.690Z"
   },
   {
    "duration": 5562,
    "start_time": "2022-02-24T15:03:48.748Z"
   },
   {
    "duration": 5927,
    "start_time": "2022-02-24T15:04:11.993Z"
   },
   {
    "duration": 755,
    "start_time": "2022-02-24T15:04:27.984Z"
   },
   {
    "duration": 116,
    "start_time": "2022-02-24T15:04:47.205Z"
   },
   {
    "duration": 1126,
    "start_time": "2022-02-24T15:22:08.881Z"
   },
   {
    "duration": 6728,
    "start_time": "2022-02-24T15:22:10.183Z"
   },
   {
    "duration": 20,
    "start_time": "2022-02-24T15:22:16.913Z"
   },
   {
    "duration": 134,
    "start_time": "2022-02-24T15:22:16.935Z"
   },
   {
    "duration": 104,
    "start_time": "2022-02-24T15:22:17.071Z"
   },
   {
    "duration": 873,
    "start_time": "2022-02-24T15:22:17.177Z"
   },
   {
    "duration": 740,
    "start_time": "2022-02-24T15:22:18.051Z"
   },
   {
    "duration": 30,
    "start_time": "2022-02-24T15:22:18.792Z"
   },
   {
    "duration": 407,
    "start_time": "2022-02-24T15:25:02.347Z"
   },
   {
    "duration": 9,
    "start_time": "2022-02-24T15:25:03.717Z"
   },
   {
    "duration": 3,
    "start_time": "2022-02-24T15:26:14.615Z"
   },
   {
    "duration": 3,
    "start_time": "2022-02-24T15:26:15.130Z"
   },
   {
    "duration": 4,
    "start_time": "2022-02-24T15:26:15.336Z"
   },
   {
    "duration": 4,
    "start_time": "2022-02-24T15:26:23.571Z"
   },
   {
    "duration": 19,
    "start_time": "2022-02-24T15:26:24.226Z"
   },
   {
    "duration": 2991,
    "start_time": "2022-02-24T15:27:31.524Z"
   },
   {
    "duration": 3035,
    "start_time": "2022-02-24T15:27:34.517Z"
   },
   {
    "duration": 3176,
    "start_time": "2022-02-24T15:27:37.554Z"
   },
   {
    "duration": 91339,
    "start_time": "2022-02-24T15:27:40.957Z"
   }
  ],
  "kernelspec": {
   "display_name": "Python 3 (ipykernel)",
   "language": "python",
   "name": "python3"
  },
  "language_info": {
   "codemirror_mode": {
    "name": "ipython",
    "version": 3
   },
   "file_extension": ".py",
   "mimetype": "text/x-python",
   "name": "python",
   "nbconvert_exporter": "python",
   "pygments_lexer": "ipython3",
   "version": "3.9.5"
  },
  "toc": {
   "base_numbering": 1,
   "nav_menu": {},
   "number_sections": true,
   "sideBar": true,
   "skip_h1_title": true,
   "title_cell": "Table of Contents",
   "title_sidebar": "Contents",
   "toc_cell": false,
   "toc_position": {},
   "toc_section_display": true,
   "toc_window_display": false
  }
 },
 "nbformat": 4,
 "nbformat_minor": 2
}

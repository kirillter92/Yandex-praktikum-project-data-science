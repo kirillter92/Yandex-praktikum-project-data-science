{
 "cells": [
  {
   "cell_type": "markdown",
   "metadata": {
    "toc": true
   },
   "source": [
    "<h1>Содержание<span class=\"tocSkip\"></span></h1>\n",
    "<div class=\"toc\"><ul class=\"toc-item\"><li><ul class=\"toc-item\"><li><span><a href=\"#Общее-впечатление\" data-toc-modified-id=\"Общее-впечатление-0.1\"><span class=\"toc-item-num\">0.1&nbsp;&nbsp;</span><font color=\"orange\">Общее впечатление</font></a></span></li><li><span><a href=\"#Общее-впечатление-(ревью-2)\" data-toc-modified-id=\"Общее-впечатление-(ревью-2)-0.2\"><span class=\"toc-item-num\">0.2&nbsp;&nbsp;</span><font color=\"orange\">Общее впечатление (ревью 2)</font></a></span></li></ul></li><li><span><a href=\"#Подготовка-данных\" data-toc-modified-id=\"Подготовка-данных-1\"><span class=\"toc-item-num\">1&nbsp;&nbsp;</span>Подготовка данных</a></span></li><li><span><a href=\"#Исследование-задачи\" data-toc-modified-id=\"Исследование-задачи-2\"><span class=\"toc-item-num\">2&nbsp;&nbsp;</span>Исследование задачи</a></span></li><li><span><a href=\"#Борьба-с-дисбалансом\" data-toc-modified-id=\"Борьба-с-дисбалансом-3\"><span class=\"toc-item-num\">3&nbsp;&nbsp;</span>Борьба с дисбалансом</a></span></li><li><span><a href=\"#Тестирование-модели\" data-toc-modified-id=\"Тестирование-модели-4\"><span class=\"toc-item-num\">4&nbsp;&nbsp;</span>Тестирование модели</a></span></li><li><span><a href=\"#Чек-лист-готовности-проекта\" data-toc-modified-id=\"Чек-лист-готовности-проекта-5\"><span class=\"toc-item-num\">5&nbsp;&nbsp;</span>Чек-лист готовности проекта</a></span></li></ul></div>"
   ]
  },
  {
   "cell_type": "markdown",
   "metadata": {},
   "source": [
    "# Отток клиентов"
   ]
  },
  {
   "cell_type": "markdown",
   "metadata": {},
   "source": [
    "Из «Бета-Банка» стали уходить клиенты. Каждый месяц. Немного, но заметно. Банковские маркетологи посчитали: сохранять текущих клиентов дешевле, чем привлекать новых.\n",
    "\n",
    "Нужно спрогнозировать, уйдёт клиент из банка в ближайшее время или нет. Вам предоставлены исторические данные о поведении клиентов и расторжении договоров с банком. \n",
    "\n",
    "Постройте модель с предельно большим значением *F1*-меры. Чтобы сдать проект успешно, нужно довести метрику до 0.59. Проверьте *F1*-меру на тестовой выборке самостоятельно.\n",
    "\n",
    "Дополнительно измеряйте *AUC-ROC*, сравнивайте её значение с *F1*-мерой.\n",
    "\n",
    "Источник данных: [https://www.kaggle.com/barelydedicated/bank-customer-churn-modeling](https://www.kaggle.com/barelydedicated/bank-customer-churn-modeling)"
   ]
  },
  {
   "cell_type": "markdown",
   "metadata": {},
   "source": [
    "## Подготовка данных"
   ]
  },
  {
   "cell_type": "code",
   "execution_count": 1,
   "metadata": {},
   "outputs": [],
   "source": [
    "#Подключим все необходимые библиотеки для нашего проекта\n",
    "import pandas as pd\n",
    "import numpy as np\n",
    "import matplotlib.pyplot as plt\n",
    "import seaborn as sns\n",
    "import itertools\n",
    "from sklearn.linear_model import LogisticRegression\n",
    "from sklearn.ensemble import RandomForestClassifier\n",
    "from sklearn.model_selection import train_test_split, KFold, cross_val_score, ShuffleSplit\n",
    "from sklearn.preprocessing import StandardScaler, OrdinalEncoder\n",
    "from sklearn.impute import SimpleImputer\n",
    "from sklearn.metrics import accuracy_score, confusion_matrix, f1_score, roc_curve, roc_auc_score\n",
    "from sklearn.utils import shuffle\n",
    "import warnings\n",
    "warnings.filterwarnings('ignore')"
   ]
  },
  {
   "cell_type": "code",
   "execution_count": 2,
   "metadata": {},
   "outputs": [
    {
     "data": {
      "text/html": [
       "<div>\n",
       "<style scoped>\n",
       "    .dataframe tbody tr th:only-of-type {\n",
       "        vertical-align: middle;\n",
       "    }\n",
       "\n",
       "    .dataframe tbody tr th {\n",
       "        vertical-align: top;\n",
       "    }\n",
       "\n",
       "    .dataframe thead th {\n",
       "        text-align: right;\n",
       "    }\n",
       "</style>\n",
       "<table border=\"1\" class=\"dataframe\">\n",
       "  <thead>\n",
       "    <tr style=\"text-align: right;\">\n",
       "      <th></th>\n",
       "      <th>RowNumber</th>\n",
       "      <th>CustomerId</th>\n",
       "      <th>Surname</th>\n",
       "      <th>CreditScore</th>\n",
       "      <th>Geography</th>\n",
       "      <th>Gender</th>\n",
       "      <th>Age</th>\n",
       "      <th>Tenure</th>\n",
       "      <th>Balance</th>\n",
       "      <th>NumOfProducts</th>\n",
       "      <th>HasCrCard</th>\n",
       "      <th>IsActiveMember</th>\n",
       "      <th>EstimatedSalary</th>\n",
       "      <th>Exited</th>\n",
       "    </tr>\n",
       "  </thead>\n",
       "  <tbody>\n",
       "    <tr>\n",
       "      <td>0</td>\n",
       "      <td>1</td>\n",
       "      <td>15634602</td>\n",
       "      <td>Hargrave</td>\n",
       "      <td>619</td>\n",
       "      <td>France</td>\n",
       "      <td>Female</td>\n",
       "      <td>42</td>\n",
       "      <td>2.0</td>\n",
       "      <td>0.00</td>\n",
       "      <td>1</td>\n",
       "      <td>1</td>\n",
       "      <td>1</td>\n",
       "      <td>101348.88</td>\n",
       "      <td>1</td>\n",
       "    </tr>\n",
       "    <tr>\n",
       "      <td>1</td>\n",
       "      <td>2</td>\n",
       "      <td>15647311</td>\n",
       "      <td>Hill</td>\n",
       "      <td>608</td>\n",
       "      <td>Spain</td>\n",
       "      <td>Female</td>\n",
       "      <td>41</td>\n",
       "      <td>1.0</td>\n",
       "      <td>83807.86</td>\n",
       "      <td>1</td>\n",
       "      <td>0</td>\n",
       "      <td>1</td>\n",
       "      <td>112542.58</td>\n",
       "      <td>0</td>\n",
       "    </tr>\n",
       "    <tr>\n",
       "      <td>2</td>\n",
       "      <td>3</td>\n",
       "      <td>15619304</td>\n",
       "      <td>Onio</td>\n",
       "      <td>502</td>\n",
       "      <td>France</td>\n",
       "      <td>Female</td>\n",
       "      <td>42</td>\n",
       "      <td>8.0</td>\n",
       "      <td>159660.80</td>\n",
       "      <td>3</td>\n",
       "      <td>1</td>\n",
       "      <td>0</td>\n",
       "      <td>113931.57</td>\n",
       "      <td>1</td>\n",
       "    </tr>\n",
       "    <tr>\n",
       "      <td>3</td>\n",
       "      <td>4</td>\n",
       "      <td>15701354</td>\n",
       "      <td>Boni</td>\n",
       "      <td>699</td>\n",
       "      <td>France</td>\n",
       "      <td>Female</td>\n",
       "      <td>39</td>\n",
       "      <td>1.0</td>\n",
       "      <td>0.00</td>\n",
       "      <td>2</td>\n",
       "      <td>0</td>\n",
       "      <td>0</td>\n",
       "      <td>93826.63</td>\n",
       "      <td>0</td>\n",
       "    </tr>\n",
       "    <tr>\n",
       "      <td>4</td>\n",
       "      <td>5</td>\n",
       "      <td>15737888</td>\n",
       "      <td>Mitchell</td>\n",
       "      <td>850</td>\n",
       "      <td>Spain</td>\n",
       "      <td>Female</td>\n",
       "      <td>43</td>\n",
       "      <td>2.0</td>\n",
       "      <td>125510.82</td>\n",
       "      <td>1</td>\n",
       "      <td>1</td>\n",
       "      <td>1</td>\n",
       "      <td>79084.10</td>\n",
       "      <td>0</td>\n",
       "    </tr>\n",
       "  </tbody>\n",
       "</table>\n",
       "</div>"
      ],
      "text/plain": [
       "   RowNumber  CustomerId   Surname  CreditScore Geography  Gender  Age  \\\n",
       "0          1    15634602  Hargrave          619    France  Female   42   \n",
       "1          2    15647311      Hill          608     Spain  Female   41   \n",
       "2          3    15619304      Onio          502    France  Female   42   \n",
       "3          4    15701354      Boni          699    France  Female   39   \n",
       "4          5    15737888  Mitchell          850     Spain  Female   43   \n",
       "\n",
       "   Tenure    Balance  NumOfProducts  HasCrCard  IsActiveMember  \\\n",
       "0     2.0       0.00              1          1               1   \n",
       "1     1.0   83807.86              1          0               1   \n",
       "2     8.0  159660.80              3          1               0   \n",
       "3     1.0       0.00              2          0               0   \n",
       "4     2.0  125510.82              1          1               1   \n",
       "\n",
       "   EstimatedSalary  Exited  \n",
       "0        101348.88       1  \n",
       "1        112542.58       0  \n",
       "2        113931.57       1  \n",
       "3         93826.63       0  \n",
       "4         79084.10       0  "
      ]
     },
     "metadata": {},
     "output_type": "display_data"
    },
    {
     "data": {
      "text/html": [
       "<div>\n",
       "<style scoped>\n",
       "    .dataframe tbody tr th:only-of-type {\n",
       "        vertical-align: middle;\n",
       "    }\n",
       "\n",
       "    .dataframe tbody tr th {\n",
       "        vertical-align: top;\n",
       "    }\n",
       "\n",
       "    .dataframe thead th {\n",
       "        text-align: right;\n",
       "    }\n",
       "</style>\n",
       "<table border=\"1\" class=\"dataframe\">\n",
       "  <thead>\n",
       "    <tr style=\"text-align: right;\">\n",
       "      <th></th>\n",
       "      <th>RowNumber</th>\n",
       "      <th>CustomerId</th>\n",
       "      <th>Surname</th>\n",
       "      <th>CreditScore</th>\n",
       "      <th>Geography</th>\n",
       "      <th>Gender</th>\n",
       "      <th>Age</th>\n",
       "      <th>Tenure</th>\n",
       "      <th>Balance</th>\n",
       "      <th>NumOfProducts</th>\n",
       "      <th>HasCrCard</th>\n",
       "      <th>IsActiveMember</th>\n",
       "      <th>EstimatedSalary</th>\n",
       "      <th>Exited</th>\n",
       "    </tr>\n",
       "  </thead>\n",
       "  <tbody>\n",
       "    <tr>\n",
       "      <td>9995</td>\n",
       "      <td>9996</td>\n",
       "      <td>15606229</td>\n",
       "      <td>Obijiaku</td>\n",
       "      <td>771</td>\n",
       "      <td>France</td>\n",
       "      <td>Male</td>\n",
       "      <td>39</td>\n",
       "      <td>5.0</td>\n",
       "      <td>0.00</td>\n",
       "      <td>2</td>\n",
       "      <td>1</td>\n",
       "      <td>0</td>\n",
       "      <td>96270.64</td>\n",
       "      <td>0</td>\n",
       "    </tr>\n",
       "    <tr>\n",
       "      <td>9996</td>\n",
       "      <td>9997</td>\n",
       "      <td>15569892</td>\n",
       "      <td>Johnstone</td>\n",
       "      <td>516</td>\n",
       "      <td>France</td>\n",
       "      <td>Male</td>\n",
       "      <td>35</td>\n",
       "      <td>10.0</td>\n",
       "      <td>57369.61</td>\n",
       "      <td>1</td>\n",
       "      <td>1</td>\n",
       "      <td>1</td>\n",
       "      <td>101699.77</td>\n",
       "      <td>0</td>\n",
       "    </tr>\n",
       "    <tr>\n",
       "      <td>9997</td>\n",
       "      <td>9998</td>\n",
       "      <td>15584532</td>\n",
       "      <td>Liu</td>\n",
       "      <td>709</td>\n",
       "      <td>France</td>\n",
       "      <td>Female</td>\n",
       "      <td>36</td>\n",
       "      <td>7.0</td>\n",
       "      <td>0.00</td>\n",
       "      <td>1</td>\n",
       "      <td>0</td>\n",
       "      <td>1</td>\n",
       "      <td>42085.58</td>\n",
       "      <td>1</td>\n",
       "    </tr>\n",
       "    <tr>\n",
       "      <td>9998</td>\n",
       "      <td>9999</td>\n",
       "      <td>15682355</td>\n",
       "      <td>Sabbatini</td>\n",
       "      <td>772</td>\n",
       "      <td>Germany</td>\n",
       "      <td>Male</td>\n",
       "      <td>42</td>\n",
       "      <td>3.0</td>\n",
       "      <td>75075.31</td>\n",
       "      <td>2</td>\n",
       "      <td>1</td>\n",
       "      <td>0</td>\n",
       "      <td>92888.52</td>\n",
       "      <td>1</td>\n",
       "    </tr>\n",
       "    <tr>\n",
       "      <td>9999</td>\n",
       "      <td>10000</td>\n",
       "      <td>15628319</td>\n",
       "      <td>Walker</td>\n",
       "      <td>792</td>\n",
       "      <td>France</td>\n",
       "      <td>Female</td>\n",
       "      <td>28</td>\n",
       "      <td>NaN</td>\n",
       "      <td>130142.79</td>\n",
       "      <td>1</td>\n",
       "      <td>1</td>\n",
       "      <td>0</td>\n",
       "      <td>38190.78</td>\n",
       "      <td>0</td>\n",
       "    </tr>\n",
       "  </tbody>\n",
       "</table>\n",
       "</div>"
      ],
      "text/plain": [
       "      RowNumber  CustomerId    Surname  CreditScore Geography  Gender  Age  \\\n",
       "9995       9996    15606229   Obijiaku          771    France    Male   39   \n",
       "9996       9997    15569892  Johnstone          516    France    Male   35   \n",
       "9997       9998    15584532        Liu          709    France  Female   36   \n",
       "9998       9999    15682355  Sabbatini          772   Germany    Male   42   \n",
       "9999      10000    15628319     Walker          792    France  Female   28   \n",
       "\n",
       "      Tenure    Balance  NumOfProducts  HasCrCard  IsActiveMember  \\\n",
       "9995     5.0       0.00              2          1               0   \n",
       "9996    10.0   57369.61              1          1               1   \n",
       "9997     7.0       0.00              1          0               1   \n",
       "9998     3.0   75075.31              2          1               0   \n",
       "9999     NaN  130142.79              1          1               0   \n",
       "\n",
       "      EstimatedSalary  Exited  \n",
       "9995         96270.64       0  \n",
       "9996        101699.77       0  \n",
       "9997         42085.58       1  \n",
       "9998         92888.52       1  \n",
       "9999         38190.78       0  "
      ]
     },
     "metadata": {},
     "output_type": "display_data"
    }
   ],
   "source": [
    "df = pd.read_csv('/datasets/Churn.csv')\n",
    "display(df.head(5))\n",
    "display(df.tail(5))"
   ]
  },
  {
   "cell_type": "code",
   "execution_count": 3,
   "metadata": {},
   "outputs": [
    {
     "name": "stdout",
     "output_type": "stream",
     "text": [
      "<class 'pandas.core.frame.DataFrame'>\n",
      "RangeIndex: 10000 entries, 0 to 9999\n",
      "Data columns (total 14 columns):\n",
      "RowNumber          10000 non-null int64\n",
      "CustomerId         10000 non-null int64\n",
      "Surname            10000 non-null object\n",
      "CreditScore        10000 non-null int64\n",
      "Geography          10000 non-null object\n",
      "Gender             10000 non-null object\n",
      "Age                10000 non-null int64\n",
      "Tenure             9091 non-null float64\n",
      "Balance            10000 non-null float64\n",
      "NumOfProducts      10000 non-null int64\n",
      "HasCrCard          10000 non-null int64\n",
      "IsActiveMember     10000 non-null int64\n",
      "EstimatedSalary    10000 non-null float64\n",
      "Exited             10000 non-null int64\n",
      "dtypes: float64(3), int64(8), object(3)\n",
      "memory usage: 1.1+ MB\n"
     ]
    },
    {
     "data": {
      "text/plain": [
       "None"
      ]
     },
     "metadata": {},
     "output_type": "display_data"
    },
    {
     "data": {
      "text/html": [
       "<div>\n",
       "<style scoped>\n",
       "    .dataframe tbody tr th:only-of-type {\n",
       "        vertical-align: middle;\n",
       "    }\n",
       "\n",
       "    .dataframe tbody tr th {\n",
       "        vertical-align: top;\n",
       "    }\n",
       "\n",
       "    .dataframe thead th {\n",
       "        text-align: right;\n",
       "    }\n",
       "</style>\n",
       "<table border=\"1\" class=\"dataframe\">\n",
       "  <thead>\n",
       "    <tr style=\"text-align: right;\">\n",
       "      <th></th>\n",
       "      <th>RowNumber</th>\n",
       "      <th>CustomerId</th>\n",
       "      <th>CreditScore</th>\n",
       "      <th>Age</th>\n",
       "      <th>Tenure</th>\n",
       "      <th>Balance</th>\n",
       "      <th>NumOfProducts</th>\n",
       "      <th>HasCrCard</th>\n",
       "      <th>IsActiveMember</th>\n",
       "      <th>EstimatedSalary</th>\n",
       "      <th>Exited</th>\n",
       "    </tr>\n",
       "  </thead>\n",
       "  <tbody>\n",
       "    <tr>\n",
       "      <td>count</td>\n",
       "      <td>10000.00000</td>\n",
       "      <td>1.000000e+04</td>\n",
       "      <td>10000.000000</td>\n",
       "      <td>10000.000000</td>\n",
       "      <td>9091.000000</td>\n",
       "      <td>10000.000000</td>\n",
       "      <td>10000.000000</td>\n",
       "      <td>10000.00000</td>\n",
       "      <td>10000.000000</td>\n",
       "      <td>10000.000000</td>\n",
       "      <td>10000.000000</td>\n",
       "    </tr>\n",
       "    <tr>\n",
       "      <td>mean</td>\n",
       "      <td>5000.50000</td>\n",
       "      <td>1.569094e+07</td>\n",
       "      <td>650.528800</td>\n",
       "      <td>38.921800</td>\n",
       "      <td>4.997690</td>\n",
       "      <td>76485.889288</td>\n",
       "      <td>1.530200</td>\n",
       "      <td>0.70550</td>\n",
       "      <td>0.515100</td>\n",
       "      <td>100090.239881</td>\n",
       "      <td>0.203700</td>\n",
       "    </tr>\n",
       "    <tr>\n",
       "      <td>std</td>\n",
       "      <td>2886.89568</td>\n",
       "      <td>7.193619e+04</td>\n",
       "      <td>96.653299</td>\n",
       "      <td>10.487806</td>\n",
       "      <td>2.894723</td>\n",
       "      <td>62397.405202</td>\n",
       "      <td>0.581654</td>\n",
       "      <td>0.45584</td>\n",
       "      <td>0.499797</td>\n",
       "      <td>57510.492818</td>\n",
       "      <td>0.402769</td>\n",
       "    </tr>\n",
       "    <tr>\n",
       "      <td>min</td>\n",
       "      <td>1.00000</td>\n",
       "      <td>1.556570e+07</td>\n",
       "      <td>350.000000</td>\n",
       "      <td>18.000000</td>\n",
       "      <td>0.000000</td>\n",
       "      <td>0.000000</td>\n",
       "      <td>1.000000</td>\n",
       "      <td>0.00000</td>\n",
       "      <td>0.000000</td>\n",
       "      <td>11.580000</td>\n",
       "      <td>0.000000</td>\n",
       "    </tr>\n",
       "    <tr>\n",
       "      <td>25%</td>\n",
       "      <td>2500.75000</td>\n",
       "      <td>1.562853e+07</td>\n",
       "      <td>584.000000</td>\n",
       "      <td>32.000000</td>\n",
       "      <td>2.000000</td>\n",
       "      <td>0.000000</td>\n",
       "      <td>1.000000</td>\n",
       "      <td>0.00000</td>\n",
       "      <td>0.000000</td>\n",
       "      <td>51002.110000</td>\n",
       "      <td>0.000000</td>\n",
       "    </tr>\n",
       "    <tr>\n",
       "      <td>50%</td>\n",
       "      <td>5000.50000</td>\n",
       "      <td>1.569074e+07</td>\n",
       "      <td>652.000000</td>\n",
       "      <td>37.000000</td>\n",
       "      <td>5.000000</td>\n",
       "      <td>97198.540000</td>\n",
       "      <td>1.000000</td>\n",
       "      <td>1.00000</td>\n",
       "      <td>1.000000</td>\n",
       "      <td>100193.915000</td>\n",
       "      <td>0.000000</td>\n",
       "    </tr>\n",
       "    <tr>\n",
       "      <td>75%</td>\n",
       "      <td>7500.25000</td>\n",
       "      <td>1.575323e+07</td>\n",
       "      <td>718.000000</td>\n",
       "      <td>44.000000</td>\n",
       "      <td>7.000000</td>\n",
       "      <td>127644.240000</td>\n",
       "      <td>2.000000</td>\n",
       "      <td>1.00000</td>\n",
       "      <td>1.000000</td>\n",
       "      <td>149388.247500</td>\n",
       "      <td>0.000000</td>\n",
       "    </tr>\n",
       "    <tr>\n",
       "      <td>max</td>\n",
       "      <td>10000.00000</td>\n",
       "      <td>1.581569e+07</td>\n",
       "      <td>850.000000</td>\n",
       "      <td>92.000000</td>\n",
       "      <td>10.000000</td>\n",
       "      <td>250898.090000</td>\n",
       "      <td>4.000000</td>\n",
       "      <td>1.00000</td>\n",
       "      <td>1.000000</td>\n",
       "      <td>199992.480000</td>\n",
       "      <td>1.000000</td>\n",
       "    </tr>\n",
       "  </tbody>\n",
       "</table>\n",
       "</div>"
      ],
      "text/plain": [
       "         RowNumber    CustomerId   CreditScore           Age       Tenure  \\\n",
       "count  10000.00000  1.000000e+04  10000.000000  10000.000000  9091.000000   \n",
       "mean    5000.50000  1.569094e+07    650.528800     38.921800     4.997690   \n",
       "std     2886.89568  7.193619e+04     96.653299     10.487806     2.894723   \n",
       "min        1.00000  1.556570e+07    350.000000     18.000000     0.000000   \n",
       "25%     2500.75000  1.562853e+07    584.000000     32.000000     2.000000   \n",
       "50%     5000.50000  1.569074e+07    652.000000     37.000000     5.000000   \n",
       "75%     7500.25000  1.575323e+07    718.000000     44.000000     7.000000   \n",
       "max    10000.00000  1.581569e+07    850.000000     92.000000    10.000000   \n",
       "\n",
       "             Balance  NumOfProducts    HasCrCard  IsActiveMember  \\\n",
       "count   10000.000000   10000.000000  10000.00000    10000.000000   \n",
       "mean    76485.889288       1.530200      0.70550        0.515100   \n",
       "std     62397.405202       0.581654      0.45584        0.499797   \n",
       "min         0.000000       1.000000      0.00000        0.000000   \n",
       "25%         0.000000       1.000000      0.00000        0.000000   \n",
       "50%     97198.540000       1.000000      1.00000        1.000000   \n",
       "75%    127644.240000       2.000000      1.00000        1.000000   \n",
       "max    250898.090000       4.000000      1.00000        1.000000   \n",
       "\n",
       "       EstimatedSalary        Exited  \n",
       "count     10000.000000  10000.000000  \n",
       "mean     100090.239881      0.203700  \n",
       "std       57510.492818      0.402769  \n",
       "min          11.580000      0.000000  \n",
       "25%       51002.110000      0.000000  \n",
       "50%      100193.915000      0.000000  \n",
       "75%      149388.247500      0.000000  \n",
       "max      199992.480000      1.000000  "
      ]
     },
     "metadata": {},
     "output_type": "display_data"
    }
   ],
   "source": [
    "display(df.info())\n",
    "display(df.describe())"
   ]
  },
  {
   "cell_type": "code",
   "execution_count": 4,
   "metadata": {},
   "outputs": [
    {
     "data": {
      "text/plain": [
       "RowNumber            0\n",
       "CustomerId           0\n",
       "Surname              0\n",
       "CreditScore          0\n",
       "Geography            0\n",
       "Gender               0\n",
       "Age                  0\n",
       "Tenure             909\n",
       "Balance              0\n",
       "NumOfProducts        0\n",
       "HasCrCard            0\n",
       "IsActiveMember       0\n",
       "EstimatedSalary      0\n",
       "Exited               0\n",
       "dtype: int64"
      ]
     },
     "execution_count": 4,
     "metadata": {},
     "output_type": "execute_result"
    }
   ],
   "source": [
    "df.isnull().sum()"
   ]
  },
  {
   "cell_type": "code",
   "execution_count": 5,
   "metadata": {},
   "outputs": [
    {
     "data": {
      "text/plain": [
       "0"
      ]
     },
     "execution_count": 5,
     "metadata": {},
     "output_type": "execute_result"
    }
   ],
   "source": [
    "df.duplicated().sum()"
   ]
  },
  {
   "cell_type": "code",
   "execution_count": 6,
   "metadata": {},
   "outputs": [
    {
     "data": {
      "text/html": [
       "<div>\n",
       "<style scoped>\n",
       "    .dataframe tbody tr th:only-of-type {\n",
       "        vertical-align: middle;\n",
       "    }\n",
       "\n",
       "    .dataframe tbody tr th {\n",
       "        vertical-align: top;\n",
       "    }\n",
       "\n",
       "    .dataframe thead th {\n",
       "        text-align: right;\n",
       "    }\n",
       "</style>\n",
       "<table border=\"1\" class=\"dataframe\">\n",
       "  <thead>\n",
       "    <tr style=\"text-align: right;\">\n",
       "      <th></th>\n",
       "      <th>RowNumber</th>\n",
       "      <th>CustomerId</th>\n",
       "      <th>CreditScore</th>\n",
       "      <th>Age</th>\n",
       "      <th>Tenure</th>\n",
       "      <th>Balance</th>\n",
       "      <th>NumOfProducts</th>\n",
       "      <th>HasCrCard</th>\n",
       "      <th>IsActiveMember</th>\n",
       "      <th>EstimatedSalary</th>\n",
       "      <th>Exited</th>\n",
       "    </tr>\n",
       "  </thead>\n",
       "  <tbody>\n",
       "    <tr>\n",
       "      <td>RowNumber</td>\n",
       "      <td>1.000000</td>\n",
       "      <td>0.004202</td>\n",
       "      <td>0.005840</td>\n",
       "      <td>0.000783</td>\n",
       "      <td>-0.007322</td>\n",
       "      <td>-0.009067</td>\n",
       "      <td>0.007246</td>\n",
       "      <td>0.000599</td>\n",
       "      <td>0.012044</td>\n",
       "      <td>-0.005988</td>\n",
       "      <td>-0.016571</td>\n",
       "    </tr>\n",
       "    <tr>\n",
       "      <td>CustomerId</td>\n",
       "      <td>0.004202</td>\n",
       "      <td>1.000000</td>\n",
       "      <td>0.005308</td>\n",
       "      <td>0.009497</td>\n",
       "      <td>-0.021418</td>\n",
       "      <td>-0.012419</td>\n",
       "      <td>0.016972</td>\n",
       "      <td>-0.014025</td>\n",
       "      <td>0.001665</td>\n",
       "      <td>0.015271</td>\n",
       "      <td>-0.006248</td>\n",
       "    </tr>\n",
       "    <tr>\n",
       "      <td>CreditScore</td>\n",
       "      <td>0.005840</td>\n",
       "      <td>0.005308</td>\n",
       "      <td>1.000000</td>\n",
       "      <td>-0.003965</td>\n",
       "      <td>-0.000062</td>\n",
       "      <td>0.006268</td>\n",
       "      <td>0.012238</td>\n",
       "      <td>-0.005458</td>\n",
       "      <td>0.025651</td>\n",
       "      <td>-0.001384</td>\n",
       "      <td>-0.027094</td>\n",
       "    </tr>\n",
       "    <tr>\n",
       "      <td>Age</td>\n",
       "      <td>0.000783</td>\n",
       "      <td>0.009497</td>\n",
       "      <td>-0.003965</td>\n",
       "      <td>1.000000</td>\n",
       "      <td>-0.013134</td>\n",
       "      <td>0.028308</td>\n",
       "      <td>-0.030680</td>\n",
       "      <td>-0.011721</td>\n",
       "      <td>0.085472</td>\n",
       "      <td>-0.007201</td>\n",
       "      <td>0.285323</td>\n",
       "    </tr>\n",
       "    <tr>\n",
       "      <td>Tenure</td>\n",
       "      <td>-0.007322</td>\n",
       "      <td>-0.021418</td>\n",
       "      <td>-0.000062</td>\n",
       "      <td>-0.013134</td>\n",
       "      <td>1.000000</td>\n",
       "      <td>-0.007911</td>\n",
       "      <td>0.011979</td>\n",
       "      <td>0.027232</td>\n",
       "      <td>-0.032178</td>\n",
       "      <td>0.010520</td>\n",
       "      <td>-0.016761</td>\n",
       "    </tr>\n",
       "    <tr>\n",
       "      <td>Balance</td>\n",
       "      <td>-0.009067</td>\n",
       "      <td>-0.012419</td>\n",
       "      <td>0.006268</td>\n",
       "      <td>0.028308</td>\n",
       "      <td>-0.007911</td>\n",
       "      <td>1.000000</td>\n",
       "      <td>-0.304180</td>\n",
       "      <td>-0.014858</td>\n",
       "      <td>-0.010084</td>\n",
       "      <td>0.012797</td>\n",
       "      <td>0.118533</td>\n",
       "    </tr>\n",
       "    <tr>\n",
       "      <td>NumOfProducts</td>\n",
       "      <td>0.007246</td>\n",
       "      <td>0.016972</td>\n",
       "      <td>0.012238</td>\n",
       "      <td>-0.030680</td>\n",
       "      <td>0.011979</td>\n",
       "      <td>-0.304180</td>\n",
       "      <td>1.000000</td>\n",
       "      <td>0.003183</td>\n",
       "      <td>0.009612</td>\n",
       "      <td>0.014204</td>\n",
       "      <td>-0.047820</td>\n",
       "    </tr>\n",
       "    <tr>\n",
       "      <td>HasCrCard</td>\n",
       "      <td>0.000599</td>\n",
       "      <td>-0.014025</td>\n",
       "      <td>-0.005458</td>\n",
       "      <td>-0.011721</td>\n",
       "      <td>0.027232</td>\n",
       "      <td>-0.014858</td>\n",
       "      <td>0.003183</td>\n",
       "      <td>1.000000</td>\n",
       "      <td>-0.011866</td>\n",
       "      <td>-0.009933</td>\n",
       "      <td>-0.007138</td>\n",
       "    </tr>\n",
       "    <tr>\n",
       "      <td>IsActiveMember</td>\n",
       "      <td>0.012044</td>\n",
       "      <td>0.001665</td>\n",
       "      <td>0.025651</td>\n",
       "      <td>0.085472</td>\n",
       "      <td>-0.032178</td>\n",
       "      <td>-0.010084</td>\n",
       "      <td>0.009612</td>\n",
       "      <td>-0.011866</td>\n",
       "      <td>1.000000</td>\n",
       "      <td>-0.011421</td>\n",
       "      <td>-0.156128</td>\n",
       "    </tr>\n",
       "    <tr>\n",
       "      <td>EstimatedSalary</td>\n",
       "      <td>-0.005988</td>\n",
       "      <td>0.015271</td>\n",
       "      <td>-0.001384</td>\n",
       "      <td>-0.007201</td>\n",
       "      <td>0.010520</td>\n",
       "      <td>0.012797</td>\n",
       "      <td>0.014204</td>\n",
       "      <td>-0.009933</td>\n",
       "      <td>-0.011421</td>\n",
       "      <td>1.000000</td>\n",
       "      <td>0.012097</td>\n",
       "    </tr>\n",
       "    <tr>\n",
       "      <td>Exited</td>\n",
       "      <td>-0.016571</td>\n",
       "      <td>-0.006248</td>\n",
       "      <td>-0.027094</td>\n",
       "      <td>0.285323</td>\n",
       "      <td>-0.016761</td>\n",
       "      <td>0.118533</td>\n",
       "      <td>-0.047820</td>\n",
       "      <td>-0.007138</td>\n",
       "      <td>-0.156128</td>\n",
       "      <td>0.012097</td>\n",
       "      <td>1.000000</td>\n",
       "    </tr>\n",
       "  </tbody>\n",
       "</table>\n",
       "</div>"
      ],
      "text/plain": [
       "                 RowNumber  CustomerId  CreditScore       Age    Tenure  \\\n",
       "RowNumber         1.000000    0.004202     0.005840  0.000783 -0.007322   \n",
       "CustomerId        0.004202    1.000000     0.005308  0.009497 -0.021418   \n",
       "CreditScore       0.005840    0.005308     1.000000 -0.003965 -0.000062   \n",
       "Age               0.000783    0.009497    -0.003965  1.000000 -0.013134   \n",
       "Tenure           -0.007322   -0.021418    -0.000062 -0.013134  1.000000   \n",
       "Balance          -0.009067   -0.012419     0.006268  0.028308 -0.007911   \n",
       "NumOfProducts     0.007246    0.016972     0.012238 -0.030680  0.011979   \n",
       "HasCrCard         0.000599   -0.014025    -0.005458 -0.011721  0.027232   \n",
       "IsActiveMember    0.012044    0.001665     0.025651  0.085472 -0.032178   \n",
       "EstimatedSalary  -0.005988    0.015271    -0.001384 -0.007201  0.010520   \n",
       "Exited           -0.016571   -0.006248    -0.027094  0.285323 -0.016761   \n",
       "\n",
       "                  Balance  NumOfProducts  HasCrCard  IsActiveMember  \\\n",
       "RowNumber       -0.009067       0.007246   0.000599        0.012044   \n",
       "CustomerId      -0.012419       0.016972  -0.014025        0.001665   \n",
       "CreditScore      0.006268       0.012238  -0.005458        0.025651   \n",
       "Age              0.028308      -0.030680  -0.011721        0.085472   \n",
       "Tenure          -0.007911       0.011979   0.027232       -0.032178   \n",
       "Balance          1.000000      -0.304180  -0.014858       -0.010084   \n",
       "NumOfProducts   -0.304180       1.000000   0.003183        0.009612   \n",
       "HasCrCard       -0.014858       0.003183   1.000000       -0.011866   \n",
       "IsActiveMember  -0.010084       0.009612  -0.011866        1.000000   \n",
       "EstimatedSalary  0.012797       0.014204  -0.009933       -0.011421   \n",
       "Exited           0.118533      -0.047820  -0.007138       -0.156128   \n",
       "\n",
       "                 EstimatedSalary    Exited  \n",
       "RowNumber              -0.005988 -0.016571  \n",
       "CustomerId              0.015271 -0.006248  \n",
       "CreditScore            -0.001384 -0.027094  \n",
       "Age                    -0.007201  0.285323  \n",
       "Tenure                  0.010520 -0.016761  \n",
       "Balance                 0.012797  0.118533  \n",
       "NumOfProducts           0.014204 -0.047820  \n",
       "HasCrCard              -0.009933 -0.007138  \n",
       "IsActiveMember         -0.011421 -0.156128  \n",
       "EstimatedSalary         1.000000  0.012097  \n",
       "Exited                  0.012097  1.000000  "
      ]
     },
     "execution_count": 6,
     "metadata": {},
     "output_type": "execute_result"
    }
   ],
   "source": [
    "df.corr()"
   ]
  },
  {
   "cell_type": "code",
   "execution_count": 7,
   "metadata": {},
   "outputs": [
    {
     "data": {
      "image/png": "[encoded data removed]",
      "text/plain": [
       "<Figure size 792x792 with 1 Axes>"
      ]
     },
     "metadata": {
      "needs_background": "light"
     },
     "output_type": "display_data"
    }
   ],
   "source": [
    "#Отрисуем матрицу корреляции\n",
    "def plot_corr(df, size=11):\n",
    "  corr = df.corr()\n",
    "  fig, ax = plt.subplots(figsize=(size,size))\n",
    "  ax.matshow(corr)\n",
    "  plt.xticks(range(len(corr.columns)), corr.columns)\n",
    "  plt.yticks(range(len(corr.columns)), corr.columns)\n",
    "\n",
    "plot_corr(df)"
   ]
  },
  {
   "cell_type": "markdown",
   "metadata": {},
   "source": [
    "Как видим из графика взаимосвязей никаких нет. Ничего не будет мешать нашей будущей модели"
   ]
  },
  {
   "cell_type": "code",
   "execution_count": 8,
   "metadata": {},
   "outputs": [
    {
     "data": {
      "text/html": [
       "<div>\n",
       "<style scoped>\n",
       "    .dataframe tbody tr th:only-of-type {\n",
       "        vertical-align: middle;\n",
       "    }\n",
       "\n",
       "    .dataframe tbody tr th {\n",
       "        vertical-align: top;\n",
       "    }\n",
       "\n",
       "    .dataframe thead th {\n",
       "        text-align: right;\n",
       "    }\n",
       "</style>\n",
       "<table border=\"1\" class=\"dataframe\">\n",
       "  <thead>\n",
       "    <tr style=\"text-align: right;\">\n",
       "      <th></th>\n",
       "      <th>RowNumber</th>\n",
       "      <th>CustomerId</th>\n",
       "      <th>Surname</th>\n",
       "      <th>CreditScore</th>\n",
       "      <th>Geography</th>\n",
       "      <th>Gender</th>\n",
       "      <th>Age</th>\n",
       "      <th>Tenure</th>\n",
       "      <th>Balance</th>\n",
       "      <th>NumOfProducts</th>\n",
       "      <th>HasCrCard</th>\n",
       "      <th>IsActiveMember</th>\n",
       "      <th>EstimatedSalary</th>\n",
       "      <th>Exited</th>\n",
       "    </tr>\n",
       "  </thead>\n",
       "  <tbody>\n",
       "    <tr>\n",
       "      <td>0</td>\n",
       "      <td>1</td>\n",
       "      <td>15634602</td>\n",
       "      <td>Hargrave</td>\n",
       "      <td>619</td>\n",
       "      <td>France</td>\n",
       "      <td>Female</td>\n",
       "      <td>42</td>\n",
       "      <td>2.0</td>\n",
       "      <td>0.00</td>\n",
       "      <td>1</td>\n",
       "      <td>1</td>\n",
       "      <td>1</td>\n",
       "      <td>101348.88</td>\n",
       "      <td>1</td>\n",
       "    </tr>\n",
       "    <tr>\n",
       "      <td>1</td>\n",
       "      <td>2</td>\n",
       "      <td>15647311</td>\n",
       "      <td>Hill</td>\n",
       "      <td>608</td>\n",
       "      <td>Spain</td>\n",
       "      <td>Female</td>\n",
       "      <td>41</td>\n",
       "      <td>1.0</td>\n",
       "      <td>83807.86</td>\n",
       "      <td>1</td>\n",
       "      <td>0</td>\n",
       "      <td>1</td>\n",
       "      <td>112542.58</td>\n",
       "      <td>0</td>\n",
       "    </tr>\n",
       "    <tr>\n",
       "      <td>2</td>\n",
       "      <td>3</td>\n",
       "      <td>15619304</td>\n",
       "      <td>Onio</td>\n",
       "      <td>502</td>\n",
       "      <td>France</td>\n",
       "      <td>Female</td>\n",
       "      <td>42</td>\n",
       "      <td>8.0</td>\n",
       "      <td>159660.80</td>\n",
       "      <td>3</td>\n",
       "      <td>1</td>\n",
       "      <td>0</td>\n",
       "      <td>113931.57</td>\n",
       "      <td>1</td>\n",
       "    </tr>\n",
       "    <tr>\n",
       "      <td>3</td>\n",
       "      <td>4</td>\n",
       "      <td>15701354</td>\n",
       "      <td>Boni</td>\n",
       "      <td>699</td>\n",
       "      <td>France</td>\n",
       "      <td>Female</td>\n",
       "      <td>39</td>\n",
       "      <td>1.0</td>\n",
       "      <td>0.00</td>\n",
       "      <td>2</td>\n",
       "      <td>0</td>\n",
       "      <td>0</td>\n",
       "      <td>93826.63</td>\n",
       "      <td>0</td>\n",
       "    </tr>\n",
       "    <tr>\n",
       "      <td>4</td>\n",
       "      <td>5</td>\n",
       "      <td>15737888</td>\n",
       "      <td>Mitchell</td>\n",
       "      <td>850</td>\n",
       "      <td>Spain</td>\n",
       "      <td>Female</td>\n",
       "      <td>43</td>\n",
       "      <td>2.0</td>\n",
       "      <td>125510.82</td>\n",
       "      <td>1</td>\n",
       "      <td>1</td>\n",
       "      <td>1</td>\n",
       "      <td>79084.10</td>\n",
       "      <td>0</td>\n",
       "    </tr>\n",
       "  </tbody>\n",
       "</table>\n",
       "</div>"
      ],
      "text/plain": [
       "   RowNumber  CustomerId   Surname  CreditScore Geography  Gender  Age  \\\n",
       "0          1    15634602  Hargrave          619    France  Female   42   \n",
       "1          2    15647311      Hill          608     Spain  Female   41   \n",
       "2          3    15619304      Onio          502    France  Female   42   \n",
       "3          4    15701354      Boni          699    France  Female   39   \n",
       "4          5    15737888  Mitchell          850     Spain  Female   43   \n",
       "\n",
       "   Tenure    Balance  NumOfProducts  HasCrCard  IsActiveMember  \\\n",
       "0     2.0       0.00              1          1               1   \n",
       "1     1.0   83807.86              1          0               1   \n",
       "2     8.0  159660.80              3          1               0   \n",
       "3     1.0       0.00              2          0               0   \n",
       "4     2.0  125510.82              1          1               1   \n",
       "\n",
       "   EstimatedSalary  Exited  \n",
       "0        101348.88       1  \n",
       "1        112542.58       0  \n",
       "2        113931.57       1  \n",
       "3         93826.63       0  \n",
       "4         79084.10       0  "
      ]
     },
     "execution_count": 8,
     "metadata": {},
     "output_type": "execute_result"
    }
   ],
   "source": [
    "#Выведем первые 5 строк\n",
    "df.head()"
   ]
  },
  {
   "cell_type": "code",
   "execution_count": 9,
   "metadata": {},
   "outputs": [
    {
     "data": {
      "text/plain": [
       "Male      5457\n",
       "Female    4543\n",
       "Name: Gender, dtype: int64"
      ]
     },
     "execution_count": 9,
     "metadata": {},
     "output_type": "execute_result"
    }
   ],
   "source": [
    "#Посмотрим методом value_counts сколько мужчин и женщин мы имеем\n",
    "df['Gender'].value_counts()"
   ]
  },
  {
   "cell_type": "code",
   "execution_count": 10,
   "metadata": {},
   "outputs": [
    {
     "data": {
      "text/plain": [
       "France     5014\n",
       "Germany    2509\n",
       "Spain      2477\n",
       "Name: Geography, dtype: int64"
      ]
     },
     "execution_count": 10,
     "metadata": {},
     "output_type": "execute_result"
    }
   ],
   "source": [
    "#Посмотрим на столбец география и его количество\n",
    "df['Geography'].value_counts()"
   ]
  },
  {
   "cell_type": "code",
   "execution_count": 11,
   "metadata": {},
   "outputs": [],
   "source": [
    "#Удалим столбцы, которые не нужны будут для модели\n",
    "df = df.drop(['RowNumber','CustomerId','Surname'], axis=1)"
   ]
  },
  {
   "cell_type": "code",
   "execution_count": 12,
   "metadata": {},
   "outputs": [
    {
     "data": {
      "text/html": [
       "<div>\n",
       "<style scoped>\n",
       "    .dataframe tbody tr th:only-of-type {\n",
       "        vertical-align: middle;\n",
       "    }\n",
       "\n",
       "    .dataframe tbody tr th {\n",
       "        vertical-align: top;\n",
       "    }\n",
       "\n",
       "    .dataframe thead th {\n",
       "        text-align: right;\n",
       "    }\n",
       "</style>\n",
       "<table border=\"1\" class=\"dataframe\">\n",
       "  <thead>\n",
       "    <tr style=\"text-align: right;\">\n",
       "      <th></th>\n",
       "      <th>CreditScore</th>\n",
       "      <th>Geography</th>\n",
       "      <th>Gender</th>\n",
       "      <th>Age</th>\n",
       "      <th>Tenure</th>\n",
       "      <th>Balance</th>\n",
       "      <th>NumOfProducts</th>\n",
       "      <th>HasCrCard</th>\n",
       "      <th>IsActiveMember</th>\n",
       "      <th>EstimatedSalary</th>\n",
       "      <th>Exited</th>\n",
       "    </tr>\n",
       "  </thead>\n",
       "  <tbody>\n",
       "    <tr>\n",
       "      <td>0</td>\n",
       "      <td>619</td>\n",
       "      <td>France</td>\n",
       "      <td>Female</td>\n",
       "      <td>42</td>\n",
       "      <td>2.0</td>\n",
       "      <td>0.00</td>\n",
       "      <td>1</td>\n",
       "      <td>1</td>\n",
       "      <td>1</td>\n",
       "      <td>101348.88</td>\n",
       "      <td>1</td>\n",
       "    </tr>\n",
       "    <tr>\n",
       "      <td>1</td>\n",
       "      <td>608</td>\n",
       "      <td>Spain</td>\n",
       "      <td>Female</td>\n",
       "      <td>41</td>\n",
       "      <td>1.0</td>\n",
       "      <td>83807.86</td>\n",
       "      <td>1</td>\n",
       "      <td>0</td>\n",
       "      <td>1</td>\n",
       "      <td>112542.58</td>\n",
       "      <td>0</td>\n",
       "    </tr>\n",
       "    <tr>\n",
       "      <td>2</td>\n",
       "      <td>502</td>\n",
       "      <td>France</td>\n",
       "      <td>Female</td>\n",
       "      <td>42</td>\n",
       "      <td>8.0</td>\n",
       "      <td>159660.80</td>\n",
       "      <td>3</td>\n",
       "      <td>1</td>\n",
       "      <td>0</td>\n",
       "      <td>113931.57</td>\n",
       "      <td>1</td>\n",
       "    </tr>\n",
       "    <tr>\n",
       "      <td>3</td>\n",
       "      <td>699</td>\n",
       "      <td>France</td>\n",
       "      <td>Female</td>\n",
       "      <td>39</td>\n",
       "      <td>1.0</td>\n",
       "      <td>0.00</td>\n",
       "      <td>2</td>\n",
       "      <td>0</td>\n",
       "      <td>0</td>\n",
       "      <td>93826.63</td>\n",
       "      <td>0</td>\n",
       "    </tr>\n",
       "    <tr>\n",
       "      <td>4</td>\n",
       "      <td>850</td>\n",
       "      <td>Spain</td>\n",
       "      <td>Female</td>\n",
       "      <td>43</td>\n",
       "      <td>2.0</td>\n",
       "      <td>125510.82</td>\n",
       "      <td>1</td>\n",
       "      <td>1</td>\n",
       "      <td>1</td>\n",
       "      <td>79084.10</td>\n",
       "      <td>0</td>\n",
       "    </tr>\n",
       "  </tbody>\n",
       "</table>\n",
       "</div>"
      ],
      "text/plain": [
       "   CreditScore Geography  Gender  Age  Tenure    Balance  NumOfProducts  \\\n",
       "0          619    France  Female   42     2.0       0.00              1   \n",
       "1          608     Spain  Female   41     1.0   83807.86              1   \n",
       "2          502    France  Female   42     8.0  159660.80              3   \n",
       "3          699    France  Female   39     1.0       0.00              2   \n",
       "4          850     Spain  Female   43     2.0  125510.82              1   \n",
       "\n",
       "   HasCrCard  IsActiveMember  EstimatedSalary  Exited  \n",
       "0          1               1        101348.88       1  \n",
       "1          0               1        112542.58       0  \n",
       "2          1               0        113931.57       1  \n",
       "3          0               0         93826.63       0  \n",
       "4          1               1         79084.10       0  "
      ]
     },
     "execution_count": 12,
     "metadata": {},
     "output_type": "execute_result"
    }
   ],
   "source": [
    "#Еще раз выведем нашу таблицу\n",
    "df.head()"
   ]
  },
  {
   "cell_type": "code",
   "execution_count": 13,
   "metadata": {},
   "outputs": [
    {
     "data": {
      "text/plain": [
       "909"
      ]
     },
     "execution_count": 13,
     "metadata": {},
     "output_type": "execute_result"
    }
   ],
   "source": [
    "#Посчитаем количество пустых значений\n",
    "df['Tenure'].isnull().sum()"
   ]
  },
  {
   "cell_type": "code",
   "execution_count": 14,
   "metadata": {},
   "outputs": [
    {
     "data": {
      "text/plain": [
       "0"
      ]
     },
     "execution_count": 14,
     "metadata": {},
     "output_type": "execute_result"
    }
   ],
   "source": [
    "#Изменим тип данных у столбца Tenure и заполним пустые значения с помощью SimpleImputer из библиотеки sklearn\n",
    "df['Tenure'] = df['Tenure'].replace(np.NaN, None).astype(int,errors='ignore').astype(object)\n",
    "imputer = SimpleImputer(strategy='constant')\n",
    "imp_data = pd.DataFrame(imputer.fit_transform(df))\n",
    "imp_data.columns = df.columns\n",
    "\n",
    "#Проверим как сработал SimpleImputer\n",
    "df['Tenure'].isnull().sum()"
   ]
  },
  {
   "cell_type": "code",
   "execution_count": 15,
   "metadata": {},
   "outputs": [],
   "source": [
    "#Проведем кодирование с помощью OHE\n",
    "df = pd.get_dummies(df, drop_first=True)\n",
    "\n",
    "#Стандартизируем признаки с помощью StandardScaler\n",
    "scaler = StandardScaler()\n",
    "numeric = ['CreditScore', 'Age', 'Balance', 'EstimatedSalary']\n",
    "scaler.fit(df[numeric])\n",
    "df[numeric] = scaler.transform(df[numeric])"
   ]
  },
  {
   "cell_type": "code",
   "execution_count": 16,
   "metadata": {},
   "outputs": [
    {
     "data": {
      "text/html": [
       "<div>\n",
       "<style scoped>\n",
       "    .dataframe tbody tr th:only-of-type {\n",
       "        vertical-align: middle;\n",
       "    }\n",
       "\n",
       "    .dataframe tbody tr th {\n",
       "        vertical-align: top;\n",
       "    }\n",
       "\n",
       "    .dataframe thead th {\n",
       "        text-align: right;\n",
       "    }\n",
       "</style>\n",
       "<table border=\"1\" class=\"dataframe\">\n",
       "  <thead>\n",
       "    <tr style=\"text-align: right;\">\n",
       "      <th></th>\n",
       "      <th>CreditScore</th>\n",
       "      <th>Age</th>\n",
       "      <th>Balance</th>\n",
       "      <th>NumOfProducts</th>\n",
       "      <th>HasCrCard</th>\n",
       "      <th>IsActiveMember</th>\n",
       "      <th>EstimatedSalary</th>\n",
       "      <th>Exited</th>\n",
       "      <th>Geography_Germany</th>\n",
       "      <th>Geography_Spain</th>\n",
       "      <th>...</th>\n",
       "      <th>Tenure_1</th>\n",
       "      <th>Tenure_2</th>\n",
       "      <th>Tenure_3</th>\n",
       "      <th>Tenure_4</th>\n",
       "      <th>Tenure_5</th>\n",
       "      <th>Tenure_6</th>\n",
       "      <th>Tenure_7</th>\n",
       "      <th>Tenure_8</th>\n",
       "      <th>Tenure_9</th>\n",
       "      <th>Tenure_10</th>\n",
       "    </tr>\n",
       "  </thead>\n",
       "  <tbody>\n",
       "    <tr>\n",
       "      <td>0</td>\n",
       "      <td>-0.326221</td>\n",
       "      <td>0.293517</td>\n",
       "      <td>-1.225848</td>\n",
       "      <td>1</td>\n",
       "      <td>1</td>\n",
       "      <td>1</td>\n",
       "      <td>0.021886</td>\n",
       "      <td>1</td>\n",
       "      <td>0</td>\n",
       "      <td>0</td>\n",
       "      <td>...</td>\n",
       "      <td>0</td>\n",
       "      <td>1</td>\n",
       "      <td>0</td>\n",
       "      <td>0</td>\n",
       "      <td>0</td>\n",
       "      <td>0</td>\n",
       "      <td>0</td>\n",
       "      <td>0</td>\n",
       "      <td>0</td>\n",
       "      <td>0</td>\n",
       "    </tr>\n",
       "    <tr>\n",
       "      <td>1</td>\n",
       "      <td>-0.440036</td>\n",
       "      <td>0.198164</td>\n",
       "      <td>0.117350</td>\n",
       "      <td>1</td>\n",
       "      <td>0</td>\n",
       "      <td>1</td>\n",
       "      <td>0.216534</td>\n",
       "      <td>0</td>\n",
       "      <td>0</td>\n",
       "      <td>1</td>\n",
       "      <td>...</td>\n",
       "      <td>1</td>\n",
       "      <td>0</td>\n",
       "      <td>0</td>\n",
       "      <td>0</td>\n",
       "      <td>0</td>\n",
       "      <td>0</td>\n",
       "      <td>0</td>\n",
       "      <td>0</td>\n",
       "      <td>0</td>\n",
       "      <td>0</td>\n",
       "    </tr>\n",
       "    <tr>\n",
       "      <td>2</td>\n",
       "      <td>-1.536794</td>\n",
       "      <td>0.293517</td>\n",
       "      <td>1.333053</td>\n",
       "      <td>3</td>\n",
       "      <td>1</td>\n",
       "      <td>0</td>\n",
       "      <td>0.240687</td>\n",
       "      <td>1</td>\n",
       "      <td>0</td>\n",
       "      <td>0</td>\n",
       "      <td>...</td>\n",
       "      <td>0</td>\n",
       "      <td>0</td>\n",
       "      <td>0</td>\n",
       "      <td>0</td>\n",
       "      <td>0</td>\n",
       "      <td>0</td>\n",
       "      <td>0</td>\n",
       "      <td>1</td>\n",
       "      <td>0</td>\n",
       "      <td>0</td>\n",
       "    </tr>\n",
       "    <tr>\n",
       "      <td>3</td>\n",
       "      <td>0.501521</td>\n",
       "      <td>0.007457</td>\n",
       "      <td>-1.225848</td>\n",
       "      <td>2</td>\n",
       "      <td>0</td>\n",
       "      <td>0</td>\n",
       "      <td>-0.108918</td>\n",
       "      <td>0</td>\n",
       "      <td>0</td>\n",
       "      <td>0</td>\n",
       "      <td>...</td>\n",
       "      <td>1</td>\n",
       "      <td>0</td>\n",
       "      <td>0</td>\n",
       "      <td>0</td>\n",
       "      <td>0</td>\n",
       "      <td>0</td>\n",
       "      <td>0</td>\n",
       "      <td>0</td>\n",
       "      <td>0</td>\n",
       "      <td>0</td>\n",
       "    </tr>\n",
       "    <tr>\n",
       "      <td>4</td>\n",
       "      <td>2.063884</td>\n",
       "      <td>0.388871</td>\n",
       "      <td>0.785728</td>\n",
       "      <td>1</td>\n",
       "      <td>1</td>\n",
       "      <td>1</td>\n",
       "      <td>-0.365276</td>\n",
       "      <td>0</td>\n",
       "      <td>0</td>\n",
       "      <td>1</td>\n",
       "      <td>...</td>\n",
       "      <td>0</td>\n",
       "      <td>1</td>\n",
       "      <td>0</td>\n",
       "      <td>0</td>\n",
       "      <td>0</td>\n",
       "      <td>0</td>\n",
       "      <td>0</td>\n",
       "      <td>0</td>\n",
       "      <td>0</td>\n",
       "      <td>0</td>\n",
       "    </tr>\n",
       "    <tr>\n",
       "      <td>...</td>\n",
       "      <td>...</td>\n",
       "      <td>...</td>\n",
       "      <td>...</td>\n",
       "      <td>...</td>\n",
       "      <td>...</td>\n",
       "      <td>...</td>\n",
       "      <td>...</td>\n",
       "      <td>...</td>\n",
       "      <td>...</td>\n",
       "      <td>...</td>\n",
       "      <td>...</td>\n",
       "      <td>...</td>\n",
       "      <td>...</td>\n",
       "      <td>...</td>\n",
       "      <td>...</td>\n",
       "      <td>...</td>\n",
       "      <td>...</td>\n",
       "      <td>...</td>\n",
       "      <td>...</td>\n",
       "      <td>...</td>\n",
       "      <td>...</td>\n",
       "    </tr>\n",
       "    <tr>\n",
       "      <td>9995</td>\n",
       "      <td>1.246488</td>\n",
       "      <td>0.007457</td>\n",
       "      <td>-1.225848</td>\n",
       "      <td>2</td>\n",
       "      <td>1</td>\n",
       "      <td>0</td>\n",
       "      <td>-0.066419</td>\n",
       "      <td>0</td>\n",
       "      <td>0</td>\n",
       "      <td>0</td>\n",
       "      <td>...</td>\n",
       "      <td>0</td>\n",
       "      <td>0</td>\n",
       "      <td>0</td>\n",
       "      <td>0</td>\n",
       "      <td>1</td>\n",
       "      <td>0</td>\n",
       "      <td>0</td>\n",
       "      <td>0</td>\n",
       "      <td>0</td>\n",
       "      <td>0</td>\n",
       "    </tr>\n",
       "    <tr>\n",
       "      <td>9996</td>\n",
       "      <td>-1.391939</td>\n",
       "      <td>-0.373958</td>\n",
       "      <td>-0.306379</td>\n",
       "      <td>1</td>\n",
       "      <td>1</td>\n",
       "      <td>1</td>\n",
       "      <td>0.027988</td>\n",
       "      <td>0</td>\n",
       "      <td>0</td>\n",
       "      <td>0</td>\n",
       "      <td>...</td>\n",
       "      <td>0</td>\n",
       "      <td>0</td>\n",
       "      <td>0</td>\n",
       "      <td>0</td>\n",
       "      <td>0</td>\n",
       "      <td>0</td>\n",
       "      <td>0</td>\n",
       "      <td>0</td>\n",
       "      <td>0</td>\n",
       "      <td>1</td>\n",
       "    </tr>\n",
       "    <tr>\n",
       "      <td>9997</td>\n",
       "      <td>0.604988</td>\n",
       "      <td>-0.278604</td>\n",
       "      <td>-1.225848</td>\n",
       "      <td>1</td>\n",
       "      <td>0</td>\n",
       "      <td>1</td>\n",
       "      <td>-1.008643</td>\n",
       "      <td>1</td>\n",
       "      <td>0</td>\n",
       "      <td>0</td>\n",
       "      <td>...</td>\n",
       "      <td>0</td>\n",
       "      <td>0</td>\n",
       "      <td>0</td>\n",
       "      <td>0</td>\n",
       "      <td>0</td>\n",
       "      <td>0</td>\n",
       "      <td>1</td>\n",
       "      <td>0</td>\n",
       "      <td>0</td>\n",
       "      <td>0</td>\n",
       "    </tr>\n",
       "    <tr>\n",
       "      <td>9998</td>\n",
       "      <td>1.256835</td>\n",
       "      <td>0.293517</td>\n",
       "      <td>-0.022608</td>\n",
       "      <td>2</td>\n",
       "      <td>1</td>\n",
       "      <td>0</td>\n",
       "      <td>-0.125231</td>\n",
       "      <td>1</td>\n",
       "      <td>1</td>\n",
       "      <td>0</td>\n",
       "      <td>...</td>\n",
       "      <td>0</td>\n",
       "      <td>0</td>\n",
       "      <td>1</td>\n",
       "      <td>0</td>\n",
       "      <td>0</td>\n",
       "      <td>0</td>\n",
       "      <td>0</td>\n",
       "      <td>0</td>\n",
       "      <td>0</td>\n",
       "      <td>0</td>\n",
       "    </tr>\n",
       "    <tr>\n",
       "      <td>9999</td>\n",
       "      <td>1.463771</td>\n",
       "      <td>-1.041433</td>\n",
       "      <td>0.859965</td>\n",
       "      <td>1</td>\n",
       "      <td>1</td>\n",
       "      <td>0</td>\n",
       "      <td>-1.076370</td>\n",
       "      <td>0</td>\n",
       "      <td>0</td>\n",
       "      <td>0</td>\n",
       "      <td>...</td>\n",
       "      <td>0</td>\n",
       "      <td>0</td>\n",
       "      <td>1</td>\n",
       "      <td>0</td>\n",
       "      <td>0</td>\n",
       "      <td>0</td>\n",
       "      <td>0</td>\n",
       "      <td>0</td>\n",
       "      <td>0</td>\n",
       "      <td>0</td>\n",
       "    </tr>\n",
       "  </tbody>\n",
       "</table>\n",
       "<p>10000 rows × 21 columns</p>\n",
       "</div>"
      ],
      "text/plain": [
       "      CreditScore       Age   Balance  NumOfProducts  HasCrCard  \\\n",
       "0       -0.326221  0.293517 -1.225848              1          1   \n",
       "1       -0.440036  0.198164  0.117350              1          0   \n",
       "2       -1.536794  0.293517  1.333053              3          1   \n",
       "3        0.501521  0.007457 -1.225848              2          0   \n",
       "4        2.063884  0.388871  0.785728              1          1   \n",
       "...           ...       ...       ...            ...        ...   \n",
       "9995     1.246488  0.007457 -1.225848              2          1   \n",
       "9996    -1.391939 -0.373958 -0.306379              1          1   \n",
       "9997     0.604988 -0.278604 -1.225848              1          0   \n",
       "9998     1.256835  0.293517 -0.022608              2          1   \n",
       "9999     1.463771 -1.041433  0.859965              1          1   \n",
       "\n",
       "      IsActiveMember  EstimatedSalary  Exited  Geography_Germany  \\\n",
       "0                  1         0.021886       1                  0   \n",
       "1                  1         0.216534       0                  0   \n",
       "2                  0         0.240687       1                  0   \n",
       "3                  0        -0.108918       0                  0   \n",
       "4                  1        -0.365276       0                  0   \n",
       "...              ...              ...     ...                ...   \n",
       "9995               0        -0.066419       0                  0   \n",
       "9996               1         0.027988       0                  0   \n",
       "9997               1        -1.008643       1                  0   \n",
       "9998               0        -0.125231       1                  1   \n",
       "9999               0        -1.076370       0                  0   \n",
       "\n",
       "      Geography_Spain  ...  Tenure_1  Tenure_2  Tenure_3  Tenure_4  Tenure_5  \\\n",
       "0                   0  ...         0         1         0         0         0   \n",
       "1                   1  ...         1         0         0         0         0   \n",
       "2                   0  ...         0         0         0         0         0   \n",
       "3                   0  ...         1         0         0         0         0   \n",
       "4                   1  ...         0         1         0         0         0   \n",
       "...               ...  ...       ...       ...       ...       ...       ...   \n",
       "9995                0  ...         0         0         0         0         1   \n",
       "9996                0  ...         0         0         0         0         0   \n",
       "9997                0  ...         0         0         0         0         0   \n",
       "9998                0  ...         0         0         1         0         0   \n",
       "9999                0  ...         0         0         1         0         0   \n",
       "\n",
       "      Tenure_6  Tenure_7  Tenure_8  Tenure_9  Tenure_10  \n",
       "0            0         0         0         0          0  \n",
       "1            0         0         0         0          0  \n",
       "2            0         0         1         0          0  \n",
       "3            0         0         0         0          0  \n",
       "4            0         0         0         0          0  \n",
       "...        ...       ...       ...       ...        ...  \n",
       "9995         0         0         0         0          0  \n",
       "9996         0         0         0         0          1  \n",
       "9997         0         1         0         0          0  \n",
       "9998         0         0         0         0          0  \n",
       "9999         0         0         0         0          0  \n",
       "\n",
       "[10000 rows x 21 columns]"
      ]
     },
     "execution_count": 16,
     "metadata": {},
     "output_type": "execute_result"
    }
   ],
   "source": [
    "df"
   ]
  },
  {
   "cell_type": "code",
   "execution_count": 17,
   "metadata": {},
   "outputs": [
    {
     "name": "stdout",
     "output_type": "stream",
     "text": [
      "Training set size: 6000\n",
      "Validating set size: 2000\n",
      "Test set size: 2000\n"
     ]
    }
   ],
   "source": [
    "#С помощью train_test_split Разделим наш датасет на следующие выборки \n",
    "X = df.drop(['Exited'], axis=1)\n",
    "y = df['Exited']\n",
    "\n",
    "X_train, X_valid, y_train, y_valid = train_test_split(X, y, train_size=0.6, test_size=0.4, random_state=12345)\n",
    "X_test, X_valid, y_test, y_valid = train_test_split(X_valid, y_valid, test_size=0.5, random_state=12345)\n",
    "\n",
    "print('Training set size:', X_train.shape[0])\n",
    "print('Validating set size:', X_valid.shape[0])\n",
    "print('Test set size:',X_test.shape[0])"
   ]
  },
  {
   "cell_type": "markdown",
   "metadata": {},
   "source": [
    "**Вывод**\n",
    "\n",
    "Изучили наш датасет\n",
    "\n",
    "Нашли пустые значения в столбце Tenure, заполнили их с помощью SimpleImputer\n",
    "\n",
    "Дубликатов не выявили\n",
    "\n",
    "Просмотрели матрицу корреляции, никаких взаимосвязей мещающих нашим будущим моделям не выявили\n",
    "\n",
    "Провели кодирование и стандартизировали признаки с помощью StandardScaler\n",
    "\n",
    "Разделили наш датасет на выборки : обучающую, валидационную и тестовую\n"
   ]
  },
  {
   "cell_type": "markdown",
   "metadata": {},
   "source": [
    "## Исследование задачи"
   ]
  },
  {
   "cell_type": "code",
   "execution_count": 18,
   "metadata": {},
   "outputs": [
    {
     "name": "stdout",
     "output_type": "stream",
     "text": [
      "Accuracy is: 0.8385\n",
      "F1_Score is: 0.49922480620155035\n"
     ]
    },
    {
     "data": {
      "text/plain": [
       "array([[1516,   61],\n",
       "       [ 262,  161]])"
      ]
     },
     "execution_count": 18,
     "metadata": {},
     "output_type": "execute_result"
    }
   ],
   "source": [
    "# Модель RandomForestClassifier со стандартными параметрами, посмотрим какой аккураси и f1score покажет нам модель\n",
    "model = RandomForestClassifier(random_state=12345)\n",
    "model.fit(X_train, y_train)\n",
    "predicted_valid = model.predict(X_valid)\n",
    "accuracy_valid = accuracy_score(predicted_valid, y_valid)\n",
    "print('Accuracy is:', accuracy_valid)\n",
    "print('F1_Score is:', f1_score(y_valid, predicted_valid))\n",
    "confusion_matrix(y_valid, predicted_valid)"
   ]
  },
  {
   "cell_type": "code",
   "execution_count": 19,
   "metadata": {},
   "outputs": [
    {
     "name": "stdout",
     "output_type": "stream",
     "text": [
      "Accuracy is: 0.789\n",
      "F1_Score is: 0.2673611111111111\n"
     ]
    },
    {
     "data": {
      "text/plain": [
       "array([[1501,   76],\n",
       "       [ 346,   77]])"
      ]
     },
     "execution_count": 19,
     "metadata": {},
     "output_type": "execute_result"
    }
   ],
   "source": [
    "# Модель logisticRegression со стандартными параметрами, посмотрим какой аккураси и f1score покажет нам модель\n",
    "model = LogisticRegression(random_state=12345, solver='liblinear')\n",
    "model.fit(X_train, y_train)\n",
    "predicted_valid = model.predict(X_valid)\n",
    "accuracy_valid = accuracy_score(predicted_valid, y_valid)\n",
    "print('Accuracy is:', accuracy_valid)\n",
    "print('F1_Score is:', f1_score(y_valid, predicted_valid))\n",
    "\n",
    "confusion_matrix(y_valid, predicted_valid)"
   ]
  },
  {
   "cell_type": "markdown",
   "metadata": {},
   "source": [
    "Случайный лес показывает наилучшие результаты, попробуем поработать с моделью Случайного леса, посмотрим удастся ли нам ее улучшить"
   ]
  },
  {
   "cell_type": "markdown",
   "metadata": {},
   "source": [
    "## Борьба с дисбалансом"
   ]
  },
  {
   "cell_type": "code",
   "execution_count": 20,
   "metadata": {},
   "outputs": [
    {
     "name": "stdout",
     "output_type": "stream",
     "text": [
      "Depth:     1       |   Estimators:     1\n",
      "Accuracy: 0.6785   |   F1_Score: 0.4819\n",
      "------------------------------------------------------\n",
      "Depth:     1       |   Estimators:    51\n",
      "Accuracy: 0.7375   |   F1_Score: 0.4937\n",
      "------------------------------------------------------\n",
      "Depth:     1       |   Estimators:   101\n",
      "Accuracy: 0.7345   |   F1_Score: 0.5238\n",
      "------------------------------------------------------\n",
      "Depth:    11       |   Estimators:     1\n",
      "Accuracy: 0.7665   |   F1_Score: 0.5353\n",
      "------------------------------------------------------\n",
      "Depth:    11       |   Estimators:    51\n",
      "Accuracy: 0.8350   |   F1_Score: 0.6034\n",
      "------------------------------------------------------\n",
      "Depth:    11       |   Estimators:   101\n",
      "Accuracy: 0.8380   |   F1_Score: 0.6029\n",
      "------------------------------------------------------\n",
      "Depth:    21       |   Estimators:     1\n",
      "Accuracy: 0.7605   |   F1_Score: 0.4437\n",
      "------------------------------------------------------\n",
      "Depth:    21       |   Estimators:    51\n",
      "Accuracy: 0.8420   |   F1_Score: 0.5108\n",
      "------------------------------------------------------\n",
      "Depth:    21       |   Estimators:   101\n",
      "Accuracy: 0.8425   |   F1_Score: 0.5116\n",
      "------------------------------------------------------\n"
     ]
    }
   ],
   "source": [
    "for depth,estimator in itertools.product(range(1,30,10), range(1,151,50)):\n",
    "    model = RandomForestClassifier(random_state=12345, max_depth=depth, n_estimators=estimator, class_weight='balanced')\n",
    "    model.fit(X_train, y_train)\n",
    "    predictions = model.predict(X_valid)\n",
    "    score = accuracy_score(predictions, y_valid)\n",
    "    fscore = f1_score(y_valid, predictions)\n",
    "    print('Depth: {: >5.0f}       |   Estimators: {:>5.0f}'.format(depth, estimator))\n",
    "    print('Accuracy: {: >5.4f}   |   F1_Score: {: >5.4f}'.format(score,fscore))\n",
    "    print('------------------------------------------------------')"
   ]
  },
  {
   "cell_type": "markdown",
   "metadata": {},
   "source": [
    "При глубине деревьев 11 и числе деревьев 51. F1_score показал наилучший результат : 0.6034 и accuracy_score : 0.8350. Попробуем улучшить показатели"
   ]
  },
  {
   "cell_type": "code",
   "execution_count": 21,
   "metadata": {},
   "outputs": [
    {
     "name": "stdout",
     "output_type": "stream",
     "text": [
      "F1_Score: 0.496  |   Repeats :     1\n",
      "F1_Score: 0.528  |   Repeats :     2\n",
      "F1_Score: 0.506  |   Repeats :     3\n",
      "F1_Score: 0.549  |   Repeats :     4\n",
      "F1_Score: 0.533  |   Repeats :     5\n",
      "F1_Score: 0.500  |   Repeats :     6\n",
      "F1_Score: 0.524  |   Repeats :     7\n",
      "F1_Score: 0.525  |   Repeats :     8\n",
      "F1_Score: 0.526  |   Repeats :     9\n"
     ]
    }
   ],
   "source": [
    "#Попробуем обучить нашу модель с помощью увеличения выборки\n",
    "\n",
    "def upsampling(features, target, repeat):\n",
    "    X_zeros = X_train[y_train == 0]\n",
    "    X_ones = X_train[y_train == 1]\n",
    "    y_zeros = y_train[y_train == 0]\n",
    "    y_ones = y_train[y_train == 1]\n",
    "\n",
    "    X_upsampled = pd.concat([X_zeros] + [X_ones] * repeat)\n",
    "    y_upsampled = pd.concat([y_zeros] + [y_ones] * repeat)\n",
    "    \n",
    "    X_upsampled, y_upsampled = shuffle(X_upsampled, y_upsampled, random_state=12345)\n",
    "    \n",
    "    return X_upsampled, y_upsampled\n",
    "\n",
    "\n",
    "for repeat in range(1,10,1):\n",
    "    X_upsampled, y_upsampled = upsampling(X_train, y_train, repeat)\n",
    "\n",
    "    model = RandomForestClassifier(random_state=12345)\n",
    "    model.fit(X_upsampled, y_upsampled)\n",
    "    predictions = model.predict(X_valid)\n",
    "    print(\"F1_Score: {: >5.3f}  |   Repeats : {: >5.0f}\".format(f1_score(y_valid, predictions),repeat))"
   ]
  },
  {
   "cell_type": "code",
   "execution_count": 22,
   "metadata": {},
   "outputs": [
    {
     "name": "stdout",
     "output_type": "stream",
     "text": [
      "F1_Score: 0.374  |  Fractions : 0.030\n",
      "F1_Score: 0.438  |  Fractions : 0.060\n",
      "F1_Score: 0.473  |  Fractions : 0.090\n",
      "F1_Score: 0.489  |  Fractions : 0.120\n",
      "F1_Score: 0.503  |  Fractions : 0.150\n",
      "F1_Score: 0.542  |  Fractions : 0.180\n",
      "F1_Score: 0.535  |  Fractions : 0.210\n",
      "F1_Score: 0.557  |  Fractions : 0.240\n",
      "F1_Score: 0.534  |  Fractions : 0.270\n",
      "F1_Score: 0.568  |  Fractions : 0.300\n"
     ]
    }
   ],
   "source": [
    "#Попробуем обучить нашу модель с помощью уменьшения выборки\n",
    "\n",
    "def downsampling(X, y, fraction):\n",
    "    X_zeros = X[y == 0]\n",
    "    X_ones = X[y == 1]\n",
    "    y_zeros = y[y == 0]\n",
    "    y_ones = y[y == 1]\n",
    "\n",
    "    X_downsampled = pd.concat(\n",
    "        [X_zeros.sample(frac=fraction, random_state=12345)] + [X_ones])\n",
    "    y_downsampled = pd.concat(\n",
    "        [y_zeros.sample(frac=fraction, random_state=12345)] + [y_ones])\n",
    "    \n",
    "    X_downsampled, y_downsampled = shuffle(\n",
    "        X_downsampled, y_downsampled, random_state=12345)\n",
    "    \n",
    "    return X_downsampled, y_downsampled\n",
    "\n",
    "for i in np.arange(0.03, 0.31, 0.03):\n",
    "    X_downsampled, y_downsampled = downsampling(X_train, y_train, i)\n",
    "    model = RandomForestClassifier(random_state=12345)\n",
    "    model.fit(X_downsampled, y_downsampled)\n",
    "    predictions = model.predict(X_valid)\n",
    "    print(\"F1_Score: {: >5.3f}  |  Fractions : {: >5.3f}\".format(f1_score(y_valid, predictions), i))"
   ]
  },
  {
   "cell_type": "markdown",
   "metadata": {},
   "source": [
    "**Вывод:**\n",
    "\n",
    "Через цикл попробовали методом подбора количества деревьев и глубины леса подобрать нужные параметры.\n",
    "\n",
    "Выявили лучшие параметры это: глубина : 11, количество деревьев 51. F1 score показал 0.6034\n",
    "\n",
    "Попробовали улучшить модели путем увеличения и уменьшения выборок но увеличить f1_score не удалось."
   ]
  },
  {
   "cell_type": "markdown",
   "metadata": {},
   "source": [
    "## Тестирование модели"
   ]
  },
  {
   "cell_type": "code",
   "execution_count": 23,
   "metadata": {},
   "outputs": [
    {
     "name": "stdout",
     "output_type": "stream",
     "text": [
      "Accuracy is: 0.843\n",
      "F1_Score is: 0.6244019138755981\n"
     ]
    }
   ],
   "source": [
    "# Испробуем нашу модель на тестовой выборке с соответствующими параметрами\n",
    "model = RandomForestClassifier(n_estimators = 51, max_depth=11, class_weight='balanced', random_state=12345)\n",
    "model.fit(X_train, y_train)\n",
    "predicted_valid = model.predict(X_test)\n",
    "\n",
    "accuracy_valid = accuracy_score(predicted_valid, y_test)\n",
    "print('Accuracy is:', accuracy_valid)\n",
    "print('F1_Score is:', f1_score(y_test, predicted_valid))"
   ]
  },
  {
   "cell_type": "code",
   "execution_count": 26,
   "metadata": {},
   "outputs": [
    {
     "data": {
      "image/png": "[encoded data removed]",
      "text/plain": [
       "<Figure size 432x288 with 1 Axes>"
      ]
     },
     "metadata": {
      "needs_background": "light"
     },
     "output_type": "display_data"
    },
    {
     "name": "stdout",
     "output_type": "stream",
     "text": [
      "                       Roc Auc Score is: 0.847\n"
     ]
    }
   ],
   "source": [
    "#Отрисуем ROC Кривую\n",
    "y_pred = model.predict_proba(X_test)[:,1]\n",
    "\n",
    "fpr, tpr, thresholds = roc_curve(y_test, y_pred)\n",
    "\n",
    "plt.figure()\n",
    "\n",
    "plt.plot(fpr, tpr)\n",
    "\n",
    "# ROC-кривая случайной модели (выглядит как прямая)\n",
    "plt.plot([0, 1], [0, 1], linestyle='--')\n",
    "\n",
    "plt.xlim([0.0, 1.0])\n",
    "plt.ylim([0.0, 1.0])\n",
    "\n",
    "plt.xlabel('False Positive Rate')\n",
    "plt.ylabel('True Positive Rate')\n",
    "\n",
    "plt.title('ROC-кривая')\n",
    "\n",
    "plt.show()\n",
    "print('                       Roc Auc Score is: {:.3f}'.format(roc_auc_score(y_test, y_pred)))"
   ]
  },
  {
   "cell_type": "markdown",
   "metadata": {},
   "source": [
    "**Общий вывод:**\n",
    "\n",
    "Подготовили датасет для прогнозирования оттока клиентов\n",
    "\n",
    "Использовали две модели : RandomForestClassifier и LogisticRegression, на начальном этапе LogisticRegression показал наихудшие результаты, поэтому мы выбрали RandomForestClassifier для дальнейшей работы.\n",
    "\n",
    "Попробовали увеличить и уменьшить выборки для увеличения f1_score, но наибольшее, что мы получили это f1_score : 0.56.\n",
    "\n",
    "Впринципе, требоваемое задание выполнили, но применив метод подбора количества деревьев и глубины леса через цикл мы нашли наилучшие параметры для Случайного Леса и получили F1_score : 0.62\n",
    "\n",
    "Отрисовали ROC кривую и получили roc auc score : 85, что значительно больше случайного порога в 0.5. Наша модель предсказывает достаточно хорошо.\n"
   ]
  }
 ],
 "metadata": {
  "ExecuteTimeLog": [
   {
    "duration": 1493,
    "start_time": "2022-02-14T14:23:25.111Z"
   },
   {
    "duration": 42,
    "start_time": "2022-02-14T14:23:56.313Z"
   },
   {
    "duration": 45,
    "start_time": "2022-02-14T14:24:16.286Z"
   },
   {
    "duration": 8,
    "start_time": "2022-02-14T14:24:30.270Z"
   },
   {
    "duration": 11,
    "start_time": "2022-02-14T14:25:12.983Z"
   },
   {
    "duration": 17,
    "start_time": "2022-02-14T14:25:13.838Z"
   },
   {
    "duration": 296,
    "start_time": "2022-02-14T14:25:19.613Z"
   },
   {
    "duration": 12,
    "start_time": "2022-02-14T14:26:02.111Z"
   },
   {
    "duration": 1431,
    "start_time": "2022-02-14T14:27:24.697Z"
   },
   {
    "duration": -79310,
    "start_time": "2022-02-14T14:28:45.441Z"
   },
   {
    "duration": -79314,
    "start_time": "2022-02-14T14:28:45.446Z"
   },
   {
    "duration": -79316,
    "start_time": "2022-02-14T14:28:45.449Z"
   },
   {
    "duration": -79316,
    "start_time": "2022-02-14T14:28:45.450Z"
   },
   {
    "duration": -79316,
    "start_time": "2022-02-14T14:28:45.451Z"
   },
   {
    "duration": -79316,
    "start_time": "2022-02-14T14:28:45.452Z"
   },
   {
    "duration": -79316,
    "start_time": "2022-02-14T14:28:45.453Z"
   },
   {
    "duration": -79316,
    "start_time": "2022-02-14T14:28:45.454Z"
   },
   {
    "duration": -79315,
    "start_time": "2022-02-14T14:28:45.454Z"
   },
   {
    "duration": -79316,
    "start_time": "2022-02-14T14:28:45.455Z"
   },
   {
    "duration": -79316,
    "start_time": "2022-02-14T14:28:45.456Z"
   },
   {
    "duration": -79316,
    "start_time": "2022-02-14T14:28:45.457Z"
   },
   {
    "duration": -79318,
    "start_time": "2022-02-14T14:28:45.460Z"
   },
   {
    "duration": -79318,
    "start_time": "2022-02-14T14:28:45.461Z"
   },
   {
    "duration": -79318,
    "start_time": "2022-02-14T14:28:45.462Z"
   },
   {
    "duration": -79319,
    "start_time": "2022-02-14T14:28:45.463Z"
   },
   {
    "duration": 249,
    "start_time": "2022-02-14T14:28:59.244Z"
   },
   {
    "duration": 214,
    "start_time": "2022-02-14T14:29:08.131Z"
   },
   {
    "duration": 1381,
    "start_time": "2022-02-14T14:29:18.947Z"
   },
   {
    "duration": 1441,
    "start_time": "2022-02-14T14:29:29.124Z"
   },
   {
    "duration": -79313,
    "start_time": "2022-02-14T14:30:49.881Z"
   },
   {
    "duration": -79315,
    "start_time": "2022-02-14T14:30:49.885Z"
   },
   {
    "duration": -79315,
    "start_time": "2022-02-14T14:30:49.886Z"
   },
   {
    "duration": -79314,
    "start_time": "2022-02-14T14:30:49.887Z"
   },
   {
    "duration": -79313,
    "start_time": "2022-02-14T14:30:49.887Z"
   },
   {
    "duration": -79312,
    "start_time": "2022-02-14T14:30:49.888Z"
   },
   {
    "duration": -79312,
    "start_time": "2022-02-14T14:30:49.889Z"
   },
   {
    "duration": -79310,
    "start_time": "2022-02-14T14:30:49.889Z"
   },
   {
    "duration": -79311,
    "start_time": "2022-02-14T14:30:49.891Z"
   },
   {
    "duration": -79310,
    "start_time": "2022-02-14T14:30:49.892Z"
   },
   {
    "duration": -79314,
    "start_time": "2022-02-14T14:30:49.897Z"
   },
   {
    "duration": -79313,
    "start_time": "2022-02-14T14:30:49.898Z"
   },
   {
    "duration": -79313,
    "start_time": "2022-02-14T14:30:49.899Z"
   },
   {
    "duration": -79312,
    "start_time": "2022-02-14T14:30:49.900Z"
   },
   {
    "duration": -79312,
    "start_time": "2022-02-14T14:30:49.901Z"
   },
   {
    "duration": -79311,
    "start_time": "2022-02-14T14:30:49.902Z"
   },
   {
    "duration": 47,
    "start_time": "2022-02-14T14:30:10.006Z"
   },
   {
    "duration": 50,
    "start_time": "2022-02-14T14:30:13.135Z"
   },
   {
    "duration": 7,
    "start_time": "2022-02-14T14:30:16.223Z"
   },
   {
    "duration": 12,
    "start_time": "2022-02-14T14:30:18.479Z"
   },
   {
    "duration": 17,
    "start_time": "2022-02-14T14:30:20.646Z"
   },
   {
    "duration": 289,
    "start_time": "2022-02-14T14:30:23.526Z"
   },
   {
    "duration": 12,
    "start_time": "2022-02-14T14:30:29.031Z"
   },
   {
    "duration": 7,
    "start_time": "2022-02-14T14:30:31.606Z"
   },
   {
    "duration": 6,
    "start_time": "2022-02-14T14:30:33.886Z"
   },
   {
    "duration": 4,
    "start_time": "2022-02-14T14:30:36.351Z"
   },
   {
    "duration": 11,
    "start_time": "2022-02-14T14:30:38.623Z"
   },
   {
    "duration": 5,
    "start_time": "2022-02-14T14:30:41.535Z"
   },
   {
    "duration": 25,
    "start_time": "2022-02-14T14:30:45.095Z"
   },
   {
    "duration": 25,
    "start_time": "2022-02-14T14:30:47.543Z"
   },
   {
    "duration": 23,
    "start_time": "2022-02-14T14:30:49.505Z"
   },
   {
    "duration": 14,
    "start_time": "2022-02-14T14:30:52.350Z"
   },
   {
    "duration": 81,
    "start_time": "2022-02-14T14:31:08.839Z"
   },
   {
    "duration": 77,
    "start_time": "2022-02-14T14:31:28.182Z"
   },
   {
    "duration": 1951,
    "start_time": "2022-02-14T14:31:54.527Z"
   },
   {
    "duration": 922,
    "start_time": "2022-02-14T14:32:33.567Z"
   },
   {
    "duration": 405,
    "start_time": "2022-02-14T14:32:58.504Z"
   },
   {
    "duration": 251,
    "start_time": "2022-02-14T14:33:45.655Z"
   },
   {
    "duration": 296,
    "start_time": "2022-02-14T14:33:55.638Z"
   },
   {
    "duration": 235,
    "start_time": "2022-02-14T14:34:29.480Z"
   },
   {
    "duration": 1520,
    "start_time": "2022-02-14T14:45:21.177Z"
   },
   {
    "duration": 51,
    "start_time": "2022-02-14T14:49:26.446Z"
   },
   {
    "duration": 1500,
    "start_time": "2022-02-14T14:49:39.143Z"
   },
   {
    "duration": -79311,
    "start_time": "2022-02-14T14:50:59.956Z"
   },
   {
    "duration": -79311,
    "start_time": "2022-02-14T14:50:59.957Z"
   },
   {
    "duration": -79350,
    "start_time": "2022-02-14T14:50:59.997Z"
   },
   {
    "duration": -79350,
    "start_time": "2022-02-14T14:50:59.998Z"
   },
   {
    "duration": -79350,
    "start_time": "2022-02-14T14:50:59.999Z"
   },
   {
    "duration": -79352,
    "start_time": "2022-02-14T14:51:00.001Z"
   },
   {
    "duration": -79353,
    "start_time": "2022-02-14T14:51:00.003Z"
   },
   {
    "duration": -79354,
    "start_time": "2022-02-14T14:51:00.005Z"
   },
   {
    "duration": -79355,
    "start_time": "2022-02-14T14:51:00.007Z"
   },
   {
    "duration": -79359,
    "start_time": "2022-02-14T14:51:00.012Z"
   },
   {
    "duration": -79359,
    "start_time": "2022-02-14T14:51:00.013Z"
   },
   {
    "duration": -79359,
    "start_time": "2022-02-14T14:51:00.014Z"
   },
   {
    "duration": -79359,
    "start_time": "2022-02-14T14:51:00.015Z"
   },
   {
    "duration": -79358,
    "start_time": "2022-02-14T14:51:00.015Z"
   },
   {
    "duration": -79359,
    "start_time": "2022-02-14T14:51:00.017Z"
   },
   {
    "duration": -79359,
    "start_time": "2022-02-14T14:51:00.018Z"
   },
   {
    "duration": -79359,
    "start_time": "2022-02-14T14:51:00.019Z"
   },
   {
    "duration": -79359,
    "start_time": "2022-02-14T14:51:00.021Z"
   },
   {
    "duration": -79360,
    "start_time": "2022-02-14T14:51:00.023Z"
   },
   {
    "duration": -79401,
    "start_time": "2022-02-14T14:51:00.065Z"
   },
   {
    "duration": -79402,
    "start_time": "2022-02-14T14:51:00.067Z"
   },
   {
    "duration": -79402,
    "start_time": "2022-02-14T14:51:00.068Z"
   },
   {
    "duration": -79402,
    "start_time": "2022-02-14T14:51:00.069Z"
   },
   {
    "duration": 205,
    "start_time": "2022-02-14T14:51:05.232Z"
   },
   {
    "duration": 226,
    "start_time": "2022-02-14T14:51:18.420Z"
   },
   {
    "duration": 1161,
    "start_time": "2022-02-14T14:52:08.309Z"
   },
   {
    "duration": 44,
    "start_time": "2022-02-14T14:52:09.472Z"
   },
   {
    "duration": 64,
    "start_time": "2022-02-14T14:52:09.518Z"
   },
   {
    "duration": 8,
    "start_time": "2022-02-14T14:52:09.585Z"
   },
   {
    "duration": 11,
    "start_time": "2022-02-14T14:52:09.595Z"
   },
   {
    "duration": 18,
    "start_time": "2022-02-14T14:52:09.608Z"
   },
   {
    "duration": 367,
    "start_time": "2022-02-14T14:52:09.627Z"
   },
   {
    "duration": 13,
    "start_time": "2022-02-14T14:52:09.996Z"
   },
   {
    "duration": 15,
    "start_time": "2022-02-14T14:52:10.012Z"
   },
   {
    "duration": 12,
    "start_time": "2022-02-14T14:52:10.029Z"
   },
   {
    "duration": 20,
    "start_time": "2022-02-14T14:52:10.042Z"
   },
   {
    "duration": 26,
    "start_time": "2022-02-14T14:52:10.064Z"
   },
   {
    "duration": 15,
    "start_time": "2022-02-14T14:52:10.092Z"
   },
   {
    "duration": 27,
    "start_time": "2022-02-14T14:52:10.109Z"
   },
   {
    "duration": 33,
    "start_time": "2022-02-14T14:52:10.138Z"
   },
   {
    "duration": 23,
    "start_time": "2022-02-14T14:52:10.172Z"
   },
   {
    "duration": 11,
    "start_time": "2022-02-14T14:52:10.197Z"
   },
   {
    "duration": 99,
    "start_time": "2022-02-14T14:52:10.210Z"
   },
   {
    "duration": 59,
    "start_time": "2022-02-14T14:52:10.310Z"
   },
   {
    "duration": 2042,
    "start_time": "2022-02-14T14:52:10.371Z"
   },
   {
    "duration": 935,
    "start_time": "2022-02-14T14:52:12.414Z"
   },
   {
    "duration": 414,
    "start_time": "2022-02-14T14:52:13.351Z"
   },
   {
    "duration": 267,
    "start_time": "2022-02-14T14:52:13.766Z"
   },
   {
    "duration": 314,
    "start_time": "2022-02-14T14:52:14.034Z"
   },
   {
    "duration": 182,
    "start_time": "2022-02-14T14:55:17.418Z"
   },
   {
    "duration": 184,
    "start_time": "2022-02-14T14:56:13.385Z"
   }
  ],
  "kernelspec": {
   "display_name": "Python 3 (ipykernel)",
   "language": "python",
   "name": "python3"
  },
  "language_info": {
   "codemirror_mode": {
    "name": "ipython",
    "version": 3
   },
   "file_extension": ".py",
   "mimetype": "text/x-python",
   "name": "python",
   "nbconvert_exporter": "python",
   "pygments_lexer": "ipython3",
   "version": "3.9.5"
  },
  "toc": {
   "base_numbering": 1,
   "nav_menu": {},
   "number_sections": true,
   "sideBar": true,
   "skip_h1_title": true,
   "title_cell": "Содержание",
   "title_sidebar": "Contents",
   "toc_cell": true,
   "toc_position": {},
   "toc_section_display": true,
   "toc_window_display": false
  }
 },
 "nbformat": 4,
 "nbformat_minor": 2
}

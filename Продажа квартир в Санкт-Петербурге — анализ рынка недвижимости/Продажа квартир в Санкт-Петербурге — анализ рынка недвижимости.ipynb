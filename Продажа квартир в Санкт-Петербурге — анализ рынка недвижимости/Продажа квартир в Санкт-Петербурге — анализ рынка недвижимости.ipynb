{
 "cells": [
  {
   "cell_type": "markdown",
   "metadata": {
    "toc": true
   },
   "source": [
    "<h1>Содержание<span class=\"tocSkip\"></span></h1>\n",
    "<div class=\"toc\"><ul class=\"toc-item\"><li><span><a href=\"#Изучение-данных-из-файла\" data-toc-modified-id=\"Изучение-данных-из-файла-1\"><span class=\"toc-item-num\">1&nbsp;&nbsp;</span>Изучение данных из файла</a></span><ul class=\"toc-item\"><li><span><a href=\"#Вывод\" data-toc-modified-id=\"Вывод-1.1\"><span class=\"toc-item-num\">1.1&nbsp;&nbsp;</span>Вывод</a></span></li></ul></li><li><span><a href=\"#Предобработка-данных\" data-toc-modified-id=\"Предобработка-данных-2\"><span class=\"toc-item-num\">2&nbsp;&nbsp;</span>Предобработка данных</a></span></li><li><span><a href=\"#Расчёты-и-добавление-результатов-в-таблицу\" data-toc-modified-id=\"Расчёты-и-добавление-результатов-в-таблицу-3\"><span class=\"toc-item-num\">3&nbsp;&nbsp;</span>Расчёты и добавление результатов в таблицу</a></span></li><li><span><a href=\"#Исследовательский-анализ-данных\" data-toc-modified-id=\"Исследовательский-анализ-данных-4\"><span class=\"toc-item-num\">4&nbsp;&nbsp;</span>Исследовательский анализ данных</a></span><ul class=\"toc-item\"><li><span><a href=\"#Изучаем--параметры\" data-toc-modified-id=\"Изучаем--параметры-4.1\"><span class=\"toc-item-num\">4.1&nbsp;&nbsp;</span>Изучаем  параметры</a></span></li><li><span><a href=\"#Изучение-время-продажи-квартиры\" data-toc-modified-id=\"Изучение-время-продажи-квартиры-4.2\"><span class=\"toc-item-num\">4.2&nbsp;&nbsp;</span>Изучение время продажи квартиры</a></span></li><li><span><a href=\"#Уберите-редкие-и-выбивающиеся-значения.-Опишите,-какие-особенности-обнаружили.\" data-toc-modified-id=\"Уберите-редкие-и-выбивающиеся-значения.-Опишите,-какие-особенности-обнаружили.-4.3\"><span class=\"toc-item-num\">4.3&nbsp;&nbsp;</span>Уберите редкие и выбивающиеся значения. Опишите, какие особенности обнаружили.</a></span></li><li><span><a href=\"#Факторы,-влияющие-на-стоимость-квартиры\" data-toc-modified-id=\"Факторы,-влияющие-на-стоимость-квартиры-4.4\"><span class=\"toc-item-num\">4.4&nbsp;&nbsp;</span>Факторы, влияющие на стоимость квартиры</a></span></li><li><span><a href=\"#10-населённых-пунктов-с-наибольшим-числом-объявлений-и-расчеты-средней-цены-квадратного-метра-в-эти-пунктах\" data-toc-modified-id=\"10-населённых-пунктов-с-наибольшим-числом-объявлений-и-расчеты-средней-цены-квадратного-метра-в-эти-пунктах-4.5\"><span class=\"toc-item-num\">4.5&nbsp;&nbsp;</span>10 населённых пунктов с наибольшим числом объявлений и расчеты средней цены квадратного метра в эти пунктах</a></span></li><li><span><a href=\"#Изучение-квартир,-исходя-о-расстоянии-до-центра\" data-toc-modified-id=\"Изучение-квартир,-исходя-о-расстоянии-до-центра-4.6\"><span class=\"toc-item-num\">4.6&nbsp;&nbsp;</span>Изучение квартир, исходя о расстоянии до центра</a></span></li><li><span><a href=\"#Факторы,-которые-влияют-на-стоимость-квартир-в-центре\" data-toc-modified-id=\"Факторы,-которые-влияют-на-стоимость-квартир-в-центре-4.7\"><span class=\"toc-item-num\">4.7&nbsp;&nbsp;</span>Факторы, которые влияют на стоимость квартир в центре</a></span></li></ul></li><li><span><a href=\"#Общий-вывод\" data-toc-modified-id=\"Общий-вывод-5\"><span class=\"toc-item-num\">5&nbsp;&nbsp;</span>Общий вывод</a></span></li><li><span><a href=\"#Чек-лист-готовности-проекта\" data-toc-modified-id=\"Чек-лист-готовности-проекта-6\"><span class=\"toc-item-num\">6&nbsp;&nbsp;</span>Чек-лист готовности проекта</a></span></li></ul></div>"
   ]
  },
  {
   "cell_type": "markdown",
   "metadata": {},
   "source": [
    "# Исследование объявлений о продаже квартир\n",
    "\n",
    "В вашем распоряжении данные сервиса Яндекс.Недвижимость — архив объявлений о продаже квартир в Санкт-Петербурге и соседних населённых пунктах за несколько лет. Нужно научиться определять рыночную стоимость объектов недвижимости. Ваша задача — установить параметры. Это позволит построить автоматизированную систему: она отследит аномалии и мошенническую деятельность. \n",
    "\n",
    "По каждой квартире на продажу доступны два вида данных. Первые вписаны пользователем, вторые получены автоматически на основе картографических данных. Например, расстояние до центра, аэропорта, ближайшего парка и водоёма. "
   ]
  },
  {
   "cell_type": "markdown",
   "metadata": {},
   "source": [
    "## Изучение данных из файла"
   ]
  },
  {
   "cell_type": "code",
   "execution_count": 1,
   "metadata": {},
   "outputs": [],
   "source": [
    "import pandas as pd "
   ]
  },
  {
   "cell_type": "code",
   "execution_count": 2,
   "metadata": {},
   "outputs": [
    {
     "data": {
      "text/html": [
       "<div>\n",
       "<style scoped>\n",
       "    .dataframe tbody tr th:only-of-type {\n",
       "        vertical-align: middle;\n",
       "    }\n",
       "\n",
       "    .dataframe tbody tr th {\n",
       "        vertical-align: top;\n",
       "    }\n",
       "\n",
       "    .dataframe thead th {\n",
       "        text-align: right;\n",
       "    }\n",
       "</style>\n",
       "<table border=\"1\" class=\"dataframe\">\n",
       "  <thead>\n",
       "    <tr style=\"text-align: right;\">\n",
       "      <th></th>\n",
       "      <th>total_images</th>\n",
       "      <th>last_price</th>\n",
       "      <th>total_area</th>\n",
       "      <th>first_day_exposition</th>\n",
       "      <th>rooms</th>\n",
       "      <th>ceiling_height</th>\n",
       "      <th>floors_total</th>\n",
       "      <th>living_area</th>\n",
       "      <th>floor</th>\n",
       "      <th>is_apartment</th>\n",
       "      <th>...</th>\n",
       "      <th>kitchen_area</th>\n",
       "      <th>balcony</th>\n",
       "      <th>locality_name</th>\n",
       "      <th>airports_nearest</th>\n",
       "      <th>cityCenters_nearest</th>\n",
       "      <th>parks_around3000</th>\n",
       "      <th>parks_nearest</th>\n",
       "      <th>ponds_around3000</th>\n",
       "      <th>ponds_nearest</th>\n",
       "      <th>days_exposition</th>\n",
       "    </tr>\n",
       "  </thead>\n",
       "  <tbody>\n",
       "    <tr>\n",
       "      <td>0</td>\n",
       "      <td>20</td>\n",
       "      <td>13000000.0</td>\n",
       "      <td>108.00</td>\n",
       "      <td>2019-03-07T00:00:00</td>\n",
       "      <td>3</td>\n",
       "      <td>2.70</td>\n",
       "      <td>16.0</td>\n",
       "      <td>51.00</td>\n",
       "      <td>8</td>\n",
       "      <td>NaN</td>\n",
       "      <td>...</td>\n",
       "      <td>25.00</td>\n",
       "      <td>NaN</td>\n",
       "      <td>Санкт-Петербург</td>\n",
       "      <td>18863.0</td>\n",
       "      <td>16028.0</td>\n",
       "      <td>1.0</td>\n",
       "      <td>482.0</td>\n",
       "      <td>2.0</td>\n",
       "      <td>755.0</td>\n",
       "      <td>NaN</td>\n",
       "    </tr>\n",
       "    <tr>\n",
       "      <td>1</td>\n",
       "      <td>7</td>\n",
       "      <td>3350000.0</td>\n",
       "      <td>40.40</td>\n",
       "      <td>2018-12-04T00:00:00</td>\n",
       "      <td>1</td>\n",
       "      <td>NaN</td>\n",
       "      <td>11.0</td>\n",
       "      <td>18.60</td>\n",
       "      <td>1</td>\n",
       "      <td>NaN</td>\n",
       "      <td>...</td>\n",
       "      <td>11.00</td>\n",
       "      <td>2.0</td>\n",
       "      <td>посёлок Шушары</td>\n",
       "      <td>12817.0</td>\n",
       "      <td>18603.0</td>\n",
       "      <td>0.0</td>\n",
       "      <td>NaN</td>\n",
       "      <td>0.0</td>\n",
       "      <td>NaN</td>\n",
       "      <td>81.0</td>\n",
       "    </tr>\n",
       "    <tr>\n",
       "      <td>2</td>\n",
       "      <td>10</td>\n",
       "      <td>5196000.0</td>\n",
       "      <td>56.00</td>\n",
       "      <td>2015-08-20T00:00:00</td>\n",
       "      <td>2</td>\n",
       "      <td>NaN</td>\n",
       "      <td>5.0</td>\n",
       "      <td>34.30</td>\n",
       "      <td>4</td>\n",
       "      <td>NaN</td>\n",
       "      <td>...</td>\n",
       "      <td>8.30</td>\n",
       "      <td>0.0</td>\n",
       "      <td>Санкт-Петербург</td>\n",
       "      <td>21741.0</td>\n",
       "      <td>13933.0</td>\n",
       "      <td>1.0</td>\n",
       "      <td>90.0</td>\n",
       "      <td>2.0</td>\n",
       "      <td>574.0</td>\n",
       "      <td>558.0</td>\n",
       "    </tr>\n",
       "    <tr>\n",
       "      <td>3</td>\n",
       "      <td>0</td>\n",
       "      <td>64900000.0</td>\n",
       "      <td>159.00</td>\n",
       "      <td>2015-07-24T00:00:00</td>\n",
       "      <td>3</td>\n",
       "      <td>NaN</td>\n",
       "      <td>14.0</td>\n",
       "      <td>NaN</td>\n",
       "      <td>9</td>\n",
       "      <td>NaN</td>\n",
       "      <td>...</td>\n",
       "      <td>NaN</td>\n",
       "      <td>0.0</td>\n",
       "      <td>Санкт-Петербург</td>\n",
       "      <td>28098.0</td>\n",
       "      <td>6800.0</td>\n",
       "      <td>2.0</td>\n",
       "      <td>84.0</td>\n",
       "      <td>3.0</td>\n",
       "      <td>234.0</td>\n",
       "      <td>424.0</td>\n",
       "    </tr>\n",
       "    <tr>\n",
       "      <td>4</td>\n",
       "      <td>2</td>\n",
       "      <td>10000000.0</td>\n",
       "      <td>100.00</td>\n",
       "      <td>2018-06-19T00:00:00</td>\n",
       "      <td>2</td>\n",
       "      <td>3.03</td>\n",
       "      <td>14.0</td>\n",
       "      <td>32.00</td>\n",
       "      <td>13</td>\n",
       "      <td>NaN</td>\n",
       "      <td>...</td>\n",
       "      <td>41.00</td>\n",
       "      <td>NaN</td>\n",
       "      <td>Санкт-Петербург</td>\n",
       "      <td>31856.0</td>\n",
       "      <td>8098.0</td>\n",
       "      <td>2.0</td>\n",
       "      <td>112.0</td>\n",
       "      <td>1.0</td>\n",
       "      <td>48.0</td>\n",
       "      <td>121.0</td>\n",
       "    </tr>\n",
       "    <tr>\n",
       "      <td>5</td>\n",
       "      <td>10</td>\n",
       "      <td>2890000.0</td>\n",
       "      <td>30.40</td>\n",
       "      <td>2018-09-10T00:00:00</td>\n",
       "      <td>1</td>\n",
       "      <td>NaN</td>\n",
       "      <td>12.0</td>\n",
       "      <td>14.40</td>\n",
       "      <td>5</td>\n",
       "      <td>NaN</td>\n",
       "      <td>...</td>\n",
       "      <td>9.10</td>\n",
       "      <td>NaN</td>\n",
       "      <td>городской посёлок Янино-1</td>\n",
       "      <td>NaN</td>\n",
       "      <td>NaN</td>\n",
       "      <td>NaN</td>\n",
       "      <td>NaN</td>\n",
       "      <td>NaN</td>\n",
       "      <td>NaN</td>\n",
       "      <td>55.0</td>\n",
       "    </tr>\n",
       "    <tr>\n",
       "      <td>6</td>\n",
       "      <td>6</td>\n",
       "      <td>3700000.0</td>\n",
       "      <td>37.30</td>\n",
       "      <td>2017-11-02T00:00:00</td>\n",
       "      <td>1</td>\n",
       "      <td>NaN</td>\n",
       "      <td>26.0</td>\n",
       "      <td>10.60</td>\n",
       "      <td>6</td>\n",
       "      <td>NaN</td>\n",
       "      <td>...</td>\n",
       "      <td>14.40</td>\n",
       "      <td>1.0</td>\n",
       "      <td>посёлок Парголово</td>\n",
       "      <td>52996.0</td>\n",
       "      <td>19143.0</td>\n",
       "      <td>0.0</td>\n",
       "      <td>NaN</td>\n",
       "      <td>0.0</td>\n",
       "      <td>NaN</td>\n",
       "      <td>155.0</td>\n",
       "    </tr>\n",
       "    <tr>\n",
       "      <td>7</td>\n",
       "      <td>5</td>\n",
       "      <td>7915000.0</td>\n",
       "      <td>71.60</td>\n",
       "      <td>2019-04-18T00:00:00</td>\n",
       "      <td>2</td>\n",
       "      <td>NaN</td>\n",
       "      <td>24.0</td>\n",
       "      <td>NaN</td>\n",
       "      <td>22</td>\n",
       "      <td>NaN</td>\n",
       "      <td>...</td>\n",
       "      <td>18.90</td>\n",
       "      <td>2.0</td>\n",
       "      <td>Санкт-Петербург</td>\n",
       "      <td>23982.0</td>\n",
       "      <td>11634.0</td>\n",
       "      <td>0.0</td>\n",
       "      <td>NaN</td>\n",
       "      <td>0.0</td>\n",
       "      <td>NaN</td>\n",
       "      <td>NaN</td>\n",
       "    </tr>\n",
       "    <tr>\n",
       "      <td>8</td>\n",
       "      <td>20</td>\n",
       "      <td>2900000.0</td>\n",
       "      <td>33.16</td>\n",
       "      <td>2018-05-23T00:00:00</td>\n",
       "      <td>1</td>\n",
       "      <td>NaN</td>\n",
       "      <td>27.0</td>\n",
       "      <td>15.43</td>\n",
       "      <td>26</td>\n",
       "      <td>NaN</td>\n",
       "      <td>...</td>\n",
       "      <td>8.81</td>\n",
       "      <td>NaN</td>\n",
       "      <td>посёлок Мурино</td>\n",
       "      <td>NaN</td>\n",
       "      <td>NaN</td>\n",
       "      <td>NaN</td>\n",
       "      <td>NaN</td>\n",
       "      <td>NaN</td>\n",
       "      <td>NaN</td>\n",
       "      <td>189.0</td>\n",
       "    </tr>\n",
       "    <tr>\n",
       "      <td>9</td>\n",
       "      <td>18</td>\n",
       "      <td>5400000.0</td>\n",
       "      <td>61.00</td>\n",
       "      <td>2017-02-26T00:00:00</td>\n",
       "      <td>3</td>\n",
       "      <td>2.50</td>\n",
       "      <td>9.0</td>\n",
       "      <td>43.60</td>\n",
       "      <td>7</td>\n",
       "      <td>NaN</td>\n",
       "      <td>...</td>\n",
       "      <td>6.50</td>\n",
       "      <td>2.0</td>\n",
       "      <td>Санкт-Петербург</td>\n",
       "      <td>50898.0</td>\n",
       "      <td>15008.0</td>\n",
       "      <td>0.0</td>\n",
       "      <td>NaN</td>\n",
       "      <td>0.0</td>\n",
       "      <td>NaN</td>\n",
       "      <td>289.0</td>\n",
       "    </tr>\n",
       "  </tbody>\n",
       "</table>\n",
       "<p>10 rows × 22 columns</p>\n",
       "</div>"
      ],
      "text/plain": [
       "   total_images  last_price  total_area first_day_exposition  rooms  \\\n",
       "0            20  13000000.0      108.00  2019-03-07T00:00:00      3   \n",
       "1             7   3350000.0       40.40  2018-12-04T00:00:00      1   \n",
       "2            10   5196000.0       56.00  2015-08-20T00:00:00      2   \n",
       "3             0  64900000.0      159.00  2015-07-24T00:00:00      3   \n",
       "4             2  10000000.0      100.00  2018-06-19T00:00:00      2   \n",
       "5            10   2890000.0       30.40  2018-09-10T00:00:00      1   \n",
       "6             6   3700000.0       37.30  2017-11-02T00:00:00      1   \n",
       "7             5   7915000.0       71.60  2019-04-18T00:00:00      2   \n",
       "8            20   2900000.0       33.16  2018-05-23T00:00:00      1   \n",
       "9            18   5400000.0       61.00  2017-02-26T00:00:00      3   \n",
       "\n",
       "   ceiling_height  floors_total  living_area  floor is_apartment  ...  \\\n",
       "0            2.70          16.0        51.00      8          NaN  ...   \n",
       "1             NaN          11.0        18.60      1          NaN  ...   \n",
       "2             NaN           5.0        34.30      4          NaN  ...   \n",
       "3             NaN          14.0          NaN      9          NaN  ...   \n",
       "4            3.03          14.0        32.00     13          NaN  ...   \n",
       "5             NaN          12.0        14.40      5          NaN  ...   \n",
       "6             NaN          26.0        10.60      6          NaN  ...   \n",
       "7             NaN          24.0          NaN     22          NaN  ...   \n",
       "8             NaN          27.0        15.43     26          NaN  ...   \n",
       "9            2.50           9.0        43.60      7          NaN  ...   \n",
       "\n",
       "   kitchen_area  balcony              locality_name  airports_nearest  \\\n",
       "0         25.00      NaN            Санкт-Петербург           18863.0   \n",
       "1         11.00      2.0             посёлок Шушары           12817.0   \n",
       "2          8.30      0.0            Санкт-Петербург           21741.0   \n",
       "3           NaN      0.0            Санкт-Петербург           28098.0   \n",
       "4         41.00      NaN            Санкт-Петербург           31856.0   \n",
       "5          9.10      NaN  городской посёлок Янино-1               NaN   \n",
       "6         14.40      1.0          посёлок Парголово           52996.0   \n",
       "7         18.90      2.0            Санкт-Петербург           23982.0   \n",
       "8          8.81      NaN             посёлок Мурино               NaN   \n",
       "9          6.50      2.0            Санкт-Петербург           50898.0   \n",
       "\n",
       "  cityCenters_nearest  parks_around3000  parks_nearest  ponds_around3000  \\\n",
       "0             16028.0               1.0          482.0               2.0   \n",
       "1             18603.0               0.0            NaN               0.0   \n",
       "2             13933.0               1.0           90.0               2.0   \n",
       "3              6800.0               2.0           84.0               3.0   \n",
       "4              8098.0               2.0          112.0               1.0   \n",
       "5                 NaN               NaN            NaN               NaN   \n",
       "6             19143.0               0.0            NaN               0.0   \n",
       "7             11634.0               0.0            NaN               0.0   \n",
       "8                 NaN               NaN            NaN               NaN   \n",
       "9             15008.0               0.0            NaN               0.0   \n",
       "\n",
       "   ponds_nearest  days_exposition  \n",
       "0          755.0              NaN  \n",
       "1            NaN             81.0  \n",
       "2          574.0            558.0  \n",
       "3          234.0            424.0  \n",
       "4           48.0            121.0  \n",
       "5            NaN             55.0  \n",
       "6            NaN            155.0  \n",
       "7            NaN              NaN  \n",
       "8            NaN            189.0  \n",
       "9            NaN            289.0  \n",
       "\n",
       "[10 rows x 22 columns]"
      ]
     },
     "execution_count": 2,
     "metadata": {},
     "output_type": "execute_result"
    }
   ],
   "source": [
    "df = pd.read_csv('/datasets/real_estate_data.csv', sep='\\t') \n",
    "df.head(10)"
   ]
  },
  {
   "cell_type": "code",
   "execution_count": 3,
   "metadata": {},
   "outputs": [
    {
     "name": "stdout",
     "output_type": "stream",
     "text": [
      "<class 'pandas.core.frame.DataFrame'>\n",
      "RangeIndex: 23699 entries, 0 to 23698\n",
      "Data columns (total 22 columns):\n",
      "total_images            23699 non-null int64\n",
      "last_price              23699 non-null float64\n",
      "total_area              23699 non-null float64\n",
      "first_day_exposition    23699 non-null object\n",
      "rooms                   23699 non-null int64\n",
      "ceiling_height          14504 non-null float64\n",
      "floors_total            23613 non-null float64\n",
      "living_area             21796 non-null float64\n",
      "floor                   23699 non-null int64\n",
      "is_apartment            2775 non-null object\n",
      "studio                  23699 non-null bool\n",
      "open_plan               23699 non-null bool\n",
      "kitchen_area            21421 non-null float64\n",
      "balcony                 12180 non-null float64\n",
      "locality_name           23650 non-null object\n",
      "airports_nearest        18157 non-null float64\n",
      "cityCenters_nearest     18180 non-null float64\n",
      "parks_around3000        18181 non-null float64\n",
      "parks_nearest           8079 non-null float64\n",
      "ponds_around3000        18181 non-null float64\n",
      "ponds_nearest           9110 non-null float64\n",
      "days_exposition         20518 non-null float64\n",
      "dtypes: bool(2), float64(14), int64(3), object(3)\n",
      "memory usage: 3.7+ MB\n"
     ]
    }
   ],
   "source": [
    "# получаем общую информацию о датасете\n",
    "df.info()"
   ]
  },
  {
   "cell_type": "code",
   "execution_count": 4,
   "metadata": {},
   "outputs": [
    {
     "data": {
      "text/plain": [
       "total_images                0\n",
       "last_price                  0\n",
       "total_area                  0\n",
       "first_day_exposition        0\n",
       "rooms                       0\n",
       "ceiling_height           9195\n",
       "floors_total               86\n",
       "living_area              1903\n",
       "floor                       0\n",
       "is_apartment            20924\n",
       "studio                      0\n",
       "open_plan                   0\n",
       "kitchen_area             2278\n",
       "balcony                 11519\n",
       "locality_name              49\n",
       "airports_nearest         5542\n",
       "cityCenters_nearest      5519\n",
       "parks_around3000         5518\n",
       "parks_nearest           15620\n",
       "ponds_around3000         5518\n",
       "ponds_nearest           14589\n",
       "days_exposition          3181\n",
       "dtype: int64"
      ]
     },
     "execution_count": 4,
     "metadata": {},
     "output_type": "execute_result"
    }
   ],
   "source": [
    "# смотрим в каких столбцах есть пропуски\n",
    "df.isna().sum()"
   ]
  },
  {
   "cell_type": "markdown",
   "metadata": {},
   "source": [
    "### Вывод"
   ]
  },
  {
   "cell_type": "markdown",
   "metadata": {},
   "source": [
    "Датасет содержит 22 столбца.\n",
    "Пропуски есть в столбцах:\n",
    "1) ceiling_height - высота потолков (м)\n",
    "\n",
    "2) floors_total - всего этажей в доме\n",
    "\n",
    "3) living_area - жилая площадь в квадратных метрах (м²)\n",
    "\n",
    "4) is_apartment - апартаменты (булев тип)\n",
    "\n",
    "5) kitchen_area - площадь кухни в квадратных метрах (м²)\n",
    "\n",
    "6) balcony - число балконов\n",
    "\n",
    "7) locality_name - название населённого пункта\n",
    "\n",
    "8) airports_nearest - расстояние до ближайшего аэропорта в метрах (м)\n",
    "\n",
    "9) cityCenters_nearest - расстояние до центра города (м)\n",
    "\n",
    "10) parks_around3000 - число парков в радиусе 3 км\n",
    "\n",
    "11) parks_nearest - расстояние до ближайшего парка (м)\n",
    "\n",
    "12) days_exposition - сколько дней было размещено объявление (от публикации до снятия)\n",
    "\n",
    "13) ponds_around3000 - число водоёмов в радиусе 3 км\n",
    "\n",
    "14) ponds_nearest - ponds_nearest\n",
    "\n",
    "У столбца \"first_day_exposition\" должен быть  тип данных - datetime"
   ]
  },
  {
   "cell_type": "markdown",
   "metadata": {},
   "source": [
    "## Предобработка данных"
   ]
  },
  {
   "cell_type": "code",
   "execution_count": 5,
   "metadata": {},
   "outputs": [
    {
     "data": {
      "text/plain": [
       "0    15277\n",
       "1     4195\n",
       "2     3659\n",
       "5      304\n",
       "4      183\n",
       "3       81\n",
       "Name: balcony, dtype: int64"
      ]
     },
     "execution_count": 5,
     "metadata": {},
     "output_type": "execute_result"
    }
   ],
   "source": [
    "# цитирую из описания проекта \"если человек не указал число балконов — скорее всего, их нет. Такие пропуски правильно заменить на 0\"\n",
    "df['balcony'] = df['balcony'].fillna(value = 0).astype('int')\n",
    "df['balcony'].value_counts(dropna=False)"
   ]
  },
  {
   "cell_type": "code",
   "execution_count": 6,
   "metadata": {},
   "outputs": [
    {
     "data": {
      "text/plain": [
       "2019-04-22T00:00:00    0.014461\n",
       "2019-04-18T00:00:00    0.013832\n",
       "2019-04-29T00:00:00    0.011317\n",
       "2019-04-08T00:00:00    0.011317\n",
       "2019-04-04T00:00:00    0.011317\n",
       "2019-04-26T00:00:00    0.011003\n",
       "2019-04-17T00:00:00    0.011003\n",
       "2019-04-15T00:00:00    0.010688\n",
       "2019-04-16T00:00:00    0.010060\n",
       "2019-04-24T00:00:00    0.010060\n",
       "2019-04-09T00:00:00    0.009745\n",
       "2019-04-01T00:00:00    0.009431\n",
       "2019-04-23T00:00:00    0.009431\n",
       "2019-04-05T00:00:00    0.009117\n",
       "2019-04-11T00:00:00    0.009117\n",
       "2019-05-01T00:00:00    0.009117\n",
       "2019-03-13T00:00:00    0.009117\n",
       "2019-03-19T00:00:00    0.008802\n",
       "2019-03-15T00:00:00    0.008802\n",
       "2019-02-12T00:00:00    0.008802\n",
       "Name: first_day_exposition, dtype: float64"
      ]
     },
     "metadata": {},
     "output_type": "display_data"
    }
   ],
   "source": [
    "display(df[df['days_exposition'].isna()]['first_day_exposition'].value_counts(normalize=True).head(20))"
   ]
  },
  {
   "cell_type": "code",
   "execution_count": 7,
   "metadata": {},
   "outputs": [
    {
     "data": {
      "text/plain": [
       "0        NaN\n",
       "1         81\n",
       "2        558\n",
       "3        424\n",
       "4        121\n",
       "        ... \n",
       "23694    NaN\n",
       "23695     45\n",
       "23696    NaN\n",
       "23697    602\n",
       "23698    NaN\n",
       "Name: days_exposition, Length: 23699, dtype: Int64"
      ]
     },
     "execution_count": 7,
     "metadata": {},
     "output_type": "execute_result"
    }
   ],
   "source": [
    "df['days_exposition'].astype('float32').astype('Int64')\n"
   ]
  },
  {
   "cell_type": "code",
   "execution_count": 8,
   "metadata": {},
   "outputs": [
    {
     "data": {
      "text/plain": [
       "count    20518.000000\n",
       "mean       180.888634\n",
       "std        219.727988\n",
       "min          1.000000\n",
       "25%         45.000000\n",
       "50%         95.000000\n",
       "75%        232.000000\n",
       "max       1580.000000\n",
       "Name: days_exposition, dtype: float64"
      ]
     },
     "execution_count": 8,
     "metadata": {},
     "output_type": "execute_result"
    }
   ],
   "source": [
    "df['days_exposition'].describe()"
   ]
  },
  {
   "cell_type": "code",
   "execution_count": 9,
   "metadata": {
    "scrolled": false
   },
   "outputs": [
    {
     "data": {
      "text/plain": [
       "Санкт-Петербург            15721\n",
       "посёлок Мурино               522\n",
       "посёлок Шушары               440\n",
       "Всеволожск                   398\n",
       "Пушкин                       369\n",
       "                           ...  \n",
       "поселок Кирпичное              1\n",
       "деревня Малая Романовка        1\n",
       "поселок Дружноселье            1\n",
       "поселок Красносельское         1\n",
       "деревня Мануйлово              1\n",
       "Name: locality_name, Length: 365, dtype: int64"
      ]
     },
     "execution_count": 9,
     "metadata": {},
     "output_type": "execute_result"
    }
   ],
   "source": [
    "df['locality_name'].value_counts(dropna=False)\n",
    "# пропуски в 'locality_name' не трогаю, так как не понимаю, чем их заменить и их всего 49."
   ]
  },
  {
   "cell_type": "code",
   "execution_count": 10,
   "metadata": {},
   "outputs": [
    {
     "name": "stdout",
     "output_type": "stream",
     "text": [
      "0   2019-03-07\n",
      "1   2018-12-04\n",
      "2   2015-08-20\n",
      "3   2015-07-24\n",
      "4   2018-06-19\n",
      "Name: first_day_exposition, dtype: datetime64[ns]\n"
     ]
    }
   ],
   "source": [
    "# переведем столбец 'first_day_exposition' в datetime\n",
    "df['first_day_exposition'] = pd.to_datetime(df['first_day_exposition'], format = '%Y-%m-%d')\n",
    "print(df['first_day_exposition'].head())"
   ]
  },
  {
   "cell_type": "code",
   "execution_count": 11,
   "metadata": {
    "scrolled": false
   },
   "outputs": [
    {
     "data": {
      "text/plain": [
       "2018-02-01    0.016966\n",
       "2017-11-10    0.011279\n",
       "2017-10-13    0.005639\n",
       "2017-09-27    0.005209\n",
       "2018-03-26    0.004492\n",
       "Name: first_day_exposition, dtype: float64"
      ]
     },
     "metadata": {},
     "output_type": "display_data"
    },
    {
     "data": {
      "text/plain": [
       "2017-10-03    0.008288\n",
       "2017-04-14    0.007568\n",
       "2017-04-20    0.006847\n",
       "2017-02-08    0.005766\n",
       "2016-06-23    0.005045\n",
       "Name: first_day_exposition, dtype: float64"
      ]
     },
     "metadata": {},
     "output_type": "display_data"
    }
   ],
   "source": [
    "# проверю что пропуски в 'is_apartment' случайны и не зависят от 'first_day_exposition'.\n",
    "display(df[df['is_apartment'].isna()]['first_day_exposition'].value_counts(normalize=True).head())\n",
    "display(df[df['is_apartment'].notna()]['first_day_exposition'].value_counts(normalize=True).head())"
   ]
  },
  {
   "cell_type": "code",
   "execution_count": 12,
   "metadata": {},
   "outputs": [
    {
     "data": {
      "text/plain": [
       "False    23649\n",
       "True        50\n",
       "Name: is_apartment, dtype: int64"
      ]
     },
     "execution_count": 12,
     "metadata": {},
     "output_type": "execute_result"
    }
   ],
   "source": [
    "# заменю пропуски в 'is_apartment' на \"False\"\n",
    "df['is_apartment'] = df['is_apartment'].fillna(value = False)\n",
    "df['is_apartment'].value_counts(dropna=False)\n"
   ]
  },
  {
   "cell_type": "code",
   "execution_count": 13,
   "metadata": {
    "scrolled": false
   },
   "outputs": [
    {
     "data": {
      "text/plain": [
       "2.50      3515\n",
       "2.60      1646\n",
       "2.70      1574\n",
       "3.00      1112\n",
       "2.80       993\n",
       "          ... \n",
       "27.50        1\n",
       "5.00         1\n",
       "3.59         1\n",
       "4.80         1\n",
       "100.00       1\n",
       "Name: ceiling_height, Length: 183, dtype: int64"
      ]
     },
     "execution_count": 13,
     "metadata": {},
     "output_type": "execute_result"
    }
   ],
   "source": [
    "#посмотрим параметр ceiling_height, видим что есть  большие значения. Оставим их как есть\n",
    "df['ceiling_height'].value_counts()"
   ]
  },
  {
   "cell_type": "code",
   "execution_count": 14,
   "metadata": {
    "scrolled": false
   },
   "outputs": [
    {
     "data": {
      "text/plain": [
       "count    14504.000000\n",
       "mean         2.771499\n",
       "std          1.261056\n",
       "min          1.000000\n",
       "25%          2.520000\n",
       "50%          2.650000\n",
       "75%          2.800000\n",
       "max        100.000000\n",
       "Name: ceiling_height, dtype: float64"
      ]
     },
     "execution_count": 14,
     "metadata": {},
     "output_type": "execute_result"
    },
    {
     "data": {
      "image/png": "[encoded data removed]",
      "text/plain": [
       "<Figure size 432x288 with 1 Axes>"
      ]
     },
     "metadata": {
      "needs_background": "light"
     },
     "output_type": "display_data"
    }
   ],
   "source": [
    "# проверим сильно ли отличается медиана от среднего из-за  выбросов в выборке\n",
    "df['ceiling_height'].sort_values().plot(y = 'ceiling_height', kind = 'hist', bins = 30, range=(2,5))\n",
    "df['ceiling_height'].describe()"
   ]
  },
  {
   "cell_type": "markdown",
   "metadata": {},
   "source": [
    "Видим, что медиана от среднего отличается не сильно."
   ]
  },
  {
   "cell_type": "code",
   "execution_count": 15,
   "metadata": {},
   "outputs": [
    {
     "data": {
      "text/html": [
       "<div>\n",
       "<style scoped>\n",
       "    .dataframe tbody tr th:only-of-type {\n",
       "        vertical-align: middle;\n",
       "    }\n",
       "\n",
       "    .dataframe tbody tr th {\n",
       "        vertical-align: top;\n",
       "    }\n",
       "\n",
       "    .dataframe thead th {\n",
       "        text-align: right;\n",
       "    }\n",
       "</style>\n",
       "<table border=\"1\" class=\"dataframe\">\n",
       "  <thead>\n",
       "    <tr style=\"text-align: right;\">\n",
       "      <th></th>\n",
       "      <th>total_images</th>\n",
       "      <th>last_price</th>\n",
       "      <th>total_area</th>\n",
       "      <th>first_day_exposition</th>\n",
       "      <th>rooms</th>\n",
       "      <th>ceiling_height</th>\n",
       "      <th>floors_total</th>\n",
       "      <th>living_area</th>\n",
       "      <th>floor</th>\n",
       "      <th>is_apartment</th>\n",
       "      <th>...</th>\n",
       "      <th>kitchen_area</th>\n",
       "      <th>balcony</th>\n",
       "      <th>locality_name</th>\n",
       "      <th>airports_nearest</th>\n",
       "      <th>cityCenters_nearest</th>\n",
       "      <th>parks_around3000</th>\n",
       "      <th>parks_nearest</th>\n",
       "      <th>ponds_around3000</th>\n",
       "      <th>ponds_nearest</th>\n",
       "      <th>days_exposition</th>\n",
       "    </tr>\n",
       "  </thead>\n",
       "  <tbody>\n",
       "    <tr>\n",
       "      <td>186</td>\n",
       "      <td>12</td>\n",
       "      <td>11640000.0</td>\n",
       "      <td>65.2</td>\n",
       "      <td>2018-10-02</td>\n",
       "      <td>2</td>\n",
       "      <td>NaN</td>\n",
       "      <td>NaN</td>\n",
       "      <td>30.80</td>\n",
       "      <td>4</td>\n",
       "      <td>False</td>\n",
       "      <td>...</td>\n",
       "      <td>12.00</td>\n",
       "      <td>0</td>\n",
       "      <td>Санкт-Петербург</td>\n",
       "      <td>39197.0</td>\n",
       "      <td>12373.0</td>\n",
       "      <td>1.0</td>\n",
       "      <td>123.0</td>\n",
       "      <td>0.0</td>\n",
       "      <td>NaN</td>\n",
       "      <td>49.0</td>\n",
       "    </tr>\n",
       "    <tr>\n",
       "      <td>237</td>\n",
       "      <td>4</td>\n",
       "      <td>2438033.0</td>\n",
       "      <td>28.1</td>\n",
       "      <td>2016-11-23</td>\n",
       "      <td>1</td>\n",
       "      <td>NaN</td>\n",
       "      <td>NaN</td>\n",
       "      <td>20.75</td>\n",
       "      <td>1</td>\n",
       "      <td>False</td>\n",
       "      <td>...</td>\n",
       "      <td>NaN</td>\n",
       "      <td>0</td>\n",
       "      <td>Санкт-Петербург</td>\n",
       "      <td>22041.0</td>\n",
       "      <td>17369.0</td>\n",
       "      <td>0.0</td>\n",
       "      <td>NaN</td>\n",
       "      <td>1.0</td>\n",
       "      <td>374.0</td>\n",
       "      <td>251.0</td>\n",
       "    </tr>\n",
       "    <tr>\n",
       "      <td>457</td>\n",
       "      <td>4</td>\n",
       "      <td>9788348.0</td>\n",
       "      <td>70.8</td>\n",
       "      <td>2015-08-01</td>\n",
       "      <td>2</td>\n",
       "      <td>NaN</td>\n",
       "      <td>NaN</td>\n",
       "      <td>38.40</td>\n",
       "      <td>12</td>\n",
       "      <td>False</td>\n",
       "      <td>...</td>\n",
       "      <td>10.63</td>\n",
       "      <td>0</td>\n",
       "      <td>Санкт-Петербург</td>\n",
       "      <td>37364.0</td>\n",
       "      <td>8322.0</td>\n",
       "      <td>2.0</td>\n",
       "      <td>309.0</td>\n",
       "      <td>2.0</td>\n",
       "      <td>706.0</td>\n",
       "      <td>727.0</td>\n",
       "    </tr>\n",
       "    <tr>\n",
       "      <td>671</td>\n",
       "      <td>4</td>\n",
       "      <td>6051191.0</td>\n",
       "      <td>93.6</td>\n",
       "      <td>2017-04-06</td>\n",
       "      <td>3</td>\n",
       "      <td>NaN</td>\n",
       "      <td>NaN</td>\n",
       "      <td>47.10</td>\n",
       "      <td>8</td>\n",
       "      <td>False</td>\n",
       "      <td>...</td>\n",
       "      <td>16.80</td>\n",
       "      <td>0</td>\n",
       "      <td>Санкт-Петербург</td>\n",
       "      <td>22041.0</td>\n",
       "      <td>17369.0</td>\n",
       "      <td>0.0</td>\n",
       "      <td>NaN</td>\n",
       "      <td>1.0</td>\n",
       "      <td>374.0</td>\n",
       "      <td>123.0</td>\n",
       "    </tr>\n",
       "    <tr>\n",
       "      <td>1757</td>\n",
       "      <td>5</td>\n",
       "      <td>3600000.0</td>\n",
       "      <td>39.0</td>\n",
       "      <td>2017-04-22</td>\n",
       "      <td>1</td>\n",
       "      <td>NaN</td>\n",
       "      <td>NaN</td>\n",
       "      <td>NaN</td>\n",
       "      <td>9</td>\n",
       "      <td>False</td>\n",
       "      <td>...</td>\n",
       "      <td>NaN</td>\n",
       "      <td>0</td>\n",
       "      <td>Санкт-Петербург</td>\n",
       "      <td>22735.0</td>\n",
       "      <td>11618.0</td>\n",
       "      <td>1.0</td>\n",
       "      <td>835.0</td>\n",
       "      <td>1.0</td>\n",
       "      <td>652.0</td>\n",
       "      <td>77.0</td>\n",
       "    </tr>\n",
       "    <tr>\n",
       "      <td>...</td>\n",
       "      <td>...</td>\n",
       "      <td>...</td>\n",
       "      <td>...</td>\n",
       "      <td>...</td>\n",
       "      <td>...</td>\n",
       "      <td>...</td>\n",
       "      <td>...</td>\n",
       "      <td>...</td>\n",
       "      <td>...</td>\n",
       "      <td>...</td>\n",
       "      <td>...</td>\n",
       "      <td>...</td>\n",
       "      <td>...</td>\n",
       "      <td>...</td>\n",
       "      <td>...</td>\n",
       "      <td>...</td>\n",
       "      <td>...</td>\n",
       "      <td>...</td>\n",
       "      <td>...</td>\n",
       "      <td>...</td>\n",
       "      <td>...</td>\n",
       "    </tr>\n",
       "    <tr>\n",
       "      <td>22542</td>\n",
       "      <td>5</td>\n",
       "      <td>8500000.0</td>\n",
       "      <td>63.5</td>\n",
       "      <td>2017-05-24</td>\n",
       "      <td>2</td>\n",
       "      <td>2.8</td>\n",
       "      <td>NaN</td>\n",
       "      <td>NaN</td>\n",
       "      <td>3</td>\n",
       "      <td>False</td>\n",
       "      <td>...</td>\n",
       "      <td>NaN</td>\n",
       "      <td>0</td>\n",
       "      <td>Санкт-Петербург</td>\n",
       "      <td>51340.0</td>\n",
       "      <td>15363.0</td>\n",
       "      <td>0.0</td>\n",
       "      <td>NaN</td>\n",
       "      <td>1.0</td>\n",
       "      <td>853.0</td>\n",
       "      <td>512.0</td>\n",
       "    </tr>\n",
       "    <tr>\n",
       "      <td>22656</td>\n",
       "      <td>4</td>\n",
       "      <td>4574160.0</td>\n",
       "      <td>64.5</td>\n",
       "      <td>2017-04-02</td>\n",
       "      <td>2</td>\n",
       "      <td>NaN</td>\n",
       "      <td>NaN</td>\n",
       "      <td>31.70</td>\n",
       "      <td>20</td>\n",
       "      <td>False</td>\n",
       "      <td>...</td>\n",
       "      <td>14.40</td>\n",
       "      <td>0</td>\n",
       "      <td>Санкт-Петербург</td>\n",
       "      <td>22041.0</td>\n",
       "      <td>17369.0</td>\n",
       "      <td>0.0</td>\n",
       "      <td>NaN</td>\n",
       "      <td>1.0</td>\n",
       "      <td>374.0</td>\n",
       "      <td>127.0</td>\n",
       "    </tr>\n",
       "    <tr>\n",
       "      <td>22808</td>\n",
       "      <td>0</td>\n",
       "      <td>14569263.0</td>\n",
       "      <td>110.4</td>\n",
       "      <td>2016-11-20</td>\n",
       "      <td>3</td>\n",
       "      <td>NaN</td>\n",
       "      <td>NaN</td>\n",
       "      <td>45.38</td>\n",
       "      <td>6</td>\n",
       "      <td>False</td>\n",
       "      <td>...</td>\n",
       "      <td>23.42</td>\n",
       "      <td>0</td>\n",
       "      <td>Санкт-Петербург</td>\n",
       "      <td>19095.0</td>\n",
       "      <td>4529.0</td>\n",
       "      <td>0.0</td>\n",
       "      <td>NaN</td>\n",
       "      <td>0.0</td>\n",
       "      <td>NaN</td>\n",
       "      <td>260.0</td>\n",
       "    </tr>\n",
       "    <tr>\n",
       "      <td>23590</td>\n",
       "      <td>0</td>\n",
       "      <td>21187872.0</td>\n",
       "      <td>123.3</td>\n",
       "      <td>2017-04-25</td>\n",
       "      <td>3</td>\n",
       "      <td>NaN</td>\n",
       "      <td>NaN</td>\n",
       "      <td>50.40</td>\n",
       "      <td>18</td>\n",
       "      <td>False</td>\n",
       "      <td>...</td>\n",
       "      <td>23.60</td>\n",
       "      <td>0</td>\n",
       "      <td>Санкт-Петербург</td>\n",
       "      <td>19095.0</td>\n",
       "      <td>4529.0</td>\n",
       "      <td>0.0</td>\n",
       "      <td>NaN</td>\n",
       "      <td>0.0</td>\n",
       "      <td>NaN</td>\n",
       "      <td>104.0</td>\n",
       "    </tr>\n",
       "    <tr>\n",
       "      <td>23658</td>\n",
       "      <td>6</td>\n",
       "      <td>3063600.0</td>\n",
       "      <td>43.8</td>\n",
       "      <td>2016-11-28</td>\n",
       "      <td>1</td>\n",
       "      <td>2.7</td>\n",
       "      <td>NaN</td>\n",
       "      <td>14.00</td>\n",
       "      <td>8</td>\n",
       "      <td>False</td>\n",
       "      <td>...</td>\n",
       "      <td>15.50</td>\n",
       "      <td>2</td>\n",
       "      <td>Санкт-Петербург</td>\n",
       "      <td>8426.0</td>\n",
       "      <td>12082.0</td>\n",
       "      <td>2.0</td>\n",
       "      <td>24.0</td>\n",
       "      <td>1.0</td>\n",
       "      <td>271.0</td>\n",
       "      <td>246.0</td>\n",
       "    </tr>\n",
       "  </tbody>\n",
       "</table>\n",
       "<p>86 rows × 22 columns</p>\n",
       "</div>"
      ],
      "text/plain": [
       "       total_images  last_price  total_area first_day_exposition  rooms  \\\n",
       "186              12  11640000.0        65.2           2018-10-02      2   \n",
       "237               4   2438033.0        28.1           2016-11-23      1   \n",
       "457               4   9788348.0        70.8           2015-08-01      2   \n",
       "671               4   6051191.0        93.6           2017-04-06      3   \n",
       "1757              5   3600000.0        39.0           2017-04-22      1   \n",
       "...             ...         ...         ...                  ...    ...   \n",
       "22542             5   8500000.0        63.5           2017-05-24      2   \n",
       "22656             4   4574160.0        64.5           2017-04-02      2   \n",
       "22808             0  14569263.0       110.4           2016-11-20      3   \n",
       "23590             0  21187872.0       123.3           2017-04-25      3   \n",
       "23658             6   3063600.0        43.8           2016-11-28      1   \n",
       "\n",
       "       ceiling_height  floors_total  living_area  floor  is_apartment  ...  \\\n",
       "186               NaN           NaN        30.80      4         False  ...   \n",
       "237               NaN           NaN        20.75      1         False  ...   \n",
       "457               NaN           NaN        38.40     12         False  ...   \n",
       "671               NaN           NaN        47.10      8         False  ...   \n",
       "1757              NaN           NaN          NaN      9         False  ...   \n",
       "...               ...           ...          ...    ...           ...  ...   \n",
       "22542             2.8           NaN          NaN      3         False  ...   \n",
       "22656             NaN           NaN        31.70     20         False  ...   \n",
       "22808             NaN           NaN        45.38      6         False  ...   \n",
       "23590             NaN           NaN        50.40     18         False  ...   \n",
       "23658             2.7           NaN        14.00      8         False  ...   \n",
       "\n",
       "       kitchen_area  balcony    locality_name  airports_nearest  \\\n",
       "186           12.00        0  Санкт-Петербург           39197.0   \n",
       "237             NaN        0  Санкт-Петербург           22041.0   \n",
       "457           10.63        0  Санкт-Петербург           37364.0   \n",
       "671           16.80        0  Санкт-Петербург           22041.0   \n",
       "1757            NaN        0  Санкт-Петербург           22735.0   \n",
       "...             ...      ...              ...               ...   \n",
       "22542           NaN        0  Санкт-Петербург           51340.0   \n",
       "22656         14.40        0  Санкт-Петербург           22041.0   \n",
       "22808         23.42        0  Санкт-Петербург           19095.0   \n",
       "23590         23.60        0  Санкт-Петербург           19095.0   \n",
       "23658         15.50        2  Санкт-Петербург            8426.0   \n",
       "\n",
       "      cityCenters_nearest  parks_around3000  parks_nearest  ponds_around3000  \\\n",
       "186               12373.0               1.0          123.0               0.0   \n",
       "237               17369.0               0.0            NaN               1.0   \n",
       "457                8322.0               2.0          309.0               2.0   \n",
       "671               17369.0               0.0            NaN               1.0   \n",
       "1757              11618.0               1.0          835.0               1.0   \n",
       "...                   ...               ...            ...               ...   \n",
       "22542             15363.0               0.0            NaN               1.0   \n",
       "22656             17369.0               0.0            NaN               1.0   \n",
       "22808              4529.0               0.0            NaN               0.0   \n",
       "23590              4529.0               0.0            NaN               0.0   \n",
       "23658             12082.0               2.0           24.0               1.0   \n",
       "\n",
       "       ponds_nearest  days_exposition  \n",
       "186              NaN             49.0  \n",
       "237            374.0            251.0  \n",
       "457            706.0            727.0  \n",
       "671            374.0            123.0  \n",
       "1757           652.0             77.0  \n",
       "...              ...              ...  \n",
       "22542          853.0            512.0  \n",
       "22656          374.0            127.0  \n",
       "22808            NaN            260.0  \n",
       "23590            NaN            104.0  \n",
       "23658          271.0            246.0  \n",
       "\n",
       "[86 rows x 22 columns]"
      ]
     },
     "execution_count": 15,
     "metadata": {},
     "output_type": "execute_result"
    }
   ],
   "source": [
    "# в столбце \"floors_total\" нет общего пропущенных значений с данными датасета. \n",
    "# Пропущенных значений всего 86. Можем оставить как есть или заменить на средние.\n",
    "df[df['floors_total'].isna()]"
   ]
  },
  {
   "cell_type": "code",
   "execution_count": 16,
   "metadata": {
    "scrolled": false
   },
   "outputs": [
    {
     "data": {
      "text/plain": [
       "18.00    882\n",
       "17.00    675\n",
       "30.00    598\n",
       "16.00    486\n",
       "20.00    481\n",
       "        ... \n",
       "20.03      1\n",
       "10.55      1\n",
       "24.83      1\n",
       "20.97      1\n",
       "15.55      1\n",
       "Name: living_area, Length: 1782, dtype: int64"
      ]
     },
     "execution_count": 16,
     "metadata": {},
     "output_type": "execute_result"
    }
   ],
   "source": [
    "df['living_area'].value_counts()"
   ]
  },
  {
   "cell_type": "code",
   "execution_count": 17,
   "metadata": {
    "scrolled": false
   },
   "outputs": [
    {
     "data": {
      "text/plain": [
       "count    21796.000000\n",
       "mean        34.457852\n",
       "std         22.030445\n",
       "min          2.000000\n",
       "25%         18.600000\n",
       "50%         30.000000\n",
       "75%         42.300000\n",
       "max        409.700000\n",
       "Name: living_area, dtype: float64"
      ]
     },
     "execution_count": 17,
     "metadata": {},
     "output_type": "execute_result"
    }
   ],
   "source": [
    "df['living_area'].describe()"
   ]
  },
  {
   "cell_type": "code",
   "execution_count": 18,
   "metadata": {},
   "outputs": [
    {
     "data": {
      "text/plain": [
       "0.5647655216993234"
      ]
     },
     "metadata": {},
     "output_type": "display_data"
    }
   ],
   "source": [
    "# посчитаем средний процент жилой площади от всей площади по все выборке\n",
    "display((df['living_area'] / df['total_area']).mean())"
   ]
  },
  {
   "cell_type": "code",
   "execution_count": 19,
   "metadata": {
    "scrolled": false
   },
   "outputs": [
    {
     "data": {
      "text/plain": [
       "18.000    882\n",
       "17.000    675\n",
       "30.000    598\n",
       "16.000    486\n",
       "20.000    481\n",
       "         ... \n",
       "30.010      1\n",
       "37.184      1\n",
       "30.296      1\n",
       "88.088      1\n",
       "56.336      1\n",
       "Name: living_area, Length: 2419, dtype: int64"
      ]
     },
     "execution_count": 19,
     "metadata": {},
     "output_type": "execute_result"
    }
   ],
   "source": [
    "# заменим пропущенные значения на средний процент жилой площади\n",
    "living_area = df['total_area'] * 0.56\n",
    "df['living_area'] = df['living_area'].fillna(value = living_area)\n",
    "df['living_area'].value_counts(dropna=False)"
   ]
  },
  {
   "cell_type": "code",
   "execution_count": 20,
   "metadata": {},
   "outputs": [
    {
     "data": {
      "text/plain": [
       "0"
      ]
     },
     "execution_count": 20,
     "metadata": {},
     "output_type": "execute_result"
    }
   ],
   "source": [
    "# проверим сумму пропусков\n",
    "df['living_area'].isna().sum()"
   ]
  },
  {
   "cell_type": "code",
   "execution_count": 21,
   "metadata": {
    "scrolled": false
   },
   "outputs": [
    {
     "data": {
      "text/plain": [
       "count    23699.000000\n",
       "mean        34.538250\n",
       "std         22.306235\n",
       "min          2.000000\n",
       "25%         19.000000\n",
       "50%         30.000000\n",
       "75%         42.078000\n",
       "max        409.700000\n",
       "Name: living_area, dtype: float64"
      ]
     },
     "execution_count": 21,
     "metadata": {},
     "output_type": "execute_result"
    }
   ],
   "source": [
    "# проверим изменились ли средние значения по столбцу 'living_area' после замены пропусков. \n",
    "# Видим что значения не изменились. Наверное, это значит что можно было не менятб данные.\n",
    "df['living_area'].describe()"
   ]
  },
  {
   "cell_type": "code",
   "execution_count": 22,
   "metadata": {},
   "outputs": [
    {
     "data": {
      "text/plain": [
       "0.1873547387717406"
      ]
     },
     "metadata": {},
     "output_type": "display_data"
    }
   ],
   "source": [
    "# сделаем тоже самое для 'kitchen_area'\n",
    "display((df['kitchen_area'] / df['total_area']).mean())"
   ]
  },
  {
   "cell_type": "code",
   "execution_count": 23,
   "metadata": {
    "scrolled": false
   },
   "outputs": [
    {
     "data": {
      "text/plain": [
       "6.0000     1300\n",
       "10.0000    1262\n",
       "8.0000     1110\n",
       "9.0000     1101\n",
       "7.0000     1062\n",
       "           ... \n",
       "15.2228       1\n",
       "11.6400       1\n",
       "16.4920       1\n",
       "10.1300       1\n",
       "11.4300       1\n",
       "Name: kitchen_area, Length: 1657, dtype: int64"
      ]
     },
     "execution_count": 23,
     "metadata": {},
     "output_type": "execute_result"
    }
   ],
   "source": [
    "kitchen_area = df['total_area'] * 0.19\n",
    "df['kitchen_area'] = df['kitchen_area'].fillna(value = kitchen_area)\n",
    "df['kitchen_area'].value_counts(dropna=False)"
   ]
  },
  {
   "cell_type": "code",
   "execution_count": 24,
   "metadata": {},
   "outputs": [
    {
     "data": {
      "text/plain": [
       "0"
      ]
     },
     "execution_count": 24,
     "metadata": {},
     "output_type": "execute_result"
    }
   ],
   "source": [
    "df['kitchen_area'].isna().sum()"
   ]
  },
  {
   "cell_type": "markdown",
   "metadata": {},
   "source": [
    "**Вывод** \n",
    "\n",
    "Обработал данные там, где необходимо для дальнейшего исследования."
   ]
  },
  {
   "cell_type": "markdown",
   "metadata": {},
   "source": [
    "## Расчёты и добавление результатов в таблицу"
   ]
  },
  {
   "cell_type": "code",
   "execution_count": 25,
   "metadata": {},
   "outputs": [
    {
     "data": {
      "text/plain": [
       "0    120370\n",
       "1     82920\n",
       "2     92785\n",
       "3    408176\n",
       "4    100000\n",
       "Name: price_per_square_meter, dtype: int64"
      ]
     },
     "execution_count": 25,
     "metadata": {},
     "output_type": "execute_result"
    }
   ],
   "source": [
    "# цена квадратного метра:\n",
    "df['price_per_square_meter'] = df['last_price'] / df['total_area']\n",
    "df['price_per_square_meter'].astype('int').head()"
   ]
  },
  {
   "cell_type": "code",
   "execution_count": 26,
   "metadata": {},
   "outputs": [
    {
     "data": {
      "text/plain": [
       "0"
      ]
     },
     "execution_count": 26,
     "metadata": {},
     "output_type": "execute_result"
    }
   ],
   "source": [
    "df['price_per_square_meter'].isna().sum()"
   ]
  },
  {
   "cell_type": "code",
   "execution_count": 27,
   "metadata": {},
   "outputs": [],
   "source": [
    "# добавляем  в таблицу: день недели, месяц и год публикации объявления\n",
    "df['weekday_exposition'] = df['first_day_exposition'].dt.weekday\n",
    "df['month_exposition'] = df['first_day_exposition'].dt.month\n",
    "df['year_exposition'] = df['first_day_exposition'].dt.year"
   ]
  },
  {
   "cell_type": "code",
   "execution_count": 28,
   "metadata": {},
   "outputs": [
    {
     "data": {
      "text/plain": [
       "0    3\n",
       "1    1\n",
       "2    3\n",
       "3    4\n",
       "4    1\n",
       "Name: weekday_exposition, dtype: int64"
      ]
     },
     "execution_count": 28,
     "metadata": {},
     "output_type": "execute_result"
    }
   ],
   "source": [
    "df['weekday_exposition'].head()"
   ]
  },
  {
   "cell_type": "code",
   "execution_count": 29,
   "metadata": {},
   "outputs": [
    {
     "data": {
      "text/plain": [
       "0    2019\n",
       "1    2018\n",
       "2    2015\n",
       "3    2015\n",
       "4    2018\n",
       "Name: year_exposition, dtype: int64"
      ]
     },
     "execution_count": 29,
     "metadata": {},
     "output_type": "execute_result"
    }
   ],
   "source": [
    "df['year_exposition'].head()"
   ]
  },
  {
   "cell_type": "code",
   "execution_count": 30,
   "metadata": {},
   "outputs": [
    {
     "data": {
      "text/plain": [
       "0     3\n",
       "1    12\n",
       "2     8\n",
       "3     7\n",
       "4     6\n",
       "Name: month_exposition, dtype: int64"
      ]
     },
     "execution_count": 30,
     "metadata": {},
     "output_type": "execute_result"
    }
   ],
   "source": [
    "df['month_exposition'].head()"
   ]
  },
  {
   "cell_type": "code",
   "execution_count": 31,
   "metadata": {},
   "outputs": [],
   "source": [
    "# проведу категоризацию этажей\n",
    "def floor_category(row):\n",
    "    floors_total = row['floors_total']\n",
    "    floor = row['floor']\n",
    "    if floor == 1:\n",
    "        return 'первый'\n",
    "    elif floor == floors_total:\n",
    "        return 'последний'\n",
    "    elif 1 < floor < floors_total:\n",
    "        return 'другой'"
   ]
  },
  {
   "cell_type": "code",
   "execution_count": 32,
   "metadata": {},
   "outputs": [
    {
     "data": {
      "text/plain": [
       "другой       17363\n",
       "последний     3336\n",
       "первый        2917\n",
       "NaN             83\n",
       "Name: floor_category, dtype: int64"
      ]
     },
     "execution_count": 32,
     "metadata": {},
     "output_type": "execute_result"
    }
   ],
   "source": [
    "df['floor_category'] = df.apply(floor_category, axis = 1)\n",
    "df['floor_category'].value_counts(dropna=False)"
   ]
  },
  {
   "cell_type": "code",
   "execution_count": 33,
   "metadata": {},
   "outputs": [],
   "source": [
    "# расчет соотношения жилой и общей площади, а также отношения площади кухни к общей\n",
    "df['useful_area_ratio'] = df['living_area'] / df['total_area']\n",
    "df['kitchen_area_ratio'] = df['kitchen_area'] / df['total_area']"
   ]
  },
  {
   "cell_type": "code",
   "execution_count": 34,
   "metadata": {},
   "outputs": [
    {
     "data": {
      "text/plain": [
       "0    0.472222\n",
       "1    0.460396\n",
       "2    0.612500\n",
       "3    0.560000\n",
       "4    0.320000\n",
       "Name: useful_area_ratio, dtype: float64"
      ]
     },
     "execution_count": 34,
     "metadata": {},
     "output_type": "execute_result"
    }
   ],
   "source": [
    "df['useful_area_ratio'].head()"
   ]
  },
  {
   "cell_type": "code",
   "execution_count": 35,
   "metadata": {},
   "outputs": [
    {
     "data": {
      "text/plain": [
       "0    0.231481\n",
       "1    0.272277\n",
       "2    0.148214\n",
       "3    0.190000\n",
       "4    0.410000\n",
       "Name: kitchen_area_ratio, dtype: float64"
      ]
     },
     "execution_count": 35,
     "metadata": {},
     "output_type": "execute_result"
    }
   ],
   "source": [
    "df['kitchen_area_ratio'].head()"
   ]
  },
  {
   "cell_type": "markdown",
   "metadata": {},
   "source": [
    "## Исследовательский анализ данных"
   ]
  },
  {
   "cell_type": "markdown",
   "metadata": {},
   "source": [
    "### Изучаем  параметры"
   ]
  },
  {
   "cell_type": "code",
   "execution_count": 36,
   "metadata": {},
   "outputs": [
    {
     "data": {
      "text/plain": [
       "count    23699.000000\n",
       "mean        60.348651\n",
       "std         35.654083\n",
       "min         12.000000\n",
       "25%         40.000000\n",
       "50%         52.000000\n",
       "75%         69.900000\n",
       "max        900.000000\n",
       "Name: total_area, dtype: float64"
      ]
     },
     "execution_count": 36,
     "metadata": {},
     "output_type": "execute_result"
    },
    {
     "data": {
      "image/png": "[encoded data removed]",
      "text/plain": [
       "<Figure size 360x216 with 1 Axes>"
      ]
     },
     "metadata": {
      "needs_background": "light"
     },
     "output_type": "display_data"
    }
   ],
   "source": [
    "#Изучаем  параметры: площадь, цена, число комнат, высота потолков. Строим гистограммы для каждого параметра.\n",
    "# площадь\n",
    "df.plot(y = 'total_area', kind = 'hist', bins = 100, grid=True, figsize = (5,3), range = (0,500))\n",
    "df['total_area'].describe()"
   ]
  },
  {
   "cell_type": "code",
   "execution_count": 37,
   "metadata": {},
   "outputs": [
    {
     "data": {
      "text/plain": [
       "count    2.369900e+04\n",
       "mean     6.541549e+06\n",
       "std      1.088701e+07\n",
       "min      1.219000e+04\n",
       "25%      3.400000e+06\n",
       "50%      4.650000e+06\n",
       "75%      6.800000e+06\n",
       "max      7.630000e+08\n",
       "Name: last_price, dtype: float64"
      ]
     },
     "execution_count": 37,
     "metadata": {},
     "output_type": "execute_result"
    },
    {
     "data": {
      "image/png": "[encoded data removed]",
      "text/plain": [
       "<Figure size 360x216 with 1 Axes>"
      ]
     },
     "metadata": {
      "needs_background": "light"
     },
     "output_type": "display_data"
    }
   ],
   "source": [
    "# цена\n",
    "df.plot(y = 'last_price', kind = 'hist', bins = 100, grid=True, range = (0,15000000), figsize = (5,3))\n",
    "df['last_price'].describe()"
   ]
  },
  {
   "cell_type": "code",
   "execution_count": 38,
   "metadata": {
    "scrolled": false
   },
   "outputs": [
    {
     "data": {
      "text/plain": [
       "count    23699.000000\n",
       "mean         2.070636\n",
       "std          1.078405\n",
       "min          0.000000\n",
       "25%          1.000000\n",
       "50%          2.000000\n",
       "75%          3.000000\n",
       "max         19.000000\n",
       "Name: rooms, dtype: float64"
      ]
     },
     "execution_count": 38,
     "metadata": {},
     "output_type": "execute_result"
    },
    {
     "data": {
      "image/png": "[encoded data removed]",
      "text/plain": [
       "<Figure size 360x216 with 1 Axes>"
      ]
     },
     "metadata": {
      "needs_background": "light"
     },
     "output_type": "display_data"
    }
   ],
   "source": [
    "# число комнат\n",
    "df.plot(y = 'rooms', kind = 'hist', bins = 30, grid=True, figsize = (5,3))\n",
    "df['rooms'].describe()"
   ]
  },
  {
   "cell_type": "code",
   "execution_count": 39,
   "metadata": {
    "scrolled": false
   },
   "outputs": [
    {
     "data": {
      "text/plain": [
       "count    14504.000000\n",
       "mean         2.771499\n",
       "std          1.261056\n",
       "min          1.000000\n",
       "25%          2.520000\n",
       "50%          2.650000\n",
       "75%          2.800000\n",
       "max        100.000000\n",
       "Name: ceiling_height, dtype: float64"
      ]
     },
     "execution_count": 39,
     "metadata": {},
     "output_type": "execute_result"
    },
    {
     "data": {
      "image/png": "[encoded data removed]",
      "text/plain": [
       "<Figure size 360x216 with 1 Axes>"
      ]
     },
     "metadata": {
      "needs_background": "light"
     },
     "output_type": "display_data"
    }
   ],
   "source": [
    "# высота потолков\n",
    "df.plot(y = 'ceiling_height', kind = 'hist', bins = 30, range = (2,5), grid=True, figsize = (5,3))\n",
    "df['ceiling_height'].describe()"
   ]
  },
  {
   "cell_type": "markdown",
   "metadata": {},
   "source": [
    "**Вывод:** \n",
    "1. Общая площадь в нашей выборке колеблется от 12 до 900 м2, среднее значение 60, а медиана 52 м2.\n",
    "\n",
    "2. Цены на недвижимость имеют среднее значение в 6,5 млн руб., медиана 4,6 млн руб.\n",
    "\n",
    "3. Количество комнат колеблется от 1 до 19. Больше всего однокомнатных квартир.\n",
    "\n",
    "4. Высота потолков в среднем составляет 2,77 м, медиана 2,65 м."
   ]
  },
  {
   "cell_type": "code",
   "execution_count": 40,
   "metadata": {
    "scrolled": true
   },
   "outputs": [
    {
     "data": {
      "image/png": "[encoded data removed]",
      "text/plain": [
       "<Figure size 432x288 with 1 Axes>"
      ]
     },
     "metadata": {
      "needs_background": "light"
     },
     "output_type": "display_data"
    },
    {
     "data": {
      "image/png": "[encoded data removed]",
      "text/plain": [
       "<Figure size 432x288 with 1 Axes>"
      ]
     },
     "metadata": {
      "needs_background": "light"
     },
     "output_type": "display_data"
    },
    {
     "data": {
      "image/png": "[encoded data removed]",
      "text/plain": [
       "<Figure size 432x288 with 1 Axes>"
      ]
     },
     "metadata": {
      "needs_background": "light"
     },
     "output_type": "display_data"
    },
    {
     "data": {
      "image/png": "[encoded data removed]",
      "text/plain": [
       "<Figure size 432x288 with 1 Axes>"
      ]
     },
     "metadata": {
      "needs_background": "light"
     },
     "output_type": "display_data"
    },
    {
     "data": {
      "image/png": "[encoded data removed]",
      "text/plain": [
       "<Figure size 432x288 with 1 Axes>"
      ]
     },
     "metadata": {
      "needs_background": "light"
     },
     "output_type": "display_data"
    }
   ],
   "source": [
    "# функция для построения графиков выше\n",
    "df_chek = df.loc[:, ['last_price', 'price_per_square_meter', 'total_area', 'ceiling_height', 'rooms']]\n",
    "\n",
    "for column in df_chek:\n",
    "   \n",
    "    qr = df[column].quantile(.75) - df[column].quantile(.25) #считает межквартильный размах\n",
    "   \n",
    "    mini = df[column].min() # считает нижний диапазон\n",
    "    qmin = df[column].quantile(.25) - qr * 3\n",
    "    if qmin < mini:\n",
    "        qmin = mini\n",
    "    else:\n",
    "        qmin = qmin\n",
    "   \n",
    "    maxi = df[column].max() # считает верхний диапазон\n",
    "    qmax = df[column].quantile(.75) + qr * 3\n",
    "    if qmax > maxi:\n",
    "        qmax = maxi\n",
    "    else:\n",
    "        qmax = qmax\n",
    "       \n",
    "    df_chek.hist(column, bins = 20, range = ((qmin), (qmax))) #строит гистограммы в нужном диапазоне"
   ]
  },
  {
   "cell_type": "markdown",
   "metadata": {},
   "source": [
    "### Изучение время продажи квартиры"
   ]
  },
  {
   "cell_type": "markdown",
   "metadata": {},
   "source": [
    "Проверяем гипотезу, что дата снятия объявления может не считаться датой продажи, причем в непонятном для нас количестве случаев..."
   ]
  },
  {
   "cell_type": "code",
   "execution_count": 41,
   "metadata": {},
   "outputs": [
    {
     "data": {
      "text/plain": [
       "count    20518.000000\n",
       "mean       180.888634\n",
       "std        219.727988\n",
       "min          1.000000\n",
       "25%         45.000000\n",
       "50%         95.000000\n",
       "75%        232.000000\n",
       "max       1580.000000\n",
       "Name: days_exposition, dtype: float64"
      ]
     },
     "execution_count": 41,
     "metadata": {},
     "output_type": "execute_result"
    },
    {
     "data": {
      "image/png": "[encoded data removed]",
      "text/plain": [
       "<Figure size 432x288 with 1 Axes>"
      ]
     },
     "metadata": {
      "needs_background": "light"
     },
     "output_type": "display_data"
    },
    {
     "data": {
      "image/png": "[encoded data removed]",
      "text/plain": [
       "<Figure size 432x288 with 1 Axes>"
      ]
     },
     "metadata": {
      "needs_background": "light"
     },
     "output_type": "display_data"
    },
    {
     "data": {
      "image/png": "[encoded data removed]",
      "text/plain": [
       "<Figure size 432x288 with 1 Axes>"
      ]
     },
     "metadata": {
      "needs_background": "light"
     },
     "output_type": "display_data"
    }
   ],
   "source": [
    "import matplotlib.pyplot as plt\n",
    "df.boxplot('days_exposition')\n",
    "plt.ylim(1,1000)\n",
    "\n",
    "df.plot(y = 'days_exposition', kind = 'hist', bins = 30, grid = True, range = (1,1600))\n",
    "df.plot(y = 'days_exposition', kind = 'hist', bins = 100, grid = True, range = (1,200))\n",
    "\n",
    "#среднее значение, медиана и межквартильный размах\n",
    "df['days_exposition'].describe()"
   ]
  },
  {
   "cell_type": "markdown",
   "metadata": {},
   "source": [
    "**Вывод**\n",
    "\n",
    "Сделав гистограмму со значениями от 0 до 200 с кол-вом корзин 100, обнаружили выбивающиеся значения и методом value_counts убедились в этом - у нас аномалии на 45, 60, 7, 30, 90 днях - это наиболее популярное количество дней до снятия объявления. Эти данные будем убирать.\n",
    "Судя по гистограмме - мы имеем распределение Пуассона. Среднее значение - 180 дней, а медиана - 95 дней."
   ]
  },
  {
   "cell_type": "markdown",
   "metadata": {},
   "source": [
    "### Уберите редкие и выбивающиеся значения. Опишите, какие особенности обнаружили."
   ]
  },
  {
   "cell_type": "code",
   "execution_count": 42,
   "metadata": {},
   "outputs": [
    {
     "data": {
      "text/plain": [
       "count    16988.000000\n",
       "mean       139.473334\n",
       "std        118.490710\n",
       "min         15.000000\n",
       "25%         46.000000\n",
       "50%         96.000000\n",
       "75%        196.000000\n",
       "max        499.000000\n",
       "Name: days_exposition, dtype: float64"
      ]
     },
     "execution_count": 42,
     "metadata": {},
     "output_type": "execute_result"
    },
    {
     "data": {
      "image/png": "[encoded data removed]",
      "text/plain": [
       "<Figure size 432x288 with 1 Axes>"
      ]
     },
     "metadata": {
      "needs_background": "light"
     },
     "output_type": "display_data"
    },
    {
     "data": {
      "image/png": "[encoded data removed]",
      "text/plain": [
       "<Figure size 432x288 with 1 Axes>"
      ]
     },
     "metadata": {
      "needs_background": "light"
     },
     "output_type": "display_data"
    },
    {
     "data": {
      "image/png": "[encoded data removed]",
      "text/plain": [
       "<Figure size 432x288 with 1 Axes>"
      ]
     },
     "metadata": {
      "needs_background": "light"
     },
     "output_type": "display_data"
    }
   ],
   "source": [
    "#отфильтруем данные от аномалий и запишем их в новый датафрейм \n",
    "good_df = df.query('days_exposition > 14 & days_exposition < 500')\n",
    "\n",
    "#диаграмма размаха\n",
    "plt.boxplot(good_df['days_exposition'])\n",
    "plt.ylim(1,500)\n",
    "\n",
    "#гистограммы\n",
    "good_df.plot(y = 'days_exposition', kind = 'hist', bins = 30, grid = True, range = (1,1600))\n",
    "good_df.plot(y = 'days_exposition', kind = 'hist', bins = 100, grid = True, range = (1,200))\n",
    "\n",
    "#среднее значение, медиана и межквартильный размах\n",
    "good_df['days_exposition'].describe()"
   ]
  },
  {
   "cell_type": "markdown",
   "metadata": {},
   "source": [
    "**Вывод** \n",
    "\n",
    "В очищенных данных с аномалиями в значениях меньших медианы получаем большие значения медианы и среднего значения - 148 и 193 соответственно, вместо 95 и 169."
   ]
  },
  {
   "cell_type": "code",
   "execution_count": 43,
   "metadata": {},
   "outputs": [
    {
     "data": {
      "text/plain": [
       "(1, 150)"
      ]
     },
     "execution_count": 43,
     "metadata": {},
     "output_type": "execute_result"
    },
    {
     "data": {
      "image/png": "[encoded data removed]",
      "text/plain": [
       "<Figure size 432x288 with 1 Axes>"
      ]
     },
     "metadata": {
      "needs_background": "light"
     },
     "output_type": "display_data"
    }
   ],
   "source": [
    "df.boxplot('total_area')\n",
    "plt.ylim(1,150)"
   ]
  },
  {
   "cell_type": "code",
   "execution_count": 44,
   "metadata": {},
   "outputs": [
    {
     "data": {
      "text/plain": [
       "(1, 10)"
      ]
     },
     "execution_count": 44,
     "metadata": {},
     "output_type": "execute_result"
    },
    {
     "data": {
      "image/png": "[encoded data removed]",
      "text/plain": [
       "<Figure size 432x288 with 1 Axes>"
      ]
     },
     "metadata": {
      "needs_background": "light"
     },
     "output_type": "display_data"
    }
   ],
   "source": [
    "df.boxplot('rooms')\n",
    "plt.ylim(1,10)"
   ]
  },
  {
   "cell_type": "code",
   "execution_count": 45,
   "metadata": {},
   "outputs": [
    {
     "data": {
      "text/plain": [
       "(0, 200000)"
      ]
     },
     "execution_count": 45,
     "metadata": {},
     "output_type": "execute_result"
    },
    {
     "data": {
      "image/png": "[encoded data removed]",
      "text/plain": [
       "<Figure size 432x288 with 1 Axes>"
      ]
     },
     "metadata": {
      "needs_background": "light"
     },
     "output_type": "display_data"
    }
   ],
   "source": [
    "df.boxplot('price_per_square_meter')\n",
    "plt.ylim(0,200000)"
   ]
  },
  {
   "cell_type": "code",
   "execution_count": 46,
   "metadata": {},
   "outputs": [
    {
     "data": {
      "text/plain": [
       "(1, 5)"
      ]
     },
     "execution_count": 46,
     "metadata": {},
     "output_type": "execute_result"
    },
    {
     "data": {
      "image/png": "[encoded data removed]",
      "text/plain": [
       "<Figure size 432x288 with 1 Axes>"
      ]
     },
     "metadata": {
      "needs_background": "light"
     },
     "output_type": "display_data"
    }
   ],
   "source": [
    "df.boxplot('ceiling_height')\n",
    "plt.ylim(1,5)"
   ]
  },
  {
   "cell_type": "code",
   "execution_count": 47,
   "metadata": {},
   "outputs": [
    {
     "data": {
      "text/plain": [
       "(0, 15000000)"
      ]
     },
     "execution_count": 47,
     "metadata": {},
     "output_type": "execute_result"
    },
    {
     "data": {
      "image/png": "[encoded data removed]",
      "text/plain": [
       "<Figure size 432x288 with 1 Axes>"
      ]
     },
     "metadata": {
      "needs_background": "light"
     },
     "output_type": "display_data"
    }
   ],
   "source": [
    "df.boxplot('last_price')\n",
    "plt.ylim(0,15000000)"
   ]
  },
  {
   "cell_type": "code",
   "execution_count": 48,
   "metadata": {},
   "outputs": [],
   "source": [
    "good_df = good_df.query('total_area > 12.0 & total_area < 114.25')\n",
    "good_df = good_df.query('rooms < 6')\n",
    "good_df = good_df.query('price_per_square_meter > 25000 & price_per_square_meter < 175000')\n",
    "good_df = good_df.query('last_price > 12190 & last_price < 11875000')\n",
    "\n",
    "df = good_df.copy()"
   ]
  },
  {
   "cell_type": "markdown",
   "metadata": {},
   "source": [
    "### Факторы, влияющие на стоимость квартиры"
   ]
  },
  {
   "cell_type": "code",
   "execution_count": 49,
   "metadata": {},
   "outputs": [
    {
     "data": {
      "text/plain": [
       "-0.07701915056090415"
      ]
     },
     "execution_count": 49,
     "metadata": {},
     "output_type": "execute_result"
    },
    {
     "data": {
      "image/png": "[encoded data removed]",
      "text/plain": [
       "<Figure size 432x288 with 1 Axes>"
      ]
     },
     "metadata": {
      "needs_background": "light"
     },
     "output_type": "display_data"
    }
   ],
   "source": [
    "# зависимость цены квадратного метра от общей площади квартиры\n",
    "pivot_table_total_area = df.pivot_table(index = 'total_area', values = 'price_per_square_meter', aggfunc = ['mean', 'count', 'median'])\n",
    "pivot_table_total_area.columns = ['mean', 'count', 'median']\n",
    "pivot_table_total_area.plot(y = 'median', style = 'o')\n",
    "\n",
    "pivot_table_total_area.sort_values('median', ascending = False)\n",
    "good_df['total_area'].corr(good_df['price_per_square_meter'])\n",
    "# зависимость слабая - согласно корреляции Пирсона"
   ]
  },
  {
   "cell_type": "code",
   "execution_count": 50,
   "metadata": {},
   "outputs": [
    {
     "data": {
      "text/plain": [
       "-0.22930721801400353"
      ]
     },
     "execution_count": 50,
     "metadata": {},
     "output_type": "execute_result"
    },
    {
     "data": {
      "image/png": "[encoded data removed]",
      "text/plain": [
       "<Figure size 432x288 with 1 Axes>"
      ]
     },
     "metadata": {
      "needs_background": "light"
     },
     "output_type": "display_data"
    }
   ],
   "source": [
    "# зависимость цены квадратного метра от числа комнат\n",
    "pivot_table_rooms = df.pivot_table(index = 'rooms', values = 'price_per_square_meter', aggfunc = ['mean', 'count', 'median'])\n",
    "pivot_table_rooms.columns = ['mean', 'count', 'median']\n",
    "pivot_table_rooms.query('count > 50').plot(y = 'median')\n",
    "\n",
    "pivot_table_rooms.query('count > 50').sort_values('median', ascending = False)\n",
    "df['rooms'].corr(df['price_per_square_meter'])\n",
    "\n",
    "# чем ближе количество комнат к 3 тем ниже стоимость квадратного метра"
   ]
  },
  {
   "cell_type": "code",
   "execution_count": 51,
   "metadata": {},
   "outputs": [
    {
     "data": {
      "text/html": [
       "<div>\n",
       "<style scoped>\n",
       "    .dataframe tbody tr th:only-of-type {\n",
       "        vertical-align: middle;\n",
       "    }\n",
       "\n",
       "    .dataframe tbody tr th {\n",
       "        vertical-align: top;\n",
       "    }\n",
       "\n",
       "    .dataframe thead th {\n",
       "        text-align: right;\n",
       "    }\n",
       "</style>\n",
       "<table border=\"1\" class=\"dataframe\">\n",
       "  <thead>\n",
       "    <tr style=\"text-align: right;\">\n",
       "      <th></th>\n",
       "      <th>mean</th>\n",
       "      <th>count</th>\n",
       "      <th>median</th>\n",
       "    </tr>\n",
       "    <tr>\n",
       "      <th>floor_category</th>\n",
       "      <th></th>\n",
       "      <th></th>\n",
       "      <th></th>\n",
       "    </tr>\n",
       "  </thead>\n",
       "  <tbody>\n",
       "    <tr>\n",
       "      <td>другой</td>\n",
       "      <td>94970.884816</td>\n",
       "      <td>11360</td>\n",
       "      <td>95207.530145</td>\n",
       "    </tr>\n",
       "    <tr>\n",
       "      <td>первый</td>\n",
       "      <td>79436.189155</td>\n",
       "      <td>1941</td>\n",
       "      <td>80307.262570</td>\n",
       "    </tr>\n",
       "    <tr>\n",
       "      <td>последний</td>\n",
       "      <td>84192.018296</td>\n",
       "      <td>2038</td>\n",
       "      <td>85181.088168</td>\n",
       "    </tr>\n",
       "  </tbody>\n",
       "</table>\n",
       "</div>"
      ],
      "text/plain": [
       "                        mean  count        median\n",
       "floor_category                                   \n",
       "другой          94970.884816  11360  95207.530145\n",
       "первый          79436.189155   1941  80307.262570\n",
       "последний       84192.018296   2038  85181.088168"
      ]
     },
     "execution_count": 51,
     "metadata": {},
     "output_type": "execute_result"
    },
    {
     "data": {
      "image/png": "[encoded data removed]",
      "text/plain": [
       "<Figure size 432x288 with 1 Axes>"
      ]
     },
     "metadata": {
      "needs_background": "light"
     },
     "output_type": "display_data"
    }
   ],
   "source": [
    "# зависимость цены квадратного метра от этажа (первого или последнего)\n",
    "pivot_table_floor_category = df.pivot_table(index = 'floor_category', values = 'price_per_square_meter', aggfunc = ['mean', 'count', 'median'])\n",
    "pivot_table_floor_category.columns = ['mean', 'count', 'median']\n",
    "pivot_table_floor_category.plot(y = 'median')\n",
    "pivot_table_floor_category\n",
    "# как правило квартиры на первом этаже дешевле квартир на последнем этаже - в среднем на 10%"
   ]
  },
  {
   "cell_type": "code",
   "execution_count": 52,
   "metadata": {},
   "outputs": [
    {
     "data": {
      "text/plain": [
       "-0.40209789531596896"
      ]
     },
     "execution_count": 52,
     "metadata": {},
     "output_type": "execute_result"
    },
    {
     "data": {
      "image/png": "[encoded data removed]",
      "text/plain": [
       "<Figure size 432x288 with 1 Axes>"
      ]
     },
     "metadata": {
      "needs_background": "light"
     },
     "output_type": "display_data"
    }
   ],
   "source": [
    "#  зависимость цены квадратного метра от удалённости от центра\n",
    "df.plot(kind = 'scatter', y = 'price_per_square_meter', x = 'cityCenters_nearest', alpha = 0.3)\n",
    "\n",
    "df['cityCenters_nearest'].corr(df['price_per_square_meter'])\n",
    "# судя по корреляции зависимость есть, но не большая. Чем ближе к центру, тем выше стоимость."
   ]
  },
  {
   "cell_type": "code",
   "execution_count": 53,
   "metadata": {},
   "outputs": [
    {
     "data": {
      "text/html": [
       "<div>\n",
       "<style scoped>\n",
       "    .dataframe tbody tr th:only-of-type {\n",
       "        vertical-align: middle;\n",
       "    }\n",
       "\n",
       "    .dataframe tbody tr th {\n",
       "        vertical-align: top;\n",
       "    }\n",
       "\n",
       "    .dataframe thead th {\n",
       "        text-align: right;\n",
       "    }\n",
       "</style>\n",
       "<table border=\"1\" class=\"dataframe\">\n",
       "  <thead>\n",
       "    <tr style=\"text-align: right;\">\n",
       "      <th></th>\n",
       "      <th>mean</th>\n",
       "      <th>count</th>\n",
       "      <th>median</th>\n",
       "    </tr>\n",
       "    <tr>\n",
       "      <th>weekday_exposition</th>\n",
       "      <th></th>\n",
       "      <th></th>\n",
       "      <th></th>\n",
       "    </tr>\n",
       "  </thead>\n",
       "  <tbody>\n",
       "    <tr>\n",
       "      <td>2</td>\n",
       "      <td>91597.480226</td>\n",
       "      <td>2525</td>\n",
       "      <td>92812.006319</td>\n",
       "    </tr>\n",
       "    <tr>\n",
       "      <td>3</td>\n",
       "      <td>92159.330723</td>\n",
       "      <td>2798</td>\n",
       "      <td>92618.716010</td>\n",
       "    </tr>\n",
       "    <tr>\n",
       "      <td>1</td>\n",
       "      <td>91486.177507</td>\n",
       "      <td>2699</td>\n",
       "      <td>92281.879195</td>\n",
       "    </tr>\n",
       "    <tr>\n",
       "      <td>0</td>\n",
       "      <td>91342.822446</td>\n",
       "      <td>2316</td>\n",
       "      <td>92105.263158</td>\n",
       "    </tr>\n",
       "    <tr>\n",
       "      <td>6</td>\n",
       "      <td>91156.058973</td>\n",
       "      <td>1102</td>\n",
       "      <td>91536.706349</td>\n",
       "    </tr>\n",
       "    <tr>\n",
       "      <td>4</td>\n",
       "      <td>91385.744454</td>\n",
       "      <td>2697</td>\n",
       "      <td>91533.180778</td>\n",
       "    </tr>\n",
       "    <tr>\n",
       "      <td>5</td>\n",
       "      <td>91611.135309</td>\n",
       "      <td>1256</td>\n",
       "      <td>91152.240364</td>\n",
       "    </tr>\n",
       "  </tbody>\n",
       "</table>\n",
       "</div>"
      ],
      "text/plain": [
       "                            mean  count        median\n",
       "weekday_exposition                                   \n",
       "2                   91597.480226   2525  92812.006319\n",
       "3                   92159.330723   2798  92618.716010\n",
       "1                   91486.177507   2699  92281.879195\n",
       "0                   91342.822446   2316  92105.263158\n",
       "6                   91156.058973   1102  91536.706349\n",
       "4                   91385.744454   2697  91533.180778\n",
       "5                   91611.135309   1256  91152.240364"
      ]
     },
     "execution_count": 53,
     "metadata": {},
     "output_type": "execute_result"
    },
    {
     "data": {
      "image/png": "[encoded data removed]",
      "text/plain": [
       "<Figure size 432x288 with 1 Axes>"
      ]
     },
     "metadata": {
      "needs_background": "light"
     },
     "output_type": "display_data"
    }
   ],
   "source": [
    "# зависимость цены квадратного метра от даты размещения: дня недели\n",
    "pivot_table_weekday_exposition = df.pivot_table(index = 'weekday_exposition', values = 'price_per_square_meter', aggfunc = ['mean', 'count', 'median'])\n",
    "pivot_table_weekday_exposition.columns = ['mean', 'count', 'median']\n",
    "pivot_table_weekday_exposition.plot(y = 'median')\n",
    "\n",
    "pivot_table_weekday_exposition.sort_values('median', ascending = False)\n",
    "\n",
    "# Видно, стоимость повышается к вторнику. к выходным она падает. Полагаю, что это зависит от аткивности людей."
   ]
  },
  {
   "cell_type": "code",
   "execution_count": 54,
   "metadata": {},
   "outputs": [
    {
     "data": {
      "text/html": [
       "<div>\n",
       "<style scoped>\n",
       "    .dataframe tbody tr th:only-of-type {\n",
       "        vertical-align: middle;\n",
       "    }\n",
       "\n",
       "    .dataframe tbody tr th {\n",
       "        vertical-align: top;\n",
       "    }\n",
       "\n",
       "    .dataframe thead th {\n",
       "        text-align: right;\n",
       "    }\n",
       "</style>\n",
       "<table border=\"1\" class=\"dataframe\">\n",
       "  <thead>\n",
       "    <tr style=\"text-align: right;\">\n",
       "      <th></th>\n",
       "      <th>mean</th>\n",
       "      <th>count</th>\n",
       "      <th>median</th>\n",
       "    </tr>\n",
       "    <tr>\n",
       "      <th>month_exposition</th>\n",
       "      <th></th>\n",
       "      <th></th>\n",
       "      <th></th>\n",
       "    </tr>\n",
       "  </thead>\n",
       "  <tbody>\n",
       "    <tr>\n",
       "      <td>8</td>\n",
       "      <td>93620.681482</td>\n",
       "      <td>1249</td>\n",
       "      <td>94366.197183</td>\n",
       "    </tr>\n",
       "    <tr>\n",
       "      <td>9</td>\n",
       "      <td>92740.630644</td>\n",
       "      <td>1350</td>\n",
       "      <td>93231.791113</td>\n",
       "    </tr>\n",
       "    <tr>\n",
       "      <td>7</td>\n",
       "      <td>92271.542188</td>\n",
       "      <td>1205</td>\n",
       "      <td>93055.555556</td>\n",
       "    </tr>\n",
       "    <tr>\n",
       "      <td>1</td>\n",
       "      <td>91867.584004</td>\n",
       "      <td>961</td>\n",
       "      <td>92857.142857</td>\n",
       "    </tr>\n",
       "    <tr>\n",
       "      <td>3</td>\n",
       "      <td>92130.623779</td>\n",
       "      <td>1404</td>\n",
       "      <td>92735.518450</td>\n",
       "    </tr>\n",
       "    <tr>\n",
       "      <td>2</td>\n",
       "      <td>91077.705772</td>\n",
       "      <td>1790</td>\n",
       "      <td>92372.122762</td>\n",
       "    </tr>\n",
       "    <tr>\n",
       "      <td>11</td>\n",
       "      <td>91519.083859</td>\n",
       "      <td>1584</td>\n",
       "      <td>92180.706522</td>\n",
       "    </tr>\n",
       "    <tr>\n",
       "      <td>10</td>\n",
       "      <td>91536.914259</td>\n",
       "      <td>1492</td>\n",
       "      <td>91866.628318</td>\n",
       "    </tr>\n",
       "    <tr>\n",
       "      <td>4</td>\n",
       "      <td>90681.600848</td>\n",
       "      <td>1104</td>\n",
       "      <td>90909.090909</td>\n",
       "    </tr>\n",
       "    <tr>\n",
       "      <td>5</td>\n",
       "      <td>91583.945973</td>\n",
       "      <td>875</td>\n",
       "      <td>90740.740741</td>\n",
       "    </tr>\n",
       "    <tr>\n",
       "      <td>12</td>\n",
       "      <td>90208.400080</td>\n",
       "      <td>1100</td>\n",
       "      <td>90438.896611</td>\n",
       "    </tr>\n",
       "    <tr>\n",
       "      <td>6</td>\n",
       "      <td>89601.264473</td>\n",
       "      <td>1279</td>\n",
       "      <td>90013.869626</td>\n",
       "    </tr>\n",
       "  </tbody>\n",
       "</table>\n",
       "</div>"
      ],
      "text/plain": [
       "                          mean  count        median\n",
       "month_exposition                                   \n",
       "8                 93620.681482   1249  94366.197183\n",
       "9                 92740.630644   1350  93231.791113\n",
       "7                 92271.542188   1205  93055.555556\n",
       "1                 91867.584004    961  92857.142857\n",
       "3                 92130.623779   1404  92735.518450\n",
       "2                 91077.705772   1790  92372.122762\n",
       "11                91519.083859   1584  92180.706522\n",
       "10                91536.914259   1492  91866.628318\n",
       "4                 90681.600848   1104  90909.090909\n",
       "5                 91583.945973    875  90740.740741\n",
       "12                90208.400080   1100  90438.896611\n",
       "6                 89601.264473   1279  90013.869626"
      ]
     },
     "execution_count": 54,
     "metadata": {},
     "output_type": "execute_result"
    },
    {
     "data": {
      "image/png": "[encoded data removed]",
      "text/plain": [
       "<Figure size 432x288 with 1 Axes>"
      ]
     },
     "metadata": {
      "needs_background": "light"
     },
     "output_type": "display_data"
    }
   ],
   "source": [
    "# зависимость цены квадратного метра от даты размещения: месяца\n",
    "pivot_table_month_exposition = df.pivot_table(index = 'month_exposition', values = 'price_per_square_meter', aggfunc = ['mean', 'count', 'median'])\n",
    "pivot_table_month_exposition.columns = ['mean', 'count', 'median']\n",
    "pivot_table_month_exposition.plot(y = 'median')\n",
    "\n",
    "pivot_table_month_exposition.sort_values('median', ascending = False)\n",
    "\n",
    "# К лету виден спад, наверное, люди уходят в отпуска в этов время. Видно, что у рынка недвижимости есть сезонность."
   ]
  },
  {
   "cell_type": "code",
   "execution_count": 55,
   "metadata": {},
   "outputs": [
    {
     "data": {
      "text/html": [
       "<div>\n",
       "<style scoped>\n",
       "    .dataframe tbody tr th:only-of-type {\n",
       "        vertical-align: middle;\n",
       "    }\n",
       "\n",
       "    .dataframe tbody tr th {\n",
       "        vertical-align: top;\n",
       "    }\n",
       "\n",
       "    .dataframe thead th {\n",
       "        text-align: right;\n",
       "    }\n",
       "</style>\n",
       "<table border=\"1\" class=\"dataframe\">\n",
       "  <thead>\n",
       "    <tr style=\"text-align: right;\">\n",
       "      <th></th>\n",
       "      <th>mean</th>\n",
       "      <th>count</th>\n",
       "      <th>median</th>\n",
       "    </tr>\n",
       "    <tr>\n",
       "      <th>year_exposition</th>\n",
       "      <th></th>\n",
       "      <th></th>\n",
       "      <th></th>\n",
       "    </tr>\n",
       "  </thead>\n",
       "  <tbody>\n",
       "    <tr>\n",
       "      <td>2019</td>\n",
       "      <td>102377.628221</td>\n",
       "      <td>684</td>\n",
       "      <td>102602.521199</td>\n",
       "    </tr>\n",
       "    <tr>\n",
       "      <td>2018</td>\n",
       "      <td>92722.083978</td>\n",
       "      <td>6147</td>\n",
       "      <td>94200.000000</td>\n",
       "    </tr>\n",
       "    <tr>\n",
       "      <td>2016</td>\n",
       "      <td>90005.395118</td>\n",
       "      <td>1830</td>\n",
       "      <td>90000.000000</td>\n",
       "    </tr>\n",
       "    <tr>\n",
       "      <td>2017</td>\n",
       "      <td>89986.239607</td>\n",
       "      <td>6320</td>\n",
       "      <td>90000.000000</td>\n",
       "    </tr>\n",
       "    <tr>\n",
       "      <td>2015</td>\n",
       "      <td>87839.017577</td>\n",
       "      <td>412</td>\n",
       "      <td>88912.747103</td>\n",
       "    </tr>\n",
       "  </tbody>\n",
       "</table>\n",
       "</div>"
      ],
      "text/plain": [
       "                          mean  count         median\n",
       "year_exposition                                     \n",
       "2019             102377.628221    684  102602.521199\n",
       "2018              92722.083978   6147   94200.000000\n",
       "2016              90005.395118   1830   90000.000000\n",
       "2017              89986.239607   6320   90000.000000\n",
       "2015              87839.017577    412   88912.747103"
      ]
     },
     "execution_count": 55,
     "metadata": {},
     "output_type": "execute_result"
    },
    {
     "data": {
      "image/png": "[encoded data removed]",
      "text/plain": [
       "<Figure size 432x288 with 1 Axes>"
      ]
     },
     "metadata": {
      "needs_background": "light"
     },
     "output_type": "display_data"
    }
   ],
   "source": [
    "# зависимость цены квадратного метра от даты размещения: года\n",
    "pivot_table_year_exposition = df.pivot_table(index = 'year_exposition', values = 'price_per_square_meter', aggfunc = ['mean', 'count', 'median'])\n",
    "pivot_table_year_exposition.columns = ['mean', 'count', 'median']\n",
    "pivot_table_year_exposition.plot(y = 'median')\n",
    "\n",
    "pivot_table_year_exposition.sort_values('median', ascending = False)\n",
    "\n",
    "# видно, что к 2016 году был спад. Скорее всего это связано с плохим экономическим положением в стране. После 2016 года идет подъем. Можем быть связано со снижением ставок по ипотеке."
   ]
  },
  {
   "cell_type": "markdown",
   "metadata": {},
   "source": [
    "###  10 населённых пунктов с наибольшим числом объявлений и расчеты средней цены квадратного метра в эти пунктах"
   ]
  },
  {
   "cell_type": "code",
   "execution_count": 56,
   "metadata": {},
   "outputs": [
    {
     "data": {
      "text/html": [
       "<div>\n",
       "<style scoped>\n",
       "    .dataframe tbody tr th:only-of-type {\n",
       "        vertical-align: middle;\n",
       "    }\n",
       "\n",
       "    .dataframe tbody tr th {\n",
       "        vertical-align: top;\n",
       "    }\n",
       "\n",
       "    .dataframe thead th {\n",
       "        text-align: right;\n",
       "    }\n",
       "</style>\n",
       "<table border=\"1\" class=\"dataframe\">\n",
       "  <thead>\n",
       "    <tr style=\"text-align: right;\">\n",
       "      <th></th>\n",
       "      <th>count</th>\n",
       "      <th>mean</th>\n",
       "    </tr>\n",
       "    <tr>\n",
       "      <th>locality_name</th>\n",
       "      <th></th>\n",
       "      <th></th>\n",
       "    </tr>\n",
       "  </thead>\n",
       "  <tbody>\n",
       "    <tr>\n",
       "      <td>Санкт-Петербург</td>\n",
       "      <td>9820</td>\n",
       "      <td>103512.913653</td>\n",
       "    </tr>\n",
       "    <tr>\n",
       "      <td>посёлок Мурино</td>\n",
       "      <td>432</td>\n",
       "      <td>86090.478352</td>\n",
       "    </tr>\n",
       "    <tr>\n",
       "      <td>посёлок Шушары</td>\n",
       "      <td>347</td>\n",
       "      <td>77942.561385</td>\n",
       "    </tr>\n",
       "    <tr>\n",
       "      <td>Всеволожск</td>\n",
       "      <td>288</td>\n",
       "      <td>66923.833916</td>\n",
       "    </tr>\n",
       "    <tr>\n",
       "      <td>Колпино</td>\n",
       "      <td>259</td>\n",
       "      <td>74006.218917</td>\n",
       "    </tr>\n",
       "    <tr>\n",
       "      <td>посёлок Парголово</td>\n",
       "      <td>256</td>\n",
       "      <td>89035.797337</td>\n",
       "    </tr>\n",
       "    <tr>\n",
       "      <td>деревня Кудрово</td>\n",
       "      <td>236</td>\n",
       "      <td>93143.626792</td>\n",
       "    </tr>\n",
       "    <tr>\n",
       "      <td>Пушкин</td>\n",
       "      <td>233</td>\n",
       "      <td>98844.371148</td>\n",
       "    </tr>\n",
       "    <tr>\n",
       "      <td>Гатчина</td>\n",
       "      <td>216</td>\n",
       "      <td>68047.349052</td>\n",
       "    </tr>\n",
       "    <tr>\n",
       "      <td>Выборг</td>\n",
       "      <td>178</td>\n",
       "      <td>57367.064332</td>\n",
       "    </tr>\n",
       "  </tbody>\n",
       "</table>\n",
       "</div>"
      ],
      "text/plain": [
       "                   count           mean\n",
       "locality_name                          \n",
       "Санкт-Петербург     9820  103512.913653\n",
       "посёлок Мурино       432   86090.478352\n",
       "посёлок Шушары       347   77942.561385\n",
       "Всеволожск           288   66923.833916\n",
       "Колпино              259   74006.218917\n",
       "посёлок Парголово    256   89035.797337\n",
       "деревня Кудрово      236   93143.626792\n",
       "Пушкин               233   98844.371148\n",
       "Гатчина              216   68047.349052\n",
       "Выборг               178   57367.064332"
      ]
     },
     "execution_count": 56,
     "metadata": {},
     "output_type": "execute_result"
    }
   ],
   "source": [
    "# 10 населённых пунктов с наибольшим числом объявлений\n",
    "locality_pivot_table = df.pivot_table(index = 'locality_name', values = 'price_per_square_meter', aggfunc=['count', 'mean'])\n",
    "locality_pivot_table.columns = ['count', 'mean']\n",
    "locality_pivot_table = locality_pivot_table.sort_values('count', ascending = False).head(10)\n",
    "locality_pivot_table.head(10)\n",
    "\n",
    "\n"
   ]
  },
  {
   "cell_type": "code",
   "execution_count": 57,
   "metadata": {},
   "outputs": [
    {
     "data": {
      "text/html": [
       "<div>\n",
       "<style scoped>\n",
       "    .dataframe tbody tr th:only-of-type {\n",
       "        vertical-align: middle;\n",
       "    }\n",
       "\n",
       "    .dataframe tbody tr th {\n",
       "        vertical-align: top;\n",
       "    }\n",
       "\n",
       "    .dataframe thead th {\n",
       "        text-align: right;\n",
       "    }\n",
       "</style>\n",
       "<table border=\"1\" class=\"dataframe\">\n",
       "  <thead>\n",
       "    <tr style=\"text-align: right;\">\n",
       "      <th></th>\n",
       "      <th>count</th>\n",
       "      <th>mean</th>\n",
       "    </tr>\n",
       "    <tr>\n",
       "      <th>locality_name</th>\n",
       "      <th></th>\n",
       "      <th></th>\n",
       "    </tr>\n",
       "  </thead>\n",
       "  <tbody>\n",
       "    <tr>\n",
       "      <td>Санкт-Петербург</td>\n",
       "      <td>9820</td>\n",
       "      <td>103512.913653</td>\n",
       "    </tr>\n",
       "  </tbody>\n",
       "</table>\n",
       "</div>"
      ],
      "text/plain": [
       "                 count           mean\n",
       "locality_name                        \n",
       "Санкт-Петербург   9820  103512.913653"
      ]
     },
     "execution_count": 57,
     "metadata": {},
     "output_type": "execute_result"
    }
   ],
   "source": [
    "#самая высокая стоимость\n",
    "locality_pivot_table[locality_pivot_table['mean']==locality_pivot_table['mean'].max()]"
   ]
  },
  {
   "cell_type": "code",
   "execution_count": 58,
   "metadata": {},
   "outputs": [
    {
     "data": {
      "text/html": [
       "<div>\n",
       "<style scoped>\n",
       "    .dataframe tbody tr th:only-of-type {\n",
       "        vertical-align: middle;\n",
       "    }\n",
       "\n",
       "    .dataframe tbody tr th {\n",
       "        vertical-align: top;\n",
       "    }\n",
       "\n",
       "    .dataframe thead th {\n",
       "        text-align: right;\n",
       "    }\n",
       "</style>\n",
       "<table border=\"1\" class=\"dataframe\">\n",
       "  <thead>\n",
       "    <tr style=\"text-align: right;\">\n",
       "      <th></th>\n",
       "      <th>count</th>\n",
       "      <th>mean</th>\n",
       "    </tr>\n",
       "    <tr>\n",
       "      <th>locality_name</th>\n",
       "      <th></th>\n",
       "      <th></th>\n",
       "    </tr>\n",
       "  </thead>\n",
       "  <tbody>\n",
       "    <tr>\n",
       "      <td>Выборг</td>\n",
       "      <td>178</td>\n",
       "      <td>57367.064332</td>\n",
       "    </tr>\n",
       "  </tbody>\n",
       "</table>\n",
       "</div>"
      ],
      "text/plain": [
       "               count          mean\n",
       "locality_name                     \n",
       "Выборг           178  57367.064332"
      ]
     },
     "execution_count": 58,
     "metadata": {},
     "output_type": "execute_result"
    }
   ],
   "source": [
    "#самая низкая стоимость\n",
    "locality_pivot_table[locality_pivot_table['mean']==locality_pivot_table['mean'].min()]"
   ]
  },
  {
   "cell_type": "markdown",
   "metadata": {},
   "source": [
    "**Вывод**\n",
    "\n",
    "Выделены 10 населенных пунктов с наибольшим числом объявлений. Самая высокая средняя стоимость в Санкт-Петербурге, самая низкая в Выборге.\n"
   ]
  },
  {
   "cell_type": "markdown",
   "metadata": {},
   "source": [
    "###  Изучение квартир, исходя о расстоянии до центра"
   ]
  },
  {
   "cell_type": "code",
   "execution_count": 59,
   "metadata": {},
   "outputs": [
    {
     "data": {
      "text/html": [
       "<div>\n",
       "<style scoped>\n",
       "    .dataframe tbody tr th:only-of-type {\n",
       "        vertical-align: middle;\n",
       "    }\n",
       "\n",
       "    .dataframe tbody tr th {\n",
       "        vertical-align: top;\n",
       "    }\n",
       "\n",
       "    .dataframe thead th {\n",
       "        text-align: right;\n",
       "    }\n",
       "</style>\n",
       "<table border=\"1\" class=\"dataframe\">\n",
       "  <thead>\n",
       "    <tr style=\"text-align: right;\">\n",
       "      <th></th>\n",
       "      <th>price_per_square_meter</th>\n",
       "    </tr>\n",
       "    <tr>\n",
       "      <th>cityCenters_nearest_km</th>\n",
       "      <th></th>\n",
       "    </tr>\n",
       "  </thead>\n",
       "  <tbody>\n",
       "    <tr>\n",
       "      <td>0</td>\n",
       "      <td>116237.562397</td>\n",
       "    </tr>\n",
       "    <tr>\n",
       "      <td>1</td>\n",
       "      <td>110280.171735</td>\n",
       "    </tr>\n",
       "    <tr>\n",
       "      <td>2</td>\n",
       "      <td>110439.506105</td>\n",
       "    </tr>\n",
       "    <tr>\n",
       "      <td>3</td>\n",
       "      <td>107555.969824</td>\n",
       "    </tr>\n",
       "    <tr>\n",
       "      <td>4</td>\n",
       "      <td>116948.093655</td>\n",
       "    </tr>\n",
       "    <tr>\n",
       "      <td>5</td>\n",
       "      <td>114442.894624</td>\n",
       "    </tr>\n",
       "    <tr>\n",
       "      <td>6</td>\n",
       "      <td>116681.304029</td>\n",
       "    </tr>\n",
       "    <tr>\n",
       "      <td>7</td>\n",
       "      <td>115500.038801</td>\n",
       "    </tr>\n",
       "    <tr>\n",
       "      <td>8</td>\n",
       "      <td>110278.031870</td>\n",
       "    </tr>\n",
       "    <tr>\n",
       "      <td>9</td>\n",
       "      <td>104596.718622</td>\n",
       "    </tr>\n",
       "    <tr>\n",
       "      <td>10</td>\n",
       "      <td>104478.688784</td>\n",
       "    </tr>\n",
       "    <tr>\n",
       "      <td>11</td>\n",
       "      <td>103121.744491</td>\n",
       "    </tr>\n",
       "    <tr>\n",
       "      <td>12</td>\n",
       "      <td>104555.815339</td>\n",
       "    </tr>\n",
       "    <tr>\n",
       "      <td>13</td>\n",
       "      <td>104515.644027</td>\n",
       "    </tr>\n",
       "    <tr>\n",
       "      <td>14</td>\n",
       "      <td>101852.487754</td>\n",
       "    </tr>\n",
       "    <tr>\n",
       "      <td>15</td>\n",
       "      <td>99262.666335</td>\n",
       "    </tr>\n",
       "    <tr>\n",
       "      <td>16</td>\n",
       "      <td>97512.203164</td>\n",
       "    </tr>\n",
       "    <tr>\n",
       "      <td>17</td>\n",
       "      <td>92788.681031</td>\n",
       "    </tr>\n",
       "    <tr>\n",
       "      <td>18</td>\n",
       "      <td>92914.253359</td>\n",
       "    </tr>\n",
       "    <tr>\n",
       "      <td>19</td>\n",
       "      <td>95233.849521</td>\n",
       "    </tr>\n",
       "    <tr>\n",
       "      <td>20</td>\n",
       "      <td>103991.600978</td>\n",
       "    </tr>\n",
       "    <tr>\n",
       "      <td>21</td>\n",
       "      <td>90837.716120</td>\n",
       "    </tr>\n",
       "    <tr>\n",
       "      <td>22</td>\n",
       "      <td>85835.157236</td>\n",
       "    </tr>\n",
       "    <tr>\n",
       "      <td>23</td>\n",
       "      <td>91056.000415</td>\n",
       "    </tr>\n",
       "    <tr>\n",
       "      <td>24</td>\n",
       "      <td>82440.343912</td>\n",
       "    </tr>\n",
       "    <tr>\n",
       "      <td>25</td>\n",
       "      <td>90797.686573</td>\n",
       "    </tr>\n",
       "    <tr>\n",
       "      <td>26</td>\n",
       "      <td>75171.911041</td>\n",
       "    </tr>\n",
       "    <tr>\n",
       "      <td>27</td>\n",
       "      <td>70312.500000</td>\n",
       "    </tr>\n",
       "    <tr>\n",
       "      <td>28</td>\n",
       "      <td>82554.421832</td>\n",
       "    </tr>\n",
       "    <tr>\n",
       "      <td>29</td>\n",
       "      <td>73943.661972</td>\n",
       "    </tr>\n",
       "  </tbody>\n",
       "</table>\n",
       "</div>"
      ],
      "text/plain": [
       "                        price_per_square_meter\n",
       "cityCenters_nearest_km                        \n",
       "0                                116237.562397\n",
       "1                                110280.171735\n",
       "2                                110439.506105\n",
       "3                                107555.969824\n",
       "4                                116948.093655\n",
       "5                                114442.894624\n",
       "6                                116681.304029\n",
       "7                                115500.038801\n",
       "8                                110278.031870\n",
       "9                                104596.718622\n",
       "10                               104478.688784\n",
       "11                               103121.744491\n",
       "12                               104555.815339\n",
       "13                               104515.644027\n",
       "14                               101852.487754\n",
       "15                                99262.666335\n",
       "16                                97512.203164\n",
       "17                                92788.681031\n",
       "18                                92914.253359\n",
       "19                                95233.849521\n",
       "20                               103991.600978\n",
       "21                                90837.716120\n",
       "22                                85835.157236\n",
       "23                                91056.000415\n",
       "24                                82440.343912\n",
       "25                                90797.686573\n",
       "26                                75171.911041\n",
       "27                                70312.500000\n",
       "28                                82554.421832\n",
       "29                                73943.661972"
      ]
     },
     "execution_count": 59,
     "metadata": {},
     "output_type": "execute_result"
    },
    {
     "data": {
      "image/png": "[encoded data removed]",
      "text/plain": [
       "<Figure size 432x288 with 1 Axes>"
      ]
     },
     "metadata": {
      "needs_background": "light"
     },
     "output_type": "display_data"
    }
   ],
   "source": [
    "df['cityCenters_nearest_km'] = df['cityCenters_nearest']/1000\n",
    "df['cityCenters_nearest_km'] = df['cityCenters_nearest_km'].fillna(999999)\n",
    "df['cityCenters_nearest_km'] = df['cityCenters_nearest_km'].astype('int')\n",
    "pivot_table_km = df.query('locality_name == \"Санкт-Петербург\" and cityCenters_nearest_km !=999999').pivot_table(index = 'cityCenters_nearest_km', values = 'price_per_square_meter', aggfunc = 'mean')\n",
    "pivot_table_km.plot()\n",
    "pivot_table_km"
   ]
  },
  {
   "cell_type": "markdown",
   "metadata": {},
   "source": [
    "**Вывод**\n",
    "\n",
    "Центром считать будем радиус в 3 километра"
   ]
  },
  {
   "cell_type": "markdown",
   "metadata": {},
   "source": [
    "### Факторы, которые влияют на стоимость квартир в центре"
   ]
  },
  {
   "cell_type": "code",
   "execution_count": 60,
   "metadata": {},
   "outputs": [],
   "source": [
    "center_spb_df = df.query('cityCenters_nearest_km <= 3 and locality_name == \"Санкт-Петербург\"')"
   ]
  },
  {
   "cell_type": "code",
   "execution_count": 61,
   "metadata": {},
   "outputs": [
    {
     "data": {
      "text/plain": [
       "-0.3802944973503705"
      ]
     },
     "execution_count": 61,
     "metadata": {},
     "output_type": "execute_result"
    },
    {
     "data": {
      "image/png": "[encoded data removed]",
      "text/plain": [
       "<Figure size 432x288 with 1 Axes>"
      ]
     },
     "metadata": {
      "needs_background": "light"
     },
     "output_type": "display_data"
    }
   ],
   "source": [
    "# зависимость стоимости квадратного метра от количества комнат\n",
    "center_spb_rooms = center_spb_df.pivot_table(index = 'rooms', values = 'price_per_square_meter', aggfunc = ['mean', 'count', 'median'])\n",
    "center_spb_rooms.columns = ['mean', 'count', 'median']\n",
    "center_spb_rooms.query('count > 50').plot(y = 'median')\n",
    "\n",
    "center_spb_rooms.query('count > 50').sort_values('median', ascending = False)\n",
    "\n",
    "center_spb_df['rooms'].corr(center_spb_df['price_per_square_meter'])"
   ]
  },
  {
   "cell_type": "code",
   "execution_count": 62,
   "metadata": {},
   "outputs": [
    {
     "data": {
      "text/html": [
       "<div>\n",
       "<style scoped>\n",
       "    .dataframe tbody tr th:only-of-type {\n",
       "        vertical-align: middle;\n",
       "    }\n",
       "\n",
       "    .dataframe tbody tr th {\n",
       "        vertical-align: top;\n",
       "    }\n",
       "\n",
       "    .dataframe thead th {\n",
       "        text-align: right;\n",
       "    }\n",
       "</style>\n",
       "<table border=\"1\" class=\"dataframe\">\n",
       "  <thead>\n",
       "    <tr style=\"text-align: right;\">\n",
       "      <th></th>\n",
       "      <th>mean</th>\n",
       "      <th>count</th>\n",
       "      <th>median</th>\n",
       "    </tr>\n",
       "    <tr>\n",
       "      <th>floor_category</th>\n",
       "      <th></th>\n",
       "      <th></th>\n",
       "      <th></th>\n",
       "    </tr>\n",
       "  </thead>\n",
       "  <tbody>\n",
       "    <tr>\n",
       "      <td>другой</td>\n",
       "      <td>110338.188360</td>\n",
       "      <td>251</td>\n",
       "      <td>106911.447084</td>\n",
       "    </tr>\n",
       "    <tr>\n",
       "      <td>первый</td>\n",
       "      <td>105923.183187</td>\n",
       "      <td>85</td>\n",
       "      <td>102727.272727</td>\n",
       "    </tr>\n",
       "    <tr>\n",
       "      <td>последний</td>\n",
       "      <td>109606.956585</td>\n",
       "      <td>110</td>\n",
       "      <td>105800.088748</td>\n",
       "    </tr>\n",
       "  </tbody>\n",
       "</table>\n",
       "</div>"
      ],
      "text/plain": [
       "                         mean  count         median\n",
       "floor_category                                     \n",
       "другой          110338.188360    251  106911.447084\n",
       "первый          105923.183187     85  102727.272727\n",
       "последний       109606.956585    110  105800.088748"
      ]
     },
     "execution_count": 62,
     "metadata": {},
     "output_type": "execute_result"
    },
    {
     "data": {
      "image/png": "[encoded data removed]",
      "text/plain": [
       "<Figure size 432x288 with 1 Axes>"
      ]
     },
     "metadata": {
      "needs_background": "light"
     },
     "output_type": "display_data"
    }
   ],
   "source": [
    "# Зависимость стоимости квадратного метра от этажа\n",
    "center_spb_floor_category = center_spb_df.pivot_table(index = 'floor_category', values = 'price_per_square_meter', aggfunc = ['mean', 'count', 'median'])\n",
    "center_spb_floor_category.columns = ['mean', 'count', 'median']\n",
    "center_spb_floor_category.plot(y = 'median')\n",
    "center_spb_floor_category"
   ]
  },
  {
   "cell_type": "code",
   "execution_count": 63,
   "metadata": {},
   "outputs": [
    {
     "data": {
      "text/html": [
       "<div>\n",
       "<style scoped>\n",
       "    .dataframe tbody tr th:only-of-type {\n",
       "        vertical-align: middle;\n",
       "    }\n",
       "\n",
       "    .dataframe tbody tr th {\n",
       "        vertical-align: top;\n",
       "    }\n",
       "\n",
       "    .dataframe thead th {\n",
       "        text-align: right;\n",
       "    }\n",
       "</style>\n",
       "<table border=\"1\" class=\"dataframe\">\n",
       "  <thead>\n",
       "    <tr style=\"text-align: right;\">\n",
       "      <th></th>\n",
       "      <th>mean</th>\n",
       "      <th>count</th>\n",
       "      <th>median</th>\n",
       "    </tr>\n",
       "    <tr>\n",
       "      <th>weekday_exposition</th>\n",
       "      <th></th>\n",
       "      <th></th>\n",
       "      <th></th>\n",
       "    </tr>\n",
       "  </thead>\n",
       "  <tbody>\n",
       "    <tr>\n",
       "      <td>4</td>\n",
       "      <td>111317.693572</td>\n",
       "      <td>87</td>\n",
       "      <td>111111.111111</td>\n",
       "    </tr>\n",
       "    <tr>\n",
       "      <td>2</td>\n",
       "      <td>113249.910868</td>\n",
       "      <td>70</td>\n",
       "      <td>110212.969992</td>\n",
       "    </tr>\n",
       "    <tr>\n",
       "      <td>0</td>\n",
       "      <td>111067.598077</td>\n",
       "      <td>65</td>\n",
       "      <td>108404.384896</td>\n",
       "    </tr>\n",
       "    <tr>\n",
       "      <td>5</td>\n",
       "      <td>110999.955160</td>\n",
       "      <td>37</td>\n",
       "      <td>108333.333333</td>\n",
       "    </tr>\n",
       "    <tr>\n",
       "      <td>1</td>\n",
       "      <td>106727.746762</td>\n",
       "      <td>71</td>\n",
       "      <td>102810.304450</td>\n",
       "    </tr>\n",
       "    <tr>\n",
       "      <td>3</td>\n",
       "      <td>104458.665320</td>\n",
       "      <td>92</td>\n",
       "      <td>99593.228742</td>\n",
       "    </tr>\n",
       "    <tr>\n",
       "      <td>6</td>\n",
       "      <td>109530.355281</td>\n",
       "      <td>24</td>\n",
       "      <td>97052.845528</td>\n",
       "    </tr>\n",
       "  </tbody>\n",
       "</table>\n",
       "</div>"
      ],
      "text/plain": [
       "                             mean  count         median\n",
       "weekday_exposition                                     \n",
       "4                   111317.693572     87  111111.111111\n",
       "2                   113249.910868     70  110212.969992\n",
       "0                   111067.598077     65  108404.384896\n",
       "5                   110999.955160     37  108333.333333\n",
       "1                   106727.746762     71  102810.304450\n",
       "3                   104458.665320     92   99593.228742\n",
       "6                   109530.355281     24   97052.845528"
      ]
     },
     "execution_count": 63,
     "metadata": {},
     "output_type": "execute_result"
    },
    {
     "data": {
      "image/png": "[encoded data removed]",
      "text/plain": [
       "<Figure size 432x288 with 1 Axes>"
      ]
     },
     "metadata": {
      "needs_background": "light"
     },
     "output_type": "display_data"
    }
   ],
   "source": [
    "#Зависимость стоимости квадратного метра от дня недели размещения объявления\n",
    "center_spb_weekday_exposition = center_spb_df.pivot_table(index = 'weekday_exposition', values = 'price_per_square_meter', aggfunc = ['mean', 'count', 'median'])\n",
    "center_spb_weekday_exposition.columns = ['mean', 'count', 'median']\n",
    "center_spb_weekday_exposition.plot(y = 'median')\n",
    "\n",
    "center_spb_weekday_exposition.sort_values('median', ascending = False)"
   ]
  },
  {
   "cell_type": "code",
   "execution_count": 64,
   "metadata": {},
   "outputs": [
    {
     "data": {
      "text/html": [
       "<div>\n",
       "<style scoped>\n",
       "    .dataframe tbody tr th:only-of-type {\n",
       "        vertical-align: middle;\n",
       "    }\n",
       "\n",
       "    .dataframe tbody tr th {\n",
       "        vertical-align: top;\n",
       "    }\n",
       "\n",
       "    .dataframe thead th {\n",
       "        text-align: right;\n",
       "    }\n",
       "</style>\n",
       "<table border=\"1\" class=\"dataframe\">\n",
       "  <thead>\n",
       "    <tr style=\"text-align: right;\">\n",
       "      <th></th>\n",
       "      <th>mean</th>\n",
       "      <th>count</th>\n",
       "      <th>median</th>\n",
       "    </tr>\n",
       "    <tr>\n",
       "      <th>month_exposition</th>\n",
       "      <th></th>\n",
       "      <th></th>\n",
       "      <th></th>\n",
       "    </tr>\n",
       "  </thead>\n",
       "  <tbody>\n",
       "    <tr>\n",
       "      <td>10</td>\n",
       "      <td>111573.070396</td>\n",
       "      <td>39</td>\n",
       "      <td>113253.012048</td>\n",
       "    </tr>\n",
       "    <tr>\n",
       "      <td>2</td>\n",
       "      <td>112488.336634</td>\n",
       "      <td>48</td>\n",
       "      <td>110657.528784</td>\n",
       "    </tr>\n",
       "    <tr>\n",
       "      <td>3</td>\n",
       "      <td>113598.991816</td>\n",
       "      <td>33</td>\n",
       "      <td>109890.109890</td>\n",
       "    </tr>\n",
       "    <tr>\n",
       "      <td>9</td>\n",
       "      <td>110632.744657</td>\n",
       "      <td>42</td>\n",
       "      <td>109391.356363</td>\n",
       "    </tr>\n",
       "    <tr>\n",
       "      <td>12</td>\n",
       "      <td>110256.585109</td>\n",
       "      <td>33</td>\n",
       "      <td>108401.639344</td>\n",
       "    </tr>\n",
       "    <tr>\n",
       "      <td>8</td>\n",
       "      <td>106766.317519</td>\n",
       "      <td>34</td>\n",
       "      <td>106917.862839</td>\n",
       "    </tr>\n",
       "    <tr>\n",
       "      <td>7</td>\n",
       "      <td>110497.537621</td>\n",
       "      <td>44</td>\n",
       "      <td>106375.792666</td>\n",
       "    </tr>\n",
       "    <tr>\n",
       "      <td>1</td>\n",
       "      <td>108239.532193</td>\n",
       "      <td>23</td>\n",
       "      <td>102727.272727</td>\n",
       "    </tr>\n",
       "    <tr>\n",
       "      <td>4</td>\n",
       "      <td>109872.937570</td>\n",
       "      <td>33</td>\n",
       "      <td>102500.000000</td>\n",
       "    </tr>\n",
       "    <tr>\n",
       "      <td>11</td>\n",
       "      <td>108463.780570</td>\n",
       "      <td>57</td>\n",
       "      <td>102500.000000</td>\n",
       "    </tr>\n",
       "    <tr>\n",
       "      <td>6</td>\n",
       "      <td>103627.196324</td>\n",
       "      <td>33</td>\n",
       "      <td>98096.632504</td>\n",
       "    </tr>\n",
       "    <tr>\n",
       "      <td>5</td>\n",
       "      <td>102263.935308</td>\n",
       "      <td>27</td>\n",
       "      <td>98086.124402</td>\n",
       "    </tr>\n",
       "  </tbody>\n",
       "</table>\n",
       "</div>"
      ],
      "text/plain": [
       "                           mean  count         median\n",
       "month_exposition                                     \n",
       "10                111573.070396     39  113253.012048\n",
       "2                 112488.336634     48  110657.528784\n",
       "3                 113598.991816     33  109890.109890\n",
       "9                 110632.744657     42  109391.356363\n",
       "12                110256.585109     33  108401.639344\n",
       "8                 106766.317519     34  106917.862839\n",
       "7                 110497.537621     44  106375.792666\n",
       "1                 108239.532193     23  102727.272727\n",
       "4                 109872.937570     33  102500.000000\n",
       "11                108463.780570     57  102500.000000\n",
       "6                 103627.196324     33   98096.632504\n",
       "5                 102263.935308     27   98086.124402"
      ]
     },
     "execution_count": 64,
     "metadata": {},
     "output_type": "execute_result"
    },
    {
     "data": {
      "image/png": "[encoded data removed]",
      "text/plain": [
       "<Figure size 432x288 with 1 Axes>"
      ]
     },
     "metadata": {
      "needs_background": "light"
     },
     "output_type": "display_data"
    }
   ],
   "source": [
    "# Зависимость стоимости квадратного метра от месяца размещения объявления\n",
    "center_spb_month_exposition = center_spb_df.pivot_table(index = 'month_exposition', values = 'price_per_square_meter', aggfunc = ['mean', 'count', 'median'])\n",
    "center_spb_month_exposition.columns = ['mean', 'count', 'median']\n",
    "center_spb_month_exposition.plot(y = 'median')\n",
    "\n",
    "center_spb_month_exposition.sort_values('median', ascending = False)"
   ]
  },
  {
   "cell_type": "code",
   "execution_count": 65,
   "metadata": {},
   "outputs": [
    {
     "data": {
      "text/html": [
       "<div>\n",
       "<style scoped>\n",
       "    .dataframe tbody tr th:only-of-type {\n",
       "        vertical-align: middle;\n",
       "    }\n",
       "\n",
       "    .dataframe tbody tr th {\n",
       "        vertical-align: top;\n",
       "    }\n",
       "\n",
       "    .dataframe thead th {\n",
       "        text-align: right;\n",
       "    }\n",
       "</style>\n",
       "<table border=\"1\" class=\"dataframe\">\n",
       "  <thead>\n",
       "    <tr style=\"text-align: right;\">\n",
       "      <th></th>\n",
       "      <th>mean</th>\n",
       "      <th>count</th>\n",
       "      <th>median</th>\n",
       "    </tr>\n",
       "    <tr>\n",
       "      <th>year_exposition</th>\n",
       "      <th></th>\n",
       "      <th></th>\n",
       "      <th></th>\n",
       "    </tr>\n",
       "  </thead>\n",
       "  <tbody>\n",
       "    <tr>\n",
       "      <td>2018</td>\n",
       "      <td>112845.547827</td>\n",
       "      <td>151</td>\n",
       "      <td>110041.265475</td>\n",
       "    </tr>\n",
       "    <tr>\n",
       "      <td>2017</td>\n",
       "      <td>108343.358661</td>\n",
       "      <td>205</td>\n",
       "      <td>104612.159329</td>\n",
       "    </tr>\n",
       "    <tr>\n",
       "      <td>2016</td>\n",
       "      <td>106472.056343</td>\n",
       "      <td>56</td>\n",
       "      <td>100242.745793</td>\n",
       "    </tr>\n",
       "  </tbody>\n",
       "</table>\n",
       "</div>"
      ],
      "text/plain": [
       "                          mean  count         median\n",
       "year_exposition                                     \n",
       "2018             112845.547827    151  110041.265475\n",
       "2017             108343.358661    205  104612.159329\n",
       "2016             106472.056343     56  100242.745793"
      ]
     },
     "execution_count": 65,
     "metadata": {},
     "output_type": "execute_result"
    },
    {
     "data": {
      "image/png": "[encoded data removed]",
      "text/plain": [
       "<Figure size 432x288 with 1 Axes>"
      ]
     },
     "metadata": {
      "needs_background": "light"
     },
     "output_type": "display_data"
    }
   ],
   "source": [
    "# Зависимость стоимости квадратного метра от года размещения объявления\n",
    "center_spb_year_exposition = center_spb_df.pivot_table(index = 'year_exposition', values = 'price_per_square_meter', aggfunc = ['mean', 'count', 'median'])\n",
    "center_spb_year_exposition.columns = ['mean', 'count', 'median']\n",
    "center_spb_year_exposition.query('count > 50').plot(y = 'median')\n",
    "\n",
    "center_spb_year_exposition.query('count > 50').sort_values('median', ascending = False)"
   ]
  },
  {
   "cell_type": "markdown",
   "metadata": {},
   "source": [
    "**Вывод**\n",
    "\n",
    "Зависимость стоимости квадратного метра от количества комнат есть, но она маленькая. По графику видим, что чем меньше комнат, тем дороже квадратный метро\n",
    "\n",
    "Зависимость стоимости квадратного метра от этажа не отличается от всей выборки. \n",
    "\n",
    "Зависимость стоимости от дня недели отличается от всей выборки. Высокие цены - понедельник и субботу. Низкие - четверг и воскресенье\n",
    "\n",
    "Зависимость стоимости от месяца похожа со всей выборкой.\n",
    "\n",
    "Зависимость стоимости от года не похожа со всей выборокой. Цены в 2016-2017 росли.\n",
    "\n"
   ]
  },
  {
   "cell_type": "markdown",
   "metadata": {},
   "source": [
    "## Общий вывод"
   ]
  },
  {
   "cell_type": "markdown",
   "metadata": {},
   "source": [
    "В исследовании объявлений о продаже квартир мы обработали архив данных по  продаже квартир в Санкт-Петербурге и соседних населённых пунктах за несколько лет.\n",
    "\n",
    "Сделали предобработку данных. Изменили пропуски, там где это нужно было.\n",
    "\n",
    "Далее мы проверили расчеты, где посчитали: цена квадратного метра, соотношение жилой и общей площади, а также отношение площади кухни к общей. Добавили столбцы с днем недели, месяцем и годом публикации объявления. Построили гистограммы для каждого параметра.\n",
    "\n",
    "Изучили зависимость между параметрами во всей выборке и в центре Санкт-Петербурга.\n",
    "\n",
    "Были определены аномалии в данных параметрах. Изучая время продажи квартир мы выявили, что большое количество объявлений было автоматически снято с Яндекс Недвижимость и дату из снятия нельзя считать датой продажи квартиры, поэтому, изучая средние сроки продажи квартир - данные значения не учитывались.  Мы выявили при помощи диаграммы размаха, что нормальные значения продажи квартир варьируются от 1 до 600 дней.\n",
    "Мы выявили, что на стоимость квадратного метра квартиры больше всего влияют количество комнат, этаж квартиры, близость к центру.\n",
    "\n"
   ]
  }
 ],
 "metadata": {
  "ExecuteTimeLog": [
   {
    "duration": 513,
    "start_time": "2021-12-20T13:58:04.744Z"
   },
   {
    "duration": 59,
    "start_time": "2021-12-20T13:58:06.164Z"
   },
   {
    "duration": 14,
    "start_time": "2021-12-20T13:58:07.390Z"
   },
   {
    "duration": 64,
    "start_time": "2021-12-20T14:01:19.539Z"
   },
   {
    "duration": 26,
    "start_time": "2021-12-20T14:01:20.468Z"
   },
   {
    "duration": 11,
    "start_time": "2021-12-20T14:03:03.229Z"
   },
   {
    "duration": 9,
    "start_time": "2021-12-20T14:38:14.445Z"
   },
   {
    "duration": 3,
    "start_time": "2021-12-20T14:38:35.584Z"
   },
   {
    "duration": 555,
    "start_time": "2021-12-20T14:38:41.892Z"
   },
   {
    "duration": 58,
    "start_time": "2021-12-20T14:38:42.956Z"
   },
   {
    "duration": 13,
    "start_time": "2021-12-20T14:38:43.764Z"
   },
   {
    "duration": 63,
    "start_time": "2021-12-20T14:38:45.972Z"
   },
   {
    "duration": 25,
    "start_time": "2021-12-20T14:38:46.640Z"
   },
   {
    "duration": 11,
    "start_time": "2021-12-20T14:38:48.902Z"
   },
   {
    "duration": 309,
    "start_time": "2021-12-28T07:31:18.013Z"
   },
   {
    "duration": 720,
    "start_time": "2021-12-28T07:31:27.712Z"
   },
   {
    "duration": 107,
    "start_time": "2021-12-28T07:31:28.488Z"
   },
   {
    "duration": 20,
    "start_time": "2021-12-28T07:31:29.898Z"
   },
   {
    "duration": 86,
    "start_time": "2021-12-28T07:31:31.899Z"
   },
   {
    "duration": 40,
    "start_time": "2021-12-28T07:31:32.855Z"
   },
   {
    "duration": 18,
    "start_time": "2021-12-28T07:31:35.900Z"
   },
   {
    "duration": 15,
    "start_time": "2021-12-28T07:31:37.483Z"
   },
   {
    "duration": 12,
    "start_time": "2021-12-28T08:09:38.224Z"
   },
   {
    "duration": 13,
    "start_time": "2021-12-28T08:12:04.152Z"
   },
   {
    "duration": 10,
    "start_time": "2021-12-28T08:12:27.407Z"
   },
   {
    "duration": 5,
    "start_time": "2021-12-28T08:27:09.236Z"
   },
   {
    "duration": 14,
    "start_time": "2021-12-28T08:32:01.376Z"
   },
   {
    "duration": 12,
    "start_time": "2021-12-28T08:33:26.697Z"
   },
   {
    "duration": 11,
    "start_time": "2021-12-28T08:36:38.523Z"
   },
   {
    "duration": 15,
    "start_time": "2021-12-28T08:43:01.336Z"
   },
   {
    "duration": 10,
    "start_time": "2021-12-28T08:45:58.177Z"
   },
   {
    "duration": 761,
    "start_time": "2021-12-28T08:51:59.184Z"
   },
   {
    "duration": 80,
    "start_time": "2021-12-28T08:51:59.952Z"
   },
   {
    "duration": 21,
    "start_time": "2021-12-28T08:52:00.974Z"
   },
   {
    "duration": 85,
    "start_time": "2021-12-28T08:52:03.313Z"
   },
   {
    "duration": 41,
    "start_time": "2021-12-28T08:52:04.089Z"
   },
   {
    "duration": 16,
    "start_time": "2021-12-28T08:52:05.920Z"
   },
   {
    "duration": 13,
    "start_time": "2021-12-28T08:52:07.277Z"
   },
   {
    "duration": 12,
    "start_time": "2021-12-28T08:52:10.420Z"
   },
   {
    "duration": 13,
    "start_time": "2021-12-28T08:52:11.682Z"
   },
   {
    "duration": 13,
    "start_time": "2021-12-28T08:52:13.931Z"
   },
   {
    "duration": 18,
    "start_time": "2021-12-28T08:52:20.138Z"
   },
   {
    "duration": 22,
    "start_time": "2021-12-28T08:52:22.831Z"
   },
   {
    "duration": 90,
    "start_time": "2021-12-28T08:55:53.447Z"
   },
   {
    "duration": 6175,
    "start_time": "2021-12-28T08:55:59.792Z"
   },
   {
    "duration": 712,
    "start_time": "2021-12-28T08:56:17.005Z"
   },
   {
    "duration": 76,
    "start_time": "2021-12-28T08:56:17.787Z"
   },
   {
    "duration": 21,
    "start_time": "2021-12-28T08:56:18.582Z"
   },
   {
    "duration": 83,
    "start_time": "2021-12-28T08:56:19.952Z"
   },
   {
    "duration": 38,
    "start_time": "2021-12-28T08:56:20.722Z"
   },
   {
    "duration": 17,
    "start_time": "2021-12-28T08:56:23.403Z"
   },
   {
    "duration": 12,
    "start_time": "2021-12-28T08:56:25.015Z"
   },
   {
    "duration": 11,
    "start_time": "2021-12-28T08:56:27.752Z"
   },
   {
    "duration": 14,
    "start_time": "2021-12-28T08:56:29.293Z"
   },
   {
    "duration": 11,
    "start_time": "2021-12-28T08:56:31.660Z"
   },
   {
    "duration": 14,
    "start_time": "2021-12-28T08:56:33.777Z"
   },
   {
    "duration": 6290,
    "start_time": "2021-12-28T08:56:35.856Z"
   },
   {
    "duration": 17,
    "start_time": "2021-12-28T08:57:09.493Z"
   },
   {
    "duration": 13,
    "start_time": "2021-12-28T08:57:10.974Z"
   },
   {
    "duration": 24,
    "start_time": "2021-12-28T08:58:55.764Z"
   },
   {
    "duration": 13,
    "start_time": "2021-12-28T09:03:06.537Z"
   },
   {
    "duration": 789,
    "start_time": "2021-12-28T09:56:01.417Z"
   },
   {
    "duration": 411,
    "start_time": "2021-12-28T09:56:11.269Z"
   },
   {
    "duration": 360,
    "start_time": "2021-12-28T09:57:37.722Z"
   },
   {
    "duration": 9,
    "start_time": "2021-12-28T09:57:46.556Z"
   },
   {
    "duration": 13,
    "start_time": "2021-12-28T09:57:51.924Z"
   },
   {
    "duration": 52,
    "start_time": "2021-12-28T09:58:13.663Z"
   },
   {
    "duration": 11,
    "start_time": "2021-12-28T10:02:04.562Z"
   },
   {
    "duration": 748,
    "start_time": "2021-12-28T10:02:15.088Z"
   },
   {
    "duration": 76,
    "start_time": "2021-12-28T10:02:16.333Z"
   },
   {
    "duration": 21,
    "start_time": "2021-12-28T10:02:17.048Z"
   },
   {
    "duration": 86,
    "start_time": "2021-12-28T10:02:18.531Z"
   },
   {
    "duration": 42,
    "start_time": "2021-12-28T10:02:19.214Z"
   },
   {
    "duration": 19,
    "start_time": "2021-12-28T10:02:20.772Z"
   },
   {
    "duration": 15,
    "start_time": "2021-12-28T10:02:22.586Z"
   },
   {
    "duration": 10,
    "start_time": "2021-12-28T10:02:25.331Z"
   },
   {
    "duration": 14,
    "start_time": "2021-12-28T10:02:26.331Z"
   },
   {
    "duration": 11,
    "start_time": "2021-12-28T10:02:28.139Z"
   },
   {
    "duration": 14,
    "start_time": "2021-12-28T10:02:29.728Z"
   },
   {
    "duration": 38,
    "start_time": "2021-12-28T10:02:31.082Z"
   },
   {
    "duration": 14,
    "start_time": "2021-12-28T10:02:32.458Z"
   },
   {
    "duration": 506,
    "start_time": "2021-12-28T10:02:45.700Z"
   },
   {
    "duration": 11,
    "start_time": "2021-12-28T10:02:50.868Z"
   },
   {
    "duration": 15,
    "start_time": "2021-12-28T10:02:53.161Z"
   },
   {
    "duration": 457,
    "start_time": "2021-12-28T10:03:31.913Z"
   },
   {
    "duration": 13,
    "start_time": "2021-12-28T10:06:06.979Z"
   },
   {
    "duration": 371,
    "start_time": "2021-12-28T10:07:40.236Z"
   },
   {
    "duration": 56,
    "start_time": "2021-12-28T10:09:54.041Z"
   },
   {
    "duration": 57,
    "start_time": "2021-12-28T10:14:14.062Z"
   },
   {
    "duration": 10,
    "start_time": "2021-12-28T10:21:51.759Z"
   },
   {
    "duration": 398,
    "start_time": "2021-12-28T10:22:05.643Z"
   },
   {
    "duration": 12,
    "start_time": "2021-12-28T10:22:12.146Z"
   },
   {
    "duration": 8,
    "start_time": "2021-12-28T10:25:28.104Z"
   },
   {
    "duration": 6,
    "start_time": "2021-12-28T10:25:45.097Z"
   },
   {
    "duration": 7,
    "start_time": "2021-12-28T10:26:00.787Z"
   },
   {
    "duration": 3,
    "start_time": "2021-12-28T10:31:06.703Z"
   },
   {
    "duration": 99,
    "start_time": "2021-12-28T10:33:39.124Z"
   },
   {
    "duration": 64,
    "start_time": "2021-12-28T10:34:01.498Z"
   },
   {
    "duration": 7,
    "start_time": "2021-12-28T10:34:53.275Z"
   },
   {
    "duration": 93,
    "start_time": "2021-12-28T10:37:12.341Z"
   },
   {
    "duration": 90,
    "start_time": "2021-12-28T10:40:34.101Z"
   },
   {
    "duration": 13,
    "start_time": "2021-12-28T10:40:37.708Z"
   },
   {
    "duration": 7,
    "start_time": "2021-12-28T10:41:48.264Z"
   },
   {
    "duration": 13,
    "start_time": "2021-12-28T10:42:10.292Z"
   },
   {
    "duration": 5,
    "start_time": "2021-12-28T10:50:34.217Z"
   },
   {
    "duration": 8,
    "start_time": "2021-12-28T10:51:02.170Z"
   },
   {
    "duration": 11,
    "start_time": "2021-12-28T10:52:20.143Z"
   },
   {
    "duration": 10,
    "start_time": "2021-12-28T10:52:22.467Z"
   },
   {
    "duration": 9,
    "start_time": "2021-12-28T10:52:44.844Z"
   },
   {
    "duration": 3797,
    "start_time": "2021-12-28T10:53:24.510Z"
   },
   {
    "duration": 8,
    "start_time": "2021-12-28T10:53:41.370Z"
   },
   {
    "duration": 7,
    "start_time": "2021-12-28T10:59:08.028Z"
   },
   {
    "duration": 320,
    "start_time": "2021-12-28T11:11:50.977Z"
   },
   {
    "duration": 18,
    "start_time": "2021-12-28T11:12:27.491Z"
   },
   {
    "duration": 6,
    "start_time": "2021-12-28T11:13:05.049Z"
   },
   {
    "duration": 7,
    "start_time": "2021-12-28T11:13:29.254Z"
   },
   {
    "duration": 6,
    "start_time": "2021-12-28T11:13:43.962Z"
   },
   {
    "duration": 6,
    "start_time": "2021-12-28T11:13:45.366Z"
   },
   {
    "duration": 5,
    "start_time": "2021-12-28T11:19:49.454Z"
   },
   {
    "duration": 255,
    "start_time": "2021-12-28T11:20:00.826Z"
   },
   {
    "duration": 254,
    "start_time": "2021-12-28T11:20:11.225Z"
   },
   {
    "duration": 799,
    "start_time": "2021-12-28T11:20:18.427Z"
   },
   {
    "duration": 828,
    "start_time": "2021-12-28T11:20:23.821Z"
   },
   {
    "duration": 815,
    "start_time": "2021-12-28T11:21:01.236Z"
   },
   {
    "duration": 7,
    "start_time": "2021-12-28T11:27:14.220Z"
   },
   {
    "duration": 7,
    "start_time": "2021-12-28T11:27:29.342Z"
   },
   {
    "duration": 7,
    "start_time": "2021-12-28T11:27:59.053Z"
   },
   {
    "duration": 751,
    "start_time": "2021-12-28T11:29:10.518Z"
   },
   {
    "duration": 79,
    "start_time": "2021-12-28T11:29:11.898Z"
   },
   {
    "duration": 20,
    "start_time": "2021-12-28T11:29:12.679Z"
   },
   {
    "duration": 85,
    "start_time": "2021-12-28T11:29:14.350Z"
   },
   {
    "duration": 41,
    "start_time": "2021-12-28T11:29:15.088Z"
   },
   {
    "duration": 25,
    "start_time": "2021-12-28T11:29:17.307Z"
   },
   {
    "duration": 13,
    "start_time": "2021-12-28T11:29:18.967Z"
   },
   {
    "duration": 12,
    "start_time": "2021-12-28T11:29:21.960Z"
   },
   {
    "duration": 13,
    "start_time": "2021-12-28T11:29:23.466Z"
   },
   {
    "duration": 12,
    "start_time": "2021-12-28T11:29:24.797Z"
   },
   {
    "duration": 14,
    "start_time": "2021-12-28T11:29:25.993Z"
   },
   {
    "duration": 37,
    "start_time": "2021-12-28T11:29:27.800Z"
   },
   {
    "duration": 16,
    "start_time": "2021-12-28T11:29:28.983Z"
   },
   {
    "duration": 9,
    "start_time": "2021-12-28T11:29:32.001Z"
   },
   {
    "duration": 471,
    "start_time": "2021-12-28T11:29:37.713Z"
   },
   {
    "duration": 55,
    "start_time": "2021-12-28T11:29:40.227Z"
   },
   {
    "duration": 10,
    "start_time": "2021-12-28T11:29:51.450Z"
   },
   {
    "duration": 12,
    "start_time": "2021-12-28T11:29:52.605Z"
   },
   {
    "duration": 6,
    "start_time": "2021-12-28T11:29:56.783Z"
   },
   {
    "duration": 14,
    "start_time": "2021-12-28T11:29:58.071Z"
   },
   {
    "duration": 6,
    "start_time": "2021-12-28T11:30:02.597Z"
   },
   {
    "duration": 11,
    "start_time": "2021-12-28T11:30:03.319Z"
   },
   {
    "duration": 7,
    "start_time": "2021-12-28T11:32:18.706Z"
   },
   {
    "duration": 13,
    "start_time": "2021-12-28T11:33:21.919Z"
   },
   {
    "duration": 6,
    "start_time": "2021-12-28T11:33:41.298Z"
   },
   {
    "duration": 9,
    "start_time": "2021-12-28T11:33:43.927Z"
   },
   {
    "duration": 6,
    "start_time": "2021-12-28T11:33:45.197Z"
   },
   {
    "duration": 19,
    "start_time": "2021-12-28T11:33:46.307Z"
   },
   {
    "duration": 6,
    "start_time": "2021-12-28T11:33:47.113Z"
   },
   {
    "duration": 7,
    "start_time": "2021-12-28T11:33:48.337Z"
   },
   {
    "duration": 7,
    "start_time": "2021-12-28T11:33:49.413Z"
   },
   {
    "duration": 5,
    "start_time": "2021-12-28T11:33:50.624Z"
   },
   {
    "duration": 881,
    "start_time": "2021-12-28T11:33:52.265Z"
   },
   {
    "duration": 7,
    "start_time": "2021-12-28T11:33:54.327Z"
   },
   {
    "duration": 8,
    "start_time": "2021-12-28T11:33:55.467Z"
   },
   {
    "duration": 7,
    "start_time": "2021-12-28T11:33:57.235Z"
   },
   {
    "duration": 620,
    "start_time": "2021-12-28T11:52:20.557Z"
   },
   {
    "duration": 613,
    "start_time": "2021-12-28T11:53:22.409Z"
   },
   {
    "duration": 634,
    "start_time": "2021-12-28T11:56:07.256Z"
   },
   {
    "duration": 380,
    "start_time": "2021-12-28T11:57:04.357Z"
   },
   {
    "duration": 422,
    "start_time": "2021-12-28T11:58:34.993Z"
   },
   {
    "duration": 614,
    "start_time": "2021-12-28T12:15:25.215Z"
   },
   {
    "duration": 725,
    "start_time": "2021-12-28T12:15:40.868Z"
   },
   {
    "duration": 382,
    "start_time": "2021-12-28T12:16:06.950Z"
   },
   {
    "duration": 388,
    "start_time": "2021-12-28T12:16:24.441Z"
   },
   {
    "duration": 1369,
    "start_time": "2021-12-28T12:28:58.115Z"
   },
   {
    "duration": 1724,
    "start_time": "2021-12-28T12:37:16.628Z"
   },
   {
    "duration": 1428,
    "start_time": "2021-12-28T12:37:38.509Z"
   },
   {
    "duration": 7,
    "start_time": "2021-12-28T12:44:05.806Z"
   },
   {
    "duration": 7,
    "start_time": "2021-12-28T12:44:13.993Z"
   },
   {
    "duration": 3,
    "start_time": "2021-12-28T12:46:38.627Z"
   },
   {
    "duration": 7,
    "start_time": "2021-12-28T12:47:02.716Z"
   },
   {
    "duration": 343,
    "start_time": "2021-12-28T12:49:39.999Z"
   },
   {
    "duration": 4,
    "start_time": "2021-12-28T12:50:49.097Z"
   },
   {
    "duration": 290,
    "start_time": "2021-12-28T12:51:21.005Z"
   },
   {
    "duration": 252,
    "start_time": "2021-12-28T12:53:06.576Z"
   },
   {
    "duration": 1024,
    "start_time": "2021-12-28T12:53:14.210Z"
   },
   {
    "duration": 750,
    "start_time": "2021-12-28T12:53:23.163Z"
   },
   {
    "duration": 710,
    "start_time": "2021-12-28T12:54:55.420Z"
   },
   {
    "duration": 3,
    "start_time": "2021-12-28T12:56:49.618Z"
   },
   {
    "duration": 313,
    "start_time": "2021-12-28T12:57:25.548Z"
   },
   {
    "duration": 319,
    "start_time": "2021-12-28T13:00:06.165Z"
   },
   {
    "duration": 333,
    "start_time": "2021-12-28T13:00:58.520Z"
   },
   {
    "duration": 325,
    "start_time": "2021-12-28T13:03:07.283Z"
   },
   {
    "duration": 437,
    "start_time": "2021-12-28T13:03:48.211Z"
   },
   {
    "duration": 39,
    "start_time": "2021-12-28T13:09:13.475Z"
   },
   {
    "duration": 37,
    "start_time": "2021-12-28T13:10:04.459Z"
   },
   {
    "duration": 28,
    "start_time": "2021-12-28T13:10:10.750Z"
   },
   {
    "duration": 12,
    "start_time": "2021-12-28T13:10:18.275Z"
   },
   {
    "duration": 12,
    "start_time": "2021-12-28T13:10:19.807Z"
   },
   {
    "duration": 37,
    "start_time": "2021-12-28T13:10:39.301Z"
   },
   {
    "duration": 35,
    "start_time": "2021-12-28T13:11:25.000Z"
   },
   {
    "duration": 11,
    "start_time": "2021-12-28T13:11:26.815Z"
   },
   {
    "duration": 11,
    "start_time": "2021-12-28T13:11:41.866Z"
   },
   {
    "duration": 29,
    "start_time": "2021-12-28T13:12:43.457Z"
   },
   {
    "duration": 11,
    "start_time": "2021-12-28T13:12:45.364Z"
   },
   {
    "duration": 11,
    "start_time": "2021-12-28T13:12:46.681Z"
   },
   {
    "duration": 762,
    "start_time": "2021-12-28T13:13:49.648Z"
   },
   {
    "duration": 76,
    "start_time": "2021-12-28T13:13:51.098Z"
   },
   {
    "duration": 19,
    "start_time": "2021-12-28T13:13:51.904Z"
   },
   {
    "duration": 87,
    "start_time": "2021-12-28T13:13:54.092Z"
   },
   {
    "duration": 48,
    "start_time": "2021-12-28T13:13:54.941Z"
   },
   {
    "duration": 16,
    "start_time": "2021-12-28T13:13:56.449Z"
   },
   {
    "duration": 14,
    "start_time": "2021-12-28T13:13:57.813Z"
   },
   {
    "duration": 12,
    "start_time": "2021-12-28T13:14:08.415Z"
   },
   {
    "duration": 14,
    "start_time": "2021-12-28T13:14:09.903Z"
   },
   {
    "duration": 12,
    "start_time": "2021-12-28T13:14:11.345Z"
   },
   {
    "duration": 14,
    "start_time": "2021-12-28T13:14:12.770Z"
   },
   {
    "duration": 32,
    "start_time": "2021-12-28T13:14:14.078Z"
   },
   {
    "duration": 13,
    "start_time": "2021-12-28T13:14:15.260Z"
   },
   {
    "duration": 9,
    "start_time": "2021-12-28T13:14:16.578Z"
   },
   {
    "duration": 475,
    "start_time": "2021-12-28T13:14:17.663Z"
   },
   {
    "duration": 56,
    "start_time": "2021-12-28T13:14:19.987Z"
   },
   {
    "duration": 10,
    "start_time": "2021-12-28T13:14:22.534Z"
   },
   {
    "duration": 13,
    "start_time": "2021-12-28T13:14:24.099Z"
   },
   {
    "duration": 7,
    "start_time": "2021-12-28T13:14:25.214Z"
   },
   {
    "duration": 14,
    "start_time": "2021-12-28T13:14:26.550Z"
   },
   {
    "duration": 6,
    "start_time": "2021-12-28T13:14:27.760Z"
   },
   {
    "duration": 13,
    "start_time": "2021-12-28T13:14:29.242Z"
   },
   {
    "duration": 8,
    "start_time": "2021-12-28T13:14:30.167Z"
   },
   {
    "duration": 14,
    "start_time": "2021-12-28T13:14:31.682Z"
   },
   {
    "duration": 7,
    "start_time": "2021-12-28T13:14:33.280Z"
   },
   {
    "duration": 11,
    "start_time": "2021-12-28T13:14:34.855Z"
   },
   {
    "duration": 7,
    "start_time": "2021-12-28T13:14:35.667Z"
   },
   {
    "duration": 19,
    "start_time": "2021-12-28T13:14:37.342Z"
   },
   {
    "duration": 7,
    "start_time": "2021-12-28T13:14:39.095Z"
   },
   {
    "duration": 6,
    "start_time": "2021-12-28T13:14:40.304Z"
   },
   {
    "duration": 6,
    "start_time": "2021-12-28T13:14:41.638Z"
   },
   {
    "duration": 5,
    "start_time": "2021-12-28T13:14:42.561Z"
   },
   {
    "duration": 928,
    "start_time": "2021-12-28T13:14:43.823Z"
   },
   {
    "duration": 9,
    "start_time": "2021-12-28T13:14:45.842Z"
   },
   {
    "duration": 7,
    "start_time": "2021-12-28T13:14:46.817Z"
   },
   {
    "duration": 7,
    "start_time": "2021-12-28T13:14:48.227Z"
   },
   {
    "duration": 679,
    "start_time": "2021-12-28T13:14:53.282Z"
   },
   {
    "duration": 655,
    "start_time": "2021-12-28T13:14:55.760Z"
   },
   {
    "duration": 402,
    "start_time": "2021-12-28T13:14:58.320Z"
   },
   {
    "duration": 411,
    "start_time": "2021-12-28T13:15:00.292Z"
   },
   {
    "duration": 1305,
    "start_time": "2021-12-28T13:15:03.232Z"
   },
   {
    "duration": 1392,
    "start_time": "2021-12-28T13:15:08.571Z"
   },
   {
    "duration": 8,
    "start_time": "2021-12-28T13:15:18.580Z"
   },
   {
    "duration": 352,
    "start_time": "2021-12-28T13:15:19.859Z"
   },
   {
    "duration": 294,
    "start_time": "2021-12-28T13:15:22.613Z"
   },
   {
    "duration": 726,
    "start_time": "2021-12-28T13:15:24.791Z"
   },
   {
    "duration": 335,
    "start_time": "2021-12-28T13:15:27.157Z"
   },
   {
    "duration": 364,
    "start_time": "2021-12-28T13:15:31.236Z"
   },
   {
    "duration": 338,
    "start_time": "2021-12-28T13:15:33.941Z"
   },
   {
    "duration": 372,
    "start_time": "2021-12-28T13:15:38.413Z"
   },
   {
    "duration": 30,
    "start_time": "2021-12-28T13:16:19.800Z"
   },
   {
    "duration": 18,
    "start_time": "2021-12-28T13:16:21.887Z"
   },
   {
    "duration": 12,
    "start_time": "2021-12-28T13:16:24.057Z"
   },
   {
    "duration": 36,
    "start_time": "2021-12-28T13:17:03.254Z"
   },
   {
    "duration": 38,
    "start_time": "2021-12-28T13:17:24.714Z"
   },
   {
    "duration": 12,
    "start_time": "2021-12-28T13:17:26.785Z"
   },
   {
    "duration": 12,
    "start_time": "2021-12-28T13:17:28.227Z"
   },
   {
    "duration": 255,
    "start_time": "2021-12-28T14:09:10.222Z"
   },
   {
    "duration": 587,
    "start_time": "2021-12-28T14:09:22.509Z"
   },
   {
    "duration": 761,
    "start_time": "2021-12-28T14:43:11.273Z"
   },
   {
    "duration": 77,
    "start_time": "2021-12-28T14:43:12.683Z"
   },
   {
    "duration": 20,
    "start_time": "2021-12-28T14:43:13.407Z"
   },
   {
    "duration": 86,
    "start_time": "2021-12-28T14:43:15.719Z"
   },
   {
    "duration": 42,
    "start_time": "2021-12-28T14:43:16.467Z"
   },
   {
    "duration": 16,
    "start_time": "2021-12-28T14:43:17.932Z"
   },
   {
    "duration": 13,
    "start_time": "2021-12-28T14:43:19.314Z"
   },
   {
    "duration": 12,
    "start_time": "2021-12-28T14:43:22.275Z"
   },
   {
    "duration": 13,
    "start_time": "2021-12-28T14:43:23.356Z"
   },
   {
    "duration": 12,
    "start_time": "2021-12-28T14:43:25.022Z"
   },
   {
    "duration": 15,
    "start_time": "2021-12-28T14:43:26.188Z"
   },
   {
    "duration": 30,
    "start_time": "2021-12-28T14:43:27.461Z"
   },
   {
    "duration": 13,
    "start_time": "2021-12-28T14:43:28.820Z"
   },
   {
    "duration": 10,
    "start_time": "2021-12-28T14:43:30.207Z"
   },
   {
    "duration": 495,
    "start_time": "2021-12-28T14:43:31.852Z"
   },
   {
    "duration": 55,
    "start_time": "2021-12-28T14:43:34.585Z"
   },
   {
    "duration": 11,
    "start_time": "2021-12-28T14:43:36.857Z"
   },
   {
    "duration": 14,
    "start_time": "2021-12-28T14:43:39.013Z"
   },
   {
    "duration": 7,
    "start_time": "2021-12-28T14:43:40.614Z"
   },
   {
    "duration": 15,
    "start_time": "2021-12-28T14:43:41.530Z"
   },
   {
    "duration": 6,
    "start_time": "2021-12-28T14:43:43.516Z"
   },
   {
    "duration": 12,
    "start_time": "2021-12-28T14:43:44.795Z"
   },
   {
    "duration": 8,
    "start_time": "2021-12-28T14:43:46.540Z"
   },
   {
    "duration": 15,
    "start_time": "2021-12-28T14:43:47.751Z"
   },
   {
    "duration": 7,
    "start_time": "2021-12-28T14:43:49.289Z"
   },
   {
    "duration": 11,
    "start_time": "2021-12-28T14:43:50.667Z"
   },
   {
    "duration": 7,
    "start_time": "2021-12-28T14:43:52.183Z"
   },
   {
    "duration": 19,
    "start_time": "2021-12-28T14:43:53.115Z"
   },
   {
    "duration": 7,
    "start_time": "2021-12-28T14:43:53.896Z"
   },
   {
    "duration": 6,
    "start_time": "2021-12-28T14:43:55.130Z"
   },
   {
    "duration": 7,
    "start_time": "2021-12-28T14:43:55.885Z"
   },
   {
    "duration": 4,
    "start_time": "2021-12-28T14:43:57.124Z"
   },
   {
    "duration": 885,
    "start_time": "2021-12-28T14:43:58.283Z"
   },
   {
    "duration": 8,
    "start_time": "2021-12-28T14:44:00.571Z"
   },
   {
    "duration": 8,
    "start_time": "2021-12-28T14:44:02.147Z"
   },
   {
    "duration": 7,
    "start_time": "2021-12-28T14:44:03.605Z"
   },
   {
    "duration": 641,
    "start_time": "2021-12-28T14:44:04.707Z"
   },
   {
    "duration": 639,
    "start_time": "2021-12-28T14:44:06.981Z"
   },
   {
    "duration": 389,
    "start_time": "2021-12-28T14:44:09.395Z"
   },
   {
    "duration": 388,
    "start_time": "2021-12-28T14:44:11.807Z"
   },
   {
    "duration": 1302,
    "start_time": "2021-12-28T14:44:14.306Z"
   },
   {
    "duration": 1384,
    "start_time": "2021-12-28T14:44:20.938Z"
   },
   {
    "duration": 8,
    "start_time": "2021-12-28T14:44:30.753Z"
   },
   {
    "duration": 331,
    "start_time": "2021-12-28T14:44:33.211Z"
   },
   {
    "duration": 293,
    "start_time": "2021-12-28T14:44:36.412Z"
   },
   {
    "duration": 728,
    "start_time": "2021-12-28T14:44:44.315Z"
   },
   {
    "duration": 316,
    "start_time": "2021-12-28T14:44:47.514Z"
   },
   {
    "duration": 342,
    "start_time": "2021-12-28T14:44:50.106Z"
   },
   {
    "duration": 343,
    "start_time": "2021-12-28T14:44:53.063Z"
   },
   {
    "duration": 36,
    "start_time": "2021-12-28T14:44:56.298Z"
   },
   {
    "duration": 10,
    "start_time": "2021-12-28T14:44:58.151Z"
   },
   {
    "duration": 11,
    "start_time": "2021-12-28T14:44:59.138Z"
   },
   {
    "duration": 944,
    "start_time": "2021-12-29T07:45:54.591Z"
   },
   {
    "duration": 946,
    "start_time": "2021-12-29T07:46:16.169Z"
   },
   {
    "duration": 115,
    "start_time": "2021-12-29T07:46:17.118Z"
   },
   {
    "duration": 21,
    "start_time": "2021-12-29T07:46:17.989Z"
   },
   {
    "duration": 106,
    "start_time": "2021-12-29T07:46:19.749Z"
   },
   {
    "duration": 44,
    "start_time": "2021-12-29T07:46:20.440Z"
   },
   {
    "duration": 16,
    "start_time": "2021-12-29T07:46:25.316Z"
   },
   {
    "duration": 853,
    "start_time": "2021-12-29T07:46:33.871Z"
   },
   {
    "duration": 86,
    "start_time": "2021-12-29T07:46:34.727Z"
   },
   {
    "duration": 20,
    "start_time": "2021-12-29T07:46:34.817Z"
   },
   {
    "duration": 100,
    "start_time": "2021-12-29T07:46:34.840Z"
   },
   {
    "duration": 63,
    "start_time": "2021-12-29T07:46:34.943Z"
   },
   {
    "duration": 18,
    "start_time": "2021-12-29T07:46:35.009Z"
   },
   {
    "duration": 46,
    "start_time": "2021-12-29T07:46:35.030Z"
   },
   {
    "duration": 15,
    "start_time": "2021-12-29T07:46:35.083Z"
   },
   {
    "duration": 14,
    "start_time": "2021-12-29T07:46:35.102Z"
   },
   {
    "duration": 13,
    "start_time": "2021-12-29T07:46:35.118Z"
   },
   {
    "duration": 49,
    "start_time": "2021-12-29T07:46:35.134Z"
   },
   {
    "duration": 34,
    "start_time": "2021-12-29T07:46:35.190Z"
   },
   {
    "duration": 14,
    "start_time": "2021-12-29T07:46:35.226Z"
   },
   {
    "duration": 33,
    "start_time": "2021-12-29T07:46:35.244Z"
   },
   {
    "duration": 522,
    "start_time": "2021-12-29T07:46:35.280Z"
   },
   {
    "duration": 81,
    "start_time": "2021-12-29T07:46:35.805Z"
   },
   {
    "duration": 11,
    "start_time": "2021-12-29T07:46:35.888Z"
   },
   {
    "duration": 13,
    "start_time": "2021-12-29T07:46:35.901Z"
   },
   {
    "duration": 8,
    "start_time": "2021-12-29T07:46:35.917Z"
   },
   {
    "duration": 22,
    "start_time": "2021-12-29T07:46:35.974Z"
   },
   {
    "duration": 6,
    "start_time": "2021-12-29T07:46:35.998Z"
   },
   {
    "duration": 15,
    "start_time": "2021-12-29T07:46:36.007Z"
   },
   {
    "duration": 8,
    "start_time": "2021-12-29T07:46:36.027Z"
   },
   {
    "duration": 25,
    "start_time": "2021-12-29T07:46:36.072Z"
   },
   {
    "duration": 7,
    "start_time": "2021-12-29T07:46:36.099Z"
   },
   {
    "duration": 12,
    "start_time": "2021-12-29T07:46:36.109Z"
   },
   {
    "duration": 6,
    "start_time": "2021-12-29T07:46:36.123Z"
   },
   {
    "duration": 52,
    "start_time": "2021-12-29T07:46:36.132Z"
   },
   {
    "duration": 10,
    "start_time": "2021-12-29T07:46:36.186Z"
   },
   {
    "duration": 7,
    "start_time": "2021-12-29T07:46:36.199Z"
   },
   {
    "duration": 7,
    "start_time": "2021-12-29T07:46:36.209Z"
   },
   {
    "duration": 9,
    "start_time": "2021-12-29T07:46:36.219Z"
   },
   {
    "duration": 1439,
    "start_time": "2021-12-29T07:46:36.231Z"
   },
   {
    "duration": 11,
    "start_time": "2021-12-29T07:46:37.673Z"
   },
   {
    "duration": 9,
    "start_time": "2021-12-29T07:46:37.686Z"
   },
   {
    "duration": 7,
    "start_time": "2021-12-29T07:46:37.699Z"
   },
   {
    "duration": 704,
    "start_time": "2021-12-29T07:46:37.709Z"
   },
   {
    "duration": 694,
    "start_time": "2021-12-29T07:46:38.416Z"
   },
   {
    "duration": 429,
    "start_time": "2021-12-29T07:46:39.113Z"
   },
   {
    "duration": 645,
    "start_time": "2021-12-29T07:46:39.545Z"
   },
   {
    "duration": 1612,
    "start_time": "2021-12-29T07:46:40.193Z"
   },
   {
    "duration": 1487,
    "start_time": "2021-12-29T07:46:41.807Z"
   },
   {
    "duration": 9,
    "start_time": "2021-12-29T07:46:43.298Z"
   },
   {
    "duration": 397,
    "start_time": "2021-12-29T07:46:43.309Z"
   },
   {
    "duration": 329,
    "start_time": "2021-12-29T07:46:43.709Z"
   },
   {
    "duration": 883,
    "start_time": "2021-12-29T07:46:44.040Z"
   },
   {
    "duration": 378,
    "start_time": "2021-12-29T07:46:44.925Z"
   },
   {
    "duration": 499,
    "start_time": "2021-12-29T07:46:45.307Z"
   },
   {
    "duration": 380,
    "start_time": "2021-12-29T07:46:45.812Z"
   },
   {
    "duration": 38,
    "start_time": "2021-12-29T07:46:46.196Z"
   },
   {
    "duration": 50,
    "start_time": "2021-12-29T07:46:46.237Z"
   },
   {
    "duration": 18,
    "start_time": "2021-12-29T07:46:46.290Z"
   },
   {
    "duration": 371,
    "start_time": "2021-12-29T07:46:46.312Z"
   },
   {
    "duration": 478,
    "start_time": "2021-12-29T07:46:46.685Z"
   },
   {
    "duration": 16,
    "start_time": "2021-12-29T07:47:11.502Z"
   },
   {
    "duration": 358,
    "start_time": "2021-12-29T07:48:26.071Z"
   },
   {
    "duration": 349,
    "start_time": "2021-12-29T07:49:17.221Z"
   },
   {
    "duration": 397,
    "start_time": "2021-12-29T07:49:25.805Z"
   },
   {
    "duration": 423,
    "start_time": "2021-12-29T07:50:01.810Z"
   },
   {
    "duration": 373,
    "start_time": "2021-12-29T07:51:56.548Z"
   },
   {
    "duration": 464,
    "start_time": "2021-12-29T07:51:59.069Z"
   },
   {
    "duration": -47,
    "start_time": "2021-12-30T07:06:36.578Z"
   },
   {
    "duration": -53,
    "start_time": "2021-12-30T07:06:36.585Z"
   },
   {
    "duration": -57,
    "start_time": "2021-12-30T07:06:36.590Z"
   },
   {
    "duration": -60,
    "start_time": "2021-12-30T07:06:36.595Z"
   },
   {
    "duration": -62,
    "start_time": "2021-12-30T07:06:36.598Z"
   },
   {
    "duration": -64,
    "start_time": "2021-12-30T07:06:36.601Z"
   },
   {
    "duration": -66,
    "start_time": "2021-12-30T07:06:36.604Z"
   },
   {
    "duration": -67,
    "start_time": "2021-12-30T07:06:36.607Z"
   },
   {
    "duration": -69,
    "start_time": "2021-12-30T07:06:36.610Z"
   },
   {
    "duration": -71,
    "start_time": "2021-12-30T07:06:36.613Z"
   },
   {
    "duration": -71,
    "start_time": "2021-12-30T07:06:36.615Z"
   },
   {
    "duration": -73,
    "start_time": "2021-12-30T07:06:36.618Z"
   },
   {
    "duration": -75,
    "start_time": "2021-12-30T07:06:36.621Z"
   },
   {
    "duration": -80,
    "start_time": "2021-12-30T07:06:36.627Z"
   },
   {
    "duration": -80,
    "start_time": "2021-12-30T07:06:36.629Z"
   },
   {
    "duration": -82,
    "start_time": "2021-12-30T07:06:36.632Z"
   },
   {
    "duration": -84,
    "start_time": "2021-12-30T07:06:36.635Z"
   },
   {
    "duration": -85,
    "start_time": "2021-12-30T07:06:36.638Z"
   },
   {
    "duration": -87,
    "start_time": "2021-12-30T07:06:36.641Z"
   },
   {
    "duration": -89,
    "start_time": "2021-12-30T07:06:36.644Z"
   },
   {
    "duration": -89,
    "start_time": "2021-12-30T07:06:36.646Z"
   },
   {
    "duration": -96,
    "start_time": "2021-12-30T07:06:36.654Z"
   },
   {
    "duration": -97,
    "start_time": "2021-12-30T07:06:36.657Z"
   },
   {
    "duration": -98,
    "start_time": "2021-12-30T07:06:36.659Z"
   },
   {
    "duration": -99,
    "start_time": "2021-12-30T07:06:36.662Z"
   },
   {
    "duration": -101,
    "start_time": "2021-12-30T07:06:36.665Z"
   },
   {
    "duration": -117,
    "start_time": "2021-12-30T07:06:36.682Z"
   },
   {
    "duration": -120,
    "start_time": "2021-12-30T07:06:36.686Z"
   },
   {
    "duration": -122,
    "start_time": "2021-12-30T07:06:36.689Z"
   },
   {
    "duration": -124,
    "start_time": "2021-12-30T07:06:36.692Z"
   },
   {
    "duration": -125,
    "start_time": "2021-12-30T07:06:36.695Z"
   },
   {
    "duration": -127,
    "start_time": "2021-12-30T07:06:36.698Z"
   },
   {
    "duration": -128,
    "start_time": "2021-12-30T07:06:36.700Z"
   },
   {
    "duration": -129,
    "start_time": "2021-12-30T07:06:36.703Z"
   },
   {
    "duration": -130,
    "start_time": "2021-12-30T07:06:36.705Z"
   },
   {
    "duration": -134,
    "start_time": "2021-12-30T07:06:36.710Z"
   },
   {
    "duration": -135,
    "start_time": "2021-12-30T07:06:36.712Z"
   },
   {
    "duration": -136,
    "start_time": "2021-12-30T07:06:36.714Z"
   },
   {
    "duration": -137,
    "start_time": "2021-12-30T07:06:36.717Z"
   },
   {
    "duration": -138,
    "start_time": "2021-12-30T07:06:36.719Z"
   },
   {
    "duration": -139,
    "start_time": "2021-12-30T07:06:36.721Z"
   },
   {
    "duration": -139,
    "start_time": "2021-12-30T07:06:36.723Z"
   },
   {
    "duration": -140,
    "start_time": "2021-12-30T07:06:36.726Z"
   },
   {
    "duration": -141,
    "start_time": "2021-12-30T07:06:36.728Z"
   },
   {
    "duration": -142,
    "start_time": "2021-12-30T07:06:36.730Z"
   },
   {
    "duration": -144,
    "start_time": "2021-12-30T07:06:36.733Z"
   },
   {
    "duration": -146,
    "start_time": "2021-12-30T07:06:36.737Z"
   },
   {
    "duration": -147,
    "start_time": "2021-12-30T07:06:36.739Z"
   },
   {
    "duration": -148,
    "start_time": "2021-12-30T07:06:36.741Z"
   },
   {
    "duration": -149,
    "start_time": "2021-12-30T07:06:36.744Z"
   },
   {
    "duration": -150,
    "start_time": "2021-12-30T07:06:36.746Z"
   },
   {
    "duration": -151,
    "start_time": "2021-12-30T07:06:36.748Z"
   },
   {
    "duration": -150,
    "start_time": "2021-12-30T07:06:36.749Z"
   },
   {
    "duration": -89,
    "start_time": "2021-12-30T07:06:36.752Z"
   },
   {
    "duration": -90,
    "start_time": "2021-12-30T07:06:36.754Z"
   },
   {
    "duration": -91,
    "start_time": "2021-12-30T07:06:36.756Z"
   },
   {
    "duration": -90,
    "start_time": "2021-12-30T07:06:36.757Z"
   },
   {
    "duration": -91,
    "start_time": "2021-12-30T07:06:36.759Z"
   },
   {
    "duration": -92,
    "start_time": "2021-12-30T07:06:36.761Z"
   },
   {
    "duration": 802,
    "start_time": "2021-12-30T07:08:01.064Z"
   },
   {
    "duration": 74,
    "start_time": "2021-12-30T07:08:01.869Z"
   },
   {
    "duration": 19,
    "start_time": "2021-12-30T07:08:01.946Z"
   },
   {
    "duration": 91,
    "start_time": "2021-12-30T07:08:01.968Z"
   },
   {
    "duration": 40,
    "start_time": "2021-12-30T07:08:02.062Z"
   },
   {
    "duration": 17,
    "start_time": "2021-12-30T07:08:02.104Z"
   },
   {
    "duration": 37,
    "start_time": "2021-12-30T07:08:02.123Z"
   },
   {
    "duration": 11,
    "start_time": "2021-12-30T07:08:02.162Z"
   },
   {
    "duration": 12,
    "start_time": "2021-12-30T07:08:02.177Z"
   },
   {
    "duration": 10,
    "start_time": "2021-12-30T07:08:02.192Z"
   },
   {
    "duration": 55,
    "start_time": "2021-12-30T07:08:02.204Z"
   },
   {
    "duration": 31,
    "start_time": "2021-12-30T07:08:02.262Z"
   },
   {
    "duration": 12,
    "start_time": "2021-12-30T07:08:02.295Z"
   },
   {
    "duration": 8,
    "start_time": "2021-12-30T07:08:02.309Z"
   },
   {
    "duration": 477,
    "start_time": "2021-12-30T07:08:02.319Z"
   },
   {
    "duration": 64,
    "start_time": "2021-12-30T07:08:02.798Z"
   },
   {
    "duration": 9,
    "start_time": "2021-12-30T07:08:02.864Z"
   },
   {
    "duration": 11,
    "start_time": "2021-12-30T07:08:02.875Z"
   },
   {
    "duration": 6,
    "start_time": "2021-12-30T07:08:02.888Z"
   },
   {
    "duration": 12,
    "start_time": "2021-12-30T07:08:02.897Z"
   },
   {
    "duration": 52,
    "start_time": "2021-12-30T07:08:02.911Z"
   },
   {
    "duration": 13,
    "start_time": "2021-12-30T07:08:02.965Z"
   },
   {
    "duration": 7,
    "start_time": "2021-12-30T07:08:02.980Z"
   },
   {
    "duration": 13,
    "start_time": "2021-12-30T07:08:02.989Z"
   },
   {
    "duration": 53,
    "start_time": "2021-12-30T07:08:03.005Z"
   },
   {
    "duration": 11,
    "start_time": "2021-12-30T07:08:03.062Z"
   },
   {
    "duration": 7,
    "start_time": "2021-12-30T07:08:03.080Z"
   },
   {
    "duration": 19,
    "start_time": "2021-12-30T07:08:03.090Z"
   },
   {
    "duration": 6,
    "start_time": "2021-12-30T07:08:03.111Z"
   },
   {
    "duration": 7,
    "start_time": "2021-12-30T07:08:03.160Z"
   },
   {
    "duration": 8,
    "start_time": "2021-12-30T07:08:03.169Z"
   },
   {
    "duration": 5,
    "start_time": "2021-12-30T07:08:03.180Z"
   },
   {
    "duration": 884,
    "start_time": "2021-12-30T07:08:03.187Z"
   },
   {
    "duration": 7,
    "start_time": "2021-12-30T07:08:04.073Z"
   },
   {
    "duration": 9,
    "start_time": "2021-12-30T07:08:04.082Z"
   },
   {
    "duration": 9,
    "start_time": "2021-12-30T07:08:04.094Z"
   },
   {
    "duration": 637,
    "start_time": "2021-12-30T07:08:04.106Z"
   },
   {
    "duration": 616,
    "start_time": "2021-12-30T07:08:04.745Z"
   },
   {
    "duration": 392,
    "start_time": "2021-12-30T07:08:05.364Z"
   },
   {
    "duration": 400,
    "start_time": "2021-12-30T07:08:05.759Z"
   },
   {
    "duration": 1256,
    "start_time": "2021-12-30T07:08:06.161Z"
   },
   {
    "duration": 1340,
    "start_time": "2021-12-30T07:08:07.419Z"
   },
   {
    "duration": 7,
    "start_time": "2021-12-30T07:08:08.761Z"
   },
   {
    "duration": 347,
    "start_time": "2021-12-30T07:08:08.770Z"
   },
   {
    "duration": 298,
    "start_time": "2021-12-30T07:08:09.119Z"
   },
   {
    "duration": 726,
    "start_time": "2021-12-30T07:08:09.419Z"
   },
   {
    "duration": 313,
    "start_time": "2021-12-30T07:08:10.148Z"
   },
   {
    "duration": 343,
    "start_time": "2021-12-30T07:08:10.464Z"
   },
   {
    "duration": 329,
    "start_time": "2021-12-30T07:08:10.809Z"
   },
   {
    "duration": 46,
    "start_time": "2021-12-30T07:08:11.140Z"
   },
   {
    "duration": 11,
    "start_time": "2021-12-30T07:08:11.188Z"
   },
   {
    "duration": 12,
    "start_time": "2021-12-30T07:08:11.201Z"
   },
   {
    "duration": 344,
    "start_time": "2021-12-30T07:08:11.215Z"
   },
   {
    "duration": 11,
    "start_time": "2021-12-30T07:08:11.561Z"
   },
   {
    "duration": 327,
    "start_time": "2021-12-30T07:08:11.574Z"
   },
   {
    "duration": 328,
    "start_time": "2021-12-30T07:08:11.903Z"
   },
   {
    "duration": 407,
    "start_time": "2021-12-30T07:08:12.233Z"
   },
   {
    "duration": 334,
    "start_time": "2021-12-30T07:08:12.642Z"
   },
   {
    "duration": 360,
    "start_time": "2021-12-30T07:08:12.978Z"
   },
   {
    "duration": 14,
    "start_time": "2021-12-30T07:21:58.804Z"
   },
   {
    "duration": 580,
    "start_time": "2022-01-03T07:58:45.575Z"
   },
   {
    "duration": 95,
    "start_time": "2022-01-03T07:58:46.934Z"
   },
   {
    "duration": 11,
    "start_time": "2022-01-03T07:59:48.849Z"
   },
   {
    "duration": 9,
    "start_time": "2022-01-03T07:59:50.698Z"
   },
   {
    "duration": 8,
    "start_time": "2022-01-03T08:00:34.624Z"
   },
   {
    "duration": 145,
    "start_time": "2022-01-03T08:06:52.761Z"
   },
   {
    "duration": 22,
    "start_time": "2022-01-03T08:07:09.555Z"
   },
   {
    "duration": 2,
    "start_time": "2022-01-03T08:11:44.625Z"
   },
   {
    "duration": 574,
    "start_time": "2022-01-03T08:11:50.376Z"
   },
   {
    "duration": 98,
    "start_time": "2022-01-03T08:11:51.544Z"
   },
   {
    "duration": 83,
    "start_time": "2022-01-03T08:12:33.100Z"
   },
   {
    "duration": 22,
    "start_time": "2022-01-03T08:29:10.192Z"
   },
   {
    "duration": 9,
    "start_time": "2022-01-03T08:29:57.386Z"
   },
   {
    "duration": 331,
    "start_time": "2022-01-03T08:35:05.686Z"
   },
   {
    "duration": 562,
    "start_time": "2022-01-03T08:35:29.109Z"
   },
   {
    "duration": 123,
    "start_time": "2022-01-03T08:35:29.945Z"
   },
   {
    "duration": 11,
    "start_time": "2022-01-03T08:35:31.860Z"
   },
   {
    "duration": 9,
    "start_time": "2022-01-03T08:35:33.698Z"
   },
   {
    "duration": 8,
    "start_time": "2022-01-03T08:35:36.118Z"
   },
   {
    "duration": 15,
    "start_time": "2022-01-03T08:35:37.639Z"
   },
   {
    "duration": 316,
    "start_time": "2022-01-03T08:35:39.275Z"
   },
   {
    "duration": 259,
    "start_time": "2022-01-03T08:35:51.740Z"
   },
   {
    "duration": 7,
    "start_time": "2022-01-03T08:36:21.213Z"
   },
   {
    "duration": 10,
    "start_time": "2022-01-03T08:36:25.832Z"
   },
   {
    "duration": 16,
    "start_time": "2022-01-03T08:36:27.206Z"
   },
   {
    "duration": 9,
    "start_time": "2022-01-03T08:36:28.856Z"
   },
   {
    "duration": 7,
    "start_time": "2022-01-03T08:36:34.005Z"
   },
   {
    "duration": 278,
    "start_time": "2022-01-03T08:36:35.403Z"
   },
   {
    "duration": 34,
    "start_time": "2022-01-03T08:36:39.700Z"
   },
   {
    "duration": 7,
    "start_time": "2022-01-03T08:36:52.915Z"
   },
   {
    "duration": 9,
    "start_time": "2022-01-03T08:36:54.324Z"
   },
   {
    "duration": 5,
    "start_time": "2022-01-03T08:36:55.891Z"
   },
   {
    "duration": 9,
    "start_time": "2022-01-03T08:36:58.987Z"
   },
   {
    "duration": 4,
    "start_time": "2022-01-03T08:37:00.917Z"
   },
   {
    "duration": 8,
    "start_time": "2022-01-03T08:37:02.461Z"
   },
   {
    "duration": 6,
    "start_time": "2022-01-03T08:37:04.034Z"
   },
   {
    "duration": 9,
    "start_time": "2022-01-03T08:37:05.415Z"
   },
   {
    "duration": 5,
    "start_time": "2022-01-03T08:37:20.801Z"
   },
   {
    "duration": 45,
    "start_time": "2022-01-03T08:50:41.215Z"
   },
   {
    "duration": 591,
    "start_time": "2022-01-03T08:57:52.057Z"
   },
   {
    "duration": 96,
    "start_time": "2022-01-03T08:57:52.891Z"
   },
   {
    "duration": 12,
    "start_time": "2022-01-03T08:57:59.338Z"
   },
   {
    "duration": 11,
    "start_time": "2022-01-03T08:58:00.999Z"
   },
   {
    "duration": 10,
    "start_time": "2022-01-03T08:58:03.472Z"
   },
   {
    "duration": 15,
    "start_time": "2022-01-03T08:58:04.634Z"
   },
   {
    "duration": 9,
    "start_time": "2022-01-03T08:58:10.619Z"
   },
   {
    "duration": 11,
    "start_time": "2022-01-03T08:58:11.873Z"
   },
   {
    "duration": 20,
    "start_time": "2022-01-03T08:58:13.061Z"
   },
   {
    "duration": 9,
    "start_time": "2022-01-03T08:58:15.310Z"
   },
   {
    "duration": 6,
    "start_time": "2022-01-03T08:58:16.843Z"
   },
   {
    "duration": 266,
    "start_time": "2022-01-03T08:58:18.364Z"
   },
   {
    "duration": 32,
    "start_time": "2022-01-03T08:58:20.677Z"
   },
   {
    "duration": 8,
    "start_time": "2022-01-03T08:58:22.549Z"
   },
   {
    "duration": 9,
    "start_time": "2022-01-03T08:58:23.727Z"
   },
   {
    "duration": 6,
    "start_time": "2022-01-03T08:58:25.099Z"
   },
   {
    "duration": 10,
    "start_time": "2022-01-03T08:58:26.091Z"
   },
   {
    "duration": 6,
    "start_time": "2022-01-03T08:58:27.379Z"
   },
   {
    "duration": 10,
    "start_time": "2022-01-03T08:58:28.641Z"
   },
   {
    "duration": 5,
    "start_time": "2022-01-03T08:58:29.875Z"
   },
   {
    "duration": 10,
    "start_time": "2022-01-03T08:58:31.447Z"
   },
   {
    "duration": 5,
    "start_time": "2022-01-03T08:58:33.276Z"
   },
   {
    "duration": 8,
    "start_time": "2022-01-03T08:58:40.899Z"
   },
   {
    "duration": 5,
    "start_time": "2022-01-03T08:58:42.262Z"
   },
   {
    "duration": 14,
    "start_time": "2022-01-03T08:58:43.805Z"
   },
   {
    "duration": 5,
    "start_time": "2022-01-03T08:58:44.751Z"
   },
   {
    "duration": 5,
    "start_time": "2022-01-03T08:58:45.953Z"
   },
   {
    "duration": 5,
    "start_time": "2022-01-03T08:58:47.705Z"
   },
   {
    "duration": 3,
    "start_time": "2022-01-03T08:58:49.780Z"
   },
   {
    "duration": 639,
    "start_time": "2022-01-03T08:58:51.379Z"
   },
   {
    "duration": 6,
    "start_time": "2022-01-03T08:58:53.961Z"
   },
   {
    "duration": 6,
    "start_time": "2022-01-03T08:58:54.836Z"
   },
   {
    "duration": 5,
    "start_time": "2022-01-03T08:58:56.133Z"
   },
   {
    "duration": 376,
    "start_time": "2022-01-03T08:58:59.884Z"
   },
   {
    "duration": 360,
    "start_time": "2022-01-03T08:59:03.172Z"
   },
   {
    "duration": 213,
    "start_time": "2022-01-03T08:59:05.150Z"
   },
   {
    "duration": 220,
    "start_time": "2022-01-03T08:59:07.220Z"
   },
   {
    "duration": 717,
    "start_time": "2022-01-03T08:59:15.384Z"
   },
   {
    "duration": 812,
    "start_time": "2022-01-03T09:00:38.703Z"
   },
   {
    "duration": 723,
    "start_time": "2022-01-03T09:05:52.727Z"
   },
   {
    "duration": 724,
    "start_time": "2022-01-03T09:08:21.494Z"
   },
   {
    "duration": 744,
    "start_time": "2022-01-03T09:09:46.888Z"
   },
   {
    "duration": 856,
    "start_time": "2022-01-03T09:25:32.604Z"
   },
   {
    "duration": 589,
    "start_time": "2022-01-03T09:29:05.966Z"
   },
   {
    "duration": 97,
    "start_time": "2022-01-03T09:29:07.024Z"
   },
   {
    "duration": 12,
    "start_time": "2022-01-03T09:29:09.292Z"
   },
   {
    "duration": 10,
    "start_time": "2022-01-03T09:29:11.082Z"
   },
   {
    "duration": 17,
    "start_time": "2022-01-03T09:29:13.473Z"
   },
   {
    "duration": 14,
    "start_time": "2022-01-03T09:29:17.850Z"
   },
   {
    "duration": 369,
    "start_time": "2022-01-03T09:31:31.678Z"
   },
   {
    "duration": 265,
    "start_time": "2022-01-03T09:31:50.632Z"
   },
   {
    "duration": 7,
    "start_time": "2022-01-03T09:32:42.998Z"
   },
   {
    "duration": 8,
    "start_time": "2022-01-03T09:33:00.622Z"
   },
   {
    "duration": 9,
    "start_time": "2022-01-03T09:35:02.677Z"
   },
   {
    "duration": 9,
    "start_time": "2022-01-03T09:35:03.806Z"
   },
   {
    "duration": 22,
    "start_time": "2022-01-03T09:35:05.824Z"
   },
   {
    "duration": 10,
    "start_time": "2022-01-03T09:35:07.262Z"
   },
   {
    "duration": 8,
    "start_time": "2022-01-03T09:35:08.146Z"
   },
   {
    "duration": 272,
    "start_time": "2022-01-03T09:35:09.273Z"
   },
   {
    "duration": 34,
    "start_time": "2022-01-03T09:35:11.267Z"
   },
   {
    "duration": 9,
    "start_time": "2022-01-03T09:35:13.068Z"
   },
   {
    "duration": 10,
    "start_time": "2022-01-03T09:35:14.247Z"
   },
   {
    "duration": 6,
    "start_time": "2022-01-03T09:35:15.300Z"
   },
   {
    "duration": 9,
    "start_time": "2022-01-03T09:35:16.487Z"
   },
   {
    "duration": 5,
    "start_time": "2022-01-03T09:35:17.663Z"
   },
   {
    "duration": 9,
    "start_time": "2022-01-03T09:35:18.882Z"
   },
   {
    "duration": 5,
    "start_time": "2022-01-03T09:35:20.130Z"
   },
   {
    "duration": 11,
    "start_time": "2022-01-03T09:35:20.741Z"
   },
   {
    "duration": 5,
    "start_time": "2022-01-03T09:35:22.553Z"
   },
   {
    "duration": 7,
    "start_time": "2022-01-03T09:35:24.137Z"
   },
   {
    "duration": 5,
    "start_time": "2022-01-03T09:35:25.429Z"
   },
   {
    "duration": 15,
    "start_time": "2022-01-03T09:35:26.259Z"
   },
   {
    "duration": 4,
    "start_time": "2022-01-03T09:35:26.972Z"
   },
   {
    "duration": 5,
    "start_time": "2022-01-03T09:35:28.206Z"
   },
   {
    "duration": 5,
    "start_time": "2022-01-03T09:35:28.825Z"
   },
   {
    "duration": 3,
    "start_time": "2022-01-03T09:35:29.964Z"
   },
   {
    "duration": 547,
    "start_time": "2022-01-03T09:35:31.067Z"
   },
   {
    "duration": 6,
    "start_time": "2022-01-03T09:35:32.505Z"
   },
   {
    "duration": 5,
    "start_time": "2022-01-03T09:35:33.702Z"
   },
   {
    "duration": 6,
    "start_time": "2022-01-03T09:35:34.599Z"
   },
   {
    "duration": 359,
    "start_time": "2022-01-03T09:35:36.042Z"
   },
   {
    "duration": 348,
    "start_time": "2022-01-03T09:35:37.728Z"
   },
   {
    "duration": 220,
    "start_time": "2022-01-03T09:35:39.932Z"
   },
   {
    "duration": 221,
    "start_time": "2022-01-03T09:35:41.582Z"
   },
   {
    "duration": 756,
    "start_time": "2022-01-03T09:35:48.565Z"
   },
   {
    "duration": 612,
    "start_time": "2022-01-03T09:41:57.455Z"
   },
   {
    "duration": 100,
    "start_time": "2022-01-03T09:41:58.295Z"
   },
   {
    "duration": 12,
    "start_time": "2022-01-03T09:42:00.463Z"
   },
   {
    "duration": 10,
    "start_time": "2022-01-03T09:42:01.975Z"
   },
   {
    "duration": 8,
    "start_time": "2022-01-03T09:42:04.635Z"
   },
   {
    "duration": 14,
    "start_time": "2022-01-03T09:42:05.838Z"
   },
   {
    "duration": 7,
    "start_time": "2022-01-03T09:42:07.121Z"
   },
   {
    "duration": 7,
    "start_time": "2022-01-03T09:42:07.912Z"
   },
   {
    "duration": 9,
    "start_time": "2022-01-03T09:42:09.687Z"
   },
   {
    "duration": 10,
    "start_time": "2022-01-03T09:42:10.896Z"
   },
   {
    "duration": 21,
    "start_time": "2022-01-03T09:42:12.013Z"
   },
   {
    "duration": 11,
    "start_time": "2022-01-03T09:42:13.464Z"
   },
   {
    "duration": 8,
    "start_time": "2022-01-03T09:42:15.047Z"
   },
   {
    "duration": 288,
    "start_time": "2022-01-03T09:42:16.253Z"
   },
   {
    "duration": 32,
    "start_time": "2022-01-03T09:42:19.278Z"
   },
   {
    "duration": 7,
    "start_time": "2022-01-03T09:42:21.381Z"
   },
   {
    "duration": 9,
    "start_time": "2022-01-03T09:42:22.522Z"
   },
   {
    "duration": 5,
    "start_time": "2022-01-03T09:42:23.946Z"
   },
   {
    "duration": 10,
    "start_time": "2022-01-03T09:42:24.725Z"
   },
   {
    "duration": 5,
    "start_time": "2022-01-03T09:42:26.105Z"
   },
   {
    "duration": 8,
    "start_time": "2022-01-03T09:42:27.690Z"
   },
   {
    "duration": 5,
    "start_time": "2022-01-03T09:42:28.903Z"
   },
   {
    "duration": 10,
    "start_time": "2022-01-03T09:42:30.281Z"
   },
   {
    "duration": 5,
    "start_time": "2022-01-03T09:42:32.759Z"
   },
   {
    "duration": 7,
    "start_time": "2022-01-03T09:42:34.741Z"
   },
   {
    "duration": 5,
    "start_time": "2022-01-03T09:42:35.617Z"
   },
   {
    "duration": 14,
    "start_time": "2022-01-03T09:42:36.755Z"
   },
   {
    "duration": 5,
    "start_time": "2022-01-03T09:42:37.399Z"
   },
   {
    "duration": 5,
    "start_time": "2022-01-03T09:42:38.569Z"
   },
   {
    "duration": 5,
    "start_time": "2022-01-03T09:42:39.392Z"
   },
   {
    "duration": 4,
    "start_time": "2022-01-03T09:42:40.389Z"
   },
   {
    "duration": 523,
    "start_time": "2022-01-03T09:42:41.518Z"
   },
   {
    "duration": 5,
    "start_time": "2022-01-03T09:42:43.337Z"
   },
   {
    "duration": 5,
    "start_time": "2022-01-03T09:42:44.028Z"
   },
   {
    "duration": 5,
    "start_time": "2022-01-03T09:42:45.415Z"
   },
   {
    "duration": 344,
    "start_time": "2022-01-03T09:42:46.827Z"
   },
   {
    "duration": 341,
    "start_time": "2022-01-03T09:42:48.924Z"
   },
   {
    "duration": 229,
    "start_time": "2022-01-03T09:42:50.785Z"
   },
   {
    "duration": 235,
    "start_time": "2022-01-03T09:42:52.561Z"
   },
   {
    "duration": 721,
    "start_time": "2022-01-03T09:42:55.616Z"
   },
   {
    "duration": 851,
    "start_time": "2022-01-03T09:42:59.918Z"
   },
   {
    "duration": 193,
    "start_time": "2022-01-03T09:45:57.270Z"
   },
   {
    "duration": 622,
    "start_time": "2022-01-03T12:50:43.537Z"
   },
   {
    "duration": 102,
    "start_time": "2022-01-03T12:50:45.750Z"
   },
   {
    "duration": 11,
    "start_time": "2022-01-03T12:50:48.087Z"
   },
   {
    "duration": 10,
    "start_time": "2022-01-03T12:50:49.909Z"
   },
   {
    "duration": 10,
    "start_time": "2022-01-03T12:50:54.061Z"
   },
   {
    "duration": 16,
    "start_time": "2022-01-03T12:51:02.832Z"
   },
   {
    "duration": 8,
    "start_time": "2022-01-03T12:51:14.280Z"
   },
   {
    "duration": 8,
    "start_time": "2022-01-03T12:51:16.665Z"
   },
   {
    "duration": 11,
    "start_time": "2022-01-03T12:51:45.396Z"
   },
   {
    "duration": 10,
    "start_time": "2022-01-03T12:51:46.669Z"
   },
   {
    "duration": 19,
    "start_time": "2022-01-03T12:51:48.035Z"
   },
   {
    "duration": 9,
    "start_time": "2022-01-03T12:51:49.573Z"
   },
   {
    "duration": 7,
    "start_time": "2022-01-03T12:51:50.675Z"
   },
   {
    "duration": 289,
    "start_time": "2022-01-03T12:51:52.088Z"
   },
   {
    "duration": 36,
    "start_time": "2022-01-03T12:51:54.484Z"
   },
   {
    "duration": 8,
    "start_time": "2022-01-03T12:51:56.957Z"
   },
   {
    "duration": 10,
    "start_time": "2022-01-03T12:51:58.424Z"
   },
   {
    "duration": 6,
    "start_time": "2022-01-03T12:51:59.609Z"
   },
   {
    "duration": 10,
    "start_time": "2022-01-03T12:52:00.776Z"
   },
   {
    "duration": 9,
    "start_time": "2022-01-03T12:53:27.985Z"
   },
   {
    "duration": 5,
    "start_time": "2022-01-03T12:53:29.966Z"
   },
   {
    "duration": 8,
    "start_time": "2022-01-03T12:53:31.485Z"
   },
   {
    "duration": 6,
    "start_time": "2022-01-03T12:53:32.882Z"
   },
   {
    "duration": 9,
    "start_time": "2022-01-03T12:53:34.527Z"
   },
   {
    "duration": 5,
    "start_time": "2022-01-03T12:53:37.012Z"
   },
   {
    "duration": 7,
    "start_time": "2022-01-03T12:53:39.961Z"
   },
   {
    "duration": 6,
    "start_time": "2022-01-03T12:53:41.615Z"
   },
   {
    "duration": 13,
    "start_time": "2022-01-03T12:53:42.980Z"
   },
   {
    "duration": 5,
    "start_time": "2022-01-03T12:53:44.950Z"
   },
   {
    "duration": 5,
    "start_time": "2022-01-03T12:53:46.349Z"
   },
   {
    "duration": 5,
    "start_time": "2022-01-03T12:53:47.219Z"
   },
   {
    "duration": 3,
    "start_time": "2022-01-03T12:53:49.171Z"
   },
   {
    "duration": 536,
    "start_time": "2022-01-03T12:53:50.657Z"
   },
   {
    "duration": 5,
    "start_time": "2022-01-03T12:53:54.465Z"
   },
   {
    "duration": 5,
    "start_time": "2022-01-03T12:53:56.098Z"
   },
   {
    "duration": 5,
    "start_time": "2022-01-03T12:53:56.964Z"
   },
   {
    "duration": 352,
    "start_time": "2022-01-03T12:54:04.315Z"
   },
   {
    "duration": 770,
    "start_time": "2022-01-03T13:03:03.285Z"
   },
   {
    "duration": 135,
    "start_time": "2022-01-03T13:13:55.631Z"
   },
   {
    "duration": 185,
    "start_time": "2022-01-03T13:14:27.177Z"
   },
   {
    "duration": 190,
    "start_time": "2022-01-03T13:14:56.751Z"
   },
   {
    "duration": 148,
    "start_time": "2022-01-03T13:22:54.753Z"
   },
   {
    "duration": 144,
    "start_time": "2022-01-03T13:22:59.752Z"
   },
   {
    "duration": 240,
    "start_time": "2022-01-03T13:24:41.471Z"
   },
   {
    "duration": 142,
    "start_time": "2022-01-03T13:24:59.638Z"
   },
   {
    "duration": 139,
    "start_time": "2022-01-03T13:28:07.888Z"
   },
   {
    "duration": 189,
    "start_time": "2022-01-03T13:28:21.719Z"
   },
   {
    "duration": 140,
    "start_time": "2022-01-03T13:30:16.701Z"
   },
   {
    "duration": 199,
    "start_time": "2022-01-03T13:41:15.905Z"
   },
   {
    "duration": 197,
    "start_time": "2022-01-03T13:41:18.059Z"
   },
   {
    "duration": 171,
    "start_time": "2022-01-03T13:41:20.373Z"
   },
   {
    "duration": 177,
    "start_time": "2022-01-03T13:42:04.781Z"
   },
   {
    "duration": 494,
    "start_time": "2022-01-03T13:43:50.872Z"
   },
   {
    "duration": 184,
    "start_time": "2022-01-03T13:43:54.225Z"
   },
   {
    "duration": 265,
    "start_time": "2022-01-03T13:43:56.226Z"
   },
   {
    "duration": 191,
    "start_time": "2022-01-03T13:43:58.487Z"
   },
   {
    "duration": 28,
    "start_time": "2022-01-03T13:44:07.086Z"
   },
   {
    "duration": 8,
    "start_time": "2022-01-03T13:44:08.619Z"
   },
   {
    "duration": 7,
    "start_time": "2022-01-03T13:44:10.163Z"
   },
   {
    "duration": 186,
    "start_time": "2022-01-03T13:44:25.512Z"
   },
   {
    "duration": 8,
    "start_time": "2022-01-03T13:44:37.849Z"
   },
   {
    "duration": 203,
    "start_time": "2022-01-03T13:44:39.253Z"
   },
   {
    "duration": 214,
    "start_time": "2022-01-03T13:44:41.556Z"
   },
   {
    "duration": 169,
    "start_time": "2022-01-03T13:44:48.733Z"
   },
   {
    "duration": 213,
    "start_time": "2022-01-03T13:45:31.767Z"
   },
   {
    "duration": 193,
    "start_time": "2022-01-03T13:45:33.513Z"
   },
   {
    "duration": 188,
    "start_time": "2022-01-03T13:45:36.123Z"
   },
   {
    "duration": 579,
    "start_time": "2022-01-07T07:53:46.815Z"
   },
   {
    "duration": 91,
    "start_time": "2022-01-07T07:53:48.462Z"
   },
   {
    "duration": 13,
    "start_time": "2022-01-07T07:53:51.301Z"
   },
   {
    "duration": 11,
    "start_time": "2022-01-07T07:53:54.268Z"
   },
   {
    "duration": 9,
    "start_time": "2022-01-07T07:53:57.613Z"
   },
   {
    "duration": 16,
    "start_time": "2022-01-07T07:54:01.814Z"
   },
   {
    "duration": 310,
    "start_time": "2022-01-07T07:54:22.112Z"
   },
   {
    "duration": 3,
    "start_time": "2022-01-07T07:56:12.701Z"
   },
   {
    "duration": 249,
    "start_time": "2022-01-07T07:56:48.153Z"
   },
   {
    "duration": 10,
    "start_time": "2022-01-07T07:57:11.467Z"
   },
   {
    "duration": 9,
    "start_time": "2022-01-07T08:00:01.116Z"
   },
   {
    "duration": 10,
    "start_time": "2022-01-07T08:00:05.078Z"
   },
   {
    "duration": 19,
    "start_time": "2022-01-07T08:00:06.259Z"
   },
   {
    "duration": 9,
    "start_time": "2022-01-07T08:00:08.053Z"
   },
   {
    "duration": 7,
    "start_time": "2022-01-07T08:00:09.403Z"
   },
   {
    "duration": 288,
    "start_time": "2022-01-07T08:00:10.382Z"
   },
   {
    "duration": 33,
    "start_time": "2022-01-07T08:00:12.524Z"
   },
   {
    "duration": 8,
    "start_time": "2022-01-07T08:00:14.688Z"
   },
   {
    "duration": 9,
    "start_time": "2022-01-07T08:00:15.819Z"
   },
   {
    "duration": 5,
    "start_time": "2022-01-07T08:00:17.492Z"
   },
   {
    "duration": 9,
    "start_time": "2022-01-07T08:00:18.260Z"
   },
   {
    "duration": 4,
    "start_time": "2022-01-07T08:00:20.021Z"
   },
   {
    "duration": 9,
    "start_time": "2022-01-07T08:00:20.883Z"
   },
   {
    "duration": 5,
    "start_time": "2022-01-07T08:00:22.282Z"
   },
   {
    "duration": 9,
    "start_time": "2022-01-07T08:00:23.041Z"
   },
   {
    "duration": 5,
    "start_time": "2022-01-07T08:00:25.019Z"
   },
   {
    "duration": 7,
    "start_time": "2022-01-07T08:00:41.197Z"
   },
   {
    "duration": 4,
    "start_time": "2022-01-07T08:00:42.503Z"
   },
   {
    "duration": 12,
    "start_time": "2022-01-07T08:00:44.131Z"
   },
   {
    "duration": 5,
    "start_time": "2022-01-07T08:00:45.054Z"
   },
   {
    "duration": 5,
    "start_time": "2022-01-07T08:00:46.149Z"
   },
   {
    "duration": 5,
    "start_time": "2022-01-07T08:00:46.893Z"
   },
   {
    "duration": 4,
    "start_time": "2022-01-07T08:00:48.064Z"
   },
   {
    "duration": 546,
    "start_time": "2022-01-07T08:00:49.370Z"
   },
   {
    "duration": 5,
    "start_time": "2022-01-07T08:00:51.085Z"
   },
   {
    "duration": 5,
    "start_time": "2022-01-07T08:00:52.179Z"
   },
   {
    "duration": 5,
    "start_time": "2022-01-07T08:00:53.569Z"
   },
   {
    "duration": 369,
    "start_time": "2022-01-07T08:00:58.877Z"
   },
   {
    "duration": 364,
    "start_time": "2022-01-07T08:01:01.019Z"
   },
   {
    "duration": 226,
    "start_time": "2022-01-07T08:01:03.356Z"
   },
   {
    "duration": 216,
    "start_time": "2022-01-07T08:01:05.319Z"
   },
   {
    "duration": 6839,
    "start_time": "2022-01-07T08:19:16.959Z"
   },
   {
    "duration": 1046,
    "start_time": "2022-01-07T08:20:18.341Z"
   },
   {
    "duration": 707,
    "start_time": "2022-01-07T08:21:40.111Z"
   },
   {
    "duration": 717,
    "start_time": "2022-01-07T08:21:54.050Z"
   },
   {
    "duration": 767,
    "start_time": "2022-01-07T08:22:32.475Z"
   },
   {
    "duration": 615,
    "start_time": "2022-01-07T08:25:30.826Z"
   },
   {
    "duration": 95,
    "start_time": "2022-01-07T08:25:32.001Z"
   },
   {
    "duration": 13,
    "start_time": "2022-01-07T08:25:34.266Z"
   },
   {
    "duration": 11,
    "start_time": "2022-01-07T08:25:36.020Z"
   },
   {
    "duration": 9,
    "start_time": "2022-01-07T08:25:39.032Z"
   },
   {
    "duration": 15,
    "start_time": "2022-01-07T08:25:40.962Z"
   },
   {
    "duration": 9,
    "start_time": "2022-01-07T08:25:57.816Z"
   },
   {
    "duration": 11,
    "start_time": "2022-01-07T08:26:02.078Z"
   },
   {
    "duration": 9,
    "start_time": "2022-01-07T08:27:50.278Z"
   },
   {
    "duration": 10,
    "start_time": "2022-01-07T08:27:53.965Z"
   },
   {
    "duration": 10,
    "start_time": "2022-01-07T08:27:56.227Z"
   },
   {
    "duration": 8,
    "start_time": "2022-01-07T08:28:52.105Z"
   },
   {
    "duration": 7,
    "start_time": "2022-01-07T08:28:58.919Z"
   },
   {
    "duration": 21,
    "start_time": "2022-01-07T08:28:59.790Z"
   },
   {
    "duration": 10,
    "start_time": "2022-01-07T08:29:01.206Z"
   },
   {
    "duration": 6,
    "start_time": "2022-01-07T08:29:02.484Z"
   },
   {
    "duration": 285,
    "start_time": "2022-01-07T08:29:03.680Z"
   },
   {
    "duration": 33,
    "start_time": "2022-01-07T08:29:05.471Z"
   },
   {
    "duration": 8,
    "start_time": "2022-01-07T08:29:07.345Z"
   },
   {
    "duration": 10,
    "start_time": "2022-01-07T08:29:08.584Z"
   },
   {
    "duration": 6,
    "start_time": "2022-01-07T08:29:09.780Z"
   },
   {
    "duration": 9,
    "start_time": "2022-01-07T08:29:10.816Z"
   },
   {
    "duration": 5,
    "start_time": "2022-01-07T08:29:12.269Z"
   },
   {
    "duration": 9,
    "start_time": "2022-01-07T08:29:12.994Z"
   },
   {
    "duration": 5,
    "start_time": "2022-01-07T08:29:14.258Z"
   },
   {
    "duration": 11,
    "start_time": "2022-01-07T08:29:15.471Z"
   },
   {
    "duration": 5,
    "start_time": "2022-01-07T08:29:17.300Z"
   },
   {
    "duration": 7,
    "start_time": "2022-01-07T08:29:19.266Z"
   },
   {
    "duration": 5,
    "start_time": "2022-01-07T08:29:20.777Z"
   },
   {
    "duration": 13,
    "start_time": "2022-01-07T08:29:22.640Z"
   },
   {
    "duration": 5,
    "start_time": "2022-01-07T08:29:23.577Z"
   },
   {
    "duration": 5,
    "start_time": "2022-01-07T08:29:24.788Z"
   },
   {
    "duration": 5,
    "start_time": "2022-01-07T08:29:26.342Z"
   },
   {
    "duration": 4,
    "start_time": "2022-01-07T08:29:27.268Z"
   },
   {
    "duration": 539,
    "start_time": "2022-01-07T08:29:28.826Z"
   },
   {
    "duration": 7,
    "start_time": "2022-01-07T08:29:30.513Z"
   },
   {
    "duration": 5,
    "start_time": "2022-01-07T08:29:31.470Z"
   },
   {
    "duration": 5,
    "start_time": "2022-01-07T08:29:32.760Z"
   },
   {
    "duration": 367,
    "start_time": "2022-01-07T08:29:34.858Z"
   },
   {
    "duration": 357,
    "start_time": "2022-01-07T08:29:36.837Z"
   },
   {
    "duration": 221,
    "start_time": "2022-01-07T08:29:38.488Z"
   },
   {
    "duration": 220,
    "start_time": "2022-01-07T08:29:40.600Z"
   },
   {
    "duration": 974,
    "start_time": "2022-01-07T08:29:47.712Z"
   },
   {
    "duration": 880,
    "start_time": "2022-01-07T08:30:03.202Z"
   },
   {
    "duration": 222,
    "start_time": "2022-01-07T08:31:21.395Z"
   },
   {
    "duration": 215,
    "start_time": "2022-01-07T08:31:22.832Z"
   },
   {
    "duration": 225,
    "start_time": "2022-01-07T08:31:24.501Z"
   },
   {
    "duration": 237,
    "start_time": "2022-01-07T08:31:26.333Z"
   },
   {
    "duration": 221,
    "start_time": "2022-01-07T08:31:27.891Z"
   },
   {
    "duration": 395,
    "start_time": "2022-01-07T08:38:39.669Z"
   },
   {
    "duration": 711,
    "start_time": "2022-01-07T08:40:15.836Z"
   },
   {
    "duration": 226,
    "start_time": "2022-01-07T08:40:16.565Z"
   },
   {
    "duration": 12,
    "start_time": "2022-01-07T08:40:18.801Z"
   },
   {
    "duration": 11,
    "start_time": "2022-01-07T08:40:20.328Z"
   },
   {
    "duration": 9,
    "start_time": "2022-01-07T08:40:22.610Z"
   },
   {
    "duration": 16,
    "start_time": "2022-01-07T08:40:23.689Z"
   },
   {
    "duration": 7,
    "start_time": "2022-01-07T08:40:25.106Z"
   },
   {
    "duration": 10,
    "start_time": "2022-01-07T08:40:26.296Z"
   },
   {
    "duration": 10,
    "start_time": "2022-01-07T08:40:28.799Z"
   },
   {
    "duration": 10,
    "start_time": "2022-01-07T08:40:29.844Z"
   },
   {
    "duration": 20,
    "start_time": "2022-01-07T08:40:31.110Z"
   },
   {
    "duration": 9,
    "start_time": "2022-01-07T08:40:32.349Z"
   },
   {
    "duration": 7,
    "start_time": "2022-01-07T08:40:33.880Z"
   },
   {
    "duration": 293,
    "start_time": "2022-01-07T08:40:35.144Z"
   },
   {
    "duration": 34,
    "start_time": "2022-01-07T08:40:37.393Z"
   },
   {
    "duration": 8,
    "start_time": "2022-01-07T08:40:39.161Z"
   },
   {
    "duration": 11,
    "start_time": "2022-01-07T08:40:40.319Z"
   },
   {
    "duration": 6,
    "start_time": "2022-01-07T08:40:41.644Z"
   },
   {
    "duration": 11,
    "start_time": "2022-01-07T08:40:42.395Z"
   },
   {
    "duration": 5,
    "start_time": "2022-01-07T08:40:43.552Z"
   },
   {
    "duration": 10,
    "start_time": "2022-01-07T08:40:44.255Z"
   },
   {
    "duration": 6,
    "start_time": "2022-01-07T08:40:45.383Z"
   },
   {
    "duration": 11,
    "start_time": "2022-01-07T08:40:46.174Z"
   },
   {
    "duration": 5,
    "start_time": "2022-01-07T08:40:48.144Z"
   },
   {
    "duration": 7,
    "start_time": "2022-01-07T08:40:50.560Z"
   },
   {
    "duration": 6,
    "start_time": "2022-01-07T08:40:51.711Z"
   },
   {
    "duration": 15,
    "start_time": "2022-01-07T08:40:52.899Z"
   },
   {
    "duration": 5,
    "start_time": "2022-01-07T08:40:53.651Z"
   },
   {
    "duration": 6,
    "start_time": "2022-01-07T08:40:54.763Z"
   },
   {
    "duration": 6,
    "start_time": "2022-01-07T08:40:55.620Z"
   },
   {
    "duration": 4,
    "start_time": "2022-01-07T08:40:57.016Z"
   },
   {
    "duration": 837,
    "start_time": "2022-01-07T08:40:57.825Z"
   },
   {
    "duration": 6,
    "start_time": "2022-01-07T08:40:59.733Z"
   },
   {
    "duration": 7,
    "start_time": "2022-01-07T08:41:00.590Z"
   },
   {
    "duration": 5,
    "start_time": "2022-01-07T08:41:01.757Z"
   },
   {
    "duration": 761,
    "start_time": "2022-01-07T08:41:03.355Z"
   },
   {
    "duration": 619,
    "start_time": "2022-01-07T08:41:05.792Z"
   },
   {
    "duration": 370,
    "start_time": "2022-01-07T08:41:07.877Z"
   },
   {
    "duration": 379,
    "start_time": "2022-01-07T08:41:09.772Z"
   },
   {
    "duration": 1702,
    "start_time": "2022-01-07T08:41:12.960Z"
   },
   {
    "duration": 872,
    "start_time": "2022-01-07T08:41:19.356Z"
   },
   {
    "duration": 746,
    "start_time": "2022-01-07T08:41:41.255Z"
   },
   {
    "duration": 739,
    "start_time": "2022-01-07T08:41:58.400Z"
   },
   {
    "duration": 970,
    "start_time": "2022-01-07T08:42:04.914Z"
   },
   {
    "duration": 363,
    "start_time": "2022-01-07T08:42:17.124Z"
   },
   {
    "duration": 219,
    "start_time": "2022-01-07T08:42:18.925Z"
   },
   {
    "duration": 214,
    "start_time": "2022-01-07T08:42:20.831Z"
   },
   {
    "duration": 222,
    "start_time": "2022-01-07T08:42:22.708Z"
   },
   {
    "duration": 220,
    "start_time": "2022-01-07T08:42:24.923Z"
   },
   {
    "duration": 22,
    "start_time": "2022-01-07T08:42:27.166Z"
   },
   {
    "duration": 205,
    "start_time": "2022-01-07T08:43:20.871Z"
   },
   {
    "duration": 200,
    "start_time": "2022-01-07T08:43:24.144Z"
   },
   {
    "duration": 174,
    "start_time": "2022-01-07T08:43:26.792Z"
   },
   {
    "duration": 487,
    "start_time": "2022-01-07T08:43:33.053Z"
   },
   {
    "duration": 200,
    "start_time": "2022-01-07T08:43:35.162Z"
   },
   {
    "duration": 275,
    "start_time": "2022-01-07T08:43:37.320Z"
   },
   {
    "duration": 198,
    "start_time": "2022-01-07T08:43:39.875Z"
   },
   {
    "duration": 34,
    "start_time": "2022-01-07T08:43:44.858Z"
   },
   {
    "duration": 11,
    "start_time": "2022-01-07T08:43:46.780Z"
   },
   {
    "duration": 11,
    "start_time": "2022-01-07T08:43:48.169Z"
   },
   {
    "duration": 193,
    "start_time": "2022-01-07T08:43:53.810Z"
   },
   {
    "duration": 8,
    "start_time": "2022-01-07T08:43:57.162Z"
   },
   {
    "duration": 216,
    "start_time": "2022-01-07T08:44:01.554Z"
   },
   {
    "duration": 179,
    "start_time": "2022-01-07T08:44:03.478Z"
   },
   {
    "duration": 200,
    "start_time": "2022-01-07T08:44:06.835Z"
   },
   {
    "duration": 194,
    "start_time": "2022-01-07T08:44:09.045Z"
   },
   {
    "duration": 203,
    "start_time": "2022-01-07T08:44:11.479Z"
   },
   {
    "duration": 627,
    "start_time": "2022-01-09T08:38:51.151Z"
   },
   {
    "duration": 91,
    "start_time": "2022-01-09T08:38:51.780Z"
   },
   {
    "duration": 11,
    "start_time": "2022-01-09T08:38:51.873Z"
   },
   {
    "duration": 8,
    "start_time": "2022-01-09T08:38:51.885Z"
   },
   {
    "duration": 7,
    "start_time": "2022-01-09T08:38:51.895Z"
   },
   {
    "duration": 10,
    "start_time": "2022-01-09T08:38:51.903Z"
   },
   {
    "duration": 31,
    "start_time": "2022-01-09T08:38:51.914Z"
   },
   {
    "duration": 9,
    "start_time": "2022-01-09T08:38:51.947Z"
   },
   {
    "duration": 7,
    "start_time": "2022-01-09T08:38:51.958Z"
   },
   {
    "duration": 11,
    "start_time": "2022-01-09T08:38:51.967Z"
   },
   {
    "duration": 19,
    "start_time": "2022-01-09T08:38:51.980Z"
   },
   {
    "duration": 7,
    "start_time": "2022-01-09T08:38:52.001Z"
   },
   {
    "duration": 32,
    "start_time": "2022-01-09T08:38:52.010Z"
   },
   {
    "duration": 284,
    "start_time": "2022-01-09T08:38:52.044Z"
   },
   {
    "duration": 37,
    "start_time": "2022-01-09T08:38:52.330Z"
   },
   {
    "duration": 8,
    "start_time": "2022-01-09T08:38:52.369Z"
   },
   {
    "duration": 9,
    "start_time": "2022-01-09T08:38:52.379Z"
   },
   {
    "duration": 5,
    "start_time": "2022-01-09T08:38:52.390Z"
   },
   {
    "duration": 47,
    "start_time": "2022-01-09T08:38:52.397Z"
   },
   {
    "duration": 5,
    "start_time": "2022-01-09T08:38:52.446Z"
   },
   {
    "duration": 9,
    "start_time": "2022-01-09T08:38:52.453Z"
   },
   {
    "duration": 5,
    "start_time": "2022-01-09T08:38:52.464Z"
   },
   {
    "duration": 9,
    "start_time": "2022-01-09T08:38:52.474Z"
   },
   {
    "duration": 7,
    "start_time": "2022-01-09T08:38:52.485Z"
   },
   {
    "duration": 8,
    "start_time": "2022-01-09T08:38:52.494Z"
   },
   {
    "duration": 6,
    "start_time": "2022-01-09T08:38:52.540Z"
   },
   {
    "duration": 17,
    "start_time": "2022-01-09T08:38:52.548Z"
   },
   {
    "duration": 4,
    "start_time": "2022-01-09T08:38:52.567Z"
   },
   {
    "duration": 14,
    "start_time": "2022-01-09T08:38:52.572Z"
   },
   {
    "duration": 9,
    "start_time": "2022-01-09T08:38:52.588Z"
   },
   {
    "duration": 8,
    "start_time": "2022-01-09T08:38:52.598Z"
   },
   {
    "duration": 514,
    "start_time": "2022-01-09T08:38:52.608Z"
   },
   {
    "duration": 5,
    "start_time": "2022-01-09T08:38:53.123Z"
   },
   {
    "duration": 15,
    "start_time": "2022-01-09T08:38:53.129Z"
   },
   {
    "duration": 7,
    "start_time": "2022-01-09T08:38:53.146Z"
   },
   {
    "duration": 342,
    "start_time": "2022-01-09T08:38:53.155Z"
   },
   {
    "duration": 366,
    "start_time": "2022-01-09T08:38:53.499Z"
   },
   {
    "duration": 223,
    "start_time": "2022-01-09T08:38:53.867Z"
   },
   {
    "duration": 233,
    "start_time": "2022-01-09T08:38:54.092Z"
   },
   {
    "duration": 934,
    "start_time": "2022-01-09T08:38:54.327Z"
   },
   {
    "duration": 771,
    "start_time": "2022-01-09T08:38:55.263Z"
   },
   {
    "duration": 759,
    "start_time": "2022-01-09T08:38:56.035Z"
   },
   {
    "duration": 129,
    "start_time": "2022-01-09T08:38:56.796Z"
   },
   {
    "duration": 133,
    "start_time": "2022-01-09T08:38:56.927Z"
   },
   {
    "duration": 144,
    "start_time": "2022-01-09T08:38:57.062Z"
   },
   {
    "duration": 134,
    "start_time": "2022-01-09T08:38:57.208Z"
   },
   {
    "duration": 141,
    "start_time": "2022-01-09T08:38:57.344Z"
   },
   {
    "duration": 96,
    "start_time": "2022-01-09T08:38:57.487Z"
   },
   {
    "duration": 193,
    "start_time": "2022-01-09T08:38:57.585Z"
   },
   {
    "duration": 194,
    "start_time": "2022-01-09T08:38:57.780Z"
   },
   {
    "duration": 176,
    "start_time": "2022-01-09T08:38:57.976Z"
   },
   {
    "duration": 470,
    "start_time": "2022-01-09T08:38:58.154Z"
   },
   {
    "duration": 190,
    "start_time": "2022-01-09T08:38:58.626Z"
   },
   {
    "duration": 190,
    "start_time": "2022-01-09T08:38:58.817Z"
   },
   {
    "duration": 190,
    "start_time": "2022-01-09T08:38:59.009Z"
   },
   {
    "duration": 23,
    "start_time": "2022-01-09T08:38:59.200Z"
   },
   {
    "duration": 21,
    "start_time": "2022-01-09T08:38:59.224Z"
   },
   {
    "duration": 8,
    "start_time": "2022-01-09T08:38:59.246Z"
   },
   {
    "duration": 186,
    "start_time": "2022-01-09T08:38:59.256Z"
   },
   {
    "duration": 357,
    "start_time": "2022-01-09T08:38:59.444Z"
   },
   {
    "duration": -37,
    "start_time": "2022-01-09T08:38:59.840Z"
   },
   {
    "duration": -40,
    "start_time": "2022-01-09T08:38:59.843Z"
   },
   {
    "duration": -42,
    "start_time": "2022-01-09T08:38:59.846Z"
   },
   {
    "duration": -45,
    "start_time": "2022-01-09T08:38:59.850Z"
   },
   {
    "duration": -47,
    "start_time": "2022-01-09T08:38:59.853Z"
   },
   {
    "duration": 34,
    "start_time": "2022-01-09T08:39:42.662Z"
   },
   {
    "duration": 5,
    "start_time": "2022-01-09T08:39:52.877Z"
   },
   {
    "duration": 598,
    "start_time": "2022-01-09T08:41:21.762Z"
   },
   {
    "duration": 90,
    "start_time": "2022-01-09T08:41:22.362Z"
   },
   {
    "duration": 9,
    "start_time": "2022-01-09T08:41:22.454Z"
   },
   {
    "duration": 8,
    "start_time": "2022-01-09T08:41:22.465Z"
   },
   {
    "duration": 7,
    "start_time": "2022-01-09T08:41:22.475Z"
   },
   {
    "duration": 10,
    "start_time": "2022-01-09T08:41:22.483Z"
   },
   {
    "duration": 6,
    "start_time": "2022-01-09T08:41:22.494Z"
   },
   {
    "duration": 8,
    "start_time": "2022-01-09T08:41:22.502Z"
   },
   {
    "duration": 8,
    "start_time": "2022-01-09T08:41:22.541Z"
   },
   {
    "duration": 10,
    "start_time": "2022-01-09T08:41:22.551Z"
   },
   {
    "duration": 19,
    "start_time": "2022-01-09T08:41:22.562Z"
   },
   {
    "duration": 7,
    "start_time": "2022-01-09T08:41:22.583Z"
   },
   {
    "duration": 10,
    "start_time": "2022-01-09T08:41:22.592Z"
   },
   {
    "duration": 282,
    "start_time": "2022-01-09T08:41:22.604Z"
   },
   {
    "duration": 29,
    "start_time": "2022-01-09T08:41:22.888Z"
   },
   {
    "duration": 25,
    "start_time": "2022-01-09T08:41:22.919Z"
   },
   {
    "duration": 9,
    "start_time": "2022-01-09T08:41:22.946Z"
   },
   {
    "duration": 4,
    "start_time": "2022-01-09T08:41:22.956Z"
   },
   {
    "duration": 10,
    "start_time": "2022-01-09T08:41:22.962Z"
   },
   {
    "duration": 4,
    "start_time": "2022-01-09T08:41:22.973Z"
   },
   {
    "duration": 8,
    "start_time": "2022-01-09T08:41:22.978Z"
   },
   {
    "duration": 4,
    "start_time": "2022-01-09T08:41:22.987Z"
   },
   {
    "duration": 9,
    "start_time": "2022-01-09T08:41:22.995Z"
   },
   {
    "duration": 37,
    "start_time": "2022-01-09T08:41:23.006Z"
   },
   {
    "duration": 6,
    "start_time": "2022-01-09T08:41:23.045Z"
   },
   {
    "duration": 6,
    "start_time": "2022-01-09T08:41:23.053Z"
   },
   {
    "duration": 17,
    "start_time": "2022-01-09T08:41:23.061Z"
   },
   {
    "duration": 5,
    "start_time": "2022-01-09T08:41:23.080Z"
   },
   {
    "duration": 10,
    "start_time": "2022-01-09T08:41:23.087Z"
   },
   {
    "duration": 12,
    "start_time": "2022-01-09T08:41:23.099Z"
   },
   {
    "duration": 10,
    "start_time": "2022-01-09T08:41:23.112Z"
   },
   {
    "duration": 500,
    "start_time": "2022-01-09T08:41:23.123Z"
   },
   {
    "duration": 4,
    "start_time": "2022-01-09T08:41:23.625Z"
   },
   {
    "duration": 16,
    "start_time": "2022-01-09T08:41:23.631Z"
   },
   {
    "duration": 8,
    "start_time": "2022-01-09T08:41:23.649Z"
   },
   {
    "duration": 340,
    "start_time": "2022-01-09T08:41:23.659Z"
   },
   {
    "duration": 354,
    "start_time": "2022-01-09T08:41:24.001Z"
   },
   {
    "duration": 224,
    "start_time": "2022-01-09T08:41:24.357Z"
   },
   {
    "duration": 218,
    "start_time": "2022-01-09T08:41:24.583Z"
   },
   {
    "duration": 992,
    "start_time": "2022-01-09T08:41:24.803Z"
   },
   {
    "duration": 776,
    "start_time": "2022-01-09T08:41:25.798Z"
   },
   {
    "duration": 672,
    "start_time": "2022-01-09T08:41:26.576Z"
   },
   {
    "duration": 137,
    "start_time": "2022-01-09T08:41:27.250Z"
   },
   {
    "duration": 133,
    "start_time": "2022-01-09T08:41:27.389Z"
   },
   {
    "duration": 139,
    "start_time": "2022-01-09T08:41:27.523Z"
   },
   {
    "duration": 127,
    "start_time": "2022-01-09T08:41:27.663Z"
   },
   {
    "duration": 135,
    "start_time": "2022-01-09T08:41:27.792Z"
   },
   {
    "duration": 103,
    "start_time": "2022-01-09T08:41:27.929Z"
   },
   {
    "duration": 190,
    "start_time": "2022-01-09T08:41:28.034Z"
   },
   {
    "duration": 181,
    "start_time": "2022-01-09T08:41:28.225Z"
   },
   {
    "duration": 173,
    "start_time": "2022-01-09T08:41:28.408Z"
   },
   {
    "duration": 426,
    "start_time": "2022-01-09T08:41:28.583Z"
   },
   {
    "duration": 187,
    "start_time": "2022-01-09T08:41:29.010Z"
   },
   {
    "duration": 179,
    "start_time": "2022-01-09T08:41:29.199Z"
   },
   {
    "duration": 191,
    "start_time": "2022-01-09T08:41:29.379Z"
   },
   {
    "duration": 21,
    "start_time": "2022-01-09T08:41:29.571Z"
   },
   {
    "duration": 6,
    "start_time": "2022-01-09T08:41:29.593Z"
   },
   {
    "duration": 8,
    "start_time": "2022-01-09T08:41:29.601Z"
   },
   {
    "duration": 191,
    "start_time": "2022-01-09T08:41:29.611Z"
   },
   {
    "duration": 8,
    "start_time": "2022-01-09T08:41:29.803Z"
   },
   {
    "duration": 179,
    "start_time": "2022-01-09T08:41:29.812Z"
   },
   {
    "duration": 175,
    "start_time": "2022-01-09T08:41:29.993Z"
   },
   {
    "duration": 208,
    "start_time": "2022-01-09T08:41:30.170Z"
   },
   {
    "duration": 262,
    "start_time": "2022-01-09T08:41:30.380Z"
   },
   {
    "duration": 199,
    "start_time": "2022-01-09T08:41:30.644Z"
   }
  ],
  "kernelspec": {
   "display_name": "Python 3 (ipykernel)",
   "language": "python",
   "name": "python3"
  },
  "language_info": {
   "codemirror_mode": {
    "name": "ipython",
    "version": 3
   },
   "file_extension": ".py",
   "mimetype": "text/x-python",
   "name": "python",
   "nbconvert_exporter": "python",
   "pygments_lexer": "ipython3",
   "version": "3.9.5"
  },
  "toc": {
   "base_numbering": 1,
   "nav_menu": {},
   "number_sections": true,
   "sideBar": true,
   "skip_h1_title": true,
   "title_cell": "Содержание",
   "title_sidebar": "Contents",
   "toc_cell": true,
   "toc_position": {},
   "toc_section_display": true,
   "toc_window_display": false
  }
 },
 "nbformat": 4,
 "nbformat_minor": 2
}
